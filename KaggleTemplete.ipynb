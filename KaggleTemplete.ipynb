{
  "nbformat": 4,
  "nbformat_minor": 0,
  "metadata": {
    "colab": {
      "name": "KaggleTemplete.ipynb",
      "version": "0.3.2",
      "provenance": [],
      "include_colab_link": true
    },
    "kernelspec": {
      "name": "python3",
      "display_name": "Python 3"
    }
  },
  "cells": [
    {
      "cell_type": "markdown",
      "metadata": {
        "id": "view-in-github",
        "colab_type": "text"
      },
      "source": [
        "<a href=\"https://colab.research.google.com/github/pea-sys/Kaggle_Public/blob/master/KaggleTemplete.ipynb\" target=\"_parent\"><img src=\"https://colab.research.google.com/assets/colab-badge.svg\" alt=\"Open In Colab\"/></a>"
      ]
    },
    {
      "cell_type": "markdown",
      "metadata": {
        "id": "Hfiu8ufarXr-",
        "colab_type": "text"
      },
      "source": [
        "## Kaggle開発環境作成\n",
        "前提条件：kaggle.jsonをGoogleドライブのルート直下に配置\n",
        "\n",
        "一度KaggleAPIでデータセットダウンロード後にpickleファイルをgoogledriveにアップロード  \n",
        "\n",
        "テーブルコンペしか経験していないので実質テーブルコンペ専用\n",
        "\n"
      ]
    },
    {
      "cell_type": "code",
      "metadata": {
        "id": "yQYtZcZnrHwJ",
        "colab_type": "code",
        "colab": {}
      },
      "source": [
        "!pip install kaggle"
      ],
      "execution_count": 0,
      "outputs": []
    },
    {
      "cell_type": "code",
      "metadata": {
        "id": "2b7FZ5khr8Ul",
        "colab_type": "code",
        "colab": {}
      },
      "source": [
        "import google.colab\n",
        "import googleapiclient.discovery\n",
        "import googleapiclient.http\n",
        "google.colab.auth.authenticate_user()\n",
        "drive_service = googleapiclient.discovery.build('drive', 'v3')"
      ],
      "execution_count": 0,
      "outputs": []
    },
    {
      "cell_type": "code",
      "metadata": {
        "id": "xV4I9LTLFAfT",
        "colab_type": "code",
        "colab": {}
      },
      "source": [
        "def gdrive_dl(filename):\n",
        "  upload_filename = filename\n",
        "\n",
        "  file_list = drive_service.files().list(q=\"name='\" + upload_filename + \"'\").execute().get('files')\n",
        "\n",
        "  # ファイル ID を取得します。\n",
        "  file_id = None\n",
        "  for file in file_list:\n",
        "    if file.get('name') == upload_filename:\n",
        "      file_id = file.get('id')\n",
        "      break\n",
        "\n",
        "  if file_id is None:\n",
        "    # ファイル ID を取得できなかった場合はエラーメッセージを出力します。\n",
        "    print(upload_filename + ' が見つかりません.')\n",
        "  else:\n",
        "    # colab 環境へファイルをアップロードします。\n",
        "    with open(upload_filename, 'wb') as f:\n",
        "      request = drive_service.files().get_media(fileId=file_id)\n",
        "      media = googleapiclient.http.MediaIoBaseDownload(f, request)\n",
        "\n",
        "      done = False\n",
        "      while not done:\n",
        "        progress_status, done = media.next_chunk()\n",
        "        print(100*progress_status.progress(), end=\"\")\n",
        "        print(\"%完了\")\n",
        "\n",
        "    print('GoogleドライブからColab環境へのファイル取り込みが完了しました.')\n",
        "    \n",
        "def gdrive_up(filename):\n",
        "\n",
        "  file_metadata = {'name': filename,'mimeType': 'application/octet-stream'}\n",
        "  media = googleapiclient.http.MediaFileUpload(filename,mimetype='application/octet-stream',resumable=True)\n",
        "  created = drive_service.files().create(body=file_metadata,media_body=media, fields='id').execute()"
      ],
      "execution_count": 0,
      "outputs": []
    },
    {
      "cell_type": "code",
      "metadata": {
        "id": "lyJqZtzJsoe0",
        "colab_type": "code",
        "colab": {}
      },
      "source": [
        "gdrive_dl(\"kaggle.json\")"
      ],
      "execution_count": 0,
      "outputs": []
    },
    {
      "cell_type": "code",
      "metadata": {
        "id": "fKRbuzVWuFJ3",
        "colab_type": "code",
        "colab": {}
      },
      "source": [
        "# kaggle.jsonへの読み書き権限を与える\n",
        "!chmod 600 /root/.kaggle/kaggle.json"
      ],
      "execution_count": 0,
      "outputs": []
    },
    {
      "cell_type": "code",
      "metadata": {
        "id": "mLya4C8CvhDg",
        "colab_type": "code",
        "colab": {}
      },
      "source": [
        "!kaggle competitions list --group 'entered'"
      ],
      "execution_count": 0,
      "outputs": []
    },
    {
      "cell_type": "code",
      "metadata": {
        "id": "PcHNVq4mviOJ",
        "colab_type": "code",
        "colab": {}
      },
      "source": [
        "!kaggle competitions download -c 'Datasetをダウンロードしたいコンペ名'"
      ],
      "execution_count": 0,
      "outputs": []
    },
    {
      "cell_type": "code",
      "metadata": {
        "id": "dmedTvmCv8pr",
        "colab_type": "code",
        "colab": {}
      },
      "source": [
        "!df -h"
      ],
      "execution_count": 0,
      "outputs": []
    },
    {
      "cell_type": "code",
      "metadata": {
        "id": "AHahBNxUv_b-",
        "colab_type": "code",
        "colab": {}
      },
      "source": [
        "!ls "
      ],
      "execution_count": 0,
      "outputs": []
    },
    {
      "cell_type": "markdown",
      "metadata": {
        "id": "pO63vSbk1pn2",
        "colab_type": "text"
      },
      "source": [
        "## Common Library Import"
      ]
    },
    {
      "cell_type": "code",
      "metadata": {
        "id": "vQkWiLF416J3",
        "colab_type": "code",
        "colab": {}
      },
      "source": [
        "import numpy as np\n",
        "import pandas as pd\n",
        "import matplotlib.pyplot as plt"
      ],
      "execution_count": 0,
      "outputs": []
    },
    {
      "cell_type": "markdown",
      "metadata": {
        "id": "lU2tpGHtwGzD",
        "colab_type": "text"
      },
      "source": [
        "## LINE通知\n",
        "[アクセストークン取得](https://notify-bot.line.me/my/ )  \n",
        "長時間かかる処理はLINEに終了通知"
      ]
    },
    {
      "cell_type": "code",
      "metadata": {
        "id": "xTcHIs_fwAAD",
        "colab_type": "code",
        "colab": {}
      },
      "source": [
        "import requests\n",
        "\n",
        "def send_line_notification(message):\n",
        "    line_token = 'アクセストークン入力'  # 終わったら無効化する\n",
        "    endpoint = 'https://notify-api.line.me/api/notify'\n",
        "    message = \"\\n{}\".format(message)\n",
        "    payload = {'message': message}\n",
        "    headers = {'Authorization': 'Bearer {}'.format(line_token)}\n",
        "    requests.post(endpoint, data=payload, headers=headers)"
      ],
      "execution_count": 0,
      "outputs": []
    },
    {
      "cell_type": "markdown",
      "metadata": {
        "id": "O28BUjqa0ZDV",
        "colab_type": "text"
      },
      "source": [
        "## DataFrame Memory Reduce\n",
        "pandasのDataFrameはintならnp.int64に、floatならnp.float64がデフォルト。データセットが大きくなってくると、DataFrameがメモリを圧迫して学習を思うように進められない。\n",
        "データロード時の型指定では特徴追加等に対応しきれないので取り回しが効く関数を使用\n"
      ]
    },
    {
      "cell_type": "code",
      "metadata": {
        "id": "MXPKMOgA1UOB",
        "colab_type": "code",
        "colab": {}
      },
      "source": [
        "def reduce_mem_usage(df, verbose=True):\n",
        "    numerics = ['int16', 'int32', 'int64', 'float16', 'float32', 'float64']\n",
        "    start_mem = df.memory_usage().sum() / 1024**2    \n",
        "    for col in df.columns:\n",
        "        col_type = df[col].dtypes\n",
        "        if col_type in numerics:\n",
        "            c_min = df[col].min()\n",
        "            c_max = df[col].max()\n",
        "            if str(col_type)[:3] == 'int':\n",
        "                if c_min > np.iinfo(np.int8).min and c_max < np.iinfo(np.int8).max:\n",
        "                    df[col] = df[col].astype(np.int8)\n",
        "                elif c_min > np.iinfo(np.int16).min and c_max < np.iinfo(np.int16).max:\n",
        "                    df[col] = df[col].astype(np.int16)\n",
        "                elif c_min > np.iinfo(np.int32).min and c_max < np.iinfo(np.int32).max:\n",
        "                    df[col] = df[col].astype(np.int32)\n",
        "                elif c_min > np.iinfo(np.int64).min and c_max < np.iinfo(np.int64).max:\n",
        "                    df[col] = df[col].astype(np.int64)  \n",
        "            else:\n",
        "                if c_min > np.finfo(np.float16).min and c_max < np.finfo(np.float16).max:\n",
        "                    df[col] = df[col].astype(np.float16)\n",
        "                elif c_min > np.finfo(np.float32).min and c_max < np.finfo(np.float32).max:\n",
        "                    df[col] = df[col].astype(np.float32)\n",
        "                else:\n",
        "                    df[col] = df[col].astype(np.float64)    \n",
        "    end_mem = df.memory_usage().sum() / 1024**2\n",
        "    if verbose: print('Mem. usage decreased to {:5.2f} Mb ({:.1f}% reduction)'.format(end_mem, 100 * (start_mem - end_mem) / start_mem))\n",
        "    return df"
      ],
      "execution_count": 0,
      "outputs": []
    },
    {
      "cell_type": "markdown",
      "metadata": {
        "id": "PtLy3G5XGACM",
        "colab_type": "text"
      },
      "source": [
        "### DatasetLoad\n",
        "メモリー削減済みDataFrameをGoogleDriveに保存しておくことで\n",
        "データ読み込みを高速化"
      ]
    },
    {
      "cell_type": "code",
      "metadata": {
        "id": "KcmEl9d4GEtp",
        "colab_type": "code",
        "colab": {}
      },
      "source": [
        "# コンペ内容によって適宜書き換え\n",
        "# 初回は失敗する\n",
        "gdrive_dl(\"sample_submission.pickle\")\n",
        "gdrive_dl(\"train.pickle\")\n",
        "gdrive_dl(\"test.pickle\")"
      ],
      "execution_count": 0,
      "outputs": []
    },
    {
      "cell_type": "code",
      "metadata": {
        "id": "iwN9QMtpGOSU",
        "colab_type": "code",
        "colab": {}
      },
      "source": [
        "%%time\n",
        "import pickle\n",
        "\n",
        "if not os.path.isfile('sample_submission.pickle'):\n",
        "  sub = reduce_mem_usage(pd.read_csv('sample_submission.csv.zip'))\n",
        "  sub.to_pickle('sample_submission.pickle')\n",
        "  gdrive_up('sample_submission.pickle')\n",
        "else:\n",
        "  sub = pd.read_pickle('sample_submission.pickle')\n",
        "\n",
        "if not os.path.isfile('train.pickle'):\n",
        "  train_identity = pd.read_csv('train_identity.csv.zip')\n",
        "  train_transaction = pd.read_csv('train_transaction.csv.zip')\n",
        "  train = reduce_mem_usage(pd.merge(train_transaction, train_identity, on='TransactionID', how='left'))\n",
        "  train.to_pickle('train.pickle')\n",
        "  del train_identity,train_transaction\n",
        "  gdrive_up('train.pickle')\n",
        "else:\n",
        "  train = pd.read_pickle('train.pickle') \n",
        " \n",
        "if not os.path.isfile('test.pickle'):\n",
        "  test_identity = pd.read_csv('test_identity.csv.zip')\n",
        "  test_transaction = pd.read_csv('test_transaction.csv.zip')\n",
        "  test = reduce_mem_usage(pd.merge(test_transaction, test_identity, on='TransactionID', how='left'))\n",
        "  test.to_pickle('test.pickle')\n",
        "  del test_identity,test_transaction\n",
        "  gdrive_up('test.pickle')\n",
        "else:\n",
        "  test = pd.read_pickle('test.pickle') \n",
        "  "
      ],
      "execution_count": 0,
      "outputs": []
    },
    {
      "cell_type": "markdown",
      "metadata": {
        "id": "BzKI3Po7xUku",
        "colab_type": "text"
      },
      "source": [
        "## Data OverView"
      ]
    },
    {
      "cell_type": "code",
      "metadata": {
        "id": "xTdkBbnFxYdu",
        "colab_type": "code",
        "colab": {}
      },
      "source": [
        "## Dataframeのdescribe + 欠損割合\n",
        "def describe_add_isnull(df):\n",
        "  mis_val = df.isnull().sum()\n",
        "  mis_val_percent = 100 * mis_val / len(df)\n",
        "  mis_val_table = pd.DataFrame(mis_val_percent)\n",
        "  mis_val_table_ren_columns = mis_val_table.rename(columns={0:\"Missing % of Total Values\"})\n",
        "  return pd.concat([df.describe(include='all'),mis_val_table_ren_columns.T])"
      ],
      "execution_count": 0,
      "outputs": []
    },
    {
      "cell_type": "code",
      "metadata": {
        "id": "6HxqnIApxoWn",
        "colab_type": "code",
        "colab": {}
      },
      "source": [
        ""
      ],
      "execution_count": 0,
      "outputs": []
    }
  ]
}