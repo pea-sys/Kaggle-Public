{
 "cells": [
  {
   "cell_type": "code",
   "execution_count": 1,
   "metadata": {
    "execution": {
     "iopub.execute_input": "2021-01-04T00:59:16.422165Z",
     "iopub.status.busy": "2021-01-04T00:59:16.421225Z",
     "iopub.status.idle": "2021-01-04T00:59:27.498803Z",
     "shell.execute_reply": "2021-01-04T00:59:27.498185Z"
    },
    "papermill": {
     "duration": 11.106888,
     "end_time": "2021-01-04T00:59:27.498944",
     "exception": false,
     "start_time": "2021-01-04T00:59:16.392056",
     "status": "completed"
    },
    "tags": []
   },
   "outputs": [
    {
     "name": "stdout",
     "output_type": "stream",
     "text": [
      "Processing /kaggle/input/python-datatable/datatable-0.11.0-cp37-cp37m-manylinux2010_x86_64.whl\r\n",
      "Installing collected packages: datatable\r\n",
      "Successfully installed datatable-0.11.0\r\n",
      "\u001b[33mWARNING: You are using pip version 20.2.4; however, version 20.3.3 is available.\r\n",
      "You should consider upgrading via the '/opt/conda/bin/python3.7 -m pip install --upgrade pip' command.\u001b[0m\r\n"
     ]
    }
   ],
   "source": [
    "!pip install ../input/python-datatable/datatable-0.11.0-cp37-cp37m-manylinux2010_x86_64.whl"
   ]
  },
  {
   "cell_type": "code",
   "execution_count": 2,
   "metadata": {
    "_cell_guid": "b1076dfc-b9ad-4769-8c92-a6c4dae69d19",
    "_uuid": "8f2839f25d086af736a60e9eeb907d3b93b6e0e5",
    "execution": {
     "iopub.execute_input": "2021-01-04T00:59:27.544928Z",
     "iopub.status.busy": "2021-01-04T00:59:27.543923Z",
     "iopub.status.idle": "2021-01-04T00:59:27.599306Z",
     "shell.execute_reply": "2021-01-04T00:59:27.598715Z"
    },
    "papermill": {
     "duration": 0.081278,
     "end_time": "2021-01-04T00:59:27.599446",
     "exception": false,
     "start_time": "2021-01-04T00:59:27.518168",
     "status": "completed"
    },
    "tags": []
   },
   "outputs": [
    {
     "data": {
      "text/html": [
       "<style type='text/css'>\n",
       ".datatable table.frame { margin-bottom: 0; }\n",
       ".datatable table.frame thead { border-bottom: none; }\n",
       ".datatable table.frame tr.coltypes td {  color: #FFFFFF;  line-height: 6px;  padding: 0 0.5em;}\n",
       ".datatable .bool    { background: #DDDD99; }\n",
       ".datatable .object  { background: #565656; }\n",
       ".datatable .int     { background: #5D9E5D; }\n",
       ".datatable .float   { background: #4040CC; }\n",
       ".datatable .str     { background: #CC4040; }\n",
       ".datatable .row_index {  background: var(--jp-border-color3);  border-right: 1px solid var(--jp-border-color0);  color: var(--jp-ui-font-color3);  font-size: 9px;}\n",
       ".datatable .frame tr.coltypes .row_index {  background: var(--jp-border-color0);}\n",
       ".datatable th:nth-child(2) { padding-left: 12px; }\n",
       ".datatable .hellipsis {  color: var(--jp-cell-editor-border-color);}\n",
       ".datatable .vellipsis {  background: var(--jp-layout-color0);  color: var(--jp-cell-editor-border-color);}\n",
       ".datatable .na {  color: var(--jp-cell-editor-border-color);  font-size: 80%;}\n",
       ".datatable .footer { font-size: 9px; }\n",
       ".datatable .frame_dimensions {  background: var(--jp-border-color3);  border-top: 1px solid var(--jp-border-color0);  color: var(--jp-ui-font-color3);  display: inline-block;  opacity: 0.6;  padding: 1px 10px 1px 5px;}\n",
       "</style>\n"
      ],
      "text/plain": [
       "<IPython.core.display.HTML object>"
      ]
     },
     "metadata": {},
     "output_type": "display_data"
    }
   ],
   "source": [
    "import datatable as dt\n",
    "import pandas as pd\n",
    "import numpy as np\n",
    "from datatable import (dt, sd, f, by, ifelse, update, sort, count, min, max, mean, sum, rowsum)\n",
    "import riiideducation\n",
    "import matplotlib.pyplot as plt"
   ]
  },
  {
   "cell_type": "code",
   "execution_count": 3,
   "metadata": {
    "_cell_guid": "79c7e3d0-c299-4dcb-8224-4455121ee9b0",
    "_uuid": "d629ff2d2480ee46fbb7e2d37f6b5fab8052498a",
    "execution": {
     "iopub.execute_input": "2021-01-04T00:59:27.642547Z",
     "iopub.status.busy": "2021-01-04T00:59:27.641769Z",
     "iopub.status.idle": "2021-01-04T00:59:27.645946Z",
     "shell.execute_reply": "2021-01-04T00:59:27.645165Z"
    },
    "papermill": {
     "duration": 0.027714,
     "end_time": "2021-01-04T00:59:27.646118",
     "exception": false,
     "start_time": "2021-01-04T00:59:27.618404",
     "status": "completed"
    },
    "tags": []
   },
   "outputs": [],
   "source": [
    "TARGET = 'answered_correctly'"
   ]
  },
  {
   "cell_type": "code",
   "execution_count": 4,
   "metadata": {
    "execution": {
     "iopub.execute_input": "2021-01-04T00:59:27.707486Z",
     "iopub.status.busy": "2021-01-04T00:59:27.706562Z",
     "iopub.status.idle": "2021-01-04T01:08:36.375592Z",
     "shell.execute_reply": "2021-01-04T01:08:36.374135Z"
    },
    "papermill": {
     "duration": 548.710324,
     "end_time": "2021-01-04T01:08:36.375835",
     "exception": false,
     "start_time": "2021-01-04T00:59:27.665511",
     "status": "completed"
    },
    "tags": []
   },
   "outputs": [],
   "source": [
    "# cumsum\n",
    "# 質問\n",
    "# 正答数\n",
    "# パート別質問\n",
    "# パート別正答数\n",
    "question_df = pd.read_csv('/kaggle/input/riiid-test-answer-prediction/questions.csv')[['question_id','part']]\n",
    "question_df['part'] = question_df['part'] - 1\n",
    "question_df['part'] = question_df['part'].astype(np.int8)\n",
    "cumsum_df = pd.read_pickle('../input/riiid-train-data-multiple-formats/riiid_train.pkl.gzip')[['row_id','user_id','content_type_id','content_id','answered_correctly']]\n",
    "cumsum_df['answered_correctly'] = cumsum_df['answered_correctly'].astype(np.int8)\n",
    "cumsum_df = cumsum_df.loc[cumsum_df['content_type_id'] == 0]\n",
    "del cumsum_df['content_type_id']\n",
    "cumsum_df = cumsum_df.set_index('content_id')\n",
    "cumsum_df = cumsum_df.merge(question_df,how='left',left_index=True, right_on = 'question_id')\n",
    "\n",
    "cumsum_df['u_cumsum'] = 1\n",
    "cumsum_df['u_cumsum'] = cumsum_df.groupby('user_id')['u_cumsum'].cumsum().astype(np.int16)\n",
    "cumsum_df['u_target_cumsum'] = 1\n",
    "cumsum_df['u_target_cumsum'] = cumsum_df.groupby(['user_id','answered_correctly'])['u_target_cumsum'].cumsum().astype(np.int16)\n",
    "cumsum_df.loc[cumsum_df['answered_correctly']==0, 'u_target_cumsum'] = 0\n",
    "\n",
    "\n",
    "cumsum_df['up_cumsum'] = 1\n",
    "cumsum_df['up_cumsum'] = cumsum_df.groupby(['user_id','part'])['up_cumsum'].cumsum().astype(np.int16)\n",
    "cumsum_df['up_target_cumsum'] = 1\n",
    "cumsum_df['up_target_cumsum'] = cumsum_df.groupby(['user_id','answered_correctly','part'])['up_target_cumsum'].cumsum().astype(np.int16)\n",
    "cumsum_df['uq_cumsum'] = 1\n",
    "cumsum_df['uq_cumsum'] = cumsum_df.groupby(['user_id','question_id'])['uq_cumsum'].cumsum().astype(np.int16)\n",
    "cumsum_df['u_cumsum_mean'] = cumsum_df['u_target_cumsum'] / cumsum_df['u_cumsum']\n",
    "cumsum_df['up_cumsum_mean'] = cumsum_df['up_target_cumsum'] / cumsum_df['up_cumsum']\n",
    "cumsum_df[['row_id','u_cumsum','u_target_cumsum','up_cumsum','up_target_cumsum','uq_cumsum']].to_csv('cumsum.csv')\n",
    "del cumsum_df, question_df"
   ]
  },
  {
   "cell_type": "code",
   "execution_count": 5,
   "metadata": {
    "execution": {
     "iopub.execute_input": "2021-01-04T01:08:36.422537Z",
     "iopub.status.busy": "2021-01-04T01:08:36.421582Z",
     "iopub.status.idle": "2021-01-04T01:08:36.424837Z",
     "shell.execute_reply": "2021-01-04T01:08:36.425419Z"
    },
    "papermill": {
     "duration": 0.028763,
     "end_time": "2021-01-04T01:08:36.425605",
     "exception": false,
     "start_time": "2021-01-04T01:08:36.396842",
     "status": "completed"
    },
    "tags": []
   },
   "outputs": [],
   "source": [
    "#cumsum_df['continuous_target'] = cumsum_df['user_id'].astype(str) + cumsum_df['answered_correctly'].astype(str)\n",
    "#y = cumsum_df['continuous_target']\n",
    "#cumsum_df['new'] = y.groupby((y != y.shift()).cumsum()).cumcount() + 1"
   ]
  },
  {
   "cell_type": "code",
   "execution_count": 6,
   "metadata": {
    "execution": {
     "iopub.execute_input": "2021-01-04T01:08:36.472321Z",
     "iopub.status.busy": "2021-01-04T01:08:36.471557Z",
     "iopub.status.idle": "2021-01-04T01:08:36.524020Z",
     "shell.execute_reply": "2021-01-04T01:08:36.524743Z"
    },
    "papermill": {
     "duration": 0.079273,
     "end_time": "2021-01-04T01:08:36.524946",
     "exception": false,
     "start_time": "2021-01-04T01:08:36.445673",
     "status": "completed"
    },
    "tags": []
   },
   "outputs": [],
   "source": [
    "train = dt.fread(\"../input/riiid-train-data-multiple-formats/riiid_train.jay\")\n",
    "questions = dt.fread(\"../input/riiid-test-answer-prediction/questions.csv\")\n",
    "lectures_df = pd.read_csv('/kaggle/input/riiid-test-answer-prediction/lectures.csv')"
   ]
  },
  {
   "cell_type": "markdown",
   "metadata": {
    "papermill": {
     "duration": 0.022418,
     "end_time": "2021-01-04T01:08:36.571356",
     "exception": false,
     "start_time": "2021-01-04T01:08:36.548938",
     "status": "completed"
    },
    "tags": []
   },
   "source": [
    "# Preprocess"
   ]
  },
  {
   "cell_type": "code",
   "execution_count": 7,
   "metadata": {
    "execution": {
     "iopub.execute_input": "2021-01-04T01:08:36.628136Z",
     "iopub.status.busy": "2021-01-04T01:08:36.627266Z",
     "iopub.status.idle": "2021-01-04T01:08:36.630819Z",
     "shell.execute_reply": "2021-01-04T01:08:36.631935Z"
    },
    "papermill": {
     "duration": 0.040904,
     "end_time": "2021-01-04T01:08:36.632162",
     "exception": false,
     "start_time": "2021-01-04T01:08:36.591258",
     "status": "completed"
    },
    "tags": []
   },
   "outputs": [],
   "source": [
    "questions['part'] = f.part - 1\n",
    "questions.names = {'question_id':'content_id'}\n",
    "questions.key = \"content_id\"\n",
    "train['timestamp'] = f.timestamp / 1000\n",
    "train['prior_question_elapsed_time'] = f.prior_question_elapsed_time / 1000\n",
    "#del train['row_id']"
   ]
  },
  {
   "cell_type": "code",
   "execution_count": 8,
   "metadata": {
    "execution": {
     "iopub.execute_input": "2021-01-04T01:08:36.696378Z",
     "iopub.status.busy": "2021-01-04T01:08:36.695678Z",
     "iopub.status.idle": "2021-01-04T01:08:36.707163Z",
     "shell.execute_reply": "2021-01-04T01:08:36.706590Z"
    },
    "papermill": {
     "duration": 0.050417,
     "end_time": "2021-01-04T01:08:36.707297",
     "exception": false,
     "start_time": "2021-01-04T01:08:36.656880",
     "status": "completed"
    },
    "tags": []
   },
   "outputs": [],
   "source": [
    "lectures_df['type_of'] = lectures_df['type_of'].replace('solving question', 'solving_question')\n",
    "lectures_df = pd.get_dummies(lectures_df, columns=['part', 'type_of'])\n",
    "part_lectures_columns = [column for column in lectures_df.columns if column.startswith('part')]\n",
    "types_of_lectures_columns = [column for column in lectures_df.columns if column.startswith('type_of_')]\n",
    "lectures_df.to_csv('tmp_lectures_df.csv',index = 'lecture_id')"
   ]
  },
  {
   "cell_type": "markdown",
   "metadata": {
    "papermill": {
     "duration": 0.021173,
     "end_time": "2021-01-04T01:08:36.748547",
     "exception": false,
     "start_time": "2021-01-04T01:08:36.727374",
     "status": "completed"
    },
    "tags": []
   },
   "source": [
    "# StatQuestionData"
   ]
  },
  {
   "cell_type": "code",
   "execution_count": 9,
   "metadata": {
    "execution": {
     "iopub.execute_input": "2021-01-04T01:08:36.793888Z",
     "iopub.status.busy": "2021-01-04T01:08:36.792787Z",
     "iopub.status.idle": "2021-01-04T01:08:55.810879Z",
     "shell.execute_reply": "2021-01-04T01:08:55.811541Z"
    },
    "papermill": {
     "duration": 19.042333,
     "end_time": "2021-01-04T01:08:55.811751",
     "exception": false,
     "start_time": "2021-01-04T01:08:36.769418",
     "status": "completed"
    },
    "tags": []
   },
   "outputs": [],
   "source": [
    "train = train[dt.f.content_type_id == 0, :]\n",
    "del train['content_type_id']\n",
    "train = train[:, :, dt.join(questions)]"
   ]
  },
  {
   "cell_type": "code",
   "execution_count": 10,
   "metadata": {
    "execution": {
     "iopub.execute_input": "2021-01-04T01:09:40.133412Z",
     "iopub.status.busy": "2021-01-04T01:09:40.073174Z",
     "iopub.status.idle": "2021-01-04T01:12:04.530915Z",
     "shell.execute_reply": "2021-01-04T01:12:04.531597Z"
    },
    "papermill": {
     "duration": 188.694572,
     "end_time": "2021-01-04T01:12:04.531824",
     "exception": false,
     "start_time": "2021-01-04T01:08:55.837252",
     "status": "completed"
    },
    "tags": []
   },
   "outputs": [],
   "source": [
    "# shift feature \n",
    "wrk = train[0, :, by('user_id','timestamp')]\n",
    "wrk[:, update(shift_timestamp = dt.shift(f.timestamp),n=1), by(\"user_id\")]\n",
    "wrk = wrk[:, :, sort(-f.user_id, -f.timestamp)]\n",
    "wrk[:, update(prior_question_elapsed_time = dt.shift(f.prior_question_elapsed_time),n=1), by(\"user_id\")]\n",
    "wrk[:, update(prior_question_had_explanation = dt.shift(f.prior_question_had_explanation),n=1), by(\"user_id\")]\n",
    "wrk[:, update(content_id = dt.shift(f.content_id),n=1), by(\"user_id\")]\n",
    "wrk = wrk[:, :, sort(f.user_id, f.timestamp)]\n",
    "wrk['interval'] = f.timestamp - f.shift_timestamp\n",
    "wrk.names = {'content_id':'prior_content_id'}\n",
    "wrk = wrk[:,['user_id','timestamp','interval','prior_question_elapsed_time','prior_question_had_explanation','prior_content_id']]\n",
    "wrk.key= ([\"user_id\",\"timestamp\"])\n",
    "del train['prior_question_elapsed_time'],train['prior_question_had_explanation']\n",
    "train = train[:,:,dt.join(wrk)]"
   ]
  },
  {
   "cell_type": "code",
   "execution_count": 11,
   "metadata": {
    "execution": {
     "iopub.execute_input": "2021-01-04T01:12:27.061171Z",
     "iopub.status.busy": "2021-01-04T01:12:11.715501Z",
     "iopub.status.idle": "2021-01-04T01:12:35.998561Z",
     "shell.execute_reply": "2021-01-04T01:12:35.999279Z"
    },
    "papermill": {
     "duration": 31.442741,
     "end_time": "2021-01-04T01:12:35.999500",
     "exception": false,
     "start_time": "2021-01-04T01:12:04.556759",
     "status": "completed"
    },
    "tags": []
   },
   "outputs": [],
   "source": [
    "content_count = train[:,['content_id','prior_content_id']][:, {'content_count': count(f.prior_content_id)},('content_id')]\n",
    "content_count.key= ([\"content_id\"])\n",
    "prior_content_count = train[:,['content_id','prior_content_id','user_id']][:, {'prior_count': count(f.user_id)},by('content_id','prior_content_id')]\n",
    "prior_content_count = prior_content_count[:,:,dt.join(content_count)]\n",
    "prior_content_count['prior_position_per'] = f.prior_count / f.content_count\n",
    "prior_content_count = prior_content_count[dt.f.prior_position_per > 0.001, :]\n",
    "prior_content_count[:,['content_id','prior_content_id','prior_position_per']].to_csv('prior_position_per.csv')\n",
    "del content_count,prior_content_count"
   ]
  },
  {
   "cell_type": "markdown",
   "metadata": {
    "papermill": {
     "duration": 0.020442,
     "end_time": "2021-01-04T01:12:36.043871",
     "exception": false,
     "start_time": "2021-01-04T01:12:36.023429",
     "status": "completed"
    },
    "tags": []
   },
   "source": [
    "# StatUserData"
   ]
  },
  {
   "cell_type": "code",
   "execution_count": 12,
   "metadata": {
    "execution": {
     "iopub.execute_input": "2021-01-04T01:13:25.600599Z",
     "iopub.status.busy": "2021-01-04T01:13:25.569927Z",
     "iopub.status.idle": "2021-01-04T01:13:47.958796Z",
     "shell.execute_reply": "2021-01-04T01:13:47.959578Z"
    },
    "papermill": {
     "duration": 71.895085,
     "end_time": "2021-01-04T01:13:47.959788",
     "exception": false,
     "start_time": "2021-01-04T01:12:36.064703",
     "status": "completed"
    },
    "tags": []
   },
   "outputs": [
    {
     "data": {
      "text/html": [
       "<div class='datatable'>\n",
       "  <table class='frame'>\n",
       "  <thead>\n",
       "    <tr class='colnames'><td class='row_index'></td><th>content_id</th><th>bundle_id</th><th>correct_answer</th><th>part</th><th>tags</th><th>q_elapsed_time_mean</th><th>q_elapsed_time_std</th><th>q_correct_mean</th><th>q_count</th><th>q_task_id_mean</th><th>q_had_explanation_mean</th><th>u_numquie</th><th>q_repeat_per</th></tr>\n",
       "    <tr class='coltypes'><td class='row_index'></td><td class='int' title='int32'>&#x25AA;&#x25AA;&#x25AA;&#x25AA;</td><td class='int' title='int32'>&#x25AA;&#x25AA;&#x25AA;&#x25AA;</td><td class='int' title='int32'>&#x25AA;&#x25AA;&#x25AA;&#x25AA;</td><td class='int' title='int32'>&#x25AA;&#x25AA;&#x25AA;&#x25AA;</td><td class='str' title='str32'>&#x25AA;&#x25AA;&#x25AA;&#x25AA;</td><td class='float' title='float64'>&#x25AA;&#x25AA;&#x25AA;&#x25AA;&#x25AA;&#x25AA;&#x25AA;&#x25AA;</td><td class='float' title='float64'>&#x25AA;&#x25AA;&#x25AA;&#x25AA;&#x25AA;&#x25AA;&#x25AA;&#x25AA;</td><td class='float' title='float64'>&#x25AA;&#x25AA;&#x25AA;&#x25AA;&#x25AA;&#x25AA;&#x25AA;&#x25AA;</td><td class='int' title='int64'>&#x25AA;&#x25AA;&#x25AA;&#x25AA;&#x25AA;&#x25AA;&#x25AA;&#x25AA;</td><td class='float' title='float64'>&#x25AA;&#x25AA;&#x25AA;&#x25AA;&#x25AA;&#x25AA;&#x25AA;&#x25AA;</td><td class='float' title='float64'>&#x25AA;&#x25AA;&#x25AA;&#x25AA;&#x25AA;&#x25AA;&#x25AA;&#x25AA;</td><td class='int' title='int64'>&#x25AA;&#x25AA;&#x25AA;&#x25AA;&#x25AA;&#x25AA;&#x25AA;&#x25AA;</td><td class='float' title='float64'>&#x25AA;&#x25AA;&#x25AA;&#x25AA;&#x25AA;&#x25AA;&#x25AA;&#x25AA;</td></tr>\n",
       "  </thead>\n",
       "  <tbody>\n",
       "    <tr><td class='row_index'>0</td><td>0</td><td>0</td><td>0</td><td>0</td><td>51 131 162 38</td><td>19.6937</td><td>8.43723</td><td>0.907721</td><td>6903</td><td>757.922</td><td>0.952844</td><td>6380</td><td>0.0757642</td></tr>\n",
       "    <tr><td class='row_index'>1</td><td>1</td><td>1</td><td>1</td><td>0</td><td>131 36 81</td><td>19.3207</td><td>10.207</td><td>0.890646</td><td>7398</td><td>791.92</td><td>0.981045</td><td>6829</td><td>0.0769127</td></tr>\n",
       "    <tr><td class='row_index'>2</td><td>2</td><td>2</td><td>0</td><td>0</td><td>131 101 162 92</td><td>24.5748</td><td>10.3662</td><td>0.554281</td><td>44905</td><td>369.118</td><td>0.902114</td><td>38322</td><td>0.146598</td></tr>\n",
       "    <tr><td class='row_index'>3</td><td>3</td><td>3</td><td>0</td><td>0</td><td>131 149 162 29</td><td>21.629</td><td>9.29408</td><td>0.779437</td><td>22973</td><td>529.397</td><td>0.969317</td><td>20643</td><td>0.101423</td></tr>\n",
       "    <tr><td class='row_index'>4</td><td>4</td><td>4</td><td>3</td><td>0</td><td>131 5 162 38</td><td>22.0469</td><td>9.69508</td><td>0.613215</td><td>31736</td><td>378.574</td><td>0.533054</td><td>29006</td><td>0.0860222</td></tr>\n",
       "    <tr><td class='row_index'>5</td><td>5</td><td>5</td><td>2</td><td>0</td><td>131 149 162 81</td><td>22.1366</td><td>7.59776</td><td>0.861828</td><td>9727</td><td>725.362</td><td>0.979207</td><td>8957</td><td>0.0791611</td></tr>\n",
       "    <tr><td class='row_index'>6</td><td>6</td><td>6</td><td>2</td><td>0</td><td>10 94 162 92</td><td>23.9968</td><td>10.509</td><td>0.474545</td><td>56707</td><td>334.374</td><td>0.716599</td><td>47199</td><td>0.167669</td></tr>\n",
       "    <tr><td class='row_index'>7</td><td>7</td><td>7</td><td>0</td><td>0</td><td>61 110 162 29</td><td>21.8871</td><td>8.73641</td><td>0.866024</td><td>16585</td><td>458.558</td><td>0.986109</td><td>15167</td><td>0.0854989</td></tr>\n",
       "    <tr><td class='row_index'>8</td><td>8</td><td>8</td><td>3</td><td>0</td><td>131 13 162 92</td><td>22.8168</td><td>10.6995</td><td>0.90662</td><td>8535</td><td>660.708</td><td>0.968765</td><td>7895</td><td>0.0749854</td></tr>\n",
       "    <tr><td class='row_index'>9</td><td>9</td><td>9</td><td>3</td><td>0</td><td>10 164 81</td><td>24.129</td><td>9.38073</td><td>0.303912</td><td>47346</td><td>462.339</td><td>0.978974</td><td>35147</td><td>0.257656</td></tr>\n",
       "  </tbody>\n",
       "  </table>\n",
       "  <div class='footer'>\n",
       "    <div class='frame_dimensions'>10 rows &times; 13 columns</div>\n",
       "  </div>\n",
       "</div>\n"
      ],
      "text/plain": [
       "<Frame#7f677db6cd50 10x13>"
      ]
     },
     "execution_count": 12,
     "metadata": {},
     "output_type": "execute_result"
    }
   ],
   "source": [
    "###  質問統計値\n",
    "# 回答平均時間\n",
    "# 回答時間のばらつき\n",
    "# 正答率\n",
    "# 回答数\n",
    "# 間隔平均\n",
    "# 回答ユーザー数\n",
    "# リピート率\n",
    "question_wrk = train[:, {'q_elapsed_time_mean': mean(f.prior_question_elapsed_time),\n",
    "                         'q_elapsed_time_std': sd(f.prior_question_elapsed_time),\n",
    "                         'q_correct_mean':mean(f.answered_correctly),\n",
    "                         'q_count': count(f.answered_correctly),\n",
    "                         'q_task_id_mean': mean(f.task_container_id),\n",
    "                         'q_had_explanation_mean':mean(f.prior_question_had_explanation)},('content_id')]\n",
    "question_wrk.key = (['content_id'])\n",
    "questions = questions[:,:,dt.join(question_wrk)]\n",
    "question_wrk2 = train[:, {'u_numquie': count(f.answered_correctly)}, by('user_id','content_id')][:, {'u_numquie': count(f.user_id)}, by('content_id')]\n",
    "question_wrk2.key = (['content_id'])\n",
    "questions = questions[:,:,dt.join(question_wrk2)]\n",
    "questions['q_repeat_per'] = (f.q_count - f.u_numquie) / f.q_count\n",
    "questions.head()"
   ]
  },
  {
   "cell_type": "code",
   "execution_count": 13,
   "metadata": {
    "execution": {
     "iopub.execute_input": "2021-01-04T01:13:48.031233Z",
     "iopub.status.busy": "2021-01-04T01:13:48.030279Z",
     "iopub.status.idle": "2021-01-04T01:13:48.034222Z",
     "shell.execute_reply": "2021-01-04T01:13:48.034964Z"
    },
    "papermill": {
     "duration": 0.049045,
     "end_time": "2021-01-04T01:13:48.035154",
     "exception": false,
     "start_time": "2021-01-04T01:13:47.986109",
     "status": "completed"
    },
    "tags": []
   },
   "outputs": [],
   "source": [
    "questions.to_csv('question_stats.csv')"
   ]
  },
  {
   "cell_type": "code",
   "execution_count": 14,
   "metadata": {
    "execution": {
     "iopub.execute_input": "2021-01-04T01:13:55.657265Z",
     "iopub.status.busy": "2021-01-04T01:13:55.656250Z",
     "iopub.status.idle": "2021-01-04T01:14:03.440213Z",
     "shell.execute_reply": "2021-01-04T01:14:03.439482Z"
    },
    "papermill": {
     "duration": 15.379452,
     "end_time": "2021-01-04T01:14:03.440406",
     "exception": false,
     "start_time": "2021-01-04T01:13:48.060954",
     "status": "completed"
    },
    "tags": []
   },
   "outputs": [],
   "source": [
    "train[dt.f.answered_correctly == 1, :][:, {'correct_q_elapsed_time_mean': mean(f.prior_question_elapsed_time)},('content_id')].to_csv('correct_q_elapsed_time_mean.csv')"
   ]
  },
  {
   "cell_type": "code",
   "execution_count": 15,
   "metadata": {
    "execution": {
     "iopub.execute_input": "2021-01-04T01:14:10.856202Z",
     "iopub.status.busy": "2021-01-04T01:14:10.855178Z",
     "iopub.status.idle": "2021-01-04T01:14:14.742135Z",
     "shell.execute_reply": "2021-01-04T01:14:14.742760Z"
    },
    "papermill": {
     "duration": 11.278478,
     "end_time": "2021-01-04T01:14:14.742950",
     "exception": false,
     "start_time": "2021-01-04T01:14:03.464472",
     "status": "completed"
    },
    "tags": []
   },
   "outputs": [],
   "source": [
    "train[dt.f.answered_correctly == 0, :][:, {'incorrect_q_elapsed_time_mean': mean(f.prior_question_elapsed_time)},('content_id')].to_csv('incorrect_q_elapsed_time_mean.csv')"
   ]
  },
  {
   "cell_type": "code",
   "execution_count": 16,
   "metadata": {
    "execution": {
     "iopub.execute_input": "2021-01-04T01:14:23.755706Z",
     "iopub.status.busy": "2021-01-04T01:14:23.754722Z",
     "iopub.status.idle": "2021-01-04T01:15:05.638197Z",
     "shell.execute_reply": "2021-01-04T01:15:05.638814Z"
    },
    "papermill": {
     "duration": 50.860532,
     "end_time": "2021-01-04T01:15:05.639012",
     "exception": false,
     "start_time": "2021-01-04T01:14:14.778480",
     "status": "completed"
    },
    "tags": []
   },
   "outputs": [
    {
     "data": {
      "text/html": [
       "<div class='datatable'>\n",
       "  <table class='frame'>\n",
       "  <thead>\n",
       "    <tr class='colnames'><td class='row_index'></td><th>user_id</th><th>part</th><th>up_elapsed_time_per_mean</th><th>up_elapsed_time_per_std</th><th>up_correct_mean</th><th>up_count</th><th>up_interval_mean</th><th>up_numquie</th><th>up_repeat_per</th></tr>\n",
       "    <tr class='coltypes'><td class='row_index'></td><td class='int' title='int32'>&#x25AA;&#x25AA;&#x25AA;&#x25AA;</td><td class='int' title='int32'>&#x25AA;&#x25AA;&#x25AA;&#x25AA;</td><td class='float' title='float64'>&#x25AA;&#x25AA;&#x25AA;&#x25AA;&#x25AA;&#x25AA;&#x25AA;&#x25AA;</td><td class='float' title='float64'>&#x25AA;&#x25AA;&#x25AA;&#x25AA;&#x25AA;&#x25AA;&#x25AA;&#x25AA;</td><td class='float' title='float64'>&#x25AA;&#x25AA;&#x25AA;&#x25AA;&#x25AA;&#x25AA;&#x25AA;&#x25AA;</td><td class='int' title='int64'>&#x25AA;&#x25AA;&#x25AA;&#x25AA;&#x25AA;&#x25AA;&#x25AA;&#x25AA;</td><td class='float' title='float64'>&#x25AA;&#x25AA;&#x25AA;&#x25AA;&#x25AA;&#x25AA;&#x25AA;&#x25AA;</td><td class='int' title='int64'>&#x25AA;&#x25AA;&#x25AA;&#x25AA;&#x25AA;&#x25AA;&#x25AA;&#x25AA;</td><td class='float' title='float64'>&#x25AA;&#x25AA;&#x25AA;&#x25AA;&#x25AA;&#x25AA;&#x25AA;&#x25AA;</td></tr>\n",
       "  </thead>\n",
       "  <tbody>\n",
       "    <tr><td class='row_index'>0</td><td>115</td><td>0</td><td>0.91112</td><td>0.157292</td><td>0.702703</td><td>37</td><td>38.1444</td><td>37</td><td>0</td></tr>\n",
       "    <tr><td class='row_index'>1</td><td>115</td><td>1</td><td>0.938027</td><td><span class=na>NA</span></td><td>1</td><td>1</td><td>666393</td><td>1</td><td>0</td></tr>\n",
       "    <tr><td class='row_index'>2</td><td>115</td><td>2</td><td>0.560317</td><td>0</td><td>0.666667</td><td>3</td><td>110.132</td><td>3</td><td>0</td></tr>\n",
       "  </tbody>\n",
       "  </table>\n",
       "  <div class='footer'>\n",
       "    <div class='frame_dimensions'>3 rows &times; 9 columns</div>\n",
       "  </div>\n",
       "</div>\n"
      ],
      "text/plain": [
       "<Frame#7f677c3ce1e0 3x9>"
      ]
     },
     "execution_count": 16,
     "metadata": {},
     "output_type": "execute_result"
    }
   ],
   "source": [
    "###  ユーザ統計値\n",
    "# 回答平均時間に対する回答時間の平均\n",
    "# 回答時間のばらつき\n",
    "# 正答率\n",
    "# 回答数\n",
    "# 間隔平均\n",
    "# リピート率\n",
    "train = train[:,:,dt.join(question_wrk)]\n",
    "train['u_elapsed_time_per'] = f.prior_question_elapsed_time / f.q_elapsed_time_mean\n",
    "\n",
    "user_part = train[:, {'up_elapsed_time_per_mean': mean(f.u_elapsed_time_per),\n",
    "                  'up_elapsed_time_per_std': sd(f.u_elapsed_time_per),\n",
    "                  'up_correct_mean': mean(f.answered_correctly),\n",
    "                  'up_count': count(f.answered_correctly),\n",
    "                  'up_interval_mean': mean(f.interval)}, by('user_id','part')]\n",
    "\n",
    "user_wrk = train[:, {'up_q_numquie': count(f.answered_correctly)}, by('user_id','content_id','part')][:, {'up_numquie': count(f.content_id)}, by('user_id','part')]\n",
    "user_wrk.key = (['user_id','part'])\n",
    "user_part = user_part[:,:,dt.join(user_wrk)]\n",
    "user_part['up_repeat_per'] = (f.up_count - f.up_numquie) / f.up_count\n",
    "user_part.head(3)"
   ]
  },
  {
   "cell_type": "code",
   "execution_count": 17,
   "metadata": {
    "execution": {
     "iopub.execute_input": "2021-01-04T01:15:06.674375Z",
     "iopub.status.busy": "2021-01-04T01:15:06.673322Z",
     "iopub.status.idle": "2021-01-04T01:15:06.683025Z",
     "shell.execute_reply": "2021-01-04T01:15:06.683660Z"
    },
    "papermill": {
     "duration": 1.018591,
     "end_time": "2021-01-04T01:15:06.683833",
     "exception": false,
     "start_time": "2021-01-04T01:15:05.665242",
     "status": "completed"
    },
    "tags": []
   },
   "outputs": [],
   "source": [
    "user_part.to_csv(\"user_part_stats.csv\")"
   ]
  },
  {
   "cell_type": "code",
   "execution_count": 18,
   "metadata": {
    "execution": {
     "iopub.execute_input": "2021-01-04T01:15:06.745309Z",
     "iopub.status.busy": "2021-01-04T01:15:06.744429Z",
     "iopub.status.idle": "2021-01-04T01:15:39.383733Z",
     "shell.execute_reply": "2021-01-04T01:15:39.384389Z"
    },
    "papermill": {
     "duration": 32.673657,
     "end_time": "2021-01-04T01:15:39.384593",
     "exception": false,
     "start_time": "2021-01-04T01:15:06.710936",
     "status": "completed"
    },
    "tags": []
   },
   "outputs": [
    {
     "data": {
      "text/html": [
       "<div class='datatable'>\n",
       "  <table class='frame'>\n",
       "  <thead>\n",
       "    <tr class='colnames'><td class='row_index'></td><th>user_id</th><th>u_elapsed_time_per_mean</th><th>u_elapsed_time_per_std</th><th>u_correct_mean</th><th>u_count</th><th>u_interval_mean</th><th>u_numquie</th><th>u_repeat_per</th></tr>\n",
       "    <tr class='coltypes'><td class='row_index'></td><td class='int' title='int32'>&#x25AA;&#x25AA;&#x25AA;&#x25AA;</td><td class='float' title='float64'>&#x25AA;&#x25AA;&#x25AA;&#x25AA;&#x25AA;&#x25AA;&#x25AA;&#x25AA;</td><td class='float' title='float64'>&#x25AA;&#x25AA;&#x25AA;&#x25AA;&#x25AA;&#x25AA;&#x25AA;&#x25AA;</td><td class='float' title='float64'>&#x25AA;&#x25AA;&#x25AA;&#x25AA;&#x25AA;&#x25AA;&#x25AA;&#x25AA;</td><td class='int' title='int64'>&#x25AA;&#x25AA;&#x25AA;&#x25AA;&#x25AA;&#x25AA;&#x25AA;&#x25AA;</td><td class='float' title='float64'>&#x25AA;&#x25AA;&#x25AA;&#x25AA;&#x25AA;&#x25AA;&#x25AA;&#x25AA;</td><td class='int' title='int64'>&#x25AA;&#x25AA;&#x25AA;&#x25AA;&#x25AA;&#x25AA;&#x25AA;&#x25AA;</td><td class='float' title='float64'>&#x25AA;&#x25AA;&#x25AA;&#x25AA;&#x25AA;&#x25AA;&#x25AA;&#x25AA;</td></tr>\n",
       "  </thead>\n",
       "  <tbody>\n",
       "    <tr><td class='row_index'>0</td><td>115</td><td>0.973875</td><td>0.454233</td><td>0.695652</td><td>46</td><td>14856.6</td><td>46</td><td>0</td></tr>\n",
       "    <tr><td class='row_index'>1</td><td>124</td><td>0.889092</td><td>0.397394</td><td>0.233333</td><td>30</td><td>45.2647</td><td>30</td><td>0</td></tr>\n",
       "    <tr><td class='row_index'>2</td><td>2746</td><td>0.984537</td><td>0.153215</td><td>0.578947</td><td>19</td><td>46.4143</td><td>17</td><td>0.105263</td></tr>\n",
       "    <tr><td class='row_index'>3</td><td>5382</td><td>1.5614</td><td>1.02933</td><td>0.672</td><td>125</td><td>16948</td><td>120</td><td>0.04</td></tr>\n",
       "    <tr><td class='row_index'>4</td><td>8623</td><td>0.955695</td><td>0.373434</td><td>0.642202</td><td>109</td><td>14301.1</td><td>104</td><td>0.0458716</td></tr>\n",
       "    <tr><td class='row_index'>5</td><td>8701</td><td>1.00254</td><td>0.283455</td><td>0.588235</td><td>17</td><td>98.2057</td><td>17</td><td>0</td></tr>\n",
       "    <tr><td class='row_index'>6</td><td>12741</td><td>1.12462</td><td>0.294201</td><td>0.573585</td><td>265</td><td>62281.3</td><td>250</td><td>0.0566038</td></tr>\n",
       "    <tr><td class='row_index'>7</td><td>13134</td><td>1.01427</td><td>0.346506</td><td>0.706356</td><td>1243</td><td>16274.3</td><td>1223</td><td>0.0160901</td></tr>\n",
       "    <tr><td class='row_index'>8</td><td>24418</td><td>0.87804</td><td>0.28739</td><td>0.690275</td><td>6283</td><td>2744.28</td><td>5200</td><td>0.17237</td></tr>\n",
       "    <tr><td class='row_index'>9</td><td>24600</td><td>0.938568</td><td>0.304684</td><td>0.34</td><td>50</td><td>63.8797</td><td>50</td><td>0</td></tr>\n",
       "  </tbody>\n",
       "  </table>\n",
       "  <div class='footer'>\n",
       "    <div class='frame_dimensions'>10 rows &times; 8 columns</div>\n",
       "  </div>\n",
       "</div>\n"
      ],
      "text/plain": [
       "<Frame#7f677db6c420 10x8>"
      ]
     },
     "execution_count": 18,
     "metadata": {},
     "output_type": "execute_result"
    }
   ],
   "source": [
    "users = train[:, {'u_elapsed_time_per_mean': mean(f.u_elapsed_time_per),\n",
    "                  'u_elapsed_time_per_std': sd(f.u_elapsed_time_per),\n",
    "                  'u_correct_mean': mean(f.answered_correctly),\n",
    "                  'u_count': count(f.answered_correctly),\n",
    "                  'u_interval_mean': mean(f.interval)}, by('user_id')]\n",
    "\n",
    "user_wrk = train[:, {'u_q_numquie': count(f.answered_correctly)}, by('user_id','content_id')][:, {'u_numquie': count(f.content_id)}, by('user_id')]\n",
    "user_wrk.key = (['user_id'])\n",
    "users = users[:,:,dt.join(user_wrk)]\n",
    "users['u_repeat_per'] = (f.u_count - f.u_numquie) / f.u_count\n",
    "users.head()"
   ]
  },
  {
   "cell_type": "code",
   "execution_count": 19,
   "metadata": {
    "execution": {
     "iopub.execute_input": "2021-01-04T01:15:39.689669Z",
     "iopub.status.busy": "2021-01-04T01:15:39.688840Z",
     "iopub.status.idle": "2021-01-04T01:15:39.693581Z",
     "shell.execute_reply": "2021-01-04T01:15:39.694817Z"
    },
    "papermill": {
     "duration": 0.283487,
     "end_time": "2021-01-04T01:15:39.695033",
     "exception": false,
     "start_time": "2021-01-04T01:15:39.411546",
     "status": "completed"
    },
    "tags": []
   },
   "outputs": [],
   "source": [
    "users.to_csv(\"user_stats.csv\")"
   ]
  },
  {
   "cell_type": "markdown",
   "metadata": {
    "papermill": {
     "duration": 0.025297,
     "end_time": "2021-01-04T01:15:39.748841",
     "exception": false,
     "start_time": "2021-01-04T01:15:39.723544",
     "status": "completed"
    },
    "tags": []
   },
   "source": [
    "# StatPartData"
   ]
  },
  {
   "cell_type": "code",
   "execution_count": 20,
   "metadata": {
    "execution": {
     "iopub.execute_input": "2021-01-04T01:15:55.881740Z",
     "iopub.status.busy": "2021-01-04T01:15:55.880938Z",
     "iopub.status.idle": "2021-01-04T01:15:55.883964Z",
     "shell.execute_reply": "2021-01-04T01:15:55.885033Z"
    },
    "papermill": {
     "duration": 16.113739,
     "end_time": "2021-01-04T01:15:55.885258",
     "exception": false,
     "start_time": "2021-01-04T01:15:39.771519",
     "status": "completed"
    },
    "tags": []
   },
   "outputs": [],
   "source": [
    "train[:,{'p_correct_mean': mean(f.answered_correctly),\n",
    "         'p_elapsed_time_mean': mean(f.prior_question_elapsed_time),\n",
    "         'p_explanation_mean': mean(f.prior_question_had_explanation),\n",
    "         'p_task_id_mean' : mean(f.task_container_id),\n",
    "         'p_count': count(f.answered_correctly)},by('part')].to_csv('part_stats.csv')"
   ]
  },
  {
   "cell_type": "code",
   "execution_count": 21,
   "metadata": {
    "execution": {
     "iopub.execute_input": "2021-01-04T01:16:02.680842Z",
     "iopub.status.busy": "2021-01-04T01:16:02.679753Z",
     "iopub.status.idle": "2021-01-04T01:16:43.175787Z",
     "shell.execute_reply": "2021-01-04T01:16:43.176424Z"
    },
    "papermill": {
     "duration": 47.267783,
     "end_time": "2021-01-04T01:16:43.176640",
     "exception": false,
     "start_time": "2021-01-04T01:15:55.908857",
     "status": "completed"
    },
    "tags": []
   },
   "outputs": [
    {
     "data": {
      "text/html": [
       "<div class='datatable'>\n",
       "  <table class='frame'>\n",
       "  <thead>\n",
       "    <tr class='colnames'><td class='row_index'></td><th>row_id</th><th>timestamp</th><th>user_id</th><th>content_id</th><th>task_container_id</th><th>user_answer</th><th>answered_correctly</th><th>bundle_id</th><th>correct_answer</th><th>part</th><th class='vellipsis'>&hellip;</th><th>q_count.0</th><th>q_task_id_mean.0</th><th>q_had_explanation_mean.0</th><th>u_numquie.0</th><th>q_repeat_per</th></tr>\n",
       "    <tr class='coltypes'><td class='row_index'></td><td class='int' title='int32'>&#x25AA;&#x25AA;&#x25AA;&#x25AA;</td><td class='float' title='float64'>&#x25AA;&#x25AA;&#x25AA;&#x25AA;&#x25AA;&#x25AA;&#x25AA;&#x25AA;</td><td class='int' title='int32'>&#x25AA;&#x25AA;&#x25AA;&#x25AA;</td><td class='int' title='int32'>&#x25AA;&#x25AA;&#x25AA;&#x25AA;</td><td class='int' title='int32'>&#x25AA;&#x25AA;&#x25AA;&#x25AA;</td><td class='int' title='int32'>&#x25AA;&#x25AA;&#x25AA;&#x25AA;</td><td class='int' title='int32'>&#x25AA;&#x25AA;&#x25AA;&#x25AA;</td><td class='int' title='int32'>&#x25AA;&#x25AA;&#x25AA;&#x25AA;</td><td class='int' title='int32'>&#x25AA;&#x25AA;&#x25AA;&#x25AA;</td><td class='int' title='int32'>&#x25AA;&#x25AA;&#x25AA;&#x25AA;</td><td></td><td class='int' title='int64'>&#x25AA;&#x25AA;&#x25AA;&#x25AA;&#x25AA;&#x25AA;&#x25AA;&#x25AA;</td><td class='float' title='float64'>&#x25AA;&#x25AA;&#x25AA;&#x25AA;&#x25AA;&#x25AA;&#x25AA;&#x25AA;</td><td class='float' title='float64'>&#x25AA;&#x25AA;&#x25AA;&#x25AA;&#x25AA;&#x25AA;&#x25AA;&#x25AA;</td><td class='int' title='int64'>&#x25AA;&#x25AA;&#x25AA;&#x25AA;&#x25AA;&#x25AA;&#x25AA;&#x25AA;</td><td class='float' title='float64'>&#x25AA;&#x25AA;&#x25AA;&#x25AA;&#x25AA;&#x25AA;&#x25AA;&#x25AA;</td></tr>\n",
       "  </thead>\n",
       "  <tbody>\n",
       "    <tr><td class='row_index'>0</td><td>0</td><td>0</td><td>115</td><td>5692</td><td>1</td><td>3</td><td>1</td><td>5692</td><td>3</td><td>4</td><td class=vellipsis>&hellip;</td><td>36514</td><td>309.146</td><td>0.682555</td><td>33791</td><td>0.0745741</td></tr>\n",
       "    <tr><td class='row_index'>1</td><td>1</td><td>56.943</td><td>115</td><td>5716</td><td>2</td><td>2</td><td>1</td><td>5716</td><td>2</td><td>4</td><td class=vellipsis>&hellip;</td><td>23991</td><td>435.177</td><td>0.523678</td><td>22547</td><td>0.0601892</td></tr>\n",
       "    <tr><td class='row_index'>2</td><td>2</td><td>118.363</td><td>115</td><td>128</td><td>0</td><td>0</td><td>1</td><td>128</td><td>0</td><td>0</td><td class=vellipsis>&hellip;</td><td>19619</td><td>200.267</td><td>0.200775</td><td>19260</td><td>0.0182986</td></tr>\n",
       "    <tr><td class='row_index'>3</td><td>3</td><td>131.167</td><td>115</td><td>7860</td><td>3</td><td>0</td><td>1</td><td>7860</td><td>0</td><td>0</td><td class=vellipsis>&hellip;</td><td>21733</td><td>196.748</td><td>0.281385</td><td>21261</td><td>0.0217181</td></tr>\n",
       "    <tr><td class='row_index'>4</td><td>4</td><td>137.965</td><td>115</td><td>7922</td><td>4</td><td>1</td><td>1</td><td>7922</td><td>1</td><td>0</td><td class=vellipsis>&hellip;</td><td>19409</td><td>207.366</td><td>0.201041</td><td>19065</td><td>0.0177237</td></tr>\n",
       "    <tr><td class='row_index'>5</td><td>5</td><td>157.063</td><td>115</td><td>156</td><td>5</td><td>2</td><td>1</td><td>156</td><td>2</td><td>0</td><td class=vellipsis>&hellip;</td><td>22493</td><td>219.441</td><td>0.310164</td><td>21908</td><td>0.0260081</td></tr>\n",
       "    <tr><td class='row_index'>6</td><td>6</td><td>176.092</td><td>115</td><td>51</td><td>6</td><td>0</td><td>1</td><td>51</td><td>0</td><td>0</td><td class=vellipsis>&hellip;</td><td>24107</td><td>238.397</td><td>0.358154</td><td>23373</td><td>0.0304476</td></tr>\n",
       "    <tr><td class='row_index'>7</td><td>7</td><td>194.19</td><td>115</td><td>50</td><td>7</td><td>3</td><td>1</td><td>50</td><td>3</td><td>0</td><td class=vellipsis>&hellip;</td><td>21401</td><td>226.072</td><td>0.276043</td><td>20856</td><td>0.0254661</td></tr>\n",
       "    <tr><td class='row_index'>8</td><td>8</td><td>212.463</td><td>115</td><td>7896</td><td>8</td><td>2</td><td>1</td><td>7896</td><td>2</td><td>0</td><td class=vellipsis>&hellip;</td><td>22086</td><td>226.58</td><td>0.304803</td><td>21560</td><td>0.023816</td></tr>\n",
       "    <tr><td class='row_index'>9</td><td>9</td><td>230.983</td><td>115</td><td>7863</td><td>9</td><td>0</td><td>1</td><td>7863</td><td>0</td><td>0</td><td class=vellipsis>&hellip;</td><td>48307</td><td>190.55</td><td>0.673714</td><td>44452</td><td>0.0798021</td></tr>\n",
       "  </tbody>\n",
       "  </table>\n",
       "  <div class='footer'>\n",
       "    <div class='frame_dimensions'>10 rows &times; 46 columns</div>\n",
       "  </div>\n",
       "</div>\n"
      ],
      "text/plain": [
       "<Frame#7f6766c88870 10x46>"
      ]
     },
     "execution_count": 21,
     "metadata": {},
     "output_type": "execute_result"
    }
   ],
   "source": [
    "cumsum_df = dt.fread(\"./cumsum.csv\")\n",
    "del cumsum_df['C0']\n",
    "cumsum_df.key = (['row_id'])\n",
    "train = train[:,:,dt.join(cumsum_df)]\n",
    "users.key =(['user_id'])\n",
    "train = train[:,:,dt.join(users)]\n",
    "questions.key = (['content_id'])\n",
    "train = train[:,:,dt.join(questions)]\n",
    "train.head()"
   ]
  },
  {
   "cell_type": "code",
   "execution_count": null,
   "metadata": {
    "papermill": {
     "duration": 0.023378,
     "end_time": "2021-01-04T01:16:43.228061",
     "exception": false,
     "start_time": "2021-01-04T01:16:43.204683",
     "status": "completed"
    },
    "tags": []
   },
   "outputs": [],
   "source": []
  }
 ],
 "metadata": {
  "kernelspec": {
   "display_name": "Python 3",
   "language": "python",
   "name": "python3"
  },
  "language_info": {
   "codemirror_mode": {
    "name": "ipython",
    "version": 3
   },
   "file_extension": ".py",
   "mimetype": "text/x-python",
   "name": "python",
   "nbconvert_exporter": "python",
   "pygments_lexer": "ipython3",
   "version": "3.7.6"
  },
  "papermill": {
   "duration": 1053.423641,
   "end_time": "2021-01-04T01:16:44.370304",
   "environment_variables": {},
   "exception": null,
   "input_path": "__notebook__.ipynb",
   "output_path": "__notebook__.ipynb",
   "parameters": {},
   "start_time": "2021-01-04T00:59:10.946663",
   "version": "2.1.0"
  }
 },
 "nbformat": 4,
 "nbformat_minor": 4
}
