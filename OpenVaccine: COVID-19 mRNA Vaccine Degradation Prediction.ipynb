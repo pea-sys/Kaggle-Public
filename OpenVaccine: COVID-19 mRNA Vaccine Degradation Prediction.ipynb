{
  "nbformat": 4,
  "nbformat_minor": 0,
  "metadata": {
    "colab": {
      "name": "OpenVaccine - DeeperGCN.ipynb",
      "provenance": [],
      "machine_shape": "hm",
      "authorship_tag": "ABX9TyO+iBrM93KRTuFFIvU8xSWl",
      "include_colab_link": true
    },
    "kernelspec": {
      "name": "python3",
      "display_name": "Python 3"
    },
    "accelerator": "GPU"
  },
  "cells": [
    {
      "cell_type": "markdown",
      "metadata": {
        "id": "view-in-github",
        "colab_type": "text"
      },
      "source": [
        "<a href=\"https://colab.research.google.com/github/pea-sys/Kaggle_Public/blob/master/OpenVaccine_DeeperGCN.ipynb\" target=\"_parent\"><img src=\"https://colab.research.google.com/assets/colab-badge.svg\" alt=\"Open In Colab\"/></a>"
      ]
    },
    {
      "cell_type": "markdown",
      "metadata": {
        "id": "S_JNcZudNec_"
      },
      
      "source": [
        "<center><img src=\"https://daslab.stanford.edu/site_data/news_img/openvaccine_lores.png\" width=\"400\" height=\"400\"></center>\n",
        "\n",
        "順位:63位/1636チーム  \n",
        "\n",
        "##【概要】(公式DeepL)\n",
        "mRNAワクチンはCOVID-19の最速ワクチン候補として先頭に立ってきたが、現在のところ、重要な潜在的な限界に直面している。現在の最大の課題の一つは、超安定なメッセンジャーRNA分子（mRNA）をどのように設計するかということである。従来のワクチン（季節性インフルエンザの予防接種のようなもの）は、使い捨ての注射器に包装され、世界中で冷蔵下で出荷されていますが、mRNAワクチンでは現在のところそれができません。\n",
        "\n",
        "研究者たちは、RNA分子が自然に分解される傾向があることを観察しています。これは重大な制限であり、1回の切断でmRNAワクチンが使えなくなる可能性があります。現在のところ、あるRNAのバックボーンのどの部分が最も影響を受けやすいかについての詳細はほとんど知られていません。この知識がなければ、COVID-19に対する現在のmRNAワクチンは準備され、強烈な冷蔵下で出荷されなければならず、安定化されない限り、地球上のごく一部の人間にしか届かない可能性は低い。\n",
        "スタンフォード大学医学部の計算生物化学者であるRhiju Das教授が率いるEternaコミュニティでは、科学者とゲーマーが一緒になってパズルを解いたり、薬を発明したりしています。Eternaは、mRNAデザインなどの科学的な問題をパズルで解くことにプレイヤーを挑戦させるオンライン・ビデオゲーム・プラットフォームです。解答は、RNA分子に関する新たな洞察を得るために、研究者がスタンフォード大学で合成し、実験的にテストしています。Eternaコミュニティは、これまでにも新しい科学的原理を解き明かし、致命的な病気に対する新しい診断法を開発し、世界で最も強力な知的資源を利用して公衆のために貢献してきました。Eternaコミュニティは、RNAバイオテクノロジーの進歩を含む20以上の出版物への貢献を通じてバイオテクノロジーを発展させてきました。\n",
        "\n",
        "このコンペティションでは、Kaggleコミュニティのデータサイエンスの専門知識を活用して、RNA分解のためのモデルと設計ルールを開発したいと考えています。あなたのモデルは、3000以上のRNA分子（多様な配列と構造を持つ）からなるEternaデータセットのサブセットと各位置での分解率を用いて、RNA分子の各塩基における分解率の可能性を予測します。次に、COVID-19 mRNAワクチンのためにEternaのプレイヤーが考案した第二世代のRNA配列を用いて、モデルをスコア化します。これらの最終的なテスト配列は現在スタンフォード大学で合成され、実験的に特徴づけられており、あなたのモデリング作業と並行して行われています。\n",
        "\n",
        "mRNAワクチンの安定性を向上させることは、パンデミックの前から検討されていた問題ですが、解決には何年もかかると予想されていました。今、私たちは、mRNAワクチンの研究を加速し、COVID-19の背後にあるウイルスであるSARS-CoV-2に対する冷蔵庫で安定なワクチンを提供するために、数週間ではなく数ヶ月でこの深い科学的課題を解決しなければなりません。私たちが解決しようとしている問題は、学術研究室、産業界の研究開発グループ、スーパーコンピューターでは解決できませんでした。この壊滅的なパンデミックとの戦いの鍵を解き明かすために、Eternaのビデオゲームプレイヤー、科学者、開発者のチームに参加することができます。"
      ]
    },
    {
      "cell_type": "markdown",
      "metadata": {
        "id": "CoiF0HEXU9gU"
      },
      "source": [
        "##評価指標\n",
        "MCRMSE（平均列和ルート平均二乗誤差）\n",
        "\n",
        "##データセット\n",
        "[こちら](https://www.kaggle.com/c/stanford-covid-vaccine/data)\n",
        "\n",
        "#スケジュール\n",
        "2020年9月一杯\n",
        "※通常はKaggleコンペティションは三か月に及ぶが、今回は短期開催\n",
        "\n",
        "#●やったことメモ\n",
        "* 1週目：データ探索とLGBMモデルの作成\n",
        "* 2週目：ニューラルネットワークの方が適したデータセットであることが分かり、公開ノートブックの読み込み。\n",
        "* 3週目：複数の優れた公開ノートブックを少しずつ改良\n",
        "* 4週目：3週目で改良したノートブックをブレンド\n",
        "\n",
        "#ソリューション\n",
        "  * 3種のモデルをfold数やseed、dropoutを変えたものをアンサンブル  \n",
        "  [GCN](https://www.kaggle.com/symyksr/openvaccine-deepergcn),  [GNN+CNN+Attention](https://www.kaggle.com/mrkmakr/covid-ae-pretrain-gnn-attn-cnn),  [GRU+LSTM](https://www.kaggle.com/its7171/gru-lstm-with-feature-engineering-and-augmentation)\n",
        "\n",
        "  * データ拡張  \n",
        "  [viennaエンジンでデータ拡張](https://www.kaggle.com/its7171/how-to-generate-augmentation-data)\n",
        "\n",
        "#●感想\n",
        "ニューラルネットワークアーキテクチャに精通していないため、独自にアーキテクチャを考案できなかったので無力感が残るコンペだった。\n",
        "短期のコンペティションのためか、他のコンペティションと比較して、競技者の動きがとても速く、\n",
        "優れたソリューションがどんどん公開されていき、ソリューション理解を進めるだけで精一杯だった。  \n",
        "パブリックテストデータとプライベートテストデータの長さが異なるため、そこを常に意識して作業を進めていったため、そこそこの順位で落着になった。  \n",
        "書籍を購入して、RNAについての知識を深めたりしたが、あまり役立てなくて残念ではあった。"
      ]
    },
    {
      "cell_type": "markdown",
      "metadata": {
        "id": "2p8698NZceij"
      },
      "source": [
        "↓オリジナル公開ノートブックとほとんど同じです。"
      ]
    },
    {
      "cell_type": "code",
      "metadata": {
        "id": "E7uVqqF8E5n5",
        "outputId": "d4fa344c-565d-4e68-f82c-bb60b08496e9",
        "colab": {
          "base_uri": "https://localhost:8080/",
          "height": 34
        }
      },
      "source": [
        "try:\n",
        "    import torch_geometric\n",
        "except:\n",
        "    import subprocess\n",
        "    import torch\n",
        "nvcc_stdout = str(subprocess.check_output(['nvcc', '-V']))\n",
        "tmp = nvcc_stdout[nvcc_stdout.rfind('release') + len('release') + 1:]\n",
        "cuda_version = tmp[:tmp.find(',')]\n",
        "cuda = {\n",
        "            '9.2': 'cu92',\n",
        "            '10.1': 'cu101',\n",
        "            '10.2': 'cu102',\n",
        "            }\n",
        "\n",
        "CUDA = cuda[cuda_version]\n",
        "TORCH = torch.__version__.split('.')\n",
        "TORCH[-1] = '0'\n",
        "TORCH = '.'.join(TORCH)\n",
        "\n",
        "install1 = 'pip install torch-scatter==latest+' + CUDA + ' -f https://pytorch-geometric.com/whl/torch-' + TORCH + '.html'\n",
        "install2 = 'pip install torch-sparse==latest+' + CUDA + ' -f https://pytorch-geometric.com/whl/torch-' + TORCH + '.html'\n",
        "install3 = 'pip install torch-cluster==latest+' + CUDA + ' -f https://pytorch-geometric.com/whl/torch-' + TORCH + '.html'\n",
        "install4 = 'pip install torch-spline-conv==latest+' + CUDA + ' -f https://pytorch-geometric.com/whl/torch-' + TORCH + '.html'\n",
        "install5 = 'pip install torch-geometric'\n",
        "\n",
        "subprocess.run(install1.split())\n",
        "subprocess.run(install2.split())\n",
        "subprocess.run(install3.split())\n",
        "subprocess.run(install4.split())\n",
        "subprocess.run(install5.split())\n",
        "# ------------------ install torch_geometric end -----------------\n"
      ],
      "execution_count": null,
      "outputs": [
        {
          "output_type": "execute_result",
          "data": {
            "text/plain": [
              "CompletedProcess(args=['pip', 'install', 'torch-geometric'], returncode=0)"
            ]
          },
          "metadata": {
            "tags": []
          },
          "execution_count": 3
        }
      ]
    },
    {
      "cell_type": "code",
      "metadata": {
        "id": "IfFH4YJeEsvB",
        "outputId": "483639e0-f612-4d69-e651-3ae871da1047",
        "colab": {
          "base_uri": "https://localhost:8080/",
          "height": 34
        }
      },
      "source": [
        "from google.colab import drive\n",
        "drive.mount('/content/drive/')"
      ],
      "execution_count": null,
      "outputs": [
        {
          "output_type": "stream",
          "text": [
            "Mounted at /content/drive/\n"
          ],
          "name": "stdout"
        }
      ]
    },
    {
      "cell_type": "code",
      "metadata": {
        "id": "PW_YkrsQEwVu",
        "outputId": "21ad4117-ea7a-4890-ccbb-86d18e6c1ba8",
        "colab": {
          "base_uri": "https://localhost:8080/",
          "height": 34
        }
      },
      "source": [
        "%cd /content/drive/My\\ Drive/COVID-19 mRNA Vaccine Degradation Prediction"
      ],
      "execution_count": null,
      "outputs": [
        {
          "output_type": "stream",
          "text": [
            "/content/drive/My Drive/COVID-19 mRNA Vaccine Degradation Prediction\n"
          ],
          "name": "stdout"
        }
      ]
    },
    {
      "cell_type": "code",
      "metadata": {
        "id": "SW_jNl56E9yk",
        "outputId": "e5ea5665-ccfc-45c3-adc0-d317ca42a2f9",
        "colab": {
          "base_uri": "https://localhost:8080/",
          "height": 34
        }
      },
      "source": [
        "import numpy as np\n",
        "import pandas as pd\n",
        "import random\n",
        "import torch\n",
        "from torch.nn import Linear, LayerNorm, ReLU, Dropout\n",
        "from torch_geometric.nn import ChebConv, NNConv, DeepGCNLayer\n",
        "from torch_geometric.data import Data, DataLoader\n",
        "from sklearn.model_selection import StratifiedKFold\n",
        "from tqdm import tqdm\n",
        "import os\n",
        "import copy\n",
        "#import gc\n",
        "\n",
        "# settings\n",
        "seed = 777\n",
        "train_file = 'train.json'\n",
        "test_file = 'test.json'\n",
        "bpps_top = 'bpps'\n",
        "nb_fold = 10#5\n",
        "device = 'cuda'\n",
        "batch_size = 16\n",
        "epochs = 100\n",
        "lr = 0.001\n",
        "train_with_noisy_data = True\n",
        "add_edge_for_paired_nodes = True\n",
        "add_codon_nodes = True\n",
        "T = 5\n",
        "node_hidden_channels = 96\n",
        "edge_hidden_channels = 16\n",
        "hidden_channels3 = 32\n",
        "num_layers = 10\n",
        "dropout1 = 0.1\n",
        "dropout2 = 0.1\n",
        "dropout3 = 0.1\n",
        "bpps_nb_mean = 0.077522 # mean of bpps_nb across all training data\n",
        "bpps_nb_std = 0.08914   # std of bpps_nb across all training data\n",
        "error_mean_limit = 0.5\n",
        "\n",
        "def match_pair(structure):\n",
        "    pair = [-1] * len(structure)\n",
        "    pair_no = -1\n",
        "\n",
        "    pair_no_stack = []\n",
        "    for i, c in enumerate(structure):\n",
        "        if c == '(':\n",
        "            pair_no += 1\n",
        "            pair[i] = pair_no\n",
        "            pair_no_stack.append(pair_no)\n",
        "        elif c == ')':\n",
        "            pair[i] = pair_no_stack.pop()\n",
        "    return pair\n",
        "\n",
        "class MyData(Data):\n",
        "    def __init__(self, x=None, edge_index=None, edge_attr=None, y=None,\n",
        "                 pos=None, norm=None, face=None, weight=None, **kwargs):\n",
        "        super(MyData, self).__init__(x=x, edge_index=edge_index,\n",
        "                                     edge_attr=edge_attr, y=y, pos=pos,\n",
        "                                     norm=norm, face=face, **kwargs)\n",
        "        self.weight = weight\n",
        "\n",
        "def calc_error_mean(row):\n",
        "    reactivity_error = row['reactivity_error']\n",
        "    deg_error_Mg_pH10 = row['deg_error_Mg_pH10']\n",
        "    deg_error_Mg_50C = row['deg_error_Mg_50C']\n",
        "\n",
        "    return np.mean(np.abs(reactivity_error) +\n",
        "                   np.abs(deg_error_Mg_pH10) + \\\n",
        "                   np.abs(deg_error_Mg_50C)) / 3\n",
        "\n",
        "def calc_sample_weight(row):\n",
        "    if sample_is_clean(row):\n",
        "        return 1.\n",
        "    else:\n",
        "        error_mean = calc_error_mean(row)\n",
        "        if error_mean >= error_mean_limit:\n",
        "            return 0.\n",
        "\n",
        "        return 1. - error_mean / error_mean_limit\n",
        "\n",
        "# add directed edge for node1 -> node2 and for node2 -> node1\n",
        "def add_edges(edge_index, edge_features, node1, node2, feature1, feature2):\n",
        "    edge_index.append([node1, node2])\n",
        "    edge_features.append(feature1)\n",
        "    edge_index.append([node2, node1])\n",
        "    edge_features.append(feature2)\n",
        "\n",
        "def add_edges_between_base_nodes(edge_index, edge_features, node1, node2):\n",
        "    edge_feature1 = [\n",
        "        0, # is edge for paired nodes\n",
        "        0, # is edge between codon node and base node\n",
        "        0, # is edge between coden nodes\n",
        "        1, # forward edge: 1, backward edge: -1\n",
        "        1, # bpps if edge is for paired nodes\n",
        "    ]\n",
        "    edge_feature2 = [\n",
        "        0, # is edge for paired nodes\n",
        "        0, # is edge between codon node and base node\n",
        "        0, # is edge between coden nodes\n",
        "        -1, # forward edge: 1, backward edge: -1\n",
        "        1, # bpps if edge is for paired nodes\n",
        "    ]\n",
        "    add_edges(edge_index, edge_features, node1, node2,\n",
        "              edge_feature1, edge_feature2)\n",
        "\n",
        "def add_edges_between_paired_nodes(edge_index, edge_features, node1, node2,\n",
        "                                   bpps_value):\n",
        "    edge_feature1 = [\n",
        "        1, # is edge for paired nodes\n",
        "        0, # is edge between codon node and base node\n",
        "        0, # is edge between coden nodes\n",
        "        0, # forward edge: 1, backward edge: -1\n",
        "        bpps_value, # bpps if edge is for paired nodes\n",
        "    ]\n",
        "    edge_feature2 = [\n",
        "        1, # is edge for paired nodes\n",
        "        0, # is edge between codon node and base node\n",
        "        0, # is edge between coden nodes\n",
        "        0, # forward edge: 1, backward edge: -1\n",
        "        bpps_value, # bpps if edge is for paired nodes\n",
        "    ]\n",
        "    add_edges(edge_index, edge_features, node1, node2,\n",
        "              edge_feature1, edge_feature2)\n",
        "\n",
        "def add_edges_between_codon_nodes(edge_index, edge_features, node1, node2):\n",
        "    edge_feature1 = [\n",
        "        0, # is edge for paired nodes\n",
        "        0, # is edge between codon node and base node\n",
        "        1, # is edge between coden nodes\n",
        "        1, # forward edge: 1, backward edge: -1\n",
        "        0, # bpps if edge is for paired nodes\n",
        "    ]\n",
        "    edge_feature2 = [\n",
        "        0, # is edge for paired nodes\n",
        "        0, # is edge between codon node and base node\n",
        "        1, # is edge between coden nodes\n",
        "        -1, # forward edge: 1, backward edge: -1\n",
        "        0, # bpps if edge is for paired nodes\n",
        "    ]\n",
        "    add_edges(edge_index, edge_features, node1, node2,\n",
        "              edge_feature1, edge_feature2)\n",
        "\n",
        "def add_edges_between_codon_and_base_node(edge_index, edge_features,\n",
        "                                          node1, node2):\n",
        "    edge_feature1 = [\n",
        "        0, # is edge for paired nodes\n",
        "        1, # is edge between codon node and base node\n",
        "        0, # is edge between coden nodes\n",
        "        0, # forward edge: 1, backward edge: -1\n",
        "        0, # bpps if edge is for paired nodes\n",
        "    ]\n",
        "    edge_feature2 = [\n",
        "        0, # is edge for paired nodes\n",
        "        1, # is edge between codon node and base node\n",
        "        0, # is edge between coden nodes\n",
        "        0, # forward edge: 1, backward edge: -1\n",
        "        0, # bpps if edge is for paired nodes\n",
        "    ]\n",
        "    add_edges(edge_index, edge_features, node1, node2,\n",
        "              edge_feature1, edge_feature2)\n",
        "\n",
        "def add_node(node_features, feature):\n",
        "    node_features.append(feature)\n",
        "\n",
        "def add_base_node(node_features, sequence, predicted_loop_type,\n",
        "                  bpps_sum, bpps_nb):\n",
        "    feature = [\n",
        "        0, # is codon node\n",
        "        sequence == 'A',\n",
        "        sequence == 'C',\n",
        "        sequence == 'G',\n",
        "        sequence == 'U',\n",
        "        predicted_loop_type == 'S',\n",
        "        predicted_loop_type == 'M',\n",
        "        predicted_loop_type == 'I',\n",
        "        predicted_loop_type == 'B',\n",
        "        predicted_loop_type == 'H',\n",
        "        predicted_loop_type == 'E',\n",
        "        predicted_loop_type == 'X',\n",
        "        bpps_sum,\n",
        "        bpps_nb,\n",
        "    ]\n",
        "    add_node(node_features, feature)\n",
        "\n",
        "def add_codon_node(node_features):\n",
        "    feature = [\n",
        "        1, # is codon node\n",
        "        0, # sequence == 'A',\n",
        "        0, # sequence == 'C',\n",
        "        0, # sequence == 'G',\n",
        "        0, # sequence == 'U',\n",
        "        0, # predicted_loop_type == 'S',\n",
        "        0, # predicted_loop_type == 'M',\n",
        "        0, # predicted_loop_type == 'I',\n",
        "        0, # predicted_loop_type == 'B',\n",
        "        0, # predicted_loop_type == 'H',\n",
        "        0, # predicted_loop_type == 'E',\n",
        "        0, # predicted_loop_type == 'X',\n",
        "        0, # bpps_sum\n",
        "        0, # bpps_nb\n",
        "    ]\n",
        "    add_node(node_features, feature)\n",
        "\n",
        "def build_data(df, is_train):\n",
        "    data = []\n",
        "    for i in range(len(df)):\n",
        "        targets = []\n",
        "        node_features = []\n",
        "        edge_features = []\n",
        "        edge_index = []\n",
        "        train_mask = []\n",
        "        test_mask = []\n",
        "        weights = []\n",
        "\n",
        "        id = df.loc[i, 'id']\n",
        "        path = os.path.join(bpps_top, id + '.npy')\n",
        "        bpps = np.load(path)\n",
        "        bpps_sum = bpps.sum(axis=0)\n",
        "        sequence = df.loc[i, 'sequence']\n",
        "        structure = df.loc[i, 'structure']\n",
        "        pair_info = match_pair(structure)\n",
        "        predicted_loop_type = df.loc[i, 'predicted_loop_type']\n",
        "        seq_length = df.loc[i, 'seq_length']\n",
        "        seq_scored = df.loc[i, 'seq_scored']\n",
        "        bpps_nb = (bpps > 0).sum(axis=0) / seq_length\n",
        "        bpps_nb = (bpps_nb - bpps_nb_mean) / bpps_nb_std\n",
        "        if is_train:\n",
        "            sample_weight = calc_sample_weight(df.loc[i])\n",
        "\n",
        "            reactivity = df.loc[i, 'reactivity']\n",
        "            deg_Mg_pH10 = df.loc[i, 'deg_Mg_pH10']\n",
        "            deg_Mg_50C = df.loc[i, 'deg_Mg_50C']\n",
        "\n",
        "            for j in range(seq_length):\n",
        "                if j < seq_scored:\n",
        "                    targets.append([\n",
        "                        reactivity[j],\n",
        "                        deg_Mg_pH10[j],\n",
        "                        deg_Mg_50C[j],\n",
        "                        ])\n",
        "                else:\n",
        "                    targets.append([0, 0, 0])\n",
        "\n",
        "        paired_nodes = {}\n",
        "        for j in range(seq_length):\n",
        "            add_base_node(node_features, sequence[j], predicted_loop_type[j],\n",
        "                          bpps_sum[j], bpps_nb[j])\n",
        "\n",
        "            if j + 1 < seq_length: # edge between current node and next node\n",
        "                add_edges_between_base_nodes(edge_index, edge_features,\n",
        "                                             j, j + 1)\n",
        "\n",
        "            if pair_info[j] != -1:\n",
        "                if pair_info[j] not in paired_nodes:\n",
        "                    paired_nodes[pair_info[j]] = [j]\n",
        "                else:\n",
        "                    paired_nodes[pair_info[j]].append(j)\n",
        "\n",
        "            train_mask.append(j < seq_scored)\n",
        "            test_mask.append(True)\n",
        "            if is_train:\n",
        "                weights.append(sample_weight)\n",
        "\n",
        "        if add_edge_for_paired_nodes:\n",
        "            for pair in paired_nodes.values():\n",
        "                bpps_value = bpps[pair[0], pair[1]]\n",
        "                add_edges_between_paired_nodes(edge_index, edge_features,\n",
        "                                               pair[0], pair[1], bpps_value)\n",
        "\n",
        "        if add_codon_nodes:\n",
        "            codon_node_idx = seq_length - 1\n",
        "            for j in range(seq_length):\n",
        "                if j % 3 == 0:\n",
        "                    # add codon node\n",
        "                    add_codon_node(node_features)\n",
        "                    codon_node_idx += 1\n",
        "                    train_mask.append(False)\n",
        "                    test_mask.append(False)\n",
        "                    if is_train:\n",
        "                        weights.append(0)\n",
        "                        targets.append([0, 0, 0])\n",
        "\n",
        "                    if codon_node_idx > seq_length:\n",
        "                        # add edges between adjacent codon nodes\n",
        "                        add_edges_between_codon_nodes(edge_index, edge_features,\n",
        "                                                      codon_node_idx - 1,\n",
        "                                                      codon_node_idx)\n",
        "\n",
        "                # add edges between codon node and base node\n",
        "                add_edges_between_codon_and_base_node(edge_index, edge_features,\n",
        "                                                      j, codon_node_idx)\n",
        "\n",
        "        node_features = torch.tensor(node_features, dtype=torch.float)\n",
        "        edge_index = torch.tensor(edge_index, dtype=torch.long).t().contiguous()\n",
        "        edge_features = torch.tensor(edge_features, dtype=torch.float)\n",
        "\n",
        "        if is_train:\n",
        "            data.append(MyData(x=node_features, edge_index=edge_index,\n",
        "                               edge_attr=edge_features,\n",
        "                               train_mask=torch.tensor(train_mask),\n",
        "                               weight=torch.tensor(weights, dtype=torch.float),\n",
        "                               y=torch.tensor(targets, dtype=torch.float)))\n",
        "        else:\n",
        "            data.append(MyData(x=node_features, edge_index=edge_index,\n",
        "                               edge_attr=edge_features,\n",
        "                               test_mask=torch.tensor(test_mask)))\n",
        "\n",
        "    return data\n",
        "\n",
        "#\n",
        "# originally copied from\n",
        "# https://github.com/rusty1s/pytorch_geometric/blob/master/examples/ogbn_proteins_deepgcn.py\n",
        "# \n",
        "class MapE2NxN(torch.nn.Module):\n",
        "    def __init__(self, in_channels, out_channels, hidden_channels):\n",
        "        super(MapE2NxN, self).__init__()\n",
        "        self.linear1 = Linear(in_channels, hidden_channels)\n",
        "        self.linear2 = Linear(hidden_channels, out_channels)\n",
        "        self.dropout = Dropout(dropout3)\n",
        "\n",
        "    def forward(self, x):\n",
        "        x = self.linear1(x)\n",
        "        x = self.dropout(x)\n",
        "        x = self.linear2(x)\n",
        "        return x\n",
        "\n",
        "class MyDeeperGCN(torch.nn.Module):\n",
        "    def __init__(self, num_node_features, num_edge_features,\n",
        "                 node_hidden_channels,\n",
        "                 edge_hidden_channels,\n",
        "                 num_layers, num_classes):\n",
        "        super(MyDeeperGCN, self).__init__()\n",
        "\n",
        "        self.node_encoder = ChebConv(num_node_features, node_hidden_channels, T)\n",
        "        self.edge_encoder = Linear(num_edge_features, edge_hidden_channels)\n",
        "\n",
        "        self.layers = torch.nn.ModuleList()\n",
        "        for i in range(1, num_layers + 1):\n",
        "            conv = NNConv(node_hidden_channels, node_hidden_channels,\n",
        "                          MapE2NxN(edge_hidden_channels,\n",
        "                                   node_hidden_channels * node_hidden_channels,\n",
        "                                   hidden_channels3))\n",
        "            norm = LayerNorm(node_hidden_channels, elementwise_affine=True)\n",
        "            act = ReLU(inplace=True)\n",
        "\n",
        "            layer = DeepGCNLayer(conv, norm, act, block='res+',\n",
        "                                 dropout=dropout1, ckpt_grad=i % 3)\n",
        "            self.layers.append(layer)\n",
        "\n",
        "        self.lin = Linear(node_hidden_channels, num_classes)\n",
        "        self.dropout = Dropout(dropout2)\n",
        "\n",
        "    def forward(self, data):\n",
        "        x = data.x\n",
        "        edge_index = data.edge_index\n",
        "        edge_attr = data.edge_attr\n",
        "\n",
        "        # edge for paired nodes are excluded for encoding node\n",
        "        seq_edge_index = edge_index[:, edge_attr[:,0] == 0]\n",
        "        x = self.node_encoder(x, seq_edge_index)\n",
        "\n",
        "        edge_attr = self.edge_encoder(edge_attr)\n",
        "\n",
        "        x = self.layers[0].conv(x, edge_index, edge_attr)\n",
        "\n",
        "        for layer in self.layers[1:]:\n",
        "            x = layer(x, edge_index, edge_attr)\n",
        "\n",
        "        x = self.layers[0].act(self.layers[0].norm(x))\n",
        "        x = self.dropout(x)\n",
        "\n",
        "        return self.lin(x)\n",
        "\n",
        "def weighted_mse_loss(prds, tgts, weight):\n",
        "    return torch.mean(weight * (prds - tgts)**2)\n",
        "\n",
        "def criterion(prds, tgts, weight=None):\n",
        "    if weight is None:\n",
        "        return (torch.sqrt(torch.nn.MSELoss()(prds[:,0], tgts[:,0])) +\n",
        "                torch.sqrt(torch.nn.MSELoss()(prds[:,1], tgts[:,1])) +\n",
        "                torch.sqrt(torch.nn.MSELoss()(prds[:,2], tgts[:,2]))) / 3\n",
        "    else:\n",
        "        return (torch.sqrt(weighted_mse_loss(prds[:,0], tgts[:,0], weight)) +\n",
        "                torch.sqrt(weighted_mse_loss(prds[:,1], tgts[:,1], weight)) +\n",
        "                torch.sqrt(weighted_mse_loss(prds[:,2], tgts[:,2], weight))) / 3\n",
        "\n",
        "def build_id_seqpos(df):\n",
        "    id_seqpos = []\n",
        "    for i in range(len(df)):\n",
        "        id = df.loc[i, 'id']\n",
        "        seq_length = df.loc[i, 'seq_length']\n",
        "        for seqpos in range(seq_length):\n",
        "            id_seqpos.append(id + '_' + str(seqpos))\n",
        "    return id_seqpos\n",
        "\n",
        "def sample_is_clean(row):\n",
        "    return row['SN_filter'] == 1\n",
        "    #return row['signal_to_noise'] > 1 and \\\n",
        "    #       min((min(row['reactivity']),\n",
        "    #            min(row['deg_Mg_pH10']),\n",
        "    #            min(row['deg_pH10']),\n",
        "    #            min(row['deg_Mg_50C']),\n",
        "    #            min(row['deg_50C']))) > -0.5\n",
        "\n",
        "# categorical value for target (used for stratified kfold)\n",
        "def add_y_cat(df):\n",
        "    target_mean = df['reactivity'].apply(np.mean) + \\\n",
        "                  df['deg_Mg_pH10'].apply(np.mean) + \\\n",
        "                  df['deg_Mg_50C'].apply(np.mean)\n",
        "    df['y_cat'] = pd.qcut(np.array(target_mean), q=20).codes\n",
        "\n",
        "if __name__ == '__main__':\n",
        "    torch.manual_seed(seed)\n",
        "    torch.backends.cudnn.deterministic = True\n",
        "    torch.backends.cudnn.benchmark = False\n",
        "    torch.cuda.manual_seed(seed)\n",
        "    np.random.seed(seed)\n",
        "    random.seed(seed)\n",
        "    os.environ[\"PYTHONHASHSEED\"] = str(seed)\n",
        "    # not enough ? reproducibility issue still remains\n",
        "\n",
        "    print('Reading', train_file)\n",
        "    df_tr = pd.read_json(train_file, lines=True)\n",
        "   "
      ],
      "execution_count": null,
      "outputs": [
        {
          "output_type": "stream",
          "text": [
            "Reading train.json\n"
          ],
          "name": "stdout"
        }
      ]
    },
    {
      "cell_type": "code",
      "metadata": {
        "id": "h-SsPq7KFwJu",
        "outputId": "7e6a9196-8176-47ef-eb11-608000741608",
        "colab": {
          "base_uri": "https://localhost:8080/",
          "height": 51
        }
      },
      "source": [
        "aug_df = pd.concat([pd.read_csv('aug_data500.csv'),pd.read_csv('aug_data1000.csv'),pd.read_csv('aug_data1500.csv'),pd.read_csv('aug_data2000.csv'),pd.read_csv('aug_data2500.csv')])\n",
        "print(df_tr.shape)\n",
        "def aug_data(df):\n",
        "    target_df = df.copy()\n",
        "    new_df = aug_df[aug_df['id'].isin(target_df['id'])]\n",
        "                         \n",
        "    del target_df['structure']\n",
        "    del target_df['predicted_loop_type']\n",
        "    new_df = new_df.merge(target_df, on=['id','sequence'], how='left')\n",
        "\n",
        "    df['cnt'] = df['id'].map(new_df[['id','cnt']].set_index('id').to_dict()['cnt'])\n",
        "    df['log_gamma'] = 100\n",
        "    df['score'] = 1.0\n",
        "    df = df.append(new_df[df.columns])\n",
        "    return df\n",
        "df_tr = aug_data(df_tr)\n",
        "print(df_tr.shape)"
      ],
      "execution_count": null,
      "outputs": [
        {
          "output_type": "stream",
          "text": [
            "(2400, 19)\n",
            "(4800, 22)\n"
          ],
          "name": "stdout"
        }
      ]
    },
    {
      "cell_type": "code",
      "metadata": {
        "id": "z3jXOcjMFYNz",
        "outputId": "9e98a3d5-8dbd-4135-9509-bf38bb5f4369",
        "colab": {
          "base_uri": "https://localhost:8080/",
          "height": 1000
        }
      },
      "source": [
        "add_y_cat(df_tr)\n",
        "\n",
        "is_clean = df_tr.apply(sample_is_clean, axis=1)\n",
        "df_clean = df_tr[is_clean].reset_index(drop=True)\n",
        "df_noisy = df_tr[is_clean==False].reset_index(drop=True)\n",
        "del df_tr\n",
        "\n",
        "print('Training')\n",
        "all_ys = torch.zeros((0, 3)).to(device).detach()\n",
        "all_outs = torch.zeros((0, 3)).to(device).detach()\n",
        "best_model_states = []\n",
        "kf = StratifiedKFold(nb_fold, shuffle=True, random_state=seed)\n",
        "for fold, ((clean_train_idx, clean_valid_idx),\n",
        "           (noisy_train_idx, noisy_valid_idx)) \\\n",
        "               in enumerate(zip(kf.split(df_clean, df_clean['y_cat']),\n",
        "                                kf.split(df_noisy, df_noisy['y_cat']))):\n",
        "  print('Fold', fold)\n",
        "\n",
        "  # build train data\n",
        "  df_train = df_clean.loc[clean_train_idx]\n",
        "  if train_with_noisy_data:\n",
        "    df_train_noisy = df_noisy.loc[noisy_train_idx]\n",
        "    df_train_noisy = \\\n",
        "    df_train_noisy[df_train_noisy.apply(calc_error_mean, axis=1) <= \\\n",
        "      error_mean_limit]\n",
        "    df_train = df_train.append(df_train_noisy)\n",
        "    data_train = build_data(df_train.reset_index(drop=True), True)\n",
        "    del df_train\n",
        "    loader_train = DataLoader(data_train, batch_size=batch_size,\n",
        "                                  shuffle=True)\n",
        "\n",
        "    # build validation data\n",
        "    df_valid_clean = df_clean.loc[clean_valid_idx].reset_index(drop=True)\n",
        "    data_valid_clean = build_data(df_valid_clean, True)\n",
        "    del df_valid_clean\n",
        "    loader_valid_clean = DataLoader(data_valid_clean, batch_size=batch_size,\n",
        "                                        shuffle=False)\n",
        "\n",
        "    model = MyDeeperGCN(data_train[0].num_node_features,\n",
        "                        data_train[0].num_edge_features,\n",
        "                        node_hidden_channels=node_hidden_channels,\n",
        "                        edge_hidden_channels=edge_hidden_channels,\n",
        "                        num_layers=num_layers,\n",
        "                        num_classes=3).to(device)\n",
        "    optimizer = torch.optim.Adam(model.parameters(), lr=lr)\n",
        "    best_mcrmse = np.inf\n",
        "    for epoch in range(epochs):\n",
        "        print('Epoch', epoch)\n",
        "        model.train()\n",
        "        train_loss = 0.0\n",
        "        nb = 0\n",
        "        for data in tqdm(loader_train):\n",
        "            data = data.to(device)\n",
        "            mask = data.train_mask\n",
        "            weight = data.weight[mask]\n",
        "\n",
        "            optimizer.zero_grad()\n",
        "            out = model(data)[mask]\n",
        "            y = data.y[mask]\n",
        "            loss = criterion(out, y, weight)\n",
        "            loss.backward()\n",
        "            optimizer.step()\n",
        "            train_loss += loss.item() * y.size(0)\n",
        "            nb += y.size(0)\n",
        "\n",
        "            del data\n",
        "            del out\n",
        "            del y\n",
        "            del loss\n",
        "            #gc.collect()\n",
        "            #torch.cuda.empty_cache()\n",
        "        train_loss /= nb\n",
        "\n",
        "        model.eval()\n",
        "        valid_loss = 0.0\n",
        "        nb = 0\n",
        "        ys = torch.zeros((0, 3)).to(device).detach()\n",
        "        outs = torch.zeros((0, 3)).to(device).detach()\n",
        "        for data in tqdm(loader_valid_clean):\n",
        "            data = data.to(device)\n",
        "            mask = data.train_mask\n",
        "\n",
        "            out = model(data)[mask].detach()\n",
        "            y = data.y[mask].detach()\n",
        "            loss = criterion(out, y).detach()\n",
        "            valid_loss += loss.item() * y.size(0)\n",
        "            nb += y.size(0)\n",
        "\n",
        "            outs = torch.cat((outs, out), dim=0)\n",
        "            ys = torch.cat((ys, y), dim=0)\n",
        "\n",
        "            del data\n",
        "            del out\n",
        "            del y\n",
        "            del loss\n",
        "            #gc.collect()\n",
        "            #torch.cuda.empty_cache()\n",
        "        valid_loss /= nb\n",
        "\n",
        "        mcrmse = criterion(outs, ys).item()\n",
        "\n",
        "        print(\"T Loss: {:.4f} V Loss: {:.4f} V MCRMSE: {:.4f}\".\\\n",
        "                format(train_loss, valid_loss, mcrmse))\n",
        "\n",
        "        if mcrmse < best_mcrmse:\n",
        "            print('Best valid MCRMSE updated to', mcrmse)\n",
        "            best_mcrmse = mcrmse\n",
        "            best_model_state = copy.deepcopy(model.state_dict())\n",
        "\n",
        "    del data_train\n",
        "    del data_valid_clean\n",
        "    #gc.collect()\n",
        "    #torch.cuda.empty_cache()\n",
        "\n",
        "    best_model_states.append(best_model_state)\n",
        "\n",
        "    # predict for CV\n",
        "    model.load_state_dict(best_model_state)\n",
        "    model.eval()\n",
        "    for data in tqdm(loader_valid_clean):\n",
        "        data = data.to(device)\n",
        "        mask = data.train_mask\n",
        "\n",
        "        out = model(data)[mask].detach()\n",
        "        y = data.y[mask].detach()\n",
        "\n",
        "        all_ys = torch.cat((all_ys, y), dim=0)\n",
        "        all_outs = torch.cat((all_outs, out), dim=0)\n",
        "\n",
        "        del data\n",
        "        del out\n",
        "        del y\n",
        "        #gc.collect()\n",
        "        #torch.cuda.empty_cache()\n",
        "\n",
        "# calculate MCRMSE by all training data\n",
        "print('CV MCRMSE ', criterion(all_outs, all_ys).item())\n",
        "del all_outs\n",
        "del all_ys\n",
        "#gc.collect()\n",
        "#torch.cuda.empty_cache()\n",
        "\n",
        "# predict for test data\n",
        "print('Predicting test data')\n",
        "print('Reading', test_file)\n",
        "df_te = pd.read_json(test_file, lines=True)\n",
        "data_test = build_data(df_te, False)\n",
        "loader_test = DataLoader(data_test, batch_size=batch_size, shuffle=False)\n",
        "id_seqpos = build_id_seqpos(df_te)\n",
        "\n",
        "preds = torch.zeros((len(id_seqpos), 3)).to(device).detach()\n",
        "for best_model_state in best_model_states:\n",
        "    model.load_state_dict(best_model_state)\n",
        "    model.eval()\n",
        "\n",
        "    outs = torch.zeros((0, 3)).to(device).detach()\n",
        "    for data in tqdm(loader_test):\n",
        "        data = data.to(device)\n",
        "        mask = data.test_mask\n",
        "\n",
        "        out = model(data)[mask].detach()\n",
        "        outs = torch.cat((outs, out), dim=0)\n",
        "\n",
        "        del data\n",
        "        del out\n",
        "        #gc.collect()\n",
        "        #torch.cuda.empty_cache()\n",
        "    preds += outs\n",
        "preds /= len(best_model_states)\n",
        "preds = preds.cpu().numpy()\n",
        "\n",
        "df_sub = pd.DataFrame({'id_seqpos': id_seqpos,\n",
        "                       'reactivity': preds[:,0],\n",
        "                       'deg_Mg_pH10': preds[:,1],\n",
        "                       'deg_pH10': 0,\n",
        "                       'deg_Mg_50C': preds[:,2],\n",
        "                       'deg_50C': 0})\n",
        "print('Writing submission.csv')\n",
        "df_sub.to_csv('submission.csv', index=False)\n"
      ],
      "execution_count": null,
      "outputs": [
        {
          "output_type": "stream",
          "text": [
            "Training\n",
            "Fold 0\n"
          ],
          "name": "stdout"
        },
        {
          "output_type": "stream",
          "text": [
            "\r  0%|          | 0/243 [00:00<?, ?it/s]"
          ],
          "name": "stderr"
        },
        {
          "output_type": "stream",
          "text": [
            "Epoch 0\n"
          ],
          "name": "stdout"
        },
        {
          "output_type": "stream",
          "text": [
            "100%|██████████| 243/243 [00:30<00:00,  8.06it/s]\n",
            "100%|██████████| 20/20 [00:00<00:00, 20.89it/s]\n",
            "  0%|          | 1/243 [00:00<00:29,  8.34it/s]"
          ],
          "name": "stderr"
        },
        {
          "output_type": "stream",
          "text": [
            "T Loss: 0.3561 V Loss: 0.2913 V MCRMSE: 0.2920\n",
            "Best valid MCRMSE updated to 0.29198020696640015\n",
            "Epoch 1\n"
          ],
          "name": "stdout"
        },
        {
          "output_type": "stream",
          "text": [
            "100%|██████████| 243/243 [00:29<00:00,  8.16it/s]\n",
            "100%|██████████| 20/20 [00:00<00:00, 20.84it/s]\n",
            "  0%|          | 1/243 [00:00<00:29,  8.07it/s]"
          ],
          "name": "stderr"
        },
        {
          "output_type": "stream",
          "text": [
            "T Loss: 0.2894 V Loss: 0.2661 V MCRMSE: 0.2671\n",
            "Best valid MCRMSE updated to 0.26705822348594666\n",
            "Epoch 2\n"
          ],
          "name": "stdout"
        },
        {
          "output_type": "stream",
          "text": [
            "100%|██████████| 243/243 [00:29<00:00,  8.16it/s]\n",
            "100%|██████████| 20/20 [00:00<00:00, 20.78it/s]\n",
            "  0%|          | 1/243 [00:00<00:29,  8.16it/s]"
          ],
          "name": "stderr"
        },
        {
          "output_type": "stream",
          "text": [
            "T Loss: 0.2702 V Loss: 0.2592 V MCRMSE: 0.2602\n",
            "Best valid MCRMSE updated to 0.2601886987686157\n",
            "Epoch 3\n"
          ],
          "name": "stdout"
        },
        {
          "output_type": "stream",
          "text": [
            "100%|██████████| 243/243 [00:29<00:00,  8.16it/s]\n",
            "100%|██████████| 20/20 [00:00<00:00, 20.78it/s]\n",
            "  0%|          | 1/243 [00:00<00:29,  8.30it/s]"
          ],
          "name": "stderr"
        },
        {
          "output_type": "stream",
          "text": [
            "T Loss: 0.2587 V Loss: 0.2526 V MCRMSE: 0.2537\n",
            "Best valid MCRMSE updated to 0.2536952495574951\n",
            "Epoch 4\n"
          ],
          "name": "stdout"
        },
        {
          "output_type": "stream",
          "text": [
            "100%|██████████| 243/243 [00:29<00:00,  8.17it/s]\n",
            "100%|██████████| 20/20 [00:00<00:00, 20.87it/s]\n",
            "  0%|          | 1/243 [00:00<00:29,  8.12it/s]"
          ],
          "name": "stderr"
        },
        {
          "output_type": "stream",
          "text": [
            "T Loss: 0.2468 V Loss: 0.2404 V MCRMSE: 0.2413\n",
            "Best valid MCRMSE updated to 0.24131816625595093\n",
            "Epoch 5\n"
          ],
          "name": "stdout"
        },
        {
          "output_type": "stream",
          "text": [
            "100%|██████████| 243/243 [00:29<00:00,  8.17it/s]\n",
            "100%|██████████| 20/20 [00:00<00:00, 20.98it/s]\n",
            "  0%|          | 1/243 [00:00<00:29,  8.17it/s]"
          ],
          "name": "stderr"
        },
        {
          "output_type": "stream",
          "text": [
            "T Loss: 0.2408 V Loss: 0.2320 V MCRMSE: 0.2330\n",
            "Best valid MCRMSE updated to 0.2329581081867218\n",
            "Epoch 6\n"
          ],
          "name": "stdout"
        },
        {
          "output_type": "stream",
          "text": [
            "100%|██████████| 243/243 [00:29<00:00,  8.18it/s]\n",
            "100%|██████████| 20/20 [00:00<00:00, 20.97it/s]\n",
            "  0%|          | 1/243 [00:00<00:29,  8.24it/s]"
          ],
          "name": "stderr"
        },
        {
          "output_type": "stream",
          "text": [
            "T Loss: 0.2351 V Loss: 0.2288 V MCRMSE: 0.2298\n",
            "Best valid MCRMSE updated to 0.2298073172569275\n",
            "Epoch 7\n"
          ],
          "name": "stdout"
        },
        {
          "output_type": "stream",
          "text": [
            "100%|██████████| 243/243 [00:29<00:00,  8.20it/s]\n",
            "100%|██████████| 20/20 [00:00<00:00, 20.93it/s]\n",
            "  0%|          | 1/243 [00:00<00:29,  8.15it/s]"
          ],
          "name": "stderr"
        },
        {
          "output_type": "stream",
          "text": [
            "T Loss: 0.2305 V Loss: 0.2313 V MCRMSE: 0.2323\n",
            "Epoch 8\n"
          ],
          "name": "stdout"
        },
        {
          "output_type": "stream",
          "text": [
            "100%|██████████| 243/243 [00:29<00:00,  8.18it/s]\n",
            "100%|██████████| 20/20 [00:00<00:00, 20.97it/s]\n",
            "  0%|          | 1/243 [00:00<00:28,  8.36it/s]"
          ],
          "name": "stderr"
        },
        {
          "output_type": "stream",
          "text": [
            "T Loss: 0.2269 V Loss: 0.2221 V MCRMSE: 0.2230\n",
            "Best valid MCRMSE updated to 0.22303055226802826\n",
            "Epoch 9\n"
          ],
          "name": "stdout"
        },
        {
          "output_type": "stream",
          "text": [
            "100%|██████████| 243/243 [00:29<00:00,  8.18it/s]\n",
            "100%|██████████| 20/20 [00:00<00:00, 20.97it/s]\n",
            "  0%|          | 1/243 [00:00<00:29,  8.23it/s]"
          ],
          "name": "stderr"
        },
        {
          "output_type": "stream",
          "text": [
            "T Loss: 0.2229 V Loss: 0.2204 V MCRMSE: 0.2212\n",
            "Best valid MCRMSE updated to 0.22123169898986816\n",
            "Epoch 10\n"
          ],
          "name": "stdout"
        },
        {
          "output_type": "stream",
          "text": [
            "100%|██████████| 243/243 [00:29<00:00,  8.19it/s]\n",
            "100%|██████████| 20/20 [00:00<00:00, 21.01it/s]\n",
            "  0%|          | 1/243 [00:00<00:29,  8.23it/s]"
          ],
          "name": "stderr"
        },
        {
          "output_type": "stream",
          "text": [
            "T Loss: 0.2191 V Loss: 0.2157 V MCRMSE: 0.2168\n",
            "Best valid MCRMSE updated to 0.21683606505393982\n",
            "Epoch 11\n"
          ],
          "name": "stdout"
        },
        {
          "output_type": "stream",
          "text": [
            "100%|██████████| 243/243 [00:29<00:00,  8.19it/s]\n",
            "100%|██████████| 20/20 [00:00<00:00, 20.94it/s]\n",
            "  0%|          | 1/243 [00:00<00:29,  8.15it/s]"
          ],
          "name": "stderr"
        },
        {
          "output_type": "stream",
          "text": [
            "T Loss: 0.2156 V Loss: 0.2142 V MCRMSE: 0.2153\n",
            "Best valid MCRMSE updated to 0.21527104079723358\n",
            "Epoch 12\n"
          ],
          "name": "stdout"
        },
        {
          "output_type": "stream",
          "text": [
            "100%|██████████| 243/243 [00:29<00:00,  8.19it/s]\n",
            "100%|██████████| 20/20 [00:00<00:00, 21.08it/s]\n",
            "  0%|          | 1/243 [00:00<00:29,  8.30it/s]"
          ],
          "name": "stderr"
        },
        {
          "output_type": "stream",
          "text": [
            "T Loss: 0.2132 V Loss: 0.2123 V MCRMSE: 0.2133\n",
            "Best valid MCRMSE updated to 0.21333399415016174\n",
            "Epoch 13\n"
          ],
          "name": "stdout"
        },
        {
          "output_type": "stream",
          "text": [
            "100%|██████████| 243/243 [00:29<00:00,  8.19it/s]\n",
            "100%|██████████| 20/20 [00:00<00:00, 21.10it/s]\n",
            "  0%|          | 1/243 [00:00<00:28,  8.39it/s]"
          ],
          "name": "stderr"
        },
        {
          "output_type": "stream",
          "text": [
            "T Loss: 0.2100 V Loss: 0.2118 V MCRMSE: 0.2128\n",
            "Best valid MCRMSE updated to 0.21282075345516205\n",
            "Epoch 14\n"
          ],
          "name": "stdout"
        },
        {
          "output_type": "stream",
          "text": [
            "100%|██████████| 243/243 [00:29<00:00,  8.18it/s]\n",
            "100%|██████████| 20/20 [00:00<00:00, 20.93it/s]\n",
            "  0%|          | 1/243 [00:00<00:29,  8.23it/s]"
          ],
          "name": "stderr"
        },
        {
          "output_type": "stream",
          "text": [
            "T Loss: 0.2076 V Loss: 0.2080 V MCRMSE: 0.2092\n",
            "Best valid MCRMSE updated to 0.20917385816574097\n",
            "Epoch 15\n"
          ],
          "name": "stdout"
        },
        {
          "output_type": "stream",
          "text": [
            "100%|██████████| 243/243 [00:29<00:00,  8.17it/s]\n",
            "100%|██████████| 20/20 [00:00<00:00, 20.85it/s]\n",
            "  0%|          | 1/243 [00:00<00:29,  8.15it/s]"
          ],
          "name": "stderr"
        },
        {
          "output_type": "stream",
          "text": [
            "T Loss: 0.2049 V Loss: 0.2058 V MCRMSE: 0.2070\n",
            "Best valid MCRMSE updated to 0.20698007941246033\n",
            "Epoch 16\n"
          ],
          "name": "stdout"
        },
        {
          "output_type": "stream",
          "text": [
            "100%|██████████| 243/243 [00:29<00:00,  8.15it/s]\n",
            "100%|██████████| 20/20 [00:00<00:00, 21.00it/s]\n",
            "  0%|          | 1/243 [00:00<00:29,  8.19it/s]"
          ],
          "name": "stderr"
        },
        {
          "output_type": "stream",
          "text": [
            "T Loss: 0.2024 V Loss: 0.2035 V MCRMSE: 0.2047\n",
            "Best valid MCRMSE updated to 0.20465290546417236\n",
            "Epoch 17\n"
          ],
          "name": "stdout"
        },
        {
          "output_type": "stream",
          "text": [
            "100%|██████████| 243/243 [00:29<00:00,  8.18it/s]\n",
            "100%|██████████| 20/20 [00:00<00:00, 21.05it/s]\n",
            "  0%|          | 1/243 [00:00<00:29,  8.33it/s]"
          ],
          "name": "stderr"
        },
        {
          "output_type": "stream",
          "text": [
            "T Loss: 0.2002 V Loss: 0.2010 V MCRMSE: 0.2020\n",
            "Best valid MCRMSE updated to 0.20203857123851776\n",
            "Epoch 18\n"
          ],
          "name": "stdout"
        },
        {
          "output_type": "stream",
          "text": [
            "100%|██████████| 243/243 [00:29<00:00,  8.21it/s]\n",
            "100%|██████████| 20/20 [00:00<00:00, 21.13it/s]\n",
            "  0%|          | 1/243 [00:00<00:29,  8.28it/s]"
          ],
          "name": "stderr"
        },
        {
          "output_type": "stream",
          "text": [
            "T Loss: 0.1989 V Loss: 0.2015 V MCRMSE: 0.2025\n",
            "Epoch 19\n"
          ],
          "name": "stdout"
        },
        {
          "output_type": "stream",
          "text": [
            "100%|██████████| 243/243 [00:29<00:00,  8.21it/s]\n",
            "100%|██████████| 20/20 [00:00<00:00, 21.04it/s]\n",
            "  0%|          | 1/243 [00:00<00:29,  8.15it/s]"
          ],
          "name": "stderr"
        },
        {
          "output_type": "stream",
          "text": [
            "T Loss: 0.1964 V Loss: 0.1962 V MCRMSE: 0.1973\n",
            "Best valid MCRMSE updated to 0.1972595900297165\n",
            "Epoch 20\n"
          ],
          "name": "stdout"
        },
        {
          "output_type": "stream",
          "text": [
            "100%|██████████| 243/243 [00:29<00:00,  8.20it/s]\n",
            "100%|██████████| 20/20 [00:00<00:00, 21.14it/s]\n",
            "  0%|          | 1/243 [00:00<00:29,  8.19it/s]"
          ],
          "name": "stderr"
        },
        {
          "output_type": "stream",
          "text": [
            "T Loss: 0.1946 V Loss: 0.1982 V MCRMSE: 0.1994\n",
            "Epoch 21\n"
          ],
          "name": "stdout"
        },
        {
          "output_type": "stream",
          "text": [
            "100%|██████████| 243/243 [00:29<00:00,  8.21it/s]\n",
            "100%|██████████| 20/20 [00:00<00:00, 21.01it/s]\n",
            "  0%|          | 1/243 [00:00<00:29,  8.31it/s]"
          ],
          "name": "stderr"
        },
        {
          "output_type": "stream",
          "text": [
            "T Loss: 0.1925 V Loss: 0.1951 V MCRMSE: 0.1962\n",
            "Best valid MCRMSE updated to 0.1962357759475708\n",
            "Epoch 22\n"
          ],
          "name": "stdout"
        },
        {
          "output_type": "stream",
          "text": [
            "100%|██████████| 243/243 [00:29<00:00,  8.20it/s]\n",
            "100%|██████████| 20/20 [00:00<00:00, 20.99it/s]\n",
            "  0%|          | 1/243 [00:00<00:29,  8.30it/s]"
          ],
          "name": "stderr"
        },
        {
          "output_type": "stream",
          "text": [
            "T Loss: 0.1915 V Loss: 0.1936 V MCRMSE: 0.1947\n",
            "Best valid MCRMSE updated to 0.19470709562301636\n",
            "Epoch 23\n"
          ],
          "name": "stdout"
        },
        {
          "output_type": "stream",
          "text": [
            "100%|██████████| 243/243 [00:29<00:00,  8.20it/s]\n",
            "100%|██████████| 20/20 [00:00<00:00, 21.04it/s]\n",
            "  0%|          | 1/243 [00:00<00:29,  8.26it/s]"
          ],
          "name": "stderr"
        },
        {
          "output_type": "stream",
          "text": [
            "T Loss: 0.1898 V Loss: 0.1938 V MCRMSE: 0.1949\n",
            "Epoch 24\n"
          ],
          "name": "stdout"
        },
        {
          "output_type": "stream",
          "text": [
            "100%|██████████| 243/243 [00:29<00:00,  8.21it/s]\n",
            "100%|██████████| 20/20 [00:00<00:00, 21.07it/s]\n",
            "  0%|          | 1/243 [00:00<00:29,  8.29it/s]"
          ],
          "name": "stderr"
        },
        {
          "output_type": "stream",
          "text": [
            "T Loss: 0.1882 V Loss: 0.1911 V MCRMSE: 0.1922\n",
            "Best valid MCRMSE updated to 0.19220243394374847\n",
            "Epoch 25\n"
          ],
          "name": "stdout"
        },
        {
          "output_type": "stream",
          "text": [
            "100%|██████████| 243/243 [00:29<00:00,  8.21it/s]\n",
            "100%|██████████| 20/20 [00:00<00:00, 21.09it/s]\n",
            "  0%|          | 1/243 [00:00<00:29,  8.22it/s]"
          ],
          "name": "stderr"
        },
        {
          "output_type": "stream",
          "text": [
            "T Loss: 0.1866 V Loss: 0.1866 V MCRMSE: 0.1876\n",
            "Best valid MCRMSE updated to 0.18760542571544647\n",
            "Epoch 26\n"
          ],
          "name": "stdout"
        },
        {
          "output_type": "stream",
          "text": [
            "100%|██████████| 243/243 [00:29<00:00,  8.22it/s]\n",
            "100%|██████████| 20/20 [00:00<00:00, 21.11it/s]\n",
            "  0%|          | 1/243 [00:00<00:29,  8.29it/s]"
          ],
          "name": "stderr"
        },
        {
          "output_type": "stream",
          "text": [
            "T Loss: 0.1856 V Loss: 0.1875 V MCRMSE: 0.1886\n",
            "Epoch 27\n"
          ],
          "name": "stdout"
        },
        {
          "output_type": "stream",
          "text": [
            "100%|██████████| 243/243 [00:29<00:00,  8.21it/s]\n",
            "100%|██████████| 20/20 [00:00<00:00, 21.03it/s]\n",
            "  0%|          | 1/243 [00:00<00:29,  8.32it/s]"
          ],
          "name": "stderr"
        },
        {
          "output_type": "stream",
          "text": [
            "T Loss: 0.1845 V Loss: 0.1854 V MCRMSE: 0.1864\n",
            "Best valid MCRMSE updated to 0.1864185929298401\n",
            "Epoch 28\n"
          ],
          "name": "stdout"
        },
        {
          "output_type": "stream",
          "text": [
            "100%|██████████| 243/243 [00:29<00:00,  8.20it/s]\n",
            "100%|██████████| 20/20 [00:00<00:00, 21.08it/s]\n",
            "  0%|          | 1/243 [00:00<00:29,  8.22it/s]"
          ],
          "name": "stderr"
        },
        {
          "output_type": "stream",
          "text": [
            "T Loss: 0.1826 V Loss: 0.1845 V MCRMSE: 0.1855\n",
            "Best valid MCRMSE updated to 0.18546748161315918\n",
            "Epoch 29\n"
          ],
          "name": "stdout"
        },
        {
          "output_type": "stream",
          "text": [
            "100%|██████████| 243/243 [00:29<00:00,  8.21it/s]\n",
            "100%|██████████| 20/20 [00:00<00:00, 21.16it/s]\n",
            "  0%|          | 1/243 [00:00<00:28,  8.35it/s]"
          ],
          "name": "stderr"
        },
        {
          "output_type": "stream",
          "text": [
            "T Loss: 0.1811 V Loss: 0.1846 V MCRMSE: 0.1857\n",
            "Epoch 30\n"
          ],
          "name": "stdout"
        },
        {
          "output_type": "stream",
          "text": [
            "100%|██████████| 243/243 [00:29<00:00,  8.22it/s]\n",
            "100%|██████████| 20/20 [00:00<00:00, 21.20it/s]\n",
            "  0%|          | 1/243 [00:00<00:29,  8.21it/s]"
          ],
          "name": "stderr"
        },
        {
          "output_type": "stream",
          "text": [
            "T Loss: 0.1807 V Loss: 0.1880 V MCRMSE: 0.1889\n",
            "Epoch 31\n"
          ],
          "name": "stdout"
        },
        {
          "output_type": "stream",
          "text": [
            "100%|██████████| 243/243 [00:29<00:00,  8.23it/s]\n",
            "100%|██████████| 20/20 [00:00<00:00, 21.17it/s]\n",
            "  0%|          | 1/243 [00:00<00:29,  8.24it/s]"
          ],
          "name": "stderr"
        },
        {
          "output_type": "stream",
          "text": [
            "T Loss: 0.1792 V Loss: 0.1820 V MCRMSE: 0.1829\n",
            "Best valid MCRMSE updated to 0.18294845521450043\n",
            "Epoch 32\n"
          ],
          "name": "stdout"
        },
        {
          "output_type": "stream",
          "text": [
            "100%|██████████| 243/243 [00:29<00:00,  8.23it/s]\n",
            "100%|██████████| 20/20 [00:00<00:00, 21.14it/s]\n",
            "  0%|          | 1/243 [00:00<00:28,  8.35it/s]"
          ],
          "name": "stderr"
        },
        {
          "output_type": "stream",
          "text": [
            "T Loss: 0.1783 V Loss: 0.1827 V MCRMSE: 0.1838\n",
            "Epoch 33\n"
          ],
          "name": "stdout"
        },
        {
          "output_type": "stream",
          "text": [
            "100%|██████████| 243/243 [00:29<00:00,  8.22it/s]\n",
            "100%|██████████| 20/20 [00:00<00:00, 21.14it/s]\n",
            "  0%|          | 1/243 [00:00<00:29,  8.32it/s]"
          ],
          "name": "stderr"
        },
        {
          "output_type": "stream",
          "text": [
            "T Loss: 0.1769 V Loss: 0.1801 V MCRMSE: 0.1811\n",
            "Best valid MCRMSE updated to 0.18109950423240662\n",
            "Epoch 34\n"
          ],
          "name": "stdout"
        },
        {
          "output_type": "stream",
          "text": [
            "100%|██████████| 243/243 [00:29<00:00,  8.24it/s]\n",
            "100%|██████████| 20/20 [00:00<00:00, 21.17it/s]\n",
            "  0%|          | 1/243 [00:00<00:28,  8.35it/s]"
          ],
          "name": "stderr"
        },
        {
          "output_type": "stream",
          "text": [
            "T Loss: 0.1765 V Loss: 0.1810 V MCRMSE: 0.1821\n",
            "Epoch 35\n"
          ],
          "name": "stdout"
        },
        {
          "output_type": "stream",
          "text": [
            "100%|██████████| 243/243 [00:29<00:00,  8.23it/s]\n",
            "100%|██████████| 20/20 [00:00<00:00, 21.18it/s]\n",
            "  0%|          | 1/243 [00:00<00:29,  8.30it/s]"
          ],
          "name": "stderr"
        },
        {
          "output_type": "stream",
          "text": [
            "T Loss: 0.1748 V Loss: 0.1780 V MCRMSE: 0.1791\n",
            "Best valid MCRMSE updated to 0.1791260540485382\n",
            "Epoch 36\n"
          ],
          "name": "stdout"
        },
        {
          "output_type": "stream",
          "text": [
            "100%|██████████| 243/243 [00:29<00:00,  8.23it/s]\n",
            "100%|██████████| 20/20 [00:00<00:00, 21.09it/s]\n",
            "  0%|          | 1/243 [00:00<00:29,  8.25it/s]"
          ],
          "name": "stderr"
        },
        {
          "output_type": "stream",
          "text": [
            "T Loss: 0.1745 V Loss: 0.1757 V MCRMSE: 0.1767\n",
            "Best valid MCRMSE updated to 0.17668184638023376\n",
            "Epoch 37\n"
          ],
          "name": "stdout"
        },
        {
          "output_type": "stream",
          "text": [
            "100%|██████████| 243/243 [00:29<00:00,  8.24it/s]\n",
            "100%|██████████| 20/20 [00:00<00:00, 21.08it/s]\n",
            "  0%|          | 1/243 [00:00<00:29,  8.26it/s]"
          ],
          "name": "stderr"
        },
        {
          "output_type": "stream",
          "text": [
            "T Loss: 0.1735 V Loss: 0.1797 V MCRMSE: 0.1807\n",
            "Epoch 38\n"
          ],
          "name": "stdout"
        },
        {
          "output_type": "stream",
          "text": [
            "100%|██████████| 243/243 [00:29<00:00,  8.23it/s]\n",
            "100%|██████████| 20/20 [00:00<00:00, 21.12it/s]\n",
            "  0%|          | 1/243 [00:00<00:29,  8.20it/s]"
          ],
          "name": "stderr"
        },
        {
          "output_type": "stream",
          "text": [
            "T Loss: 0.1722 V Loss: 0.1762 V MCRMSE: 0.1773\n",
            "Epoch 39\n"
          ],
          "name": "stdout"
        },
        {
          "output_type": "stream",
          "text": [
            "100%|██████████| 243/243 [00:29<00:00,  8.24it/s]\n",
            "100%|██████████| 20/20 [00:00<00:00, 21.20it/s]\n",
            "  0%|          | 1/243 [00:00<00:29,  8.23it/s]"
          ],
          "name": "stderr"
        },
        {
          "output_type": "stream",
          "text": [
            "T Loss: 0.1721 V Loss: 0.1736 V MCRMSE: 0.1748\n",
            "Best valid MCRMSE updated to 0.17477697134017944\n",
            "Epoch 40\n"
          ],
          "name": "stdout"
        },
        {
          "output_type": "stream",
          "text": [
            "100%|██████████| 243/243 [00:29<00:00,  8.24it/s]\n",
            "100%|██████████| 20/20 [00:00<00:00, 21.12it/s]\n",
            "  0%|          | 1/243 [00:00<00:29,  8.30it/s]"
          ],
          "name": "stderr"
        },
        {
          "output_type": "stream",
          "text": [
            "T Loss: 0.1711 V Loss: 0.1756 V MCRMSE: 0.1767\n",
            "Epoch 41\n"
          ],
          "name": "stdout"
        },
        {
          "output_type": "stream",
          "text": [
            "100%|██████████| 243/243 [00:29<00:00,  8.23it/s]\n",
            "100%|██████████| 20/20 [00:00<00:00, 21.16it/s]\n",
            "  0%|          | 1/243 [00:00<00:29,  8.33it/s]"
          ],
          "name": "stderr"
        },
        {
          "output_type": "stream",
          "text": [
            "T Loss: 0.1703 V Loss: 0.1740 V MCRMSE: 0.1749\n",
            "Epoch 42\n"
          ],
          "name": "stdout"
        },
        {
          "output_type": "stream",
          "text": [
            "100%|██████████| 243/243 [00:29<00:00,  8.24it/s]\n",
            "100%|██████████| 20/20 [00:00<00:00, 21.26it/s]\n",
            "  0%|          | 1/243 [00:00<00:28,  8.37it/s]"
          ],
          "name": "stderr"
        },
        {
          "output_type": "stream",
          "text": [
            "T Loss: 0.1696 V Loss: 0.1744 V MCRMSE: 0.1754\n",
            "Epoch 43\n"
          ],
          "name": "stdout"
        },
        {
          "output_type": "stream",
          "text": [
            "100%|██████████| 243/243 [00:29<00:00,  8.20it/s]\n",
            "100%|██████████| 20/20 [00:00<00:00, 21.09it/s]\n",
            "  0%|          | 1/243 [00:00<00:28,  8.39it/s]"
          ],
          "name": "stderr"
        },
        {
          "output_type": "stream",
          "text": [
            "T Loss: 0.1687 V Loss: 0.1720 V MCRMSE: 0.1731\n",
            "Best valid MCRMSE updated to 0.17306475341320038\n",
            "Epoch 44\n"
          ],
          "name": "stdout"
        },
        {
          "output_type": "stream",
          "text": [
            "100%|██████████| 243/243 [00:29<00:00,  8.23it/s]\n",
            "100%|██████████| 20/20 [00:00<00:00, 21.15it/s]\n",
            "  0%|          | 1/243 [00:00<00:28,  8.37it/s]"
          ],
          "name": "stderr"
        },
        {
          "output_type": "stream",
          "text": [
            "T Loss: 0.1677 V Loss: 0.1724 V MCRMSE: 0.1735\n",
            "Epoch 45\n"
          ],
          "name": "stdout"
        },
        {
          "output_type": "stream",
          "text": [
            "100%|██████████| 243/243 [00:29<00:00,  8.23it/s]\n",
            "100%|██████████| 20/20 [00:00<00:00, 21.15it/s]\n",
            "  0%|          | 1/243 [00:00<00:28,  8.35it/s]"
          ],
          "name": "stderr"
        },
        {
          "output_type": "stream",
          "text": [
            "T Loss: 0.1672 V Loss: 0.1739 V MCRMSE: 0.1751\n",
            "Epoch 46\n"
          ],
          "name": "stdout"
        },
        {
          "output_type": "stream",
          "text": [
            "100%|██████████| 243/243 [00:29<00:00,  8.22it/s]\n",
            "100%|██████████| 20/20 [00:00<00:00, 21.06it/s]\n",
            "  0%|          | 1/243 [00:00<00:29,  8.28it/s]"
          ],
          "name": "stderr"
        },
        {
          "output_type": "stream",
          "text": [
            "T Loss: 0.1667 V Loss: 0.1696 V MCRMSE: 0.1709\n",
            "Best valid MCRMSE updated to 0.17085129022598267\n",
            "Epoch 47\n"
          ],
          "name": "stdout"
        },
        {
          "output_type": "stream",
          "text": [
            "100%|██████████| 243/243 [00:29<00:00,  8.23it/s]\n",
            "100%|██████████| 20/20 [00:00<00:00, 21.23it/s]\n",
            "  0%|          | 1/243 [00:00<00:29,  8.34it/s]"
          ],
          "name": "stderr"
        },
        {
          "output_type": "stream",
          "text": [
            "T Loss: 0.1657 V Loss: 0.1689 V MCRMSE: 0.1701\n",
            "Best valid MCRMSE updated to 0.17014054954051971\n",
            "Epoch 48\n"
          ],
          "name": "stdout"
        },
        {
          "output_type": "stream",
          "text": [
            "100%|██████████| 243/243 [00:29<00:00,  8.23it/s]\n",
            "100%|██████████| 20/20 [00:00<00:00, 21.21it/s]\n",
            "  0%|          | 1/243 [00:00<00:29,  8.23it/s]"
          ],
          "name": "stderr"
        },
        {
          "output_type": "stream",
          "text": [
            "T Loss: 0.1655 V Loss: 0.1672 V MCRMSE: 0.1684\n",
            "Best valid MCRMSE updated to 0.1684214472770691\n",
            "Epoch 49\n"
          ],
          "name": "stdout"
        },
        {
          "output_type": "stream",
          "text": [
            "100%|██████████| 243/243 [00:29<00:00,  8.23it/s]\n",
            "100%|██████████| 20/20 [00:00<00:00, 21.18it/s]\n",
            "  0%|          | 1/243 [00:00<00:28,  8.38it/s]"
          ],
          "name": "stderr"
        },
        {
          "output_type": "stream",
          "text": [
            "T Loss: 0.1644 V Loss: 0.1668 V MCRMSE: 0.1680\n",
            "Best valid MCRMSE updated to 0.1679670810699463\n",
            "Epoch 50\n"
          ],
          "name": "stdout"
        },
        {
          "output_type": "stream",
          "text": [
            "100%|██████████| 243/243 [00:29<00:00,  8.23it/s]\n",
            "100%|██████████| 20/20 [00:00<00:00, 21.18it/s]\n",
            "  0%|          | 1/243 [00:00<00:28,  8.36it/s]"
          ],
          "name": "stderr"
        },
        {
          "output_type": "stream",
          "text": [
            "T Loss: 0.1638 V Loss: 0.1666 V MCRMSE: 0.1677\n",
            "Best valid MCRMSE updated to 0.16774269938468933\n",
            "Epoch 51\n"
          ],
          "name": "stdout"
        },
        {
          "output_type": "stream",
          "text": [
            "100%|██████████| 243/243 [00:29<00:00,  8.24it/s]\n",
            "100%|██████████| 20/20 [00:00<00:00, 21.13it/s]\n",
            "  0%|          | 1/243 [00:00<00:29,  8.27it/s]"
          ],
          "name": "stderr"
        },
        {
          "output_type": "stream",
          "text": [
            "T Loss: 0.1630 V Loss: 0.1659 V MCRMSE: 0.1671\n",
            "Best valid MCRMSE updated to 0.16708073019981384\n",
            "Epoch 52\n"
          ],
          "name": "stdout"
        },
        {
          "output_type": "stream",
          "text": [
            "100%|██████████| 243/243 [00:29<00:00,  8.22it/s]\n",
            "100%|██████████| 20/20 [00:00<00:00, 21.15it/s]\n",
            "  0%|          | 1/243 [00:00<00:29,  8.29it/s]"
          ],
          "name": "stderr"
        },
        {
          "output_type": "stream",
          "text": [
            "T Loss: 0.1633 V Loss: 0.1659 V MCRMSE: 0.1672\n",
            "Epoch 53\n"
          ],
          "name": "stdout"
        },
        {
          "output_type": "stream",
          "text": [
            "100%|██████████| 243/243 [00:29<00:00,  8.25it/s]\n",
            "100%|██████████| 20/20 [00:00<00:00, 21.05it/s]\n",
            "  0%|          | 1/243 [00:00<00:29,  8.29it/s]"
          ],
          "name": "stderr"
        },
        {
          "output_type": "stream",
          "text": [
            "T Loss: 0.1619 V Loss: 0.1646 V MCRMSE: 0.1659\n",
            "Best valid MCRMSE updated to 0.16587382555007935\n",
            "Epoch 54\n"
          ],
          "name": "stdout"
        },
        {
          "output_type": "stream",
          "text": [
            "100%|██████████| 243/243 [00:29<00:00,  8.23it/s]\n",
            "100%|██████████| 20/20 [00:00<00:00, 21.21it/s]\n",
            "  0%|          | 1/243 [00:00<00:29,  8.26it/s]"
          ],
          "name": "stderr"
        },
        {
          "output_type": "stream",
          "text": [
            "T Loss: 0.1617 V Loss: 0.1669 V MCRMSE: 0.1682\n",
            "Epoch 55\n"
          ],
          "name": "stdout"
        },
        {
          "output_type": "stream",
          "text": [
            "100%|██████████| 243/243 [00:29<00:00,  8.24it/s]\n",
            "100%|██████████| 20/20 [00:00<00:00, 21.18it/s]\n",
            "  0%|          | 1/243 [00:00<00:29,  8.29it/s]"
          ],
          "name": "stderr"
        },
        {
          "output_type": "stream",
          "text": [
            "T Loss: 0.1611 V Loss: 0.1640 V MCRMSE: 0.1653\n",
            "Best valid MCRMSE updated to 0.16525480151176453\n",
            "Epoch 56\n"
          ],
          "name": "stdout"
        },
        {
          "output_type": "stream",
          "text": [
            "100%|██████████| 243/243 [00:29<00:00,  8.24it/s]\n",
            "100%|██████████| 20/20 [00:00<00:00, 21.18it/s]\n",
            "  0%|          | 1/243 [00:00<00:29,  8.26it/s]"
          ],
          "name": "stderr"
        },
        {
          "output_type": "stream",
          "text": [
            "T Loss: 0.1606 V Loss: 0.1630 V MCRMSE: 0.1642\n",
            "Best valid MCRMSE updated to 0.16423399746418\n",
            "Epoch 57\n"
          ],
          "name": "stdout"
        },
        {
          "output_type": "stream",
          "text": [
            "100%|██████████| 243/243 [00:29<00:00,  8.20it/s]\n",
            "100%|██████████| 20/20 [00:00<00:00, 21.03it/s]\n",
            "  0%|          | 1/243 [00:00<00:29,  8.28it/s]"
          ],
          "name": "stderr"
        },
        {
          "output_type": "stream",
          "text": [
            "T Loss: 0.1604 V Loss: 0.1640 V MCRMSE: 0.1653\n",
            "Epoch 58\n"
          ],
          "name": "stdout"
        },
        {
          "output_type": "stream",
          "text": [
            "100%|██████████| 243/243 [00:29<00:00,  8.18it/s]\n",
            "100%|██████████| 20/20 [00:00<00:00, 20.99it/s]\n",
            "  0%|          | 1/243 [00:00<00:29,  8.20it/s]"
          ],
          "name": "stderr"
        },
        {
          "output_type": "stream",
          "text": [
            "T Loss: 0.1598 V Loss: 0.1626 V MCRMSE: 0.1639\n",
            "Best valid MCRMSE updated to 0.16389858722686768\n",
            "Epoch 59\n"
          ],
          "name": "stdout"
        },
        {
          "output_type": "stream",
          "text": [
            "100%|██████████| 243/243 [00:29<00:00,  8.20it/s]\n",
            "100%|██████████| 20/20 [00:00<00:00, 21.12it/s]\n",
            "  0%|          | 1/243 [00:00<00:29,  8.29it/s]"
          ],
          "name": "stderr"
        },
        {
          "output_type": "stream",
          "text": [
            "T Loss: 0.1590 V Loss: 0.1637 V MCRMSE: 0.1648\n",
            "Epoch 60\n"
          ],
          "name": "stdout"
        },
        {
          "output_type": "stream",
          "text": [
            "100%|██████████| 243/243 [00:29<00:00,  8.21it/s]\n",
            "100%|██████████| 20/20 [00:00<00:00, 21.14it/s]\n",
            "  0%|          | 1/243 [00:00<00:29,  8.29it/s]"
          ],
          "name": "stderr"
        },
        {
          "output_type": "stream",
          "text": [
            "T Loss: 0.1582 V Loss: 0.1630 V MCRMSE: 0.1643\n",
            "Epoch 61\n"
          ],
          "name": "stdout"
        },
        {
          "output_type": "stream",
          "text": [
            "100%|██████████| 243/243 [00:29<00:00,  8.23it/s]\n",
            "100%|██████████| 20/20 [00:00<00:00, 21.07it/s]\n",
            "  0%|          | 1/243 [00:00<00:29,  8.22it/s]"
          ],
          "name": "stderr"
        },
        {
          "output_type": "stream",
          "text": [
            "T Loss: 0.1583 V Loss: 0.1625 V MCRMSE: 0.1638\n",
            "Best valid MCRMSE updated to 0.16377493739128113\n",
            "Epoch 62\n"
          ],
          "name": "stdout"
        },
        {
          "output_type": "stream",
          "text": [
            "100%|██████████| 243/243 [00:29<00:00,  8.23it/s]\n",
            "100%|██████████| 20/20 [00:00<00:00, 21.10it/s]\n",
            "  0%|          | 1/243 [00:00<00:29,  8.23it/s]"
          ],
          "name": "stderr"
        },
        {
          "output_type": "stream",
          "text": [
            "T Loss: 0.1582 V Loss: 0.1612 V MCRMSE: 0.1625\n",
            "Best valid MCRMSE updated to 0.1625165492296219\n",
            "Epoch 63\n"
          ],
          "name": "stdout"
        },
        {
          "output_type": "stream",
          "text": [
            "100%|██████████| 243/243 [00:29<00:00,  8.22it/s]\n",
            "100%|██████████| 20/20 [00:00<00:00, 20.87it/s]\n",
            "  0%|          | 1/243 [00:00<00:29,  8.26it/s]"
          ],
          "name": "stderr"
        },
        {
          "output_type": "stream",
          "text": [
            "T Loss: 0.1571 V Loss: 0.1621 V MCRMSE: 0.1634\n",
            "Epoch 64\n"
          ],
          "name": "stdout"
        },
        {
          "output_type": "stream",
          "text": [
            "100%|██████████| 243/243 [00:29<00:00,  8.21it/s]\n",
            "100%|██████████| 20/20 [00:00<00:00, 21.22it/s]\n",
            "  0%|          | 1/243 [00:00<00:29,  8.26it/s]"
          ],
          "name": "stderr"
        },
        {
          "output_type": "stream",
          "text": [
            "T Loss: 0.1568 V Loss: 0.1600 V MCRMSE: 0.1613\n",
            "Best valid MCRMSE updated to 0.16129837930202484\n",
            "Epoch 65\n"
          ],
          "name": "stdout"
        },
        {
          "output_type": "stream",
          "text": [
            "100%|██████████| 243/243 [00:29<00:00,  8.21it/s]\n",
            "100%|██████████| 20/20 [00:00<00:00, 21.12it/s]\n",
            "  0%|          | 1/243 [00:00<00:29,  8.34it/s]"
          ],
          "name": "stderr"
        },
        {
          "output_type": "stream",
          "text": [
            "T Loss: 0.1562 V Loss: 0.1607 V MCRMSE: 0.1621\n",
            "Epoch 66\n"
          ],
          "name": "stdout"
        },
        {
          "output_type": "stream",
          "text": [
            "100%|██████████| 243/243 [00:29<00:00,  8.20it/s]\n",
            "100%|██████████| 20/20 [00:00<00:00, 21.07it/s]\n",
            "  0%|          | 1/243 [00:00<00:29,  8.23it/s]"
          ],
          "name": "stderr"
        },
        {
          "output_type": "stream",
          "text": [
            "T Loss: 0.1563 V Loss: 0.1609 V MCRMSE: 0.1623\n",
            "Epoch 67\n"
          ],
          "name": "stdout"
        },
        {
          "output_type": "stream",
          "text": [
            "100%|██████████| 243/243 [00:29<00:00,  8.19it/s]\n",
            "100%|██████████| 20/20 [00:00<00:00, 20.94it/s]\n",
            "  0%|          | 1/243 [00:00<00:29,  8.12it/s]"
          ],
          "name": "stderr"
        },
        {
          "output_type": "stream",
          "text": [
            "T Loss: 0.1554 V Loss: 0.1591 V MCRMSE: 0.1605\n",
            "Best valid MCRMSE updated to 0.16054187715053558\n",
            "Epoch 68\n"
          ],
          "name": "stdout"
        },
        {
          "output_type": "stream",
          "text": [
            "100%|██████████| 243/243 [00:29<00:00,  8.23it/s]\n",
            "100%|██████████| 20/20 [00:00<00:00, 21.20it/s]\n",
            "  0%|          | 1/243 [00:00<00:29,  8.31it/s]"
          ],
          "name": "stderr"
        },
        {
          "output_type": "stream",
          "text": [
            "T Loss: 0.1554 V Loss: 0.1615 V MCRMSE: 0.1628\n",
            "Epoch 69\n"
          ],
          "name": "stdout"
        },
        {
          "output_type": "stream",
          "text": [
            "100%|██████████| 243/243 [00:29<00:00,  8.24it/s]\n",
            "100%|██████████| 20/20 [00:00<00:00, 21.12it/s]\n",
            "  0%|          | 1/243 [00:00<00:29,  8.23it/s]"
          ],
          "name": "stderr"
        },
        {
          "output_type": "stream",
          "text": [
            "T Loss: 0.1542 V Loss: 0.1593 V MCRMSE: 0.1606\n",
            "Epoch 70\n"
          ],
          "name": "stdout"
        },
        {
          "output_type": "stream",
          "text": [
            "100%|██████████| 243/243 [00:29<00:00,  8.24it/s]\n",
            "100%|██████████| 20/20 [00:00<00:00, 21.18it/s]\n",
            "  0%|          | 1/243 [00:00<00:29,  8.27it/s]"
          ],
          "name": "stderr"
        },
        {
          "output_type": "stream",
          "text": [
            "T Loss: 0.1546 V Loss: 0.1652 V MCRMSE: 0.1665\n",
            "Epoch 71\n"
          ],
          "name": "stdout"
        },
        {
          "output_type": "stream",
          "text": [
            "100%|██████████| 243/243 [00:29<00:00,  8.24it/s]\n",
            "100%|██████████| 20/20 [00:00<00:00, 21.11it/s]\n",
            "  0%|          | 1/243 [00:00<00:28,  8.36it/s]"
          ],
          "name": "stderr"
        },
        {
          "output_type": "stream",
          "text": [
            "T Loss: 0.1540 V Loss: 0.1587 V MCRMSE: 0.1603\n",
            "Best valid MCRMSE updated to 0.16025325655937195\n",
            "Epoch 72\n"
          ],
          "name": "stdout"
        },
        {
          "output_type": "stream",
          "text": [
            "100%|██████████| 243/243 [00:29<00:00,  8.24it/s]\n",
            "100%|██████████| 20/20 [00:00<00:00, 21.11it/s]\n",
            "  0%|          | 1/243 [00:00<00:29,  8.20it/s]"
          ],
          "name": "stderr"
        },
        {
          "output_type": "stream",
          "text": [
            "T Loss: 0.1534 V Loss: 0.1578 V MCRMSE: 0.1591\n",
            "Best valid MCRMSE updated to 0.15914466977119446\n",
            "Epoch 73\n"
          ],
          "name": "stdout"
        },
        {
          "output_type": "stream",
          "text": [
            "100%|██████████| 243/243 [00:29<00:00,  8.25it/s]\n",
            "100%|██████████| 20/20 [00:00<00:00, 21.14it/s]\n",
            "  0%|          | 1/243 [00:00<00:29,  8.30it/s]"
          ],
          "name": "stderr"
        },
        {
          "output_type": "stream",
          "text": [
            "T Loss: 0.1534 V Loss: 0.1590 V MCRMSE: 0.1603\n",
            "Epoch 74\n"
          ],
          "name": "stdout"
        },
        {
          "output_type": "stream",
          "text": [
            "100%|██████████| 243/243 [00:29<00:00,  8.23it/s]\n",
            "100%|██████████| 20/20 [00:00<00:00, 21.21it/s]\n",
            "  0%|          | 1/243 [00:00<00:28,  8.41it/s]"
          ],
          "name": "stderr"
        },
        {
          "output_type": "stream",
          "text": [
            "T Loss: 0.1528 V Loss: 0.1579 V MCRMSE: 0.1593\n",
            "Epoch 75\n"
          ],
          "name": "stdout"
        },
        {
          "output_type": "stream",
          "text": [
            "100%|██████████| 243/243 [00:29<00:00,  8.23it/s]\n",
            "100%|██████████| 20/20 [00:00<00:00, 21.17it/s]\n",
            "  0%|          | 1/243 [00:00<00:29,  8.25it/s]"
          ],
          "name": "stderr"
        },
        {
          "output_type": "stream",
          "text": [
            "T Loss: 0.1527 V Loss: 0.1568 V MCRMSE: 0.1582\n",
            "Best valid MCRMSE updated to 0.1581573486328125\n",
            "Epoch 76\n"
          ],
          "name": "stdout"
        },
        {
          "output_type": "stream",
          "text": [
            "100%|██████████| 243/243 [00:29<00:00,  8.23it/s]\n",
            "100%|██████████| 20/20 [00:00<00:00, 21.19it/s]\n",
            "  0%|          | 1/243 [00:00<00:29,  8.24it/s]"
          ],
          "name": "stderr"
        },
        {
          "output_type": "stream",
          "text": [
            "T Loss: 0.1520 V Loss: 0.1577 V MCRMSE: 0.1592\n",
            "Epoch 77\n"
          ],
          "name": "stdout"
        },
        {
          "output_type": "stream",
          "text": [
            "100%|██████████| 243/243 [00:29<00:00,  8.25it/s]\n",
            "100%|██████████| 20/20 [00:00<00:00, 21.26it/s]\n",
            "  0%|          | 1/243 [00:00<00:29,  8.34it/s]"
          ],
          "name": "stderr"
        },
        {
          "output_type": "stream",
          "text": [
            "T Loss: 0.1513 V Loss: 0.1602 V MCRMSE: 0.1615\n",
            "Epoch 78\n"
          ],
          "name": "stdout"
        },
        {
          "output_type": "stream",
          "text": [
            "100%|██████████| 243/243 [00:29<00:00,  8.24it/s]\n",
            "100%|██████████| 20/20 [00:00<00:00, 21.18it/s]\n",
            "  0%|          | 1/243 [00:00<00:29,  8.21it/s]"
          ],
          "name": "stderr"
        },
        {
          "output_type": "stream",
          "text": [
            "T Loss: 0.1514 V Loss: 0.1567 V MCRMSE: 0.1581\n",
            "Best valid MCRMSE updated to 0.15814726054668427\n",
            "Epoch 79\n"
          ],
          "name": "stdout"
        },
        {
          "output_type": "stream",
          "text": [
            "100%|██████████| 243/243 [00:29<00:00,  8.24it/s]\n",
            "100%|██████████| 20/20 [00:00<00:00, 21.10it/s]\n",
            "  0%|          | 1/243 [00:00<00:29,  8.25it/s]"
          ],
          "name": "stderr"
        },
        {
          "output_type": "stream",
          "text": [
            "T Loss: 0.1508 V Loss: 0.1560 V MCRMSE: 0.1574\n",
            "Best valid MCRMSE updated to 0.1574355959892273\n",
            "Epoch 80\n"
          ],
          "name": "stdout"
        },
        {
          "output_type": "stream",
          "text": [
            "100%|██████████| 243/243 [00:29<00:00,  8.24it/s]\n",
            "100%|██████████| 20/20 [00:00<00:00, 21.11it/s]\n",
            "  0%|          | 1/243 [00:00<00:28,  8.36it/s]"
          ],
          "name": "stderr"
        },
        {
          "output_type": "stream",
          "text": [
            "T Loss: 0.1502 V Loss: 0.1562 V MCRMSE: 0.1577\n",
            "Epoch 81\n"
          ],
          "name": "stdout"
        },
        {
          "output_type": "stream",
          "text": [
            "100%|██████████| 243/243 [00:29<00:00,  8.24it/s]\n",
            "100%|██████████| 20/20 [00:00<00:00, 21.23it/s]\n",
            "  0%|          | 1/243 [00:00<00:29,  8.22it/s]"
          ],
          "name": "stderr"
        },
        {
          "output_type": "stream",
          "text": [
            "T Loss: 0.1502 V Loss: 0.1534 V MCRMSE: 0.1549\n",
            "Best valid MCRMSE updated to 0.15487712621688843\n",
            "Epoch 82\n"
          ],
          "name": "stdout"
        },
        {
          "output_type": "stream",
          "text": [
            "100%|██████████| 243/243 [00:29<00:00,  8.24it/s]\n",
            "100%|██████████| 20/20 [00:00<00:00, 21.19it/s]\n",
            "  0%|          | 1/243 [00:00<00:29,  8.22it/s]"
          ],
          "name": "stderr"
        },
        {
          "output_type": "stream",
          "text": [
            "T Loss: 0.1496 V Loss: 0.1559 V MCRMSE: 0.1574\n",
            "Epoch 83\n"
          ],
          "name": "stdout"
        },
        {
          "output_type": "stream",
          "text": [
            "100%|██████████| 243/243 [00:29<00:00,  8.23it/s]\n",
            "100%|██████████| 20/20 [00:00<00:00, 21.16it/s]\n",
            "  0%|          | 1/243 [00:00<00:29,  8.21it/s]"
          ],
          "name": "stderr"
        },
        {
          "output_type": "stream",
          "text": [
            "T Loss: 0.1497 V Loss: 0.1546 V MCRMSE: 0.1560\n",
            "Epoch 84\n"
          ],
          "name": "stdout"
        },
        {
          "output_type": "stream",
          "text": [
            "100%|██████████| 243/243 [00:29<00:00,  8.22it/s]\n",
            "100%|██████████| 20/20 [00:00<00:00, 20.96it/s]\n",
            "  0%|          | 1/243 [00:00<00:29,  8.11it/s]"
          ],
          "name": "stderr"
        },
        {
          "output_type": "stream",
          "text": [
            "T Loss: 0.1491 V Loss: 0.1556 V MCRMSE: 0.1571\n",
            "Epoch 85\n"
          ],
          "name": "stdout"
        },
        {
          "output_type": "stream",
          "text": [
            "100%|██████████| 243/243 [00:29<00:00,  8.15it/s]\n",
            "100%|██████████| 20/20 [00:00<00:00, 21.18it/s]\n",
            "  0%|          | 1/243 [00:00<00:29,  8.32it/s]"
          ],
          "name": "stderr"
        },
        {
          "output_type": "stream",
          "text": [
            "T Loss: 0.1490 V Loss: 0.1540 V MCRMSE: 0.1556\n",
            "Epoch 86\n"
          ],
          "name": "stdout"
        },
        {
          "output_type": "stream",
          "text": [
            "100%|██████████| 243/243 [00:29<00:00,  8.23it/s]\n",
            "100%|██████████| 20/20 [00:00<00:00, 21.17it/s]\n",
            "  0%|          | 1/243 [00:00<00:29,  8.21it/s]"
          ],
          "name": "stderr"
        },
        {
          "output_type": "stream",
          "text": [
            "T Loss: 0.1485 V Loss: 0.1553 V MCRMSE: 0.1569\n",
            "Epoch 87\n"
          ],
          "name": "stdout"
        },
        {
          "output_type": "stream",
          "text": [
            "100%|██████████| 243/243 [00:29<00:00,  8.24it/s]\n",
            "100%|██████████| 20/20 [00:00<00:00, 21.21it/s]\n",
            "  0%|          | 1/243 [00:00<00:29,  8.34it/s]"
          ],
          "name": "stderr"
        },
        {
          "output_type": "stream",
          "text": [
            "T Loss: 0.1489 V Loss: 0.1530 V MCRMSE: 0.1546\n",
            "Best valid MCRMSE updated to 0.15461473166942596\n",
            "Epoch 88\n"
          ],
          "name": "stdout"
        },
        {
          "output_type": "stream",
          "text": [
            "100%|██████████| 243/243 [00:29<00:00,  8.24it/s]\n",
            "100%|██████████| 20/20 [00:00<00:00, 21.20it/s]\n",
            "  0%|          | 1/243 [00:00<00:28,  8.38it/s]"
          ],
          "name": "stderr"
        },
        {
          "output_type": "stream",
          "text": [
            "T Loss: 0.1480 V Loss: 0.1532 V MCRMSE: 0.1547\n",
            "Epoch 89\n"
          ],
          "name": "stdout"
        },
        {
          "output_type": "stream",
          "text": [
            "100%|██████████| 243/243 [00:29<00:00,  8.24it/s]\n",
            "100%|██████████| 20/20 [00:00<00:00, 21.21it/s]\n",
            "  0%|          | 1/243 [00:00<00:29,  8.23it/s]"
          ],
          "name": "stderr"
        },
        {
          "output_type": "stream",
          "text": [
            "T Loss: 0.1478 V Loss: 0.1536 V MCRMSE: 0.1552\n",
            "Epoch 90\n"
          ],
          "name": "stdout"
        },
        {
          "output_type": "stream",
          "text": [
            "100%|██████████| 243/243 [00:29<00:00,  8.24it/s]\n",
            "100%|██████████| 20/20 [00:00<00:00, 21.19it/s]\n",
            "  0%|          | 1/243 [00:00<00:29,  8.23it/s]"
          ],
          "name": "stderr"
        },
        {
          "output_type": "stream",
          "text": [
            "T Loss: 0.1475 V Loss: 0.1517 V MCRMSE: 0.1532\n",
            "Best valid MCRMSE updated to 0.15321317315101624\n",
            "Epoch 91\n"
          ],
          "name": "stdout"
        },
        {
          "output_type": "stream",
          "text": [
            "100%|██████████| 243/243 [00:29<00:00,  8.24it/s]\n",
            "100%|██████████| 20/20 [00:00<00:00, 21.22it/s]\n",
            "  0%|          | 1/243 [00:00<00:29,  8.29it/s]"
          ],
          "name": "stderr"
        },
        {
          "output_type": "stream",
          "text": [
            "T Loss: 0.1471 V Loss: 0.1526 V MCRMSE: 0.1542\n",
            "Epoch 92\n"
          ],
          "name": "stdout"
        },
        {
          "output_type": "stream",
          "text": [
            "100%|██████████| 243/243 [00:29<00:00,  8.24it/s]\n",
            "100%|██████████| 20/20 [00:00<00:00, 21.08it/s]\n",
            "  0%|          | 1/243 [00:00<00:29,  8.15it/s]"
          ],
          "name": "stderr"
        },
        {
          "output_type": "stream",
          "text": [
            "T Loss: 0.1467 V Loss: 0.1522 V MCRMSE: 0.1538\n",
            "Epoch 93\n"
          ],
          "name": "stdout"
        },
        {
          "output_type": "stream",
          "text": [
            "100%|██████████| 243/243 [00:29<00:00,  8.24it/s]\n",
            "100%|██████████| 20/20 [00:00<00:00, 21.17it/s]\n",
            "  0%|          | 1/243 [00:00<00:29,  8.25it/s]"
          ],
          "name": "stderr"
        },
        {
          "output_type": "stream",
          "text": [
            "T Loss: 0.1470 V Loss: 0.1544 V MCRMSE: 0.1561\n",
            "Epoch 94\n"
          ],
          "name": "stdout"
        },
        {
          "output_type": "stream",
          "text": [
            "100%|██████████| 243/243 [00:29<00:00,  8.22it/s]\n",
            "100%|██████████| 20/20 [00:00<00:00, 21.17it/s]\n",
            "  0%|          | 1/243 [00:00<00:29,  8.15it/s]"
          ],
          "name": "stderr"
        },
        {
          "output_type": "stream",
          "text": [
            "T Loss: 0.1467 V Loss: 0.1531 V MCRMSE: 0.1547\n",
            "Epoch 95\n"
          ],
          "name": "stdout"
        },
        {
          "output_type": "stream",
          "text": [
            "100%|██████████| 243/243 [00:29<00:00,  8.23it/s]\n",
            "100%|██████████| 20/20 [00:00<00:00, 21.19it/s]\n",
            "  0%|          | 1/243 [00:00<00:29,  8.25it/s]"
          ],
          "name": "stderr"
        },
        {
          "output_type": "stream",
          "text": [
            "T Loss: 0.1462 V Loss: 0.1520 V MCRMSE: 0.1536\n",
            "Epoch 96\n"
          ],
          "name": "stdout"
        },
        {
          "output_type": "stream",
          "text": [
            "100%|██████████| 243/243 [00:29<00:00,  8.24it/s]\n",
            "100%|██████████| 20/20 [00:00<00:00, 21.09it/s]\n",
            "  0%|          | 1/243 [00:00<00:29,  8.22it/s]"
          ],
          "name": "stderr"
        },
        {
          "output_type": "stream",
          "text": [
            "T Loss: 0.1462 V Loss: 0.1520 V MCRMSE: 0.1537\n",
            "Epoch 97\n"
          ],
          "name": "stdout"
        },
        {
          "output_type": "stream",
          "text": [
            "100%|██████████| 243/243 [00:29<00:00,  8.24it/s]\n",
            "100%|██████████| 20/20 [00:00<00:00, 21.10it/s]\n",
            "  0%|          | 1/243 [00:00<00:29,  8.32it/s]"
          ],
          "name": "stderr"
        },
        {
          "output_type": "stream",
          "text": [
            "T Loss: 0.1453 V Loss: 0.1501 V MCRMSE: 0.1518\n",
            "Best valid MCRMSE updated to 0.15181836485862732\n",
            "Epoch 98\n"
          ],
          "name": "stdout"
        },
        {
          "output_type": "stream",
          "text": [
            "100%|██████████| 243/243 [00:29<00:00,  8.24it/s]\n",
            "100%|██████████| 20/20 [00:00<00:00, 21.14it/s]\n",
            "  0%|          | 1/243 [00:00<00:29,  8.19it/s]"
          ],
          "name": "stderr"
        },
        {
          "output_type": "stream",
          "text": [
            "T Loss: 0.1456 V Loss: 0.1512 V MCRMSE: 0.1529\n",
            "Epoch 99\n"
          ],
          "name": "stdout"
        },
        {
          "output_type": "stream",
          "text": [
            "100%|██████████| 243/243 [00:29<00:00,  8.24it/s]\n",
            "100%|██████████| 20/20 [00:00<00:00, 21.17it/s]\n",
            " 15%|█▌        | 3/20 [00:00<00:00, 21.34it/s]"
          ],
          "name": "stderr"
        },
        {
          "output_type": "stream",
          "text": [
            "T Loss: 0.1450 V Loss: 0.1519 V MCRMSE: 0.1537\n"
          ],
          "name": "stdout"
        },
        {
          "output_type": "stream",
          "text": [
            "100%|██████████| 20/20 [00:00<00:00, 21.35it/s]\n"
          ],
          "name": "stderr"
        },
        {
          "output_type": "stream",
          "text": [
            "Fold 1\n"
          ],
          "name": "stdout"
        },
        {
          "output_type": "stream",
          "text": [
            "  0%|          | 1/244 [00:00<00:31,  7.80it/s]"
          ],
          "name": "stderr"
        },
        {
          "output_type": "stream",
          "text": [
            "Epoch 0\n"
          ],
          "name": "stdout"
        },
        {
          "output_type": "stream",
          "text": [
            "100%|██████████| 244/244 [00:29<00:00,  8.25it/s]\n",
            "100%|██████████| 20/20 [00:00<00:00, 21.04it/s]\n",
            "  0%|          | 1/244 [00:00<00:29,  8.17it/s]"
          ],
          "name": "stderr"
        },
        {
          "output_type": "stream",
          "text": [
            "T Loss: 0.3603 V Loss: 0.2983 V MCRMSE: 0.2998\n",
            "Best valid MCRMSE updated to 0.2997523844242096\n",
            "Epoch 1\n"
          ],
          "name": "stdout"
        },
        {
          "output_type": "stream",
          "text": [
            "100%|██████████| 244/244 [00:29<00:00,  8.23it/s]\n",
            "100%|██████████| 20/20 [00:00<00:00, 20.97it/s]\n",
            "  0%|          | 1/244 [00:00<00:29,  8.36it/s]"
          ],
          "name": "stderr"
        },
        {
          "output_type": "stream",
          "text": [
            "T Loss: 0.2887 V Loss: 0.2763 V MCRMSE: 0.2779\n",
            "Best valid MCRMSE updated to 0.2779039144515991\n",
            "Epoch 2\n"
          ],
          "name": "stdout"
        },
        {
          "output_type": "stream",
          "text": [
            "100%|██████████| 244/244 [00:29<00:00,  8.23it/s]\n",
            "100%|██████████| 20/20 [00:00<00:00, 21.05it/s]\n",
            "  0%|          | 1/244 [00:00<00:29,  8.26it/s]"
          ],
          "name": "stderr"
        },
        {
          "output_type": "stream",
          "text": [
            "T Loss: 0.2714 V Loss: 0.2524 V MCRMSE: 0.2538\n",
            "Best valid MCRMSE updated to 0.25377875566482544\n",
            "Epoch 3\n"
          ],
          "name": "stdout"
        },
        {
          "output_type": "stream",
          "text": [
            "100%|██████████| 244/244 [00:29<00:00,  8.21it/s]\n",
            "100%|██████████| 20/20 [00:00<00:00, 21.01it/s]\n",
            "  0%|          | 1/244 [00:00<00:29,  8.29it/s]"
          ],
          "name": "stderr"
        },
        {
          "output_type": "stream",
          "text": [
            "T Loss: 0.2580 V Loss: 0.2437 V MCRMSE: 0.2451\n",
            "Best valid MCRMSE updated to 0.24511705338954926\n",
            "Epoch 4\n"
          ],
          "name": "stdout"
        },
        {
          "output_type": "stream",
          "text": [
            "100%|██████████| 244/244 [00:29<00:00,  8.19it/s]\n",
            "100%|██████████| 20/20 [00:00<00:00, 20.95it/s]\n",
            "  0%|          | 1/244 [00:00<00:29,  8.29it/s]"
          ],
          "name": "stderr"
        },
        {
          "output_type": "stream",
          "text": [
            "T Loss: 0.2467 V Loss: 0.2346 V MCRMSE: 0.2361\n",
            "Best valid MCRMSE updated to 0.23610493540763855\n",
            "Epoch 5\n"
          ],
          "name": "stdout"
        },
        {
          "output_type": "stream",
          "text": [
            "100%|██████████| 244/244 [00:29<00:00,  8.19it/s]\n",
            "100%|██████████| 20/20 [00:00<00:00, 21.04it/s]\n",
            "  0%|          | 1/244 [00:00<00:29,  8.30it/s]"
          ],
          "name": "stderr"
        },
        {
          "output_type": "stream",
          "text": [
            "T Loss: 0.2409 V Loss: 0.2318 V MCRMSE: 0.2330\n",
            "Best valid MCRMSE updated to 0.23297742009162903\n",
            "Epoch 6\n"
          ],
          "name": "stdout"
        },
        {
          "output_type": "stream",
          "text": [
            "100%|██████████| 244/244 [00:29<00:00,  8.20it/s]\n",
            "100%|██████████| 20/20 [00:00<00:00, 20.98it/s]\n",
            "  0%|          | 1/244 [00:00<00:29,  8.23it/s]"
          ],
          "name": "stderr"
        },
        {
          "output_type": "stream",
          "text": [
            "T Loss: 0.2360 V Loss: 0.2274 V MCRMSE: 0.2287\n",
            "Best valid MCRMSE updated to 0.22874794900417328\n",
            "Epoch 7\n"
          ],
          "name": "stdout"
        },
        {
          "output_type": "stream",
          "text": [
            "100%|██████████| 244/244 [00:29<00:00,  8.20it/s]\n",
            "100%|██████████| 20/20 [00:00<00:00, 21.02it/s]\n",
            "  0%|          | 1/244 [00:00<00:29,  8.27it/s]"
          ],
          "name": "stderr"
        },
        {
          "output_type": "stream",
          "text": [
            "T Loss: 0.2304 V Loss: 0.2278 V MCRMSE: 0.2289\n",
            "Epoch 8\n"
          ],
          "name": "stdout"
        },
        {
          "output_type": "stream",
          "text": [
            "100%|██████████| 244/244 [00:29<00:00,  8.21it/s]\n",
            "100%|██████████| 20/20 [00:00<00:00, 21.00it/s]\n",
            "  0%|          | 1/244 [00:00<00:29,  8.23it/s]"
          ],
          "name": "stderr"
        },
        {
          "output_type": "stream",
          "text": [
            "T Loss: 0.2260 V Loss: 0.2192 V MCRMSE: 0.2204\n",
            "Best valid MCRMSE updated to 0.22044101357460022\n",
            "Epoch 9\n"
          ],
          "name": "stdout"
        },
        {
          "output_type": "stream",
          "text": [
            "100%|██████████| 244/244 [00:29<00:00,  8.21it/s]\n",
            "100%|██████████| 20/20 [00:00<00:00, 21.01it/s]\n",
            "  0%|          | 1/244 [00:00<00:29,  8.17it/s]"
          ],
          "name": "stderr"
        },
        {
          "output_type": "stream",
          "text": [
            "T Loss: 0.2233 V Loss: 0.2158 V MCRMSE: 0.2170\n",
            "Best valid MCRMSE updated to 0.21701455116271973\n",
            "Epoch 10\n"
          ],
          "name": "stdout"
        },
        {
          "output_type": "stream",
          "text": [
            "100%|██████████| 244/244 [00:29<00:00,  8.20it/s]\n",
            "100%|██████████| 20/20 [00:00<00:00, 20.96it/s]\n",
            "  0%|          | 1/244 [00:00<00:29,  8.20it/s]"
          ],
          "name": "stderr"
        },
        {
          "output_type": "stream",
          "text": [
            "T Loss: 0.2192 V Loss: 0.2127 V MCRMSE: 0.2140\n",
            "Best valid MCRMSE updated to 0.21399950981140137\n",
            "Epoch 11\n"
          ],
          "name": "stdout"
        },
        {
          "output_type": "stream",
          "text": [
            "100%|██████████| 244/244 [00:29<00:00,  8.20it/s]\n",
            "100%|██████████| 20/20 [00:00<00:00, 20.93it/s]\n",
            "  0%|          | 1/244 [00:00<00:29,  8.34it/s]"
          ],
          "name": "stderr"
        },
        {
          "output_type": "stream",
          "text": [
            "T Loss: 0.2175 V Loss: 0.2109 V MCRMSE: 0.2122\n",
            "Best valid MCRMSE updated to 0.2122364640235901\n",
            "Epoch 12\n"
          ],
          "name": "stdout"
        },
        {
          "output_type": "stream",
          "text": [
            "100%|██████████| 244/244 [00:29<00:00,  8.20it/s]\n",
            "100%|██████████| 20/20 [00:00<00:00, 20.98it/s]\n",
            "  0%|          | 1/244 [00:00<00:29,  8.23it/s]"
          ],
          "name": "stderr"
        },
        {
          "output_type": "stream",
          "text": [
            "T Loss: 0.2141 V Loss: 0.2101 V MCRMSE: 0.2114\n",
            "Best valid MCRMSE updated to 0.2113998532295227\n",
            "Epoch 13\n"
          ],
          "name": "stdout"
        },
        {
          "output_type": "stream",
          "text": [
            "100%|██████████| 244/244 [00:29<00:00,  8.18it/s]\n",
            "100%|██████████| 20/20 [00:00<00:00, 20.79it/s]\n",
            "  0%|          | 1/244 [00:00<00:29,  8.13it/s]"
          ],
          "name": "stderr"
        },
        {
          "output_type": "stream",
          "text": [
            "T Loss: 0.2103 V Loss: 0.2075 V MCRMSE: 0.2088\n",
            "Best valid MCRMSE updated to 0.20877647399902344\n",
            "Epoch 14\n"
          ],
          "name": "stdout"
        },
        {
          "output_type": "stream",
          "text": [
            "100%|██████████| 244/244 [00:29<00:00,  8.15it/s]\n",
            "100%|██████████| 20/20 [00:00<00:00, 20.83it/s]\n",
            "  0%|          | 1/244 [00:00<00:29,  8.22it/s]"
          ],
          "name": "stderr"
        },
        {
          "output_type": "stream",
          "text": [
            "T Loss: 0.2077 V Loss: 0.2045 V MCRMSE: 0.2060\n",
            "Best valid MCRMSE updated to 0.20602235198020935\n",
            "Epoch 15\n"
          ],
          "name": "stdout"
        },
        {
          "output_type": "stream",
          "text": [
            "100%|██████████| 244/244 [00:29<00:00,  8.16it/s]\n",
            "100%|██████████| 20/20 [00:00<00:00, 20.81it/s]\n",
            "  0%|          | 1/244 [00:00<00:29,  8.22it/s]"
          ],
          "name": "stderr"
        },
        {
          "output_type": "stream",
          "text": [
            "T Loss: 0.2050 V Loss: 0.2077 V MCRMSE: 0.2091\n",
            "Epoch 16\n"
          ],
          "name": "stdout"
        },
        {
          "output_type": "stream",
          "text": [
            "100%|██████████| 244/244 [00:29<00:00,  8.17it/s]\n",
            "100%|██████████| 20/20 [00:00<00:00, 20.74it/s]\n",
            "  0%|          | 1/244 [00:00<00:29,  8.30it/s]"
          ],
          "name": "stderr"
        },
        {
          "output_type": "stream",
          "text": [
            "T Loss: 0.2032 V Loss: 0.2014 V MCRMSE: 0.2025\n",
            "Best valid MCRMSE updated to 0.20251648128032684\n",
            "Epoch 17\n"
          ],
          "name": "stdout"
        },
        {
          "output_type": "stream",
          "text": [
            "100%|██████████| 244/244 [00:29<00:00,  8.16it/s]\n",
            "100%|██████████| 20/20 [00:00<00:00, 20.74it/s]\n",
            "  0%|          | 1/244 [00:00<00:29,  8.28it/s]"
          ],
          "name": "stderr"
        },
        {
          "output_type": "stream",
          "text": [
            "T Loss: 0.2013 V Loss: 0.1967 V MCRMSE: 0.1981\n",
            "Best valid MCRMSE updated to 0.19814549386501312\n",
            "Epoch 18\n"
          ],
          "name": "stdout"
        },
        {
          "output_type": "stream",
          "text": [
            "100%|██████████| 244/244 [00:29<00:00,  8.17it/s]\n",
            "100%|██████████| 20/20 [00:00<00:00, 20.71it/s]\n",
            "  0%|          | 1/244 [00:00<00:29,  8.20it/s]"
          ],
          "name": "stderr"
        },
        {
          "output_type": "stream",
          "text": [
            "T Loss: 0.1980 V Loss: 0.1960 V MCRMSE: 0.1972\n",
            "Best valid MCRMSE updated to 0.1971939504146576\n",
            "Epoch 19\n"
          ],
          "name": "stdout"
        },
        {
          "output_type": "stream",
          "text": [
            "100%|██████████| 244/244 [00:29<00:00,  8.16it/s]\n",
            "100%|██████████| 20/20 [00:00<00:00, 20.75it/s]\n",
            "  0%|          | 1/244 [00:00<00:29,  8.21it/s]"
          ],
          "name": "stderr"
        },
        {
          "output_type": "stream",
          "text": [
            "T Loss: 0.1976 V Loss: 0.1950 V MCRMSE: 0.1962\n",
            "Best valid MCRMSE updated to 0.19617483019828796\n",
            "Epoch 20\n"
          ],
          "name": "stdout"
        },
        {
          "output_type": "stream",
          "text": [
            "100%|██████████| 244/244 [00:29<00:00,  8.16it/s]\n",
            "100%|██████████| 20/20 [00:00<00:00, 20.71it/s]\n",
            "  0%|          | 1/244 [00:00<00:29,  8.26it/s]"
          ],
          "name": "stderr"
        },
        {
          "output_type": "stream",
          "text": [
            "T Loss: 0.1945 V Loss: 0.1904 V MCRMSE: 0.1916\n",
            "Best valid MCRMSE updated to 0.1915995329618454\n",
            "Epoch 21\n"
          ],
          "name": "stdout"
        },
        {
          "output_type": "stream",
          "text": [
            "100%|██████████| 244/244 [00:29<00:00,  8.16it/s]\n",
            "100%|██████████| 20/20 [00:00<00:00, 20.74it/s]\n",
            "  0%|          | 1/244 [00:00<00:29,  8.20it/s]"
          ],
          "name": "stderr"
        },
        {
          "output_type": "stream",
          "text": [
            "T Loss: 0.1933 V Loss: 0.1909 V MCRMSE: 0.1921\n",
            "Epoch 22\n"
          ],
          "name": "stdout"
        },
        {
          "output_type": "stream",
          "text": [
            "100%|██████████| 244/244 [00:29<00:00,  8.16it/s]\n",
            "100%|██████████| 20/20 [00:00<00:00, 20.79it/s]\n",
            "  0%|          | 1/244 [00:00<00:29,  8.18it/s]"
          ],
          "name": "stderr"
        },
        {
          "output_type": "stream",
          "text": [
            "T Loss: 0.1914 V Loss: 0.1893 V MCRMSE: 0.1904\n",
            "Best valid MCRMSE updated to 0.1904211938381195\n",
            "Epoch 23\n"
          ],
          "name": "stdout"
        },
        {
          "output_type": "stream",
          "text": [
            "100%|██████████| 244/244 [00:29<00:00,  8.16it/s]\n",
            "100%|██████████| 20/20 [00:00<00:00, 20.77it/s]\n",
            "  0%|          | 1/244 [00:00<00:29,  8.22it/s]"
          ],
          "name": "stderr"
        },
        {
          "output_type": "stream",
          "text": [
            "T Loss: 0.1904 V Loss: 0.1865 V MCRMSE: 0.1877\n",
            "Best valid MCRMSE updated to 0.18771295249462128\n",
            "Epoch 24\n"
          ],
          "name": "stdout"
        },
        {
          "output_type": "stream",
          "text": [
            "100%|██████████| 244/244 [00:29<00:00,  8.16it/s]\n",
            "100%|██████████| 20/20 [00:00<00:00, 20.68it/s]\n",
            "  0%|          | 1/244 [00:00<00:29,  8.18it/s]"
          ],
          "name": "stderr"
        },
        {
          "output_type": "stream",
          "text": [
            "T Loss: 0.1879 V Loss: 0.1854 V MCRMSE: 0.1866\n",
            "Best valid MCRMSE updated to 0.18663549423217773\n",
            "Epoch 25\n"
          ],
          "name": "stdout"
        },
        {
          "output_type": "stream",
          "text": [
            "100%|██████████| 244/244 [00:29<00:00,  8.16it/s]\n",
            "100%|██████████| 20/20 [00:00<00:00, 20.81it/s]\n",
            "  0%|          | 1/244 [00:00<00:29,  8.27it/s]"
          ],
          "name": "stderr"
        },
        {
          "output_type": "stream",
          "text": [
            "T Loss: 0.1866 V Loss: 0.1850 V MCRMSE: 0.1862\n",
            "Best valid MCRMSE updated to 0.18620017170906067\n",
            "Epoch 26\n"
          ],
          "name": "stdout"
        },
        {
          "output_type": "stream",
          "text": [
            "100%|██████████| 244/244 [00:29<00:00,  8.18it/s]\n",
            "100%|██████████| 20/20 [00:00<00:00, 20.82it/s]\n",
            "  0%|          | 1/244 [00:00<00:29,  8.25it/s]"
          ],
          "name": "stderr"
        },
        {
          "output_type": "stream",
          "text": [
            "T Loss: 0.1854 V Loss: 0.1840 V MCRMSE: 0.1852\n",
            "Best valid MCRMSE updated to 0.18517336249351501\n",
            "Epoch 27\n"
          ],
          "name": "stdout"
        },
        {
          "output_type": "stream",
          "text": [
            "100%|██████████| 244/244 [00:29<00:00,  8.17it/s]\n",
            "100%|██████████| 20/20 [00:00<00:00, 20.95it/s]\n",
            "  0%|          | 1/244 [00:00<00:29,  8.28it/s]"
          ],
          "name": "stderr"
        },
        {
          "output_type": "stream",
          "text": [
            "T Loss: 0.1841 V Loss: 0.1826 V MCRMSE: 0.1838\n",
            "Best valid MCRMSE updated to 0.1838291883468628\n",
            "Epoch 28\n"
          ],
          "name": "stdout"
        },
        {
          "output_type": "stream",
          "text": [
            "100%|██████████| 244/244 [00:29<00:00,  8.17it/s]\n",
            "100%|██████████| 20/20 [00:00<00:00, 20.88it/s]\n",
            "  0%|          | 1/244 [00:00<00:29,  8.31it/s]"
          ],
          "name": "stderr"
        },
        {
          "output_type": "stream",
          "text": [
            "T Loss: 0.1824 V Loss: 0.1822 V MCRMSE: 0.1835\n",
            "Best valid MCRMSE updated to 0.18353573977947235\n",
            "Epoch 29\n"
          ],
          "name": "stdout"
        },
        {
          "output_type": "stream",
          "text": [
            "100%|██████████| 244/244 [00:29<00:00,  8.18it/s]\n",
            "100%|██████████| 20/20 [00:00<00:00, 20.98it/s]\n",
            "  0%|          | 1/244 [00:00<00:29,  8.26it/s]"
          ],
          "name": "stderr"
        },
        {
          "output_type": "stream",
          "text": [
            "T Loss: 0.1820 V Loss: 0.1801 V MCRMSE: 0.1815\n",
            "Best valid MCRMSE updated to 0.18146196007728577\n",
            "Epoch 30\n"
          ],
          "name": "stdout"
        },
        {
          "output_type": "stream",
          "text": [
            "100%|██████████| 244/244 [00:29<00:00,  8.19it/s]\n",
            "100%|██████████| 20/20 [00:00<00:00, 20.96it/s]\n",
            "  0%|          | 1/244 [00:00<00:29,  8.24it/s]"
          ],
          "name": "stderr"
        },
        {
          "output_type": "stream",
          "text": [
            "T Loss: 0.1802 V Loss: 0.1790 V MCRMSE: 0.1804\n",
            "Best valid MCRMSE updated to 0.18037466704845428\n",
            "Epoch 31\n"
          ],
          "name": "stdout"
        },
        {
          "output_type": "stream",
          "text": [
            "100%|██████████| 244/244 [00:29<00:00,  8.19it/s]\n",
            "100%|██████████| 20/20 [00:00<00:00, 20.88it/s]\n",
            "  0%|          | 1/244 [00:00<00:29,  8.24it/s]"
          ],
          "name": "stderr"
        },
        {
          "output_type": "stream",
          "text": [
            "T Loss: 0.1787 V Loss: 0.1812 V MCRMSE: 0.1825\n",
            "Epoch 32\n"
          ],
          "name": "stdout"
        },
        {
          "output_type": "stream",
          "text": [
            "100%|██████████| 244/244 [00:29<00:00,  8.18it/s]\n",
            "100%|██████████| 20/20 [00:00<00:00, 20.88it/s]\n",
            "  0%|          | 1/244 [00:00<00:29,  8.31it/s]"
          ],
          "name": "stderr"
        },
        {
          "output_type": "stream",
          "text": [
            "T Loss: 0.1787 V Loss: 0.1778 V MCRMSE: 0.1792\n",
            "Best valid MCRMSE updated to 0.17916715145111084\n",
            "Epoch 33\n"
          ],
          "name": "stdout"
        },
        {
          "output_type": "stream",
          "text": [
            "100%|██████████| 244/244 [00:29<00:00,  8.20it/s]\n",
            "100%|██████████| 20/20 [00:00<00:00, 20.93it/s]\n",
            "  0%|          | 1/244 [00:00<00:29,  8.23it/s]"
          ],
          "name": "stderr"
        },
        {
          "output_type": "stream",
          "text": [
            "T Loss: 0.1775 V Loss: 0.1775 V MCRMSE: 0.1789\n",
            "Best valid MCRMSE updated to 0.17889153957366943\n",
            "Epoch 34\n"
          ],
          "name": "stdout"
        },
        {
          "output_type": "stream",
          "text": [
            "100%|██████████| 244/244 [00:29<00:00,  8.18it/s]\n",
            "100%|██████████| 20/20 [00:00<00:00, 20.90it/s]\n",
            "  0%|          | 1/244 [00:00<00:29,  8.22it/s]"
          ],
          "name": "stderr"
        },
        {
          "output_type": "stream",
          "text": [
            "T Loss: 0.1763 V Loss: 0.1786 V MCRMSE: 0.1799\n",
            "Epoch 35\n"
          ],
          "name": "stdout"
        },
        {
          "output_type": "stream",
          "text": [
            "100%|██████████| 244/244 [00:29<00:00,  8.18it/s]\n",
            "100%|██████████| 20/20 [00:00<00:00, 20.78it/s]\n",
            "  0%|          | 1/244 [00:00<00:29,  8.18it/s]"
          ],
          "name": "stderr"
        },
        {
          "output_type": "stream",
          "text": [
            "T Loss: 0.1753 V Loss: 0.1748 V MCRMSE: 0.1762\n",
            "Best valid MCRMSE updated to 0.17619997262954712\n",
            "Epoch 36\n"
          ],
          "name": "stdout"
        },
        {
          "output_type": "stream",
          "text": [
            "100%|██████████| 244/244 [00:29<00:00,  8.17it/s]\n",
            "100%|██████████| 20/20 [00:00<00:00, 20.74it/s]\n",
            "  0%|          | 1/244 [00:00<00:29,  8.27it/s]"
          ],
          "name": "stderr"
        },
        {
          "output_type": "stream",
          "text": [
            "T Loss: 0.1746 V Loss: 0.1750 V MCRMSE: 0.1765\n",
            "Epoch 37\n"
          ],
          "name": "stdout"
        },
        {
          "output_type": "stream",
          "text": [
            "100%|██████████| 244/244 [00:29<00:00,  8.14it/s]\n",
            "100%|██████████| 20/20 [00:00<00:00, 20.72it/s]\n",
            "  0%|          | 1/244 [00:00<00:29,  8.20it/s]"
          ],
          "name": "stderr"
        },
        {
          "output_type": "stream",
          "text": [
            "T Loss: 0.1737 V Loss: 0.1743 V MCRMSE: 0.1758\n",
            "Best valid MCRMSE updated to 0.17580142617225647\n",
            "Epoch 38\n"
          ],
          "name": "stdout"
        },
        {
          "output_type": "stream",
          "text": [
            "100%|██████████| 244/244 [00:29<00:00,  8.19it/s]\n",
            "100%|██████████| 20/20 [00:00<00:00, 20.91it/s]\n",
            "  0%|          | 1/244 [00:00<00:29,  8.18it/s]"
          ],
          "name": "stderr"
        },
        {
          "output_type": "stream",
          "text": [
            "T Loss: 0.1729 V Loss: 0.1736 V MCRMSE: 0.1751\n",
            "Best valid MCRMSE updated to 0.1751491129398346\n",
            "Epoch 39\n"
          ],
          "name": "stdout"
        },
        {
          "output_type": "stream",
          "text": [
            "100%|██████████| 244/244 [00:29<00:00,  8.20it/s]\n",
            "100%|██████████| 20/20 [00:00<00:00, 21.01it/s]\n",
            "  0%|          | 1/244 [00:00<00:29,  8.32it/s]"
          ],
          "name": "stderr"
        },
        {
          "output_type": "stream",
          "text": [
            "T Loss: 0.1719 V Loss: 0.1728 V MCRMSE: 0.1743\n",
            "Best valid MCRMSE updated to 0.17430737614631653\n",
            "Epoch 40\n"
          ],
          "name": "stdout"
        },
        {
          "output_type": "stream",
          "text": [
            "100%|██████████| 244/244 [00:29<00:00,  8.21it/s]\n",
            "100%|██████████| 20/20 [00:00<00:00, 20.90it/s]\n",
            "  0%|          | 1/244 [00:00<00:29,  8.16it/s]"
          ],
          "name": "stderr"
        },
        {
          "output_type": "stream",
          "text": [
            "T Loss: 0.1716 V Loss: 0.1719 V MCRMSE: 0.1735\n",
            "Best valid MCRMSE updated to 0.1734580248594284\n",
            "Epoch 41\n"
          ],
          "name": "stdout"
        },
        {
          "output_type": "stream",
          "text": [
            "100%|██████████| 244/244 [00:29<00:00,  8.21it/s]\n",
            "100%|██████████| 20/20 [00:00<00:00, 20.95it/s]\n",
            "  0%|          | 1/244 [00:00<00:29,  8.31it/s]"
          ],
          "name": "stderr"
        },
        {
          "output_type": "stream",
          "text": [
            "T Loss: 0.1702 V Loss: 0.1710 V MCRMSE: 0.1726\n",
            "Best valid MCRMSE updated to 0.17264065146446228\n",
            "Epoch 42\n"
          ],
          "name": "stdout"
        },
        {
          "output_type": "stream",
          "text": [
            "100%|██████████| 244/244 [00:29<00:00,  8.21it/s]\n",
            "100%|██████████| 20/20 [00:00<00:00, 21.04it/s]\n",
            "  0%|          | 1/244 [00:00<00:29,  8.29it/s]"
          ],
          "name": "stderr"
        },
        {
          "output_type": "stream",
          "text": [
            "T Loss: 0.1702 V Loss: 0.1699 V MCRMSE: 0.1715\n",
            "Best valid MCRMSE updated to 0.171464204788208\n",
            "Epoch 43\n"
          ],
          "name": "stdout"
        },
        {
          "output_type": "stream",
          "text": [
            "100%|██████████| 244/244 [00:29<00:00,  8.22it/s]\n",
            "100%|██████████| 20/20 [00:00<00:00, 21.01it/s]\n",
            "  0%|          | 1/244 [00:00<00:29,  8.32it/s]"
          ],
          "name": "stderr"
        },
        {
          "output_type": "stream",
          "text": [
            "T Loss: 0.1686 V Loss: 0.1699 V MCRMSE: 0.1715\n",
            "Epoch 44\n"
          ],
          "name": "stdout"
        },
        {
          "output_type": "stream",
          "text": [
            "100%|██████████| 244/244 [00:29<00:00,  8.20it/s]\n",
            "100%|██████████| 20/20 [00:00<00:00, 20.96it/s]\n",
            "  0%|          | 1/244 [00:00<00:29,  8.30it/s]"
          ],
          "name": "stderr"
        },
        {
          "output_type": "stream",
          "text": [
            "T Loss: 0.1681 V Loss: 0.1723 V MCRMSE: 0.1739\n",
            "Epoch 45\n"
          ],
          "name": "stdout"
        },
        {
          "output_type": "stream",
          "text": [
            "100%|██████████| 244/244 [00:29<00:00,  8.21it/s]\n",
            "100%|██████████| 20/20 [00:00<00:00, 21.01it/s]\n",
            "  0%|          | 1/244 [00:00<00:29,  8.30it/s]"
          ],
          "name": "stderr"
        },
        {
          "output_type": "stream",
          "text": [
            "T Loss: 0.1674 V Loss: 0.1703 V MCRMSE: 0.1719\n",
            "Epoch 46\n"
          ],
          "name": "stdout"
        },
        {
          "output_type": "stream",
          "text": [
            "100%|██████████| 244/244 [00:29<00:00,  8.22it/s]\n",
            "100%|██████████| 20/20 [00:00<00:00, 21.10it/s]\n",
            "  0%|          | 1/244 [00:00<00:29,  8.18it/s]"
          ],
          "name": "stderr"
        },
        {
          "output_type": "stream",
          "text": [
            "T Loss: 0.1669 V Loss: 0.1677 V MCRMSE: 0.1692\n",
            "Best valid MCRMSE updated to 0.16923367977142334\n",
            "Epoch 47\n"
          ],
          "name": "stdout"
        },
        {
          "output_type": "stream",
          "text": [
            "100%|██████████| 244/244 [00:29<00:00,  8.25it/s]\n",
            "100%|██████████| 20/20 [00:00<00:00, 21.20it/s]\n",
            "  0%|          | 1/244 [00:00<00:29,  8.23it/s]"
          ],
          "name": "stderr"
        },
        {
          "output_type": "stream",
          "text": [
            "T Loss: 0.1656 V Loss: 0.1676 V MCRMSE: 0.1692\n",
            "Epoch 48\n"
          ],
          "name": "stdout"
        },
        {
          "output_type": "stream",
          "text": [
            "100%|██████████| 244/244 [00:29<00:00,  8.25it/s]\n",
            "100%|██████████| 20/20 [00:00<00:00, 21.12it/s]\n",
            "  0%|          | 1/244 [00:00<00:29,  8.37it/s]"
          ],
          "name": "stderr"
        },
        {
          "output_type": "stream",
          "text": [
            "T Loss: 0.1655 V Loss: 0.1669 V MCRMSE: 0.1683\n",
            "Best valid MCRMSE updated to 0.16833022236824036\n",
            "Epoch 49\n"
          ],
          "name": "stdout"
        },
        {
          "output_type": "stream",
          "text": [
            "100%|██████████| 244/244 [00:29<00:00,  8.26it/s]\n",
            "100%|██████████| 20/20 [00:00<00:00, 21.16it/s]\n",
            "  0%|          | 1/244 [00:00<00:28,  8.38it/s]"
          ],
          "name": "stderr"
        },
        {
          "output_type": "stream",
          "text": [
            "T Loss: 0.1653 V Loss: 0.1679 V MCRMSE: 0.1694\n",
            "Epoch 50\n"
          ],
          "name": "stdout"
        },
        {
          "output_type": "stream",
          "text": [
            "100%|██████████| 244/244 [00:29<00:00,  8.24it/s]\n",
            "100%|██████████| 20/20 [00:00<00:00, 21.05it/s]\n",
            "  0%|          | 1/244 [00:00<00:29,  8.31it/s]"
          ],
          "name": "stderr"
        },
        {
          "output_type": "stream",
          "text": [
            "T Loss: 0.1643 V Loss: 0.1666 V MCRMSE: 0.1684\n",
            "Epoch 51\n"
          ],
          "name": "stdout"
        },
        {
          "output_type": "stream",
          "text": [
            "100%|██████████| 244/244 [00:29<00:00,  8.20it/s]\n",
            "100%|██████████| 20/20 [00:00<00:00, 20.52it/s]\n",
            "  0%|          | 1/244 [00:00<00:29,  8.18it/s]"
          ],
          "name": "stderr"
        },
        {
          "output_type": "stream",
          "text": [
            "T Loss: 0.1631 V Loss: 0.1655 V MCRMSE: 0.1671\n",
            "Best valid MCRMSE updated to 0.16712212562561035\n",
            "Epoch 52\n"
          ],
          "name": "stdout"
        },
        {
          "output_type": "stream",
          "text": [
            "100%|██████████| 244/244 [00:29<00:00,  8.23it/s]\n",
            "100%|██████████| 20/20 [00:00<00:00, 21.13it/s]\n",
            "  0%|          | 1/244 [00:00<00:29,  8.34it/s]"
          ],
          "name": "stderr"
        },
        {
          "output_type": "stream",
          "text": [
            "T Loss: 0.1634 V Loss: 0.1645 V MCRMSE: 0.1660\n",
            "Best valid MCRMSE updated to 0.16603490710258484\n",
            "Epoch 53\n"
          ],
          "name": "stdout"
        },
        {
          "output_type": "stream",
          "text": [
            "100%|██████████| 244/244 [00:29<00:00,  8.24it/s]\n",
            "100%|██████████| 20/20 [00:00<00:00, 21.13it/s]\n",
            "  0%|          | 1/244 [00:00<00:29,  8.28it/s]"
          ],
          "name": "stderr"
        },
        {
          "output_type": "stream",
          "text": [
            "T Loss: 0.1624 V Loss: 0.1642 V MCRMSE: 0.1659\n",
            "Best valid MCRMSE updated to 0.1659213900566101\n",
            "Epoch 54\n"
          ],
          "name": "stdout"
        },
        {
          "output_type": "stream",
          "text": [
            "100%|██████████| 244/244 [00:29<00:00,  8.24it/s]\n",
            "100%|██████████| 20/20 [00:00<00:00, 21.01it/s]\n",
            "  0%|          | 1/244 [00:00<00:29,  8.16it/s]"
          ],
          "name": "stderr"
        },
        {
          "output_type": "stream",
          "text": [
            "T Loss: 0.1622 V Loss: 0.1639 V MCRMSE: 0.1657\n",
            "Best valid MCRMSE updated to 0.16569575667381287\n",
            "Epoch 55\n"
          ],
          "name": "stdout"
        },
        {
          "output_type": "stream",
          "text": [
            "100%|██████████| 244/244 [00:29<00:00,  8.25it/s]\n",
            "100%|██████████| 20/20 [00:00<00:00, 21.17it/s]\n",
            "  0%|          | 1/244 [00:00<00:29,  8.26it/s]"
          ],
          "name": "stderr"
        },
        {
          "output_type": "stream",
          "text": [
            "T Loss: 0.1616 V Loss: 0.1658 V MCRMSE: 0.1676\n",
            "Epoch 56\n"
          ],
          "name": "stdout"
        },
        {
          "output_type": "stream",
          "text": [
            "100%|██████████| 244/244 [00:29<00:00,  8.24it/s]\n",
            "100%|██████████| 20/20 [00:00<00:00, 21.04it/s]\n",
            "  0%|          | 1/244 [00:00<00:29,  8.24it/s]"
          ],
          "name": "stderr"
        },
        {
          "output_type": "stream",
          "text": [
            "T Loss: 0.1606 V Loss: 0.1660 V MCRMSE: 0.1676\n",
            "Epoch 57\n"
          ],
          "name": "stdout"
        },
        {
          "output_type": "stream",
          "text": [
            "100%|██████████| 244/244 [00:29<00:00,  8.25it/s]\n",
            "100%|██████████| 20/20 [00:00<00:00, 21.06it/s]\n",
            "  0%|          | 1/244 [00:00<00:29,  8.20it/s]"
          ],
          "name": "stderr"
        },
        {
          "output_type": "stream",
          "text": [
            "T Loss: 0.1607 V Loss: 0.1630 V MCRMSE: 0.1647\n",
            "Best valid MCRMSE updated to 0.1646750271320343\n",
            "Epoch 58\n"
          ],
          "name": "stdout"
        },
        {
          "output_type": "stream",
          "text": [
            "100%|██████████| 244/244 [00:29<00:00,  8.25it/s]\n",
            "100%|██████████| 20/20 [00:00<00:00, 21.13it/s]\n",
            "  0%|          | 1/244 [00:00<00:29,  8.35it/s]"
          ],
          "name": "stderr"
        },
        {
          "output_type": "stream",
          "text": [
            "T Loss: 0.1599 V Loss: 0.1628 V MCRMSE: 0.1644\n",
            "Best valid MCRMSE updated to 0.1644291877746582\n",
            "Epoch 59\n"
          ],
          "name": "stdout"
        },
        {
          "output_type": "stream",
          "text": [
            "100%|██████████| 244/244 [00:29<00:00,  8.26it/s]\n",
            "100%|██████████| 20/20 [00:00<00:00, 21.15it/s]\n",
            "  0%|          | 1/244 [00:00<00:29,  8.19it/s]"
          ],
          "name": "stderr"
        },
        {
          "output_type": "stream",
          "text": [
            "T Loss: 0.1597 V Loss: 0.1622 V MCRMSE: 0.1637\n",
            "Best valid MCRMSE updated to 0.1637493222951889\n",
            "Epoch 60\n"
          ],
          "name": "stdout"
        },
        {
          "output_type": "stream",
          "text": [
            "100%|██████████| 244/244 [00:29<00:00,  8.25it/s]\n",
            "100%|██████████| 20/20 [00:00<00:00, 21.07it/s]\n",
            "  0%|          | 1/244 [00:00<00:29,  8.31it/s]"
          ],
          "name": "stderr"
        },
        {
          "output_type": "stream",
          "text": [
            "T Loss: 0.1589 V Loss: 0.1646 V MCRMSE: 0.1663\n",
            "Epoch 61\n"
          ],
          "name": "stdout"
        },
        {
          "output_type": "stream",
          "text": [
            "100%|██████████| 244/244 [00:29<00:00,  8.25it/s]\n",
            "100%|██████████| 20/20 [00:00<00:00, 21.07it/s]\n",
            "  0%|          | 1/244 [00:00<00:29,  8.18it/s]"
          ],
          "name": "stderr"
        },
        {
          "output_type": "stream",
          "text": [
            "T Loss: 0.1583 V Loss: 0.1624 V MCRMSE: 0.1642\n",
            "Epoch 62\n"
          ],
          "name": "stdout"
        },
        {
          "output_type": "stream",
          "text": [
            "100%|██████████| 244/244 [00:29<00:00,  8.26it/s]\n",
            "100%|██████████| 20/20 [00:00<00:00, 21.10it/s]\n",
            "  0%|          | 1/244 [00:00<00:29,  8.30it/s]"
          ],
          "name": "stderr"
        },
        {
          "output_type": "stream",
          "text": [
            "T Loss: 0.1579 V Loss: 0.1619 V MCRMSE: 0.1637\n",
            "Best valid MCRMSE updated to 0.16369327902793884\n",
            "Epoch 63\n"
          ],
          "name": "stdout"
        },
        {
          "output_type": "stream",
          "text": [
            "100%|██████████| 244/244 [00:29<00:00,  8.26it/s]\n",
            "100%|██████████| 20/20 [00:00<00:00, 21.12it/s]\n",
            "  0%|          | 1/244 [00:00<00:29,  8.26it/s]"
          ],
          "name": "stderr"
        },
        {
          "output_type": "stream",
          "text": [
            "T Loss: 0.1573 V Loss: 0.1608 V MCRMSE: 0.1628\n",
            "Best valid MCRMSE updated to 0.16281342506408691\n",
            "Epoch 64\n"
          ],
          "name": "stdout"
        },
        {
          "output_type": "stream",
          "text": [
            "100%|██████████| 244/244 [00:29<00:00,  8.24it/s]\n",
            "100%|██████████| 20/20 [00:00<00:00, 21.12it/s]\n",
            "  0%|          | 1/244 [00:00<00:29,  8.33it/s]"
          ],
          "name": "stderr"
        },
        {
          "output_type": "stream",
          "text": [
            "T Loss: 0.1575 V Loss: 0.1617 V MCRMSE: 0.1635\n",
            "Epoch 65\n"
          ],
          "name": "stdout"
        },
        {
          "output_type": "stream",
          "text": [
            "100%|██████████| 244/244 [00:29<00:00,  8.25it/s]\n",
            "100%|██████████| 20/20 [00:00<00:00, 21.19it/s]\n",
            "  0%|          | 1/244 [00:00<00:29,  8.27it/s]"
          ],
          "name": "stderr"
        },
        {
          "output_type": "stream",
          "text": [
            "T Loss: 0.1566 V Loss: 0.1597 V MCRMSE: 0.1616\n",
            "Best valid MCRMSE updated to 0.16159439086914062\n",
            "Epoch 66\n"
          ],
          "name": "stdout"
        },
        {
          "output_type": "stream",
          "text": [
            "100%|██████████| 244/244 [00:29<00:00,  8.27it/s]\n",
            "100%|██████████| 20/20 [00:00<00:00, 21.13it/s]\n",
            "  0%|          | 1/244 [00:00<00:29,  8.22it/s]"
          ],
          "name": "stderr"
        },
        {
          "output_type": "stream",
          "text": [
            "T Loss: 0.1559 V Loss: 0.1621 V MCRMSE: 0.1639\n",
            "Epoch 67\n"
          ],
          "name": "stdout"
        },
        {
          "output_type": "stream",
          "text": [
            "100%|██████████| 244/244 [00:29<00:00,  8.26it/s]\n",
            "100%|██████████| 20/20 [00:00<00:00, 21.13it/s]\n",
            "  0%|          | 1/244 [00:00<00:29,  8.37it/s]"
          ],
          "name": "stderr"
        },
        {
          "output_type": "stream",
          "text": [
            "T Loss: 0.1560 V Loss: 0.1601 V MCRMSE: 0.1619\n",
            "Epoch 68\n"
          ],
          "name": "stdout"
        },
        {
          "output_type": "stream",
          "text": [
            "100%|██████████| 244/244 [00:29<00:00,  8.26it/s]\n",
            "100%|██████████| 20/20 [00:00<00:00, 21.10it/s]\n",
            "  0%|          | 1/244 [00:00<00:29,  8.26it/s]"
          ],
          "name": "stderr"
        },
        {
          "output_type": "stream",
          "text": [
            "T Loss: 0.1557 V Loss: 0.1607 V MCRMSE: 0.1626\n",
            "Epoch 69\n"
          ],
          "name": "stdout"
        },
        {
          "output_type": "stream",
          "text": [
            "100%|██████████| 244/244 [00:29<00:00,  8.25it/s]\n",
            "100%|██████████| 20/20 [00:00<00:00, 21.14it/s]\n",
            "  0%|          | 1/244 [00:00<00:29,  8.28it/s]"
          ],
          "name": "stderr"
        },
        {
          "output_type": "stream",
          "text": [
            "T Loss: 0.1553 V Loss: 0.1596 V MCRMSE: 0.1615\n",
            "Best valid MCRMSE updated to 0.1614902913570404\n",
            "Epoch 70\n"
          ],
          "name": "stdout"
        },
        {
          "output_type": "stream",
          "text": [
            "100%|██████████| 244/244 [00:29<00:00,  8.26it/s]\n",
            "100%|██████████| 20/20 [00:00<00:00, 21.16it/s]\n",
            "  0%|          | 1/244 [00:00<00:29,  8.27it/s]"
          ],
          "name": "stderr"
        },
        {
          "output_type": "stream",
          "text": [
            "T Loss: 0.1551 V Loss: 0.1597 V MCRMSE: 0.1615\n",
            "Epoch 71\n"
          ],
          "name": "stdout"
        },
        {
          "output_type": "stream",
          "text": [
            "100%|██████████| 244/244 [00:29<00:00,  8.26it/s]\n",
            "100%|██████████| 20/20 [00:00<00:00, 21.16it/s]\n",
            "  0%|          | 1/244 [00:00<00:29,  8.33it/s]"
          ],
          "name": "stderr"
        },
        {
          "output_type": "stream",
          "text": [
            "T Loss: 0.1540 V Loss: 0.1584 V MCRMSE: 0.1603\n",
            "Best valid MCRMSE updated to 0.1603035032749176\n",
            "Epoch 72\n"
          ],
          "name": "stdout"
        },
        {
          "output_type": "stream",
          "text": [
            "100%|██████████| 244/244 [00:29<00:00,  8.26it/s]\n",
            "100%|██████████| 20/20 [00:00<00:00, 21.21it/s]\n",
            "  0%|          | 1/244 [00:00<00:29,  8.26it/s]"
          ],
          "name": "stderr"
        },
        {
          "output_type": "stream",
          "text": [
            "T Loss: 0.1539 V Loss: 0.1593 V MCRMSE: 0.1611\n",
            "Epoch 73\n"
          ],
          "name": "stdout"
        },
        {
          "output_type": "stream",
          "text": [
            "100%|██████████| 244/244 [00:29<00:00,  8.26it/s]\n",
            "100%|██████████| 20/20 [00:00<00:00, 21.20it/s]\n",
            "  0%|          | 1/244 [00:00<00:29,  8.36it/s]"
          ],
          "name": "stderr"
        },
        {
          "output_type": "stream",
          "text": [
            "T Loss: 0.1534 V Loss: 0.1577 V MCRMSE: 0.1596\n",
            "Best valid MCRMSE updated to 0.15958204865455627\n",
            "Epoch 74\n"
          ],
          "name": "stdout"
        },
        {
          "output_type": "stream",
          "text": [
            "100%|██████████| 244/244 [00:29<00:00,  8.25it/s]\n",
            "100%|██████████| 20/20 [00:00<00:00, 21.11it/s]\n",
            "  0%|          | 1/244 [00:00<00:29,  8.26it/s]"
          ],
          "name": "stderr"
        },
        {
          "output_type": "stream",
          "text": [
            "T Loss: 0.1530 V Loss: 0.1588 V MCRMSE: 0.1608\n",
            "Epoch 75\n"
          ],
          "name": "stdout"
        },
        {
          "output_type": "stream",
          "text": [
            "100%|██████████| 244/244 [00:29<00:00,  8.25it/s]\n",
            "100%|██████████| 20/20 [00:00<00:00, 21.17it/s]\n",
            "  0%|          | 1/244 [00:00<00:29,  8.25it/s]"
          ],
          "name": "stderr"
        },
        {
          "output_type": "stream",
          "text": [
            "T Loss: 0.1525 V Loss: 0.1588 V MCRMSE: 0.1608\n",
            "Epoch 76\n"
          ],
          "name": "stdout"
        },
        {
          "output_type": "stream",
          "text": [
            "100%|██████████| 244/244 [00:29<00:00,  8.27it/s]\n",
            "100%|██████████| 20/20 [00:00<00:00, 21.10it/s]\n",
            "  0%|          | 1/244 [00:00<00:29,  8.37it/s]"
          ],
          "name": "stderr"
        },
        {
          "output_type": "stream",
          "text": [
            "T Loss: 0.1526 V Loss: 0.1573 V MCRMSE: 0.1593\n",
            "Best valid MCRMSE updated to 0.15931148827075958\n",
            "Epoch 77\n"
          ],
          "name": "stdout"
        },
        {
          "output_type": "stream",
          "text": [
            "100%|██████████| 244/244 [00:29<00:00,  8.26it/s]\n",
            "100%|██████████| 20/20 [00:00<00:00, 21.11it/s]\n",
            "  0%|          | 1/244 [00:00<00:29,  8.18it/s]"
          ],
          "name": "stderr"
        },
        {
          "output_type": "stream",
          "text": [
            "T Loss: 0.1523 V Loss: 0.1576 V MCRMSE: 0.1595\n",
            "Epoch 78\n"
          ],
          "name": "stdout"
        },
        {
          "output_type": "stream",
          "text": [
            "100%|██████████| 244/244 [00:29<00:00,  8.26it/s]\n",
            "100%|██████████| 20/20 [00:00<00:00, 21.15it/s]\n",
            "  0%|          | 1/244 [00:00<00:29,  8.31it/s]"
          ],
          "name": "stderr"
        },
        {
          "output_type": "stream",
          "text": [
            "T Loss: 0.1512 V Loss: 0.1579 V MCRMSE: 0.1598\n",
            "Epoch 79\n"
          ],
          "name": "stdout"
        },
        {
          "output_type": "stream",
          "text": [
            "100%|██████████| 244/244 [00:29<00:00,  8.26it/s]\n",
            "100%|██████████| 20/20 [00:00<00:00, 21.16it/s]\n",
            "  0%|          | 1/244 [00:00<00:29,  8.19it/s]"
          ],
          "name": "stderr"
        },
        {
          "output_type": "stream",
          "text": [
            "T Loss: 0.1510 V Loss: 0.1581 V MCRMSE: 0.1601\n",
            "Epoch 80\n"
          ],
          "name": "stdout"
        },
        {
          "output_type": "stream",
          "text": [
            "100%|██████████| 244/244 [00:29<00:00,  8.26it/s]\n",
            "100%|██████████| 20/20 [00:00<00:00, 21.01it/s]\n",
            "  0%|          | 1/244 [00:00<00:29,  8.23it/s]"
          ],
          "name": "stderr"
        },
        {
          "output_type": "stream",
          "text": [
            "T Loss: 0.1508 V Loss: 0.1559 V MCRMSE: 0.1579\n",
            "Best valid MCRMSE updated to 0.15787051618099213\n",
            "Epoch 81\n"
          ],
          "name": "stdout"
        },
        {
          "output_type": "stream",
          "text": [
            "100%|██████████| 244/244 [00:29<00:00,  8.26it/s]\n",
            "100%|██████████| 20/20 [00:00<00:00, 21.20it/s]\n",
            "  0%|          | 1/244 [00:00<00:29,  8.37it/s]"
          ],
          "name": "stderr"
        },
        {
          "output_type": "stream",
          "text": [
            "T Loss: 0.1509 V Loss: 0.1571 V MCRMSE: 0.1592\n",
            "Epoch 82\n"
          ],
          "name": "stdout"
        },
        {
          "output_type": "stream",
          "text": [
            "100%|██████████| 244/244 [00:29<00:00,  8.26it/s]\n",
            "100%|██████████| 20/20 [00:00<00:00, 21.10it/s]\n",
            "  0%|          | 1/244 [00:00<00:29,  8.33it/s]"
          ],
          "name": "stderr"
        },
        {
          "output_type": "stream",
          "text": [
            "T Loss: 0.1500 V Loss: 0.1566 V MCRMSE: 0.1586\n",
            "Epoch 83\n"
          ],
          "name": "stdout"
        },
        {
          "output_type": "stream",
          "text": [
            "100%|██████████| 244/244 [00:29<00:00,  8.26it/s]\n",
            "100%|██████████| 20/20 [00:00<00:00, 21.19it/s]\n",
            "  0%|          | 1/244 [00:00<00:29,  8.36it/s]"
          ],
          "name": "stderr"
        },
        {
          "output_type": "stream",
          "text": [
            "T Loss: 0.1498 V Loss: 0.1547 V MCRMSE: 0.1568\n",
            "Best valid MCRMSE updated to 0.15677139163017273\n",
            "Epoch 84\n"
          ],
          "name": "stdout"
        },
        {
          "output_type": "stream",
          "text": [
            "100%|██████████| 244/244 [00:29<00:00,  8.26it/s]\n",
            "100%|██████████| 20/20 [00:00<00:00, 21.11it/s]\n",
            "  0%|          | 1/244 [00:00<00:29,  8.37it/s]"
          ],
          "name": "stderr"
        },
        {
          "output_type": "stream",
          "text": [
            "T Loss: 0.1496 V Loss: 0.1552 V MCRMSE: 0.1571\n",
            "Epoch 85\n"
          ],
          "name": "stdout"
        },
        {
          "output_type": "stream",
          "text": [
            "100%|██████████| 244/244 [00:29<00:00,  8.24it/s]\n",
            "100%|██████████| 20/20 [00:00<00:00, 21.23it/s]\n",
            "  0%|          | 1/244 [00:00<00:29,  8.37it/s]"
          ],
          "name": "stderr"
        },
        {
          "output_type": "stream",
          "text": [
            "T Loss: 0.1492 V Loss: 0.1544 V MCRMSE: 0.1564\n",
            "Best valid MCRMSE updated to 0.1563689410686493\n",
            "Epoch 86\n"
          ],
          "name": "stdout"
        },
        {
          "output_type": "stream",
          "text": [
            "100%|██████████| 244/244 [00:29<00:00,  8.26it/s]\n",
            "100%|██████████| 20/20 [00:00<00:00, 21.19it/s]\n",
            "  0%|          | 1/244 [00:00<00:29,  8.36it/s]"
          ],
          "name": "stderr"
        },
        {
          "output_type": "stream",
          "text": [
            "T Loss: 0.1490 V Loss: 0.1542 V MCRMSE: 0.1563\n",
            "Best valid MCRMSE updated to 0.15629366040229797\n",
            "Epoch 87\n"
          ],
          "name": "stdout"
        },
        {
          "output_type": "stream",
          "text": [
            "100%|██████████| 244/244 [00:29<00:00,  8.26it/s]\n",
            "100%|██████████| 20/20 [00:00<00:00, 21.04it/s]\n",
            "  0%|          | 1/244 [00:00<00:29,  8.22it/s]"
          ],
          "name": "stderr"
        },
        {
          "output_type": "stream",
          "text": [
            "T Loss: 0.1484 V Loss: 0.1578 V MCRMSE: 0.1600\n",
            "Epoch 88\n"
          ],
          "name": "stdout"
        },
        {
          "output_type": "stream",
          "text": [
            "100%|██████████| 244/244 [00:29<00:00,  8.26it/s]\n",
            "100%|██████████| 20/20 [00:00<00:00, 21.17it/s]\n",
            "  0%|          | 1/244 [00:00<00:29,  8.26it/s]"
          ],
          "name": "stderr"
        },
        {
          "output_type": "stream",
          "text": [
            "T Loss: 0.1488 V Loss: 0.1551 V MCRMSE: 0.1572\n",
            "Epoch 89\n"
          ],
          "name": "stdout"
        },
        {
          "output_type": "stream",
          "text": [
            "100%|██████████| 244/244 [00:29<00:00,  8.27it/s]\n",
            "100%|██████████| 20/20 [00:00<00:00, 21.22it/s]\n",
            "  0%|          | 1/244 [00:00<00:29,  8.34it/s]"
          ],
          "name": "stderr"
        },
        {
          "output_type": "stream",
          "text": [
            "T Loss: 0.1483 V Loss: 0.1540 V MCRMSE: 0.1562\n",
            "Best valid MCRMSE updated to 0.15622037649154663\n",
            "Epoch 90\n"
          ],
          "name": "stdout"
        },
        {
          "output_type": "stream",
          "text": [
            "100%|██████████| 244/244 [00:29<00:00,  8.26it/s]\n",
            "100%|██████████| 20/20 [00:00<00:00, 21.14it/s]\n",
            "  0%|          | 1/244 [00:00<00:29,  8.36it/s]"
          ],
          "name": "stderr"
        },
        {
          "output_type": "stream",
          "text": [
            "T Loss: 0.1476 V Loss: 0.1539 V MCRMSE: 0.1560\n",
            "Best valid MCRMSE updated to 0.1560443937778473\n",
            "Epoch 91\n"
          ],
          "name": "stdout"
        },
        {
          "output_type": "stream",
          "text": [
            "100%|██████████| 244/244 [00:29<00:00,  8.27it/s]\n",
            "100%|██████████| 20/20 [00:00<00:00, 21.23it/s]\n",
            "  0%|          | 1/244 [00:00<00:29,  8.30it/s]"
          ],
          "name": "stderr"
        },
        {
          "output_type": "stream",
          "text": [
            "T Loss: 0.1476 V Loss: 0.1537 V MCRMSE: 0.1560\n",
            "Best valid MCRMSE updated to 0.15602564811706543\n",
            "Epoch 92\n"
          ],
          "name": "stdout"
        },
        {
          "output_type": "stream",
          "text": [
            "100%|██████████| 244/244 [00:29<00:00,  8.26it/s]\n",
            "100%|██████████| 20/20 [00:00<00:00, 21.12it/s]\n",
            "  0%|          | 1/244 [00:00<00:29,  8.23it/s]"
          ],
          "name": "stderr"
        },
        {
          "output_type": "stream",
          "text": [
            "T Loss: 0.1474 V Loss: 0.1537 V MCRMSE: 0.1558\n",
            "Best valid MCRMSE updated to 0.15577128529548645\n",
            "Epoch 93\n"
          ],
          "name": "stdout"
        },
        {
          "output_type": "stream",
          "text": [
            "100%|██████████| 244/244 [00:29<00:00,  8.26it/s]\n",
            "100%|██████████| 20/20 [00:00<00:00, 21.22it/s]\n",
            "  0%|          | 1/244 [00:00<00:29,  8.36it/s]"
          ],
          "name": "stderr"
        },
        {
          "output_type": "stream",
          "text": [
            "T Loss: 0.1471 V Loss: 0.1544 V MCRMSE: 0.1564\n",
            "Epoch 94\n"
          ],
          "name": "stdout"
        },
        {
          "output_type": "stream",
          "text": [
            "100%|██████████| 244/244 [00:29<00:00,  8.26it/s]\n",
            "100%|██████████| 20/20 [00:00<00:00, 21.22it/s]\n",
            "  0%|          | 1/244 [00:00<00:29,  8.28it/s]"
          ],
          "name": "stderr"
        },
        {
          "output_type": "stream",
          "text": [
            "T Loss: 0.1465 V Loss: 0.1533 V MCRMSE: 0.1554\n",
            "Best valid MCRMSE updated to 0.1554315835237503\n",
            "Epoch 95\n"
          ],
          "name": "stdout"
        },
        {
          "output_type": "stream",
          "text": [
            "100%|██████████| 244/244 [00:29<00:00,  8.25it/s]\n",
            "100%|██████████| 20/20 [00:00<00:00, 21.21it/s]\n",
            "  0%|          | 1/244 [00:00<00:29,  8.25it/s]"
          ],
          "name": "stderr"
        },
        {
          "output_type": "stream",
          "text": [
            "T Loss: 0.1462 V Loss: 0.1525 V MCRMSE: 0.1546\n",
            "Best valid MCRMSE updated to 0.15463168919086456\n",
            "Epoch 96\n"
          ],
          "name": "stdout"
        },
        {
          "output_type": "stream",
          "text": [
            "100%|██████████| 244/244 [00:29<00:00,  8.26it/s]\n",
            "100%|██████████| 20/20 [00:00<00:00, 21.19it/s]\n",
            "  0%|          | 1/244 [00:00<00:29,  8.22it/s]"
          ],
          "name": "stderr"
        },
        {
          "output_type": "stream",
          "text": [
            "T Loss: 0.1460 V Loss: 0.1540 V MCRMSE: 0.1561\n",
            "Epoch 97\n"
          ],
          "name": "stdout"
        },
        {
          "output_type": "stream",
          "text": [
            "100%|██████████| 244/244 [00:29<00:00,  8.27it/s]\n",
            "100%|██████████| 20/20 [00:00<00:00, 21.18it/s]\n",
            "  0%|          | 1/244 [00:00<00:28,  8.42it/s]"
          ],
          "name": "stderr"
        },
        {
          "output_type": "stream",
          "text": [
            "T Loss: 0.1459 V Loss: 0.1516 V MCRMSE: 0.1538\n",
            "Best valid MCRMSE updated to 0.1538398712873459\n",
            "Epoch 98\n"
          ],
          "name": "stdout"
        },
        {
          "output_type": "stream",
          "text": [
            "100%|██████████| 244/244 [00:29<00:00,  8.27it/s]\n",
            "100%|██████████| 20/20 [00:00<00:00, 21.10it/s]\n",
            "  0%|          | 1/244 [00:00<00:29,  8.18it/s]"
          ],
          "name": "stderr"
        },
        {
          "output_type": "stream",
          "text": [
            "T Loss: 0.1455 V Loss: 0.1525 V MCRMSE: 0.1546\n",
            "Epoch 99\n"
          ],
          "name": "stdout"
        },
        {
          "output_type": "stream",
          "text": [
            "100%|██████████| 244/244 [00:29<00:00,  8.28it/s]\n",
            "100%|██████████| 20/20 [00:00<00:00, 21.16it/s]\n",
            " 15%|█▌        | 3/20 [00:00<00:00, 21.22it/s]"
          ],
          "name": "stderr"
        },
        {
          "output_type": "stream",
          "text": [
            "T Loss: 0.1452 V Loss: 0.1531 V MCRMSE: 0.1553\n"
          ],
          "name": "stdout"
        },
        {
          "output_type": "stream",
          "text": [
            "100%|██████████| 20/20 [00:00<00:00, 21.30it/s]\n"
          ],
          "name": "stderr"
        },
        {
          "output_type": "stream",
          "text": [
            "Fold 2\n"
          ],
          "name": "stdout"
        },
        {
          "output_type": "stream",
          "text": [
            "  0%|          | 1/244 [00:00<00:30,  7.90it/s]"
          ],
          "name": "stderr"
        },
        {
          "output_type": "stream",
          "text": [
            "Epoch 0\n"
          ],
          "name": "stdout"
        },
        {
          "output_type": "stream",
          "text": [
            "100%|██████████| 244/244 [00:29<00:00,  8.26it/s]\n",
            "100%|██████████| 20/20 [00:00<00:00, 21.13it/s]\n",
            "  0%|          | 1/244 [00:00<00:29,  8.26it/s]"
          ],
          "name": "stderr"
        },
        {
          "output_type": "stream",
          "text": [
            "T Loss: 0.3633 V Loss: 0.3022 V MCRMSE: 0.3029\n",
            "Best valid MCRMSE updated to 0.30286774039268494\n",
            "Epoch 1\n"
          ],
          "name": "stdout"
        },
        {
          "output_type": "stream",
          "text": [
            "100%|██████████| 244/244 [00:29<00:00,  8.26it/s]\n",
            "100%|██████████| 20/20 [00:00<00:00, 21.14it/s]\n",
            "  0%|          | 1/244 [00:00<00:29,  8.18it/s]"
          ],
          "name": "stderr"
        },
        {
          "output_type": "stream",
          "text": [
            "T Loss: 0.2916 V Loss: 0.2671 V MCRMSE: 0.2679\n",
            "Best valid MCRMSE updated to 0.2678760290145874\n",
            "Epoch 2\n"
          ],
          "name": "stdout"
        },
        {
          "output_type": "stream",
          "text": [
            "100%|██████████| 244/244 [00:29<00:00,  8.28it/s]\n",
            "100%|██████████| 20/20 [00:00<00:00, 21.19it/s]\n",
            "  0%|          | 1/244 [00:00<00:29,  8.34it/s]"
          ],
          "name": "stderr"
        },
        {
          "output_type": "stream",
          "text": [
            "T Loss: 0.2731 V Loss: 0.2610 V MCRMSE: 0.2617\n",
            "Best valid MCRMSE updated to 0.261722207069397\n",
            "Epoch 3\n"
          ],
          "name": "stdout"
        },
        {
          "output_type": "stream",
          "text": [
            "100%|██████████| 244/244 [00:29<00:00,  8.27it/s]\n",
            "100%|██████████| 20/20 [00:00<00:00, 21.14it/s]\n",
            "  0%|          | 1/244 [00:00<00:29,  8.35it/s]"
          ],
          "name": "stderr"
        },
        {
          "output_type": "stream",
          "text": [
            "T Loss: 0.2616 V Loss: 0.2465 V MCRMSE: 0.2473\n",
            "Best valid MCRMSE updated to 0.24726605415344238\n",
            "Epoch 4\n"
          ],
          "name": "stdout"
        },
        {
          "output_type": "stream",
          "text": [
            "100%|██████████| 244/244 [00:29<00:00,  8.26it/s]\n",
            "100%|██████████| 20/20 [00:00<00:00, 21.22it/s]\n",
            "  0%|          | 1/244 [00:00<00:29,  8.26it/s]"
          ],
          "name": "stderr"
        },
        {
          "output_type": "stream",
          "text": [
            "T Loss: 0.2513 V Loss: 0.2584 V MCRMSE: 0.2592\n",
            "Epoch 5\n"
          ],
          "name": "stdout"
        },
        {
          "output_type": "stream",
          "text": [
            "100%|██████████| 244/244 [00:29<00:00,  8.25it/s]\n",
            "100%|██████████| 20/20 [00:00<00:00, 21.22it/s]\n",
            "  0%|          | 1/244 [00:00<00:29,  8.33it/s]"
          ],
          "name": "stderr"
        },
        {
          "output_type": "stream",
          "text": [
            "T Loss: 0.2444 V Loss: 0.2389 V MCRMSE: 0.2397\n",
            "Best valid MCRMSE updated to 0.23968490958213806\n",
            "Epoch 6\n"
          ],
          "name": "stdout"
        },
        {
          "output_type": "stream",
          "text": [
            "100%|██████████| 244/244 [00:29<00:00,  8.27it/s]\n",
            "100%|██████████| 20/20 [00:00<00:00, 21.20it/s]\n",
            "  0%|          | 1/244 [00:00<00:29,  8.24it/s]"
          ],
          "name": "stderr"
        },
        {
          "output_type": "stream",
          "text": [
            "T Loss: 0.2375 V Loss: 0.2309 V MCRMSE: 0.2316\n",
            "Best valid MCRMSE updated to 0.23164856433868408\n",
            "Epoch 7\n"
          ],
          "name": "stdout"
        },
        {
          "output_type": "stream",
          "text": [
            "100%|██████████| 244/244 [00:29<00:00,  8.27it/s]\n",
            "100%|██████████| 20/20 [00:00<00:00, 21.19it/s]\n",
            "  0%|          | 1/244 [00:00<00:29,  8.30it/s]"
          ],
          "name": "stderr"
        },
        {
          "output_type": "stream",
          "text": [
            "T Loss: 0.2321 V Loss: 0.2341 V MCRMSE: 0.2348\n",
            "Epoch 8\n"
          ],
          "name": "stdout"
        },
        {
          "output_type": "stream",
          "text": [
            "100%|██████████| 244/244 [00:29<00:00,  8.27it/s]\n",
            "100%|██████████| 20/20 [00:00<00:00, 21.24it/s]\n",
            "  0%|          | 1/244 [00:00<00:29,  8.33it/s]"
          ],
          "name": "stderr"
        },
        {
          "output_type": "stream",
          "text": [
            "T Loss: 0.2305 V Loss: 0.2250 V MCRMSE: 0.2257\n",
            "Best valid MCRMSE updated to 0.22572216391563416\n",
            "Epoch 9\n"
          ],
          "name": "stdout"
        },
        {
          "output_type": "stream",
          "text": [
            "100%|██████████| 244/244 [00:29<00:00,  8.27it/s]\n",
            "100%|██████████| 20/20 [00:00<00:00, 21.17it/s]\n",
            "  0%|          | 1/244 [00:00<00:29,  8.25it/s]"
          ],
          "name": "stderr"
        },
        {
          "output_type": "stream",
          "text": [
            "T Loss: 0.2254 V Loss: 0.2274 V MCRMSE: 0.2282\n",
            "Epoch 10\n"
          ],
          "name": "stdout"
        },
        {
          "output_type": "stream",
          "text": [
            "100%|██████████| 244/244 [00:29<00:00,  8.27it/s]\n",
            "100%|██████████| 20/20 [00:00<00:00, 21.16it/s]\n",
            "  0%|          | 1/244 [00:00<00:29,  8.26it/s]"
          ],
          "name": "stderr"
        },
        {
          "output_type": "stream",
          "text": [
            "T Loss: 0.2223 V Loss: 0.2203 V MCRMSE: 0.2212\n",
            "Best valid MCRMSE updated to 0.2211640179157257\n",
            "Epoch 11\n"
          ],
          "name": "stdout"
        },
        {
          "output_type": "stream",
          "text": [
            "100%|██████████| 244/244 [00:29<00:00,  8.26it/s]\n",
            "100%|██████████| 20/20 [00:00<00:00, 21.23it/s]\n",
            "  0%|          | 1/244 [00:00<00:29,  8.37it/s]"
          ],
          "name": "stderr"
        },
        {
          "output_type": "stream",
          "text": [
            "T Loss: 0.2182 V Loss: 0.2244 V MCRMSE: 0.2252\n",
            "Epoch 12\n"
          ],
          "name": "stdout"
        },
        {
          "output_type": "stream",
          "text": [
            "100%|██████████| 244/244 [00:29<00:00,  8.27it/s]\n",
            "100%|██████████| 20/20 [00:00<00:00, 21.22it/s]\n",
            "  0%|          | 1/244 [00:00<00:29,  8.31it/s]"
          ],
          "name": "stderr"
        },
        {
          "output_type": "stream",
          "text": [
            "T Loss: 0.2154 V Loss: 0.2135 V MCRMSE: 0.2143\n",
            "Best valid MCRMSE updated to 0.2143280804157257\n",
            "Epoch 13\n"
          ],
          "name": "stdout"
        },
        {
          "output_type": "stream",
          "text": [
            "100%|██████████| 244/244 [00:29<00:00,  8.28it/s]\n",
            "100%|██████████| 20/20 [00:00<00:00, 21.21it/s]\n",
            "  0%|          | 1/244 [00:00<00:29,  8.23it/s]"
          ],
          "name": "stderr"
        },
        {
          "output_type": "stream",
          "text": [
            "T Loss: 0.2120 V Loss: 0.2153 V MCRMSE: 0.2160\n",
            "Epoch 14\n"
          ],
          "name": "stdout"
        },
        {
          "output_type": "stream",
          "text": [
            "100%|██████████| 244/244 [00:29<00:00,  8.27it/s]\n",
            "100%|██████████| 20/20 [00:00<00:00, 21.23it/s]\n",
            "  0%|          | 1/244 [00:00<00:29,  8.31it/s]"
          ],
          "name": "stderr"
        },
        {
          "output_type": "stream",
          "text": [
            "T Loss: 0.2101 V Loss: 0.2136 V MCRMSE: 0.2145\n",
            "Epoch 15\n"
          ],
          "name": "stdout"
        },
        {
          "output_type": "stream",
          "text": [
            "100%|██████████| 244/244 [00:29<00:00,  8.27it/s]\n",
            "100%|██████████| 20/20 [00:00<00:00, 21.15it/s]\n",
            "  0%|          | 1/244 [00:00<00:29,  8.23it/s]"
          ],
          "name": "stderr"
        },
        {
          "output_type": "stream",
          "text": [
            "T Loss: 0.2078 V Loss: 0.2095 V MCRMSE: 0.2103\n",
            "Best valid MCRMSE updated to 0.21034643054008484\n",
            "Epoch 16\n"
          ],
          "name": "stdout"
        },
        {
          "output_type": "stream",
          "text": [
            "100%|██████████| 244/244 [00:29<00:00,  8.28it/s]\n",
            "100%|██████████| 20/20 [00:00<00:00, 21.12it/s]\n",
            "  0%|          | 1/244 [00:00<00:29,  8.22it/s]"
          ],
          "name": "stderr"
        },
        {
          "output_type": "stream",
          "text": [
            "T Loss: 0.2060 V Loss: 0.2085 V MCRMSE: 0.2093\n",
            "Best valid MCRMSE updated to 0.2093352973461151\n",
            "Epoch 17\n"
          ],
          "name": "stdout"
        },
        {
          "output_type": "stream",
          "text": [
            "100%|██████████| 244/244 [00:29<00:00,  8.27it/s]\n",
            "100%|██████████| 20/20 [00:00<00:00, 21.19it/s]\n",
            "  0%|          | 1/244 [00:00<00:29,  8.35it/s]"
          ],
          "name": "stderr"
        },
        {
          "output_type": "stream",
          "text": [
            "T Loss: 0.2024 V Loss: 0.2110 V MCRMSE: 0.2119\n",
            "Epoch 18\n"
          ],
          "name": "stdout"
        },
        {
          "output_type": "stream",
          "text": [
            "100%|██████████| 244/244 [00:29<00:00,  8.28it/s]\n",
            "100%|██████████| 20/20 [00:00<00:00, 21.25it/s]\n",
            "  0%|          | 1/244 [00:00<00:29,  8.36it/s]"
          ],
          "name": "stderr"
        },
        {
          "output_type": "stream",
          "text": [
            "T Loss: 0.2012 V Loss: 0.2018 V MCRMSE: 0.2027\n",
            "Best valid MCRMSE updated to 0.2027062475681305\n",
            "Epoch 19\n"
          ],
          "name": "stdout"
        },
        {
          "output_type": "stream",
          "text": [
            "100%|██████████| 244/244 [00:29<00:00,  8.27it/s]\n",
            "100%|██████████| 20/20 [00:00<00:00, 21.21it/s]\n",
            "  0%|          | 1/244 [00:00<00:29,  8.19it/s]"
          ],
          "name": "stderr"
        },
        {
          "output_type": "stream",
          "text": [
            "T Loss: 0.1985 V Loss: 0.2026 V MCRMSE: 0.2035\n",
            "Epoch 20\n"
          ],
          "name": "stdout"
        },
        {
          "output_type": "stream",
          "text": [
            "100%|██████████| 244/244 [00:29<00:00,  8.27it/s]\n",
            "100%|██████████| 20/20 [00:00<00:00, 21.21it/s]\n",
            "  0%|          | 1/244 [00:00<00:29,  8.36it/s]"
          ],
          "name": "stderr"
        },
        {
          "output_type": "stream",
          "text": [
            "T Loss: 0.1964 V Loss: 0.1992 V MCRMSE: 0.2001\n",
            "Best valid MCRMSE updated to 0.2000640332698822\n",
            "Epoch 21\n"
          ],
          "name": "stdout"
        },
        {
          "output_type": "stream",
          "text": [
            "100%|██████████| 244/244 [00:29<00:00,  8.27it/s]\n",
            "100%|██████████| 20/20 [00:00<00:00, 21.18it/s]\n",
            "  0%|          | 1/244 [00:00<00:29,  8.26it/s]"
          ],
          "name": "stderr"
        },
        {
          "output_type": "stream",
          "text": [
            "T Loss: 0.1942 V Loss: 0.2048 V MCRMSE: 0.2057\n",
            "Epoch 22\n"
          ],
          "name": "stdout"
        },
        {
          "output_type": "stream",
          "text": [
            "100%|██████████| 244/244 [00:29<00:00,  8.28it/s]\n",
            "100%|██████████| 20/20 [00:00<00:00, 21.27it/s]\n",
            "  0%|          | 1/244 [00:00<00:29,  8.31it/s]"
          ],
          "name": "stderr"
        },
        {
          "output_type": "stream",
          "text": [
            "T Loss: 0.1936 V Loss: 0.1996 V MCRMSE: 0.2006\n",
            "Epoch 23\n"
          ],
          "name": "stdout"
        },
        {
          "output_type": "stream",
          "text": [
            "100%|██████████| 244/244 [00:29<00:00,  8.27it/s]\n",
            "100%|██████████| 20/20 [00:00<00:00, 21.16it/s]\n",
            "  0%|          | 1/244 [00:00<00:29,  8.32it/s]"
          ],
          "name": "stderr"
        },
        {
          "output_type": "stream",
          "text": [
            "T Loss: 0.1910 V Loss: 0.1974 V MCRMSE: 0.1984\n",
            "Best valid MCRMSE updated to 0.19835063815116882\n",
            "Epoch 24\n"
          ],
          "name": "stdout"
        },
        {
          "output_type": "stream",
          "text": [
            "100%|██████████| 244/244 [00:29<00:00,  8.27it/s]\n",
            "100%|██████████| 20/20 [00:00<00:00, 21.17it/s]\n",
            "  0%|          | 1/244 [00:00<00:29,  8.34it/s]"
          ],
          "name": "stderr"
        },
        {
          "output_type": "stream",
          "text": [
            "T Loss: 0.1900 V Loss: 0.1969 V MCRMSE: 0.1977\n",
            "Best valid MCRMSE updated to 0.19771966338157654\n",
            "Epoch 25\n"
          ],
          "name": "stdout"
        },
        {
          "output_type": "stream",
          "text": [
            "100%|██████████| 244/244 [00:29<00:00,  8.27it/s]\n",
            "100%|██████████| 20/20 [00:00<00:00, 21.12it/s]\n",
            "  0%|          | 1/244 [00:00<00:29,  8.24it/s]"
          ],
          "name": "stderr"
        },
        {
          "output_type": "stream",
          "text": [
            "T Loss: 0.1894 V Loss: 0.1949 V MCRMSE: 0.1958\n",
            "Best valid MCRMSE updated to 0.19581083953380585\n",
            "Epoch 26\n"
          ],
          "name": "stdout"
        },
        {
          "output_type": "stream",
          "text": [
            "100%|██████████| 244/244 [00:29<00:00,  8.28it/s]\n",
            "100%|██████████| 20/20 [00:00<00:00, 21.19it/s]\n",
            "  0%|          | 1/244 [00:00<00:29,  8.26it/s]"
          ],
          "name": "stderr"
        },
        {
          "output_type": "stream",
          "text": [
            "T Loss: 0.1875 V Loss: 0.1925 V MCRMSE: 0.1934\n",
            "Best valid MCRMSE updated to 0.1934351623058319\n",
            "Epoch 27\n"
          ],
          "name": "stdout"
        },
        {
          "output_type": "stream",
          "text": [
            "100%|██████████| 244/244 [00:29<00:00,  8.27it/s]\n",
            "100%|██████████| 20/20 [00:00<00:00, 21.09it/s]\n",
            "  0%|          | 1/244 [00:00<00:29,  8.27it/s]"
          ],
          "name": "stderr"
        },
        {
          "output_type": "stream",
          "text": [
            "T Loss: 0.1859 V Loss: 0.1941 V MCRMSE: 0.1951\n",
            "Epoch 28\n"
          ],
          "name": "stdout"
        },
        {
          "output_type": "stream",
          "text": [
            "100%|██████████| 244/244 [00:29<00:00,  8.24it/s]\n",
            "100%|██████████| 20/20 [00:00<00:00, 20.98it/s]\n",
            "  0%|          | 1/244 [00:00<00:29,  8.38it/s]"
          ],
          "name": "stderr"
        },
        {
          "output_type": "stream",
          "text": [
            "T Loss: 0.1839 V Loss: 0.2027 V MCRMSE: 0.2034\n",
            "Epoch 29\n"
          ],
          "name": "stdout"
        },
        {
          "output_type": "stream",
          "text": [
            "100%|██████████| 244/244 [00:29<00:00,  8.24it/s]\n",
            "100%|██████████| 20/20 [00:00<00:00, 21.06it/s]\n",
            "  0%|          | 1/244 [00:00<00:29,  8.36it/s]"
          ],
          "name": "stderr"
        },
        {
          "output_type": "stream",
          "text": [
            "T Loss: 0.1841 V Loss: 0.1953 V MCRMSE: 0.1961\n",
            "Epoch 30\n"
          ],
          "name": "stdout"
        },
        {
          "output_type": "stream",
          "text": [
            "100%|██████████| 244/244 [00:29<00:00,  8.26it/s]\n",
            "100%|██████████| 20/20 [00:00<00:00, 21.19it/s]\n",
            "  0%|          | 1/244 [00:00<00:29,  8.17it/s]"
          ],
          "name": "stderr"
        },
        {
          "output_type": "stream",
          "text": [
            "T Loss: 0.1829 V Loss: 0.1882 V MCRMSE: 0.1890\n",
            "Best valid MCRMSE updated to 0.18897408246994019\n",
            "Epoch 31\n"
          ],
          "name": "stdout"
        },
        {
          "output_type": "stream",
          "text": [
            "100%|██████████| 244/244 [00:29<00:00,  8.24it/s]\n",
            "100%|██████████| 20/20 [00:00<00:00, 21.09it/s]\n",
            "  0%|          | 1/244 [00:00<00:28,  8.39it/s]"
          ],
          "name": "stderr"
        },
        {
          "output_type": "stream",
          "text": [
            "T Loss: 0.1805 V Loss: 0.1873 V MCRMSE: 0.1883\n",
            "Best valid MCRMSE updated to 0.18826192617416382\n",
            "Epoch 32\n"
          ],
          "name": "stdout"
        },
        {
          "output_type": "stream",
          "text": [
            "100%|██████████| 244/244 [00:29<00:00,  8.22it/s]\n",
            "100%|██████████| 20/20 [00:00<00:00, 21.06it/s]\n",
            "  0%|          | 1/244 [00:00<00:29,  8.33it/s]"
          ],
          "name": "stderr"
        },
        {
          "output_type": "stream",
          "text": [
            "T Loss: 0.1800 V Loss: 0.1837 V MCRMSE: 0.1847\n",
            "Best valid MCRMSE updated to 0.18469898402690887\n",
            "Epoch 33\n"
          ],
          "name": "stdout"
        },
        {
          "output_type": "stream",
          "text": [
            "100%|██████████| 244/244 [00:29<00:00,  8.23it/s]\n",
            "100%|██████████| 20/20 [00:00<00:00, 21.05it/s]\n",
            "  0%|          | 1/244 [00:00<00:29,  8.26it/s]"
          ],
          "name": "stderr"
        },
        {
          "output_type": "stream",
          "text": [
            "T Loss: 0.1785 V Loss: 0.1848 V MCRMSE: 0.1859\n",
            "Epoch 34\n"
          ],
          "name": "stdout"
        },
        {
          "output_type": "stream",
          "text": [
            "100%|██████████| 244/244 [00:29<00:00,  8.22it/s]\n",
            "100%|██████████| 20/20 [00:00<00:00, 21.09it/s]\n",
            "  0%|          | 1/244 [00:00<00:29,  8.31it/s]"
          ],
          "name": "stderr"
        },
        {
          "output_type": "stream",
          "text": [
            "T Loss: 0.1775 V Loss: 0.1848 V MCRMSE: 0.1858\n",
            "Epoch 35\n"
          ],
          "name": "stdout"
        },
        {
          "output_type": "stream",
          "text": [
            "100%|██████████| 244/244 [00:29<00:00,  8.21it/s]\n",
            "100%|██████████| 20/20 [00:00<00:00, 21.02it/s]\n",
            "  0%|          | 1/244 [00:00<00:29,  8.27it/s]"
          ],
          "name": "stderr"
        },
        {
          "output_type": "stream",
          "text": [
            "T Loss: 0.1769 V Loss: 0.1825 V MCRMSE: 0.1835\n",
            "Best valid MCRMSE updated to 0.18351489305496216\n",
            "Epoch 36\n"
          ],
          "name": "stdout"
        },
        {
          "output_type": "stream",
          "text": [
            "100%|██████████| 244/244 [00:29<00:00,  8.22it/s]\n",
            "100%|██████████| 20/20 [00:00<00:00, 21.04it/s]\n",
            "  0%|          | 1/244 [00:00<00:29,  8.14it/s]"
          ],
          "name": "stderr"
        },
        {
          "output_type": "stream",
          "text": [
            "T Loss: 0.1766 V Loss: 0.1828 V MCRMSE: 0.1837\n",
            "Epoch 37\n"
          ],
          "name": "stdout"
        },
        {
          "output_type": "stream",
          "text": [
            "100%|██████████| 244/244 [00:29<00:00,  8.22it/s]\n",
            "100%|██████████| 20/20 [00:00<00:00, 21.09it/s]\n",
            "  0%|          | 1/244 [00:00<00:29,  8.21it/s]"
          ],
          "name": "stderr"
        },
        {
          "output_type": "stream",
          "text": [
            "T Loss: 0.1746 V Loss: 0.1823 V MCRMSE: 0.1831\n",
            "Best valid MCRMSE updated to 0.18313604593276978\n",
            "Epoch 38\n"
          ],
          "name": "stdout"
        },
        {
          "output_type": "stream",
          "text": [
            "100%|██████████| 244/244 [00:29<00:00,  8.25it/s]\n",
            "100%|██████████| 20/20 [00:00<00:00, 21.22it/s]\n",
            "  0%|          | 1/244 [00:00<00:29,  8.26it/s]"
          ],
          "name": "stderr"
        },
        {
          "output_type": "stream",
          "text": [
            "T Loss: 0.1747 V Loss: 0.1842 V MCRMSE: 0.1853\n",
            "Epoch 39\n"
          ],
          "name": "stdout"
        },
        {
          "output_type": "stream",
          "text": [
            "100%|██████████| 244/244 [00:29<00:00,  8.24it/s]\n",
            "100%|██████████| 20/20 [00:00<00:00, 21.03it/s]\n",
            "  0%|          | 1/244 [00:00<00:29,  8.31it/s]"
          ],
          "name": "stderr"
        },
        {
          "output_type": "stream",
          "text": [
            "T Loss: 0.1731 V Loss: 0.1807 V MCRMSE: 0.1816\n",
            "Best valid MCRMSE updated to 0.18162217736244202\n",
            "Epoch 40\n"
          ],
          "name": "stdout"
        },
        {
          "output_type": "stream",
          "text": [
            "100%|██████████| 244/244 [00:29<00:00,  8.23it/s]\n",
            "100%|██████████| 20/20 [00:00<00:00, 21.02it/s]\n",
            "  0%|          | 1/244 [00:00<00:29,  8.27it/s]"
          ],
          "name": "stderr"
        },
        {
          "output_type": "stream",
          "text": [
            "T Loss: 0.1724 V Loss: 0.1781 V MCRMSE: 0.1792\n",
            "Best valid MCRMSE updated to 0.17922228574752808\n",
            "Epoch 41\n"
          ],
          "name": "stdout"
        },
        {
          "output_type": "stream",
          "text": [
            "100%|██████████| 244/244 [00:29<00:00,  8.24it/s]\n",
            "100%|██████████| 20/20 [00:00<00:00, 21.13it/s]\n",
            "  0%|          | 1/244 [00:00<00:29,  8.35it/s]"
          ],
          "name": "stderr"
        },
        {
          "output_type": "stream",
          "text": [
            "T Loss: 0.1710 V Loss: 0.1785 V MCRMSE: 0.1795\n",
            "Epoch 42\n"
          ],
          "name": "stdout"
        },
        {
          "output_type": "stream",
          "text": [
            "100%|██████████| 244/244 [00:29<00:00,  8.23it/s]\n",
            "100%|██████████| 20/20 [00:00<00:00, 21.06it/s]\n",
            "  0%|          | 1/244 [00:00<00:29,  8.24it/s]"
          ],
          "name": "stderr"
        },
        {
          "output_type": "stream",
          "text": [
            "T Loss: 0.1706 V Loss: 0.1769 V MCRMSE: 0.1781\n",
            "Best valid MCRMSE updated to 0.1780548393726349\n",
            "Epoch 43\n"
          ],
          "name": "stdout"
        },
        {
          "output_type": "stream",
          "text": [
            "100%|██████████| 244/244 [00:29<00:00,  8.24it/s]\n",
            "100%|██████████| 20/20 [00:00<00:00, 21.01it/s]\n",
            "  0%|          | 1/244 [00:00<00:29,  8.19it/s]"
          ],
          "name": "stderr"
        },
        {
          "output_type": "stream",
          "text": [
            "T Loss: 0.1694 V Loss: 0.1787 V MCRMSE: 0.1798\n",
            "Epoch 44\n"
          ],
          "name": "stdout"
        },
        {
          "output_type": "stream",
          "text": [
            "100%|██████████| 244/244 [00:29<00:00,  8.23it/s]\n",
            "100%|██████████| 20/20 [00:00<00:00, 21.10it/s]\n",
            "  0%|          | 1/244 [00:00<00:29,  8.21it/s]"
          ],
          "name": "stderr"
        },
        {
          "output_type": "stream",
          "text": [
            "T Loss: 0.1696 V Loss: 0.1764 V MCRMSE: 0.1775\n",
            "Best valid MCRMSE updated to 0.17752161622047424\n",
            "Epoch 45\n"
          ],
          "name": "stdout"
        },
        {
          "output_type": "stream",
          "text": [
            "100%|██████████| 244/244 [00:29<00:00,  8.24it/s]\n",
            "100%|██████████| 20/20 [00:00<00:00, 20.86it/s]\n",
            "  0%|          | 1/244 [00:00<00:29,  8.15it/s]"
          ],
          "name": "stderr"
        },
        {
          "output_type": "stream",
          "text": [
            "T Loss: 0.1680 V Loss: 0.1762 V MCRMSE: 0.1773\n",
            "Best valid MCRMSE updated to 0.1772613823413849\n",
            "Epoch 46\n"
          ],
          "name": "stdout"
        },
        {
          "output_type": "stream",
          "text": [
            "100%|██████████| 244/244 [00:29<00:00,  8.23it/s]\n",
            "100%|██████████| 20/20 [00:00<00:00, 21.21it/s]\n",
            "  0%|          | 1/244 [00:00<00:29,  8.29it/s]"
          ],
          "name": "stderr"
        },
        {
          "output_type": "stream",
          "text": [
            "T Loss: 0.1678 V Loss: 0.1748 V MCRMSE: 0.1759\n",
            "Best valid MCRMSE updated to 0.17589718103408813\n",
            "Epoch 47\n"
          ],
          "name": "stdout"
        },
        {
          "output_type": "stream",
          "text": [
            "100%|██████████| 244/244 [00:29<00:00,  8.23it/s]\n",
            "100%|██████████| 20/20 [00:00<00:00, 21.10it/s]\n",
            "  0%|          | 1/244 [00:00<00:29,  8.37it/s]"
          ],
          "name": "stderr"
        },
        {
          "output_type": "stream",
          "text": [
            "T Loss: 0.1667 V Loss: 0.1738 V MCRMSE: 0.1749\n",
            "Best valid MCRMSE updated to 0.1749412715435028\n",
            "Epoch 48\n"
          ],
          "name": "stdout"
        },
        {
          "output_type": "stream",
          "text": [
            "100%|██████████| 244/244 [00:29<00:00,  8.24it/s]\n",
            "100%|██████████| 20/20 [00:00<00:00, 21.16it/s]\n",
            "  0%|          | 1/244 [00:00<00:29,  8.29it/s]"
          ],
          "name": "stderr"
        },
        {
          "output_type": "stream",
          "text": [
            "T Loss: 0.1664 V Loss: 0.1745 V MCRMSE: 0.1756\n",
            "Epoch 49\n"
          ],
          "name": "stdout"
        },
        {
          "output_type": "stream",
          "text": [
            "100%|██████████| 244/244 [00:29<00:00,  8.24it/s]\n",
            "100%|██████████| 20/20 [00:00<00:00, 21.12it/s]\n",
            "  0%|          | 1/244 [00:00<00:28,  8.39it/s]"
          ],
          "name": "stderr"
        },
        {
          "output_type": "stream",
          "text": [
            "T Loss: 0.1660 V Loss: 0.1719 V MCRMSE: 0.1730\n",
            "Best valid MCRMSE updated to 0.1729695051908493\n",
            "Epoch 50\n"
          ],
          "name": "stdout"
        },
        {
          "output_type": "stream",
          "text": [
            "100%|██████████| 244/244 [00:29<00:00,  8.24it/s]\n",
            "100%|██████████| 20/20 [00:00<00:00, 21.12it/s]\n",
            "  0%|          | 1/244 [00:00<00:29,  8.28it/s]"
          ],
          "name": "stderr"
        },
        {
          "output_type": "stream",
          "text": [
            "T Loss: 0.1649 V Loss: 0.1732 V MCRMSE: 0.1744\n",
            "Epoch 51\n"
          ],
          "name": "stdout"
        },
        {
          "output_type": "stream",
          "text": [
            "100%|██████████| 244/244 [00:29<00:00,  8.23it/s]\n",
            "100%|██████████| 20/20 [00:00<00:00, 21.17it/s]\n",
            "  0%|          | 1/244 [00:00<00:29,  8.30it/s]"
          ],
          "name": "stderr"
        },
        {
          "output_type": "stream",
          "text": [
            "T Loss: 0.1647 V Loss: 0.1736 V MCRMSE: 0.1746\n",
            "Epoch 52\n"
          ],
          "name": "stdout"
        },
        {
          "output_type": "stream",
          "text": [
            "100%|██████████| 244/244 [00:29<00:00,  8.23it/s]\n",
            "100%|██████████| 20/20 [00:00<00:00, 21.00it/s]\n",
            "  0%|          | 1/244 [00:00<00:29,  8.20it/s]"
          ],
          "name": "stderr"
        },
        {
          "output_type": "stream",
          "text": [
            "T Loss: 0.1633 V Loss: 0.1728 V MCRMSE: 0.1739\n",
            "Epoch 53\n"
          ],
          "name": "stdout"
        },
        {
          "output_type": "stream",
          "text": [
            "100%|██████████| 244/244 [00:29<00:00,  8.22it/s]\n",
            "100%|██████████| 20/20 [00:00<00:00, 21.03it/s]\n",
            "  0%|          | 1/244 [00:00<00:29,  8.34it/s]"
          ],
          "name": "stderr"
        },
        {
          "output_type": "stream",
          "text": [
            "T Loss: 0.1629 V Loss: 0.1738 V MCRMSE: 0.1749\n",
            "Epoch 54\n"
          ],
          "name": "stdout"
        },
        {
          "output_type": "stream",
          "text": [
            "100%|██████████| 244/244 [00:29<00:00,  8.25it/s]\n",
            "100%|██████████| 20/20 [00:00<00:00, 21.24it/s]\n",
            "  0%|          | 1/244 [00:00<00:29,  8.27it/s]"
          ],
          "name": "stderr"
        },
        {
          "output_type": "stream",
          "text": [
            "T Loss: 0.1631 V Loss: 0.1724 V MCRMSE: 0.1737\n",
            "Epoch 55\n"
          ],
          "name": "stdout"
        },
        {
          "output_type": "stream",
          "text": [
            "100%|██████████| 244/244 [00:29<00:00,  8.25it/s]\n",
            "100%|██████████| 20/20 [00:00<00:00, 21.04it/s]\n",
            "  0%|          | 1/244 [00:00<00:29,  8.28it/s]"
          ],
          "name": "stderr"
        },
        {
          "output_type": "stream",
          "text": [
            "T Loss: 0.1621 V Loss: 0.1709 V MCRMSE: 0.1721\n",
            "Best valid MCRMSE updated to 0.17210064828395844\n",
            "Epoch 56\n"
          ],
          "name": "stdout"
        },
        {
          "output_type": "stream",
          "text": [
            "100%|██████████| 244/244 [00:29<00:00,  8.26it/s]\n",
            "100%|██████████| 20/20 [00:00<00:00, 21.23it/s]\n",
            "  0%|          | 1/244 [00:00<00:29,  8.28it/s]"
          ],
          "name": "stderr"
        },
        {
          "output_type": "stream",
          "text": [
            "T Loss: 0.1615 V Loss: 0.1706 V MCRMSE: 0.1718\n",
            "Best valid MCRMSE updated to 0.1718272566795349\n",
            "Epoch 57\n"
          ],
          "name": "stdout"
        },
        {
          "output_type": "stream",
          "text": [
            "100%|██████████| 244/244 [00:29<00:00,  8.28it/s]\n",
            "100%|██████████| 20/20 [00:00<00:00, 21.23it/s]\n",
            "  0%|          | 1/244 [00:00<00:29,  8.25it/s]"
          ],
          "name": "stderr"
        },
        {
          "output_type": "stream",
          "text": [
            "T Loss: 0.1611 V Loss: 0.1730 V MCRMSE: 0.1740\n",
            "Epoch 58\n"
          ],
          "name": "stdout"
        },
        {
          "output_type": "stream",
          "text": [
            "100%|██████████| 244/244 [00:29<00:00,  8.28it/s]\n",
            "100%|██████████| 20/20 [00:00<00:00, 21.18it/s]\n",
            "  0%|          | 1/244 [00:00<00:29,  8.28it/s]"
          ],
          "name": "stderr"
        },
        {
          "output_type": "stream",
          "text": [
            "T Loss: 0.1608 V Loss: 0.1687 V MCRMSE: 0.1699\n",
            "Best valid MCRMSE updated to 0.16993558406829834\n",
            "Epoch 59\n"
          ],
          "name": "stdout"
        },
        {
          "output_type": "stream",
          "text": [
            "100%|██████████| 244/244 [00:29<00:00,  8.28it/s]\n",
            "100%|██████████| 20/20 [00:00<00:00, 21.26it/s]\n",
            "  0%|          | 1/244 [00:00<00:29,  8.34it/s]"
          ],
          "name": "stderr"
        },
        {
          "output_type": "stream",
          "text": [
            "T Loss: 0.1598 V Loss: 0.1682 V MCRMSE: 0.1694\n",
            "Best valid MCRMSE updated to 0.16942386329174042\n",
            "Epoch 60\n"
          ],
          "name": "stdout"
        },
        {
          "output_type": "stream",
          "text": [
            "100%|██████████| 244/244 [00:29<00:00,  8.29it/s]\n",
            "100%|██████████| 20/20 [00:00<00:00, 21.24it/s]\n",
            "  0%|          | 1/244 [00:00<00:29,  8.33it/s]"
          ],
          "name": "stderr"
        },
        {
          "output_type": "stream",
          "text": [
            "T Loss: 0.1593 V Loss: 0.1672 V MCRMSE: 0.1684\n",
            "Best valid MCRMSE updated to 0.1684076488018036\n",
            "Epoch 61\n"
          ],
          "name": "stdout"
        },
        {
          "output_type": "stream",
          "text": [
            "100%|██████████| 244/244 [00:29<00:00,  8.29it/s]\n",
            "100%|██████████| 20/20 [00:00<00:00, 21.22it/s]\n",
            "  0%|          | 1/244 [00:00<00:29,  8.18it/s]"
          ],
          "name": "stderr"
        },
        {
          "output_type": "stream",
          "text": [
            "T Loss: 0.1595 V Loss: 0.1673 V MCRMSE: 0.1684\n",
            "Epoch 62\n"
          ],
          "name": "stdout"
        },
        {
          "output_type": "stream",
          "text": [
            "100%|██████████| 244/244 [00:29<00:00,  8.29it/s]\n",
            "100%|██████████| 20/20 [00:00<00:00, 21.25it/s]\n",
            "  0%|          | 1/244 [00:00<00:29,  8.26it/s]"
          ],
          "name": "stderr"
        },
        {
          "output_type": "stream",
          "text": [
            "T Loss: 0.1582 V Loss: 0.1722 V MCRMSE: 0.1733\n",
            "Epoch 63\n"
          ],
          "name": "stdout"
        },
        {
          "output_type": "stream",
          "text": [
            "100%|██████████| 244/244 [00:29<00:00,  8.28it/s]\n",
            "100%|██████████| 20/20 [00:00<00:00, 21.27it/s]\n",
            "  0%|          | 1/244 [00:00<00:29,  8.27it/s]"
          ],
          "name": "stderr"
        },
        {
          "output_type": "stream",
          "text": [
            "T Loss: 0.1582 V Loss: 0.1671 V MCRMSE: 0.1683\n",
            "Best valid MCRMSE updated to 0.1683170050382614\n",
            "Epoch 64\n"
          ],
          "name": "stdout"
        },
        {
          "output_type": "stream",
          "text": [
            "100%|██████████| 244/244 [00:29<00:00,  8.30it/s]\n",
            "100%|██████████| 20/20 [00:00<00:00, 21.25it/s]\n",
            "  0%|          | 1/244 [00:00<00:29,  8.19it/s]"
          ],
          "name": "stderr"
        },
        {
          "output_type": "stream",
          "text": [
            "T Loss: 0.1574 V Loss: 0.1683 V MCRMSE: 0.1695\n",
            "Epoch 65\n"
          ],
          "name": "stdout"
        },
        {
          "output_type": "stream",
          "text": [
            "100%|██████████| 244/244 [00:29<00:00,  8.30it/s]\n",
            "100%|██████████| 20/20 [00:00<00:00, 21.26it/s]\n",
            "  0%|          | 1/244 [00:00<00:28,  8.43it/s]"
          ],
          "name": "stderr"
        },
        {
          "output_type": "stream",
          "text": [
            "T Loss: 0.1572 V Loss: 0.1692 V MCRMSE: 0.1704\n",
            "Epoch 66\n"
          ],
          "name": "stdout"
        },
        {
          "output_type": "stream",
          "text": [
            "100%|██████████| 244/244 [00:29<00:00,  8.29it/s]\n",
            "100%|██████████| 20/20 [00:00<00:00, 21.25it/s]\n",
            "  0%|          | 1/244 [00:00<00:29,  8.25it/s]"
          ],
          "name": "stderr"
        },
        {
          "output_type": "stream",
          "text": [
            "T Loss: 0.1573 V Loss: 0.1668 V MCRMSE: 0.1682\n",
            "Best valid MCRMSE updated to 0.16818176209926605\n",
            "Epoch 67\n"
          ],
          "name": "stdout"
        },
        {
          "output_type": "stream",
          "text": [
            "100%|██████████| 244/244 [00:29<00:00,  8.30it/s]\n",
            "100%|██████████| 20/20 [00:00<00:00, 21.28it/s]\n",
            "  0%|          | 1/244 [00:00<00:29,  8.26it/s]"
          ],
          "name": "stderr"
        },
        {
          "output_type": "stream",
          "text": [
            "T Loss: 0.1563 V Loss: 0.1652 V MCRMSE: 0.1665\n",
            "Best valid MCRMSE updated to 0.16646991670131683\n",
            "Epoch 68\n"
          ],
          "name": "stdout"
        },
        {
          "output_type": "stream",
          "text": [
            "100%|██████████| 244/244 [00:29<00:00,  8.30it/s]\n",
            "100%|██████████| 20/20 [00:00<00:00, 21.26it/s]\n",
            "  0%|          | 1/244 [00:00<00:29,  8.21it/s]"
          ],
          "name": "stderr"
        },
        {
          "output_type": "stream",
          "text": [
            "T Loss: 0.1564 V Loss: 0.1665 V MCRMSE: 0.1678\n",
            "Epoch 69\n"
          ],
          "name": "stdout"
        },
        {
          "output_type": "stream",
          "text": [
            "100%|██████████| 244/244 [00:29<00:00,  8.30it/s]\n",
            "100%|██████████| 20/20 [00:00<00:00, 21.24it/s]\n",
            "  0%|          | 1/244 [00:00<00:29,  8.36it/s]"
          ],
          "name": "stderr"
        },
        {
          "output_type": "stream",
          "text": [
            "T Loss: 0.1562 V Loss: 0.1663 V MCRMSE: 0.1675\n",
            "Epoch 70\n"
          ],
          "name": "stdout"
        },
        {
          "output_type": "stream",
          "text": [
            "100%|██████████| 244/244 [00:29<00:00,  8.30it/s]\n",
            "100%|██████████| 20/20 [00:00<00:00, 21.26it/s]\n",
            "  0%|          | 1/244 [00:00<00:28,  8.41it/s]"
          ],
          "name": "stderr"
        },
        {
          "output_type": "stream",
          "text": [
            "T Loss: 0.1557 V Loss: 0.1657 V MCRMSE: 0.1671\n",
            "Epoch 71\n"
          ],
          "name": "stdout"
        },
        {
          "output_type": "stream",
          "text": [
            "100%|██████████| 244/244 [00:29<00:00,  8.30it/s]\n",
            "100%|██████████| 20/20 [00:00<00:00, 21.26it/s]\n",
            "  0%|          | 1/244 [00:00<00:29,  8.29it/s]"
          ],
          "name": "stderr"
        },
        {
          "output_type": "stream",
          "text": [
            "T Loss: 0.1551 V Loss: 0.1638 V MCRMSE: 0.1650\n",
            "Best valid MCRMSE updated to 0.16503936052322388\n",
            "Epoch 72\n"
          ],
          "name": "stdout"
        },
        {
          "output_type": "stream",
          "text": [
            "100%|██████████| 244/244 [00:29<00:00,  8.30it/s]\n",
            "100%|██████████| 20/20 [00:00<00:00, 21.28it/s]\n",
            "  0%|          | 1/244 [00:00<00:28,  8.42it/s]"
          ],
          "name": "stderr"
        },
        {
          "output_type": "stream",
          "text": [
            "T Loss: 0.1545 V Loss: 0.1662 V MCRMSE: 0.1675\n",
            "Epoch 73\n"
          ],
          "name": "stdout"
        },
        {
          "output_type": "stream",
          "text": [
            "100%|██████████| 244/244 [00:29<00:00,  8.28it/s]\n",
            "100%|██████████| 20/20 [00:00<00:00, 21.31it/s]\n",
            "  0%|          | 1/244 [00:00<00:29,  8.33it/s]"
          ],
          "name": "stderr"
        },
        {
          "output_type": "stream",
          "text": [
            "T Loss: 0.1546 V Loss: 0.1632 V MCRMSE: 0.1646\n",
            "Best valid MCRMSE updated to 0.16463053226470947\n",
            "Epoch 74\n"
          ],
          "name": "stdout"
        },
        {
          "output_type": "stream",
          "text": [
            "100%|██████████| 244/244 [00:29<00:00,  8.28it/s]\n",
            "100%|██████████| 20/20 [00:00<00:00, 21.15it/s]\n",
            "  0%|          | 1/244 [00:00<00:29,  8.27it/s]"
          ],
          "name": "stderr"
        },
        {
          "output_type": "stream",
          "text": [
            "T Loss: 0.1534 V Loss: 0.1631 V MCRMSE: 0.1644\n",
            "Best valid MCRMSE updated to 0.16435962915420532\n",
            "Epoch 75\n"
          ],
          "name": "stdout"
        },
        {
          "output_type": "stream",
          "text": [
            "100%|██████████| 244/244 [00:29<00:00,  8.27it/s]\n",
            "100%|██████████| 20/20 [00:00<00:00, 21.27it/s]\n",
            "  0%|          | 1/244 [00:00<00:29,  8.31it/s]"
          ],
          "name": "stderr"
        },
        {
          "output_type": "stream",
          "text": [
            "T Loss: 0.1535 V Loss: 0.1647 V MCRMSE: 0.1661\n",
            "Epoch 76\n"
          ],
          "name": "stdout"
        },
        {
          "output_type": "stream",
          "text": [
            "100%|██████████| 244/244 [00:29<00:00,  8.29it/s]\n",
            "100%|██████████| 20/20 [00:00<00:00, 21.29it/s]\n",
            "  0%|          | 1/244 [00:00<00:28,  8.40it/s]"
          ],
          "name": "stderr"
        },
        {
          "output_type": "stream",
          "text": [
            "T Loss: 0.1533 V Loss: 0.1616 V MCRMSE: 0.1629\n",
            "Best valid MCRMSE updated to 0.16290371119976044\n",
            "Epoch 77\n"
          ],
          "name": "stdout"
        },
        {
          "output_type": "stream",
          "text": [
            "100%|██████████| 244/244 [00:29<00:00,  8.29it/s]\n",
            "100%|██████████| 20/20 [00:00<00:00, 21.21it/s]\n",
            "  0%|          | 1/244 [00:00<00:29,  8.33it/s]"
          ],
          "name": "stderr"
        },
        {
          "output_type": "stream",
          "text": [
            "T Loss: 0.1522 V Loss: 0.1626 V MCRMSE: 0.1639\n",
            "Epoch 78\n"
          ],
          "name": "stdout"
        },
        {
          "output_type": "stream",
          "text": [
            "100%|██████████| 244/244 [00:29<00:00,  8.30it/s]\n",
            "100%|██████████| 20/20 [00:00<00:00, 21.24it/s]\n",
            "  0%|          | 1/244 [00:00<00:29,  8.27it/s]"
          ],
          "name": "stderr"
        },
        {
          "output_type": "stream",
          "text": [
            "T Loss: 0.1524 V Loss: 0.1653 V MCRMSE: 0.1666\n",
            "Epoch 79\n"
          ],
          "name": "stdout"
        },
        {
          "output_type": "stream",
          "text": [
            "100%|██████████| 244/244 [00:29<00:00,  8.29it/s]\n",
            "100%|██████████| 20/20 [00:00<00:00, 21.24it/s]\n",
            "  0%|          | 1/244 [00:00<00:28,  8.40it/s]"
          ],
          "name": "stderr"
        },
        {
          "output_type": "stream",
          "text": [
            "T Loss: 0.1519 V Loss: 0.1625 V MCRMSE: 0.1638\n",
            "Epoch 80\n"
          ],
          "name": "stdout"
        },
        {
          "output_type": "stream",
          "text": [
            "100%|██████████| 244/244 [00:29<00:00,  8.29it/s]\n",
            "100%|██████████| 20/20 [00:00<00:00, 21.26it/s]\n",
            "  0%|          | 1/244 [00:00<00:29,  8.27it/s]"
          ],
          "name": "stderr"
        },
        {
          "output_type": "stream",
          "text": [
            "T Loss: 0.1512 V Loss: 0.1611 V MCRMSE: 0.1625\n",
            "Best valid MCRMSE updated to 0.1624889373779297\n",
            "Epoch 81\n"
          ],
          "name": "stdout"
        },
        {
          "output_type": "stream",
          "text": [
            "100%|██████████| 244/244 [00:29<00:00,  8.29it/s]\n",
            "100%|██████████| 20/20 [00:00<00:00, 21.22it/s]\n",
            "  0%|          | 1/244 [00:00<00:29,  8.26it/s]"
          ],
          "name": "stderr"
        },
        {
          "output_type": "stream",
          "text": [
            "T Loss: 0.1514 V Loss: 0.1611 V MCRMSE: 0.1624\n",
            "Best valid MCRMSE updated to 0.16244471073150635\n",
            "Epoch 82\n"
          ],
          "name": "stdout"
        },
        {
          "output_type": "stream",
          "text": [
            "100%|██████████| 244/244 [00:29<00:00,  8.29it/s]\n",
            "100%|██████████| 20/20 [00:00<00:00, 21.24it/s]\n",
            "  0%|          | 1/244 [00:00<00:29,  8.36it/s]"
          ],
          "name": "stderr"
        },
        {
          "output_type": "stream",
          "text": [
            "T Loss: 0.1509 V Loss: 0.1612 V MCRMSE: 0.1626\n",
            "Epoch 83\n"
          ],
          "name": "stdout"
        },
        {
          "output_type": "stream",
          "text": [
            "100%|██████████| 244/244 [00:29<00:00,  8.26it/s]\n",
            "100%|██████████| 20/20 [00:00<00:00, 20.92it/s]\n",
            "  0%|          | 1/244 [00:00<00:29,  8.21it/s]"
          ],
          "name": "stderr"
        },
        {
          "output_type": "stream",
          "text": [
            "T Loss: 0.1506 V Loss: 0.1657 V MCRMSE: 0.1671\n",
            "Epoch 84\n"
          ],
          "name": "stdout"
        },
        {
          "output_type": "stream",
          "text": [
            "100%|██████████| 244/244 [00:29<00:00,  8.23it/s]\n",
            "100%|██████████| 20/20 [00:00<00:00, 21.07it/s]\n",
            "  0%|          | 1/244 [00:00<00:29,  8.18it/s]"
          ],
          "name": "stderr"
        },
        {
          "output_type": "stream",
          "text": [
            "T Loss: 0.1509 V Loss: 0.1598 V MCRMSE: 0.1613\n",
            "Best valid MCRMSE updated to 0.1613115519285202\n",
            "Epoch 85\n"
          ],
          "name": "stdout"
        },
        {
          "output_type": "stream",
          "text": [
            "100%|██████████| 244/244 [00:29<00:00,  8.26it/s]\n",
            "100%|██████████| 20/20 [00:00<00:00, 21.19it/s]\n",
            "  0%|          | 1/244 [00:00<00:29,  8.37it/s]"
          ],
          "name": "stderr"
        },
        {
          "output_type": "stream",
          "text": [
            "T Loss: 0.1499 V Loss: 0.1599 V MCRMSE: 0.1614\n",
            "Epoch 86\n"
          ],
          "name": "stdout"
        },
        {
          "output_type": "stream",
          "text": [
            "100%|██████████| 244/244 [00:29<00:00,  8.28it/s]\n",
            "100%|██████████| 20/20 [00:00<00:00, 21.12it/s]\n",
            "  0%|          | 1/244 [00:00<00:29,  8.24it/s]"
          ],
          "name": "stderr"
        },
        {
          "output_type": "stream",
          "text": [
            "T Loss: 0.1505 V Loss: 0.1602 V MCRMSE: 0.1617\n",
            "Epoch 87\n"
          ],
          "name": "stdout"
        },
        {
          "output_type": "stream",
          "text": [
            "100%|██████████| 244/244 [00:29<00:00,  8.28it/s]\n",
            "100%|██████████| 20/20 [00:00<00:00, 21.21it/s]\n",
            "  0%|          | 1/244 [00:00<00:29,  8.36it/s]"
          ],
          "name": "stderr"
        },
        {
          "output_type": "stream",
          "text": [
            "T Loss: 0.1494 V Loss: 0.1605 V MCRMSE: 0.1618\n",
            "Epoch 88\n"
          ],
          "name": "stdout"
        },
        {
          "output_type": "stream",
          "text": [
            "100%|██████████| 244/244 [00:29<00:00,  8.28it/s]\n",
            "100%|██████████| 20/20 [00:00<00:00, 21.09it/s]\n",
            "  0%|          | 1/244 [00:00<00:29,  8.35it/s]"
          ],
          "name": "stderr"
        },
        {
          "output_type": "stream",
          "text": [
            "T Loss: 0.1492 V Loss: 0.1587 V MCRMSE: 0.1601\n",
            "Best valid MCRMSE updated to 0.16009581089019775\n",
            "Epoch 89\n"
          ],
          "name": "stdout"
        },
        {
          "output_type": "stream",
          "text": [
            "100%|██████████| 244/244 [00:29<00:00,  8.29it/s]\n",
            "100%|██████████| 20/20 [00:00<00:00, 21.23it/s]\n",
            "  0%|          | 1/244 [00:00<00:29,  8.29it/s]"
          ],
          "name": "stderr"
        },
        {
          "output_type": "stream",
          "text": [
            "T Loss: 0.1490 V Loss: 0.1576 V MCRMSE: 0.1591\n",
            "Best valid MCRMSE updated to 0.1590929478406906\n",
            "Epoch 90\n"
          ],
          "name": "stdout"
        },
        {
          "output_type": "stream",
          "text": [
            "100%|██████████| 244/244 [00:29<00:00,  8.28it/s]\n",
            "100%|██████████| 20/20 [00:00<00:00, 21.21it/s]\n",
            "  0%|          | 1/244 [00:00<00:29,  8.37it/s]"
          ],
          "name": "stderr"
        },
        {
          "output_type": "stream",
          "text": [
            "T Loss: 0.1492 V Loss: 0.1607 V MCRMSE: 0.1621\n",
            "Epoch 91\n"
          ],
          "name": "stdout"
        },
        {
          "output_type": "stream",
          "text": [
            "100%|██████████| 244/244 [00:29<00:00,  8.29it/s]\n",
            "100%|██████████| 20/20 [00:00<00:00, 21.19it/s]\n",
            "  0%|          | 1/244 [00:00<00:28,  8.41it/s]"
          ],
          "name": "stderr"
        },
        {
          "output_type": "stream",
          "text": [
            "T Loss: 0.1485 V Loss: 0.1590 V MCRMSE: 0.1604\n",
            "Epoch 92\n"
          ],
          "name": "stdout"
        },
        {
          "output_type": "stream",
          "text": [
            "100%|██████████| 244/244 [00:29<00:00,  8.29it/s]\n",
            "100%|██████████| 20/20 [00:00<00:00, 21.27it/s]\n",
            "  0%|          | 1/244 [00:00<00:29,  8.36it/s]"
          ],
          "name": "stderr"
        },
        {
          "output_type": "stream",
          "text": [
            "T Loss: 0.1474 V Loss: 0.1571 V MCRMSE: 0.1586\n",
            "Best valid MCRMSE updated to 0.15855517983436584\n",
            "Epoch 93\n"
          ],
          "name": "stdout"
        },
        {
          "output_type": "stream",
          "text": [
            "100%|██████████| 244/244 [00:29<00:00,  8.29it/s]\n",
            "100%|██████████| 20/20 [00:00<00:00, 21.23it/s]\n",
            "  0%|          | 1/244 [00:00<00:29,  8.26it/s]"
          ],
          "name": "stderr"
        },
        {
          "output_type": "stream",
          "text": [
            "T Loss: 0.1474 V Loss: 0.1595 V MCRMSE: 0.1609\n",
            "Epoch 94\n"
          ],
          "name": "stdout"
        },
        {
          "output_type": "stream",
          "text": [
            "100%|██████████| 244/244 [00:29<00:00,  8.28it/s]\n",
            "100%|██████████| 20/20 [00:00<00:00, 21.15it/s]\n",
            "  0%|          | 1/244 [00:00<00:29,  8.20it/s]"
          ],
          "name": "stderr"
        },
        {
          "output_type": "stream",
          "text": [
            "T Loss: 0.1472 V Loss: 0.1575 V MCRMSE: 0.1590\n",
            "Epoch 95\n"
          ],
          "name": "stdout"
        },
        {
          "output_type": "stream",
          "text": [
            "100%|██████████| 244/244 [00:29<00:00,  8.27it/s]\n",
            "100%|██████████| 20/20 [00:00<00:00, 21.15it/s]\n",
            "  0%|          | 1/244 [00:00<00:29,  8.27it/s]"
          ],
          "name": "stderr"
        },
        {
          "output_type": "stream",
          "text": [
            "T Loss: 0.1474 V Loss: 0.1608 V MCRMSE: 0.1623\n",
            "Epoch 96\n"
          ],
          "name": "stdout"
        },
        {
          "output_type": "stream",
          "text": [
            "100%|██████████| 244/244 [00:29<00:00,  8.27it/s]\n",
            "100%|██████████| 20/20 [00:00<00:00, 21.26it/s]\n",
            "  0%|          | 1/244 [00:00<00:28,  8.40it/s]"
          ],
          "name": "stderr"
        },
        {
          "output_type": "stream",
          "text": [
            "T Loss: 0.1463 V Loss: 0.1575 V MCRMSE: 0.1591\n",
            "Epoch 97\n"
          ],
          "name": "stdout"
        },
        {
          "output_type": "stream",
          "text": [
            "100%|██████████| 244/244 [00:29<00:00,  8.27it/s]\n",
            "100%|██████████| 20/20 [00:00<00:00, 21.25it/s]\n",
            "  0%|          | 1/244 [00:00<00:29,  8.28it/s]"
          ],
          "name": "stderr"
        },
        {
          "output_type": "stream",
          "text": [
            "T Loss: 0.1464 V Loss: 0.1579 V MCRMSE: 0.1594\n",
            "Epoch 98\n"
          ],
          "name": "stdout"
        },
        {
          "output_type": "stream",
          "text": [
            "100%|██████████| 244/244 [00:29<00:00,  8.28it/s]\n",
            "100%|██████████| 20/20 [00:00<00:00, 21.23it/s]\n",
            "  0%|          | 1/244 [00:00<00:29,  8.35it/s]"
          ],
          "name": "stderr"
        },
        {
          "output_type": "stream",
          "text": [
            "T Loss: 0.1465 V Loss: 0.1570 V MCRMSE: 0.1585\n",
            "Best valid MCRMSE updated to 0.1585458368062973\n",
            "Epoch 99\n"
          ],
          "name": "stdout"
        },
        {
          "output_type": "stream",
          "text": [
            "100%|██████████| 244/244 [00:29<00:00,  8.28it/s]\n",
            "100%|██████████| 20/20 [00:00<00:00, 21.21it/s]\n",
            " 15%|█▌        | 3/20 [00:00<00:00, 21.52it/s]"
          ],
          "name": "stderr"
        },
        {
          "output_type": "stream",
          "text": [
            "T Loss: 0.1461 V Loss: 0.1561 V MCRMSE: 0.1576\n",
            "Best valid MCRMSE updated to 0.1576274037361145\n"
          ],
          "name": "stdout"
        },
        {
          "output_type": "stream",
          "text": [
            "100%|██████████| 20/20 [00:00<00:00, 21.40it/s]\n"
          ],
          "name": "stderr"
        },
        {
          "output_type": "stream",
          "text": [
            "Fold 3\n"
          ],
          "name": "stdout"
        },
        {
          "output_type": "stream",
          "text": [
            "  0%|          | 1/243 [00:00<00:31,  7.78it/s]"
          ],
          "name": "stderr"
        },
        {
          "output_type": "stream",
          "text": [
            "Epoch 0\n"
          ],
          "name": "stdout"
        },
        {
          "output_type": "stream",
          "text": [
            "100%|██████████| 243/243 [00:29<00:00,  8.26it/s]\n",
            "100%|██████████| 20/20 [00:00<00:00, 21.19it/s]\n",
            "  0%|          | 1/243 [00:00<00:28,  8.37it/s]"
          ],
          "name": "stderr"
        },
        {
          "output_type": "stream",
          "text": [
            "T Loss: 0.3438 V Loss: 0.2886 V MCRMSE: 0.2898\n",
            "Best valid MCRMSE updated to 0.2898249924182892\n",
            "Epoch 1\n"
          ],
          "name": "stdout"
        },
        {
          "output_type": "stream",
          "text": [
            "100%|██████████| 243/243 [00:29<00:00,  8.27it/s]\n",
            "100%|██████████| 20/20 [00:00<00:00, 21.24it/s]\n",
            "  0%|          | 1/243 [00:00<00:29,  8.24it/s]"
          ],
          "name": "stderr"
        },
        {
          "output_type": "stream",
          "text": [
            "T Loss: 0.2839 V Loss: 0.2652 V MCRMSE: 0.2665\n",
            "Best valid MCRMSE updated to 0.2665441930294037\n",
            "Epoch 2\n"
          ],
          "name": "stdout"
        },
        {
          "output_type": "stream",
          "text": [
            "100%|██████████| 243/243 [00:29<00:00,  8.27it/s]\n",
            "100%|██████████| 20/20 [00:00<00:00, 21.17it/s]\n",
            "  0%|          | 1/243 [00:00<00:29,  8.17it/s]"
          ],
          "name": "stderr"
        },
        {
          "output_type": "stream",
          "text": [
            "T Loss: 0.2639 V Loss: 0.2532 V MCRMSE: 0.2544\n",
            "Best valid MCRMSE updated to 0.2543565034866333\n",
            "Epoch 3\n"
          ],
          "name": "stdout"
        },
        {
          "output_type": "stream",
          "text": [
            "100%|██████████| 243/243 [00:29<00:00,  8.26it/s]\n",
            "100%|██████████| 20/20 [00:00<00:00, 21.00it/s]\n",
            "  0%|          | 1/243 [00:00<00:29,  8.26it/s]"
          ],
          "name": "stderr"
        },
        {
          "output_type": "stream",
          "text": [
            "T Loss: 0.2526 V Loss: 0.2487 V MCRMSE: 0.2500\n",
            "Best valid MCRMSE updated to 0.24996837973594666\n",
            "Epoch 4\n"
          ],
          "name": "stdout"
        },
        {
          "output_type": "stream",
          "text": [
            "100%|██████████| 243/243 [00:29<00:00,  8.26it/s]\n",
            "100%|██████████| 20/20 [00:00<00:00, 21.21it/s]\n",
            "  0%|          | 1/243 [00:00<00:29,  8.32it/s]"
          ],
          "name": "stderr"
        },
        {
          "output_type": "stream",
          "text": [
            "T Loss: 0.2455 V Loss: 0.2450 V MCRMSE: 0.2463\n",
            "Best valid MCRMSE updated to 0.24631726741790771\n",
            "Epoch 5\n"
          ],
          "name": "stdout"
        },
        {
          "output_type": "stream",
          "text": [
            "100%|██████████| 243/243 [00:29<00:00,  8.27it/s]\n",
            "100%|██████████| 20/20 [00:00<00:00, 21.25it/s]\n",
            "  0%|          | 1/243 [00:00<00:29,  8.19it/s]"
          ],
          "name": "stderr"
        },
        {
          "output_type": "stream",
          "text": [
            "T Loss: 0.2388 V Loss: 0.2397 V MCRMSE: 0.2411\n",
            "Best valid MCRMSE updated to 0.24107752740383148\n",
            "Epoch 6\n"
          ],
          "name": "stdout"
        },
        {
          "output_type": "stream",
          "text": [
            "100%|██████████| 243/243 [00:29<00:00,  8.25it/s]\n",
            "100%|██████████| 20/20 [00:00<00:00, 21.12it/s]\n",
            "  0%|          | 1/243 [00:00<00:29,  8.20it/s]"
          ],
          "name": "stderr"
        },
        {
          "output_type": "stream",
          "text": [
            "T Loss: 0.2346 V Loss: 0.2317 V MCRMSE: 0.2330\n",
            "Best valid MCRMSE updated to 0.23303771018981934\n",
            "Epoch 7\n"
          ],
          "name": "stdout"
        },
        {
          "output_type": "stream",
          "text": [
            "100%|██████████| 243/243 [00:29<00:00,  8.26it/s]\n",
            "100%|██████████| 20/20 [00:00<00:00, 21.19it/s]\n",
            "  0%|          | 1/243 [00:00<00:28,  8.40it/s]"
          ],
          "name": "stderr"
        },
        {
          "output_type": "stream",
          "text": [
            "T Loss: 0.2295 V Loss: 0.2270 V MCRMSE: 0.2282\n",
            "Best valid MCRMSE updated to 0.22819125652313232\n",
            "Epoch 8\n"
          ],
          "name": "stdout"
        },
        {
          "output_type": "stream",
          "text": [
            "100%|██████████| 243/243 [00:29<00:00,  8.26it/s]\n",
            "100%|██████████| 20/20 [00:00<00:00, 21.23it/s]\n",
            "  0%|          | 1/243 [00:00<00:29,  8.19it/s]"
          ],
          "name": "stderr"
        },
        {
          "output_type": "stream",
          "text": [
            "T Loss: 0.2254 V Loss: 0.2243 V MCRMSE: 0.2253\n",
            "Best valid MCRMSE updated to 0.22534894943237305\n",
            "Epoch 9\n"
          ],
          "name": "stdout"
        },
        {
          "output_type": "stream",
          "text": [
            "100%|██████████| 243/243 [00:29<00:00,  8.26it/s]\n",
            "100%|██████████| 20/20 [00:00<00:00, 21.19it/s]\n",
            "  0%|          | 1/243 [00:00<00:28,  8.37it/s]"
          ],
          "name": "stderr"
        },
        {
          "output_type": "stream",
          "text": [
            "T Loss: 0.2229 V Loss: 0.2215 V MCRMSE: 0.2227\n",
            "Best valid MCRMSE updated to 0.22265008091926575\n",
            "Epoch 10\n"
          ],
          "name": "stdout"
        },
        {
          "output_type": "stream",
          "text": [
            "100%|██████████| 243/243 [00:29<00:00,  8.26it/s]\n",
            "100%|██████████| 20/20 [00:00<00:00, 21.24it/s]\n",
            "  0%|          | 1/243 [00:00<00:29,  8.28it/s]"
          ],
          "name": "stderr"
        },
        {
          "output_type": "stream",
          "text": [
            "T Loss: 0.2198 V Loss: 0.2168 V MCRMSE: 0.2180\n",
            "Best valid MCRMSE updated to 0.218033105134964\n",
            "Epoch 11\n"
          ],
          "name": "stdout"
        },
        {
          "output_type": "stream",
          "text": [
            "100%|██████████| 243/243 [00:29<00:00,  8.23it/s]\n",
            "100%|██████████| 20/20 [00:00<00:00, 21.08it/s]\n",
            "  0%|          | 1/243 [00:00<00:29,  8.32it/s]"
          ],
          "name": "stderr"
        },
        {
          "output_type": "stream",
          "text": [
            "T Loss: 0.2154 V Loss: 0.2157 V MCRMSE: 0.2170\n",
            "Best valid MCRMSE updated to 0.2169964611530304\n",
            "Epoch 12\n"
          ],
          "name": "stdout"
        },
        {
          "output_type": "stream",
          "text": [
            "100%|██████████| 243/243 [00:29<00:00,  8.23it/s]\n",
            "100%|██████████| 20/20 [00:00<00:00, 21.16it/s]\n",
            "  0%|          | 1/243 [00:00<00:29,  8.25it/s]"
          ],
          "name": "stderr"
        },
        {
          "output_type": "stream",
          "text": [
            "T Loss: 0.2130 V Loss: 0.2155 V MCRMSE: 0.2167\n",
            "Best valid MCRMSE updated to 0.2167356014251709\n",
            "Epoch 13\n"
          ],
          "name": "stdout"
        },
        {
          "output_type": "stream",
          "text": [
            "100%|██████████| 243/243 [00:29<00:00,  8.26it/s]\n",
            "100%|██████████| 20/20 [00:00<00:00, 21.21it/s]\n",
            "  0%|          | 1/243 [00:00<00:28,  8.37it/s]"
          ],
          "name": "stderr"
        },
        {
          "output_type": "stream",
          "text": [
            "T Loss: 0.2102 V Loss: 0.2108 V MCRMSE: 0.2122\n",
            "Best valid MCRMSE updated to 0.21219384670257568\n",
            "Epoch 14\n"
          ],
          "name": "stdout"
        },
        {
          "output_type": "stream",
          "text": [
            "100%|██████████| 243/243 [00:29<00:00,  8.25it/s]\n",
            "100%|██████████| 20/20 [00:00<00:00, 21.21it/s]\n",
            "  0%|          | 1/243 [00:00<00:28,  8.40it/s]"
          ],
          "name": "stderr"
        },
        {
          "output_type": "stream",
          "text": [
            "T Loss: 0.2078 V Loss: 0.2089 V MCRMSE: 0.2103\n",
            "Best valid MCRMSE updated to 0.2102830708026886\n",
            "Epoch 15\n"
          ],
          "name": "stdout"
        },
        {
          "output_type": "stream",
          "text": [
            "100%|██████████| 243/243 [00:29<00:00,  8.25it/s]\n",
            "100%|██████████| 20/20 [00:00<00:00, 21.23it/s]\n",
            "  0%|          | 1/243 [00:00<00:29,  8.28it/s]"
          ],
          "name": "stderr"
        },
        {
          "output_type": "stream",
          "text": [
            "T Loss: 0.2050 V Loss: 0.2100 V MCRMSE: 0.2116\n",
            "Epoch 16\n"
          ],
          "name": "stdout"
        },
        {
          "output_type": "stream",
          "text": [
            "100%|██████████| 243/243 [00:29<00:00,  8.25it/s]\n",
            "100%|██████████| 20/20 [00:00<00:00, 21.14it/s]\n",
            "  0%|          | 1/243 [00:00<00:29,  8.24it/s]"
          ],
          "name": "stderr"
        },
        {
          "output_type": "stream",
          "text": [
            "T Loss: 0.2035 V Loss: 0.2039 V MCRMSE: 0.2054\n",
            "Best valid MCRMSE updated to 0.20538756251335144\n",
            "Epoch 17\n"
          ],
          "name": "stdout"
        },
        {
          "output_type": "stream",
          "text": [
            "100%|██████████| 243/243 [00:29<00:00,  8.21it/s]\n",
            "100%|██████████| 20/20 [00:00<00:00, 21.09it/s]\n",
            "  0%|          | 1/243 [00:00<00:29,  8.16it/s]"
          ],
          "name": "stderr"
        },
        {
          "output_type": "stream",
          "text": [
            "T Loss: 0.2012 V Loss: 0.2021 V MCRMSE: 0.2036\n",
            "Best valid MCRMSE updated to 0.20361396670341492\n",
            "Epoch 18\n"
          ],
          "name": "stdout"
        },
        {
          "output_type": "stream",
          "text": [
            "100%|██████████| 243/243 [00:29<00:00,  8.21it/s]\n",
            "100%|██████████| 20/20 [00:00<00:00, 21.11it/s]\n",
            "  0%|          | 1/243 [00:00<00:29,  8.21it/s]"
          ],
          "name": "stderr"
        },
        {
          "output_type": "stream",
          "text": [
            "T Loss: 0.1985 V Loss: 0.2002 V MCRMSE: 0.2019\n",
            "Best valid MCRMSE updated to 0.2018509954214096\n",
            "Epoch 19\n"
          ],
          "name": "stdout"
        },
        {
          "output_type": "stream",
          "text": [
            "100%|██████████| 243/243 [00:29<00:00,  8.21it/s]\n",
            "100%|██████████| 20/20 [00:00<00:00, 21.22it/s]\n",
            "  0%|          | 1/243 [00:00<00:28,  8.37it/s]"
          ],
          "name": "stderr"
        },
        {
          "output_type": "stream",
          "text": [
            "T Loss: 0.1971 V Loss: 0.2051 V MCRMSE: 0.2065\n",
            "Epoch 20\n"
          ],
          "name": "stdout"
        },
        {
          "output_type": "stream",
          "text": [
            "100%|██████████| 243/243 [00:29<00:00,  8.25it/s]\n",
            "100%|██████████| 20/20 [00:00<00:00, 21.22it/s]\n",
            "  0%|          | 1/243 [00:00<00:28,  8.37it/s]"
          ],
          "name": "stderr"
        },
        {
          "output_type": "stream",
          "text": [
            "T Loss: 0.1951 V Loss: 0.1973 V MCRMSE: 0.1990\n",
            "Best valid MCRMSE updated to 0.19896873831748962\n",
            "Epoch 21\n"
          ],
          "name": "stdout"
        },
        {
          "output_type": "stream",
          "text": [
            "100%|██████████| 243/243 [00:29<00:00,  8.27it/s]\n",
            "100%|██████████| 20/20 [00:00<00:00, 21.23it/s]\n",
            "  0%|          | 1/243 [00:00<00:29,  8.26it/s]"
          ],
          "name": "stderr"
        },
        {
          "output_type": "stream",
          "text": [
            "T Loss: 0.1935 V Loss: 0.1978 V MCRMSE: 0.1995\n",
            "Epoch 22\n"
          ],
          "name": "stdout"
        },
        {
          "output_type": "stream",
          "text": [
            "100%|██████████| 243/243 [00:29<00:00,  8.25it/s]\n",
            "100%|██████████| 20/20 [00:00<00:00, 21.11it/s]\n",
            "  0%|          | 1/243 [00:00<00:29,  8.21it/s]"
          ],
          "name": "stderr"
        },
        {
          "output_type": "stream",
          "text": [
            "T Loss: 0.1909 V Loss: 0.1956 V MCRMSE: 0.1973\n",
            "Best valid MCRMSE updated to 0.19733166694641113\n",
            "Epoch 23\n"
          ],
          "name": "stdout"
        },
        {
          "output_type": "stream",
          "text": [
            "100%|██████████| 243/243 [00:29<00:00,  8.26it/s]\n",
            "100%|██████████| 20/20 [00:00<00:00, 21.20it/s]\n",
            "  0%|          | 1/243 [00:00<00:29,  8.32it/s]"
          ],
          "name": "stderr"
        },
        {
          "output_type": "stream",
          "text": [
            "T Loss: 0.1899 V Loss: 0.1960 V MCRMSE: 0.1978\n",
            "Epoch 24\n"
          ],
          "name": "stdout"
        },
        {
          "output_type": "stream",
          "text": [
            "100%|██████████| 243/243 [00:29<00:00,  8.25it/s]\n",
            "100%|██████████| 20/20 [00:00<00:00, 21.19it/s]\n",
            "  0%|          | 1/243 [00:00<00:28,  8.39it/s]"
          ],
          "name": "stderr"
        },
        {
          "output_type": "stream",
          "text": [
            "T Loss: 0.1881 V Loss: 0.1929 V MCRMSE: 0.1948\n",
            "Best valid MCRMSE updated to 0.19483475387096405\n",
            "Epoch 25\n"
          ],
          "name": "stdout"
        },
        {
          "output_type": "stream",
          "text": [
            "100%|██████████| 243/243 [00:29<00:00,  8.26it/s]\n",
            "100%|██████████| 20/20 [00:00<00:00, 21.21it/s]\n",
            "  0%|          | 1/243 [00:00<00:29,  8.27it/s]"
          ],
          "name": "stderr"
        },
        {
          "output_type": "stream",
          "text": [
            "T Loss: 0.1866 V Loss: 0.1939 V MCRMSE: 0.1958\n",
            "Epoch 26\n"
          ],
          "name": "stdout"
        },
        {
          "output_type": "stream",
          "text": [
            "100%|██████████| 243/243 [00:29<00:00,  8.26it/s]\n",
            "100%|██████████| 20/20 [00:00<00:00, 21.15it/s]\n",
            "  0%|          | 1/243 [00:00<00:28,  8.37it/s]"
          ],
          "name": "stderr"
        },
        {
          "output_type": "stream",
          "text": [
            "T Loss: 0.1855 V Loss: 0.1911 V MCRMSE: 0.1932\n",
            "Best valid MCRMSE updated to 0.19320493936538696\n",
            "Epoch 27\n"
          ],
          "name": "stdout"
        },
        {
          "output_type": "stream",
          "text": [
            "100%|██████████| 243/243 [00:29<00:00,  8.24it/s]\n",
            "100%|██████████| 20/20 [00:00<00:00, 21.15it/s]\n",
            "  0%|          | 1/243 [00:00<00:29,  8.19it/s]"
          ],
          "name": "stderr"
        },
        {
          "output_type": "stream",
          "text": [
            "T Loss: 0.1846 V Loss: 0.1893 V MCRMSE: 0.1913\n",
            "Best valid MCRMSE updated to 0.19133739173412323\n",
            "Epoch 28\n"
          ],
          "name": "stdout"
        },
        {
          "output_type": "stream",
          "text": [
            "100%|██████████| 243/243 [00:29<00:00,  8.26it/s]\n",
            "100%|██████████| 20/20 [00:00<00:00, 21.26it/s]\n",
            "  0%|          | 1/243 [00:00<00:29,  8.22it/s]"
          ],
          "name": "stderr"
        },
        {
          "output_type": "stream",
          "text": [
            "T Loss: 0.1831 V Loss: 0.1881 V MCRMSE: 0.1903\n",
            "Best valid MCRMSE updated to 0.19032441079616547\n",
            "Epoch 29\n"
          ],
          "name": "stdout"
        },
        {
          "output_type": "stream",
          "text": [
            "100%|██████████| 243/243 [00:29<00:00,  8.26it/s]\n",
            "100%|██████████| 20/20 [00:00<00:00, 21.15it/s]\n",
            "  0%|          | 1/243 [00:00<00:29,  8.26it/s]"
          ],
          "name": "stderr"
        },
        {
          "output_type": "stream",
          "text": [
            "T Loss: 0.1816 V Loss: 0.1866 V MCRMSE: 0.1887\n",
            "Best valid MCRMSE updated to 0.18867290019989014\n",
            "Epoch 30\n"
          ],
          "name": "stdout"
        },
        {
          "output_type": "stream",
          "text": [
            "100%|██████████| 243/243 [00:29<00:00,  8.26it/s]\n",
            "100%|██████████| 20/20 [00:00<00:00, 21.19it/s]\n",
            "  0%|          | 1/243 [00:00<00:29,  8.21it/s]"
          ],
          "name": "stderr"
        },
        {
          "output_type": "stream",
          "text": [
            "T Loss: 0.1811 V Loss: 0.1891 V MCRMSE: 0.1912\n",
            "Epoch 31\n"
          ],
          "name": "stdout"
        },
        {
          "output_type": "stream",
          "text": [
            "100%|██████████| 243/243 [00:29<00:00,  8.27it/s]\n",
            "100%|██████████| 20/20 [00:00<00:00, 21.17it/s]\n",
            "  0%|          | 1/243 [00:00<00:28,  8.36it/s]"
          ],
          "name": "stderr"
        },
        {
          "output_type": "stream",
          "text": [
            "T Loss: 0.1801 V Loss: 0.1860 V MCRMSE: 0.1882\n",
            "Best valid MCRMSE updated to 0.1881602257490158\n",
            "Epoch 32\n"
          ],
          "name": "stdout"
        },
        {
          "output_type": "stream",
          "text": [
            "100%|██████████| 243/243 [00:29<00:00,  8.27it/s]\n",
            "100%|██████████| 20/20 [00:00<00:00, 21.15it/s]\n",
            "  0%|          | 1/243 [00:00<00:29,  8.18it/s]"
          ],
          "name": "stderr"
        },
        {
          "output_type": "stream",
          "text": [
            "T Loss: 0.1790 V Loss: 0.1843 V MCRMSE: 0.1866\n",
            "Best valid MCRMSE updated to 0.18655459582805634\n",
            "Epoch 33\n"
          ],
          "name": "stdout"
        },
        {
          "output_type": "stream",
          "text": [
            "100%|██████████| 243/243 [00:29<00:00,  8.27it/s]\n",
            "100%|██████████| 20/20 [00:00<00:00, 21.25it/s]\n",
            "  0%|          | 1/243 [00:00<00:29,  8.34it/s]"
          ],
          "name": "stderr"
        },
        {
          "output_type": "stream",
          "text": [
            "T Loss: 0.1777 V Loss: 0.1861 V MCRMSE: 0.1883\n",
            "Epoch 34\n"
          ],
          "name": "stdout"
        },
        {
          "output_type": "stream",
          "text": [
            "100%|██████████| 243/243 [00:29<00:00,  8.26it/s]\n",
            "100%|██████████| 20/20 [00:00<00:00, 21.21it/s]\n",
            "  0%|          | 1/243 [00:00<00:28,  8.37it/s]"
          ],
          "name": "stderr"
        },
        {
          "output_type": "stream",
          "text": [
            "T Loss: 0.1769 V Loss: 0.1848 V MCRMSE: 0.1871\n",
            "Epoch 35\n"
          ],
          "name": "stdout"
        },
        {
          "output_type": "stream",
          "text": [
            "100%|██████████| 243/243 [00:29<00:00,  8.27it/s]\n",
            "100%|██████████| 20/20 [00:00<00:00, 21.25it/s]\n",
            "  0%|          | 1/243 [00:00<00:29,  8.27it/s]"
          ],
          "name": "stderr"
        },
        {
          "output_type": "stream",
          "text": [
            "T Loss: 0.1759 V Loss: 0.1864 V MCRMSE: 0.1886\n",
            "Epoch 36\n"
          ],
          "name": "stdout"
        },
        {
          "output_type": "stream",
          "text": [
            "100%|██████████| 243/243 [00:29<00:00,  8.27it/s]\n",
            "100%|██████████| 20/20 [00:00<00:00, 21.26it/s]\n",
            "  0%|          | 1/243 [00:00<00:28,  8.42it/s]"
          ],
          "name": "stderr"
        },
        {
          "output_type": "stream",
          "text": [
            "T Loss: 0.1747 V Loss: 0.1822 V MCRMSE: 0.1847\n",
            "Best valid MCRMSE updated to 0.18467697501182556\n",
            "Epoch 37\n"
          ],
          "name": "stdout"
        },
        {
          "output_type": "stream",
          "text": [
            "100%|██████████| 243/243 [00:29<00:00,  8.25it/s]\n",
            "100%|██████████| 20/20 [00:00<00:00, 21.14it/s]\n",
            "  0%|          | 1/243 [00:00<00:29,  8.20it/s]"
          ],
          "name": "stderr"
        },
        {
          "output_type": "stream",
          "text": [
            "T Loss: 0.1737 V Loss: 0.1810 V MCRMSE: 0.1833\n",
            "Best valid MCRMSE updated to 0.18332135677337646\n",
            "Epoch 38\n"
          ],
          "name": "stdout"
        },
        {
          "output_type": "stream",
          "text": [
            "100%|██████████| 243/243 [00:29<00:00,  8.22it/s]\n",
            "100%|██████████| 20/20 [00:00<00:00, 21.14it/s]\n",
            "  0%|          | 1/243 [00:00<00:29,  8.25it/s]"
          ],
          "name": "stderr"
        },
        {
          "output_type": "stream",
          "text": [
            "T Loss: 0.1733 V Loss: 0.1803 V MCRMSE: 0.1827\n",
            "Best valid MCRMSE updated to 0.182686910033226\n",
            "Epoch 39\n"
          ],
          "name": "stdout"
        },
        {
          "output_type": "stream",
          "text": [
            "100%|██████████| 243/243 [00:29<00:00,  8.27it/s]\n",
            "100%|██████████| 20/20 [00:00<00:00, 21.24it/s]\n",
            "  0%|          | 1/243 [00:00<00:29,  8.22it/s]"
          ],
          "name": "stderr"
        },
        {
          "output_type": "stream",
          "text": [
            "T Loss: 0.1728 V Loss: 0.1823 V MCRMSE: 0.1847\n",
            "Epoch 40\n"
          ],
          "name": "stdout"
        },
        {
          "output_type": "stream",
          "text": [
            "100%|██████████| 243/243 [00:29<00:00,  8.26it/s]\n",
            "100%|██████████| 20/20 [00:00<00:00, 21.22it/s]\n",
            "  0%|          | 1/243 [00:00<00:29,  8.32it/s]"
          ],
          "name": "stderr"
        },
        {
          "output_type": "stream",
          "text": [
            "T Loss: 0.1716 V Loss: 0.1789 V MCRMSE: 0.1814\n",
            "Best valid MCRMSE updated to 0.18144389986991882\n",
            "Epoch 41\n"
          ],
          "name": "stdout"
        },
        {
          "output_type": "stream",
          "text": [
            "100%|██████████| 243/243 [00:29<00:00,  8.26it/s]\n",
            "100%|██████████| 20/20 [00:00<00:00, 21.23it/s]\n",
            "  0%|          | 1/243 [00:00<00:29,  8.19it/s]"
          ],
          "name": "stderr"
        },
        {
          "output_type": "stream",
          "text": [
            "T Loss: 0.1705 V Loss: 0.1799 V MCRMSE: 0.1823\n",
            "Epoch 42\n"
          ],
          "name": "stdout"
        },
        {
          "output_type": "stream",
          "text": [
            "100%|██████████| 243/243 [00:29<00:00,  8.26it/s]\n",
            "100%|██████████| 20/20 [00:00<00:00, 21.20it/s]\n",
            "  0%|          | 1/243 [00:00<00:29,  8.29it/s]"
          ],
          "name": "stderr"
        },
        {
          "output_type": "stream",
          "text": [
            "T Loss: 0.1699 V Loss: 0.1775 V MCRMSE: 0.1800\n",
            "Best valid MCRMSE updated to 0.18004536628723145\n",
            "Epoch 43\n"
          ],
          "name": "stdout"
        },
        {
          "output_type": "stream",
          "text": [
            "100%|██████████| 243/243 [00:29<00:00,  8.26it/s]\n",
            "100%|██████████| 20/20 [00:00<00:00, 21.24it/s]\n",
            "  0%|          | 1/243 [00:00<00:29,  8.19it/s]"
          ],
          "name": "stderr"
        },
        {
          "output_type": "stream",
          "text": [
            "T Loss: 0.1693 V Loss: 0.1798 V MCRMSE: 0.1826\n",
            "Epoch 44\n"
          ],
          "name": "stdout"
        },
        {
          "output_type": "stream",
          "text": [
            "100%|██████████| 243/243 [00:29<00:00,  8.26it/s]\n",
            "100%|██████████| 20/20 [00:00<00:00, 21.22it/s]\n",
            "  0%|          | 1/243 [00:00<00:29,  8.19it/s]"
          ],
          "name": "stderr"
        },
        {
          "output_type": "stream",
          "text": [
            "T Loss: 0.1686 V Loss: 0.1768 V MCRMSE: 0.1793\n",
            "Best valid MCRMSE updated to 0.17933760583400726\n",
            "Epoch 45\n"
          ],
          "name": "stdout"
        },
        {
          "output_type": "stream",
          "text": [
            "100%|██████████| 243/243 [00:29<00:00,  8.27it/s]\n",
            "100%|██████████| 20/20 [00:00<00:00, 21.21it/s]\n",
            "  0%|          | 1/243 [00:00<00:29,  8.25it/s]"
          ],
          "name": "stderr"
        },
        {
          "output_type": "stream",
          "text": [
            "T Loss: 0.1681 V Loss: 0.1768 V MCRMSE: 0.1792\n",
            "Best valid MCRMSE updated to 0.1792273223400116\n",
            "Epoch 46\n"
          ],
          "name": "stdout"
        },
        {
          "output_type": "stream",
          "text": [
            "100%|██████████| 243/243 [00:29<00:00,  8.27it/s]\n",
            "100%|██████████| 20/20 [00:00<00:00, 21.16it/s]\n",
            "  0%|          | 1/243 [00:00<00:29,  8.21it/s]"
          ],
          "name": "stderr"
        },
        {
          "output_type": "stream",
          "text": [
            "T Loss: 0.1665 V Loss: 0.1746 V MCRMSE: 0.1773\n",
            "Best valid MCRMSE updated to 0.17730873823165894\n",
            "Epoch 47\n"
          ],
          "name": "stdout"
        },
        {
          "output_type": "stream",
          "text": [
            "100%|██████████| 243/243 [00:29<00:00,  8.26it/s]\n",
            "100%|██████████| 20/20 [00:00<00:00, 21.08it/s]\n",
            "  0%|          | 1/243 [00:00<00:29,  8.28it/s]"
          ],
          "name": "stderr"
        },
        {
          "output_type": "stream",
          "text": [
            "T Loss: 0.1662 V Loss: 0.1747 V MCRMSE: 0.1773\n",
            "Epoch 48\n"
          ],
          "name": "stdout"
        },
        {
          "output_type": "stream",
          "text": [
            "100%|██████████| 243/243 [00:29<00:00,  8.26it/s]\n",
            "100%|██████████| 20/20 [00:00<00:00, 21.19it/s]\n",
            "  0%|          | 1/243 [00:00<00:29,  8.23it/s]"
          ],
          "name": "stderr"
        },
        {
          "output_type": "stream",
          "text": [
            "T Loss: 0.1662 V Loss: 0.1744 V MCRMSE: 0.1771\n",
            "Best valid MCRMSE updated to 0.17713938653469086\n",
            "Epoch 49\n"
          ],
          "name": "stdout"
        },
        {
          "output_type": "stream",
          "text": [
            "100%|██████████| 243/243 [00:29<00:00,  8.23it/s]\n",
            "100%|██████████| 20/20 [00:00<00:00, 21.01it/s]\n",
            "  0%|          | 1/243 [00:00<00:29,  8.30it/s]"
          ],
          "name": "stderr"
        },
        {
          "output_type": "stream",
          "text": [
            "T Loss: 0.1656 V Loss: 0.1758 V MCRMSE: 0.1786\n",
            "Epoch 50\n"
          ],
          "name": "stdout"
        },
        {
          "output_type": "stream",
          "text": [
            "100%|██████████| 243/243 [00:29<00:00,  8.21it/s]\n",
            "100%|██████████| 20/20 [00:00<00:00, 20.92it/s]\n",
            "  0%|          | 1/243 [00:00<00:29,  8.26it/s]"
          ],
          "name": "stderr"
        },
        {
          "output_type": "stream",
          "text": [
            "T Loss: 0.1648 V Loss: 0.1739 V MCRMSE: 0.1765\n",
            "Best valid MCRMSE updated to 0.1765226572751999\n",
            "Epoch 51\n"
          ],
          "name": "stdout"
        },
        {
          "output_type": "stream",
          "text": [
            "100%|██████████| 243/243 [00:29<00:00,  8.20it/s]\n",
            "100%|██████████| 20/20 [00:00<00:00, 21.01it/s]\n",
            "  0%|          | 1/243 [00:00<00:28,  8.40it/s]"
          ],
          "name": "stderr"
        },
        {
          "output_type": "stream",
          "text": [
            "T Loss: 0.1642 V Loss: 0.1747 V MCRMSE: 0.1773\n",
            "Epoch 52\n"
          ],
          "name": "stdout"
        },
        {
          "output_type": "stream",
          "text": [
            "100%|██████████| 243/243 [00:29<00:00,  8.20it/s]\n",
            "100%|██████████| 20/20 [00:00<00:00, 21.03it/s]\n",
            "  0%|          | 1/243 [00:00<00:29,  8.30it/s]"
          ],
          "name": "stderr"
        },
        {
          "output_type": "stream",
          "text": [
            "T Loss: 0.1636 V Loss: 0.1770 V MCRMSE: 0.1797\n",
            "Epoch 53\n"
          ],
          "name": "stdout"
        },
        {
          "output_type": "stream",
          "text": [
            "100%|██████████| 243/243 [00:29<00:00,  8.20it/s]\n",
            "100%|██████████| 20/20 [00:00<00:00, 20.96it/s]\n",
            "  0%|          | 1/243 [00:00<00:29,  8.17it/s]"
          ],
          "name": "stderr"
        },
        {
          "output_type": "stream",
          "text": [
            "T Loss: 0.1631 V Loss: 0.1725 V MCRMSE: 0.1754\n",
            "Best valid MCRMSE updated to 0.1753612458705902\n",
            "Epoch 54\n"
          ],
          "name": "stdout"
        },
        {
          "output_type": "stream",
          "text": [
            "100%|██████████| 243/243 [00:29<00:00,  8.19it/s]\n",
            "100%|██████████| 20/20 [00:00<00:00, 21.01it/s]\n",
            "  0%|          | 1/243 [00:00<00:29,  8.26it/s]"
          ],
          "name": "stderr"
        },
        {
          "output_type": "stream",
          "text": [
            "T Loss: 0.1622 V Loss: 0.1716 V MCRMSE: 0.1744\n",
            "Best valid MCRMSE updated to 0.17441371083259583\n",
            "Epoch 55\n"
          ],
          "name": "stdout"
        },
        {
          "output_type": "stream",
          "text": [
            "100%|██████████| 243/243 [00:29<00:00,  8.20it/s]\n",
            "100%|██████████| 20/20 [00:00<00:00, 20.92it/s]\n",
            "  0%|          | 1/243 [00:00<00:29,  8.15it/s]"
          ],
          "name": "stderr"
        },
        {
          "output_type": "stream",
          "text": [
            "T Loss: 0.1619 V Loss: 0.1715 V MCRMSE: 0.1743\n",
            "Best valid MCRMSE updated to 0.17433655261993408\n",
            "Epoch 56\n"
          ],
          "name": "stdout"
        },
        {
          "output_type": "stream",
          "text": [
            "100%|██████████| 243/243 [00:29<00:00,  8.20it/s]\n",
            "100%|██████████| 20/20 [00:00<00:00, 20.91it/s]\n",
            "  0%|          | 1/243 [00:00<00:29,  8.25it/s]"
          ],
          "name": "stderr"
        },
        {
          "output_type": "stream",
          "text": [
            "T Loss: 0.1611 V Loss: 0.1713 V MCRMSE: 0.1741\n",
            "Best valid MCRMSE updated to 0.17412346601486206\n",
            "Epoch 57\n"
          ],
          "name": "stdout"
        },
        {
          "output_type": "stream",
          "text": [
            "100%|██████████| 243/243 [00:29<00:00,  8.18it/s]\n",
            "100%|██████████| 20/20 [00:00<00:00, 20.96it/s]\n",
            "  0%|          | 1/243 [00:00<00:29,  8.16it/s]"
          ],
          "name": "stderr"
        },
        {
          "output_type": "stream",
          "text": [
            "T Loss: 0.1609 V Loss: 0.1693 V MCRMSE: 0.1722\n",
            "Best valid MCRMSE updated to 0.17215272784233093\n",
            "Epoch 58\n"
          ],
          "name": "stdout"
        },
        {
          "output_type": "stream",
          "text": [
            "100%|██████████| 243/243 [00:29<00:00,  8.19it/s]\n",
            "100%|██████████| 20/20 [00:00<00:00, 21.01it/s]\n",
            "  0%|          | 1/243 [00:00<00:29,  8.28it/s]"
          ],
          "name": "stderr"
        },
        {
          "output_type": "stream",
          "text": [
            "T Loss: 0.1606 V Loss: 0.1743 V MCRMSE: 0.1768\n",
            "Epoch 59\n"
          ],
          "name": "stdout"
        },
        {
          "output_type": "stream",
          "text": [
            "100%|██████████| 243/243 [00:29<00:00,  8.19it/s]\n",
            "100%|██████████| 20/20 [00:00<00:00, 21.00it/s]\n",
            "  0%|          | 1/243 [00:00<00:29,  8.20it/s]"
          ],
          "name": "stderr"
        },
        {
          "output_type": "stream",
          "text": [
            "T Loss: 0.1598 V Loss: 0.1690 V MCRMSE: 0.1715\n",
            "Best valid MCRMSE updated to 0.1714867800474167\n",
            "Epoch 60\n"
          ],
          "name": "stdout"
        },
        {
          "output_type": "stream",
          "text": [
            "100%|██████████| 243/243 [00:29<00:00,  8.20it/s]\n",
            "100%|██████████| 20/20 [00:00<00:00, 21.02it/s]\n",
            "  0%|          | 1/243 [00:00<00:29,  8.32it/s]"
          ],
          "name": "stderr"
        },
        {
          "output_type": "stream",
          "text": [
            "T Loss: 0.1590 V Loss: 0.1677 V MCRMSE: 0.1704\n",
            "Best valid MCRMSE updated to 0.17036382853984833\n",
            "Epoch 61\n"
          ],
          "name": "stdout"
        },
        {
          "output_type": "stream",
          "text": [
            "100%|██████████| 243/243 [00:29<00:00,  8.21it/s]\n",
            "100%|██████████| 20/20 [00:00<00:00, 21.04it/s]\n",
            "  0%|          | 1/243 [00:00<00:29,  8.23it/s]"
          ],
          "name": "stderr"
        },
        {
          "output_type": "stream",
          "text": [
            "T Loss: 0.1585 V Loss: 0.1713 V MCRMSE: 0.1740\n",
            "Epoch 62\n"
          ],
          "name": "stdout"
        },
        {
          "output_type": "stream",
          "text": [
            "100%|██████████| 243/243 [00:29<00:00,  8.20it/s]\n",
            "100%|██████████| 20/20 [00:00<00:00, 21.06it/s]\n",
            "  0%|          | 1/243 [00:00<00:29,  8.30it/s]"
          ],
          "name": "stderr"
        },
        {
          "output_type": "stream",
          "text": [
            "T Loss: 0.1584 V Loss: 0.1681 V MCRMSE: 0.1706\n",
            "Epoch 63\n"
          ],
          "name": "stdout"
        },
        {
          "output_type": "stream",
          "text": [
            "100%|██████████| 243/243 [00:29<00:00,  8.21it/s]\n",
            "100%|██████████| 20/20 [00:00<00:00, 21.12it/s]\n",
            "  0%|          | 1/243 [00:00<00:29,  8.27it/s]"
          ],
          "name": "stderr"
        },
        {
          "output_type": "stream",
          "text": [
            "T Loss: 0.1576 V Loss: 0.1664 V MCRMSE: 0.1693\n",
            "Best valid MCRMSE updated to 0.1692749708890915\n",
            "Epoch 64\n"
          ],
          "name": "stdout"
        },
        {
          "output_type": "stream",
          "text": [
            "100%|██████████| 243/243 [00:29<00:00,  8.20it/s]\n",
            "100%|██████████| 20/20 [00:00<00:00, 21.10it/s]\n",
            "  0%|          | 1/243 [00:00<00:29,  8.33it/s]"
          ],
          "name": "stderr"
        },
        {
          "output_type": "stream",
          "text": [
            "T Loss: 0.1577 V Loss: 0.1649 V MCRMSE: 0.1675\n",
            "Best valid MCRMSE updated to 0.1675286591053009\n",
            "Epoch 65\n"
          ],
          "name": "stdout"
        },
        {
          "output_type": "stream",
          "text": [
            "100%|██████████| 243/243 [00:29<00:00,  8.22it/s]\n",
            "100%|██████████| 20/20 [00:00<00:00, 21.12it/s]\n",
            "  0%|          | 1/243 [00:00<00:29,  8.17it/s]"
          ],
          "name": "stderr"
        },
        {
          "output_type": "stream",
          "text": [
            "T Loss: 0.1568 V Loss: 0.1685 V MCRMSE: 0.1712\n",
            "Epoch 66\n"
          ],
          "name": "stdout"
        },
        {
          "output_type": "stream",
          "text": [
            "100%|██████████| 243/243 [00:29<00:00,  8.20it/s]\n",
            "100%|██████████| 20/20 [00:00<00:00, 21.10it/s]\n",
            "  0%|          | 1/243 [00:00<00:29,  8.24it/s]"
          ],
          "name": "stderr"
        },
        {
          "output_type": "stream",
          "text": [
            "T Loss: 0.1565 V Loss: 0.1662 V MCRMSE: 0.1689\n",
            "Epoch 67\n"
          ],
          "name": "stdout"
        },
        {
          "output_type": "stream",
          "text": [
            "100%|██████████| 243/243 [00:29<00:00,  8.21it/s]\n",
            "100%|██████████| 20/20 [00:00<00:00, 20.89it/s]\n",
            "  0%|          | 1/243 [00:00<00:29,  8.27it/s]"
          ],
          "name": "stderr"
        },
        {
          "output_type": "stream",
          "text": [
            "T Loss: 0.1557 V Loss: 0.1662 V MCRMSE: 0.1690\n",
            "Epoch 68\n"
          ],
          "name": "stdout"
        },
        {
          "output_type": "stream",
          "text": [
            "100%|██████████| 243/243 [00:29<00:00,  8.19it/s]\n",
            "100%|██████████| 20/20 [00:00<00:00, 21.11it/s]\n",
            "  0%|          | 1/243 [00:00<00:29,  8.20it/s]"
          ],
          "name": "stderr"
        },
        {
          "output_type": "stream",
          "text": [
            "T Loss: 0.1555 V Loss: 0.1665 V MCRMSE: 0.1694\n",
            "Epoch 69\n"
          ],
          "name": "stdout"
        },
        {
          "output_type": "stream",
          "text": [
            "100%|██████████| 243/243 [00:29<00:00,  8.22it/s]\n",
            "100%|██████████| 20/20 [00:00<00:00, 20.98it/s]\n",
            "  0%|          | 1/243 [00:00<00:29,  8.12it/s]"
          ],
          "name": "stderr"
        },
        {
          "output_type": "stream",
          "text": [
            "T Loss: 0.1554 V Loss: 0.1693 V MCRMSE: 0.1719\n",
            "Epoch 70\n"
          ],
          "name": "stdout"
        },
        {
          "output_type": "stream",
          "text": [
            "100%|██████████| 243/243 [00:29<00:00,  8.21it/s]\n",
            "100%|██████████| 20/20 [00:00<00:00, 20.99it/s]\n",
            "  0%|          | 1/243 [00:00<00:29,  8.31it/s]"
          ],
          "name": "stderr"
        },
        {
          "output_type": "stream",
          "text": [
            "T Loss: 0.1553 V Loss: 0.1640 V MCRMSE: 0.1669\n",
            "Best valid MCRMSE updated to 0.16693425178527832\n",
            "Epoch 71\n"
          ],
          "name": "stdout"
        },
        {
          "output_type": "stream",
          "text": [
            "100%|██████████| 243/243 [00:29<00:00,  8.22it/s]\n",
            "100%|██████████| 20/20 [00:00<00:00, 21.02it/s]\n",
            "  0%|          | 1/243 [00:00<00:29,  8.21it/s]"
          ],
          "name": "stderr"
        },
        {
          "output_type": "stream",
          "text": [
            "T Loss: 0.1548 V Loss: 0.1651 V MCRMSE: 0.1681\n",
            "Epoch 72\n"
          ],
          "name": "stdout"
        },
        {
          "output_type": "stream",
          "text": [
            "100%|██████████| 243/243 [00:29<00:00,  8.22it/s]\n",
            "100%|██████████| 20/20 [00:00<00:00, 21.13it/s]\n",
            "  0%|          | 1/243 [00:00<00:29,  8.18it/s]"
          ],
          "name": "stderr"
        },
        {
          "output_type": "stream",
          "text": [
            "T Loss: 0.1537 V Loss: 0.1643 V MCRMSE: 0.1674\n",
            "Epoch 73\n"
          ],
          "name": "stdout"
        },
        {
          "output_type": "stream",
          "text": [
            "100%|██████████| 243/243 [00:29<00:00,  8.22it/s]\n",
            "100%|██████████| 20/20 [00:00<00:00, 21.26it/s]\n",
            "  0%|          | 1/243 [00:00<00:28,  8.35it/s]"
          ],
          "name": "stderr"
        },
        {
          "output_type": "stream",
          "text": [
            "T Loss: 0.1535 V Loss: 0.1626 V MCRMSE: 0.1655\n",
            "Best valid MCRMSE updated to 0.16552051901817322\n",
            "Epoch 74\n"
          ],
          "name": "stdout"
        },
        {
          "output_type": "stream",
          "text": [
            "100%|██████████| 243/243 [00:29<00:00,  8.23it/s]\n",
            "100%|██████████| 20/20 [00:00<00:00, 21.08it/s]\n",
            "  0%|          | 1/243 [00:00<00:29,  8.33it/s]"
          ],
          "name": "stderr"
        },
        {
          "output_type": "stream",
          "text": [
            "T Loss: 0.1533 V Loss: 0.1656 V MCRMSE: 0.1686\n",
            "Epoch 75\n"
          ],
          "name": "stdout"
        },
        {
          "output_type": "stream",
          "text": [
            "100%|██████████| 243/243 [00:29<00:00,  8.23it/s]\n",
            "100%|██████████| 20/20 [00:00<00:00, 21.12it/s]\n",
            "  0%|          | 1/243 [00:00<00:29,  8.24it/s]"
          ],
          "name": "stderr"
        },
        {
          "output_type": "stream",
          "text": [
            "T Loss: 0.1530 V Loss: 0.1639 V MCRMSE: 0.1670\n",
            "Epoch 76\n"
          ],
          "name": "stdout"
        },
        {
          "output_type": "stream",
          "text": [
            "100%|██████████| 243/243 [00:29<00:00,  8.23it/s]\n",
            "100%|██████████| 20/20 [00:00<00:00, 21.15it/s]\n",
            "  0%|          | 1/243 [00:00<00:29,  8.28it/s]"
          ],
          "name": "stderr"
        },
        {
          "output_type": "stream",
          "text": [
            "T Loss: 0.1523 V Loss: 0.1644 V MCRMSE: 0.1674\n",
            "Epoch 77\n"
          ],
          "name": "stdout"
        },
        {
          "output_type": "stream",
          "text": [
            "100%|██████████| 243/243 [00:29<00:00,  8.22it/s]\n",
            "100%|██████████| 20/20 [00:00<00:00, 21.10it/s]\n",
            "  0%|          | 1/243 [00:00<00:29,  8.21it/s]"
          ],
          "name": "stderr"
        },
        {
          "output_type": "stream",
          "text": [
            "T Loss: 0.1521 V Loss: 0.1631 V MCRMSE: 0.1663\n",
            "Epoch 78\n"
          ],
          "name": "stdout"
        },
        {
          "output_type": "stream",
          "text": [
            "100%|██████████| 243/243 [00:29<00:00,  8.21it/s]\n",
            "100%|██████████| 20/20 [00:00<00:00, 21.12it/s]\n",
            "  0%|          | 1/243 [00:00<00:29,  8.22it/s]"
          ],
          "name": "stderr"
        },
        {
          "output_type": "stream",
          "text": [
            "T Loss: 0.1519 V Loss: 0.1624 V MCRMSE: 0.1654\n",
            "Best valid MCRMSE updated to 0.16537509858608246\n",
            "Epoch 79\n"
          ],
          "name": "stdout"
        },
        {
          "output_type": "stream",
          "text": [
            "100%|██████████| 243/243 [00:29<00:00,  8.22it/s]\n",
            "100%|██████████| 20/20 [00:00<00:00, 21.14it/s]\n",
            "  0%|          | 1/243 [00:00<00:29,  8.34it/s]"
          ],
          "name": "stderr"
        },
        {
          "output_type": "stream",
          "text": [
            "T Loss: 0.1512 V Loss: 0.1629 V MCRMSE: 0.1660\n",
            "Epoch 80\n"
          ],
          "name": "stdout"
        },
        {
          "output_type": "stream",
          "text": [
            "100%|██████████| 243/243 [00:29<00:00,  8.24it/s]\n",
            "100%|██████████| 20/20 [00:00<00:00, 21.15it/s]\n",
            "  0%|          | 1/243 [00:00<00:29,  8.25it/s]"
          ],
          "name": "stderr"
        },
        {
          "output_type": "stream",
          "text": [
            "T Loss: 0.1515 V Loss: 0.1632 V MCRMSE: 0.1663\n",
            "Epoch 81\n"
          ],
          "name": "stdout"
        },
        {
          "output_type": "stream",
          "text": [
            "100%|██████████| 243/243 [00:29<00:00,  8.24it/s]\n",
            "100%|██████████| 20/20 [00:00<00:00, 21.15it/s]\n",
            "  0%|          | 1/243 [00:00<00:28,  8.38it/s]"
          ],
          "name": "stderr"
        },
        {
          "output_type": "stream",
          "text": [
            "T Loss: 0.1510 V Loss: 0.1619 V MCRMSE: 0.1651\n",
            "Best valid MCRMSE updated to 0.16507767140865326\n",
            "Epoch 82\n"
          ],
          "name": "stdout"
        },
        {
          "output_type": "stream",
          "text": [
            "100%|██████████| 243/243 [00:29<00:00,  8.24it/s]\n",
            "100%|██████████| 20/20 [00:00<00:00, 21.14it/s]\n",
            "  0%|          | 1/243 [00:00<00:29,  8.20it/s]"
          ],
          "name": "stderr"
        },
        {
          "output_type": "stream",
          "text": [
            "T Loss: 0.1503 V Loss: 0.1607 V MCRMSE: 0.1639\n",
            "Best valid MCRMSE updated to 0.16390389204025269\n",
            "Epoch 83\n"
          ],
          "name": "stdout"
        },
        {
          "output_type": "stream",
          "text": [
            "100%|██████████| 243/243 [00:29<00:00,  8.24it/s]\n",
            "100%|██████████| 20/20 [00:00<00:00, 21.18it/s]\n",
            "  0%|          | 1/243 [00:00<00:29,  8.23it/s]"
          ],
          "name": "stderr"
        },
        {
          "output_type": "stream",
          "text": [
            "T Loss: 0.1496 V Loss: 0.1610 V MCRMSE: 0.1644\n",
            "Epoch 84\n"
          ],
          "name": "stdout"
        },
        {
          "output_type": "stream",
          "text": [
            "100%|██████████| 243/243 [00:29<00:00,  8.23it/s]\n",
            "100%|██████████| 20/20 [00:00<00:00, 20.98it/s]\n",
            "  0%|          | 1/243 [00:00<00:29,  8.27it/s]"
          ],
          "name": "stderr"
        },
        {
          "output_type": "stream",
          "text": [
            "T Loss: 0.1501 V Loss: 0.1601 V MCRMSE: 0.1631\n",
            "Best valid MCRMSE updated to 0.16314639151096344\n",
            "Epoch 85\n"
          ],
          "name": "stdout"
        },
        {
          "output_type": "stream",
          "text": [
            "100%|██████████| 243/243 [00:29<00:00,  8.24it/s]\n",
            "100%|██████████| 20/20 [00:00<00:00, 21.13it/s]\n",
            "  0%|          | 1/243 [00:00<00:29,  8.30it/s]"
          ],
          "name": "stderr"
        },
        {
          "output_type": "stream",
          "text": [
            "T Loss: 0.1493 V Loss: 0.1606 V MCRMSE: 0.1636\n",
            "Epoch 86\n"
          ],
          "name": "stdout"
        },
        {
          "output_type": "stream",
          "text": [
            "100%|██████████| 243/243 [00:29<00:00,  8.25it/s]\n",
            "100%|██████████| 20/20 [00:00<00:00, 21.15it/s]\n",
            "  0%|          | 1/243 [00:00<00:28,  8.35it/s]"
          ],
          "name": "stderr"
        },
        {
          "output_type": "stream",
          "text": [
            "T Loss: 0.1493 V Loss: 0.1594 V MCRMSE: 0.1627\n",
            "Best valid MCRMSE updated to 0.16265949606895447\n",
            "Epoch 87\n"
          ],
          "name": "stdout"
        },
        {
          "output_type": "stream",
          "text": [
            "100%|██████████| 243/243 [00:29<00:00,  8.24it/s]\n",
            "100%|██████████| 20/20 [00:00<00:00, 21.09it/s]\n",
            "  0%|          | 1/243 [00:00<00:29,  8.29it/s]"
          ],
          "name": "stderr"
        },
        {
          "output_type": "stream",
          "text": [
            "T Loss: 0.1489 V Loss: 0.1604 V MCRMSE: 0.1635\n",
            "Epoch 88\n"
          ],
          "name": "stdout"
        },
        {
          "output_type": "stream",
          "text": [
            "100%|██████████| 243/243 [00:29<00:00,  8.23it/s]\n",
            "100%|██████████| 20/20 [00:00<00:00, 21.13it/s]\n",
            "  0%|          | 1/243 [00:00<00:28,  8.36it/s]"
          ],
          "name": "stderr"
        },
        {
          "output_type": "stream",
          "text": [
            "T Loss: 0.1486 V Loss: 0.1620 V MCRMSE: 0.1649\n",
            "Epoch 89\n"
          ],
          "name": "stdout"
        },
        {
          "output_type": "stream",
          "text": [
            "100%|██████████| 243/243 [00:29<00:00,  8.24it/s]\n",
            "100%|██████████| 20/20 [00:00<00:00, 21.11it/s]\n",
            "  0%|          | 1/243 [00:00<00:28,  8.35it/s]"
          ],
          "name": "stderr"
        },
        {
          "output_type": "stream",
          "text": [
            "T Loss: 0.1482 V Loss: 0.1604 V MCRMSE: 0.1637\n",
            "Epoch 90\n"
          ],
          "name": "stdout"
        },
        {
          "output_type": "stream",
          "text": [
            "100%|██████████| 243/243 [00:29<00:00,  8.25it/s]\n",
            "100%|██████████| 20/20 [00:00<00:00, 21.12it/s]\n",
            "  0%|          | 1/243 [00:00<00:29,  8.17it/s]"
          ],
          "name": "stderr"
        },
        {
          "output_type": "stream",
          "text": [
            "T Loss: 0.1476 V Loss: 0.1615 V MCRMSE: 0.1646\n",
            "Epoch 91\n"
          ],
          "name": "stdout"
        },
        {
          "output_type": "stream",
          "text": [
            "100%|██████████| 243/243 [00:29<00:00,  8.25it/s]\n",
            "100%|██████████| 20/20 [00:00<00:00, 21.15it/s]\n",
            "  0%|          | 1/243 [00:00<00:28,  8.35it/s]"
          ],
          "name": "stderr"
        },
        {
          "output_type": "stream",
          "text": [
            "T Loss: 0.1477 V Loss: 0.1584 V MCRMSE: 0.1616\n",
            "Best valid MCRMSE updated to 0.1616102159023285\n",
            "Epoch 92\n"
          ],
          "name": "stdout"
        },
        {
          "output_type": "stream",
          "text": [
            "100%|██████████| 243/243 [00:29<00:00,  8.25it/s]\n",
            "100%|██████████| 20/20 [00:00<00:00, 21.13it/s]\n",
            "  0%|          | 1/243 [00:00<00:29,  8.33it/s]"
          ],
          "name": "stderr"
        },
        {
          "output_type": "stream",
          "text": [
            "T Loss: 0.1477 V Loss: 0.1583 V MCRMSE: 0.1615\n",
            "Best valid MCRMSE updated to 0.16154533624649048\n",
            "Epoch 93\n"
          ],
          "name": "stdout"
        },
        {
          "output_type": "stream",
          "text": [
            "100%|██████████| 243/243 [00:29<00:00,  8.24it/s]\n",
            "100%|██████████| 20/20 [00:00<00:00, 21.16it/s]\n",
            "  0%|          | 1/243 [00:00<00:29,  8.32it/s]"
          ],
          "name": "stderr"
        },
        {
          "output_type": "stream",
          "text": [
            "T Loss: 0.1469 V Loss: 0.1582 V MCRMSE: 0.1615\n",
            "Best valid MCRMSE updated to 0.16150382161140442\n",
            "Epoch 94\n"
          ],
          "name": "stdout"
        },
        {
          "output_type": "stream",
          "text": [
            "100%|██████████| 243/243 [00:29<00:00,  8.25it/s]\n",
            "100%|██████████| 20/20 [00:00<00:00, 21.18it/s]\n",
            "  0%|          | 1/243 [00:00<00:28,  8.41it/s]"
          ],
          "name": "stderr"
        },
        {
          "output_type": "stream",
          "text": [
            "T Loss: 0.1466 V Loss: 0.1591 V MCRMSE: 0.1624\n",
            "Epoch 95\n"
          ],
          "name": "stdout"
        },
        {
          "output_type": "stream",
          "text": [
            "100%|██████████| 243/243 [00:29<00:00,  8.25it/s]\n",
            "100%|██████████| 20/20 [00:00<00:00, 21.21it/s]\n",
            "  0%|          | 1/243 [00:00<00:29,  8.24it/s]"
          ],
          "name": "stderr"
        },
        {
          "output_type": "stream",
          "text": [
            "T Loss: 0.1464 V Loss: 0.1578 V MCRMSE: 0.1611\n",
            "Best valid MCRMSE updated to 0.161065936088562\n",
            "Epoch 96\n"
          ],
          "name": "stdout"
        },
        {
          "output_type": "stream",
          "text": [
            "100%|██████████| 243/243 [00:29<00:00,  8.24it/s]\n",
            "100%|██████████| 20/20 [00:00<00:00, 21.05it/s]\n",
            "  0%|          | 1/243 [00:00<00:29,  8.27it/s]"
          ],
          "name": "stderr"
        },
        {
          "output_type": "stream",
          "text": [
            "T Loss: 0.1464 V Loss: 0.1578 V MCRMSE: 0.1611\n",
            "Epoch 97\n"
          ],
          "name": "stdout"
        },
        {
          "output_type": "stream",
          "text": [
            "100%|██████████| 243/243 [00:29<00:00,  8.24it/s]\n",
            "100%|██████████| 20/20 [00:00<00:00, 21.09it/s]\n",
            "  0%|          | 1/243 [00:00<00:29,  8.31it/s]"
          ],
          "name": "stderr"
        },
        {
          "output_type": "stream",
          "text": [
            "T Loss: 0.1462 V Loss: 0.1586 V MCRMSE: 0.1621\n",
            "Epoch 98\n"
          ],
          "name": "stdout"
        },
        {
          "output_type": "stream",
          "text": [
            "100%|██████████| 243/243 [00:29<00:00,  8.24it/s]\n",
            "100%|██████████| 20/20 [00:00<00:00, 21.12it/s]\n",
            "  0%|          | 1/243 [00:00<00:29,  8.16it/s]"
          ],
          "name": "stderr"
        },
        {
          "output_type": "stream",
          "text": [
            "T Loss: 0.1460 V Loss: 0.1592 V MCRMSE: 0.1626\n",
            "Epoch 99\n"
          ],
          "name": "stdout"
        },
        {
          "output_type": "stream",
          "text": [
            "100%|██████████| 243/243 [00:29<00:00,  8.25it/s]\n",
            "100%|██████████| 20/20 [00:00<00:00, 21.25it/s]\n",
            " 15%|█▌        | 3/20 [00:00<00:00, 21.44it/s]"
          ],
          "name": "stderr"
        },
        {
          "output_type": "stream",
          "text": [
            "T Loss: 0.1456 V Loss: 0.1578 V MCRMSE: 0.1611\n"
          ],
          "name": "stdout"
        },
        {
          "output_type": "stream",
          "text": [
            "100%|██████████| 20/20 [00:00<00:00, 21.40it/s]\n"
          ],
          "name": "stderr"
        },
        {
          "output_type": "stream",
          "text": [
            "Fold 4\n"
          ],
          "name": "stdout"
        },
        {
          "output_type": "stream",
          "text": [
            "  0%|          | 1/243 [00:00<00:30,  7.86it/s]"
          ],
          "name": "stderr"
        },
        {
          "output_type": "stream",
          "text": [
            "Epoch 0\n"
          ],
          "name": "stdout"
        },
        {
          "output_type": "stream",
          "text": [
            "100%|██████████| 243/243 [00:29<00:00,  8.26it/s]\n",
            "100%|██████████| 20/20 [00:00<00:00, 21.21it/s]\n",
            "  0%|          | 1/243 [00:00<00:28,  8.38it/s]"
          ],
          "name": "stderr"
        },
        {
          "output_type": "stream",
          "text": [
            "T Loss: 0.3669 V Loss: 0.2967 V MCRMSE: 0.2984\n",
            "Best valid MCRMSE updated to 0.29838061332702637\n",
            "Epoch 1\n"
          ],
          "name": "stdout"
        },
        {
          "output_type": "stream",
          "text": [
            "100%|██████████| 243/243 [00:29<00:00,  8.26it/s]\n",
            "100%|██████████| 20/20 [00:00<00:00, 21.21it/s]\n",
            "  0%|          | 1/243 [00:00<00:29,  8.33it/s]"
          ],
          "name": "stderr"
        },
        {
          "output_type": "stream",
          "text": [
            "T Loss: 0.2910 V Loss: 0.2745 V MCRMSE: 0.2764\n",
            "Best valid MCRMSE updated to 0.2763798236846924\n",
            "Epoch 2\n"
          ],
          "name": "stdout"
        },
        {
          "output_type": "stream",
          "text": [
            "100%|██████████| 243/243 [00:29<00:00,  8.26it/s]\n",
            "100%|██████████| 20/20 [00:00<00:00, 21.29it/s]\n",
            "  0%|          | 1/243 [00:00<00:28,  8.38it/s]"
          ],
          "name": "stderr"
        },
        {
          "output_type": "stream",
          "text": [
            "T Loss: 0.2725 V Loss: 0.2554 V MCRMSE: 0.2575\n",
            "Best valid MCRMSE updated to 0.2575142979621887\n",
            "Epoch 3\n"
          ],
          "name": "stdout"
        },
        {
          "output_type": "stream",
          "text": [
            "100%|██████████| 243/243 [00:29<00:00,  8.26it/s]\n",
            "100%|██████████| 20/20 [00:00<00:00, 21.16it/s]\n",
            "  0%|          | 1/243 [00:00<00:29,  8.25it/s]"
          ],
          "name": "stderr"
        },
        {
          "output_type": "stream",
          "text": [
            "T Loss: 0.2591 V Loss: 0.2485 V MCRMSE: 0.2507\n",
            "Best valid MCRMSE updated to 0.2506832778453827\n",
            "Epoch 4\n"
          ],
          "name": "stdout"
        },
        {
          "output_type": "stream",
          "text": [
            "100%|██████████| 243/243 [00:29<00:00,  8.25it/s]\n",
            "100%|██████████| 20/20 [00:00<00:00, 21.18it/s]\n",
            "  0%|          | 1/243 [00:00<00:29,  8.34it/s]"
          ],
          "name": "stderr"
        },
        {
          "output_type": "stream",
          "text": [
            "T Loss: 0.2477 V Loss: 0.2387 V MCRMSE: 0.2408\n",
            "Best valid MCRMSE updated to 0.24080124497413635\n",
            "Epoch 5\n"
          ],
          "name": "stdout"
        },
        {
          "output_type": "stream",
          "text": [
            "100%|██████████| 243/243 [00:29<00:00,  8.25it/s]\n",
            "100%|██████████| 20/20 [00:00<00:00, 21.24it/s]\n",
            "  0%|          | 1/243 [00:00<00:29,  8.30it/s]"
          ],
          "name": "stderr"
        },
        {
          "output_type": "stream",
          "text": [
            "T Loss: 0.2398 V Loss: 0.2359 V MCRMSE: 0.2379\n",
            "Best valid MCRMSE updated to 0.23789529502391815\n",
            "Epoch 6\n"
          ],
          "name": "stdout"
        },
        {
          "output_type": "stream",
          "text": [
            "100%|██████████| 243/243 [00:29<00:00,  8.26it/s]\n",
            "100%|██████████| 20/20 [00:00<00:00, 21.23it/s]\n",
            "  0%|          | 1/243 [00:00<00:29,  8.34it/s]"
          ],
          "name": "stderr"
        },
        {
          "output_type": "stream",
          "text": [
            "T Loss: 0.2347 V Loss: 0.2317 V MCRMSE: 0.2335\n",
            "Best valid MCRMSE updated to 0.23345738649368286\n",
            "Epoch 7\n"
          ],
          "name": "stdout"
        },
        {
          "output_type": "stream",
          "text": [
            "100%|██████████| 243/243 [00:29<00:00,  8.26it/s]\n",
            "100%|██████████| 20/20 [00:00<00:00, 21.24it/s]\n",
            "  0%|          | 1/243 [00:00<00:29,  8.21it/s]"
          ],
          "name": "stderr"
        },
        {
          "output_type": "stream",
          "text": [
            "T Loss: 0.2293 V Loss: 0.2250 V MCRMSE: 0.2269\n",
            "Best valid MCRMSE updated to 0.22691969573497772\n",
            "Epoch 8\n"
          ],
          "name": "stdout"
        },
        {
          "output_type": "stream",
          "text": [
            "100%|██████████| 243/243 [00:29<00:00,  8.25it/s]\n",
            "100%|██████████| 20/20 [00:00<00:00, 21.29it/s]\n",
            "  0%|          | 1/243 [00:00<00:29,  8.22it/s]"
          ],
          "name": "stderr"
        },
        {
          "output_type": "stream",
          "text": [
            "T Loss: 0.2256 V Loss: 0.2281 V MCRMSE: 0.2301\n",
            "Epoch 9\n"
          ],
          "name": "stdout"
        },
        {
          "output_type": "stream",
          "text": [
            "100%|██████████| 243/243 [00:29<00:00,  8.26it/s]\n",
            "100%|██████████| 20/20 [00:00<00:00, 21.24it/s]\n",
            "  0%|          | 1/243 [00:00<00:28,  8.42it/s]"
          ],
          "name": "stderr"
        },
        {
          "output_type": "stream",
          "text": [
            "T Loss: 0.2216 V Loss: 0.2180 V MCRMSE: 0.2200\n",
            "Best valid MCRMSE updated to 0.21995770931243896\n",
            "Epoch 10\n"
          ],
          "name": "stdout"
        },
        {
          "output_type": "stream",
          "text": [
            "100%|██████████| 243/243 [00:29<00:00,  8.26it/s]\n",
            "100%|██████████| 20/20 [00:00<00:00, 21.23it/s]\n",
            "  0%|          | 1/243 [00:00<00:29,  8.22it/s]"
          ],
          "name": "stderr"
        },
        {
          "output_type": "stream",
          "text": [
            "T Loss: 0.2187 V Loss: 0.2171 V MCRMSE: 0.2191\n",
            "Best valid MCRMSE updated to 0.2190602719783783\n",
            "Epoch 11\n"
          ],
          "name": "stdout"
        },
        {
          "output_type": "stream",
          "text": [
            "100%|██████████| 243/243 [00:29<00:00,  8.24it/s]\n",
            "100%|██████████| 20/20 [00:00<00:00, 21.22it/s]\n",
            "  0%|          | 1/243 [00:00<00:28,  8.39it/s]"
          ],
          "name": "stderr"
        },
        {
          "output_type": "stream",
          "text": [
            "T Loss: 0.2144 V Loss: 0.2177 V MCRMSE: 0.2195\n",
            "Epoch 12\n"
          ],
          "name": "stdout"
        },
        {
          "output_type": "stream",
          "text": [
            "100%|██████████| 243/243 [00:29<00:00,  8.24it/s]\n",
            "100%|██████████| 20/20 [00:00<00:00, 21.19it/s]\n",
            "  0%|          | 1/243 [00:00<00:29,  8.25it/s]"
          ],
          "name": "stderr"
        },
        {
          "output_type": "stream",
          "text": [
            "T Loss: 0.2120 V Loss: 0.2113 V MCRMSE: 0.2132\n",
            "Best valid MCRMSE updated to 0.21321365237236023\n",
            "Epoch 13\n"
          ],
          "name": "stdout"
        },
        {
          "output_type": "stream",
          "text": [
            "100%|██████████| 243/243 [00:29<00:00,  8.24it/s]\n",
            "100%|██████████| 20/20 [00:00<00:00, 21.04it/s]\n",
            "  0%|          | 1/243 [00:00<00:29,  8.28it/s]"
          ],
          "name": "stderr"
        },
        {
          "output_type": "stream",
          "text": [
            "T Loss: 0.2091 V Loss: 0.2085 V MCRMSE: 0.2104\n",
            "Best valid MCRMSE updated to 0.21039149165153503\n",
            "Epoch 14\n"
          ],
          "name": "stdout"
        },
        {
          "output_type": "stream",
          "text": [
            "100%|██████████| 243/243 [00:29<00:00,  8.20it/s]\n",
            "100%|██████████| 20/20 [00:00<00:00, 21.22it/s]\n",
            "  0%|          | 1/243 [00:00<00:29,  8.25it/s]"
          ],
          "name": "stderr"
        },
        {
          "output_type": "stream",
          "text": [
            "T Loss: 0.2063 V Loss: 0.2052 V MCRMSE: 0.2072\n",
            "Best valid MCRMSE updated to 0.20717370510101318\n",
            "Epoch 15\n"
          ],
          "name": "stdout"
        },
        {
          "output_type": "stream",
          "text": [
            "100%|██████████| 243/243 [00:29<00:00,  8.25it/s]\n",
            "100%|██████████| 20/20 [00:00<00:00, 21.24it/s]\n",
            "  0%|          | 1/243 [00:00<00:29,  8.27it/s]"
          ],
          "name": "stderr"
        },
        {
          "output_type": "stream",
          "text": [
            "T Loss: 0.2041 V Loss: 0.2050 V MCRMSE: 0.2069\n",
            "Best valid MCRMSE updated to 0.20694038271903992\n",
            "Epoch 16\n"
          ],
          "name": "stdout"
        },
        {
          "output_type": "stream",
          "text": [
            "100%|██████████| 243/243 [00:29<00:00,  8.24it/s]\n",
            "100%|██████████| 20/20 [00:00<00:00, 21.06it/s]\n",
            "  0%|          | 1/243 [00:00<00:29,  8.25it/s]"
          ],
          "name": "stderr"
        },
        {
          "output_type": "stream",
          "text": [
            "T Loss: 0.2012 V Loss: 0.2016 V MCRMSE: 0.2038\n",
            "Best valid MCRMSE updated to 0.20384225249290466\n",
            "Epoch 17\n"
          ],
          "name": "stdout"
        },
        {
          "output_type": "stream",
          "text": [
            "100%|██████████| 243/243 [00:29<00:00,  8.24it/s]\n",
            "100%|██████████| 20/20 [00:00<00:00, 20.99it/s]\n",
            "  0%|          | 1/243 [00:00<00:29,  8.28it/s]"
          ],
          "name": "stderr"
        },
        {
          "output_type": "stream",
          "text": [
            "T Loss: 0.2005 V Loss: 0.2049 V MCRMSE: 0.2070\n",
            "Epoch 18\n"
          ],
          "name": "stdout"
        },
        {
          "output_type": "stream",
          "text": [
            "100%|██████████| 243/243 [00:29<00:00,  8.25it/s]\n",
            "100%|██████████| 20/20 [00:00<00:00, 21.20it/s]\n",
            "  0%|          | 1/243 [00:00<00:29,  8.25it/s]"
          ],
          "name": "stderr"
        },
        {
          "output_type": "stream",
          "text": [
            "T Loss: 0.1972 V Loss: 0.2007 V MCRMSE: 0.2028\n",
            "Best valid MCRMSE updated to 0.2028021216392517\n",
            "Epoch 19\n"
          ],
          "name": "stdout"
        },
        {
          "output_type": "stream",
          "text": [
            "100%|██████████| 243/243 [00:29<00:00,  8.26it/s]\n",
            "100%|██████████| 20/20 [00:00<00:00, 21.29it/s]\n",
            "  0%|          | 1/243 [00:00<00:29,  8.34it/s]"
          ],
          "name": "stderr"
        },
        {
          "output_type": "stream",
          "text": [
            "T Loss: 0.1957 V Loss: 0.1977 V MCRMSE: 0.1999\n",
            "Best valid MCRMSE updated to 0.19992193579673767\n",
            "Epoch 20\n"
          ],
          "name": "stdout"
        },
        {
          "output_type": "stream",
          "text": [
            "100%|██████████| 243/243 [00:29<00:00,  8.26it/s]\n",
            "100%|██████████| 20/20 [00:00<00:00, 21.29it/s]\n",
            "  0%|          | 1/243 [00:00<00:28,  8.42it/s]"
          ],
          "name": "stderr"
        },
        {
          "output_type": "stream",
          "text": [
            "T Loss: 0.1936 V Loss: 0.1974 V MCRMSE: 0.1996\n",
            "Best valid MCRMSE updated to 0.19957107305526733\n",
            "Epoch 21\n"
          ],
          "name": "stdout"
        },
        {
          "output_type": "stream",
          "text": [
            "100%|██████████| 243/243 [00:29<00:00,  8.26it/s]\n",
            "100%|██████████| 20/20 [00:00<00:00, 21.25it/s]\n",
            "  0%|          | 1/243 [00:00<00:29,  8.31it/s]"
          ],
          "name": "stderr"
        },
        {
          "output_type": "stream",
          "text": [
            "T Loss: 0.1922 V Loss: 0.1945 V MCRMSE: 0.1966\n",
            "Best valid MCRMSE updated to 0.1965964287519455\n",
            "Epoch 22\n"
          ],
          "name": "stdout"
        },
        {
          "output_type": "stream",
          "text": [
            "100%|██████████| 243/243 [00:29<00:00,  8.26it/s]\n",
            "100%|██████████| 20/20 [00:00<00:00, 21.32it/s]\n",
            "  0%|          | 1/243 [00:00<00:28,  8.40it/s]"
          ],
          "name": "stderr"
        },
        {
          "output_type": "stream",
          "text": [
            "T Loss: 0.1906 V Loss: 0.1922 V MCRMSE: 0.1943\n",
            "Best valid MCRMSE updated to 0.19425958395004272\n",
            "Epoch 23\n"
          ],
          "name": "stdout"
        },
        {
          "output_type": "stream",
          "text": [
            "100%|██████████| 243/243 [00:29<00:00,  8.27it/s]\n",
            "100%|██████████| 20/20 [00:00<00:00, 21.15it/s]\n",
            "  0%|          | 1/243 [00:00<00:29,  8.24it/s]"
          ],
          "name": "stderr"
        },
        {
          "output_type": "stream",
          "text": [
            "T Loss: 0.1886 V Loss: 0.1890 V MCRMSE: 0.1910\n",
            "Best valid MCRMSE updated to 0.19100305438041687\n",
            "Epoch 24\n"
          ],
          "name": "stdout"
        },
        {
          "output_type": "stream",
          "text": [
            "100%|██████████| 243/243 [00:29<00:00,  8.24it/s]\n",
            "100%|██████████| 20/20 [00:00<00:00, 21.05it/s]\n",
            "  0%|          | 1/243 [00:00<00:29,  8.28it/s]"
          ],
          "name": "stderr"
        },
        {
          "output_type": "stream",
          "text": [
            "T Loss: 0.1878 V Loss: 0.1893 V MCRMSE: 0.1913\n",
            "Epoch 25\n"
          ],
          "name": "stdout"
        },
        {
          "output_type": "stream",
          "text": [
            "100%|██████████| 243/243 [00:29<00:00,  8.25it/s]\n",
            "100%|██████████| 20/20 [00:00<00:00, 21.11it/s]\n",
            "  0%|          | 1/243 [00:00<00:28,  8.37it/s]"
          ],
          "name": "stderr"
        },
        {
          "output_type": "stream",
          "text": [
            "T Loss: 0.1855 V Loss: 0.1887 V MCRMSE: 0.1909\n",
            "Best valid MCRMSE updated to 0.19087713956832886\n",
            "Epoch 26\n"
          ],
          "name": "stdout"
        },
        {
          "output_type": "stream",
          "text": [
            "100%|██████████| 243/243 [00:29<00:00,  8.25it/s]\n",
            "100%|██████████| 20/20 [00:00<00:00, 21.24it/s]\n",
            "  0%|          | 1/243 [00:00<00:28,  8.37it/s]"
          ],
          "name": "stderr"
        },
        {
          "output_type": "stream",
          "text": [
            "T Loss: 0.1848 V Loss: 0.1855 V MCRMSE: 0.1875\n",
            "Best valid MCRMSE updated to 0.18749992549419403\n",
            "Epoch 27\n"
          ],
          "name": "stdout"
        },
        {
          "output_type": "stream",
          "text": [
            "100%|██████████| 243/243 [00:29<00:00,  8.25it/s]\n",
            "100%|██████████| 20/20 [00:00<00:00, 21.25it/s]\n",
            "  0%|          | 1/243 [00:00<00:28,  8.36it/s]"
          ],
          "name": "stderr"
        },
        {
          "output_type": "stream",
          "text": [
            "T Loss: 0.1831 V Loss: 0.1891 V MCRMSE: 0.1913\n",
            "Epoch 28\n"
          ],
          "name": "stdout"
        },
        {
          "output_type": "stream",
          "text": [
            "100%|██████████| 243/243 [00:29<00:00,  8.25it/s]\n",
            "100%|██████████| 20/20 [00:00<00:00, 21.21it/s]\n",
            "  0%|          | 1/243 [00:00<00:29,  8.32it/s]"
          ],
          "name": "stderr"
        },
        {
          "output_type": "stream",
          "text": [
            "T Loss: 0.1824 V Loss: 0.1813 V MCRMSE: 0.1833\n",
            "Best valid MCRMSE updated to 0.183345764875412\n",
            "Epoch 29\n"
          ],
          "name": "stdout"
        },
        {
          "output_type": "stream",
          "text": [
            "100%|██████████| 243/243 [00:29<00:00,  8.22it/s]\n",
            "100%|██████████| 20/20 [00:00<00:00, 21.23it/s]\n",
            "  0%|          | 1/243 [00:00<00:29,  8.27it/s]"
          ],
          "name": "stderr"
        },
        {
          "output_type": "stream",
          "text": [
            "T Loss: 0.1813 V Loss: 0.1857 V MCRMSE: 0.1880\n",
            "Epoch 30\n"
          ],
          "name": "stdout"
        },
        {
          "output_type": "stream",
          "text": [
            "100%|██████████| 243/243 [00:29<00:00,  8.24it/s]\n",
            "100%|██████████| 20/20 [00:00<00:00, 21.20it/s]\n",
            "  0%|          | 1/243 [00:00<00:29,  8.28it/s]"
          ],
          "name": "stderr"
        },
        {
          "output_type": "stream",
          "text": [
            "T Loss: 0.1797 V Loss: 0.1807 V MCRMSE: 0.1830\n",
            "Best valid MCRMSE updated to 0.1829954832792282\n",
            "Epoch 31\n"
          ],
          "name": "stdout"
        },
        {
          "output_type": "stream",
          "text": [
            "100%|██████████| 243/243 [00:29<00:00,  8.26it/s]\n",
            "100%|██████████| 20/20 [00:00<00:00, 21.29it/s]\n",
            "  0%|          | 1/243 [00:00<00:29,  8.26it/s]"
          ],
          "name": "stderr"
        },
        {
          "output_type": "stream",
          "text": [
            "T Loss: 0.1783 V Loss: 0.1801 V MCRMSE: 0.1823\n",
            "Best valid MCRMSE updated to 0.18229439854621887\n",
            "Epoch 32\n"
          ],
          "name": "stdout"
        },
        {
          "output_type": "stream",
          "text": [
            "100%|██████████| 243/243 [00:29<00:00,  8.22it/s]\n",
            "100%|██████████| 20/20 [00:00<00:00, 21.03it/s]\n",
            "  0%|          | 1/243 [00:00<00:29,  8.33it/s]"
          ],
          "name": "stderr"
        },
        {
          "output_type": "stream",
          "text": [
            "T Loss: 0.1774 V Loss: 0.1783 V MCRMSE: 0.1805\n",
            "Best valid MCRMSE updated to 0.1804644763469696\n",
            "Epoch 33\n"
          ],
          "name": "stdout"
        },
        {
          "output_type": "stream",
          "text": [
            "100%|██████████| 243/243 [00:29<00:00,  8.23it/s]\n",
            "100%|██████████| 20/20 [00:00<00:00, 21.10it/s]\n",
            "  0%|          | 1/243 [00:00<00:29,  8.30it/s]"
          ],
          "name": "stderr"
        },
        {
          "output_type": "stream",
          "text": [
            "T Loss: 0.1763 V Loss: 0.1785 V MCRMSE: 0.1806\n",
            "Epoch 34\n"
          ],
          "name": "stdout"
        },
        {
          "output_type": "stream",
          "text": [
            "100%|██████████| 243/243 [00:29<00:00,  8.22it/s]\n",
            "100%|██████████| 20/20 [00:00<00:00, 21.09it/s]\n",
            "  0%|          | 1/243 [00:00<00:29,  8.33it/s]"
          ],
          "name": "stderr"
        },
        {
          "output_type": "stream",
          "text": [
            "T Loss: 0.1757 V Loss: 0.1758 V MCRMSE: 0.1782\n",
            "Best valid MCRMSE updated to 0.17818966507911682\n",
            "Epoch 35\n"
          ],
          "name": "stdout"
        },
        {
          "output_type": "stream",
          "text": [
            "100%|██████████| 243/243 [00:29<00:00,  8.22it/s]\n",
            "100%|██████████| 20/20 [00:00<00:00, 21.13it/s]\n",
            "  0%|          | 1/243 [00:00<00:29,  8.11it/s]"
          ],
          "name": "stderr"
        },
        {
          "output_type": "stream",
          "text": [
            "T Loss: 0.1745 V Loss: 0.1773 V MCRMSE: 0.1798\n",
            "Epoch 36\n"
          ],
          "name": "stdout"
        },
        {
          "output_type": "stream",
          "text": [
            "100%|██████████| 243/243 [00:29<00:00,  8.22it/s]\n",
            "100%|██████████| 20/20 [00:00<00:00, 20.95it/s]\n",
            "  0%|          | 1/243 [00:00<00:29,  8.33it/s]"
          ],
          "name": "stderr"
        },
        {
          "output_type": "stream",
          "text": [
            "T Loss: 0.1747 V Loss: 0.1764 V MCRMSE: 0.1789\n",
            "Epoch 37\n"
          ],
          "name": "stdout"
        },
        {
          "output_type": "stream",
          "text": [
            "100%|██████████| 243/243 [00:29<00:00,  8.23it/s]\n",
            "100%|██████████| 20/20 [00:00<00:00, 21.06it/s]\n",
            "  0%|          | 1/243 [00:00<00:28,  8.43it/s]"
          ],
          "name": "stderr"
        },
        {
          "output_type": "stream",
          "text": [
            "T Loss: 0.1732 V Loss: 0.1761 V MCRMSE: 0.1786\n",
            "Epoch 38\n"
          ],
          "name": "stdout"
        },
        {
          "output_type": "stream",
          "text": [
            "100%|██████████| 243/243 [00:29<00:00,  8.22it/s]\n",
            "100%|██████████| 20/20 [00:00<00:00, 20.92it/s]\n",
            "  0%|          | 1/243 [00:00<00:29,  8.29it/s]"
          ],
          "name": "stderr"
        },
        {
          "output_type": "stream",
          "text": [
            "T Loss: 0.1727 V Loss: 0.1740 V MCRMSE: 0.1764\n",
            "Best valid MCRMSE updated to 0.17641448974609375\n",
            "Epoch 39\n"
          ],
          "name": "stdout"
        },
        {
          "output_type": "stream",
          "text": [
            "100%|██████████| 243/243 [00:29<00:00,  8.22it/s]\n",
            "100%|██████████| 20/20 [00:00<00:00, 21.02it/s]\n",
            "  0%|          | 1/243 [00:00<00:29,  8.31it/s]"
          ],
          "name": "stderr"
        },
        {
          "output_type": "stream",
          "text": [
            "T Loss: 0.1716 V Loss: 0.1750 V MCRMSE: 0.1774\n",
            "Epoch 40\n"
          ],
          "name": "stdout"
        },
        {
          "output_type": "stream",
          "text": [
            "100%|██████████| 243/243 [00:29<00:00,  8.22it/s]\n",
            "100%|██████████| 20/20 [00:00<00:00, 21.09it/s]\n",
            "  0%|          | 1/243 [00:00<00:29,  8.23it/s]"
          ],
          "name": "stderr"
        },
        {
          "output_type": "stream",
          "text": [
            "T Loss: 0.1702 V Loss: 0.1728 V MCRMSE: 0.1752\n",
            "Best valid MCRMSE updated to 0.17523376643657684\n",
            "Epoch 41\n"
          ],
          "name": "stdout"
        },
        {
          "output_type": "stream",
          "text": [
            "100%|██████████| 243/243 [00:29<00:00,  8.23it/s]\n",
            "100%|██████████| 20/20 [00:00<00:00, 20.94it/s]\n",
            "  0%|          | 1/243 [00:00<00:29,  8.23it/s]"
          ],
          "name": "stderr"
        },
        {
          "output_type": "stream",
          "text": [
            "T Loss: 0.1699 V Loss: 0.1748 V MCRMSE: 0.1774\n",
            "Epoch 42\n"
          ],
          "name": "stdout"
        },
        {
          "output_type": "stream",
          "text": [
            "100%|██████████| 243/243 [00:29<00:00,  8.23it/s]\n",
            "100%|██████████| 20/20 [00:00<00:00, 20.98it/s]\n",
            "  0%|          | 1/243 [00:00<00:29,  8.12it/s]"
          ],
          "name": "stderr"
        },
        {
          "output_type": "stream",
          "text": [
            "T Loss: 0.1693 V Loss: 0.1716 V MCRMSE: 0.1742\n",
            "Best valid MCRMSE updated to 0.1741989105939865\n",
            "Epoch 43\n"
          ],
          "name": "stdout"
        },
        {
          "output_type": "stream",
          "text": [
            "100%|██████████| 243/243 [00:29<00:00,  8.23it/s]\n",
            "100%|██████████| 20/20 [00:00<00:00, 21.07it/s]\n",
            "  0%|          | 1/243 [00:00<00:29,  8.29it/s]"
          ],
          "name": "stderr"
        },
        {
          "output_type": "stream",
          "text": [
            "T Loss: 0.1682 V Loss: 0.1720 V MCRMSE: 0.1746\n",
            "Epoch 44\n"
          ],
          "name": "stdout"
        },
        {
          "output_type": "stream",
          "text": [
            "100%|██████████| 243/243 [00:29<00:00,  8.23it/s]\n",
            "100%|██████████| 20/20 [00:00<00:00, 21.10it/s]\n",
            "  0%|          | 1/243 [00:00<00:29,  8.15it/s]"
          ],
          "name": "stderr"
        },
        {
          "output_type": "stream",
          "text": [
            "T Loss: 0.1677 V Loss: 0.1714 V MCRMSE: 0.1741\n",
            "Best valid MCRMSE updated to 0.17406374216079712\n",
            "Epoch 45\n"
          ],
          "name": "stdout"
        },
        {
          "output_type": "stream",
          "text": [
            "100%|██████████| 243/243 [00:29<00:00,  8.22it/s]\n",
            "100%|██████████| 20/20 [00:00<00:00, 21.03it/s]\n",
            "  0%|          | 1/243 [00:00<00:29,  8.27it/s]"
          ],
          "name": "stderr"
        },
        {
          "output_type": "stream",
          "text": [
            "T Loss: 0.1669 V Loss: 0.1702 V MCRMSE: 0.1728\n",
            "Best valid MCRMSE updated to 0.17279192805290222\n",
            "Epoch 46\n"
          ],
          "name": "stdout"
        },
        {
          "output_type": "stream",
          "text": [
            "100%|██████████| 243/243 [00:29<00:00,  8.21it/s]\n",
            "100%|██████████| 20/20 [00:00<00:00, 20.93it/s]\n",
            "  0%|          | 1/243 [00:00<00:29,  8.16it/s]"
          ],
          "name": "stderr"
        },
        {
          "output_type": "stream",
          "text": [
            "T Loss: 0.1665 V Loss: 0.1698 V MCRMSE: 0.1726\n",
            "Best valid MCRMSE updated to 0.17258553206920624\n",
            "Epoch 47\n"
          ],
          "name": "stdout"
        },
        {
          "output_type": "stream",
          "text": [
            "100%|██████████| 243/243 [00:29<00:00,  8.22it/s]\n",
            "100%|██████████| 20/20 [00:00<00:00, 21.06it/s]\n",
            "  0%|          | 1/243 [00:00<00:29,  8.12it/s]"
          ],
          "name": "stderr"
        },
        {
          "output_type": "stream",
          "text": [
            "T Loss: 0.1656 V Loss: 0.1706 V MCRMSE: 0.1732\n",
            "Epoch 48\n"
          ],
          "name": "stdout"
        },
        {
          "output_type": "stream",
          "text": [
            "100%|██████████| 243/243 [00:29<00:00,  8.23it/s]\n",
            "100%|██████████| 20/20 [00:00<00:00, 20.95it/s]\n",
            "  0%|          | 1/243 [00:00<00:29,  8.13it/s]"
          ],
          "name": "stderr"
        },
        {
          "output_type": "stream",
          "text": [
            "T Loss: 0.1652 V Loss: 0.1685 V MCRMSE: 0.1715\n",
            "Best valid MCRMSE updated to 0.17148229479789734\n",
            "Epoch 49\n"
          ],
          "name": "stdout"
        },
        {
          "output_type": "stream",
          "text": [
            "100%|██████████| 243/243 [00:29<00:00,  8.21it/s]\n",
            "100%|██████████| 20/20 [00:00<00:00, 21.18it/s]\n",
            "  0%|          | 1/243 [00:00<00:29,  8.32it/s]"
          ],
          "name": "stderr"
        },
        {
          "output_type": "stream",
          "text": [
            "T Loss: 0.1644 V Loss: 0.1678 V MCRMSE: 0.1708\n",
            "Best valid MCRMSE updated to 0.17083650827407837\n",
            "Epoch 50\n"
          ],
          "name": "stdout"
        },
        {
          "output_type": "stream",
          "text": [
            "100%|██████████| 243/243 [00:29<00:00,  8.22it/s]\n",
            "100%|██████████| 20/20 [00:00<00:00, 20.95it/s]\n",
            "  0%|          | 1/243 [00:00<00:29,  8.32it/s]"
          ],
          "name": "stderr"
        },
        {
          "output_type": "stream",
          "text": [
            "T Loss: 0.1642 V Loss: 0.1685 V MCRMSE: 0.1715\n",
            "Epoch 51\n"
          ],
          "name": "stdout"
        },
        {
          "output_type": "stream",
          "text": [
            "100%|██████████| 243/243 [00:29<00:00,  8.22it/s]\n",
            "100%|██████████| 20/20 [00:00<00:00, 21.14it/s]\n",
            "  0%|          | 1/243 [00:00<00:29,  8.22it/s]"
          ],
          "name": "stderr"
        },
        {
          "output_type": "stream",
          "text": [
            "T Loss: 0.1630 V Loss: 0.1666 V MCRMSE: 0.1694\n",
            "Best valid MCRMSE updated to 0.16944089531898499\n",
            "Epoch 52\n"
          ],
          "name": "stdout"
        },
        {
          "output_type": "stream",
          "text": [
            "100%|██████████| 243/243 [00:29<00:00,  8.22it/s]\n",
            "100%|██████████| 20/20 [00:00<00:00, 21.11it/s]\n",
            "  0%|          | 1/243 [00:00<00:29,  8.22it/s]"
          ],
          "name": "stderr"
        },
        {
          "output_type": "stream",
          "text": [
            "T Loss: 0.1628 V Loss: 0.1708 V MCRMSE: 0.1738\n",
            "Epoch 53\n"
          ],
          "name": "stdout"
        },
        {
          "output_type": "stream",
          "text": [
            "100%|██████████| 243/243 [00:29<00:00,  8.22it/s]\n",
            "100%|██████████| 20/20 [00:00<00:00, 21.10it/s]\n",
            "  0%|          | 1/243 [00:00<00:29,  8.32it/s]"
          ],
          "name": "stderr"
        },
        {
          "output_type": "stream",
          "text": [
            "T Loss: 0.1625 V Loss: 0.1664 V MCRMSE: 0.1692\n",
            "Best valid MCRMSE updated to 0.16920135915279388\n",
            "Epoch 54\n"
          ],
          "name": "stdout"
        },
        {
          "output_type": "stream",
          "text": [
            "100%|██████████| 243/243 [00:29<00:00,  8.22it/s]\n",
            "100%|██████████| 20/20 [00:00<00:00, 21.13it/s]\n",
            "  0%|          | 1/243 [00:00<00:28,  8.35it/s]"
          ],
          "name": "stderr"
        },
        {
          "output_type": "stream",
          "text": [
            "T Loss: 0.1616 V Loss: 0.1662 V MCRMSE: 0.1692\n",
            "Best valid MCRMSE updated to 0.1691679060459137\n",
            "Epoch 55\n"
          ],
          "name": "stdout"
        },
        {
          "output_type": "stream",
          "text": [
            "100%|██████████| 243/243 [00:29<00:00,  8.21it/s]\n",
            "100%|██████████| 20/20 [00:00<00:00, 21.01it/s]\n",
            "  0%|          | 1/243 [00:00<00:29,  8.29it/s]"
          ],
          "name": "stderr"
        },
        {
          "output_type": "stream",
          "text": [
            "T Loss: 0.1613 V Loss: 0.1654 V MCRMSE: 0.1685\n",
            "Best valid MCRMSE updated to 0.16849105060100555\n",
            "Epoch 56\n"
          ],
          "name": "stdout"
        },
        {
          "output_type": "stream",
          "text": [
            "100%|██████████| 243/243 [00:29<00:00,  8.21it/s]\n",
            "100%|██████████| 20/20 [00:00<00:00, 20.88it/s]\n",
            "  0%|          | 1/243 [00:00<00:29,  8.11it/s]"
          ],
          "name": "stderr"
        },
        {
          "output_type": "stream",
          "text": [
            "T Loss: 0.1601 V Loss: 0.1648 V MCRMSE: 0.1678\n",
            "Best valid MCRMSE updated to 0.1677848994731903\n",
            "Epoch 57\n"
          ],
          "name": "stdout"
        },
        {
          "output_type": "stream",
          "text": [
            "100%|██████████| 243/243 [00:29<00:00,  8.22it/s]\n",
            "100%|██████████| 20/20 [00:00<00:00, 21.22it/s]\n",
            "  0%|          | 1/243 [00:00<00:29,  8.26it/s]"
          ],
          "name": "stderr"
        },
        {
          "output_type": "stream",
          "text": [
            "T Loss: 0.1601 V Loss: 0.1645 V MCRMSE: 0.1677\n",
            "Best valid MCRMSE updated to 0.1677010953426361\n",
            "Epoch 58\n"
          ],
          "name": "stdout"
        },
        {
          "output_type": "stream",
          "text": [
            "100%|██████████| 243/243 [00:29<00:00,  8.22it/s]\n",
            "100%|██████████| 20/20 [00:00<00:00, 21.08it/s]\n",
            "  0%|          | 1/243 [00:00<00:29,  8.21it/s]"
          ],
          "name": "stderr"
        },
        {
          "output_type": "stream",
          "text": [
            "T Loss: 0.1590 V Loss: 0.1667 V MCRMSE: 0.1699\n",
            "Epoch 59\n"
          ],
          "name": "stdout"
        },
        {
          "output_type": "stream",
          "text": [
            "100%|██████████| 243/243 [00:29<00:00,  8.19it/s]\n",
            "100%|██████████| 20/20 [00:00<00:00, 21.00it/s]\n",
            "  0%|          | 1/243 [00:00<00:29,  8.25it/s]"
          ],
          "name": "stderr"
        },
        {
          "output_type": "stream",
          "text": [
            "T Loss: 0.1595 V Loss: 0.1658 V MCRMSE: 0.1690\n",
            "Epoch 60\n"
          ],
          "name": "stdout"
        },
        {
          "output_type": "stream",
          "text": [
            "100%|██████████| 243/243 [00:29<00:00,  8.24it/s]\n",
            "100%|██████████| 20/20 [00:00<00:00, 21.29it/s]\n",
            "  0%|          | 1/243 [00:00<00:28,  8.36it/s]"
          ],
          "name": "stderr"
        },
        {
          "output_type": "stream",
          "text": [
            "T Loss: 0.1588 V Loss: 0.1625 V MCRMSE: 0.1656\n",
            "Best valid MCRMSE updated to 0.16560718417167664\n",
            "Epoch 61\n"
          ],
          "name": "stdout"
        },
        {
          "output_type": "stream",
          "text": [
            "100%|██████████| 243/243 [00:29<00:00,  8.26it/s]\n",
            "100%|██████████| 20/20 [00:00<00:00, 21.15it/s]\n",
            "  0%|          | 1/243 [00:00<00:29,  8.29it/s]"
          ],
          "name": "stderr"
        },
        {
          "output_type": "stream",
          "text": [
            "T Loss: 0.1583 V Loss: 0.1619 V MCRMSE: 0.1651\n",
            "Best valid MCRMSE updated to 0.16514775156974792\n",
            "Epoch 62\n"
          ],
          "name": "stdout"
        },
        {
          "output_type": "stream",
          "text": [
            "100%|██████████| 243/243 [00:29<00:00,  8.25it/s]\n",
            "100%|██████████| 20/20 [00:00<00:00, 21.22it/s]\n",
            "  0%|          | 1/243 [00:00<00:28,  8.41it/s]"
          ],
          "name": "stderr"
        },
        {
          "output_type": "stream",
          "text": [
            "T Loss: 0.1571 V Loss: 0.1614 V MCRMSE: 0.1647\n",
            "Best valid MCRMSE updated to 0.16465990245342255\n",
            "Epoch 63\n"
          ],
          "name": "stdout"
        },
        {
          "output_type": "stream",
          "text": [
            "100%|██████████| 243/243 [00:29<00:00,  8.25it/s]\n",
            "100%|██████████| 20/20 [00:00<00:00, 21.20it/s]\n",
            "  0%|          | 1/243 [00:00<00:29,  8.24it/s]"
          ],
          "name": "stderr"
        },
        {
          "output_type": "stream",
          "text": [
            "T Loss: 0.1569 V Loss: 0.1617 V MCRMSE: 0.1651\n",
            "Epoch 64\n"
          ],
          "name": "stdout"
        },
        {
          "output_type": "stream",
          "text": [
            "100%|██████████| 243/243 [00:29<00:00,  8.24it/s]\n",
            "100%|██████████| 20/20 [00:00<00:00, 21.30it/s]\n",
            "  0%|          | 1/243 [00:00<00:29,  8.25it/s]"
          ],
          "name": "stderr"
        },
        {
          "output_type": "stream",
          "text": [
            "T Loss: 0.1569 V Loss: 0.1612 V MCRMSE: 0.1643\n",
            "Best valid MCRMSE updated to 0.16430723667144775\n",
            "Epoch 65\n"
          ],
          "name": "stdout"
        },
        {
          "output_type": "stream",
          "text": [
            "100%|██████████| 243/243 [00:29<00:00,  8.25it/s]\n",
            "100%|██████████| 20/20 [00:00<00:00, 21.19it/s]\n",
            "  0%|          | 1/243 [00:00<00:29,  8.23it/s]"
          ],
          "name": "stderr"
        },
        {
          "output_type": "stream",
          "text": [
            "T Loss: 0.1560 V Loss: 0.1609 V MCRMSE: 0.1642\n",
            "Best valid MCRMSE updated to 0.164154052734375\n",
            "Epoch 66\n"
          ],
          "name": "stdout"
        },
        {
          "output_type": "stream",
          "text": [
            "100%|██████████| 243/243 [00:29<00:00,  8.24it/s]\n",
            "100%|██████████| 20/20 [00:00<00:00, 21.25it/s]\n",
            "  0%|          | 1/243 [00:00<00:29,  8.22it/s]"
          ],
          "name": "stderr"
        },
        {
          "output_type": "stream",
          "text": [
            "T Loss: 0.1561 V Loss: 0.1603 V MCRMSE: 0.1635\n",
            "Best valid MCRMSE updated to 0.1635170429944992\n",
            "Epoch 67\n"
          ],
          "name": "stdout"
        },
        {
          "output_type": "stream",
          "text": [
            "100%|██████████| 243/243 [00:29<00:00,  8.24it/s]\n",
            "100%|██████████| 20/20 [00:00<00:00, 21.25it/s]\n",
            "  0%|          | 1/243 [00:00<00:29,  8.29it/s]"
          ],
          "name": "stderr"
        },
        {
          "output_type": "stream",
          "text": [
            "T Loss: 0.1555 V Loss: 0.1600 V MCRMSE: 0.1632\n",
            "Best valid MCRMSE updated to 0.1632309854030609\n",
            "Epoch 68\n"
          ],
          "name": "stdout"
        },
        {
          "output_type": "stream",
          "text": [
            "100%|██████████| 243/243 [00:29<00:00,  8.23it/s]\n",
            "100%|██████████| 20/20 [00:00<00:00, 21.19it/s]\n",
            "  0%|          | 1/243 [00:00<00:29,  8.25it/s]"
          ],
          "name": "stderr"
        },
        {
          "output_type": "stream",
          "text": [
            "T Loss: 0.1551 V Loss: 0.1595 V MCRMSE: 0.1628\n",
            "Best valid MCRMSE updated to 0.162765771150589\n",
            "Epoch 69\n"
          ],
          "name": "stdout"
        },
        {
          "output_type": "stream",
          "text": [
            "100%|██████████| 243/243 [00:29<00:00,  8.21it/s]\n",
            "100%|██████████| 20/20 [00:00<00:00, 21.04it/s]\n",
            "  0%|          | 1/243 [00:00<00:29,  8.14it/s]"
          ],
          "name": "stderr"
        },
        {
          "output_type": "stream",
          "text": [
            "T Loss: 0.1547 V Loss: 0.1608 V MCRMSE: 0.1640\n",
            "Epoch 70\n"
          ],
          "name": "stdout"
        },
        {
          "output_type": "stream",
          "text": [
            "100%|██████████| 243/243 [00:29<00:00,  8.22it/s]\n",
            "100%|██████████| 20/20 [00:00<00:00, 21.07it/s]\n",
            "  0%|          | 1/243 [00:00<00:29,  8.32it/s]"
          ],
          "name": "stderr"
        },
        {
          "output_type": "stream",
          "text": [
            "T Loss: 0.1542 V Loss: 0.1597 V MCRMSE: 0.1631\n",
            "Epoch 71\n"
          ],
          "name": "stdout"
        },
        {
          "output_type": "stream",
          "text": [
            "100%|██████████| 243/243 [00:29<00:00,  8.24it/s]\n",
            "100%|██████████| 20/20 [00:00<00:00, 21.17it/s]\n",
            "  0%|          | 1/243 [00:00<00:29,  8.32it/s]"
          ],
          "name": "stderr"
        },
        {
          "output_type": "stream",
          "text": [
            "T Loss: 0.1540 V Loss: 0.1580 V MCRMSE: 0.1615\n",
            "Best valid MCRMSE updated to 0.16149188578128815\n",
            "Epoch 72\n"
          ],
          "name": "stdout"
        },
        {
          "output_type": "stream",
          "text": [
            "100%|██████████| 243/243 [00:29<00:00,  8.23it/s]\n",
            "100%|██████████| 20/20 [00:00<00:00, 21.26it/s]\n",
            "  0%|          | 1/243 [00:00<00:29,  8.28it/s]"
          ],
          "name": "stderr"
        },
        {
          "output_type": "stream",
          "text": [
            "T Loss: 0.1532 V Loss: 0.1585 V MCRMSE: 0.1619\n",
            "Epoch 73\n"
          ],
          "name": "stdout"
        },
        {
          "output_type": "stream",
          "text": [
            "100%|██████████| 243/243 [00:29<00:00,  8.22it/s]\n",
            "100%|██████████| 20/20 [00:00<00:00, 21.19it/s]\n",
            "  0%|          | 1/243 [00:00<00:29,  8.33it/s]"
          ],
          "name": "stderr"
        },
        {
          "output_type": "stream",
          "text": [
            "T Loss: 0.1535 V Loss: 0.1592 V MCRMSE: 0.1627\n",
            "Epoch 74\n"
          ],
          "name": "stdout"
        },
        {
          "output_type": "stream",
          "text": [
            "100%|██████████| 243/243 [00:29<00:00,  8.21it/s]\n",
            "100%|██████████| 20/20 [00:00<00:00, 21.15it/s]\n",
            "  0%|          | 1/243 [00:00<00:29,  8.33it/s]"
          ],
          "name": "stderr"
        },
        {
          "output_type": "stream",
          "text": [
            "T Loss: 0.1533 V Loss: 0.1573 V MCRMSE: 0.1608\n",
            "Best valid MCRMSE updated to 0.1607852429151535\n",
            "Epoch 75\n"
          ],
          "name": "stdout"
        },
        {
          "output_type": "stream",
          "text": [
            "100%|██████████| 243/243 [00:29<00:00,  8.22it/s]\n",
            "100%|██████████| 20/20 [00:00<00:00, 21.12it/s]\n",
            "  0%|          | 1/243 [00:00<00:29,  8.23it/s]"
          ],
          "name": "stderr"
        },
        {
          "output_type": "stream",
          "text": [
            "T Loss: 0.1524 V Loss: 0.1607 V MCRMSE: 0.1638\n",
            "Epoch 76\n"
          ],
          "name": "stdout"
        },
        {
          "output_type": "stream",
          "text": [
            "100%|██████████| 243/243 [00:29<00:00,  8.23it/s]\n",
            "100%|██████████| 20/20 [00:00<00:00, 21.16it/s]\n",
            "  0%|          | 1/243 [00:00<00:29,  8.24it/s]"
          ],
          "name": "stderr"
        },
        {
          "output_type": "stream",
          "text": [
            "T Loss: 0.1520 V Loss: 0.1581 V MCRMSE: 0.1615\n",
            "Epoch 77\n"
          ],
          "name": "stdout"
        },
        {
          "output_type": "stream",
          "text": [
            "100%|██████████| 243/243 [00:29<00:00,  8.21it/s]\n",
            "100%|██████████| 20/20 [00:00<00:00, 21.15it/s]\n",
            "  0%|          | 1/243 [00:00<00:29,  8.21it/s]"
          ],
          "name": "stderr"
        },
        {
          "output_type": "stream",
          "text": [
            "T Loss: 0.1517 V Loss: 0.1576 V MCRMSE: 0.1612\n",
            "Epoch 78\n"
          ],
          "name": "stdout"
        },
        {
          "output_type": "stream",
          "text": [
            "100%|██████████| 243/243 [00:29<00:00,  8.23it/s]\n",
            "100%|██████████| 20/20 [00:00<00:00, 21.16it/s]\n",
            "  0%|          | 1/243 [00:00<00:29,  8.18it/s]"
          ],
          "name": "stderr"
        },
        {
          "output_type": "stream",
          "text": [
            "T Loss: 0.1514 V Loss: 0.1564 V MCRMSE: 0.1600\n",
            "Best valid MCRMSE updated to 0.159954234957695\n",
            "Epoch 79\n"
          ],
          "name": "stdout"
        },
        {
          "output_type": "stream",
          "text": [
            "100%|██████████| 243/243 [00:29<00:00,  8.23it/s]\n",
            "100%|██████████| 20/20 [00:00<00:00, 21.06it/s]\n",
            "  0%|          | 1/243 [00:00<00:29,  8.07it/s]"
          ],
          "name": "stderr"
        },
        {
          "output_type": "stream",
          "text": [
            "T Loss: 0.1515 V Loss: 0.1561 V MCRMSE: 0.1595\n",
            "Best valid MCRMSE updated to 0.15954641997814178\n",
            "Epoch 80\n"
          ],
          "name": "stdout"
        },
        {
          "output_type": "stream",
          "text": [
            "100%|██████████| 243/243 [00:29<00:00,  8.21it/s]\n",
            "100%|██████████| 20/20 [00:00<00:00, 21.13it/s]\n",
            "  0%|          | 1/243 [00:00<00:29,  8.31it/s]"
          ],
          "name": "stderr"
        },
        {
          "output_type": "stream",
          "text": [
            "T Loss: 0.1503 V Loss: 0.1565 V MCRMSE: 0.1598\n",
            "Epoch 81\n"
          ],
          "name": "stdout"
        },
        {
          "output_type": "stream",
          "text": [
            "100%|██████████| 243/243 [00:29<00:00,  8.23it/s]\n",
            "100%|██████████| 20/20 [00:00<00:00, 21.20it/s]\n",
            "  0%|          | 1/243 [00:00<00:29,  8.31it/s]"
          ],
          "name": "stderr"
        },
        {
          "output_type": "stream",
          "text": [
            "T Loss: 0.1506 V Loss: 0.1554 V MCRMSE: 0.1588\n",
            "Best valid MCRMSE updated to 0.1587764024734497\n",
            "Epoch 82\n"
          ],
          "name": "stdout"
        },
        {
          "output_type": "stream",
          "text": [
            "100%|██████████| 243/243 [00:29<00:00,  8.23it/s]\n",
            "100%|██████████| 20/20 [00:00<00:00, 21.15it/s]\n",
            "  0%|          | 1/243 [00:00<00:29,  8.26it/s]"
          ],
          "name": "stderr"
        },
        {
          "output_type": "stream",
          "text": [
            "T Loss: 0.1501 V Loss: 0.1580 V MCRMSE: 0.1616\n",
            "Epoch 83\n"
          ],
          "name": "stdout"
        },
        {
          "output_type": "stream",
          "text": [
            "100%|██████████| 243/243 [00:29<00:00,  8.21it/s]\n",
            "100%|██████████| 20/20 [00:00<00:00, 21.10it/s]\n",
            "  0%|          | 1/243 [00:00<00:29,  8.25it/s]"
          ],
          "name": "stderr"
        },
        {
          "output_type": "stream",
          "text": [
            "T Loss: 0.1496 V Loss: 0.1558 V MCRMSE: 0.1594\n",
            "Epoch 84\n"
          ],
          "name": "stdout"
        },
        {
          "output_type": "stream",
          "text": [
            "100%|██████████| 243/243 [00:29<00:00,  8.22it/s]\n",
            "100%|██████████| 20/20 [00:00<00:00, 21.21it/s]\n",
            "  0%|          | 1/243 [00:00<00:29,  8.30it/s]"
          ],
          "name": "stderr"
        },
        {
          "output_type": "stream",
          "text": [
            "T Loss: 0.1486 V Loss: 0.1562 V MCRMSE: 0.1598\n",
            "Epoch 85\n"
          ],
          "name": "stdout"
        },
        {
          "output_type": "stream",
          "text": [
            "100%|██████████| 243/243 [00:29<00:00,  8.22it/s]\n",
            "100%|██████████| 20/20 [00:00<00:00, 21.03it/s]\n",
            "  0%|          | 1/243 [00:00<00:29,  8.23it/s]"
          ],
          "name": "stderr"
        },
        {
          "output_type": "stream",
          "text": [
            "T Loss: 0.1496 V Loss: 0.1547 V MCRMSE: 0.1583\n",
            "Best valid MCRMSE updated to 0.15827065706253052\n",
            "Epoch 86\n"
          ],
          "name": "stdout"
        },
        {
          "output_type": "stream",
          "text": [
            "100%|██████████| 243/243 [00:29<00:00,  8.21it/s]\n",
            "100%|██████████| 20/20 [00:00<00:00, 20.98it/s]\n",
            "  0%|          | 1/243 [00:00<00:29,  8.24it/s]"
          ],
          "name": "stderr"
        },
        {
          "output_type": "stream",
          "text": [
            "T Loss: 0.1486 V Loss: 0.1542 V MCRMSE: 0.1578\n",
            "Best valid MCRMSE updated to 0.1578371524810791\n",
            "Epoch 87\n"
          ],
          "name": "stdout"
        },
        {
          "output_type": "stream",
          "text": [
            "100%|██████████| 243/243 [00:29<00:00,  8.21it/s]\n",
            "100%|██████████| 20/20 [00:00<00:00, 21.18it/s]\n",
            "  0%|          | 1/243 [00:00<00:29,  8.34it/s]"
          ],
          "name": "stderr"
        },
        {
          "output_type": "stream",
          "text": [
            "T Loss: 0.1483 V Loss: 0.1540 V MCRMSE: 0.1577\n",
            "Best valid MCRMSE updated to 0.1576710343360901\n",
            "Epoch 88\n"
          ],
          "name": "stdout"
        },
        {
          "output_type": "stream",
          "text": [
            "100%|██████████| 243/243 [00:29<00:00,  8.21it/s]\n",
            "100%|██████████| 20/20 [00:00<00:00, 21.08it/s]\n",
            "  0%|          | 1/243 [00:00<00:29,  8.33it/s]"
          ],
          "name": "stderr"
        },
        {
          "output_type": "stream",
          "text": [
            "T Loss: 0.1482 V Loss: 0.1539 V MCRMSE: 0.1576\n",
            "Best valid MCRMSE updated to 0.15761028230190277\n",
            "Epoch 89\n"
          ],
          "name": "stdout"
        },
        {
          "output_type": "stream",
          "text": [
            "100%|██████████| 243/243 [00:29<00:00,  8.23it/s]\n",
            "100%|██████████| 20/20 [00:00<00:00, 21.12it/s]\n",
            "  0%|          | 1/243 [00:00<00:29,  8.27it/s]"
          ],
          "name": "stderr"
        },
        {
          "output_type": "stream",
          "text": [
            "T Loss: 0.1484 V Loss: 0.1535 V MCRMSE: 0.1571\n",
            "Best valid MCRMSE updated to 0.15712594985961914\n",
            "Epoch 90\n"
          ],
          "name": "stdout"
        },
        {
          "output_type": "stream",
          "text": [
            "100%|██████████| 243/243 [00:29<00:00,  8.22it/s]\n",
            "100%|██████████| 20/20 [00:00<00:00, 21.11it/s]\n",
            "  0%|          | 1/243 [00:00<00:28,  8.36it/s]"
          ],
          "name": "stderr"
        },
        {
          "output_type": "stream",
          "text": [
            "T Loss: 0.1475 V Loss: 0.1539 V MCRMSE: 0.1577\n",
            "Epoch 91\n"
          ],
          "name": "stdout"
        },
        {
          "output_type": "stream",
          "text": [
            "100%|██████████| 243/243 [00:29<00:00,  8.24it/s]\n",
            "100%|██████████| 20/20 [00:00<00:00, 21.13it/s]\n",
            "  0%|          | 1/243 [00:00<00:29,  8.19it/s]"
          ],
          "name": "stderr"
        },
        {
          "output_type": "stream",
          "text": [
            "T Loss: 0.1472 V Loss: 0.1530 V MCRMSE: 0.1567\n",
            "Best valid MCRMSE updated to 0.15665894746780396\n",
            "Epoch 92\n"
          ],
          "name": "stdout"
        },
        {
          "output_type": "stream",
          "text": [
            "100%|██████████| 243/243 [00:29<00:00,  8.23it/s]\n",
            "100%|██████████| 20/20 [00:00<00:00, 21.17it/s]\n",
            "  0%|          | 1/243 [00:00<00:28,  8.39it/s]"
          ],
          "name": "stderr"
        },
        {
          "output_type": "stream",
          "text": [
            "T Loss: 0.1468 V Loss: 0.1524 V MCRMSE: 0.1561\n",
            "Best valid MCRMSE updated to 0.15609395503997803\n",
            "Epoch 93\n"
          ],
          "name": "stdout"
        },
        {
          "output_type": "stream",
          "text": [
            "100%|██████████| 243/243 [00:29<00:00,  8.23it/s]\n",
            "100%|██████████| 20/20 [00:00<00:00, 21.17it/s]\n",
            "  0%|          | 1/243 [00:00<00:29,  8.24it/s]"
          ],
          "name": "stderr"
        },
        {
          "output_type": "stream",
          "text": [
            "T Loss: 0.1467 V Loss: 0.1539 V MCRMSE: 0.1577\n",
            "Epoch 94\n"
          ],
          "name": "stdout"
        },
        {
          "output_type": "stream",
          "text": [
            "100%|██████████| 243/243 [00:29<00:00,  8.22it/s]\n",
            "100%|██████████| 20/20 [00:00<00:00, 21.14it/s]\n",
            "  0%|          | 1/243 [00:00<00:29,  8.30it/s]"
          ],
          "name": "stderr"
        },
        {
          "output_type": "stream",
          "text": [
            "T Loss: 0.1466 V Loss: 0.1530 V MCRMSE: 0.1569\n",
            "Epoch 95\n"
          ],
          "name": "stdout"
        },
        {
          "output_type": "stream",
          "text": [
            "100%|██████████| 243/243 [00:29<00:00,  8.22it/s]\n",
            "100%|██████████| 20/20 [00:00<00:00, 21.13it/s]\n",
            "  0%|          | 1/243 [00:00<00:29,  8.14it/s]"
          ],
          "name": "stderr"
        },
        {
          "output_type": "stream",
          "text": [
            "T Loss: 0.1461 V Loss: 0.1527 V MCRMSE: 0.1567\n",
            "Epoch 96\n"
          ],
          "name": "stdout"
        },
        {
          "output_type": "stream",
          "text": [
            "100%|██████████| 243/243 [00:29<00:00,  8.22it/s]\n",
            "100%|██████████| 20/20 [00:00<00:00, 21.18it/s]\n",
            "  0%|          | 1/243 [00:00<00:29,  8.18it/s]"
          ],
          "name": "stderr"
        },
        {
          "output_type": "stream",
          "text": [
            "T Loss: 0.1459 V Loss: 0.1534 V MCRMSE: 0.1572\n",
            "Epoch 97\n"
          ],
          "name": "stdout"
        },
        {
          "output_type": "stream",
          "text": [
            "100%|██████████| 243/243 [00:29<00:00,  8.23it/s]\n",
            "100%|██████████| 20/20 [00:00<00:00, 21.16it/s]\n",
            "  0%|          | 1/243 [00:00<00:29,  8.25it/s]"
          ],
          "name": "stderr"
        },
        {
          "output_type": "stream",
          "text": [
            "T Loss: 0.1462 V Loss: 0.1528 V MCRMSE: 0.1564\n",
            "Epoch 98\n"
          ],
          "name": "stdout"
        },
        {
          "output_type": "stream",
          "text": [
            "100%|██████████| 243/243 [00:29<00:00,  8.23it/s]\n",
            "100%|██████████| 20/20 [00:00<00:00, 21.22it/s]\n",
            "  0%|          | 1/243 [00:00<00:29,  8.12it/s]"
          ],
          "name": "stderr"
        },
        {
          "output_type": "stream",
          "text": [
            "T Loss: 0.1456 V Loss: 0.1517 V MCRMSE: 0.1556\n",
            "Best valid MCRMSE updated to 0.1555909812450409\n",
            "Epoch 99\n"
          ],
          "name": "stdout"
        },
        {
          "output_type": "stream",
          "text": [
            "100%|██████████| 243/243 [00:29<00:00,  8.21it/s]\n",
            "100%|██████████| 20/20 [00:00<00:00, 21.13it/s]\n",
            " 15%|█▌        | 3/20 [00:00<00:00, 21.16it/s]"
          ],
          "name": "stderr"
        },
        {
          "output_type": "stream",
          "text": [
            "T Loss: 0.1452 V Loss: 0.1531 V MCRMSE: 0.1571\n"
          ],
          "name": "stdout"
        },
        {
          "output_type": "stream",
          "text": [
            "100%|██████████| 20/20 [00:00<00:00, 21.36it/s]\n"
          ],
          "name": "stderr"
        },
        {
          "output_type": "stream",
          "text": [
            "Fold 5\n"
          ],
          "name": "stdout"
        },
        {
          "output_type": "stream",
          "text": [
            "  0%|          | 1/244 [00:00<00:31,  7.73it/s]"
          ],
          "name": "stderr"
        },
        {
          "output_type": "stream",
          "text": [
            "Epoch 0\n"
          ],
          "name": "stdout"
        },
        {
          "output_type": "stream",
          "text": [
            "100%|██████████| 244/244 [00:29<00:00,  8.22it/s]\n",
            "100%|██████████| 20/20 [00:00<00:00, 21.12it/s]\n",
            "  0%|          | 1/244 [00:00<00:29,  8.32it/s]"
          ],
          "name": "stderr"
        },
        {
          "output_type": "stream",
          "text": [
            "T Loss: 0.3580 V Loss: 0.3020 V MCRMSE: 0.3029\n",
            "Best valid MCRMSE updated to 0.3029002547264099\n",
            "Epoch 1\n"
          ],
          "name": "stdout"
        },
        {
          "output_type": "stream",
          "text": [
            "100%|██████████| 244/244 [00:29<00:00,  8.24it/s]\n",
            "100%|██████████| 20/20 [00:00<00:00, 20.92it/s]\n",
            "  0%|          | 1/244 [00:00<00:29,  8.29it/s]"
          ],
          "name": "stderr"
        },
        {
          "output_type": "stream",
          "text": [
            "T Loss: 0.2883 V Loss: 0.2741 V MCRMSE: 0.2751\n",
            "Best valid MCRMSE updated to 0.2751051187515259\n",
            "Epoch 2\n"
          ],
          "name": "stdout"
        },
        {
          "output_type": "stream",
          "text": [
            "100%|██████████| 244/244 [00:29<00:00,  8.25it/s]\n",
            "100%|██████████| 20/20 [00:00<00:00, 21.22it/s]\n",
            "  0%|          | 1/244 [00:00<00:29,  8.35it/s]"
          ],
          "name": "stderr"
        },
        {
          "output_type": "stream",
          "text": [
            "T Loss: 0.2711 V Loss: 0.2612 V MCRMSE: 0.2621\n",
            "Best valid MCRMSE updated to 0.2620857059955597\n",
            "Epoch 3\n"
          ],
          "name": "stdout"
        },
        {
          "output_type": "stream",
          "text": [
            "100%|██████████| 244/244 [00:29<00:00,  8.26it/s]\n",
            "100%|██████████| 20/20 [00:00<00:00, 21.20it/s]\n",
            "  0%|          | 1/244 [00:00<00:29,  8.23it/s]"
          ],
          "name": "stderr"
        },
        {
          "output_type": "stream",
          "text": [
            "T Loss: 0.2608 V Loss: 0.2513 V MCRMSE: 0.2521\n",
            "Best valid MCRMSE updated to 0.25212761759757996\n",
            "Epoch 4\n"
          ],
          "name": "stdout"
        },
        {
          "output_type": "stream",
          "text": [
            "100%|██████████| 244/244 [00:29<00:00,  8.26it/s]\n",
            "100%|██████████| 20/20 [00:00<00:00, 21.24it/s]\n",
            "  0%|          | 1/244 [00:00<00:29,  8.32it/s]"
          ],
          "name": "stderr"
        },
        {
          "output_type": "stream",
          "text": [
            "T Loss: 0.2484 V Loss: 0.2455 V MCRMSE: 0.2466\n",
            "Best valid MCRMSE updated to 0.24660897254943848\n",
            "Epoch 5\n"
          ],
          "name": "stdout"
        },
        {
          "output_type": "stream",
          "text": [
            "100%|██████████| 244/244 [00:29<00:00,  8.26it/s]\n",
            "100%|██████████| 20/20 [00:00<00:00, 21.20it/s]\n",
            "  0%|          | 1/244 [00:00<00:29,  8.21it/s]"
          ],
          "name": "stderr"
        },
        {
          "output_type": "stream",
          "text": [
            "T Loss: 0.2417 V Loss: 0.2392 V MCRMSE: 0.2401\n",
            "Best valid MCRMSE updated to 0.24009190499782562\n",
            "Epoch 6\n"
          ],
          "name": "stdout"
        },
        {
          "output_type": "stream",
          "text": [
            "100%|██████████| 244/244 [00:29<00:00,  8.26it/s]\n",
            "100%|██████████| 20/20 [00:00<00:00, 21.26it/s]\n",
            "  0%|          | 1/244 [00:00<00:29,  8.33it/s]"
          ],
          "name": "stderr"
        },
        {
          "output_type": "stream",
          "text": [
            "T Loss: 0.2358 V Loss: 0.2350 V MCRMSE: 0.2360\n",
            "Best valid MCRMSE updated to 0.23595905303955078\n",
            "Epoch 7\n"
          ],
          "name": "stdout"
        },
        {
          "output_type": "stream",
          "text": [
            "100%|██████████| 244/244 [00:29<00:00,  8.26it/s]\n",
            "100%|██████████| 20/20 [00:00<00:00, 21.25it/s]\n",
            "  0%|          | 1/244 [00:00<00:29,  8.30it/s]"
          ],
          "name": "stderr"
        },
        {
          "output_type": "stream",
          "text": [
            "T Loss: 0.2307 V Loss: 0.2289 V MCRMSE: 0.2298\n",
            "Best valid MCRMSE updated to 0.2297857254743576\n",
            "Epoch 8\n"
          ],
          "name": "stdout"
        },
        {
          "output_type": "stream",
          "text": [
            "100%|██████████| 244/244 [00:29<00:00,  8.25it/s]\n",
            "100%|██████████| 20/20 [00:00<00:00, 21.19it/s]\n",
            "  0%|          | 1/244 [00:00<00:28,  8.40it/s]"
          ],
          "name": "stderr"
        },
        {
          "output_type": "stream",
          "text": [
            "T Loss: 0.2265 V Loss: 0.2251 V MCRMSE: 0.2261\n",
            "Best valid MCRMSE updated to 0.22612765431404114\n",
            "Epoch 9\n"
          ],
          "name": "stdout"
        },
        {
          "output_type": "stream",
          "text": [
            "100%|██████████| 244/244 [00:29<00:00,  8.26it/s]\n",
            "100%|██████████| 20/20 [00:00<00:00, 21.27it/s]\n",
            "  0%|          | 1/244 [00:00<00:29,  8.21it/s]"
          ],
          "name": "stderr"
        },
        {
          "output_type": "stream",
          "text": [
            "T Loss: 0.2231 V Loss: 0.2231 V MCRMSE: 0.2240\n",
            "Best valid MCRMSE updated to 0.22395728528499603\n",
            "Epoch 10\n"
          ],
          "name": "stdout"
        },
        {
          "output_type": "stream",
          "text": [
            "100%|██████████| 244/244 [00:29<00:00,  8.24it/s]\n",
            "100%|██████████| 20/20 [00:00<00:00, 21.21it/s]\n",
            "  0%|          | 1/244 [00:00<00:29,  8.35it/s]"
          ],
          "name": "stderr"
        },
        {
          "output_type": "stream",
          "text": [
            "T Loss: 0.2193 V Loss: 0.2244 V MCRMSE: 0.2252\n",
            "Epoch 11\n"
          ],
          "name": "stdout"
        },
        {
          "output_type": "stream",
          "text": [
            "100%|██████████| 244/244 [00:29<00:00,  8.28it/s]\n",
            "100%|██████████| 20/20 [00:00<00:00, 21.16it/s]\n",
            "  0%|          | 1/244 [00:00<00:29,  8.14it/s]"
          ],
          "name": "stderr"
        },
        {
          "output_type": "stream",
          "text": [
            "T Loss: 0.2175 V Loss: 0.2509 V MCRMSE: 0.2516\n",
            "Epoch 12\n"
          ],
          "name": "stdout"
        },
        {
          "output_type": "stream",
          "text": [
            "100%|██████████| 244/244 [00:29<00:00,  8.27it/s]\n",
            "100%|██████████| 20/20 [00:00<00:00, 21.23it/s]\n",
            "  0%|          | 1/244 [00:00<00:29,  8.24it/s]"
          ],
          "name": "stderr"
        },
        {
          "output_type": "stream",
          "text": [
            "T Loss: 0.2162 V Loss: 0.2158 V MCRMSE: 0.2166\n",
            "Best valid MCRMSE updated to 0.21659450232982635\n",
            "Epoch 13\n"
          ],
          "name": "stdout"
        },
        {
          "output_type": "stream",
          "text": [
            "100%|██████████| 244/244 [00:29<00:00,  8.27it/s]\n",
            "100%|██████████| 20/20 [00:00<00:00, 21.20it/s]\n",
            "  0%|          | 1/244 [00:00<00:29,  8.33it/s]"
          ],
          "name": "stderr"
        },
        {
          "output_type": "stream",
          "text": [
            "T Loss: 0.2111 V Loss: 0.2113 V MCRMSE: 0.2122\n",
            "Best valid MCRMSE updated to 0.21221695840358734\n",
            "Epoch 14\n"
          ],
          "name": "stdout"
        },
        {
          "output_type": "stream",
          "text": [
            "100%|██████████| 244/244 [00:29<00:00,  8.26it/s]\n",
            "100%|██████████| 20/20 [00:00<00:00, 21.25it/s]\n",
            "  0%|          | 1/244 [00:00<00:29,  8.22it/s]"
          ],
          "name": "stderr"
        },
        {
          "output_type": "stream",
          "text": [
            "T Loss: 0.2081 V Loss: 0.2098 V MCRMSE: 0.2107\n",
            "Best valid MCRMSE updated to 0.2107459157705307\n",
            "Epoch 15\n"
          ],
          "name": "stdout"
        },
        {
          "output_type": "stream",
          "text": [
            "100%|██████████| 244/244 [00:29<00:00,  8.27it/s]\n",
            "100%|██████████| 20/20 [00:00<00:00, 21.23it/s]\n",
            "  0%|          | 1/244 [00:00<00:29,  8.23it/s]"
          ],
          "name": "stderr"
        },
        {
          "output_type": "stream",
          "text": [
            "T Loss: 0.2061 V Loss: 0.2090 V MCRMSE: 0.2100\n",
            "Best valid MCRMSE updated to 0.2099657654762268\n",
            "Epoch 16\n"
          ],
          "name": "stdout"
        },
        {
          "output_type": "stream",
          "text": [
            "100%|██████████| 244/244 [00:29<00:00,  8.27it/s]\n",
            "100%|██████████| 20/20 [00:00<00:00, 21.12it/s]\n",
            "  0%|          | 1/244 [00:00<00:29,  8.36it/s]"
          ],
          "name": "stderr"
        },
        {
          "output_type": "stream",
          "text": [
            "T Loss: 0.2030 V Loss: 0.2038 V MCRMSE: 0.2046\n",
            "Best valid MCRMSE updated to 0.20461970567703247\n",
            "Epoch 17\n"
          ],
          "name": "stdout"
        },
        {
          "output_type": "stream",
          "text": [
            "100%|██████████| 244/244 [00:29<00:00,  8.26it/s]\n",
            "100%|██████████| 20/20 [00:00<00:00, 21.33it/s]\n",
            "  0%|          | 1/244 [00:00<00:29,  8.37it/s]"
          ],
          "name": "stderr"
        },
        {
          "output_type": "stream",
          "text": [
            "T Loss: 0.2008 V Loss: 0.2018 V MCRMSE: 0.2027\n",
            "Best valid MCRMSE updated to 0.20266883075237274\n",
            "Epoch 18\n"
          ],
          "name": "stdout"
        },
        {
          "output_type": "stream",
          "text": [
            "100%|██████████| 244/244 [00:29<00:00,  8.28it/s]\n",
            "100%|██████████| 20/20 [00:00<00:00, 21.26it/s]\n",
            "  0%|          | 1/244 [00:00<00:28,  8.41it/s]"
          ],
          "name": "stderr"
        },
        {
          "output_type": "stream",
          "text": [
            "T Loss: 0.1985 V Loss: 0.1983 V MCRMSE: 0.1992\n",
            "Best valid MCRMSE updated to 0.19918307662010193\n",
            "Epoch 19\n"
          ],
          "name": "stdout"
        },
        {
          "output_type": "stream",
          "text": [
            "100%|██████████| 244/244 [00:29<00:00,  8.28it/s]\n",
            "100%|██████████| 20/20 [00:00<00:00, 21.26it/s]\n",
            "  0%|          | 1/244 [00:00<00:29,  8.23it/s]"
          ],
          "name": "stderr"
        },
        {
          "output_type": "stream",
          "text": [
            "T Loss: 0.1972 V Loss: 0.1973 V MCRMSE: 0.1982\n",
            "Best valid MCRMSE updated to 0.19821113348007202\n",
            "Epoch 20\n"
          ],
          "name": "stdout"
        },
        {
          "output_type": "stream",
          "text": [
            "100%|██████████| 244/244 [00:30<00:00,  8.13it/s]\n",
            "100%|██████████| 20/20 [00:00<00:00, 21.22it/s]\n",
            "  0%|          | 1/244 [00:00<00:29,  8.33it/s]"
          ],
          "name": "stderr"
        },
        {
          "output_type": "stream",
          "text": [
            "T Loss: 0.1945 V Loss: 0.1956 V MCRMSE: 0.1964\n",
            "Best valid MCRMSE updated to 0.19643348455429077\n",
            "Epoch 21\n"
          ],
          "name": "stdout"
        },
        {
          "output_type": "stream",
          "text": [
            "100%|██████████| 244/244 [00:29<00:00,  8.26it/s]\n",
            "100%|██████████| 20/20 [00:00<00:00, 21.17it/s]\n",
            "  0%|          | 1/244 [00:00<00:29,  8.32it/s]"
          ],
          "name": "stderr"
        },
        {
          "output_type": "stream",
          "text": [
            "T Loss: 0.1935 V Loss: 0.2037 V MCRMSE: 0.2045\n",
            "Epoch 22\n"
          ],
          "name": "stdout"
        },
        {
          "output_type": "stream",
          "text": [
            "100%|██████████| 244/244 [00:29<00:00,  8.25it/s]\n",
            "100%|██████████| 20/20 [00:00<00:00, 21.19it/s]\n",
            "  0%|          | 1/244 [00:00<00:29,  8.21it/s]"
          ],
          "name": "stderr"
        },
        {
          "output_type": "stream",
          "text": [
            "T Loss: 0.1939 V Loss: 0.1975 V MCRMSE: 0.1984\n",
            "Epoch 23\n"
          ],
          "name": "stdout"
        },
        {
          "output_type": "stream",
          "text": [
            "100%|██████████| 244/244 [00:29<00:00,  8.27it/s]\n",
            "100%|██████████| 20/20 [00:00<00:00, 21.08it/s]\n",
            "  0%|          | 1/244 [00:00<00:29,  8.30it/s]"
          ],
          "name": "stderr"
        },
        {
          "output_type": "stream",
          "text": [
            "T Loss: 0.1891 V Loss: 0.1959 V MCRMSE: 0.1969\n",
            "Epoch 24\n"
          ],
          "name": "stdout"
        },
        {
          "output_type": "stream",
          "text": [
            "100%|██████████| 244/244 [00:29<00:00,  8.25it/s]\n",
            "100%|██████████| 20/20 [00:00<00:00, 21.25it/s]\n",
            "  0%|          | 1/244 [00:00<00:29,  8.25it/s]"
          ],
          "name": "stderr"
        },
        {
          "output_type": "stream",
          "text": [
            "T Loss: 0.1882 V Loss: 0.1901 V MCRMSE: 0.1910\n",
            "Best valid MCRMSE updated to 0.1910344809293747\n",
            "Epoch 25\n"
          ],
          "name": "stdout"
        },
        {
          "output_type": "stream",
          "text": [
            "100%|██████████| 244/244 [00:29<00:00,  8.26it/s]\n",
            "100%|██████████| 20/20 [00:00<00:00, 21.23it/s]\n",
            "  0%|          | 1/244 [00:00<00:29,  8.31it/s]"
          ],
          "name": "stderr"
        },
        {
          "output_type": "stream",
          "text": [
            "T Loss: 0.1866 V Loss: 0.1969 V MCRMSE: 0.1977\n",
            "Epoch 26\n"
          ],
          "name": "stdout"
        },
        {
          "output_type": "stream",
          "text": [
            "100%|██████████| 244/244 [00:29<00:00,  8.27it/s]\n",
            "100%|██████████| 20/20 [00:00<00:00, 21.21it/s]\n",
            "  0%|          | 1/244 [00:00<00:29,  8.31it/s]"
          ],
          "name": "stderr"
        },
        {
          "output_type": "stream",
          "text": [
            "T Loss: 0.1864 V Loss: 0.1911 V MCRMSE: 0.1921\n",
            "Epoch 27\n"
          ],
          "name": "stdout"
        },
        {
          "output_type": "stream",
          "text": [
            "100%|██████████| 244/244 [00:29<00:00,  8.27it/s]\n",
            "100%|██████████| 20/20 [00:00<00:00, 21.25it/s]\n",
            "  0%|          | 1/244 [00:00<00:29,  8.22it/s]"
          ],
          "name": "stderr"
        },
        {
          "output_type": "stream",
          "text": [
            "T Loss: 0.1842 V Loss: 0.1881 V MCRMSE: 0.1891\n",
            "Best valid MCRMSE updated to 0.1891021430492401\n",
            "Epoch 28\n"
          ],
          "name": "stdout"
        },
        {
          "output_type": "stream",
          "text": [
            "100%|██████████| 244/244 [00:29<00:00,  8.27it/s]\n",
            "100%|██████████| 20/20 [00:00<00:00, 21.18it/s]\n",
            "  0%|          | 1/244 [00:00<00:29,  8.36it/s]"
          ],
          "name": "stderr"
        },
        {
          "output_type": "stream",
          "text": [
            "T Loss: 0.1828 V Loss: 0.1862 V MCRMSE: 0.1873\n",
            "Best valid MCRMSE updated to 0.18727457523345947\n",
            "Epoch 29\n"
          ],
          "name": "stdout"
        },
        {
          "output_type": "stream",
          "text": [
            "100%|██████████| 244/244 [00:29<00:00,  8.28it/s]\n",
            "100%|██████████| 20/20 [00:00<00:00, 21.17it/s]\n",
            "  0%|          | 1/244 [00:00<00:29,  8.36it/s]"
          ],
          "name": "stderr"
        },
        {
          "output_type": "stream",
          "text": [
            "T Loss: 0.1821 V Loss: 0.1863 V MCRMSE: 0.1873\n",
            "Epoch 30\n"
          ],
          "name": "stdout"
        },
        {
          "output_type": "stream",
          "text": [
            "100%|██████████| 244/244 [00:29<00:00,  8.25it/s]\n",
            "100%|██████████| 20/20 [00:00<00:00, 21.24it/s]\n",
            "  0%|          | 1/244 [00:00<00:29,  8.27it/s]"
          ],
          "name": "stderr"
        },
        {
          "output_type": "stream",
          "text": [
            "T Loss: 0.1811 V Loss: 0.1872 V MCRMSE: 0.1883\n",
            "Epoch 31\n"
          ],
          "name": "stdout"
        },
        {
          "output_type": "stream",
          "text": [
            "100%|██████████| 244/244 [00:29<00:00,  8.26it/s]\n",
            "100%|██████████| 20/20 [00:00<00:00, 21.11it/s]\n",
            "  0%|          | 1/244 [00:00<00:29,  8.27it/s]"
          ],
          "name": "stderr"
        },
        {
          "output_type": "stream",
          "text": [
            "T Loss: 0.1804 V Loss: 0.1857 V MCRMSE: 0.1866\n",
            "Best valid MCRMSE updated to 0.18662366271018982\n",
            "Epoch 32\n"
          ],
          "name": "stdout"
        },
        {
          "output_type": "stream",
          "text": [
            "100%|██████████| 244/244 [00:29<00:00,  8.22it/s]\n",
            "100%|██████████| 20/20 [00:00<00:00, 21.11it/s]\n",
            "  0%|          | 1/244 [00:00<00:29,  8.31it/s]"
          ],
          "name": "stderr"
        },
        {
          "output_type": "stream",
          "text": [
            "T Loss: 0.1795 V Loss: 0.1905 V MCRMSE: 0.1914\n",
            "Epoch 33\n"
          ],
          "name": "stdout"
        },
        {
          "output_type": "stream",
          "text": [
            "100%|██████████| 244/244 [00:29<00:00,  8.22it/s]\n",
            "100%|██████████| 20/20 [00:00<00:00, 20.96it/s]\n",
            "  0%|          | 1/244 [00:00<00:29,  8.18it/s]"
          ],
          "name": "stderr"
        },
        {
          "output_type": "stream",
          "text": [
            "T Loss: 0.1776 V Loss: 0.1852 V MCRMSE: 0.1863\n",
            "Best valid MCRMSE updated to 0.18625980615615845\n",
            "Epoch 34\n"
          ],
          "name": "stdout"
        },
        {
          "output_type": "stream",
          "text": [
            "100%|██████████| 244/244 [00:29<00:00,  8.24it/s]\n",
            "100%|██████████| 20/20 [00:00<00:00, 21.24it/s]\n",
            "  0%|          | 1/244 [00:00<00:29,  8.37it/s]"
          ],
          "name": "stderr"
        },
        {
          "output_type": "stream",
          "text": [
            "T Loss: 0.1768 V Loss: 0.1819 V MCRMSE: 0.1830\n",
            "Best valid MCRMSE updated to 0.18295618891716003\n",
            "Epoch 35\n"
          ],
          "name": "stdout"
        },
        {
          "output_type": "stream",
          "text": [
            "100%|██████████| 244/244 [00:29<00:00,  8.27it/s]\n",
            "100%|██████████| 20/20 [00:00<00:00, 21.26it/s]\n",
            "  0%|          | 1/244 [00:00<00:29,  8.35it/s]"
          ],
          "name": "stderr"
        },
        {
          "output_type": "stream",
          "text": [
            "T Loss: 0.1753 V Loss: 0.1846 V MCRMSE: 0.1857\n",
            "Epoch 36\n"
          ],
          "name": "stdout"
        },
        {
          "output_type": "stream",
          "text": [
            "100%|██████████| 244/244 [00:29<00:00,  8.27it/s]\n",
            "100%|██████████| 20/20 [00:00<00:00, 21.24it/s]\n",
            "  0%|          | 1/244 [00:00<00:29,  8.25it/s]"
          ],
          "name": "stderr"
        },
        {
          "output_type": "stream",
          "text": [
            "T Loss: 0.1758 V Loss: 0.1823 V MCRMSE: 0.1835\n",
            "Epoch 37\n"
          ],
          "name": "stdout"
        },
        {
          "output_type": "stream",
          "text": [
            "100%|██████████| 244/244 [00:29<00:00,  8.27it/s]\n",
            "100%|██████████| 20/20 [00:00<00:00, 21.24it/s]\n",
            "  0%|          | 1/244 [00:00<00:29,  8.31it/s]"
          ],
          "name": "stderr"
        },
        {
          "output_type": "stream",
          "text": [
            "T Loss: 0.1737 V Loss: 0.1801 V MCRMSE: 0.1813\n",
            "Best valid MCRMSE updated to 0.1812647581100464\n",
            "Epoch 38\n"
          ],
          "name": "stdout"
        },
        {
          "output_type": "stream",
          "text": [
            "100%|██████████| 244/244 [00:29<00:00,  8.26it/s]\n",
            "100%|██████████| 20/20 [00:00<00:00, 21.26it/s]\n",
            "  0%|          | 1/244 [00:00<00:29,  8.35it/s]"
          ],
          "name": "stderr"
        },
        {
          "output_type": "stream",
          "text": [
            "T Loss: 0.1731 V Loss: 0.1814 V MCRMSE: 0.1826\n",
            "Epoch 39\n"
          ],
          "name": "stdout"
        },
        {
          "output_type": "stream",
          "text": [
            "100%|██████████| 244/244 [00:29<00:00,  8.27it/s]\n",
            "100%|██████████| 20/20 [00:00<00:00, 21.28it/s]\n",
            "  0%|          | 1/244 [00:00<00:29,  8.25it/s]"
          ],
          "name": "stderr"
        },
        {
          "output_type": "stream",
          "text": [
            "T Loss: 0.1726 V Loss: 0.1780 V MCRMSE: 0.1791\n",
            "Best valid MCRMSE updated to 0.17913293838500977\n",
            "Epoch 40\n"
          ],
          "name": "stdout"
        },
        {
          "output_type": "stream",
          "text": [
            "100%|██████████| 244/244 [00:29<00:00,  8.25it/s]\n",
            "100%|██████████| 20/20 [00:00<00:00, 21.13it/s]\n",
            "  0%|          | 1/244 [00:00<00:29,  8.27it/s]"
          ],
          "name": "stderr"
        },
        {
          "output_type": "stream",
          "text": [
            "T Loss: 0.1707 V Loss: 0.1774 V MCRMSE: 0.1785\n",
            "Best valid MCRMSE updated to 0.17845404148101807\n",
            "Epoch 41\n"
          ],
          "name": "stdout"
        },
        {
          "output_type": "stream",
          "text": [
            "100%|██████████| 244/244 [00:29<00:00,  8.26it/s]\n",
            "100%|██████████| 20/20 [00:00<00:00, 21.22it/s]\n",
            "  0%|          | 1/244 [00:00<00:29,  8.20it/s]"
          ],
          "name": "stderr"
        },
        {
          "output_type": "stream",
          "text": [
            "T Loss: 0.1702 V Loss: 0.1792 V MCRMSE: 0.1804\n",
            "Epoch 42\n"
          ],
          "name": "stdout"
        },
        {
          "output_type": "stream",
          "text": [
            "100%|██████████| 244/244 [00:29<00:00,  8.27it/s]\n",
            "100%|██████████| 20/20 [00:00<00:00, 21.18it/s]\n",
            "  0%|          | 1/244 [00:00<00:29,  8.25it/s]"
          ],
          "name": "stderr"
        },
        {
          "output_type": "stream",
          "text": [
            "T Loss: 0.1697 V Loss: 0.1787 V MCRMSE: 0.1798\n",
            "Epoch 43\n"
          ],
          "name": "stdout"
        },
        {
          "output_type": "stream",
          "text": [
            "100%|██████████| 244/244 [00:29<00:00,  8.26it/s]\n",
            "100%|██████████| 20/20 [00:00<00:00, 21.17it/s]\n",
            "  0%|          | 1/244 [00:00<00:29,  8.22it/s]"
          ],
          "name": "stderr"
        },
        {
          "output_type": "stream",
          "text": [
            "T Loss: 0.1689 V Loss: 0.1773 V MCRMSE: 0.1785\n",
            "Epoch 44\n"
          ],
          "name": "stdout"
        },
        {
          "output_type": "stream",
          "text": [
            "100%|██████████| 244/244 [00:29<00:00,  8.27it/s]\n",
            "100%|██████████| 20/20 [00:00<00:00, 21.31it/s]\n",
            "  0%|          | 1/244 [00:00<00:29,  8.21it/s]"
          ],
          "name": "stderr"
        },
        {
          "output_type": "stream",
          "text": [
            "T Loss: 0.1680 V Loss: 0.1773 V MCRMSE: 0.1786\n",
            "Epoch 45\n"
          ],
          "name": "stdout"
        },
        {
          "output_type": "stream",
          "text": [
            "100%|██████████| 244/244 [00:29<00:00,  8.27it/s]\n",
            "100%|██████████| 20/20 [00:00<00:00, 21.23it/s]\n",
            "  0%|          | 1/244 [00:00<00:29,  8.32it/s]"
          ],
          "name": "stderr"
        },
        {
          "output_type": "stream",
          "text": [
            "T Loss: 0.1679 V Loss: 0.1765 V MCRMSE: 0.1778\n",
            "Best valid MCRMSE updated to 0.1778433918952942\n",
            "Epoch 46\n"
          ],
          "name": "stdout"
        },
        {
          "output_type": "stream",
          "text": [
            "100%|██████████| 244/244 [00:29<00:00,  8.27it/s]\n",
            "100%|██████████| 20/20 [00:00<00:00, 21.28it/s]\n",
            "  0%|          | 1/244 [00:00<00:29,  8.18it/s]"
          ],
          "name": "stderr"
        },
        {
          "output_type": "stream",
          "text": [
            "T Loss: 0.1664 V Loss: 0.1771 V MCRMSE: 0.1783\n",
            "Epoch 47\n"
          ],
          "name": "stdout"
        },
        {
          "output_type": "stream",
          "text": [
            "100%|██████████| 244/244 [00:29<00:00,  8.27it/s]\n",
            "100%|██████████| 20/20 [00:00<00:00, 21.28it/s]\n",
            "  0%|          | 1/244 [00:00<00:29,  8.30it/s]"
          ],
          "name": "stderr"
        },
        {
          "output_type": "stream",
          "text": [
            "T Loss: 0.1663 V Loss: 0.1735 V MCRMSE: 0.1748\n",
            "Best valid MCRMSE updated to 0.17480972409248352\n",
            "Epoch 48\n"
          ],
          "name": "stdout"
        },
        {
          "output_type": "stream",
          "text": [
            "100%|██████████| 244/244 [00:29<00:00,  8.26it/s]\n",
            "100%|██████████| 20/20 [00:00<00:00, 21.26it/s]\n",
            "  0%|          | 1/244 [00:00<00:29,  8.20it/s]"
          ],
          "name": "stderr"
        },
        {
          "output_type": "stream",
          "text": [
            "T Loss: 0.1650 V Loss: 0.1746 V MCRMSE: 0.1758\n",
            "Epoch 49\n"
          ],
          "name": "stdout"
        },
        {
          "output_type": "stream",
          "text": [
            "100%|██████████| 244/244 [00:29<00:00,  8.28it/s]\n",
            "100%|██████████| 20/20 [00:00<00:00, 21.24it/s]\n",
            "  0%|          | 1/244 [00:00<00:29,  8.29it/s]"
          ],
          "name": "stderr"
        },
        {
          "output_type": "stream",
          "text": [
            "T Loss: 0.1647 V Loss: 0.1747 V MCRMSE: 0.1760\n",
            "Epoch 50\n"
          ],
          "name": "stdout"
        },
        {
          "output_type": "stream",
          "text": [
            "100%|██████████| 244/244 [00:29<00:00,  8.27it/s]\n",
            "100%|██████████| 20/20 [00:00<00:00, 21.09it/s]\n",
            "  0%|          | 1/244 [00:00<00:29,  8.17it/s]"
          ],
          "name": "stderr"
        },
        {
          "output_type": "stream",
          "text": [
            "T Loss: 0.1640 V Loss: 0.1747 V MCRMSE: 0.1759\n",
            "Epoch 51\n"
          ],
          "name": "stdout"
        },
        {
          "output_type": "stream",
          "text": [
            "100%|██████████| 244/244 [00:29<00:00,  8.26it/s]\n",
            "100%|██████████| 20/20 [00:00<00:00, 21.29it/s]\n",
            "  0%|          | 1/244 [00:00<00:29,  8.30it/s]"
          ],
          "name": "stderr"
        },
        {
          "output_type": "stream",
          "text": [
            "T Loss: 0.1637 V Loss: 0.1801 V MCRMSE: 0.1813\n",
            "Epoch 52\n"
          ],
          "name": "stdout"
        },
        {
          "output_type": "stream",
          "text": [
            "100%|██████████| 244/244 [00:29<00:00,  8.26it/s]\n",
            "100%|██████████| 20/20 [00:00<00:00, 21.27it/s]\n",
            "  0%|          | 1/244 [00:00<00:29,  8.34it/s]"
          ],
          "name": "stderr"
        },
        {
          "output_type": "stream",
          "text": [
            "T Loss: 0.1624 V Loss: 0.1724 V MCRMSE: 0.1738\n",
            "Best valid MCRMSE updated to 0.17378997802734375\n",
            "Epoch 53\n"
          ],
          "name": "stdout"
        },
        {
          "output_type": "stream",
          "text": [
            "100%|██████████| 244/244 [00:29<00:00,  8.26it/s]\n",
            "100%|██████████| 20/20 [00:00<00:00, 21.11it/s]\n",
            "  0%|          | 1/244 [00:00<00:29,  8.12it/s]"
          ],
          "name": "stderr"
        },
        {
          "output_type": "stream",
          "text": [
            "T Loss: 0.1616 V Loss: 0.1743 V MCRMSE: 0.1757\n",
            "Epoch 54\n"
          ],
          "name": "stdout"
        },
        {
          "output_type": "stream",
          "text": [
            "100%|██████████| 244/244 [00:29<00:00,  8.26it/s]\n",
            "100%|██████████| 20/20 [00:00<00:00, 21.24it/s]\n",
            "  0%|          | 1/244 [00:00<00:29,  8.25it/s]"
          ],
          "name": "stderr"
        },
        {
          "output_type": "stream",
          "text": [
            "T Loss: 0.1615 V Loss: 0.1697 V MCRMSE: 0.1712\n",
            "Best valid MCRMSE updated to 0.1712348908185959\n",
            "Epoch 55\n"
          ],
          "name": "stdout"
        },
        {
          "output_type": "stream",
          "text": [
            "100%|██████████| 244/244 [00:29<00:00,  8.27it/s]\n",
            "100%|██████████| 20/20 [00:00<00:00, 21.19it/s]\n",
            "  0%|          | 1/244 [00:00<00:29,  8.32it/s]"
          ],
          "name": "stderr"
        },
        {
          "output_type": "stream",
          "text": [
            "T Loss: 0.1611 V Loss: 0.1709 V MCRMSE: 0.1723\n",
            "Epoch 56\n"
          ],
          "name": "stdout"
        },
        {
          "output_type": "stream",
          "text": [
            "100%|██████████| 244/244 [00:29<00:00,  8.26it/s]\n",
            "100%|██████████| 20/20 [00:00<00:00, 21.10it/s]\n",
            "  0%|          | 1/244 [00:00<00:29,  8.27it/s]"
          ],
          "name": "stderr"
        },
        {
          "output_type": "stream",
          "text": [
            "T Loss: 0.1621 V Loss: 0.1698 V MCRMSE: 0.1712\n",
            "Best valid MCRMSE updated to 0.17123305797576904\n",
            "Epoch 57\n"
          ],
          "name": "stdout"
        },
        {
          "output_type": "stream",
          "text": [
            "100%|██████████| 244/244 [00:29<00:00,  8.27it/s]\n",
            "100%|██████████| 20/20 [00:00<00:00, 21.28it/s]\n",
            "  0%|          | 1/244 [00:00<00:29,  8.37it/s]"
          ],
          "name": "stderr"
        },
        {
          "output_type": "stream",
          "text": [
            "T Loss: 0.1602 V Loss: 0.1700 V MCRMSE: 0.1714\n",
            "Epoch 58\n"
          ],
          "name": "stdout"
        },
        {
          "output_type": "stream",
          "text": [
            "100%|██████████| 244/244 [00:29<00:00,  8.27it/s]\n",
            "100%|██████████| 20/20 [00:00<00:00, 21.18it/s]\n",
            "  0%|          | 1/244 [00:00<00:29,  8.30it/s]"
          ],
          "name": "stderr"
        },
        {
          "output_type": "stream",
          "text": [
            "T Loss: 0.1597 V Loss: 0.1687 V MCRMSE: 0.1702\n",
            "Best valid MCRMSE updated to 0.1701669991016388\n",
            "Epoch 59\n"
          ],
          "name": "stdout"
        },
        {
          "output_type": "stream",
          "text": [
            "100%|██████████| 244/244 [00:29<00:00,  8.27it/s]\n",
            "100%|██████████| 20/20 [00:00<00:00, 21.21it/s]\n",
            "  0%|          | 1/244 [00:00<00:29,  8.17it/s]"
          ],
          "name": "stderr"
        },
        {
          "output_type": "stream",
          "text": [
            "T Loss: 0.1588 V Loss: 0.1691 V MCRMSE: 0.1705\n",
            "Epoch 60\n"
          ],
          "name": "stdout"
        },
        {
          "output_type": "stream",
          "text": [
            "100%|██████████| 244/244 [00:29<00:00,  8.27it/s]\n",
            "100%|██████████| 20/20 [00:00<00:00, 21.27it/s]\n",
            "  0%|          | 1/244 [00:00<00:29,  8.25it/s]"
          ],
          "name": "stderr"
        },
        {
          "output_type": "stream",
          "text": [
            "T Loss: 0.1587 V Loss: 0.1711 V MCRMSE: 0.1725\n",
            "Epoch 61\n"
          ],
          "name": "stdout"
        },
        {
          "output_type": "stream",
          "text": [
            "100%|██████████| 244/244 [00:29<00:00,  8.25it/s]\n",
            "100%|██████████| 20/20 [00:00<00:00, 21.18it/s]\n",
            "  0%|          | 1/244 [00:00<00:29,  8.29it/s]"
          ],
          "name": "stderr"
        },
        {
          "output_type": "stream",
          "text": [
            "T Loss: 0.1579 V Loss: 0.1690 V MCRMSE: 0.1704\n",
            "Epoch 62\n"
          ],
          "name": "stdout"
        },
        {
          "output_type": "stream",
          "text": [
            "100%|██████████| 244/244 [00:29<00:00,  8.26it/s]\n",
            "100%|██████████| 20/20 [00:00<00:00, 21.29it/s]\n",
            "  0%|          | 1/244 [00:00<00:29,  8.30it/s]"
          ],
          "name": "stderr"
        },
        {
          "output_type": "stream",
          "text": [
            "T Loss: 0.1575 V Loss: 0.1692 V MCRMSE: 0.1707\n",
            "Epoch 63\n"
          ],
          "name": "stdout"
        },
        {
          "output_type": "stream",
          "text": [
            "100%|██████████| 244/244 [00:29<00:00,  8.26it/s]\n",
            "100%|██████████| 20/20 [00:00<00:00, 21.19it/s]\n",
            "  0%|          | 1/244 [00:00<00:29,  8.27it/s]"
          ],
          "name": "stderr"
        },
        {
          "output_type": "stream",
          "text": [
            "T Loss: 0.1574 V Loss: 0.1688 V MCRMSE: 0.1703\n",
            "Epoch 64\n"
          ],
          "name": "stdout"
        },
        {
          "output_type": "stream",
          "text": [
            "100%|██████████| 244/244 [00:29<00:00,  8.25it/s]\n",
            "100%|██████████| 20/20 [00:00<00:00, 21.03it/s]\n",
            "  0%|          | 1/244 [00:00<00:29,  8.31it/s]"
          ],
          "name": "stderr"
        },
        {
          "output_type": "stream",
          "text": [
            "T Loss: 0.1564 V Loss: 0.1664 V MCRMSE: 0.1679\n",
            "Best valid MCRMSE updated to 0.167878195643425\n",
            "Epoch 65\n"
          ],
          "name": "stdout"
        },
        {
          "output_type": "stream",
          "text": [
            "100%|██████████| 244/244 [00:29<00:00,  8.27it/s]\n",
            "100%|██████████| 20/20 [00:00<00:00, 21.31it/s]\n",
            "  0%|          | 1/244 [00:00<00:29,  8.32it/s]"
          ],
          "name": "stderr"
        },
        {
          "output_type": "stream",
          "text": [
            "T Loss: 0.1560 V Loss: 0.1671 V MCRMSE: 0.1686\n",
            "Epoch 66\n"
          ],
          "name": "stdout"
        },
        {
          "output_type": "stream",
          "text": [
            "100%|██████████| 244/244 [00:29<00:00,  8.27it/s]\n",
            "100%|██████████| 20/20 [00:00<00:00, 21.28it/s]\n",
            "  0%|          | 1/244 [00:00<00:29,  8.23it/s]"
          ],
          "name": "stderr"
        },
        {
          "output_type": "stream",
          "text": [
            "T Loss: 0.1552 V Loss: 0.1660 V MCRMSE: 0.1675\n",
            "Best valid MCRMSE updated to 0.16751019656658173\n",
            "Epoch 67\n"
          ],
          "name": "stdout"
        },
        {
          "output_type": "stream",
          "text": [
            "100%|██████████| 244/244 [00:29<00:00,  8.25it/s]\n",
            "100%|██████████| 20/20 [00:00<00:00, 21.09it/s]\n",
            "  0%|          | 1/244 [00:00<00:29,  8.36it/s]"
          ],
          "name": "stderr"
        },
        {
          "output_type": "stream",
          "text": [
            "T Loss: 0.1545 V Loss: 0.1674 V MCRMSE: 0.1688\n",
            "Epoch 68\n"
          ],
          "name": "stdout"
        },
        {
          "output_type": "stream",
          "text": [
            "100%|██████████| 244/244 [00:29<00:00,  8.24it/s]\n",
            "100%|██████████| 20/20 [00:00<00:00, 21.19it/s]\n",
            "  0%|          | 1/244 [00:00<00:29,  8.36it/s]"
          ],
          "name": "stderr"
        },
        {
          "output_type": "stream",
          "text": [
            "T Loss: 0.1550 V Loss: 0.1674 V MCRMSE: 0.1689\n",
            "Epoch 69\n"
          ],
          "name": "stdout"
        },
        {
          "output_type": "stream",
          "text": [
            "100%|██████████| 244/244 [00:29<00:00,  8.24it/s]\n",
            "100%|██████████| 20/20 [00:00<00:00, 21.11it/s]\n",
            "  0%|          | 1/244 [00:00<00:29,  8.17it/s]"
          ],
          "name": "stderr"
        },
        {
          "output_type": "stream",
          "text": [
            "T Loss: 0.1544 V Loss: 0.1680 V MCRMSE: 0.1695\n",
            "Epoch 70\n"
          ],
          "name": "stdout"
        },
        {
          "output_type": "stream",
          "text": [
            "100%|██████████| 244/244 [00:29<00:00,  8.24it/s]\n",
            "100%|██████████| 20/20 [00:00<00:00, 21.07it/s]\n",
            "  0%|          | 1/244 [00:00<00:29,  8.37it/s]"
          ],
          "name": "stderr"
        },
        {
          "output_type": "stream",
          "text": [
            "T Loss: 0.1537 V Loss: 0.1675 V MCRMSE: 0.1691\n",
            "Epoch 71\n"
          ],
          "name": "stdout"
        },
        {
          "output_type": "stream",
          "text": [
            "100%|██████████| 244/244 [00:29<00:00,  8.22it/s]\n",
            "100%|██████████| 20/20 [00:00<00:00, 21.16it/s]\n",
            "  0%|          | 1/244 [00:00<00:29,  8.25it/s]"
          ],
          "name": "stderr"
        },
        {
          "output_type": "stream",
          "text": [
            "T Loss: 0.1537 V Loss: 0.1650 V MCRMSE: 0.1666\n",
            "Best valid MCRMSE updated to 0.16660428047180176\n",
            "Epoch 72\n"
          ],
          "name": "stdout"
        },
        {
          "output_type": "stream",
          "text": [
            "100%|██████████| 244/244 [00:29<00:00,  8.24it/s]\n",
            "100%|██████████| 20/20 [00:00<00:00, 21.28it/s]\n",
            "  0%|          | 1/244 [00:00<00:29,  8.33it/s]"
          ],
          "name": "stderr"
        },
        {
          "output_type": "stream",
          "text": [
            "T Loss: 0.1528 V Loss: 0.1652 V MCRMSE: 0.1669\n",
            "Epoch 73\n"
          ],
          "name": "stdout"
        },
        {
          "output_type": "stream",
          "text": [
            "100%|██████████| 244/244 [00:29<00:00,  8.26it/s]\n",
            "100%|██████████| 20/20 [00:00<00:00, 21.27it/s]\n",
            "  0%|          | 1/244 [00:00<00:29,  8.32it/s]"
          ],
          "name": "stderr"
        },
        {
          "output_type": "stream",
          "text": [
            "T Loss: 0.1524 V Loss: 0.1661 V MCRMSE: 0.1679\n",
            "Epoch 74\n"
          ],
          "name": "stdout"
        },
        {
          "output_type": "stream",
          "text": [
            "100%|██████████| 244/244 [00:29<00:00,  8.26it/s]\n",
            "100%|██████████| 20/20 [00:00<00:00, 21.25it/s]\n",
            "  0%|          | 1/244 [00:00<00:29,  8.23it/s]"
          ],
          "name": "stderr"
        },
        {
          "output_type": "stream",
          "text": [
            "T Loss: 0.1522 V Loss: 0.1660 V MCRMSE: 0.1677\n",
            "Epoch 75\n"
          ],
          "name": "stdout"
        },
        {
          "output_type": "stream",
          "text": [
            "100%|██████████| 244/244 [00:29<00:00,  8.26it/s]\n",
            "100%|██████████| 20/20 [00:00<00:00, 21.22it/s]\n",
            "  0%|          | 1/244 [00:00<00:29,  8.34it/s]"
          ],
          "name": "stderr"
        },
        {
          "output_type": "stream",
          "text": [
            "T Loss: 0.1518 V Loss: 0.1644 V MCRMSE: 0.1660\n",
            "Best valid MCRMSE updated to 0.16601869463920593\n",
            "Epoch 76\n"
          ],
          "name": "stdout"
        },
        {
          "output_type": "stream",
          "text": [
            "100%|██████████| 244/244 [00:29<00:00,  8.26it/s]\n",
            "100%|██████████| 20/20 [00:00<00:00, 21.16it/s]\n",
            "  0%|          | 1/244 [00:00<00:29,  8.38it/s]"
          ],
          "name": "stderr"
        },
        {
          "output_type": "stream",
          "text": [
            "T Loss: 0.1516 V Loss: 0.1636 V MCRMSE: 0.1654\n",
            "Best valid MCRMSE updated to 0.16538043320178986\n",
            "Epoch 77\n"
          ],
          "name": "stdout"
        },
        {
          "output_type": "stream",
          "text": [
            "100%|██████████| 244/244 [00:29<00:00,  8.26it/s]\n",
            "100%|██████████| 20/20 [00:00<00:00, 21.14it/s]\n",
            "  0%|          | 1/244 [00:00<00:29,  8.26it/s]"
          ],
          "name": "stderr"
        },
        {
          "output_type": "stream",
          "text": [
            "T Loss: 0.1513 V Loss: 0.1631 V MCRMSE: 0.1649\n",
            "Best valid MCRMSE updated to 0.16487327218055725\n",
            "Epoch 78\n"
          ],
          "name": "stdout"
        },
        {
          "output_type": "stream",
          "text": [
            "100%|██████████| 244/244 [00:29<00:00,  8.26it/s]\n",
            "100%|██████████| 20/20 [00:00<00:00, 21.06it/s]\n",
            "  0%|          | 1/244 [00:00<00:29,  8.33it/s]"
          ],
          "name": "stderr"
        },
        {
          "output_type": "stream",
          "text": [
            "T Loss: 0.1508 V Loss: 0.1673 V MCRMSE: 0.1689\n",
            "Epoch 79\n"
          ],
          "name": "stdout"
        },
        {
          "output_type": "stream",
          "text": [
            "100%|██████████| 244/244 [00:29<00:00,  8.27it/s]\n",
            "100%|██████████| 20/20 [00:00<00:00, 21.29it/s]\n",
            "  0%|          | 1/244 [00:00<00:29,  8.33it/s]"
          ],
          "name": "stderr"
        },
        {
          "output_type": "stream",
          "text": [
            "T Loss: 0.1511 V Loss: 0.1644 V MCRMSE: 0.1661\n",
            "Epoch 80\n"
          ],
          "name": "stdout"
        },
        {
          "output_type": "stream",
          "text": [
            "100%|██████████| 244/244 [00:29<00:00,  8.25it/s]\n",
            "100%|██████████| 20/20 [00:00<00:00, 21.18it/s]\n",
            "  0%|          | 1/244 [00:00<00:29,  8.13it/s]"
          ],
          "name": "stderr"
        },
        {
          "output_type": "stream",
          "text": [
            "T Loss: 0.1504 V Loss: 0.1628 V MCRMSE: 0.1646\n",
            "Best valid MCRMSE updated to 0.16455017030239105\n",
            "Epoch 81\n"
          ],
          "name": "stdout"
        },
        {
          "output_type": "stream",
          "text": [
            "100%|██████████| 244/244 [00:29<00:00,  8.22it/s]\n",
            "100%|██████████| 20/20 [00:00<00:00, 21.22it/s]\n",
            "  0%|          | 1/244 [00:00<00:29,  8.36it/s]"
          ],
          "name": "stderr"
        },
        {
          "output_type": "stream",
          "text": [
            "T Loss: 0.1503 V Loss: 0.1628 V MCRMSE: 0.1647\n",
            "Epoch 82\n"
          ],
          "name": "stdout"
        },
        {
          "output_type": "stream",
          "text": [
            "100%|██████████| 244/244 [00:29<00:00,  8.26it/s]\n",
            "100%|██████████| 20/20 [00:00<00:00, 21.19it/s]\n",
            "  0%|          | 1/244 [00:00<00:29,  8.23it/s]"
          ],
          "name": "stderr"
        },
        {
          "output_type": "stream",
          "text": [
            "T Loss: 0.1493 V Loss: 0.1643 V MCRMSE: 0.1660\n",
            "Epoch 83\n"
          ],
          "name": "stdout"
        },
        {
          "output_type": "stream",
          "text": [
            "100%|██████████| 244/244 [00:29<00:00,  8.24it/s]\n",
            "100%|██████████| 20/20 [00:00<00:00, 21.09it/s]\n",
            "  0%|          | 1/244 [00:00<00:29,  8.19it/s]"
          ],
          "name": "stderr"
        },
        {
          "output_type": "stream",
          "text": [
            "T Loss: 0.1489 V Loss: 0.1616 V MCRMSE: 0.1636\n",
            "Best valid MCRMSE updated to 0.163618266582489\n",
            "Epoch 84\n"
          ],
          "name": "stdout"
        },
        {
          "output_type": "stream",
          "text": [
            "100%|██████████| 244/244 [00:29<00:00,  8.23it/s]\n",
            "100%|██████████| 20/20 [00:00<00:00, 20.98it/s]\n",
            "  0%|          | 1/244 [00:00<00:29,  8.34it/s]"
          ],
          "name": "stderr"
        },
        {
          "output_type": "stream",
          "text": [
            "T Loss: 0.1490 V Loss: 0.1635 V MCRMSE: 0.1654\n",
            "Epoch 85\n"
          ],
          "name": "stdout"
        },
        {
          "output_type": "stream",
          "text": [
            "100%|██████████| 244/244 [00:29<00:00,  8.21it/s]\n",
            "100%|██████████| 20/20 [00:00<00:00, 21.16it/s]\n",
            "  0%|          | 1/244 [00:00<00:29,  8.21it/s]"
          ],
          "name": "stderr"
        },
        {
          "output_type": "stream",
          "text": [
            "T Loss: 0.1489 V Loss: 0.1612 V MCRMSE: 0.1631\n",
            "Best valid MCRMSE updated to 0.16305869817733765\n",
            "Epoch 86\n"
          ],
          "name": "stdout"
        },
        {
          "output_type": "stream",
          "text": [
            "100%|██████████| 244/244 [00:29<00:00,  8.24it/s]\n",
            "100%|██████████| 20/20 [00:00<00:00, 21.20it/s]\n",
            "  0%|          | 1/244 [00:00<00:29,  8.24it/s]"
          ],
          "name": "stderr"
        },
        {
          "output_type": "stream",
          "text": [
            "T Loss: 0.1482 V Loss: 0.1626 V MCRMSE: 0.1644\n",
            "Epoch 87\n"
          ],
          "name": "stdout"
        },
        {
          "output_type": "stream",
          "text": [
            "100%|██████████| 244/244 [00:29<00:00,  8.25it/s]\n",
            "100%|██████████| 20/20 [00:00<00:00, 21.18it/s]\n",
            "  0%|          | 1/244 [00:00<00:29,  8.27it/s]"
          ],
          "name": "stderr"
        },
        {
          "output_type": "stream",
          "text": [
            "T Loss: 0.1482 V Loss: 0.1619 V MCRMSE: 0.1638\n",
            "Epoch 88\n"
          ],
          "name": "stdout"
        },
        {
          "output_type": "stream",
          "text": [
            "100%|██████████| 244/244 [00:29<00:00,  8.23it/s]\n",
            "100%|██████████| 20/20 [00:00<00:00, 21.26it/s]\n",
            "  0%|          | 1/244 [00:00<00:29,  8.24it/s]"
          ],
          "name": "stderr"
        },
        {
          "output_type": "stream",
          "text": [
            "T Loss: 0.1477 V Loss: 0.1616 V MCRMSE: 0.1635\n",
            "Epoch 89\n"
          ],
          "name": "stdout"
        },
        {
          "output_type": "stream",
          "text": [
            "100%|██████████| 244/244 [00:29<00:00,  8.24it/s]\n",
            "100%|██████████| 20/20 [00:00<00:00, 21.14it/s]\n",
            "  0%|          | 1/244 [00:00<00:29,  8.31it/s]"
          ],
          "name": "stderr"
        },
        {
          "output_type": "stream",
          "text": [
            "T Loss: 0.1476 V Loss: 0.1625 V MCRMSE: 0.1644\n",
            "Epoch 90\n"
          ],
          "name": "stdout"
        },
        {
          "output_type": "stream",
          "text": [
            "100%|██████████| 244/244 [00:29<00:00,  8.22it/s]\n",
            "100%|██████████| 20/20 [00:00<00:00, 21.01it/s]\n",
            "  0%|          | 1/244 [00:00<00:29,  8.20it/s]"
          ],
          "name": "stderr"
        },
        {
          "output_type": "stream",
          "text": [
            "T Loss: 0.1473 V Loss: 0.1639 V MCRMSE: 0.1656\n",
            "Epoch 91\n"
          ],
          "name": "stdout"
        },
        {
          "output_type": "stream",
          "text": [
            "100%|██████████| 244/244 [00:29<00:00,  8.24it/s]\n",
            "100%|██████████| 20/20 [00:00<00:00, 21.18it/s]\n",
            "  0%|          | 1/244 [00:00<00:29,  8.30it/s]"
          ],
          "name": "stderr"
        },
        {
          "output_type": "stream",
          "text": [
            "T Loss: 0.1472 V Loss: 0.1612 V MCRMSE: 0.1630\n",
            "Best valid MCRMSE updated to 0.16298991441726685\n",
            "Epoch 92\n"
          ],
          "name": "stdout"
        },
        {
          "output_type": "stream",
          "text": [
            "100%|██████████| 244/244 [00:29<00:00,  8.24it/s]\n",
            "100%|██████████| 20/20 [00:00<00:00, 21.03it/s]\n",
            "  0%|          | 1/244 [00:00<00:29,  8.20it/s]"
          ],
          "name": "stderr"
        },
        {
          "output_type": "stream",
          "text": [
            "T Loss: 0.1469 V Loss: 0.1608 V MCRMSE: 0.1628\n",
            "Best valid MCRMSE updated to 0.1627945601940155\n",
            "Epoch 93\n"
          ],
          "name": "stdout"
        },
        {
          "output_type": "stream",
          "text": [
            "100%|██████████| 244/244 [00:29<00:00,  8.22it/s]\n",
            "100%|██████████| 20/20 [00:00<00:00, 21.15it/s]\n",
            "  0%|          | 1/244 [00:00<00:30,  8.10it/s]"
          ],
          "name": "stderr"
        },
        {
          "output_type": "stream",
          "text": [
            "T Loss: 0.1463 V Loss: 0.1605 V MCRMSE: 0.1623\n",
            "Best valid MCRMSE updated to 0.16232895851135254\n",
            "Epoch 94\n"
          ],
          "name": "stdout"
        },
        {
          "output_type": "stream",
          "text": [
            "100%|██████████| 244/244 [00:29<00:00,  8.22it/s]\n",
            "100%|██████████| 20/20 [00:00<00:00, 21.05it/s]\n",
            "  0%|          | 1/244 [00:00<00:29,  8.27it/s]"
          ],
          "name": "stderr"
        },
        {
          "output_type": "stream",
          "text": [
            "T Loss: 0.1461 V Loss: 0.1622 V MCRMSE: 0.1639\n",
            "Epoch 95\n"
          ],
          "name": "stdout"
        },
        {
          "output_type": "stream",
          "text": [
            "100%|██████████| 244/244 [00:29<00:00,  8.22it/s]\n",
            "100%|██████████| 20/20 [00:00<00:00, 21.03it/s]\n",
            "  0%|          | 1/244 [00:00<00:29,  8.22it/s]"
          ],
          "name": "stderr"
        },
        {
          "output_type": "stream",
          "text": [
            "T Loss: 0.1461 V Loss: 0.1619 V MCRMSE: 0.1638\n",
            "Epoch 96\n"
          ],
          "name": "stdout"
        },
        {
          "output_type": "stream",
          "text": [
            "100%|██████████| 244/244 [00:29<00:00,  8.20it/s]\n",
            "100%|██████████| 20/20 [00:00<00:00, 21.14it/s]\n",
            "  0%|          | 1/244 [00:00<00:29,  8.27it/s]"
          ],
          "name": "stderr"
        },
        {
          "output_type": "stream",
          "text": [
            "T Loss: 0.1456 V Loss: 0.1592 V MCRMSE: 0.1610\n",
            "Best valid MCRMSE updated to 0.16101859509944916\n",
            "Epoch 97\n"
          ],
          "name": "stdout"
        },
        {
          "output_type": "stream",
          "text": [
            "100%|██████████| 244/244 [00:29<00:00,  8.25it/s]\n",
            "100%|██████████| 20/20 [00:00<00:00, 21.14it/s]\n",
            "  0%|          | 1/244 [00:00<00:29,  8.33it/s]"
          ],
          "name": "stderr"
        },
        {
          "output_type": "stream",
          "text": [
            "T Loss: 0.1450 V Loss: 0.1591 V MCRMSE: 0.1611\n",
            "Epoch 98\n"
          ],
          "name": "stdout"
        },
        {
          "output_type": "stream",
          "text": [
            "100%|██████████| 244/244 [00:29<00:00,  8.23it/s]\n",
            "100%|██████████| 20/20 [00:00<00:00, 21.21it/s]\n",
            "  0%|          | 1/244 [00:00<00:29,  8.26it/s]"
          ],
          "name": "stderr"
        },
        {
          "output_type": "stream",
          "text": [
            "T Loss: 0.1451 V Loss: 0.1608 V MCRMSE: 0.1625\n",
            "Epoch 99\n"
          ],
          "name": "stdout"
        },
        {
          "output_type": "stream",
          "text": [
            "100%|██████████| 244/244 [00:29<00:00,  8.25it/s]\n",
            "100%|██████████| 20/20 [00:00<00:00, 21.15it/s]\n",
            " 15%|█▌        | 3/20 [00:00<00:00, 21.28it/s]"
          ],
          "name": "stderr"
        },
        {
          "output_type": "stream",
          "text": [
            "T Loss: 0.1445 V Loss: 0.1591 V MCRMSE: 0.1611\n"
          ],
          "name": "stdout"
        },
        {
          "output_type": "stream",
          "text": [
            "100%|██████████| 20/20 [00:00<00:00, 21.33it/s]\n"
          ],
          "name": "stderr"
        },
        {
          "output_type": "stream",
          "text": [
            "Fold 6\n"
          ],
          "name": "stdout"
        },
        {
          "output_type": "stream",
          "text": [
            "  0%|          | 1/243 [00:00<00:30,  8.00it/s]"
          ],
          "name": "stderr"
        },
        {
          "output_type": "stream",
          "text": [
            "Epoch 0\n"
          ],
          "name": "stdout"
        },
        {
          "output_type": "stream",
          "text": [
            "100%|██████████| 243/243 [00:29<00:00,  8.22it/s]\n",
            "100%|██████████| 20/20 [00:00<00:00, 20.94it/s]\n",
            "  0%|          | 1/243 [00:00<00:29,  8.33it/s]"
          ],
          "name": "stderr"
        },
        {
          "output_type": "stream",
          "text": [
            "T Loss: 0.3534 V Loss: 0.2924 V MCRMSE: 0.2934\n",
            "Best valid MCRMSE updated to 0.29337766766548157\n",
            "Epoch 1\n"
          ],
          "name": "stdout"
        },
        {
          "output_type": "stream",
          "text": [
            "100%|██████████| 243/243 [00:29<00:00,  8.19it/s]\n",
            "100%|██████████| 20/20 [00:00<00:00, 21.07it/s]\n",
            "  0%|          | 1/243 [00:00<00:29,  8.25it/s]"
          ],
          "name": "stderr"
        },
        {
          "output_type": "stream",
          "text": [
            "T Loss: 0.2882 V Loss: 0.2679 V MCRMSE: 0.2690\n",
            "Best valid MCRMSE updated to 0.26895344257354736\n",
            "Epoch 2\n"
          ],
          "name": "stdout"
        },
        {
          "output_type": "stream",
          "text": [
            "100%|██████████| 243/243 [00:29<00:00,  8.21it/s]\n",
            "100%|██████████| 20/20 [00:00<00:00, 21.03it/s]\n",
            "  0%|          | 1/243 [00:00<00:28,  8.37it/s]"
          ],
          "name": "stderr"
        },
        {
          "output_type": "stream",
          "text": [
            "T Loss: 0.2698 V Loss: 0.2530 V MCRMSE: 0.2541\n",
            "Best valid MCRMSE updated to 0.25408241152763367\n",
            "Epoch 3\n"
          ],
          "name": "stdout"
        },
        {
          "output_type": "stream",
          "text": [
            "100%|██████████| 243/243 [00:29<00:00,  8.20it/s]\n",
            "100%|██████████| 20/20 [00:00<00:00, 21.10it/s]\n",
            "  0%|          | 1/243 [00:00<00:29,  8.27it/s]"
          ],
          "name": "stderr"
        },
        {
          "output_type": "stream",
          "text": [
            "T Loss: 0.2573 V Loss: 0.2460 V MCRMSE: 0.2471\n",
            "Best valid MCRMSE updated to 0.247147798538208\n",
            "Epoch 4\n"
          ],
          "name": "stdout"
        },
        {
          "output_type": "stream",
          "text": [
            "100%|██████████| 243/243 [00:29<00:00,  8.23it/s]\n",
            "100%|██████████| 20/20 [00:00<00:00, 21.08it/s]\n",
            "  0%|          | 1/243 [00:00<00:29,  8.31it/s]"
          ],
          "name": "stderr"
        },
        {
          "output_type": "stream",
          "text": [
            "T Loss: 0.2469 V Loss: 0.2367 V MCRMSE: 0.2378\n",
            "Best valid MCRMSE updated to 0.23781031370162964\n",
            "Epoch 5\n"
          ],
          "name": "stdout"
        },
        {
          "output_type": "stream",
          "text": [
            "100%|██████████| 243/243 [00:29<00:00,  8.22it/s]\n",
            "100%|██████████| 20/20 [00:00<00:00, 21.25it/s]\n",
            "  0%|          | 1/243 [00:00<00:29,  8.33it/s]"
          ],
          "name": "stderr"
        },
        {
          "output_type": "stream",
          "text": [
            "T Loss: 0.2407 V Loss: 0.2347 V MCRMSE: 0.2359\n",
            "Best valid MCRMSE updated to 0.23589152097702026\n",
            "Epoch 6\n"
          ],
          "name": "stdout"
        },
        {
          "output_type": "stream",
          "text": [
            "100%|██████████| 243/243 [00:29<00:00,  8.24it/s]\n",
            "100%|██████████| 20/20 [00:00<00:00, 21.13it/s]\n",
            "  0%|          | 1/243 [00:00<00:29,  8.17it/s]"
          ],
          "name": "stderr"
        },
        {
          "output_type": "stream",
          "text": [
            "T Loss: 0.2343 V Loss: 0.2268 V MCRMSE: 0.2279\n",
            "Best valid MCRMSE updated to 0.22792601585388184\n",
            "Epoch 7\n"
          ],
          "name": "stdout"
        },
        {
          "output_type": "stream",
          "text": [
            "100%|██████████| 243/243 [00:29<00:00,  8.20it/s]\n",
            "100%|██████████| 20/20 [00:00<00:00, 21.04it/s]\n",
            "  0%|          | 1/243 [00:00<00:29,  8.32it/s]"
          ],
          "name": "stderr"
        },
        {
          "output_type": "stream",
          "text": [
            "T Loss: 0.2301 V Loss: 0.2247 V MCRMSE: 0.2259\n",
            "Best valid MCRMSE updated to 0.22589795291423798\n",
            "Epoch 8\n"
          ],
          "name": "stdout"
        },
        {
          "output_type": "stream",
          "text": [
            "100%|██████████| 243/243 [00:29<00:00,  8.20it/s]\n",
            "100%|██████████| 20/20 [00:00<00:00, 20.97it/s]\n",
            "  0%|          | 1/243 [00:00<00:29,  8.26it/s]"
          ],
          "name": "stderr"
        },
        {
          "output_type": "stream",
          "text": [
            "T Loss: 0.2263 V Loss: 0.2233 V MCRMSE: 0.2244\n",
            "Best valid MCRMSE updated to 0.2243894338607788\n",
            "Epoch 9\n"
          ],
          "name": "stdout"
        },
        {
          "output_type": "stream",
          "text": [
            "100%|██████████| 243/243 [00:29<00:00,  8.18it/s]\n",
            "100%|██████████| 20/20 [00:00<00:00, 21.00it/s]\n",
            "  0%|          | 1/243 [00:00<00:29,  8.26it/s]"
          ],
          "name": "stderr"
        },
        {
          "output_type": "stream",
          "text": [
            "T Loss: 0.2231 V Loss: 0.2242 V MCRMSE: 0.2253\n",
            "Epoch 10\n"
          ],
          "name": "stdout"
        },
        {
          "output_type": "stream",
          "text": [
            "100%|██████████| 243/243 [00:29<00:00,  8.20it/s]\n",
            "100%|██████████| 20/20 [00:00<00:00, 21.05it/s]\n",
            "  0%|          | 1/243 [00:00<00:28,  8.40it/s]"
          ],
          "name": "stderr"
        },
        {
          "output_type": "stream",
          "text": [
            "T Loss: 0.2183 V Loss: 0.2182 V MCRMSE: 0.2192\n",
            "Best valid MCRMSE updated to 0.21919384598731995\n",
            "Epoch 11\n"
          ],
          "name": "stdout"
        },
        {
          "output_type": "stream",
          "text": [
            "100%|██████████| 243/243 [00:29<00:00,  8.21it/s]\n",
            "100%|██████████| 20/20 [00:00<00:00, 20.97it/s]\n",
            "  0%|          | 1/243 [00:00<00:29,  8.24it/s]"
          ],
          "name": "stderr"
        },
        {
          "output_type": "stream",
          "text": [
            "T Loss: 0.2164 V Loss: 0.2152 V MCRMSE: 0.2162\n",
            "Best valid MCRMSE updated to 0.21621385216712952\n",
            "Epoch 12\n"
          ],
          "name": "stdout"
        },
        {
          "output_type": "stream",
          "text": [
            "100%|██████████| 243/243 [00:29<00:00,  8.23it/s]\n",
            "100%|██████████| 20/20 [00:00<00:00, 21.17it/s]\n",
            "  0%|          | 1/243 [00:00<00:29,  8.29it/s]"
          ],
          "name": "stderr"
        },
        {
          "output_type": "stream",
          "text": [
            "T Loss: 0.2133 V Loss: 0.2167 V MCRMSE: 0.2178\n",
            "Epoch 13\n"
          ],
          "name": "stdout"
        },
        {
          "output_type": "stream",
          "text": [
            "100%|██████████| 243/243 [00:29<00:00,  8.22it/s]\n",
            "100%|██████████| 20/20 [00:00<00:00, 21.08it/s]\n",
            "  0%|          | 1/243 [00:00<00:29,  8.32it/s]"
          ],
          "name": "stderr"
        },
        {
          "output_type": "stream",
          "text": [
            "T Loss: 0.2104 V Loss: 0.2138 V MCRMSE: 0.2146\n",
            "Best valid MCRMSE updated to 0.21462666988372803\n",
            "Epoch 14\n"
          ],
          "name": "stdout"
        },
        {
          "output_type": "stream",
          "text": [
            "100%|██████████| 243/243 [00:29<00:00,  8.22it/s]\n",
            "100%|██████████| 20/20 [00:00<00:00, 21.16it/s]\n",
            "  0%|          | 1/243 [00:00<00:29,  8.34it/s]"
          ],
          "name": "stderr"
        },
        {
          "output_type": "stream",
          "text": [
            "T Loss: 0.2081 V Loss: 0.2070 V MCRMSE: 0.2079\n",
            "Best valid MCRMSE updated to 0.20788702368736267\n",
            "Epoch 15\n"
          ],
          "name": "stdout"
        },
        {
          "output_type": "stream",
          "text": [
            "100%|██████████| 243/243 [00:29<00:00,  8.25it/s]\n",
            "100%|██████████| 20/20 [00:00<00:00, 21.15it/s]\n",
            "  0%|          | 1/243 [00:00<00:29,  8.33it/s]"
          ],
          "name": "stderr"
        },
        {
          "output_type": "stream",
          "text": [
            "T Loss: 0.2049 V Loss: 0.2040 V MCRMSE: 0.2050\n",
            "Best valid MCRMSE updated to 0.20501983165740967\n",
            "Epoch 16\n"
          ],
          "name": "stdout"
        },
        {
          "output_type": "stream",
          "text": [
            "100%|██████████| 243/243 [00:29<00:00,  8.24it/s]\n",
            "100%|██████████| 20/20 [00:00<00:00, 21.18it/s]\n",
            "  0%|          | 1/243 [00:00<00:29,  8.22it/s]"
          ],
          "name": "stderr"
        },
        {
          "output_type": "stream",
          "text": [
            "T Loss: 0.2026 V Loss: 0.2042 V MCRMSE: 0.2052\n",
            "Epoch 17\n"
          ],
          "name": "stdout"
        },
        {
          "output_type": "stream",
          "text": [
            "100%|██████████| 243/243 [00:29<00:00,  8.26it/s]\n",
            "100%|██████████| 20/20 [00:00<00:00, 21.23it/s]\n",
            "  0%|          | 1/243 [00:00<00:29,  8.21it/s]"
          ],
          "name": "stderr"
        },
        {
          "output_type": "stream",
          "text": [
            "T Loss: 0.2009 V Loss: 0.2034 V MCRMSE: 0.2042\n",
            "Best valid MCRMSE updated to 0.20422981679439545\n",
            "Epoch 18\n"
          ],
          "name": "stdout"
        },
        {
          "output_type": "stream",
          "text": [
            "100%|██████████| 243/243 [00:29<00:00,  8.26it/s]\n",
            "100%|██████████| 20/20 [00:00<00:00, 21.20it/s]\n",
            "  0%|          | 1/243 [00:00<00:29,  8.32it/s]"
          ],
          "name": "stderr"
        },
        {
          "output_type": "stream",
          "text": [
            "T Loss: 0.1988 V Loss: 0.1978 V MCRMSE: 0.1987\n",
            "Best valid MCRMSE updated to 0.198728546500206\n",
            "Epoch 19\n"
          ],
          "name": "stdout"
        },
        {
          "output_type": "stream",
          "text": [
            "100%|██████████| 243/243 [00:29<00:00,  8.24it/s]\n",
            "100%|██████████| 20/20 [00:00<00:00, 21.08it/s]\n",
            "  0%|          | 1/243 [00:00<00:29,  8.21it/s]"
          ],
          "name": "stderr"
        },
        {
          "output_type": "stream",
          "text": [
            "T Loss: 0.1965 V Loss: 0.1996 V MCRMSE: 0.2005\n",
            "Epoch 20\n"
          ],
          "name": "stdout"
        },
        {
          "output_type": "stream",
          "text": [
            "100%|██████████| 243/243 [00:29<00:00,  8.25it/s]\n",
            "100%|██████████| 20/20 [00:00<00:00, 21.16it/s]\n",
            "  0%|          | 1/243 [00:00<00:28,  8.35it/s]"
          ],
          "name": "stderr"
        },
        {
          "output_type": "stream",
          "text": [
            "T Loss: 0.1958 V Loss: 0.1969 V MCRMSE: 0.1977\n",
            "Best valid MCRMSE updated to 0.19773486256599426\n",
            "Epoch 21\n"
          ],
          "name": "stdout"
        },
        {
          "output_type": "stream",
          "text": [
            "100%|██████████| 243/243 [00:29<00:00,  8.25it/s]\n",
            "100%|██████████| 20/20 [00:00<00:00, 21.06it/s]\n",
            "  0%|          | 1/243 [00:00<00:29,  8.21it/s]"
          ],
          "name": "stderr"
        },
        {
          "output_type": "stream",
          "text": [
            "T Loss: 0.1936 V Loss: 0.1962 V MCRMSE: 0.1969\n",
            "Best valid MCRMSE updated to 0.196935772895813\n",
            "Epoch 22\n"
          ],
          "name": "stdout"
        },
        {
          "output_type": "stream",
          "text": [
            "100%|██████████| 243/243 [00:29<00:00,  8.24it/s]\n",
            "100%|██████████| 20/20 [00:00<00:00, 21.17it/s]\n",
            "  0%|          | 1/243 [00:00<00:28,  8.38it/s]"
          ],
          "name": "stderr"
        },
        {
          "output_type": "stream",
          "text": [
            "T Loss: 0.1914 V Loss: 0.1925 V MCRMSE: 0.1933\n",
            "Best valid MCRMSE updated to 0.19332146644592285\n",
            "Epoch 23\n"
          ],
          "name": "stdout"
        },
        {
          "output_type": "stream",
          "text": [
            "100%|██████████| 243/243 [00:29<00:00,  8.24it/s]\n",
            "100%|██████████| 20/20 [00:00<00:00, 21.11it/s]\n",
            "  0%|          | 1/243 [00:00<00:29,  8.18it/s]"
          ],
          "name": "stderr"
        },
        {
          "output_type": "stream",
          "text": [
            "T Loss: 0.1898 V Loss: 0.1903 V MCRMSE: 0.1910\n",
            "Best valid MCRMSE updated to 0.19103878736495972\n",
            "Epoch 24\n"
          ],
          "name": "stdout"
        },
        {
          "output_type": "stream",
          "text": [
            "100%|██████████| 243/243 [00:29<00:00,  8.23it/s]\n",
            "100%|██████████| 20/20 [00:00<00:00, 21.16it/s]\n",
            "  0%|          | 1/243 [00:00<00:29,  8.31it/s]"
          ],
          "name": "stderr"
        },
        {
          "output_type": "stream",
          "text": [
            "T Loss: 0.1883 V Loss: 0.1914 V MCRMSE: 0.1921\n",
            "Epoch 25\n"
          ],
          "name": "stdout"
        },
        {
          "output_type": "stream",
          "text": [
            "100%|██████████| 243/243 [00:29<00:00,  8.25it/s]\n",
            "100%|██████████| 20/20 [00:00<00:00, 21.13it/s]\n",
            "  0%|          | 1/243 [00:00<00:29,  8.23it/s]"
          ],
          "name": "stderr"
        },
        {
          "output_type": "stream",
          "text": [
            "T Loss: 0.1868 V Loss: 0.1870 V MCRMSE: 0.1877\n",
            "Best valid MCRMSE updated to 0.1877327412366867\n",
            "Epoch 26\n"
          ],
          "name": "stdout"
        },
        {
          "output_type": "stream",
          "text": [
            "100%|██████████| 243/243 [00:29<00:00,  8.25it/s]\n",
            "100%|██████████| 20/20 [00:00<00:00, 21.17it/s]\n",
            "  0%|          | 1/243 [00:00<00:29,  8.23it/s]"
          ],
          "name": "stderr"
        },
        {
          "output_type": "stream",
          "text": [
            "T Loss: 0.1858 V Loss: 0.1872 V MCRMSE: 0.1879\n",
            "Epoch 27\n"
          ],
          "name": "stdout"
        },
        {
          "output_type": "stream",
          "text": [
            "100%|██████████| 243/243 [00:29<00:00,  8.24it/s]\n",
            "100%|██████████| 20/20 [00:00<00:00, 21.16it/s]\n",
            "  0%|          | 1/243 [00:00<00:28,  8.35it/s]"
          ],
          "name": "stderr"
        },
        {
          "output_type": "stream",
          "text": [
            "T Loss: 0.1844 V Loss: 0.1855 V MCRMSE: 0.1862\n",
            "Best valid MCRMSE updated to 0.18621353805065155\n",
            "Epoch 28\n"
          ],
          "name": "stdout"
        },
        {
          "output_type": "stream",
          "text": [
            "100%|██████████| 243/243 [00:29<00:00,  8.23it/s]\n",
            "100%|██████████| 20/20 [00:00<00:00, 21.21it/s]\n",
            "  0%|          | 1/243 [00:00<00:29,  8.26it/s]"
          ],
          "name": "stderr"
        },
        {
          "output_type": "stream",
          "text": [
            "T Loss: 0.1823 V Loss: 0.1843 V MCRMSE: 0.1849\n",
            "Best valid MCRMSE updated to 0.18493536114692688\n",
            "Epoch 29\n"
          ],
          "name": "stdout"
        },
        {
          "output_type": "stream",
          "text": [
            "100%|██████████| 243/243 [00:29<00:00,  8.25it/s]\n",
            "100%|██████████| 20/20 [00:00<00:00, 21.04it/s]\n",
            "  0%|          | 1/243 [00:00<00:29,  8.23it/s]"
          ],
          "name": "stderr"
        },
        {
          "output_type": "stream",
          "text": [
            "T Loss: 0.1818 V Loss: 0.1840 V MCRMSE: 0.1848\n",
            "Best valid MCRMSE updated to 0.18477992713451385\n",
            "Epoch 30\n"
          ],
          "name": "stdout"
        },
        {
          "output_type": "stream",
          "text": [
            "100%|██████████| 243/243 [00:29<00:00,  8.24it/s]\n",
            "100%|██████████| 20/20 [00:00<00:00, 21.14it/s]\n",
            "  0%|          | 1/243 [00:00<00:29,  8.21it/s]"
          ],
          "name": "stderr"
        },
        {
          "output_type": "stream",
          "text": [
            "T Loss: 0.1805 V Loss: 0.1827 V MCRMSE: 0.1835\n",
            "Best valid MCRMSE updated to 0.1834636926651001\n",
            "Epoch 31\n"
          ],
          "name": "stdout"
        },
        {
          "output_type": "stream",
          "text": [
            "100%|██████████| 243/243 [00:29<00:00,  8.25it/s]\n",
            "100%|██████████| 20/20 [00:00<00:00, 21.23it/s]\n",
            "  0%|          | 1/243 [00:00<00:29,  8.21it/s]"
          ],
          "name": "stderr"
        },
        {
          "output_type": "stream",
          "text": [
            "T Loss: 0.1801 V Loss: 0.1813 V MCRMSE: 0.1821\n",
            "Best valid MCRMSE updated to 0.18214605748653412\n",
            "Epoch 32\n"
          ],
          "name": "stdout"
        },
        {
          "output_type": "stream",
          "text": [
            "100%|██████████| 243/243 [00:29<00:00,  8.21it/s]\n",
            "100%|██████████| 20/20 [00:00<00:00, 21.03it/s]\n",
            "  0%|          | 1/243 [00:00<00:28,  8.36it/s]"
          ],
          "name": "stderr"
        },
        {
          "output_type": "stream",
          "text": [
            "T Loss: 0.1786 V Loss: 0.1799 V MCRMSE: 0.1808\n",
            "Best valid MCRMSE updated to 0.1807718724012375\n",
            "Epoch 33\n"
          ],
          "name": "stdout"
        },
        {
          "output_type": "stream",
          "text": [
            "100%|██████████| 243/243 [00:29<00:00,  8.25it/s]\n",
            "100%|██████████| 20/20 [00:00<00:00, 21.24it/s]\n",
            "  0%|          | 1/243 [00:00<00:29,  8.24it/s]"
          ],
          "name": "stderr"
        },
        {
          "output_type": "stream",
          "text": [
            "T Loss: 0.1775 V Loss: 0.1792 V MCRMSE: 0.1800\n",
            "Best valid MCRMSE updated to 0.18001970648765564\n",
            "Epoch 34\n"
          ],
          "name": "stdout"
        },
        {
          "output_type": "stream",
          "text": [
            "100%|██████████| 243/243 [00:29<00:00,  8.25it/s]\n",
            "100%|██████████| 20/20 [00:00<00:00, 21.18it/s]\n",
            "  0%|          | 1/243 [00:00<00:29,  8.27it/s]"
          ],
          "name": "stderr"
        },
        {
          "output_type": "stream",
          "text": [
            "T Loss: 0.1771 V Loss: 0.1826 V MCRMSE: 0.1835\n",
            "Epoch 35\n"
          ],
          "name": "stdout"
        },
        {
          "output_type": "stream",
          "text": [
            "100%|██████████| 243/243 [00:29<00:00,  8.24it/s]\n",
            "100%|██████████| 20/20 [00:00<00:00, 21.16it/s]\n",
            "  0%|          | 1/243 [00:00<00:29,  8.23it/s]"
          ],
          "name": "stderr"
        },
        {
          "output_type": "stream",
          "text": [
            "T Loss: 0.1759 V Loss: 0.1792 V MCRMSE: 0.1802\n",
            "Epoch 36\n"
          ],
          "name": "stdout"
        },
        {
          "output_type": "stream",
          "text": [
            "100%|██████████| 243/243 [00:29<00:00,  8.25it/s]\n",
            "100%|██████████| 20/20 [00:00<00:00, 21.09it/s]\n",
            "  0%|          | 1/243 [00:00<00:29,  8.33it/s]"
          ],
          "name": "stderr"
        },
        {
          "output_type": "stream",
          "text": [
            "T Loss: 0.1745 V Loss: 0.1776 V MCRMSE: 0.1785\n",
            "Best valid MCRMSE updated to 0.1785120964050293\n",
            "Epoch 37\n"
          ],
          "name": "stdout"
        },
        {
          "output_type": "stream",
          "text": [
            "100%|██████████| 243/243 [00:29<00:00,  8.24it/s]\n",
            "100%|██████████| 20/20 [00:00<00:00, 21.12it/s]\n",
            "  0%|          | 1/243 [00:00<00:29,  8.23it/s]"
          ],
          "name": "stderr"
        },
        {
          "output_type": "stream",
          "text": [
            "T Loss: 0.1731 V Loss: 0.1798 V MCRMSE: 0.1807\n",
            "Epoch 38\n"
          ],
          "name": "stdout"
        },
        {
          "output_type": "stream",
          "text": [
            "100%|██████████| 243/243 [00:29<00:00,  8.26it/s]\n",
            "100%|██████████| 20/20 [00:00<00:00, 21.26it/s]\n",
            "  0%|          | 1/243 [00:00<00:29,  8.32it/s]"
          ],
          "name": "stderr"
        },
        {
          "output_type": "stream",
          "text": [
            "T Loss: 0.1728 V Loss: 0.1780 V MCRMSE: 0.1789\n",
            "Epoch 39\n"
          ],
          "name": "stdout"
        },
        {
          "output_type": "stream",
          "text": [
            "100%|██████████| 243/243 [00:29<00:00,  8.24it/s]\n",
            "100%|██████████| 20/20 [00:00<00:00, 21.10it/s]\n",
            "  0%|          | 1/243 [00:00<00:29,  8.19it/s]"
          ],
          "name": "stderr"
        },
        {
          "output_type": "stream",
          "text": [
            "T Loss: 0.1719 V Loss: 0.1770 V MCRMSE: 0.1780\n",
            "Best valid MCRMSE updated to 0.17797760665416718\n",
            "Epoch 40\n"
          ],
          "name": "stdout"
        },
        {
          "output_type": "stream",
          "text": [
            "100%|██████████| 243/243 [00:29<00:00,  8.23it/s]\n",
            "100%|██████████| 20/20 [00:00<00:00, 21.21it/s]\n",
            "  0%|          | 1/243 [00:00<00:28,  8.36it/s]"
          ],
          "name": "stderr"
        },
        {
          "output_type": "stream",
          "text": [
            "T Loss: 0.1711 V Loss: 0.1751 V MCRMSE: 0.1761\n",
            "Best valid MCRMSE updated to 0.17614945769309998\n",
            "Epoch 41\n"
          ],
          "name": "stdout"
        },
        {
          "output_type": "stream",
          "text": [
            "100%|██████████| 243/243 [00:29<00:00,  8.25it/s]\n",
            "100%|██████████| 20/20 [00:00<00:00, 21.21it/s]\n",
            "  0%|          | 1/243 [00:00<00:28,  8.36it/s]"
          ],
          "name": "stderr"
        },
        {
          "output_type": "stream",
          "text": [
            "T Loss: 0.1708 V Loss: 0.1734 V MCRMSE: 0.1744\n",
            "Best valid MCRMSE updated to 0.17438653111457825\n",
            "Epoch 42\n"
          ],
          "name": "stdout"
        },
        {
          "output_type": "stream",
          "text": [
            "100%|██████████| 243/243 [00:29<00:00,  8.22it/s]\n",
            "100%|██████████| 20/20 [00:00<00:00, 21.16it/s]\n",
            "  0%|          | 1/243 [00:00<00:29,  8.26it/s]"
          ],
          "name": "stderr"
        },
        {
          "output_type": "stream",
          "text": [
            "T Loss: 0.1697 V Loss: 0.1723 V MCRMSE: 0.1733\n",
            "Best valid MCRMSE updated to 0.17332713305950165\n",
            "Epoch 43\n"
          ],
          "name": "stdout"
        },
        {
          "output_type": "stream",
          "text": [
            "100%|██████████| 243/243 [00:29<00:00,  8.24it/s]\n",
            "100%|██████████| 20/20 [00:00<00:00, 21.15it/s]\n",
            "  0%|          | 1/243 [00:00<00:29,  8.25it/s]"
          ],
          "name": "stderr"
        },
        {
          "output_type": "stream",
          "text": [
            "T Loss: 0.1697 V Loss: 0.1724 V MCRMSE: 0.1734\n",
            "Epoch 44\n"
          ],
          "name": "stdout"
        },
        {
          "output_type": "stream",
          "text": [
            "100%|██████████| 243/243 [00:29<00:00,  8.23it/s]\n",
            "100%|██████████| 20/20 [00:00<00:00, 21.06it/s]\n",
            "  0%|          | 1/243 [00:00<00:29,  8.26it/s]"
          ],
          "name": "stderr"
        },
        {
          "output_type": "stream",
          "text": [
            "T Loss: 0.1686 V Loss: 0.1719 V MCRMSE: 0.1729\n",
            "Best valid MCRMSE updated to 0.17293167114257812\n",
            "Epoch 45\n"
          ],
          "name": "stdout"
        },
        {
          "output_type": "stream",
          "text": [
            "100%|██████████| 243/243 [00:29<00:00,  8.24it/s]\n",
            "100%|██████████| 20/20 [00:00<00:00, 21.24it/s]\n",
            "  0%|          | 1/243 [00:00<00:29,  8.31it/s]"
          ],
          "name": "stderr"
        },
        {
          "output_type": "stream",
          "text": [
            "T Loss: 0.1678 V Loss: 0.1742 V MCRMSE: 0.1753\n",
            "Epoch 46\n"
          ],
          "name": "stdout"
        },
        {
          "output_type": "stream",
          "text": [
            "100%|██████████| 243/243 [00:29<00:00,  8.24it/s]\n",
            "100%|██████████| 20/20 [00:00<00:00, 21.05it/s]\n",
            "  0%|          | 1/243 [00:00<00:28,  8.36it/s]"
          ],
          "name": "stderr"
        },
        {
          "output_type": "stream",
          "text": [
            "T Loss: 0.1675 V Loss: 0.1729 V MCRMSE: 0.1741\n",
            "Epoch 47\n"
          ],
          "name": "stdout"
        },
        {
          "output_type": "stream",
          "text": [
            "100%|██████████| 243/243 [00:29<00:00,  8.22it/s]\n",
            "100%|██████████| 20/20 [00:00<00:00, 21.10it/s]\n",
            "  0%|          | 1/243 [00:00<00:29,  8.19it/s]"
          ],
          "name": "stderr"
        },
        {
          "output_type": "stream",
          "text": [
            "T Loss: 0.1666 V Loss: 0.1706 V MCRMSE: 0.1717\n",
            "Best valid MCRMSE updated to 0.1717442125082016\n",
            "Epoch 48\n"
          ],
          "name": "stdout"
        },
        {
          "output_type": "stream",
          "text": [
            "100%|██████████| 243/243 [00:29<00:00,  8.21it/s]\n",
            "100%|██████████| 20/20 [00:00<00:00, 21.08it/s]\n",
            "  0%|          | 1/243 [00:00<00:29,  8.21it/s]"
          ],
          "name": "stderr"
        },
        {
          "output_type": "stream",
          "text": [
            "T Loss: 0.1659 V Loss: 0.1710 V MCRMSE: 0.1720\n",
            "Epoch 49\n"
          ],
          "name": "stdout"
        },
        {
          "output_type": "stream",
          "text": [
            "100%|██████████| 243/243 [00:29<00:00,  8.23it/s]\n",
            "100%|██████████| 20/20 [00:00<00:00, 21.15it/s]\n",
            "  0%|          | 1/243 [00:00<00:28,  8.35it/s]"
          ],
          "name": "stderr"
        },
        {
          "output_type": "stream",
          "text": [
            "T Loss: 0.1652 V Loss: 0.1683 V MCRMSE: 0.1694\n",
            "Best valid MCRMSE updated to 0.16942399740219116\n",
            "Epoch 50\n"
          ],
          "name": "stdout"
        },
        {
          "output_type": "stream",
          "text": [
            "100%|██████████| 243/243 [00:29<00:00,  8.23it/s]\n",
            "100%|██████████| 20/20 [00:00<00:00, 21.22it/s]\n",
            "  0%|          | 1/243 [00:00<00:28,  8.36it/s]"
          ],
          "name": "stderr"
        },
        {
          "output_type": "stream",
          "text": [
            "T Loss: 0.1649 V Loss: 0.1689 V MCRMSE: 0.1701\n",
            "Epoch 51\n"
          ],
          "name": "stdout"
        },
        {
          "output_type": "stream",
          "text": [
            "100%|██████████| 243/243 [00:29<00:00,  8.25it/s]\n",
            "100%|██████████| 20/20 [00:00<00:00, 21.17it/s]\n",
            "  0%|          | 1/243 [00:00<00:29,  8.26it/s]"
          ],
          "name": "stderr"
        },
        {
          "output_type": "stream",
          "text": [
            "T Loss: 0.1640 V Loss: 0.1673 V MCRMSE: 0.1684\n",
            "Best valid MCRMSE updated to 0.1684410274028778\n",
            "Epoch 52\n"
          ],
          "name": "stdout"
        },
        {
          "output_type": "stream",
          "text": [
            "100%|██████████| 243/243 [00:29<00:00,  8.24it/s]\n",
            "100%|██████████| 20/20 [00:00<00:00, 21.21it/s]\n",
            "  0%|          | 1/243 [00:00<00:29,  8.26it/s]"
          ],
          "name": "stderr"
        },
        {
          "output_type": "stream",
          "text": [
            "T Loss: 0.1629 V Loss: 0.1667 V MCRMSE: 0.1678\n",
            "Best valid MCRMSE updated to 0.16781151294708252\n",
            "Epoch 53\n"
          ],
          "name": "stdout"
        },
        {
          "output_type": "stream",
          "text": [
            "100%|██████████| 243/243 [00:29<00:00,  8.25it/s]\n",
            "100%|██████████| 20/20 [00:00<00:00, 21.17it/s]\n",
            "  0%|          | 1/243 [00:00<00:29,  8.32it/s]"
          ],
          "name": "stderr"
        },
        {
          "output_type": "stream",
          "text": [
            "T Loss: 0.1629 V Loss: 0.1673 V MCRMSE: 0.1685\n",
            "Epoch 54\n"
          ],
          "name": "stdout"
        },
        {
          "output_type": "stream",
          "text": [
            "100%|██████████| 243/243 [00:29<00:00,  8.25it/s]\n",
            "100%|██████████| 20/20 [00:00<00:00, 20.97it/s]\n",
            "  0%|          | 1/243 [00:00<00:29,  8.31it/s]"
          ],
          "name": "stderr"
        },
        {
          "output_type": "stream",
          "text": [
            "T Loss: 0.1615 V Loss: 0.1666 V MCRMSE: 0.1679\n",
            "Epoch 55\n"
          ],
          "name": "stdout"
        },
        {
          "output_type": "stream",
          "text": [
            "100%|██████████| 243/243 [00:29<00:00,  8.22it/s]\n",
            "100%|██████████| 20/20 [00:00<00:00, 21.13it/s]\n",
            "  0%|          | 1/243 [00:00<00:29,  8.23it/s]"
          ],
          "name": "stderr"
        },
        {
          "output_type": "stream",
          "text": [
            "T Loss: 0.1615 V Loss: 0.1662 V MCRMSE: 0.1673\n",
            "Best valid MCRMSE updated to 0.1672665923833847\n",
            "Epoch 56\n"
          ],
          "name": "stdout"
        },
        {
          "output_type": "stream",
          "text": [
            "100%|██████████| 243/243 [00:29<00:00,  8.22it/s]\n",
            "100%|██████████| 20/20 [00:00<00:00, 21.11it/s]\n",
            "  0%|          | 1/243 [00:00<00:29,  8.32it/s]"
          ],
          "name": "stderr"
        },
        {
          "output_type": "stream",
          "text": [
            "T Loss: 0.1620 V Loss: 0.1660 V MCRMSE: 0.1672\n",
            "Best valid MCRMSE updated to 0.16719910502433777\n",
            "Epoch 57\n"
          ],
          "name": "stdout"
        },
        {
          "output_type": "stream",
          "text": [
            "100%|██████████| 243/243 [00:29<00:00,  8.22it/s]\n",
            "100%|██████████| 20/20 [00:00<00:00, 21.06it/s]\n",
            "  0%|          | 1/243 [00:00<00:28,  8.35it/s]"
          ],
          "name": "stderr"
        },
        {
          "output_type": "stream",
          "text": [
            "T Loss: 0.1605 V Loss: 0.1649 V MCRMSE: 0.1661\n",
            "Best valid MCRMSE updated to 0.1661473512649536\n",
            "Epoch 58\n"
          ],
          "name": "stdout"
        },
        {
          "output_type": "stream",
          "text": [
            "100%|██████████| 243/243 [00:29<00:00,  8.25it/s]\n",
            "100%|██████████| 20/20 [00:00<00:00, 21.16it/s]\n",
            "  0%|          | 1/243 [00:00<00:28,  8.36it/s]"
          ],
          "name": "stderr"
        },
        {
          "output_type": "stream",
          "text": [
            "T Loss: 0.1605 V Loss: 0.1638 V MCRMSE: 0.1651\n",
            "Best valid MCRMSE updated to 0.16514578461647034\n",
            "Epoch 59\n"
          ],
          "name": "stdout"
        },
        {
          "output_type": "stream",
          "text": [
            "100%|██████████| 243/243 [00:29<00:00,  8.25it/s]\n",
            "100%|██████████| 20/20 [00:00<00:00, 21.19it/s]\n",
            "  0%|          | 1/243 [00:00<00:29,  8.29it/s]"
          ],
          "name": "stderr"
        },
        {
          "output_type": "stream",
          "text": [
            "T Loss: 0.1594 V Loss: 0.1649 V MCRMSE: 0.1663\n",
            "Epoch 60\n"
          ],
          "name": "stdout"
        },
        {
          "output_type": "stream",
          "text": [
            "100%|██████████| 243/243 [00:29<00:00,  8.25it/s]\n",
            "100%|██████████| 20/20 [00:00<00:00, 21.21it/s]\n",
            "  0%|          | 1/243 [00:00<00:29,  8.23it/s]"
          ],
          "name": "stderr"
        },
        {
          "output_type": "stream",
          "text": [
            "T Loss: 0.1594 V Loss: 0.1643 V MCRMSE: 0.1656\n",
            "Epoch 61\n"
          ],
          "name": "stdout"
        },
        {
          "output_type": "stream",
          "text": [
            "100%|██████████| 243/243 [00:29<00:00,  8.24it/s]\n",
            "100%|██████████| 20/20 [00:00<00:00, 21.04it/s]\n",
            "  0%|          | 1/243 [00:00<00:29,  8.23it/s]"
          ],
          "name": "stderr"
        },
        {
          "output_type": "stream",
          "text": [
            "T Loss: 0.1589 V Loss: 0.1645 V MCRMSE: 0.1659\n",
            "Epoch 62\n"
          ],
          "name": "stdout"
        },
        {
          "output_type": "stream",
          "text": [
            "100%|██████████| 243/243 [00:29<00:00,  8.24it/s]\n",
            "100%|██████████| 20/20 [00:00<00:00, 21.21it/s]\n",
            "  0%|          | 1/243 [00:00<00:29,  8.34it/s]"
          ],
          "name": "stderr"
        },
        {
          "output_type": "stream",
          "text": [
            "T Loss: 0.1586 V Loss: 0.1633 V MCRMSE: 0.1646\n",
            "Best valid MCRMSE updated to 0.16457626223564148\n",
            "Epoch 63\n"
          ],
          "name": "stdout"
        },
        {
          "output_type": "stream",
          "text": [
            "100%|██████████| 243/243 [00:29<00:00,  8.24it/s]\n",
            "100%|██████████| 20/20 [00:00<00:00, 21.16it/s]\n",
            "  0%|          | 1/243 [00:00<00:29,  8.30it/s]"
          ],
          "name": "stderr"
        },
        {
          "output_type": "stream",
          "text": [
            "T Loss: 0.1578 V Loss: 0.1624 V MCRMSE: 0.1637\n",
            "Best valid MCRMSE updated to 0.16367942094802856\n",
            "Epoch 64\n"
          ],
          "name": "stdout"
        },
        {
          "output_type": "stream",
          "text": [
            "100%|██████████| 243/243 [00:29<00:00,  8.25it/s]\n",
            "100%|██████████| 20/20 [00:00<00:00, 21.16it/s]\n",
            "  0%|          | 1/243 [00:00<00:29,  8.34it/s]"
          ],
          "name": "stderr"
        },
        {
          "output_type": "stream",
          "text": [
            "T Loss: 0.1574 V Loss: 0.1632 V MCRMSE: 0.1646\n",
            "Epoch 65\n"
          ],
          "name": "stdout"
        },
        {
          "output_type": "stream",
          "text": [
            "100%|██████████| 243/243 [00:29<00:00,  8.25it/s]\n",
            "100%|██████████| 20/20 [00:00<00:00, 21.23it/s]\n",
            "  0%|          | 1/243 [00:00<00:28,  8.36it/s]"
          ],
          "name": "stderr"
        },
        {
          "output_type": "stream",
          "text": [
            "T Loss: 0.1573 V Loss: 0.1623 V MCRMSE: 0.1636\n",
            "Best valid MCRMSE updated to 0.16362255811691284\n",
            "Epoch 66\n"
          ],
          "name": "stdout"
        },
        {
          "output_type": "stream",
          "text": [
            "100%|██████████| 243/243 [00:29<00:00,  8.25it/s]\n",
            "100%|██████████| 20/20 [00:00<00:00, 21.12it/s]\n",
            "  0%|          | 1/243 [00:00<00:29,  8.25it/s]"
          ],
          "name": "stderr"
        },
        {
          "output_type": "stream",
          "text": [
            "T Loss: 0.1566 V Loss: 0.1631 V MCRMSE: 0.1645\n",
            "Epoch 67\n"
          ],
          "name": "stdout"
        },
        {
          "output_type": "stream",
          "text": [
            "100%|██████████| 243/243 [00:29<00:00,  8.25it/s]\n",
            "100%|██████████| 20/20 [00:00<00:00, 21.23it/s]\n",
            "  0%|          | 1/243 [00:00<00:28,  8.38it/s]"
          ],
          "name": "stderr"
        },
        {
          "output_type": "stream",
          "text": [
            "T Loss: 0.1563 V Loss: 0.1617 V MCRMSE: 0.1631\n",
            "Best valid MCRMSE updated to 0.16312305629253387\n",
            "Epoch 68\n"
          ],
          "name": "stdout"
        },
        {
          "output_type": "stream",
          "text": [
            "100%|██████████| 243/243 [00:29<00:00,  8.26it/s]\n",
            "100%|██████████| 20/20 [00:00<00:00, 21.20it/s]\n",
            "  0%|          | 1/243 [00:00<00:29,  8.25it/s]"
          ],
          "name": "stderr"
        },
        {
          "output_type": "stream",
          "text": [
            "T Loss: 0.1560 V Loss: 0.1613 V MCRMSE: 0.1627\n",
            "Best valid MCRMSE updated to 0.16271327435970306\n",
            "Epoch 69\n"
          ],
          "name": "stdout"
        },
        {
          "output_type": "stream",
          "text": [
            "100%|██████████| 243/243 [00:29<00:00,  8.25it/s]\n",
            "100%|██████████| 20/20 [00:00<00:00, 21.16it/s]\n",
            "  0%|          | 1/243 [00:00<00:29,  8.34it/s]"
          ],
          "name": "stderr"
        },
        {
          "output_type": "stream",
          "text": [
            "T Loss: 0.1549 V Loss: 0.1614 V MCRMSE: 0.1628\n",
            "Epoch 70\n"
          ],
          "name": "stdout"
        },
        {
          "output_type": "stream",
          "text": [
            "100%|██████████| 243/243 [00:29<00:00,  8.25it/s]\n",
            "100%|██████████| 20/20 [00:00<00:00, 21.26it/s]\n",
            "  0%|          | 1/243 [00:00<00:29,  8.30it/s]"
          ],
          "name": "stderr"
        },
        {
          "output_type": "stream",
          "text": [
            "T Loss: 0.1548 V Loss: 0.1613 V MCRMSE: 0.1628\n",
            "Epoch 71\n"
          ],
          "name": "stdout"
        },
        {
          "output_type": "stream",
          "text": [
            "100%|██████████| 243/243 [00:29<00:00,  8.25it/s]\n",
            "100%|██████████| 20/20 [00:00<00:00, 21.16it/s]\n",
            "  0%|          | 1/243 [00:00<00:29,  8.21it/s]"
          ],
          "name": "stderr"
        },
        {
          "output_type": "stream",
          "text": [
            "T Loss: 0.1548 V Loss: 0.1603 V MCRMSE: 0.1617\n",
            "Best valid MCRMSE updated to 0.16171878576278687\n",
            "Epoch 72\n"
          ],
          "name": "stdout"
        },
        {
          "output_type": "stream",
          "text": [
            "100%|██████████| 243/243 [00:29<00:00,  8.24it/s]\n",
            "100%|██████████| 20/20 [00:00<00:00, 21.09it/s]\n",
            "  0%|          | 1/243 [00:00<00:29,  8.31it/s]"
          ],
          "name": "stderr"
        },
        {
          "output_type": "stream",
          "text": [
            "T Loss: 0.1542 V Loss: 0.1602 V MCRMSE: 0.1617\n",
            "Best valid MCRMSE updated to 0.1617181897163391\n",
            "Epoch 73\n"
          ],
          "name": "stdout"
        },
        {
          "output_type": "stream",
          "text": [
            "100%|██████████| 243/243 [00:29<00:00,  8.24it/s]\n",
            "100%|██████████| 20/20 [00:00<00:00, 21.16it/s]\n",
            "  0%|          | 1/243 [00:00<00:29,  8.18it/s]"
          ],
          "name": "stderr"
        },
        {
          "output_type": "stream",
          "text": [
            "T Loss: 0.1541 V Loss: 0.1618 V MCRMSE: 0.1633\n",
            "Epoch 74\n"
          ],
          "name": "stdout"
        },
        {
          "output_type": "stream",
          "text": [
            "100%|██████████| 243/243 [00:29<00:00,  8.25it/s]\n",
            "100%|██████████| 20/20 [00:00<00:00, 21.00it/s]\n",
            "  0%|          | 1/243 [00:00<00:29,  8.19it/s]"
          ],
          "name": "stderr"
        },
        {
          "output_type": "stream",
          "text": [
            "T Loss: 0.1538 V Loss: 0.1596 V MCRMSE: 0.1611\n",
            "Best valid MCRMSE updated to 0.16114714741706848\n",
            "Epoch 75\n"
          ],
          "name": "stdout"
        },
        {
          "output_type": "stream",
          "text": [
            "100%|██████████| 243/243 [00:29<00:00,  8.24it/s]\n",
            "100%|██████████| 20/20 [00:00<00:00, 21.05it/s]\n",
            "  0%|          | 1/243 [00:00<00:29,  8.14it/s]"
          ],
          "name": "stderr"
        },
        {
          "output_type": "stream",
          "text": [
            "T Loss: 0.1527 V Loss: 0.1585 V MCRMSE: 0.1599\n",
            "Best valid MCRMSE updated to 0.1599293053150177\n",
            "Epoch 76\n"
          ],
          "name": "stdout"
        },
        {
          "output_type": "stream",
          "text": [
            "100%|██████████| 243/243 [00:29<00:00,  8.25it/s]\n",
            "100%|██████████| 20/20 [00:00<00:00, 21.25it/s]\n",
            "  0%|          | 1/243 [00:00<00:28,  8.35it/s]"
          ],
          "name": "stderr"
        },
        {
          "output_type": "stream",
          "text": [
            "T Loss: 0.1532 V Loss: 0.1586 V MCRMSE: 0.1601\n",
            "Epoch 77\n"
          ],
          "name": "stdout"
        },
        {
          "output_type": "stream",
          "text": [
            "100%|██████████| 243/243 [00:29<00:00,  8.26it/s]\n",
            "100%|██████████| 20/20 [00:00<00:00, 21.21it/s]\n",
            "  0%|          | 1/243 [00:00<00:29,  8.24it/s]"
          ],
          "name": "stderr"
        },
        {
          "output_type": "stream",
          "text": [
            "T Loss: 0.1524 V Loss: 0.1583 V MCRMSE: 0.1598\n",
            "Best valid MCRMSE updated to 0.15979856252670288\n",
            "Epoch 78\n"
          ],
          "name": "stdout"
        },
        {
          "output_type": "stream",
          "text": [
            "100%|██████████| 243/243 [00:29<00:00,  8.25it/s]\n",
            "100%|██████████| 20/20 [00:00<00:00, 21.21it/s]\n",
            "  0%|          | 1/243 [00:00<00:28,  8.36it/s]"
          ],
          "name": "stderr"
        },
        {
          "output_type": "stream",
          "text": [
            "T Loss: 0.1514 V Loss: 0.1584 V MCRMSE: 0.1599\n",
            "Epoch 79\n"
          ],
          "name": "stdout"
        },
        {
          "output_type": "stream",
          "text": [
            "100%|██████████| 243/243 [00:29<00:00,  8.25it/s]\n",
            "100%|██████████| 20/20 [00:00<00:00, 21.21it/s]\n",
            "  0%|          | 1/243 [00:00<00:29,  8.25it/s]"
          ],
          "name": "stderr"
        },
        {
          "output_type": "stream",
          "text": [
            "T Loss: 0.1516 V Loss: 0.1577 V MCRMSE: 0.1593\n",
            "Best valid MCRMSE updated to 0.15929627418518066\n",
            "Epoch 80\n"
          ],
          "name": "stdout"
        },
        {
          "output_type": "stream",
          "text": [
            "100%|██████████| 243/243 [00:29<00:00,  8.26it/s]\n",
            "100%|██████████| 20/20 [00:00<00:00, 21.21it/s]\n",
            "  0%|          | 1/243 [00:00<00:28,  8.39it/s]"
          ],
          "name": "stderr"
        },
        {
          "output_type": "stream",
          "text": [
            "T Loss: 0.1513 V Loss: 0.1570 V MCRMSE: 0.1586\n",
            "Best valid MCRMSE updated to 0.15861964225769043\n",
            "Epoch 81\n"
          ],
          "name": "stdout"
        },
        {
          "output_type": "stream",
          "text": [
            "100%|██████████| 243/243 [00:29<00:00,  8.27it/s]\n",
            "100%|██████████| 20/20 [00:00<00:00, 21.18it/s]\n",
            "  0%|          | 1/243 [00:00<00:28,  8.36it/s]"
          ],
          "name": "stderr"
        },
        {
          "output_type": "stream",
          "text": [
            "T Loss: 0.1503 V Loss: 0.1584 V MCRMSE: 0.1600\n",
            "Epoch 82\n"
          ],
          "name": "stdout"
        },
        {
          "output_type": "stream",
          "text": [
            "100%|██████████| 243/243 [00:29<00:00,  8.26it/s]\n",
            "100%|██████████| 20/20 [00:00<00:00, 21.20it/s]\n",
            "  0%|          | 1/243 [00:00<00:29,  8.19it/s]"
          ],
          "name": "stderr"
        },
        {
          "output_type": "stream",
          "text": [
            "T Loss: 0.1508 V Loss: 0.1608 V MCRMSE: 0.1624\n",
            "Epoch 83\n"
          ],
          "name": "stdout"
        },
        {
          "output_type": "stream",
          "text": [
            "100%|██████████| 243/243 [00:29<00:00,  8.24it/s]\n",
            "100%|██████████| 20/20 [00:00<00:00, 21.16it/s]\n",
            "  0%|          | 1/243 [00:00<00:29,  8.24it/s]"
          ],
          "name": "stderr"
        },
        {
          "output_type": "stream",
          "text": [
            "T Loss: 0.1503 V Loss: 0.1583 V MCRMSE: 0.1599\n",
            "Epoch 84\n"
          ],
          "name": "stdout"
        },
        {
          "output_type": "stream",
          "text": [
            "100%|██████████| 243/243 [00:29<00:00,  8.27it/s]\n",
            "100%|██████████| 20/20 [00:00<00:00, 21.28it/s]\n",
            "  0%|          | 1/243 [00:00<00:29,  8.29it/s]"
          ],
          "name": "stderr"
        },
        {
          "output_type": "stream",
          "text": [
            "T Loss: 0.1504 V Loss: 0.1571 V MCRMSE: 0.1588\n",
            "Epoch 85\n"
          ],
          "name": "stdout"
        },
        {
          "output_type": "stream",
          "text": [
            "100%|██████████| 243/243 [00:29<00:00,  8.25it/s]\n",
            "100%|██████████| 20/20 [00:00<00:00, 21.18it/s]\n",
            "  0%|          | 1/243 [00:00<00:29,  8.33it/s]"
          ],
          "name": "stderr"
        },
        {
          "output_type": "stream",
          "text": [
            "T Loss: 0.1493 V Loss: 0.1557 V MCRMSE: 0.1573\n",
            "Best valid MCRMSE updated to 0.15726567804813385\n",
            "Epoch 86\n"
          ],
          "name": "stdout"
        },
        {
          "output_type": "stream",
          "text": [
            "100%|██████████| 243/243 [00:29<00:00,  8.27it/s]\n",
            "100%|██████████| 20/20 [00:00<00:00, 21.21it/s]\n",
            "  0%|          | 1/243 [00:00<00:29,  8.22it/s]"
          ],
          "name": "stderr"
        },
        {
          "output_type": "stream",
          "text": [
            "T Loss: 0.1494 V Loss: 0.1559 V MCRMSE: 0.1575\n",
            "Epoch 87\n"
          ],
          "name": "stdout"
        },
        {
          "output_type": "stream",
          "text": [
            "100%|██████████| 243/243 [00:29<00:00,  8.25it/s]\n",
            "100%|██████████| 20/20 [00:00<00:00, 21.19it/s]\n",
            "  0%|          | 1/243 [00:00<00:29,  8.32it/s]"
          ],
          "name": "stderr"
        },
        {
          "output_type": "stream",
          "text": [
            "T Loss: 0.1492 V Loss: 0.1582 V MCRMSE: 0.1599\n",
            "Epoch 88\n"
          ],
          "name": "stdout"
        },
        {
          "output_type": "stream",
          "text": [
            "100%|██████████| 243/243 [00:29<00:00,  8.26it/s]\n",
            "100%|██████████| 20/20 [00:00<00:00, 21.21it/s]\n",
            "  0%|          | 1/243 [00:00<00:28,  8.40it/s]"
          ],
          "name": "stderr"
        },
        {
          "output_type": "stream",
          "text": [
            "T Loss: 0.1486 V Loss: 0.1556 V MCRMSE: 0.1573\n",
            "Best valid MCRMSE updated to 0.1572612076997757\n",
            "Epoch 89\n"
          ],
          "name": "stdout"
        },
        {
          "output_type": "stream",
          "text": [
            "100%|██████████| 243/243 [00:29<00:00,  8.26it/s]\n",
            "100%|██████████| 20/20 [00:00<00:00, 21.11it/s]\n",
            "  0%|          | 1/243 [00:00<00:29,  8.25it/s]"
          ],
          "name": "stderr"
        },
        {
          "output_type": "stream",
          "text": [
            "T Loss: 0.1486 V Loss: 0.1560 V MCRMSE: 0.1576\n",
            "Epoch 90\n"
          ],
          "name": "stdout"
        },
        {
          "output_type": "stream",
          "text": [
            "100%|██████████| 243/243 [00:29<00:00,  8.26it/s]\n",
            "100%|██████████| 20/20 [00:00<00:00, 21.16it/s]\n",
            "  0%|          | 1/243 [00:00<00:28,  8.38it/s]"
          ],
          "name": "stderr"
        },
        {
          "output_type": "stream",
          "text": [
            "T Loss: 0.1483 V Loss: 0.1544 V MCRMSE: 0.1562\n",
            "Best valid MCRMSE updated to 0.15615950524806976\n",
            "Epoch 91\n"
          ],
          "name": "stdout"
        },
        {
          "output_type": "stream",
          "text": [
            "100%|██████████| 243/243 [00:29<00:00,  8.26it/s]\n",
            "100%|██████████| 20/20 [00:00<00:00, 21.22it/s]\n",
            "  0%|          | 1/243 [00:00<00:28,  8.35it/s]"
          ],
          "name": "stderr"
        },
        {
          "output_type": "stream",
          "text": [
            "T Loss: 0.1483 V Loss: 0.1550 V MCRMSE: 0.1567\n",
            "Epoch 92\n"
          ],
          "name": "stdout"
        },
        {
          "output_type": "stream",
          "text": [
            "100%|██████████| 243/243 [00:29<00:00,  8.26it/s]\n",
            "100%|██████████| 20/20 [00:00<00:00, 21.23it/s]\n",
            "  0%|          | 1/243 [00:00<00:28,  8.35it/s]"
          ],
          "name": "stderr"
        },
        {
          "output_type": "stream",
          "text": [
            "T Loss: 0.1474 V Loss: 0.1587 V MCRMSE: 0.1603\n",
            "Epoch 93\n"
          ],
          "name": "stdout"
        },
        {
          "output_type": "stream",
          "text": [
            "100%|██████████| 243/243 [00:29<00:00,  8.24it/s]\n",
            "100%|██████████| 20/20 [00:00<00:00, 21.11it/s]\n",
            "  0%|          | 1/243 [00:00<00:29,  8.25it/s]"
          ],
          "name": "stderr"
        },
        {
          "output_type": "stream",
          "text": [
            "T Loss: 0.1475 V Loss: 0.1551 V MCRMSE: 0.1568\n",
            "Epoch 94\n"
          ],
          "name": "stdout"
        },
        {
          "output_type": "stream",
          "text": [
            "100%|██████████| 243/243 [00:29<00:00,  8.26it/s]\n",
            "100%|██████████| 20/20 [00:00<00:00, 21.20it/s]\n",
            "  0%|          | 1/243 [00:00<00:29,  8.28it/s]"
          ],
          "name": "stderr"
        },
        {
          "output_type": "stream",
          "text": [
            "T Loss: 0.1478 V Loss: 0.1544 V MCRMSE: 0.1561\n",
            "Best valid MCRMSE updated to 0.1560821384191513\n",
            "Epoch 95\n"
          ],
          "name": "stdout"
        },
        {
          "output_type": "stream",
          "text": [
            "100%|██████████| 243/243 [00:29<00:00,  8.26it/s]\n",
            "100%|██████████| 20/20 [00:00<00:00, 21.19it/s]\n",
            "  0%|          | 1/243 [00:00<00:28,  8.39it/s]"
          ],
          "name": "stderr"
        },
        {
          "output_type": "stream",
          "text": [
            "T Loss: 0.1469 V Loss: 0.1554 V MCRMSE: 0.1571\n",
            "Epoch 96\n"
          ],
          "name": "stdout"
        },
        {
          "output_type": "stream",
          "text": [
            "100%|██████████| 243/243 [00:29<00:00,  8.26it/s]\n",
            "100%|██████████| 20/20 [00:00<00:00, 21.17it/s]\n",
            "  0%|          | 1/243 [00:00<00:29,  8.21it/s]"
          ],
          "name": "stderr"
        },
        {
          "output_type": "stream",
          "text": [
            "T Loss: 0.1470 V Loss: 0.1566 V MCRMSE: 0.1584\n",
            "Epoch 97\n"
          ],
          "name": "stdout"
        },
        {
          "output_type": "stream",
          "text": [
            "100%|██████████| 243/243 [00:29<00:00,  8.27it/s]\n",
            "100%|██████████| 20/20 [00:00<00:00, 21.26it/s]\n",
            "  0%|          | 1/243 [00:00<00:28,  8.35it/s]"
          ],
          "name": "stderr"
        },
        {
          "output_type": "stream",
          "text": [
            "T Loss: 0.1468 V Loss: 0.1542 V MCRMSE: 0.1560\n",
            "Best valid MCRMSE updated to 0.15598498284816742\n",
            "Epoch 98\n"
          ],
          "name": "stdout"
        },
        {
          "output_type": "stream",
          "text": [
            "100%|██████████| 243/243 [00:29<00:00,  8.26it/s]\n",
            "100%|██████████| 20/20 [00:00<00:00, 21.16it/s]\n",
            "  0%|          | 1/243 [00:00<00:29,  8.29it/s]"
          ],
          "name": "stderr"
        },
        {
          "output_type": "stream",
          "text": [
            "T Loss: 0.1465 V Loss: 0.1530 V MCRMSE: 0.1548\n",
            "Best valid MCRMSE updated to 0.15478576719760895\n",
            "Epoch 99\n"
          ],
          "name": "stdout"
        },
        {
          "output_type": "stream",
          "text": [
            "100%|██████████| 243/243 [00:29<00:00,  8.26it/s]\n",
            "100%|██████████| 20/20 [00:00<00:00, 21.18it/s]\n",
            " 15%|█▌        | 3/20 [00:00<00:00, 21.40it/s]"
          ],
          "name": "stderr"
        },
        {
          "output_type": "stream",
          "text": [
            "T Loss: 0.1460 V Loss: 0.1529 V MCRMSE: 0.1546\n",
            "Best valid MCRMSE updated to 0.15455353260040283\n"
          ],
          "name": "stdout"
        },
        {
          "output_type": "stream",
          "text": [
            "100%|██████████| 20/20 [00:00<00:00, 21.40it/s]\n"
          ],
          "name": "stderr"
        },
        {
          "output_type": "stream",
          "text": [
            "Fold 7\n"
          ],
          "name": "stdout"
        },
        {
          "output_type": "stream",
          "text": [
            "  0%|          | 1/244 [00:00<00:30,  7.95it/s]"
          ],
          "name": "stderr"
        },
        {
          "output_type": "stream",
          "text": [
            "Epoch 0\n"
          ],
          "name": "stdout"
        },
        {
          "output_type": "stream",
          "text": [
            "100%|██████████| 244/244 [00:29<00:00,  8.26it/s]\n",
            "100%|██████████| 20/20 [00:00<00:00, 21.02it/s]\n",
            "  0%|          | 1/244 [00:00<00:29,  8.24it/s]"
          ],
          "name": "stderr"
        },
        {
          "output_type": "stream",
          "text": [
            "T Loss: 0.3520 V Loss: 0.3011 V MCRMSE: 0.3025\n",
            "Best valid MCRMSE updated to 0.30252665281295776\n",
            "Epoch 1\n"
          ],
          "name": "stdout"
        },
        {
          "output_type": "stream",
          "text": [
            "100%|██████████| 244/244 [00:29<00:00,  8.20it/s]\n",
            "100%|██████████| 20/20 [00:00<00:00, 21.01it/s]\n",
            "  0%|          | 1/244 [00:00<00:29,  8.26it/s]"
          ],
          "name": "stderr"
        },
        {
          "output_type": "stream",
          "text": [
            "T Loss: 0.2880 V Loss: 0.2711 V MCRMSE: 0.2729\n",
            "Best valid MCRMSE updated to 0.2729235887527466\n",
            "Epoch 2\n"
          ],
          "name": "stdout"
        },
        {
          "output_type": "stream",
          "text": [
            "100%|██████████| 244/244 [00:29<00:00,  8.20it/s]\n",
            "100%|██████████| 20/20 [00:00<00:00, 21.16it/s]\n",
            "  0%|          | 1/244 [00:00<00:29,  8.37it/s]"
          ],
          "name": "stderr"
        },
        {
          "output_type": "stream",
          "text": [
            "T Loss: 0.2690 V Loss: 0.2652 V MCRMSE: 0.2671\n",
            "Best valid MCRMSE updated to 0.26712530851364136\n",
            "Epoch 3\n"
          ],
          "name": "stdout"
        },
        {
          "output_type": "stream",
          "text": [
            "100%|██████████| 244/244 [00:29<00:00,  8.22it/s]\n",
            "100%|██████████| 20/20 [00:00<00:00, 21.11it/s]\n",
            "  0%|          | 1/244 [00:00<00:29,  8.32it/s]"
          ],
          "name": "stderr"
        },
        {
          "output_type": "stream",
          "text": [
            "T Loss: 0.2568 V Loss: 0.2588 V MCRMSE: 0.2607\n",
            "Best valid MCRMSE updated to 0.260710209608078\n",
            "Epoch 4\n"
          ],
          "name": "stdout"
        },
        {
          "output_type": "stream",
          "text": [
            "100%|██████████| 244/244 [00:29<00:00,  8.23it/s]\n",
            "100%|██████████| 20/20 [00:00<00:00, 21.24it/s]\n",
            "  0%|          | 1/244 [00:00<00:29,  8.33it/s]"
          ],
          "name": "stderr"
        },
        {
          "output_type": "stream",
          "text": [
            "T Loss: 0.2467 V Loss: 0.2474 V MCRMSE: 0.2494\n",
            "Best valid MCRMSE updated to 0.24936926364898682\n",
            "Epoch 5\n"
          ],
          "name": "stdout"
        },
        {
          "output_type": "stream",
          "text": [
            "100%|██████████| 244/244 [00:29<00:00,  8.25it/s]\n",
            "100%|██████████| 20/20 [00:00<00:00, 21.23it/s]\n",
            "  0%|          | 1/244 [00:00<00:29,  8.34it/s]"
          ],
          "name": "stderr"
        },
        {
          "output_type": "stream",
          "text": [
            "T Loss: 0.2402 V Loss: 0.2596 V MCRMSE: 0.2614\n",
            "Epoch 6\n"
          ],
          "name": "stdout"
        },
        {
          "output_type": "stream",
          "text": [
            "100%|██████████| 244/244 [00:29<00:00,  8.23it/s]\n",
            "100%|██████████| 20/20 [00:00<00:00, 21.23it/s]\n",
            "  0%|          | 1/244 [00:00<00:29,  8.21it/s]"
          ],
          "name": "stderr"
        },
        {
          "output_type": "stream",
          "text": [
            "T Loss: 0.2348 V Loss: 0.2410 V MCRMSE: 0.2431\n",
            "Best valid MCRMSE updated to 0.24307279288768768\n",
            "Epoch 7\n"
          ],
          "name": "stdout"
        },
        {
          "output_type": "stream",
          "text": [
            "100%|██████████| 244/244 [00:29<00:00,  8.23it/s]\n",
            "100%|██████████| 20/20 [00:00<00:00, 21.17it/s]\n",
            "  0%|          | 1/244 [00:00<00:29,  8.13it/s]"
          ],
          "name": "stderr"
        },
        {
          "output_type": "stream",
          "text": [
            "T Loss: 0.2302 V Loss: 0.2351 V MCRMSE: 0.2372\n",
            "Best valid MCRMSE updated to 0.23720043897628784\n",
            "Epoch 8\n"
          ],
          "name": "stdout"
        },
        {
          "output_type": "stream",
          "text": [
            "100%|██████████| 244/244 [00:29<00:00,  8.24it/s]\n",
            "100%|██████████| 20/20 [00:00<00:00, 21.20it/s]\n",
            "  0%|          | 1/244 [00:00<00:29,  8.37it/s]"
          ],
          "name": "stderr"
        },
        {
          "output_type": "stream",
          "text": [
            "T Loss: 0.2254 V Loss: 0.2307 V MCRMSE: 0.2327\n",
            "Best valid MCRMSE updated to 0.23266272246837616\n",
            "Epoch 9\n"
          ],
          "name": "stdout"
        },
        {
          "output_type": "stream",
          "text": [
            "100%|██████████| 244/244 [00:29<00:00,  8.23it/s]\n",
            "100%|██████████| 20/20 [00:00<00:00, 21.17it/s]\n",
            "  0%|          | 1/244 [00:00<00:29,  8.17it/s]"
          ],
          "name": "stderr"
        },
        {
          "output_type": "stream",
          "text": [
            "T Loss: 0.2227 V Loss: 0.2286 V MCRMSE: 0.2307\n",
            "Best valid MCRMSE updated to 0.2307106852531433\n",
            "Epoch 10\n"
          ],
          "name": "stdout"
        },
        {
          "output_type": "stream",
          "text": [
            "100%|██████████| 244/244 [00:29<00:00,  8.25it/s]\n",
            "100%|██████████| 20/20 [00:00<00:00, 21.19it/s]\n",
            "  0%|          | 1/244 [00:00<00:29,  8.32it/s]"
          ],
          "name": "stderr"
        },
        {
          "output_type": "stream",
          "text": [
            "T Loss: 0.2186 V Loss: 0.2218 V MCRMSE: 0.2239\n",
            "Best valid MCRMSE updated to 0.22390535473823547\n",
            "Epoch 11\n"
          ],
          "name": "stdout"
        },
        {
          "output_type": "stream",
          "text": [
            "100%|██████████| 244/244 [00:29<00:00,  8.24it/s]\n",
            "100%|██████████| 20/20 [00:00<00:00, 21.24it/s]\n",
            "  0%|          | 1/244 [00:00<00:29,  8.20it/s]"
          ],
          "name": "stderr"
        },
        {
          "output_type": "stream",
          "text": [
            "T Loss: 0.2159 V Loss: 0.2167 V MCRMSE: 0.2188\n",
            "Best valid MCRMSE updated to 0.2188386619091034\n",
            "Epoch 12\n"
          ],
          "name": "stdout"
        },
        {
          "output_type": "stream",
          "text": [
            "100%|██████████| 244/244 [00:29<00:00,  8.26it/s]\n",
            "100%|██████████| 20/20 [00:00<00:00, 21.18it/s]\n",
            "  0%|          | 1/244 [00:00<00:29,  8.34it/s]"
          ],
          "name": "stderr"
        },
        {
          "output_type": "stream",
          "text": [
            "T Loss: 0.2129 V Loss: 0.2162 V MCRMSE: 0.2182\n",
            "Best valid MCRMSE updated to 0.21816086769104004\n",
            "Epoch 13\n"
          ],
          "name": "stdout"
        },
        {
          "output_type": "stream",
          "text": [
            "100%|██████████| 244/244 [00:29<00:00,  8.23it/s]\n",
            "100%|██████████| 20/20 [00:00<00:00, 21.15it/s]\n",
            "  0%|          | 1/244 [00:00<00:29,  8.36it/s]"
          ],
          "name": "stderr"
        },
        {
          "output_type": "stream",
          "text": [
            "T Loss: 0.2098 V Loss: 0.2174 V MCRMSE: 0.2194\n",
            "Epoch 14\n"
          ],
          "name": "stdout"
        },
        {
          "output_type": "stream",
          "text": [
            "100%|██████████| 244/244 [00:29<00:00,  8.22it/s]\n",
            "100%|██████████| 20/20 [00:00<00:00, 21.24it/s]\n",
            "  0%|          | 1/244 [00:00<00:29,  8.33it/s]"
          ],
          "name": "stderr"
        },
        {
          "output_type": "stream",
          "text": [
            "T Loss: 0.2077 V Loss: 0.2125 V MCRMSE: 0.2144\n",
            "Best valid MCRMSE updated to 0.21440154314041138\n",
            "Epoch 15\n"
          ],
          "name": "stdout"
        },
        {
          "output_type": "stream",
          "text": [
            "100%|██████████| 244/244 [00:29<00:00,  8.24it/s]\n",
            "100%|██████████| 20/20 [00:00<00:00, 21.09it/s]\n",
            "  0%|          | 1/244 [00:00<00:29,  8.30it/s]"
          ],
          "name": "stderr"
        },
        {
          "output_type": "stream",
          "text": [
            "T Loss: 0.2046 V Loss: 0.2081 V MCRMSE: 0.2100\n",
            "Best valid MCRMSE updated to 0.21004745364189148\n",
            "Epoch 16\n"
          ],
          "name": "stdout"
        },
        {
          "output_type": "stream",
          "text": [
            "100%|██████████| 244/244 [00:29<00:00,  8.21it/s]\n",
            "100%|██████████| 20/20 [00:00<00:00, 20.99it/s]\n",
            "  0%|          | 1/244 [00:00<00:29,  8.15it/s]"
          ],
          "name": "stderr"
        },
        {
          "output_type": "stream",
          "text": [
            "T Loss: 0.2010 V Loss: 0.2065 V MCRMSE: 0.2084\n",
            "Best valid MCRMSE updated to 0.20843589305877686\n",
            "Epoch 17\n"
          ],
          "name": "stdout"
        },
        {
          "output_type": "stream",
          "text": [
            "100%|██████████| 244/244 [00:29<00:00,  8.21it/s]\n",
            "100%|██████████| 20/20 [00:00<00:00, 21.14it/s]\n",
            "  0%|          | 1/244 [00:00<00:29,  8.22it/s]"
          ],
          "name": "stderr"
        },
        {
          "output_type": "stream",
          "text": [
            "T Loss: 0.2005 V Loss: 0.2052 V MCRMSE: 0.2072\n",
            "Best valid MCRMSE updated to 0.20716696977615356\n",
            "Epoch 18\n"
          ],
          "name": "stdout"
        },
        {
          "output_type": "stream",
          "text": [
            "100%|██████████| 244/244 [00:29<00:00,  8.23it/s]\n",
            "100%|██████████| 20/20 [00:00<00:00, 21.15it/s]\n",
            "  0%|          | 1/244 [00:00<00:29,  8.21it/s]"
          ],
          "name": "stderr"
        },
        {
          "output_type": "stream",
          "text": [
            "T Loss: 0.1975 V Loss: 0.2042 V MCRMSE: 0.2062\n",
            "Best valid MCRMSE updated to 0.2061920464038849\n",
            "Epoch 19\n"
          ],
          "name": "stdout"
        },
        {
          "output_type": "stream",
          "text": [
            "100%|██████████| 244/244 [00:29<00:00,  8.24it/s]\n",
            "100%|██████████| 20/20 [00:00<00:00, 21.20it/s]\n",
            "  0%|          | 1/244 [00:00<00:28,  8.38it/s]"
          ],
          "name": "stderr"
        },
        {
          "output_type": "stream",
          "text": [
            "T Loss: 0.1961 V Loss: 0.2050 V MCRMSE: 0.2069\n",
            "Epoch 20\n"
          ],
          "name": "stdout"
        },
        {
          "output_type": "stream",
          "text": [
            "100%|██████████| 244/244 [00:29<00:00,  8.23it/s]\n",
            "100%|██████████| 20/20 [00:00<00:00, 21.20it/s]\n",
            "  0%|          | 1/244 [00:00<00:29,  8.35it/s]"
          ],
          "name": "stderr"
        },
        {
          "output_type": "stream",
          "text": [
            "T Loss: 0.1945 V Loss: 0.1996 V MCRMSE: 0.2016\n",
            "Best valid MCRMSE updated to 0.20159006118774414\n",
            "Epoch 21\n"
          ],
          "name": "stdout"
        },
        {
          "output_type": "stream",
          "text": [
            "100%|██████████| 244/244 [00:29<00:00,  8.25it/s]\n",
            "100%|██████████| 20/20 [00:00<00:00, 21.18it/s]\n",
            "  0%|          | 1/244 [00:00<00:28,  8.38it/s]"
          ],
          "name": "stderr"
        },
        {
          "output_type": "stream",
          "text": [
            "T Loss: 0.1922 V Loss: 0.1989 V MCRMSE: 0.2008\n",
            "Best valid MCRMSE updated to 0.200836643576622\n",
            "Epoch 22\n"
          ],
          "name": "stdout"
        },
        {
          "output_type": "stream",
          "text": [
            "100%|██████████| 244/244 [00:29<00:00,  8.25it/s]\n",
            "100%|██████████| 20/20 [00:00<00:00, 21.26it/s]\n",
            "  0%|          | 1/244 [00:00<00:29,  8.28it/s]"
          ],
          "name": "stderr"
        },
        {
          "output_type": "stream",
          "text": [
            "T Loss: 0.1898 V Loss: 0.2032 V MCRMSE: 0.2052\n",
            "Epoch 23\n"
          ],
          "name": "stdout"
        },
        {
          "output_type": "stream",
          "text": [
            "100%|██████████| 244/244 [00:29<00:00,  8.23it/s]\n",
            "100%|██████████| 20/20 [00:00<00:00, 21.19it/s]\n",
            "  0%|          | 1/244 [00:00<00:29,  8.24it/s]"
          ],
          "name": "stderr"
        },
        {
          "output_type": "stream",
          "text": [
            "T Loss: 0.1886 V Loss: 0.2046 V MCRMSE: 0.2065\n",
            "Epoch 24\n"
          ],
          "name": "stdout"
        },
        {
          "output_type": "stream",
          "text": [
            "100%|██████████| 244/244 [00:29<00:00,  8.24it/s]\n",
            "100%|██████████| 20/20 [00:00<00:00, 21.02it/s]\n",
            "  0%|          | 1/244 [00:00<00:29,  8.18it/s]"
          ],
          "name": "stderr"
        },
        {
          "output_type": "stream",
          "text": [
            "T Loss: 0.1876 V Loss: 0.1958 V MCRMSE: 0.1981\n",
            "Best valid MCRMSE updated to 0.19812023639678955\n",
            "Epoch 25\n"
          ],
          "name": "stdout"
        },
        {
          "output_type": "stream",
          "text": [
            "100%|██████████| 244/244 [00:29<00:00,  8.20it/s]\n",
            "100%|██████████| 20/20 [00:00<00:00, 21.24it/s]\n",
            "  0%|          | 1/244 [00:00<00:29,  8.24it/s]"
          ],
          "name": "stderr"
        },
        {
          "output_type": "stream",
          "text": [
            "T Loss: 0.1867 V Loss: 0.1951 V MCRMSE: 0.1971\n",
            "Best valid MCRMSE updated to 0.19709265232086182\n",
            "Epoch 26\n"
          ],
          "name": "stdout"
        },
        {
          "output_type": "stream",
          "text": [
            "100%|██████████| 244/244 [00:29<00:00,  8.26it/s]\n",
            "100%|██████████| 20/20 [00:00<00:00, 21.23it/s]\n",
            "  0%|          | 1/244 [00:00<00:29,  8.27it/s]"
          ],
          "name": "stderr"
        },
        {
          "output_type": "stream",
          "text": [
            "T Loss: 0.1844 V Loss: 0.1921 V MCRMSE: 0.1941\n",
            "Best valid MCRMSE updated to 0.19412851333618164\n",
            "Epoch 27\n"
          ],
          "name": "stdout"
        },
        {
          "output_type": "stream",
          "text": [
            "100%|██████████| 244/244 [00:29<00:00,  8.24it/s]\n",
            "100%|██████████| 20/20 [00:00<00:00, 21.15it/s]\n",
            "  0%|          | 1/244 [00:00<00:29,  8.20it/s]"
          ],
          "name": "stderr"
        },
        {
          "output_type": "stream",
          "text": [
            "T Loss: 0.1837 V Loss: 0.1945 V MCRMSE: 0.1964\n",
            "Epoch 28\n"
          ],
          "name": "stdout"
        },
        {
          "output_type": "stream",
          "text": [
            "100%|██████████| 244/244 [00:29<00:00,  8.26it/s]\n",
            "100%|██████████| 20/20 [00:00<00:00, 21.28it/s]\n",
            "  0%|          | 1/244 [00:00<00:29,  8.25it/s]"
          ],
          "name": "stderr"
        },
        {
          "output_type": "stream",
          "text": [
            "T Loss: 0.1829 V Loss: 0.1912 V MCRMSE: 0.1934\n",
            "Best valid MCRMSE updated to 0.19339051842689514\n",
            "Epoch 29\n"
          ],
          "name": "stdout"
        },
        {
          "output_type": "stream",
          "text": [
            "100%|██████████| 244/244 [00:29<00:00,  8.26it/s]\n",
            "100%|██████████| 20/20 [00:00<00:00, 21.26it/s]\n",
            "  0%|          | 1/244 [00:00<00:29,  8.30it/s]"
          ],
          "name": "stderr"
        },
        {
          "output_type": "stream",
          "text": [
            "T Loss: 0.1811 V Loss: 0.1904 V MCRMSE: 0.1925\n",
            "Best valid MCRMSE updated to 0.1925373673439026\n",
            "Epoch 30\n"
          ],
          "name": "stdout"
        },
        {
          "output_type": "stream",
          "text": [
            "100%|██████████| 244/244 [00:29<00:00,  8.24it/s]\n",
            "100%|██████████| 20/20 [00:00<00:00, 21.13it/s]\n",
            "  0%|          | 1/244 [00:00<00:29,  8.19it/s]"
          ],
          "name": "stderr"
        },
        {
          "output_type": "stream",
          "text": [
            "T Loss: 0.1797 V Loss: 0.1881 V MCRMSE: 0.1902\n",
            "Best valid MCRMSE updated to 0.19020360708236694\n",
            "Epoch 31\n"
          ],
          "name": "stdout"
        },
        {
          "output_type": "stream",
          "text": [
            "100%|██████████| 244/244 [00:29<00:00,  8.25it/s]\n",
            "100%|██████████| 20/20 [00:00<00:00, 21.26it/s]\n",
            "  0%|          | 1/244 [00:00<00:29,  8.33it/s]"
          ],
          "name": "stderr"
        },
        {
          "output_type": "stream",
          "text": [
            "T Loss: 0.1782 V Loss: 0.1872 V MCRMSE: 0.1894\n",
            "Best valid MCRMSE updated to 0.18937948346138\n",
            "Epoch 32\n"
          ],
          "name": "stdout"
        },
        {
          "output_type": "stream",
          "text": [
            "100%|██████████| 244/244 [00:29<00:00,  8.25it/s]\n",
            "100%|██████████| 20/20 [00:00<00:00, 21.08it/s]\n",
            "  0%|          | 1/244 [00:00<00:29,  8.26it/s]"
          ],
          "name": "stderr"
        },
        {
          "output_type": "stream",
          "text": [
            "T Loss: 0.1775 V Loss: 0.1897 V MCRMSE: 0.1917\n",
            "Epoch 33\n"
          ],
          "name": "stdout"
        },
        {
          "output_type": "stream",
          "text": [
            "100%|██████████| 244/244 [00:29<00:00,  8.23it/s]\n",
            "100%|██████████| 20/20 [00:00<00:00, 21.23it/s]\n",
            "  0%|          | 1/244 [00:00<00:29,  8.33it/s]"
          ],
          "name": "stderr"
        },
        {
          "output_type": "stream",
          "text": [
            "T Loss: 0.1768 V Loss: 0.1886 V MCRMSE: 0.1907\n",
            "Epoch 34\n"
          ],
          "name": "stdout"
        },
        {
          "output_type": "stream",
          "text": [
            "100%|██████████| 244/244 [00:29<00:00,  8.27it/s]\n",
            "100%|██████████| 20/20 [00:00<00:00, 21.29it/s]\n",
            "  0%|          | 1/244 [00:00<00:29,  8.21it/s]"
          ],
          "name": "stderr"
        },
        {
          "output_type": "stream",
          "text": [
            "T Loss: 0.1758 V Loss: 0.1868 V MCRMSE: 0.1891\n",
            "Best valid MCRMSE updated to 0.18907317519187927\n",
            "Epoch 35\n"
          ],
          "name": "stdout"
        },
        {
          "output_type": "stream",
          "text": [
            "100%|██████████| 244/244 [00:29<00:00,  8.27it/s]\n",
            "100%|██████████| 20/20 [00:00<00:00, 21.29it/s]\n",
            "  0%|          | 1/244 [00:00<00:29,  8.35it/s]"
          ],
          "name": "stderr"
        },
        {
          "output_type": "stream",
          "text": [
            "T Loss: 0.1747 V Loss: 0.1874 V MCRMSE: 0.1895\n",
            "Epoch 36\n"
          ],
          "name": "stdout"
        },
        {
          "output_type": "stream",
          "text": [
            "100%|██████████| 244/244 [00:29<00:00,  8.28it/s]\n",
            "100%|██████████| 20/20 [00:00<00:00, 21.30it/s]\n",
            "  0%|          | 1/244 [00:00<00:29,  8.25it/s]"
          ],
          "name": "stderr"
        },
        {
          "output_type": "stream",
          "text": [
            "T Loss: 0.1738 V Loss: 0.1861 V MCRMSE: 0.1883\n",
            "Best valid MCRMSE updated to 0.18827275931835175\n",
            "Epoch 37\n"
          ],
          "name": "stdout"
        },
        {
          "output_type": "stream",
          "text": [
            "100%|██████████| 244/244 [00:29<00:00,  8.28it/s]\n",
            "100%|██████████| 20/20 [00:00<00:00, 21.20it/s]\n",
            "  0%|          | 1/244 [00:00<00:29,  8.32it/s]"
          ],
          "name": "stderr"
        },
        {
          "output_type": "stream",
          "text": [
            "T Loss: 0.1733 V Loss: 0.1868 V MCRMSE: 0.1891\n",
            "Epoch 38\n"
          ],
          "name": "stdout"
        },
        {
          "output_type": "stream",
          "text": [
            "100%|██████████| 244/244 [00:29<00:00,  8.27it/s]\n",
            "100%|██████████| 20/20 [00:00<00:00, 21.31it/s]\n",
            "  0%|          | 1/244 [00:00<00:29,  8.34it/s]"
          ],
          "name": "stderr"
        },
        {
          "output_type": "stream",
          "text": [
            "T Loss: 0.1714 V Loss: 0.1813 V MCRMSE: 0.1837\n",
            "Best valid MCRMSE updated to 0.18365463614463806\n",
            "Epoch 39\n"
          ],
          "name": "stdout"
        },
        {
          "output_type": "stream",
          "text": [
            "100%|██████████| 244/244 [00:29<00:00,  8.28it/s]\n",
            "100%|██████████| 20/20 [00:00<00:00, 21.29it/s]\n",
            "  0%|          | 1/244 [00:00<00:29,  8.31it/s]"
          ],
          "name": "stderr"
        },
        {
          "output_type": "stream",
          "text": [
            "T Loss: 0.1715 V Loss: 0.1828 V MCRMSE: 0.1852\n",
            "Epoch 40\n"
          ],
          "name": "stdout"
        },
        {
          "output_type": "stream",
          "text": [
            "100%|██████████| 244/244 [00:29<00:00,  8.28it/s]\n",
            "100%|██████████| 20/20 [00:00<00:00, 21.28it/s]\n",
            "  0%|          | 1/244 [00:00<00:29,  8.25it/s]"
          ],
          "name": "stderr"
        },
        {
          "output_type": "stream",
          "text": [
            "T Loss: 0.1708 V Loss: 0.1845 V MCRMSE: 0.1868\n",
            "Epoch 41\n"
          ],
          "name": "stdout"
        },
        {
          "output_type": "stream",
          "text": [
            "100%|██████████| 244/244 [00:29<00:00,  8.28it/s]\n",
            "100%|██████████| 20/20 [00:00<00:00, 21.33it/s]\n",
            "  0%|          | 1/244 [00:00<00:29,  8.32it/s]"
          ],
          "name": "stderr"
        },
        {
          "output_type": "stream",
          "text": [
            "T Loss: 0.1699 V Loss: 0.1846 V MCRMSE: 0.1869\n",
            "Epoch 42\n"
          ],
          "name": "stdout"
        },
        {
          "output_type": "stream",
          "text": [
            "100%|██████████| 244/244 [00:29<00:00,  8.28it/s]\n",
            "100%|██████████| 20/20 [00:00<00:00, 21.28it/s]\n",
            "  0%|          | 1/244 [00:00<00:29,  8.27it/s]"
          ],
          "name": "stderr"
        },
        {
          "output_type": "stream",
          "text": [
            "T Loss: 0.1688 V Loss: 0.1793 V MCRMSE: 0.1817\n",
            "Best valid MCRMSE updated to 0.18170806765556335\n",
            "Epoch 43\n"
          ],
          "name": "stdout"
        },
        {
          "output_type": "stream",
          "text": [
            "100%|██████████| 244/244 [00:29<00:00,  8.27it/s]\n",
            "100%|██████████| 20/20 [00:00<00:00, 21.20it/s]\n",
            "  0%|          | 1/244 [00:00<00:29,  8.35it/s]"
          ],
          "name": "stderr"
        },
        {
          "output_type": "stream",
          "text": [
            "T Loss: 0.1679 V Loss: 0.1809 V MCRMSE: 0.1832\n",
            "Epoch 44\n"
          ],
          "name": "stdout"
        },
        {
          "output_type": "stream",
          "text": [
            "100%|██████████| 244/244 [00:29<00:00,  8.27it/s]\n",
            "100%|██████████| 20/20 [00:00<00:00, 21.36it/s]\n",
            "  0%|          | 1/244 [00:00<00:29,  8.33it/s]"
          ],
          "name": "stderr"
        },
        {
          "output_type": "stream",
          "text": [
            "T Loss: 0.1678 V Loss: 0.1831 V MCRMSE: 0.1855\n",
            "Epoch 45\n"
          ],
          "name": "stdout"
        },
        {
          "output_type": "stream",
          "text": [
            "100%|██████████| 244/244 [00:29<00:00,  8.28it/s]\n",
            "100%|██████████| 20/20 [00:00<00:00, 21.23it/s]\n",
            "  0%|          | 1/244 [00:00<00:29,  8.29it/s]"
          ],
          "name": "stderr"
        },
        {
          "output_type": "stream",
          "text": [
            "T Loss: 0.1671 V Loss: 0.1782 V MCRMSE: 0.1807\n",
            "Best valid MCRMSE updated to 0.1807471215724945\n",
            "Epoch 46\n"
          ],
          "name": "stdout"
        },
        {
          "output_type": "stream",
          "text": [
            "100%|██████████| 244/244 [00:29<00:00,  8.27it/s]\n",
            "100%|██████████| 20/20 [00:00<00:00, 21.27it/s]\n",
            "  0%|          | 1/244 [00:00<00:29,  8.22it/s]"
          ],
          "name": "stderr"
        },
        {
          "output_type": "stream",
          "text": [
            "T Loss: 0.1665 V Loss: 0.1823 V MCRMSE: 0.1847\n",
            "Epoch 47\n"
          ],
          "name": "stdout"
        },
        {
          "output_type": "stream",
          "text": [
            "100%|██████████| 244/244 [00:29<00:00,  8.29it/s]\n",
            "100%|██████████| 20/20 [00:00<00:00, 21.36it/s]\n",
            "  0%|          | 1/244 [00:00<00:29,  8.24it/s]"
          ],
          "name": "stderr"
        },
        {
          "output_type": "stream",
          "text": [
            "T Loss: 0.1662 V Loss: 0.1771 V MCRMSE: 0.1796\n",
            "Best valid MCRMSE updated to 0.17964968085289001\n",
            "Epoch 48\n"
          ],
          "name": "stdout"
        },
        {
          "output_type": "stream",
          "text": [
            "100%|██████████| 244/244 [00:29<00:00,  8.28it/s]\n",
            "100%|██████████| 20/20 [00:00<00:00, 21.36it/s]\n",
            "  0%|          | 1/244 [00:00<00:29,  8.29it/s]"
          ],
          "name": "stderr"
        },
        {
          "output_type": "stream",
          "text": [
            "T Loss: 0.1649 V Loss: 0.1774 V MCRMSE: 0.1799\n",
            "Epoch 49\n"
          ],
          "name": "stdout"
        },
        {
          "output_type": "stream",
          "text": [
            "100%|██████████| 244/244 [00:29<00:00,  8.28it/s]\n",
            "100%|██████████| 20/20 [00:00<00:00, 21.35it/s]\n",
            "  0%|          | 1/244 [00:00<00:29,  8.31it/s]"
          ],
          "name": "stderr"
        },
        {
          "output_type": "stream",
          "text": [
            "T Loss: 0.1639 V Loss: 0.1777 V MCRMSE: 0.1803\n",
            "Epoch 50\n"
          ],
          "name": "stdout"
        },
        {
          "output_type": "stream",
          "text": [
            "100%|██████████| 244/244 [00:29<00:00,  8.26it/s]\n",
            "100%|██████████| 20/20 [00:00<00:00, 21.34it/s]\n",
            "  0%|          | 1/244 [00:00<00:29,  8.36it/s]"
          ],
          "name": "stderr"
        },
        {
          "output_type": "stream",
          "text": [
            "T Loss: 0.1639 V Loss: 0.1759 V MCRMSE: 0.1785\n",
            "Best valid MCRMSE updated to 0.1784539669752121\n",
            "Epoch 51\n"
          ],
          "name": "stdout"
        },
        {
          "output_type": "stream",
          "text": [
            "100%|██████████| 244/244 [00:29<00:00,  8.26it/s]\n",
            "100%|██████████| 20/20 [00:00<00:00, 21.21it/s]\n",
            "  0%|          | 1/244 [00:00<00:29,  8.22it/s]"
          ],
          "name": "stderr"
        },
        {
          "output_type": "stream",
          "text": [
            "T Loss: 0.1637 V Loss: 0.1751 V MCRMSE: 0.1776\n",
            "Best valid MCRMSE updated to 0.1776195466518402\n",
            "Epoch 52\n"
          ],
          "name": "stdout"
        },
        {
          "output_type": "stream",
          "text": [
            "100%|██████████| 244/244 [00:29<00:00,  8.25it/s]\n",
            "100%|██████████| 20/20 [00:00<00:00, 21.31it/s]\n",
            "  0%|          | 1/244 [00:00<00:29,  8.31it/s]"
          ],
          "name": "stderr"
        },
        {
          "output_type": "stream",
          "text": [
            "T Loss: 0.1626 V Loss: 0.1764 V MCRMSE: 0.1792\n",
            "Epoch 53\n"
          ],
          "name": "stdout"
        },
        {
          "output_type": "stream",
          "text": [
            "100%|██████████| 244/244 [00:29<00:00,  8.27it/s]\n",
            "100%|██████████| 20/20 [00:00<00:00, 21.22it/s]\n",
            "  0%|          | 1/244 [00:00<00:29,  8.17it/s]"
          ],
          "name": "stderr"
        },
        {
          "output_type": "stream",
          "text": [
            "T Loss: 0.1621 V Loss: 0.1769 V MCRMSE: 0.1798\n",
            "Epoch 54\n"
          ],
          "name": "stdout"
        },
        {
          "output_type": "stream",
          "text": [
            "100%|██████████| 244/244 [00:29<00:00,  8.23it/s]\n",
            "100%|██████████| 20/20 [00:00<00:00, 21.07it/s]\n",
            "  0%|          | 1/244 [00:00<00:29,  8.29it/s]"
          ],
          "name": "stderr"
        },
        {
          "output_type": "stream",
          "text": [
            "T Loss: 0.1619 V Loss: 0.1763 V MCRMSE: 0.1791\n",
            "Epoch 55\n"
          ],
          "name": "stdout"
        },
        {
          "output_type": "stream",
          "text": [
            "100%|██████████| 244/244 [00:29<00:00,  8.21it/s]\n",
            "100%|██████████| 20/20 [00:00<00:00, 21.07it/s]\n",
            "  0%|          | 1/244 [00:00<00:29,  8.16it/s]"
          ],
          "name": "stderr"
        },
        {
          "output_type": "stream",
          "text": [
            "T Loss: 0.1611 V Loss: 0.1805 V MCRMSE: 0.1833\n",
            "Epoch 56\n"
          ],
          "name": "stdout"
        },
        {
          "output_type": "stream",
          "text": [
            "100%|██████████| 244/244 [00:29<00:00,  8.20it/s]\n",
            "100%|██████████| 20/20 [00:00<00:00, 20.99it/s]\n",
            "  0%|          | 1/244 [00:00<00:29,  8.27it/s]"
          ],
          "name": "stderr"
        },
        {
          "output_type": "stream",
          "text": [
            "T Loss: 0.1604 V Loss: 0.1753 V MCRMSE: 0.1781\n",
            "Epoch 57\n"
          ],
          "name": "stdout"
        },
        {
          "output_type": "stream",
          "text": [
            "100%|██████████| 244/244 [00:29<00:00,  8.22it/s]\n",
            "100%|██████████| 20/20 [00:00<00:00, 21.10it/s]\n",
            "  0%|          | 1/244 [00:00<00:29,  8.25it/s]"
          ],
          "name": "stderr"
        },
        {
          "output_type": "stream",
          "text": [
            "T Loss: 0.1605 V Loss: 0.1749 V MCRMSE: 0.1775\n",
            "Best valid MCRMSE updated to 0.17751821875572205\n",
            "Epoch 58\n"
          ],
          "name": "stdout"
        },
        {
          "output_type": "stream",
          "text": [
            "100%|██████████| 244/244 [00:29<00:00,  8.21it/s]\n",
            "100%|██████████| 20/20 [00:00<00:00, 21.06it/s]\n",
            "  0%|          | 1/244 [00:00<00:29,  8.33it/s]"
          ],
          "name": "stderr"
        },
        {
          "output_type": "stream",
          "text": [
            "T Loss: 0.1591 V Loss: 0.1744 V MCRMSE: 0.1771\n",
            "Best valid MCRMSE updated to 0.17708715796470642\n",
            "Epoch 59\n"
          ],
          "name": "stdout"
        },
        {
          "output_type": "stream",
          "text": [
            "100%|██████████| 244/244 [00:29<00:00,  8.21it/s]\n",
            "100%|██████████| 20/20 [00:00<00:00, 21.05it/s]\n",
            "  0%|          | 1/244 [00:00<00:29,  8.26it/s]"
          ],
          "name": "stderr"
        },
        {
          "output_type": "stream",
          "text": [
            "T Loss: 0.1585 V Loss: 0.1713 V MCRMSE: 0.1742\n",
            "Best valid MCRMSE updated to 0.17424243688583374\n",
            "Epoch 60\n"
          ],
          "name": "stdout"
        },
        {
          "output_type": "stream",
          "text": [
            "100%|██████████| 244/244 [00:29<00:00,  8.19it/s]\n",
            "100%|██████████| 20/20 [00:00<00:00, 20.91it/s]\n",
            "  0%|          | 1/244 [00:00<00:30,  8.00it/s]"
          ],
          "name": "stderr"
        },
        {
          "output_type": "stream",
          "text": [
            "T Loss: 0.1592 V Loss: 0.1718 V MCRMSE: 0.1746\n",
            "Epoch 61\n"
          ],
          "name": "stdout"
        },
        {
          "output_type": "stream",
          "text": [
            "100%|██████████| 244/244 [00:29<00:00,  8.18it/s]\n",
            "100%|██████████| 20/20 [00:00<00:00, 20.86it/s]\n",
            "  0%|          | 1/244 [00:00<00:29,  8.24it/s]"
          ],
          "name": "stderr"
        },
        {
          "output_type": "stream",
          "text": [
            "T Loss: 0.1578 V Loss: 0.1723 V MCRMSE: 0.1753\n",
            "Epoch 62\n"
          ],
          "name": "stdout"
        },
        {
          "output_type": "stream",
          "text": [
            "100%|██████████| 244/244 [00:29<00:00,  8.17it/s]\n",
            "100%|██████████| 20/20 [00:00<00:00, 20.91it/s]\n",
            "  0%|          | 1/244 [00:00<00:29,  8.16it/s]"
          ],
          "name": "stderr"
        },
        {
          "output_type": "stream",
          "text": [
            "T Loss: 0.1570 V Loss: 0.1715 V MCRMSE: 0.1744\n",
            "Epoch 63\n"
          ],
          "name": "stdout"
        },
        {
          "output_type": "stream",
          "text": [
            "100%|██████████| 244/244 [00:29<00:00,  8.18it/s]\n",
            "100%|██████████| 20/20 [00:00<00:00, 21.01it/s]\n",
            "  0%|          | 1/244 [00:00<00:29,  8.16it/s]"
          ],
          "name": "stderr"
        },
        {
          "output_type": "stream",
          "text": [
            "T Loss: 0.1576 V Loss: 0.1751 V MCRMSE: 0.1780\n",
            "Epoch 64\n"
          ],
          "name": "stdout"
        },
        {
          "output_type": "stream",
          "text": [
            "100%|██████████| 244/244 [00:29<00:00,  8.16it/s]\n",
            "100%|██████████| 20/20 [00:00<00:00, 20.89it/s]\n",
            "  0%|          | 1/244 [00:00<00:29,  8.30it/s]"
          ],
          "name": "stderr"
        },
        {
          "output_type": "stream",
          "text": [
            "T Loss: 0.1569 V Loss: 0.1718 V MCRMSE: 0.1748\n",
            "Epoch 65\n"
          ],
          "name": "stdout"
        },
        {
          "output_type": "stream",
          "text": [
            "100%|██████████| 244/244 [00:29<00:00,  8.17it/s]\n",
            "100%|██████████| 20/20 [00:00<00:00, 20.84it/s]\n",
            "  0%|          | 1/244 [00:00<00:29,  8.28it/s]"
          ],
          "name": "stderr"
        },
        {
          "output_type": "stream",
          "text": [
            "T Loss: 0.1557 V Loss: 0.1726 V MCRMSE: 0.1757\n",
            "Epoch 66\n"
          ],
          "name": "stdout"
        },
        {
          "output_type": "stream",
          "text": [
            "100%|██████████| 244/244 [00:29<00:00,  8.17it/s]\n",
            "100%|██████████| 20/20 [00:00<00:00, 20.81it/s]\n",
            "  0%|          | 1/244 [00:00<00:29,  8.11it/s]"
          ],
          "name": "stderr"
        },
        {
          "output_type": "stream",
          "text": [
            "T Loss: 0.1556 V Loss: 0.1715 V MCRMSE: 0.1744\n",
            "Epoch 67\n"
          ],
          "name": "stdout"
        },
        {
          "output_type": "stream",
          "text": [
            "100%|██████████| 244/244 [00:29<00:00,  8.17it/s]\n",
            "100%|██████████| 20/20 [00:00<00:00, 20.82it/s]\n",
            "  0%|          | 1/244 [00:00<00:29,  8.33it/s]"
          ],
          "name": "stderr"
        },
        {
          "output_type": "stream",
          "text": [
            "T Loss: 0.1555 V Loss: 0.1696 V MCRMSE: 0.1728\n",
            "Best valid MCRMSE updated to 0.17284470796585083\n",
            "Epoch 68\n"
          ],
          "name": "stdout"
        },
        {
          "output_type": "stream",
          "text": [
            "100%|██████████| 244/244 [00:29<00:00,  8.17it/s]\n",
            "100%|██████████| 20/20 [00:00<00:00, 20.83it/s]\n",
            "  0%|          | 1/244 [00:00<00:29,  8.31it/s]"
          ],
          "name": "stderr"
        },
        {
          "output_type": "stream",
          "text": [
            "T Loss: 0.1545 V Loss: 0.1711 V MCRMSE: 0.1743\n",
            "Epoch 69\n"
          ],
          "name": "stdout"
        },
        {
          "output_type": "stream",
          "text": [
            "100%|██████████| 244/244 [00:29<00:00,  8.18it/s]\n",
            "100%|██████████| 20/20 [00:00<00:00, 20.96it/s]\n",
            "  0%|          | 1/244 [00:00<00:29,  8.14it/s]"
          ],
          "name": "stderr"
        },
        {
          "output_type": "stream",
          "text": [
            "T Loss: 0.1545 V Loss: 0.1705 V MCRMSE: 0.1737\n",
            "Epoch 70\n"
          ],
          "name": "stdout"
        },
        {
          "output_type": "stream",
          "text": [
            "100%|██████████| 244/244 [00:29<00:00,  8.18it/s]\n",
            "100%|██████████| 20/20 [00:00<00:00, 21.07it/s]\n",
            "  0%|          | 1/244 [00:00<00:29,  8.20it/s]"
          ],
          "name": "stderr"
        },
        {
          "output_type": "stream",
          "text": [
            "T Loss: 0.1545 V Loss: 0.1704 V MCRMSE: 0.1735\n",
            "Epoch 71\n"
          ],
          "name": "stdout"
        },
        {
          "output_type": "stream",
          "text": [
            "100%|██████████| 244/244 [00:29<00:00,  8.18it/s]\n",
            "100%|██████████| 20/20 [00:00<00:00, 20.90it/s]\n",
            "  0%|          | 1/244 [00:00<00:29,  8.12it/s]"
          ],
          "name": "stderr"
        },
        {
          "output_type": "stream",
          "text": [
            "T Loss: 0.1543 V Loss: 0.1695 V MCRMSE: 0.1727\n",
            "Best valid MCRMSE updated to 0.17266997694969177\n",
            "Epoch 72\n"
          ],
          "name": "stdout"
        },
        {
          "output_type": "stream",
          "text": [
            "100%|██████████| 244/244 [00:29<00:00,  8.18it/s]\n",
            "100%|██████████| 20/20 [00:00<00:00, 20.94it/s]\n",
            "  0%|          | 1/244 [00:00<00:29,  8.26it/s]"
          ],
          "name": "stderr"
        },
        {
          "output_type": "stream",
          "text": [
            "T Loss: 0.1535 V Loss: 0.1684 V MCRMSE: 0.1717\n",
            "Best valid MCRMSE updated to 0.17167261242866516\n",
            "Epoch 73\n"
          ],
          "name": "stdout"
        },
        {
          "output_type": "stream",
          "text": [
            "100%|██████████| 244/244 [00:29<00:00,  8.18it/s]\n",
            "100%|██████████| 20/20 [00:00<00:00, 20.96it/s]\n",
            "  0%|          | 1/244 [00:00<00:29,  8.30it/s]"
          ],
          "name": "stderr"
        },
        {
          "output_type": "stream",
          "text": [
            "T Loss: 0.1530 V Loss: 0.1740 V MCRMSE: 0.1770\n",
            "Epoch 74\n"
          ],
          "name": "stdout"
        },
        {
          "output_type": "stream",
          "text": [
            "100%|██████████| 244/244 [00:29<00:00,  8.18it/s]\n",
            "100%|██████████| 20/20 [00:00<00:00, 20.94it/s]\n",
            "  0%|          | 1/244 [00:00<00:29,  8.31it/s]"
          ],
          "name": "stderr"
        },
        {
          "output_type": "stream",
          "text": [
            "T Loss: 0.1529 V Loss: 0.1680 V MCRMSE: 0.1713\n",
            "Best valid MCRMSE updated to 0.17127583920955658\n",
            "Epoch 75\n"
          ],
          "name": "stdout"
        },
        {
          "output_type": "stream",
          "text": [
            "100%|██████████| 244/244 [00:29<00:00,  8.19it/s]\n",
            "100%|██████████| 20/20 [00:00<00:00, 21.06it/s]\n",
            "  0%|          | 1/244 [00:00<00:29,  8.18it/s]"
          ],
          "name": "stderr"
        },
        {
          "output_type": "stream",
          "text": [
            "T Loss: 0.1526 V Loss: 0.1687 V MCRMSE: 0.1718\n",
            "Epoch 76\n"
          ],
          "name": "stdout"
        },
        {
          "output_type": "stream",
          "text": [
            "100%|██████████| 244/244 [00:29<00:00,  8.19it/s]\n",
            "100%|██████████| 20/20 [00:00<00:00, 21.01it/s]\n",
            "  0%|          | 1/244 [00:00<00:29,  8.26it/s]"
          ],
          "name": "stderr"
        },
        {
          "output_type": "stream",
          "text": [
            "T Loss: 0.1519 V Loss: 0.1662 V MCRMSE: 0.1692\n",
            "Best valid MCRMSE updated to 0.16924285888671875\n",
            "Epoch 77\n"
          ],
          "name": "stdout"
        },
        {
          "output_type": "stream",
          "text": [
            "100%|██████████| 244/244 [00:29<00:00,  8.22it/s]\n",
            "100%|██████████| 20/20 [00:00<00:00, 21.20it/s]\n",
            "  0%|          | 1/244 [00:00<00:29,  8.19it/s]"
          ],
          "name": "stderr"
        },
        {
          "output_type": "stream",
          "text": [
            "T Loss: 0.1514 V Loss: 0.1663 V MCRMSE: 0.1697\n",
            "Epoch 78\n"
          ],
          "name": "stdout"
        },
        {
          "output_type": "stream",
          "text": [
            "100%|██████████| 244/244 [00:29<00:00,  8.28it/s]\n",
            "100%|██████████| 20/20 [00:00<00:00, 21.28it/s]\n",
            "  0%|          | 1/244 [00:00<00:29,  8.25it/s]"
          ],
          "name": "stderr"
        },
        {
          "output_type": "stream",
          "text": [
            "T Loss: 0.1513 V Loss: 0.1682 V MCRMSE: 0.1713\n",
            "Epoch 79\n"
          ],
          "name": "stdout"
        },
        {
          "output_type": "stream",
          "text": [
            "100%|██████████| 244/244 [00:29<00:00,  8.27it/s]\n",
            "100%|██████████| 20/20 [00:00<00:00, 21.29it/s]\n",
            "  0%|          | 1/244 [00:00<00:29,  8.17it/s]"
          ],
          "name": "stderr"
        },
        {
          "output_type": "stream",
          "text": [
            "T Loss: 0.1514 V Loss: 0.1683 V MCRMSE: 0.1714\n",
            "Epoch 80\n"
          ],
          "name": "stdout"
        },
        {
          "output_type": "stream",
          "text": [
            "100%|██████████| 244/244 [00:29<00:00,  8.27it/s]\n",
            "100%|██████████| 20/20 [00:00<00:00, 21.23it/s]\n",
            "  0%|          | 1/244 [00:00<00:29,  8.34it/s]"
          ],
          "name": "stderr"
        },
        {
          "output_type": "stream",
          "text": [
            "T Loss: 0.1508 V Loss: 0.1669 V MCRMSE: 0.1702\n",
            "Epoch 81\n"
          ],
          "name": "stdout"
        },
        {
          "output_type": "stream",
          "text": [
            "100%|██████████| 244/244 [00:29<00:00,  8.27it/s]\n",
            "100%|██████████| 20/20 [00:00<00:00, 21.20it/s]\n",
            "  0%|          | 1/244 [00:00<00:29,  8.37it/s]"
          ],
          "name": "stderr"
        },
        {
          "output_type": "stream",
          "text": [
            "T Loss: 0.1502 V Loss: 0.1694 V MCRMSE: 0.1723\n",
            "Epoch 82\n"
          ],
          "name": "stdout"
        },
        {
          "output_type": "stream",
          "text": [
            "100%|██████████| 244/244 [00:29<00:00,  8.28it/s]\n",
            "100%|██████████| 20/20 [00:00<00:00, 21.25it/s]\n",
            "  0%|          | 1/244 [00:00<00:29,  8.30it/s]"
          ],
          "name": "stderr"
        },
        {
          "output_type": "stream",
          "text": [
            "T Loss: 0.1505 V Loss: 0.1651 V MCRMSE: 0.1683\n",
            "Best valid MCRMSE updated to 0.16834025084972382\n",
            "Epoch 83\n"
          ],
          "name": "stdout"
        },
        {
          "output_type": "stream",
          "text": [
            "100%|██████████| 244/244 [00:29<00:00,  8.28it/s]\n",
            "100%|██████████| 20/20 [00:00<00:00, 21.21it/s]\n",
            "  0%|          | 1/244 [00:00<00:29,  8.20it/s]"
          ],
          "name": "stderr"
        },
        {
          "output_type": "stream",
          "text": [
            "T Loss: 0.1493 V Loss: 0.1670 V MCRMSE: 0.1703\n",
            "Epoch 84\n"
          ],
          "name": "stdout"
        },
        {
          "output_type": "stream",
          "text": [
            "100%|██████████| 244/244 [00:29<00:00,  8.27it/s]\n",
            "100%|██████████| 20/20 [00:00<00:00, 21.21it/s]\n",
            "  0%|          | 1/244 [00:00<00:29,  8.33it/s]"
          ],
          "name": "stderr"
        },
        {
          "output_type": "stream",
          "text": [
            "T Loss: 0.1495 V Loss: 0.1674 V MCRMSE: 0.1706\n",
            "Epoch 85\n"
          ],
          "name": "stdout"
        },
        {
          "output_type": "stream",
          "text": [
            "100%|██████████| 244/244 [00:29<00:00,  8.27it/s]\n",
            "100%|██████████| 20/20 [00:00<00:00, 21.24it/s]\n",
            "  0%|          | 1/244 [00:00<00:29,  8.36it/s]"
          ],
          "name": "stderr"
        },
        {
          "output_type": "stream",
          "text": [
            "T Loss: 0.1491 V Loss: 0.1652 V MCRMSE: 0.1686\n",
            "Epoch 86\n"
          ],
          "name": "stdout"
        },
        {
          "output_type": "stream",
          "text": [
            "100%|██████████| 244/244 [00:29<00:00,  8.27it/s]\n",
            "100%|██████████| 20/20 [00:00<00:00, 21.25it/s]\n",
            "  0%|          | 1/244 [00:00<00:29,  8.34it/s]"
          ],
          "name": "stderr"
        },
        {
          "output_type": "stream",
          "text": [
            "T Loss: 0.1494 V Loss: 0.1648 V MCRMSE: 0.1684\n",
            "Epoch 87\n"
          ],
          "name": "stdout"
        },
        {
          "output_type": "stream",
          "text": [
            "100%|██████████| 244/244 [00:29<00:00,  8.27it/s]\n",
            "100%|██████████| 20/20 [00:00<00:00, 21.31it/s]\n",
            "  0%|          | 1/244 [00:00<00:29,  8.29it/s]"
          ],
          "name": "stderr"
        },
        {
          "output_type": "stream",
          "text": [
            "T Loss: 0.1483 V Loss: 0.1637 V MCRMSE: 0.1671\n",
            "Best valid MCRMSE updated to 0.16711466014385223\n",
            "Epoch 88\n"
          ],
          "name": "stdout"
        },
        {
          "output_type": "stream",
          "text": [
            "100%|██████████| 244/244 [00:29<00:00,  8.27it/s]\n",
            "100%|██████████| 20/20 [00:00<00:00, 21.18it/s]\n",
            "  0%|          | 1/244 [00:00<00:29,  8.27it/s]"
          ],
          "name": "stderr"
        },
        {
          "output_type": "stream",
          "text": [
            "T Loss: 0.1477 V Loss: 0.1640 V MCRMSE: 0.1676\n",
            "Epoch 89\n"
          ],
          "name": "stdout"
        },
        {
          "output_type": "stream",
          "text": [
            "100%|██████████| 244/244 [00:29<00:00,  8.25it/s]\n",
            "100%|██████████| 20/20 [00:00<00:00, 21.21it/s]\n",
            "  0%|          | 1/244 [00:00<00:29,  8.33it/s]"
          ],
          "name": "stderr"
        },
        {
          "output_type": "stream",
          "text": [
            "T Loss: 0.1476 V Loss: 0.1625 V MCRMSE: 0.1659\n",
            "Best valid MCRMSE updated to 0.16590726375579834\n",
            "Epoch 90\n"
          ],
          "name": "stdout"
        },
        {
          "output_type": "stream",
          "text": [
            "100%|██████████| 244/244 [00:29<00:00,  8.28it/s]\n",
            "100%|██████████| 20/20 [00:00<00:00, 21.33it/s]\n",
            "  0%|          | 1/244 [00:00<00:29,  8.35it/s]"
          ],
          "name": "stderr"
        },
        {
          "output_type": "stream",
          "text": [
            "T Loss: 0.1474 V Loss: 0.1647 V MCRMSE: 0.1683\n",
            "Epoch 91\n"
          ],
          "name": "stdout"
        },
        {
          "output_type": "stream",
          "text": [
            "100%|██████████| 244/244 [00:29<00:00,  8.27it/s]\n",
            "100%|██████████| 20/20 [00:00<00:00, 21.25it/s]\n",
            "  0%|          | 1/244 [00:00<00:29,  8.24it/s]"
          ],
          "name": "stderr"
        },
        {
          "output_type": "stream",
          "text": [
            "T Loss: 0.1472 V Loss: 0.1640 V MCRMSE: 0.1676\n",
            "Epoch 92\n"
          ],
          "name": "stdout"
        },
        {
          "output_type": "stream",
          "text": [
            "100%|██████████| 244/244 [00:29<00:00,  8.28it/s]\n",
            "100%|██████████| 20/20 [00:00<00:00, 21.20it/s]\n",
            "  0%|          | 1/244 [00:00<00:29,  8.29it/s]"
          ],
          "name": "stderr"
        },
        {
          "output_type": "stream",
          "text": [
            "T Loss: 0.1465 V Loss: 0.1627 V MCRMSE: 0.1664\n",
            "Epoch 93\n"
          ],
          "name": "stdout"
        },
        {
          "output_type": "stream",
          "text": [
            "100%|██████████| 244/244 [00:29<00:00,  8.27it/s]\n",
            "100%|██████████| 20/20 [00:00<00:00, 21.35it/s]\n",
            "  0%|          | 1/244 [00:00<00:28,  8.39it/s]"
          ],
          "name": "stderr"
        },
        {
          "output_type": "stream",
          "text": [
            "T Loss: 0.1464 V Loss: 0.1651 V MCRMSE: 0.1689\n",
            "Epoch 94\n"
          ],
          "name": "stdout"
        },
        {
          "output_type": "stream",
          "text": [
            "100%|██████████| 244/244 [00:29<00:00,  8.27it/s]\n",
            "100%|██████████| 20/20 [00:00<00:00, 21.33it/s]\n",
            "  0%|          | 1/244 [00:00<00:29,  8.36it/s]"
          ],
          "name": "stderr"
        },
        {
          "output_type": "stream",
          "text": [
            "T Loss: 0.1465 V Loss: 0.1629 V MCRMSE: 0.1666\n",
            "Epoch 95\n"
          ],
          "name": "stdout"
        },
        {
          "output_type": "stream",
          "text": [
            "100%|██████████| 244/244 [00:29<00:00,  8.29it/s]\n",
            "100%|██████████| 20/20 [00:00<00:00, 21.28it/s]\n",
            "  0%|          | 1/244 [00:00<00:29,  8.20it/s]"
          ],
          "name": "stderr"
        },
        {
          "output_type": "stream",
          "text": [
            "T Loss: 0.1456 V Loss: 0.1629 V MCRMSE: 0.1669\n",
            "Epoch 96\n"
          ],
          "name": "stdout"
        },
        {
          "output_type": "stream",
          "text": [
            "100%|██████████| 244/244 [00:29<00:00,  8.28it/s]\n",
            "100%|██████████| 20/20 [00:00<00:00, 21.21it/s]\n",
            "  0%|          | 1/244 [00:00<00:29,  8.33it/s]"
          ],
          "name": "stderr"
        },
        {
          "output_type": "stream",
          "text": [
            "T Loss: 0.1461 V Loss: 0.1619 V MCRMSE: 0.1656\n",
            "Best valid MCRMSE updated to 0.1655806005001068\n",
            "Epoch 97\n"
          ],
          "name": "stdout"
        },
        {
          "output_type": "stream",
          "text": [
            "100%|██████████| 244/244 [00:29<00:00,  8.25it/s]\n",
            "100%|██████████| 20/20 [00:00<00:00, 21.19it/s]\n",
            "  0%|          | 1/244 [00:00<00:29,  8.23it/s]"
          ],
          "name": "stderr"
        },
        {
          "output_type": "stream",
          "text": [
            "T Loss: 0.1458 V Loss: 0.1643 V MCRMSE: 0.1682\n",
            "Epoch 98\n"
          ],
          "name": "stdout"
        },
        {
          "output_type": "stream",
          "text": [
            "100%|██████████| 244/244 [00:29<00:00,  8.24it/s]\n",
            "100%|██████████| 20/20 [00:00<00:00, 21.25it/s]\n",
            "  0%|          | 1/244 [00:00<00:29,  8.32it/s]"
          ],
          "name": "stderr"
        },
        {
          "output_type": "stream",
          "text": [
            "T Loss: 0.1455 V Loss: 0.1625 V MCRMSE: 0.1664\n",
            "Epoch 99\n"
          ],
          "name": "stdout"
        },
        {
          "output_type": "stream",
          "text": [
            "100%|██████████| 244/244 [00:29<00:00,  8.23it/s]\n",
            "100%|██████████| 20/20 [00:00<00:00, 21.22it/s]\n",
            " 15%|█▌        | 3/20 [00:00<00:00, 21.53it/s]"
          ],
          "name": "stderr"
        },
        {
          "output_type": "stream",
          "text": [
            "T Loss: 0.1453 V Loss: 0.1615 V MCRMSE: 0.1653\n",
            "Best valid MCRMSE updated to 0.1652524471282959\n"
          ],
          "name": "stdout"
        },
        {
          "output_type": "stream",
          "text": [
            "100%|██████████| 20/20 [00:00<00:00, 21.30it/s]\n"
          ],
          "name": "stderr"
        },
        {
          "output_type": "stream",
          "text": [
            "Fold 8\n"
          ],
          "name": "stdout"
        },
        {
          "output_type": "stream",
          "text": [
            "  0%|          | 1/244 [00:00<00:30,  7.86it/s]"
          ],
          "name": "stderr"
        },
        {
          "output_type": "stream",
          "text": [
            "Epoch 0\n"
          ],
          "name": "stdout"
        },
        {
          "output_type": "stream",
          "text": [
            "100%|██████████| 244/244 [00:29<00:00,  8.23it/s]\n",
            "100%|██████████| 20/20 [00:00<00:00, 21.11it/s]\n",
            "  0%|          | 1/244 [00:00<00:29,  8.26it/s]"
          ],
          "name": "stderr"
        },
        {
          "output_type": "stream",
          "text": [
            "T Loss: 0.3518 V Loss: 0.2856 V MCRMSE: 0.2865\n",
            "Best valid MCRMSE updated to 0.2865450978279114\n",
            "Epoch 1\n"
          ],
          "name": "stdout"
        },
        {
          "output_type": "stream",
          "text": [
            "100%|██████████| 244/244 [00:29<00:00,  8.24it/s]\n",
            "100%|██████████| 20/20 [00:00<00:00, 21.18it/s]\n",
            "  0%|          | 1/244 [00:00<00:29,  8.25it/s]"
          ],
          "name": "stderr"
        },
        {
          "output_type": "stream",
          "text": [
            "T Loss: 0.2856 V Loss: 0.2618 V MCRMSE: 0.2627\n",
            "Best valid MCRMSE updated to 0.26274585723876953\n",
            "Epoch 2\n"
          ],
          "name": "stdout"
        },
        {
          "output_type": "stream",
          "text": [
            "100%|██████████| 244/244 [00:29<00:00,  8.24it/s]\n",
            "100%|██████████| 20/20 [00:00<00:00, 21.14it/s]\n",
            "  0%|          | 1/244 [00:00<00:29,  8.23it/s]"
          ],
          "name": "stderr"
        },
        {
          "output_type": "stream",
          "text": [
            "T Loss: 0.2664 V Loss: 0.2517 V MCRMSE: 0.2528\n",
            "Best valid MCRMSE updated to 0.25280922651290894\n",
            "Epoch 3\n"
          ],
          "name": "stdout"
        },
        {
          "output_type": "stream",
          "text": [
            "100%|██████████| 244/244 [00:29<00:00,  8.23it/s]\n",
            "100%|██████████| 20/20 [00:00<00:00, 21.19it/s]\n",
            "  0%|          | 1/244 [00:00<00:29,  8.38it/s]"
          ],
          "name": "stderr"
        },
        {
          "output_type": "stream",
          "text": [
            "T Loss: 0.2533 V Loss: 0.2445 V MCRMSE: 0.2457\n",
            "Best valid MCRMSE updated to 0.24565629661083221\n",
            "Epoch 4\n"
          ],
          "name": "stdout"
        },
        {
          "output_type": "stream",
          "text": [
            "100%|██████████| 244/244 [00:29<00:00,  8.22it/s]\n",
            "100%|██████████| 20/20 [00:00<00:00, 21.15it/s]\n",
            "  0%|          | 1/244 [00:00<00:29,  8.27it/s]"
          ],
          "name": "stderr"
        },
        {
          "output_type": "stream",
          "text": [
            "T Loss: 0.2435 V Loss: 0.2393 V MCRMSE: 0.2403\n",
            "Best valid MCRMSE updated to 0.2402559369802475\n",
            "Epoch 5\n"
          ],
          "name": "stdout"
        },
        {
          "output_type": "stream",
          "text": [
            "100%|██████████| 244/244 [00:29<00:00,  8.25it/s]\n",
            "100%|██████████| 20/20 [00:00<00:00, 21.18it/s]\n",
            "  0%|          | 1/244 [00:00<00:28,  8.38it/s]"
          ],
          "name": "stderr"
        },
        {
          "output_type": "stream",
          "text": [
            "T Loss: 0.2368 V Loss: 0.2315 V MCRMSE: 0.2327\n",
            "Best valid MCRMSE updated to 0.23265837132930756\n",
            "Epoch 6\n"
          ],
          "name": "stdout"
        },
        {
          "output_type": "stream",
          "text": [
            "100%|██████████| 244/244 [00:29<00:00,  8.24it/s]\n",
            "100%|██████████| 20/20 [00:00<00:00, 21.13it/s]\n",
            "  0%|          | 1/244 [00:00<00:29,  8.32it/s]"
          ],
          "name": "stderr"
        },
        {
          "output_type": "stream",
          "text": [
            "T Loss: 0.2330 V Loss: 0.2257 V MCRMSE: 0.2268\n",
            "Best valid MCRMSE updated to 0.22683387994766235\n",
            "Epoch 7\n"
          ],
          "name": "stdout"
        },
        {
          "output_type": "stream",
          "text": [
            "100%|██████████| 244/244 [00:29<00:00,  8.25it/s]\n",
            "100%|██████████| 20/20 [00:00<00:00, 21.09it/s]\n",
            "  0%|          | 1/244 [00:00<00:29,  8.25it/s]"
          ],
          "name": "stderr"
        },
        {
          "output_type": "stream",
          "text": [
            "T Loss: 0.2281 V Loss: 0.2252 V MCRMSE: 0.2263\n",
            "Best valid MCRMSE updated to 0.22625860571861267\n",
            "Epoch 8\n"
          ],
          "name": "stdout"
        },
        {
          "output_type": "stream",
          "text": [
            "100%|██████████| 244/244 [00:29<00:00,  8.23it/s]\n",
            "100%|██████████| 20/20 [00:00<00:00, 21.12it/s]\n",
            "  0%|          | 1/244 [00:00<00:29,  8.32it/s]"
          ],
          "name": "stderr"
        },
        {
          "output_type": "stream",
          "text": [
            "T Loss: 0.2242 V Loss: 0.2217 V MCRMSE: 0.2229\n",
            "Best valid MCRMSE updated to 0.22288982570171356\n",
            "Epoch 9\n"
          ],
          "name": "stdout"
        },
        {
          "output_type": "stream",
          "text": [
            "100%|██████████| 244/244 [00:29<00:00,  8.25it/s]\n",
            "100%|██████████| 20/20 [00:00<00:00, 21.14it/s]\n",
            "  0%|          | 1/244 [00:00<00:29,  8.19it/s]"
          ],
          "name": "stderr"
        },
        {
          "output_type": "stream",
          "text": [
            "T Loss: 0.2202 V Loss: 0.2174 V MCRMSE: 0.2187\n",
            "Best valid MCRMSE updated to 0.2186715304851532\n",
            "Epoch 10\n"
          ],
          "name": "stdout"
        },
        {
          "output_type": "stream",
          "text": [
            "100%|██████████| 244/244 [00:29<00:00,  8.24it/s]\n",
            "100%|██████████| 20/20 [00:00<00:00, 21.16it/s]\n",
            "  0%|          | 1/244 [00:00<00:29,  8.24it/s]"
          ],
          "name": "stderr"
        },
        {
          "output_type": "stream",
          "text": [
            "T Loss: 0.2168 V Loss: 0.2153 V MCRMSE: 0.2166\n",
            "Best valid MCRMSE updated to 0.21660089492797852\n",
            "Epoch 11\n"
          ],
          "name": "stdout"
        },
        {
          "output_type": "stream",
          "text": [
            "100%|██████████| 244/244 [00:29<00:00,  8.25it/s]\n",
            "100%|██████████| 20/20 [00:00<00:00, 21.19it/s]\n",
            "  0%|          | 1/244 [00:00<00:28,  8.41it/s]"
          ],
          "name": "stderr"
        },
        {
          "output_type": "stream",
          "text": [
            "T Loss: 0.2154 V Loss: 0.2103 V MCRMSE: 0.2116\n",
            "Best valid MCRMSE updated to 0.21157339215278625\n",
            "Epoch 12\n"
          ],
          "name": "stdout"
        },
        {
          "output_type": "stream",
          "text": [
            "100%|██████████| 244/244 [00:29<00:00,  8.24it/s]\n",
            "100%|██████████| 20/20 [00:00<00:00, 21.23it/s]\n",
            "  0%|          | 1/244 [00:00<00:29,  8.33it/s]"
          ],
          "name": "stderr"
        },
        {
          "output_type": "stream",
          "text": [
            "T Loss: 0.2111 V Loss: 0.2100 V MCRMSE: 0.2113\n",
            "Best valid MCRMSE updated to 0.21126101911067963\n",
            "Epoch 13\n"
          ],
          "name": "stdout"
        },
        {
          "output_type": "stream",
          "text": [
            "100%|██████████| 244/244 [00:29<00:00,  8.24it/s]\n",
            "100%|██████████| 20/20 [00:00<00:00, 21.08it/s]\n",
            "  0%|          | 1/244 [00:00<00:29,  8.30it/s]"
          ],
          "name": "stderr"
        },
        {
          "output_type": "stream",
          "text": [
            "T Loss: 0.2083 V Loss: 0.2113 V MCRMSE: 0.2128\n",
            "Epoch 14\n"
          ],
          "name": "stdout"
        },
        {
          "output_type": "stream",
          "text": [
            "100%|██████████| 244/244 [00:29<00:00,  8.23it/s]\n",
            "100%|██████████| 20/20 [00:00<00:00, 21.15it/s]\n",
            "  0%|          | 1/244 [00:00<00:29,  8.22it/s]"
          ],
          "name": "stderr"
        },
        {
          "output_type": "stream",
          "text": [
            "T Loss: 0.2061 V Loss: 0.2058 V MCRMSE: 0.2071\n",
            "Best valid MCRMSE updated to 0.20713746547698975\n",
            "Epoch 15\n"
          ],
          "name": "stdout"
        },
        {
          "output_type": "stream",
          "text": [
            "100%|██████████| 244/244 [00:29<00:00,  8.26it/s]\n",
            "100%|██████████| 20/20 [00:00<00:00, 21.25it/s]\n",
            "  0%|          | 1/244 [00:00<00:29,  8.27it/s]"
          ],
          "name": "stderr"
        },
        {
          "output_type": "stream",
          "text": [
            "T Loss: 0.2031 V Loss: 0.2070 V MCRMSE: 0.2087\n",
            "Epoch 16\n"
          ],
          "name": "stdout"
        },
        {
          "output_type": "stream",
          "text": [
            "100%|██████████| 244/244 [00:29<00:00,  8.27it/s]\n",
            "100%|██████████| 20/20 [00:00<00:00, 21.21it/s]\n",
            "  0%|          | 1/244 [00:00<00:29,  8.35it/s]"
          ],
          "name": "stderr"
        },
        {
          "output_type": "stream",
          "text": [
            "T Loss: 0.2022 V Loss: 0.2002 V MCRMSE: 0.2017\n",
            "Best valid MCRMSE updated to 0.20168697834014893\n",
            "Epoch 17\n"
          ],
          "name": "stdout"
        },
        {
          "output_type": "stream",
          "text": [
            "100%|██████████| 244/244 [00:29<00:00,  8.28it/s]\n",
            "100%|██████████| 20/20 [00:00<00:00, 21.30it/s]\n",
            "  0%|          | 1/244 [00:00<00:29,  8.32it/s]"
          ],
          "name": "stderr"
        },
        {
          "output_type": "stream",
          "text": [
            "T Loss: 0.1995 V Loss: 0.2007 V MCRMSE: 0.2022\n",
            "Epoch 18\n"
          ],
          "name": "stdout"
        },
        {
          "output_type": "stream",
          "text": [
            "100%|██████████| 244/244 [00:29<00:00,  8.27it/s]\n",
            "100%|██████████| 20/20 [00:00<00:00, 21.15it/s]\n",
            "  0%|          | 1/244 [00:00<00:29,  8.31it/s]"
          ],
          "name": "stderr"
        },
        {
          "output_type": "stream",
          "text": [
            "T Loss: 0.1966 V Loss: 0.2008 V MCRMSE: 0.2024\n",
            "Epoch 19\n"
          ],
          "name": "stdout"
        },
        {
          "output_type": "stream",
          "text": [
            "100%|██████████| 244/244 [00:29<00:00,  8.26it/s]\n",
            "100%|██████████| 20/20 [00:00<00:00, 21.20it/s]\n",
            "  0%|          | 1/244 [00:00<00:29,  8.20it/s]"
          ],
          "name": "stderr"
        },
        {
          "output_type": "stream",
          "text": [
            "T Loss: 0.1952 V Loss: 0.1994 V MCRMSE: 0.2010\n",
            "Best valid MCRMSE updated to 0.20103731751441956\n",
            "Epoch 20\n"
          ],
          "name": "stdout"
        },
        {
          "output_type": "stream",
          "text": [
            "100%|██████████| 244/244 [00:29<00:00,  8.27it/s]\n",
            "100%|██████████| 20/20 [00:00<00:00, 21.21it/s]\n",
            "  0%|          | 1/244 [00:00<00:29,  8.24it/s]"
          ],
          "name": "stderr"
        },
        {
          "output_type": "stream",
          "text": [
            "T Loss: 0.1928 V Loss: 0.1956 V MCRMSE: 0.1972\n",
            "Best valid MCRMSE updated to 0.19723181426525116\n",
            "Epoch 21\n"
          ],
          "name": "stdout"
        },
        {
          "output_type": "stream",
          "text": [
            "100%|██████████| 244/244 [00:29<00:00,  8.28it/s]\n",
            "100%|██████████| 20/20 [00:00<00:00, 21.17it/s]\n",
            "  0%|          | 1/244 [00:00<00:29,  8.34it/s]"
          ],
          "name": "stderr"
        },
        {
          "output_type": "stream",
          "text": [
            "T Loss: 0.1911 V Loss: 0.1978 V MCRMSE: 0.1996\n",
            "Epoch 22\n"
          ],
          "name": "stdout"
        },
        {
          "output_type": "stream",
          "text": [
            "100%|██████████| 244/244 [00:29<00:00,  8.29it/s]\n",
            "100%|██████████| 20/20 [00:00<00:00, 21.21it/s]\n",
            "  0%|          | 1/244 [00:00<00:29,  8.33it/s]"
          ],
          "name": "stderr"
        },
        {
          "output_type": "stream",
          "text": [
            "T Loss: 0.1899 V Loss: 0.1937 V MCRMSE: 0.1955\n",
            "Best valid MCRMSE updated to 0.19545897841453552\n",
            "Epoch 23\n"
          ],
          "name": "stdout"
        },
        {
          "output_type": "stream",
          "text": [
            "100%|██████████| 244/244 [00:29<00:00,  8.27it/s]\n",
            "100%|██████████| 20/20 [00:00<00:00, 21.26it/s]\n",
            "  0%|          | 1/244 [00:00<00:29,  8.25it/s]"
          ],
          "name": "stderr"
        },
        {
          "output_type": "stream",
          "text": [
            "T Loss: 0.1881 V Loss: 0.1933 V MCRMSE: 0.1950\n",
            "Best valid MCRMSE updated to 0.1950390338897705\n",
            "Epoch 24\n"
          ],
          "name": "stdout"
        },
        {
          "output_type": "stream",
          "text": [
            "100%|██████████| 244/244 [00:29<00:00,  8.27it/s]\n",
            "100%|██████████| 20/20 [00:00<00:00, 21.21it/s]\n",
            "  0%|          | 1/244 [00:00<00:29,  8.25it/s]"
          ],
          "name": "stderr"
        },
        {
          "output_type": "stream",
          "text": [
            "T Loss: 0.1876 V Loss: 0.1910 V MCRMSE: 0.1927\n",
            "Best valid MCRMSE updated to 0.1927499771118164\n",
            "Epoch 25\n"
          ],
          "name": "stdout"
        },
        {
          "output_type": "stream",
          "text": [
            "100%|██████████| 244/244 [00:29<00:00,  8.28it/s]\n",
            "100%|██████████| 20/20 [00:00<00:00, 21.27it/s]\n",
            "  0%|          | 1/244 [00:00<00:29,  8.30it/s]"
          ],
          "name": "stderr"
        },
        {
          "output_type": "stream",
          "text": [
            "T Loss: 0.1848 V Loss: 0.1911 V MCRMSE: 0.1930\n",
            "Epoch 26\n"
          ],
          "name": "stdout"
        },
        {
          "output_type": "stream",
          "text": [
            "100%|██████████| 244/244 [00:29<00:00,  8.29it/s]\n",
            "100%|██████████| 20/20 [00:00<00:00, 21.22it/s]\n",
            "  0%|          | 1/244 [00:00<00:29,  8.27it/s]"
          ],
          "name": "stderr"
        },
        {
          "output_type": "stream",
          "text": [
            "T Loss: 0.1847 V Loss: 0.1887 V MCRMSE: 0.1905\n",
            "Best valid MCRMSE updated to 0.19051513075828552\n",
            "Epoch 27\n"
          ],
          "name": "stdout"
        },
        {
          "output_type": "stream",
          "text": [
            "100%|██████████| 244/244 [00:29<00:00,  8.28it/s]\n",
            "100%|██████████| 20/20 [00:00<00:00, 21.15it/s]\n",
            "  0%|          | 1/244 [00:00<00:29,  8.26it/s]"
          ],
          "name": "stderr"
        },
        {
          "output_type": "stream",
          "text": [
            "T Loss: 0.1822 V Loss: 0.1860 V MCRMSE: 0.1879\n",
            "Best valid MCRMSE updated to 0.18787646293640137\n",
            "Epoch 28\n"
          ],
          "name": "stdout"
        },
        {
          "output_type": "stream",
          "text": [
            "100%|██████████| 244/244 [00:29<00:00,  8.29it/s]\n",
            "100%|██████████| 20/20 [00:00<00:00, 21.25it/s]\n",
            "  0%|          | 1/244 [00:00<00:29,  8.33it/s]"
          ],
          "name": "stderr"
        },
        {
          "output_type": "stream",
          "text": [
            "T Loss: 0.1816 V Loss: 0.1867 V MCRMSE: 0.1886\n",
            "Epoch 29\n"
          ],
          "name": "stdout"
        },
        {
          "output_type": "stream",
          "text": [
            "100%|██████████| 244/244 [00:29<00:00,  8.29it/s]\n",
            "100%|██████████| 20/20 [00:00<00:00, 21.22it/s]\n",
            "  0%|          | 1/244 [00:00<00:29,  8.29it/s]"
          ],
          "name": "stderr"
        },
        {
          "output_type": "stream",
          "text": [
            "T Loss: 0.1805 V Loss: 0.1864 V MCRMSE: 0.1882\n",
            "Epoch 30\n"
          ],
          "name": "stdout"
        },
        {
          "output_type": "stream",
          "text": [
            "100%|██████████| 244/244 [00:29<00:00,  8.28it/s]\n",
            "100%|██████████| 20/20 [00:00<00:00, 21.21it/s]\n",
            "  0%|          | 1/244 [00:00<00:29,  8.24it/s]"
          ],
          "name": "stderr"
        },
        {
          "output_type": "stream",
          "text": [
            "T Loss: 0.1790 V Loss: 0.1863 V MCRMSE: 0.1883\n",
            "Epoch 31\n"
          ],
          "name": "stdout"
        },
        {
          "output_type": "stream",
          "text": [
            "100%|██████████| 244/244 [00:29<00:00,  8.29it/s]\n",
            "100%|██████████| 20/20 [00:00<00:00, 21.26it/s]\n",
            "  0%|          | 1/244 [00:00<00:29,  8.32it/s]"
          ],
          "name": "stderr"
        },
        {
          "output_type": "stream",
          "text": [
            "T Loss: 0.1781 V Loss: 0.1840 V MCRMSE: 0.1860\n",
            "Best valid MCRMSE updated to 0.18597206473350525\n",
            "Epoch 32\n"
          ],
          "name": "stdout"
        },
        {
          "output_type": "stream",
          "text": [
            "100%|██████████| 244/244 [00:29<00:00,  8.28it/s]\n",
            "100%|██████████| 20/20 [00:00<00:00, 21.22it/s]\n",
            "  0%|          | 1/244 [00:00<00:29,  8.22it/s]"
          ],
          "name": "stderr"
        },
        {
          "output_type": "stream",
          "text": [
            "T Loss: 0.1774 V Loss: 0.1927 V MCRMSE: 0.1948\n",
            "Epoch 33\n"
          ],
          "name": "stdout"
        },
        {
          "output_type": "stream",
          "text": [
            "100%|██████████| 244/244 [00:29<00:00,  8.28it/s]\n",
            "100%|██████████| 20/20 [00:00<00:00, 21.29it/s]\n",
            "  0%|          | 1/244 [00:00<00:29,  8.26it/s]"
          ],
          "name": "stderr"
        },
        {
          "output_type": "stream",
          "text": [
            "T Loss: 0.1762 V Loss: 0.1821 V MCRMSE: 0.1841\n",
            "Best valid MCRMSE updated to 0.18411073088645935\n",
            "Epoch 34\n"
          ],
          "name": "stdout"
        },
        {
          "output_type": "stream",
          "text": [
            "100%|██████████| 244/244 [00:29<00:00,  8.29it/s]\n",
            "100%|██████████| 20/20 [00:00<00:00, 21.25it/s]\n",
            "  0%|          | 1/244 [00:00<00:29,  8.27it/s]"
          ],
          "name": "stderr"
        },
        {
          "output_type": "stream",
          "text": [
            "T Loss: 0.1752 V Loss: 0.1823 V MCRMSE: 0.1843\n",
            "Epoch 35\n"
          ],
          "name": "stdout"
        },
        {
          "output_type": "stream",
          "text": [
            "100%|██████████| 244/244 [00:29<00:00,  8.27it/s]\n",
            "100%|██████████| 20/20 [00:00<00:00, 21.23it/s]\n",
            "  0%|          | 1/244 [00:00<00:29,  8.27it/s]"
          ],
          "name": "stderr"
        },
        {
          "output_type": "stream",
          "text": [
            "T Loss: 0.1747 V Loss: 0.1831 V MCRMSE: 0.1852\n",
            "Epoch 36\n"
          ],
          "name": "stdout"
        },
        {
          "output_type": "stream",
          "text": [
            "100%|██████████| 244/244 [00:29<00:00,  8.28it/s]\n",
            "100%|██████████| 20/20 [00:00<00:00, 21.26it/s]\n",
            "  0%|          | 1/244 [00:00<00:29,  8.33it/s]"
          ],
          "name": "stderr"
        },
        {
          "output_type": "stream",
          "text": [
            "T Loss: 0.1739 V Loss: 0.1833 V MCRMSE: 0.1853\n",
            "Epoch 37\n"
          ],
          "name": "stdout"
        },
        {
          "output_type": "stream",
          "text": [
            "100%|██████████| 244/244 [00:29<00:00,  8.28it/s]\n",
            "100%|██████████| 20/20 [00:00<00:00, 21.24it/s]\n",
            "  0%|          | 1/244 [00:00<00:29,  8.32it/s]"
          ],
          "name": "stderr"
        },
        {
          "output_type": "stream",
          "text": [
            "T Loss: 0.1733 V Loss: 0.1808 V MCRMSE: 0.1830\n",
            "Best valid MCRMSE updated to 0.1830381453037262\n",
            "Epoch 38\n"
          ],
          "name": "stdout"
        },
        {
          "output_type": "stream",
          "text": [
            "100%|██████████| 244/244 [00:29<00:00,  8.29it/s]\n",
            "100%|██████████| 20/20 [00:00<00:00, 21.28it/s]\n",
            "  0%|          | 1/244 [00:00<00:29,  8.25it/s]"
          ],
          "name": "stderr"
        },
        {
          "output_type": "stream",
          "text": [
            "T Loss: 0.1716 V Loss: 0.1815 V MCRMSE: 0.1838\n",
            "Epoch 39\n"
          ],
          "name": "stdout"
        },
        {
          "output_type": "stream",
          "text": [
            "100%|██████████| 244/244 [00:29<00:00,  8.29it/s]\n",
            "100%|██████████| 20/20 [00:00<00:00, 21.20it/s]\n",
            "  0%|          | 1/244 [00:00<00:29,  8.23it/s]"
          ],
          "name": "stderr"
        },
        {
          "output_type": "stream",
          "text": [
            "T Loss: 0.1703 V Loss: 0.1804 V MCRMSE: 0.1827\n",
            "Best valid MCRMSE updated to 0.18271371722221375\n",
            "Epoch 40\n"
          ],
          "name": "stdout"
        },
        {
          "output_type": "stream",
          "text": [
            "100%|██████████| 244/244 [00:29<00:00,  8.28it/s]\n",
            "100%|██████████| 20/20 [00:00<00:00, 21.30it/s]\n",
            "  0%|          | 1/244 [00:00<00:29,  8.35it/s]"
          ],
          "name": "stderr"
        },
        {
          "output_type": "stream",
          "text": [
            "T Loss: 0.1699 V Loss: 0.1817 V MCRMSE: 0.1839\n",
            "Epoch 41\n"
          ],
          "name": "stdout"
        },
        {
          "output_type": "stream",
          "text": [
            "100%|██████████| 244/244 [00:29<00:00,  8.29it/s]\n",
            "100%|██████████| 20/20 [00:00<00:00, 21.25it/s]\n",
            "  0%|          | 1/244 [00:00<00:29,  8.32it/s]"
          ],
          "name": "stderr"
        },
        {
          "output_type": "stream",
          "text": [
            "T Loss: 0.1693 V Loss: 0.1807 V MCRMSE: 0.1830\n",
            "Epoch 42\n"
          ],
          "name": "stdout"
        },
        {
          "output_type": "stream",
          "text": [
            "100%|██████████| 244/244 [00:29<00:00,  8.29it/s]\n",
            "100%|██████████| 20/20 [00:00<00:00, 21.27it/s]\n",
            "  0%|          | 1/244 [00:00<00:29,  8.32it/s]"
          ],
          "name": "stderr"
        },
        {
          "output_type": "stream",
          "text": [
            "T Loss: 0.1688 V Loss: 0.1839 V MCRMSE: 0.1865\n",
            "Epoch 43\n"
          ],
          "name": "stdout"
        },
        {
          "output_type": "stream",
          "text": [
            "100%|██████████| 244/244 [00:29<00:00,  8.28it/s]\n",
            "100%|██████████| 20/20 [00:00<00:00, 21.17it/s]\n",
            "  0%|          | 1/244 [00:00<00:29,  8.27it/s]"
          ],
          "name": "stderr"
        },
        {
          "output_type": "stream",
          "text": [
            "T Loss: 0.1679 V Loss: 0.1766 V MCRMSE: 0.1789\n",
            "Best valid MCRMSE updated to 0.1789260357618332\n",
            "Epoch 44\n"
          ],
          "name": "stdout"
        },
        {
          "output_type": "stream",
          "text": [
            "100%|██████████| 244/244 [00:29<00:00,  8.29it/s]\n",
            "100%|██████████| 20/20 [00:00<00:00, 21.21it/s]\n",
            "  0%|          | 1/244 [00:00<00:29,  8.33it/s]"
          ],
          "name": "stderr"
        },
        {
          "output_type": "stream",
          "text": [
            "T Loss: 0.1672 V Loss: 0.1767 V MCRMSE: 0.1790\n",
            "Epoch 45\n"
          ],
          "name": "stdout"
        },
        {
          "output_type": "stream",
          "text": [
            "100%|██████████| 244/244 [00:29<00:00,  8.27it/s]\n",
            "100%|██████████| 20/20 [00:00<00:00, 21.24it/s]\n",
            "  0%|          | 1/244 [00:00<00:29,  8.30it/s]"
          ],
          "name": "stderr"
        },
        {
          "output_type": "stream",
          "text": [
            "T Loss: 0.1664 V Loss: 0.1772 V MCRMSE: 0.1797\n",
            "Epoch 46\n"
          ],
          "name": "stdout"
        },
        {
          "output_type": "stream",
          "text": [
            "100%|██████████| 244/244 [00:29<00:00,  8.29it/s]\n",
            "100%|██████████| 20/20 [00:00<00:00, 21.21it/s]\n",
            "  0%|          | 1/244 [00:00<00:29,  8.25it/s]"
          ],
          "name": "stderr"
        },
        {
          "output_type": "stream",
          "text": [
            "T Loss: 0.1661 V Loss: 0.1751 V MCRMSE: 0.1776\n",
            "Best valid MCRMSE updated to 0.17757591605186462\n",
            "Epoch 47\n"
          ],
          "name": "stdout"
        },
        {
          "output_type": "stream",
          "text": [
            "100%|██████████| 244/244 [00:29<00:00,  8.29it/s]\n",
            "100%|██████████| 20/20 [00:00<00:00, 21.28it/s]\n",
            "  0%|          | 1/244 [00:00<00:29,  8.27it/s]"
          ],
          "name": "stderr"
        },
        {
          "output_type": "stream",
          "text": [
            "T Loss: 0.1648 V Loss: 0.1742 V MCRMSE: 0.1768\n",
            "Best valid MCRMSE updated to 0.17675051093101501\n",
            "Epoch 48\n"
          ],
          "name": "stdout"
        },
        {
          "output_type": "stream",
          "text": [
            "100%|██████████| 244/244 [00:29<00:00,  8.29it/s]\n",
            "100%|██████████| 20/20 [00:00<00:00, 21.07it/s]\n",
            "  0%|          | 1/244 [00:00<00:29,  8.29it/s]"
          ],
          "name": "stderr"
        },
        {
          "output_type": "stream",
          "text": [
            "T Loss: 0.1645 V Loss: 0.1738 V MCRMSE: 0.1760\n",
            "Best valid MCRMSE updated to 0.17599539458751678\n",
            "Epoch 49\n"
          ],
          "name": "stdout"
        },
        {
          "output_type": "stream",
          "text": [
            "100%|██████████| 244/244 [00:29<00:00,  8.27it/s]\n",
            "100%|██████████| 20/20 [00:00<00:00, 21.18it/s]\n",
            "  0%|          | 1/244 [00:00<00:29,  8.24it/s]"
          ],
          "name": "stderr"
        },
        {
          "output_type": "stream",
          "text": [
            "T Loss: 0.1640 V Loss: 0.1761 V MCRMSE: 0.1787\n",
            "Epoch 50\n"
          ],
          "name": "stdout"
        },
        {
          "output_type": "stream",
          "text": [
            "100%|██████████| 244/244 [00:29<00:00,  8.28it/s]\n",
            "100%|██████████| 20/20 [00:00<00:00, 21.27it/s]\n",
            "  0%|          | 1/244 [00:00<00:29,  8.32it/s]"
          ],
          "name": "stderr"
        },
        {
          "output_type": "stream",
          "text": [
            "T Loss: 0.1637 V Loss: 0.1746 V MCRMSE: 0.1770\n",
            "Epoch 51\n"
          ],
          "name": "stdout"
        },
        {
          "output_type": "stream",
          "text": [
            "100%|██████████| 244/244 [00:29<00:00,  8.25it/s]\n",
            "100%|██████████| 20/20 [00:00<00:00, 21.21it/s]\n",
            "  0%|          | 1/244 [00:00<00:29,  8.27it/s]"
          ],
          "name": "stderr"
        },
        {
          "output_type": "stream",
          "text": [
            "T Loss: 0.1631 V Loss: 0.1739 V MCRMSE: 0.1765\n",
            "Epoch 52\n"
          ],
          "name": "stdout"
        },
        {
          "output_type": "stream",
          "text": [
            "100%|██████████| 244/244 [00:29<00:00,  8.27it/s]\n",
            "100%|██████████| 20/20 [00:00<00:00, 21.26it/s]\n",
            "  0%|          | 1/244 [00:00<00:29,  8.23it/s]"
          ],
          "name": "stderr"
        },
        {
          "output_type": "stream",
          "text": [
            "T Loss: 0.1621 V Loss: 0.1738 V MCRMSE: 0.1763\n",
            "Epoch 53\n"
          ],
          "name": "stdout"
        },
        {
          "output_type": "stream",
          "text": [
            "100%|██████████| 244/244 [00:29<00:00,  8.26it/s]\n",
            "100%|██████████| 20/20 [00:00<00:00, 21.18it/s]\n",
            "  0%|          | 1/244 [00:00<00:29,  8.30it/s]"
          ],
          "name": "stderr"
        },
        {
          "output_type": "stream",
          "text": [
            "T Loss: 0.1617 V Loss: 0.1730 V MCRMSE: 0.1756\n",
            "Best valid MCRMSE updated to 0.17555317282676697\n",
            "Epoch 54\n"
          ],
          "name": "stdout"
        },
        {
          "output_type": "stream",
          "text": [
            "100%|██████████| 244/244 [00:29<00:00,  8.27it/s]\n",
            "100%|██████████| 20/20 [00:00<00:00, 21.17it/s]\n",
            "  0%|          | 1/244 [00:00<00:29,  8.29it/s]"
          ],
          "name": "stderr"
        },
        {
          "output_type": "stream",
          "text": [
            "T Loss: 0.1607 V Loss: 0.1746 V MCRMSE: 0.1772\n",
            "Epoch 55\n"
          ],
          "name": "stdout"
        },
        {
          "output_type": "stream",
          "text": [
            "100%|██████████| 244/244 [00:29<00:00,  8.26it/s]\n",
            "100%|██████████| 20/20 [00:00<00:00, 21.22it/s]\n",
            "  0%|          | 1/244 [00:00<00:29,  8.34it/s]"
          ],
          "name": "stderr"
        },
        {
          "output_type": "stream",
          "text": [
            "T Loss: 0.1607 V Loss: 0.1711 V MCRMSE: 0.1738\n",
            "Best valid MCRMSE updated to 0.17379073798656464\n",
            "Epoch 56\n"
          ],
          "name": "stdout"
        },
        {
          "output_type": "stream",
          "text": [
            "100%|██████████| 244/244 [00:29<00:00,  8.28it/s]\n",
            "100%|██████████| 20/20 [00:00<00:00, 21.26it/s]\n",
            "  0%|          | 1/244 [00:00<00:28,  8.39it/s]"
          ],
          "name": "stderr"
        },
        {
          "output_type": "stream",
          "text": [
            "T Loss: 0.1604 V Loss: 0.1698 V MCRMSE: 0.1724\n",
            "Best valid MCRMSE updated to 0.17241081595420837\n",
            "Epoch 57\n"
          ],
          "name": "stdout"
        },
        {
          "output_type": "stream",
          "text": [
            "100%|██████████| 244/244 [00:29<00:00,  8.29it/s]\n",
            "100%|██████████| 20/20 [00:00<00:00, 21.26it/s]\n",
            "  0%|          | 1/244 [00:00<00:29,  8.31it/s]"
          ],
          "name": "stderr"
        },
        {
          "output_type": "stream",
          "text": [
            "T Loss: 0.1592 V Loss: 0.1710 V MCRMSE: 0.1738\n",
            "Epoch 58\n"
          ],
          "name": "stdout"
        },
        {
          "output_type": "stream",
          "text": [
            "100%|██████████| 244/244 [00:29<00:00,  8.29it/s]\n",
            "100%|██████████| 20/20 [00:00<00:00, 21.22it/s]\n",
            "  0%|          | 1/244 [00:00<00:29,  8.21it/s]"
          ],
          "name": "stderr"
        },
        {
          "output_type": "stream",
          "text": [
            "T Loss: 0.1591 V Loss: 0.1728 V MCRMSE: 0.1757\n",
            "Epoch 59\n"
          ],
          "name": "stdout"
        },
        {
          "output_type": "stream",
          "text": [
            "100%|██████████| 244/244 [00:29<00:00,  8.29it/s]\n",
            "100%|██████████| 20/20 [00:00<00:00, 21.28it/s]\n",
            "  0%|          | 1/244 [00:00<00:28,  8.38it/s]"
          ],
          "name": "stderr"
        },
        {
          "output_type": "stream",
          "text": [
            "T Loss: 0.1585 V Loss: 0.1711 V MCRMSE: 0.1740\n",
            "Epoch 60\n"
          ],
          "name": "stdout"
        },
        {
          "output_type": "stream",
          "text": [
            "100%|██████████| 244/244 [00:29<00:00,  8.29it/s]\n",
            "100%|██████████| 20/20 [00:00<00:00, 21.23it/s]\n",
            "  0%|          | 1/244 [00:00<00:29,  8.21it/s]"
          ],
          "name": "stderr"
        },
        {
          "output_type": "stream",
          "text": [
            "T Loss: 0.1581 V Loss: 0.1702 V MCRMSE: 0.1730\n",
            "Epoch 61\n"
          ],
          "name": "stdout"
        },
        {
          "output_type": "stream",
          "text": [
            "100%|██████████| 244/244 [00:29<00:00,  8.28it/s]\n",
            "100%|██████████| 20/20 [00:00<00:00, 21.27it/s]\n",
            "  0%|          | 1/244 [00:00<00:29,  8.20it/s]"
          ],
          "name": "stderr"
        },
        {
          "output_type": "stream",
          "text": [
            "T Loss: 0.1575 V Loss: 0.1688 V MCRMSE: 0.1715\n",
            "Best valid MCRMSE updated to 0.17154210805892944\n",
            "Epoch 62\n"
          ],
          "name": "stdout"
        },
        {
          "output_type": "stream",
          "text": [
            "100%|██████████| 244/244 [00:29<00:00,  8.29it/s]\n",
            "100%|██████████| 20/20 [00:00<00:00, 21.25it/s]\n",
            "  0%|          | 1/244 [00:00<00:29,  8.37it/s]"
          ],
          "name": "stderr"
        },
        {
          "output_type": "stream",
          "text": [
            "T Loss: 0.1573 V Loss: 0.1692 V MCRMSE: 0.1719\n",
            "Epoch 63\n"
          ],
          "name": "stdout"
        },
        {
          "output_type": "stream",
          "text": [
            "100%|██████████| 244/244 [00:29<00:00,  8.28it/s]\n",
            "100%|██████████| 20/20 [00:00<00:00, 21.27it/s]\n",
            "  0%|          | 1/244 [00:00<00:29,  8.37it/s]"
          ],
          "name": "stderr"
        },
        {
          "output_type": "stream",
          "text": [
            "T Loss: 0.1567 V Loss: 0.1692 V MCRMSE: 0.1719\n",
            "Epoch 64\n"
          ],
          "name": "stdout"
        },
        {
          "output_type": "stream",
          "text": [
            "100%|██████████| 244/244 [00:29<00:00,  8.28it/s]\n",
            "100%|██████████| 20/20 [00:00<00:00, 21.27it/s]\n",
            "  0%|          | 1/244 [00:00<00:28,  8.40it/s]"
          ],
          "name": "stderr"
        },
        {
          "output_type": "stream",
          "text": [
            "T Loss: 0.1566 V Loss: 0.1687 V MCRMSE: 0.1716\n",
            "Epoch 65\n"
          ],
          "name": "stdout"
        },
        {
          "output_type": "stream",
          "text": [
            "100%|██████████| 244/244 [00:29<00:00,  8.28it/s]\n",
            "100%|██████████| 20/20 [00:00<00:00, 21.17it/s]\n",
            "  0%|          | 1/244 [00:00<00:29,  8.24it/s]"
          ],
          "name": "stderr"
        },
        {
          "output_type": "stream",
          "text": [
            "T Loss: 0.1564 V Loss: 0.1673 V MCRMSE: 0.1701\n",
            "Best valid MCRMSE updated to 0.17014825344085693\n",
            "Epoch 66\n"
          ],
          "name": "stdout"
        },
        {
          "output_type": "stream",
          "text": [
            "100%|██████████| 244/244 [00:29<00:00,  8.28it/s]\n",
            "100%|██████████| 20/20 [00:00<00:00, 21.18it/s]\n",
            "  0%|          | 1/244 [00:00<00:29,  8.22it/s]"
          ],
          "name": "stderr"
        },
        {
          "output_type": "stream",
          "text": [
            "T Loss: 0.1557 V Loss: 0.1680 V MCRMSE: 0.1707\n",
            "Epoch 67\n"
          ],
          "name": "stdout"
        },
        {
          "output_type": "stream",
          "text": [
            "100%|██████████| 244/244 [00:29<00:00,  8.29it/s]\n",
            "100%|██████████| 20/20 [00:00<00:00, 21.21it/s]\n",
            "  0%|          | 1/244 [00:00<00:29,  8.31it/s]"
          ],
          "name": "stderr"
        },
        {
          "output_type": "stream",
          "text": [
            "T Loss: 0.1546 V Loss: 0.1677 V MCRMSE: 0.1705\n",
            "Epoch 68\n"
          ],
          "name": "stdout"
        },
        {
          "output_type": "stream",
          "text": [
            "100%|██████████| 244/244 [00:29<00:00,  8.29it/s]\n",
            "100%|██████████| 20/20 [00:00<00:00, 21.28it/s]\n",
            "  0%|          | 1/244 [00:00<00:29,  8.21it/s]"
          ],
          "name": "stderr"
        },
        {
          "output_type": "stream",
          "text": [
            "T Loss: 0.1545 V Loss: 0.1690 V MCRMSE: 0.1720\n",
            "Epoch 69\n"
          ],
          "name": "stdout"
        },
        {
          "output_type": "stream",
          "text": [
            "100%|██████████| 244/244 [00:29<00:00,  8.29it/s]\n",
            "100%|██████████| 20/20 [00:00<00:00, 21.28it/s]\n",
            "  0%|          | 1/244 [00:00<00:28,  8.38it/s]"
          ],
          "name": "stderr"
        },
        {
          "output_type": "stream",
          "text": [
            "T Loss: 0.1543 V Loss: 0.1670 V MCRMSE: 0.1701\n",
            "Best valid MCRMSE updated to 0.17007675766944885\n",
            "Epoch 70\n"
          ],
          "name": "stdout"
        },
        {
          "output_type": "stream",
          "text": [
            "100%|██████████| 244/244 [00:29<00:00,  8.29it/s]\n",
            "100%|██████████| 20/20 [00:00<00:00, 21.28it/s]\n",
            "  0%|          | 1/244 [00:00<00:29,  8.30it/s]"
          ],
          "name": "stderr"
        },
        {
          "output_type": "stream",
          "text": [
            "T Loss: 0.1534 V Loss: 0.1689 V MCRMSE: 0.1720\n",
            "Epoch 71\n"
          ],
          "name": "stdout"
        },
        {
          "output_type": "stream",
          "text": [
            "100%|██████████| 244/244 [00:29<00:00,  8.29it/s]\n",
            "100%|██████████| 20/20 [00:00<00:00, 21.25it/s]\n",
            "  0%|          | 1/244 [00:00<00:29,  8.24it/s]"
          ],
          "name": "stderr"
        },
        {
          "output_type": "stream",
          "text": [
            "T Loss: 0.1536 V Loss: 0.1669 V MCRMSE: 0.1698\n",
            "Best valid MCRMSE updated to 0.16975224018096924\n",
            "Epoch 72\n"
          ],
          "name": "stdout"
        },
        {
          "output_type": "stream",
          "text": [
            "100%|██████████| 244/244 [00:29<00:00,  8.28it/s]\n",
            "100%|██████████| 20/20 [00:00<00:00, 21.24it/s]\n",
            "  0%|          | 1/244 [00:00<00:29,  8.20it/s]"
          ],
          "name": "stderr"
        },
        {
          "output_type": "stream",
          "text": [
            "T Loss: 0.1531 V Loss: 0.1663 V MCRMSE: 0.1693\n",
            "Best valid MCRMSE updated to 0.16931644082069397\n",
            "Epoch 73\n"
          ],
          "name": "stdout"
        },
        {
          "output_type": "stream",
          "text": [
            "100%|██████████| 244/244 [00:29<00:00,  8.29it/s]\n",
            "100%|██████████| 20/20 [00:00<00:00, 21.23it/s]\n",
            "  0%|          | 1/244 [00:00<00:29,  8.26it/s]"
          ],
          "name": "stderr"
        },
        {
          "output_type": "stream",
          "text": [
            "T Loss: 0.1527 V Loss: 0.1662 V MCRMSE: 0.1693\n",
            "Best valid MCRMSE updated to 0.16928689181804657\n",
            "Epoch 74\n"
          ],
          "name": "stdout"
        },
        {
          "output_type": "stream",
          "text": [
            "100%|██████████| 244/244 [00:29<00:00,  8.29it/s]\n",
            "100%|██████████| 20/20 [00:00<00:00, 21.23it/s]\n",
            "  0%|          | 1/244 [00:00<00:29,  8.13it/s]"
          ],
          "name": "stderr"
        },
        {
          "output_type": "stream",
          "text": [
            "T Loss: 0.1536 V Loss: 0.1684 V MCRMSE: 0.1718\n",
            "Epoch 75\n"
          ],
          "name": "stdout"
        },
        {
          "output_type": "stream",
          "text": [
            "100%|██████████| 244/244 [00:29<00:00,  8.29it/s]\n",
            "100%|██████████| 20/20 [00:00<00:00, 21.16it/s]\n",
            "  0%|          | 1/244 [00:00<00:29,  8.21it/s]"
          ],
          "name": "stderr"
        },
        {
          "output_type": "stream",
          "text": [
            "T Loss: 0.1517 V Loss: 0.1672 V MCRMSE: 0.1702\n",
            "Epoch 76\n"
          ],
          "name": "stdout"
        },
        {
          "output_type": "stream",
          "text": [
            "100%|██████████| 244/244 [00:29<00:00,  8.27it/s]\n",
            "100%|██████████| 20/20 [00:00<00:00, 21.22it/s]\n",
            "  0%|          | 1/244 [00:00<00:29,  8.23it/s]"
          ],
          "name": "stderr"
        },
        {
          "output_type": "stream",
          "text": [
            "T Loss: 0.1516 V Loss: 0.1653 V MCRMSE: 0.1684\n",
            "Best valid MCRMSE updated to 0.16841594874858856\n",
            "Epoch 77\n"
          ],
          "name": "stdout"
        },
        {
          "output_type": "stream",
          "text": [
            "100%|██████████| 244/244 [00:29<00:00,  8.25it/s]\n",
            "100%|██████████| 20/20 [00:00<00:00, 21.16it/s]\n",
            "  0%|          | 1/244 [00:00<00:29,  8.27it/s]"
          ],
          "name": "stderr"
        },
        {
          "output_type": "stream",
          "text": [
            "T Loss: 0.1516 V Loss: 0.1686 V MCRMSE: 0.1716\n",
            "Epoch 78\n"
          ],
          "name": "stdout"
        },
        {
          "output_type": "stream",
          "text": [
            "100%|██████████| 244/244 [00:29<00:00,  8.25it/s]\n",
            "100%|██████████| 20/20 [00:00<00:00, 21.14it/s]\n",
            "  0%|          | 1/244 [00:00<00:29,  8.30it/s]"
          ],
          "name": "stderr"
        },
        {
          "output_type": "stream",
          "text": [
            "T Loss: 0.1512 V Loss: 0.1648 V MCRMSE: 0.1678\n",
            "Best valid MCRMSE updated to 0.1678331345319748\n",
            "Epoch 79\n"
          ],
          "name": "stdout"
        },
        {
          "output_type": "stream",
          "text": [
            "100%|██████████| 244/244 [00:29<00:00,  8.27it/s]\n",
            "100%|██████████| 20/20 [00:00<00:00, 21.25it/s]\n",
            "  0%|          | 1/244 [00:00<00:29,  8.36it/s]"
          ],
          "name": "stderr"
        },
        {
          "output_type": "stream",
          "text": [
            "T Loss: 0.1508 V Loss: 0.1677 V MCRMSE: 0.1703\n",
            "Epoch 80\n"
          ],
          "name": "stdout"
        },
        {
          "output_type": "stream",
          "text": [
            "100%|██████████| 244/244 [00:29<00:00,  8.25it/s]\n",
            "100%|██████████| 20/20 [00:00<00:00, 21.17it/s]\n",
            "  0%|          | 1/244 [00:00<00:29,  8.24it/s]"
          ],
          "name": "stderr"
        },
        {
          "output_type": "stream",
          "text": [
            "T Loss: 0.1505 V Loss: 0.1682 V MCRMSE: 0.1713\n",
            "Epoch 81\n"
          ],
          "name": "stdout"
        },
        {
          "output_type": "stream",
          "text": [
            "100%|██████████| 244/244 [00:29<00:00,  8.28it/s]\n",
            "100%|██████████| 20/20 [00:00<00:00, 21.24it/s]\n",
            "  0%|          | 1/244 [00:00<00:29,  8.30it/s]"
          ],
          "name": "stderr"
        },
        {
          "output_type": "stream",
          "text": [
            "T Loss: 0.1502 V Loss: 0.1639 V MCRMSE: 0.1671\n",
            "Best valid MCRMSE updated to 0.1671050488948822\n",
            "Epoch 82\n"
          ],
          "name": "stdout"
        },
        {
          "output_type": "stream",
          "text": [
            "100%|██████████| 244/244 [00:29<00:00,  8.27it/s]\n",
            "100%|██████████| 20/20 [00:00<00:00, 21.24it/s]\n",
            "  0%|          | 1/244 [00:00<00:29,  8.35it/s]"
          ],
          "name": "stderr"
        },
        {
          "output_type": "stream",
          "text": [
            "T Loss: 0.1497 V Loss: 0.1639 V MCRMSE: 0.1672\n",
            "Epoch 83\n"
          ],
          "name": "stdout"
        },
        {
          "output_type": "stream",
          "text": [
            "100%|██████████| 244/244 [00:29<00:00,  8.25it/s]\n",
            "100%|██████████| 20/20 [00:00<00:00, 21.24it/s]\n",
            "  0%|          | 1/244 [00:00<00:29,  8.24it/s]"
          ],
          "name": "stderr"
        },
        {
          "output_type": "stream",
          "text": [
            "T Loss: 0.1494 V Loss: 0.1640 V MCRMSE: 0.1673\n",
            "Epoch 84\n"
          ],
          "name": "stdout"
        },
        {
          "output_type": "stream",
          "text": [
            "100%|██████████| 244/244 [00:29<00:00,  8.27it/s]\n",
            "100%|██████████| 20/20 [00:00<00:00, 21.18it/s]\n",
            "  0%|          | 1/244 [00:00<00:29,  8.36it/s]"
          ],
          "name": "stderr"
        },
        {
          "output_type": "stream",
          "text": [
            "T Loss: 0.1492 V Loss: 0.1633 V MCRMSE: 0.1666\n",
            "Best valid MCRMSE updated to 0.16660170257091522\n",
            "Epoch 85\n"
          ],
          "name": "stdout"
        },
        {
          "output_type": "stream",
          "text": [
            "100%|██████████| 244/244 [00:29<00:00,  8.25it/s]\n",
            "100%|██████████| 20/20 [00:00<00:00, 21.14it/s]\n",
            "  0%|          | 1/244 [00:00<00:29,  8.19it/s]"
          ],
          "name": "stderr"
        },
        {
          "output_type": "stream",
          "text": [
            "T Loss: 0.1486 V Loss: 0.1649 V MCRMSE: 0.1682\n",
            "Epoch 86\n"
          ],
          "name": "stdout"
        },
        {
          "output_type": "stream",
          "text": [
            "100%|██████████| 244/244 [00:29<00:00,  8.25it/s]\n",
            "100%|██████████| 20/20 [00:00<00:00, 21.24it/s]\n",
            "  0%|          | 1/244 [00:00<00:29,  8.29it/s]"
          ],
          "name": "stderr"
        },
        {
          "output_type": "stream",
          "text": [
            "T Loss: 0.1485 V Loss: 0.1639 V MCRMSE: 0.1673\n",
            "Epoch 87\n"
          ],
          "name": "stdout"
        },
        {
          "output_type": "stream",
          "text": [
            "100%|██████████| 244/244 [00:29<00:00,  8.25it/s]\n",
            "100%|██████████| 20/20 [00:00<00:00, 21.02it/s]\n",
            "  0%|          | 1/244 [00:00<00:29,  8.15it/s]"
          ],
          "name": "stderr"
        },
        {
          "output_type": "stream",
          "text": [
            "T Loss: 0.1490 V Loss: 0.1644 V MCRMSE: 0.1678\n",
            "Epoch 88\n"
          ],
          "name": "stdout"
        },
        {
          "output_type": "stream",
          "text": [
            "100%|██████████| 244/244 [00:29<00:00,  8.26it/s]\n",
            "100%|██████████| 20/20 [00:00<00:00, 21.23it/s]\n",
            "  0%|          | 1/244 [00:00<00:29,  8.36it/s]"
          ],
          "name": "stderr"
        },
        {
          "output_type": "stream",
          "text": [
            "T Loss: 0.1478 V Loss: 0.1633 V MCRMSE: 0.1667\n",
            "Epoch 89\n"
          ],
          "name": "stdout"
        },
        {
          "output_type": "stream",
          "text": [
            "100%|██████████| 244/244 [00:29<00:00,  8.26it/s]\n",
            "100%|██████████| 20/20 [00:00<00:00, 21.28it/s]\n",
            "  0%|          | 1/244 [00:00<00:29,  8.38it/s]"
          ],
          "name": "stderr"
        },
        {
          "output_type": "stream",
          "text": [
            "T Loss: 0.1476 V Loss: 0.1648 V MCRMSE: 0.1684\n",
            "Epoch 90\n"
          ],
          "name": "stdout"
        },
        {
          "output_type": "stream",
          "text": [
            "100%|██████████| 244/244 [00:29<00:00,  8.25it/s]\n",
            "100%|██████████| 20/20 [00:00<00:00, 21.12it/s]\n",
            "  0%|          | 1/244 [00:00<00:29,  8.20it/s]"
          ],
          "name": "stderr"
        },
        {
          "output_type": "stream",
          "text": [
            "T Loss: 0.1474 V Loss: 0.1624 V MCRMSE: 0.1658\n",
            "Best valid MCRMSE updated to 0.1657823771238327\n",
            "Epoch 91\n"
          ],
          "name": "stdout"
        },
        {
          "output_type": "stream",
          "text": [
            "100%|██████████| 244/244 [00:29<00:00,  8.25it/s]\n",
            "100%|██████████| 20/20 [00:00<00:00, 21.25it/s]\n",
            "  0%|          | 1/244 [00:00<00:29,  8.22it/s]"
          ],
          "name": "stderr"
        },
        {
          "output_type": "stream",
          "text": [
            "T Loss: 0.1470 V Loss: 0.1610 V MCRMSE: 0.1645\n",
            "Best valid MCRMSE updated to 0.16451480984687805\n",
            "Epoch 92\n"
          ],
          "name": "stdout"
        },
        {
          "output_type": "stream",
          "text": [
            "100%|██████████| 244/244 [00:29<00:00,  8.26it/s]\n",
            "100%|██████████| 20/20 [00:00<00:00, 21.14it/s]\n",
            "  0%|          | 1/244 [00:00<00:29,  8.20it/s]"
          ],
          "name": "stderr"
        },
        {
          "output_type": "stream",
          "text": [
            "T Loss: 0.1467 V Loss: 0.1615 V MCRMSE: 0.1650\n",
            "Epoch 93\n"
          ],
          "name": "stdout"
        },
        {
          "output_type": "stream",
          "text": [
            "100%|██████████| 244/244 [00:29<00:00,  8.26it/s]\n",
            "100%|██████████| 20/20 [00:00<00:00, 21.28it/s]\n",
            "  0%|          | 1/244 [00:00<00:29,  8.18it/s]"
          ],
          "name": "stderr"
        },
        {
          "output_type": "stream",
          "text": [
            "T Loss: 0.1464 V Loss: 0.1616 V MCRMSE: 0.1650\n",
            "Epoch 94\n"
          ],
          "name": "stdout"
        },
        {
          "output_type": "stream",
          "text": [
            "100%|██████████| 244/244 [00:29<00:00,  8.26it/s]\n",
            "100%|██████████| 20/20 [00:00<00:00, 21.17it/s]\n",
            "  0%|          | 1/244 [00:00<00:29,  8.37it/s]"
          ],
          "name": "stderr"
        },
        {
          "output_type": "stream",
          "text": [
            "T Loss: 0.1467 V Loss: 0.1620 V MCRMSE: 0.1655\n",
            "Epoch 95\n"
          ],
          "name": "stdout"
        },
        {
          "output_type": "stream",
          "text": [
            "100%|██████████| 244/244 [00:29<00:00,  8.25it/s]\n",
            "100%|██████████| 20/20 [00:00<00:00, 21.22it/s]\n",
            "  0%|          | 1/244 [00:00<00:29,  8.34it/s]"
          ],
          "name": "stderr"
        },
        {
          "output_type": "stream",
          "text": [
            "T Loss: 0.1460 V Loss: 0.1630 V MCRMSE: 0.1666\n",
            "Epoch 96\n"
          ],
          "name": "stdout"
        },
        {
          "output_type": "stream",
          "text": [
            "100%|██████████| 244/244 [00:29<00:00,  8.25it/s]\n",
            "100%|██████████| 20/20 [00:00<00:00, 21.05it/s]\n",
            "  0%|          | 1/244 [00:00<00:29,  8.36it/s]"
          ],
          "name": "stderr"
        },
        {
          "output_type": "stream",
          "text": [
            "T Loss: 0.1456 V Loss: 0.1641 V MCRMSE: 0.1677\n",
            "Epoch 97\n"
          ],
          "name": "stdout"
        },
        {
          "output_type": "stream",
          "text": [
            "100%|██████████| 244/244 [00:29<00:00,  8.26it/s]\n",
            "100%|██████████| 20/20 [00:00<00:00, 21.15it/s]\n",
            "  0%|          | 1/244 [00:00<00:29,  8.12it/s]"
          ],
          "name": "stderr"
        },
        {
          "output_type": "stream",
          "text": [
            "T Loss: 0.1454 V Loss: 0.1609 V MCRMSE: 0.1644\n",
            "Best valid MCRMSE updated to 0.16441816091537476\n",
            "Epoch 98\n"
          ],
          "name": "stdout"
        },
        {
          "output_type": "stream",
          "text": [
            "100%|██████████| 244/244 [00:29<00:00,  8.25it/s]\n",
            "100%|██████████| 20/20 [00:00<00:00, 21.09it/s]\n",
            "  0%|          | 1/244 [00:00<00:29,  8.33it/s]"
          ],
          "name": "stderr"
        },
        {
          "output_type": "stream",
          "text": [
            "T Loss: 0.1453 V Loss: 0.1614 V MCRMSE: 0.1648\n",
            "Epoch 99\n"
          ],
          "name": "stdout"
        },
        {
          "output_type": "stream",
          "text": [
            "100%|██████████| 244/244 [00:29<00:00,  8.25it/s]\n",
            "100%|██████████| 20/20 [00:00<00:00, 21.28it/s]\n",
            " 15%|█▌        | 3/20 [00:00<00:00, 21.21it/s]"
          ],
          "name": "stderr"
        },
        {
          "output_type": "stream",
          "text": [
            "T Loss: 0.1446 V Loss: 0.1611 V MCRMSE: 0.1646\n"
          ],
          "name": "stdout"
        },
        {
          "output_type": "stream",
          "text": [
            "100%|██████████| 20/20 [00:00<00:00, 21.36it/s]\n"
          ],
          "name": "stderr"
        },
        {
          "output_type": "stream",
          "text": [
            "Fold 9\n"
          ],
          "name": "stdout"
        },
        {
          "output_type": "stream",
          "text": [
            "  0%|          | 1/243 [00:00<00:30,  7.87it/s]"
          ],
          "name": "stderr"
        },
        {
          "output_type": "stream",
          "text": [
            "Epoch 0\n"
          ],
          "name": "stdout"
        },
        {
          "output_type": "stream",
          "text": [
            "100%|██████████| 243/243 [00:29<00:00,  8.24it/s]\n",
            "100%|██████████| 20/20 [00:00<00:00, 21.05it/s]\n",
            "  0%|          | 1/243 [00:00<00:29,  8.24it/s]"
          ],
          "name": "stderr"
        },
        {
          "output_type": "stream",
          "text": [
            "T Loss: 0.3543 V Loss: 0.3036 V MCRMSE: 0.3050\n",
            "Best valid MCRMSE updated to 0.3049839735031128\n",
            "Epoch 1\n"
          ],
          "name": "stdout"
        },
        {
          "output_type": "stream",
          "text": [
            "100%|██████████| 243/243 [00:29<00:00,  8.26it/s]\n",
            "100%|██████████| 20/20 [00:00<00:00, 21.23it/s]\n",
            "  0%|          | 1/243 [00:00<00:28,  8.37it/s]"
          ],
          "name": "stderr"
        },
        {
          "output_type": "stream",
          "text": [
            "T Loss: 0.2895 V Loss: 0.2734 V MCRMSE: 0.2751\n",
            "Best valid MCRMSE updated to 0.2750717103481293\n",
            "Epoch 2\n"
          ],
          "name": "stdout"
        },
        {
          "output_type": "stream",
          "text": [
            "100%|██████████| 243/243 [00:29<00:00,  8.29it/s]\n",
            "100%|██████████| 20/20 [00:00<00:00, 21.16it/s]\n",
            "  0%|          | 1/243 [00:00<00:29,  8.31it/s]"
          ],
          "name": "stderr"
        },
        {
          "output_type": "stream",
          "text": [
            "T Loss: 0.2714 V Loss: 0.2626 V MCRMSE: 0.2640\n",
            "Best valid MCRMSE updated to 0.26402539014816284\n",
            "Epoch 3\n"
          ],
          "name": "stdout"
        },
        {
          "output_type": "stream",
          "text": [
            "100%|██████████| 243/243 [00:29<00:00,  8.28it/s]\n",
            "100%|██████████| 20/20 [00:00<00:00, 21.25it/s]\n",
            "  0%|          | 1/243 [00:00<00:28,  8.43it/s]"
          ],
          "name": "stderr"
        },
        {
          "output_type": "stream",
          "text": [
            "T Loss: 0.2564 V Loss: 0.2516 V MCRMSE: 0.2533\n",
            "Best valid MCRMSE updated to 0.2533082962036133\n",
            "Epoch 4\n"
          ],
          "name": "stdout"
        },
        {
          "output_type": "stream",
          "text": [
            "100%|██████████| 243/243 [00:29<00:00,  8.28it/s]\n",
            "100%|██████████| 20/20 [00:00<00:00, 21.24it/s]\n",
            "  0%|          | 1/243 [00:00<00:28,  8.35it/s]"
          ],
          "name": "stderr"
        },
        {
          "output_type": "stream",
          "text": [
            "T Loss: 0.2464 V Loss: 0.2451 V MCRMSE: 0.2468\n",
            "Best valid MCRMSE updated to 0.24675345420837402\n",
            "Epoch 5\n"
          ],
          "name": "stdout"
        },
        {
          "output_type": "stream",
          "text": [
            "100%|██████████| 243/243 [00:29<00:00,  8.29it/s]\n",
            "100%|██████████| 20/20 [00:00<00:00, 21.23it/s]\n",
            "  0%|          | 1/243 [00:00<00:29,  8.16it/s]"
          ],
          "name": "stderr"
        },
        {
          "output_type": "stream",
          "text": [
            "T Loss: 0.2405 V Loss: 0.2607 V MCRMSE: 0.2623\n",
            "Epoch 6\n"
          ],
          "name": "stdout"
        },
        {
          "output_type": "stream",
          "text": [
            "100%|██████████| 243/243 [00:29<00:00,  8.27it/s]\n",
            "100%|██████████| 20/20 [00:00<00:00, 21.21it/s]\n",
            "  0%|          | 1/243 [00:00<00:29,  8.22it/s]"
          ],
          "name": "stderr"
        },
        {
          "output_type": "stream",
          "text": [
            "T Loss: 0.2353 V Loss: 0.2350 V MCRMSE: 0.2367\n",
            "Best valid MCRMSE updated to 0.23665092885494232\n",
            "Epoch 7\n"
          ],
          "name": "stdout"
        },
        {
          "output_type": "stream",
          "text": [
            "100%|██████████| 243/243 [00:29<00:00,  8.25it/s]\n",
            "100%|██████████| 20/20 [00:00<00:00, 21.07it/s]\n",
            "  0%|          | 1/243 [00:00<00:29,  8.21it/s]"
          ],
          "name": "stderr"
        },
        {
          "output_type": "stream",
          "text": [
            "T Loss: 0.2295 V Loss: 0.2398 V MCRMSE: 0.2413\n",
            "Epoch 8\n"
          ],
          "name": "stdout"
        },
        {
          "output_type": "stream",
          "text": [
            "100%|██████████| 243/243 [00:29<00:00,  8.22it/s]\n",
            "100%|██████████| 20/20 [00:00<00:00, 20.94it/s]\n",
            "  0%|          | 1/243 [00:00<00:29,  8.28it/s]"
          ],
          "name": "stderr"
        },
        {
          "output_type": "stream",
          "text": [
            "T Loss: 0.2256 V Loss: 0.2248 V MCRMSE: 0.2267\n",
            "Best valid MCRMSE updated to 0.22671306133270264\n",
            "Epoch 9\n"
          ],
          "name": "stdout"
        },
        {
          "output_type": "stream",
          "text": [
            "100%|██████████| 243/243 [00:29<00:00,  8.23it/s]\n",
            "100%|██████████| 20/20 [00:00<00:00, 21.15it/s]\n",
            "  0%|          | 1/243 [00:00<00:29,  8.26it/s]"
          ],
          "name": "stderr"
        },
        {
          "output_type": "stream",
          "text": [
            "T Loss: 0.2214 V Loss: 0.2223 V MCRMSE: 0.2240\n",
            "Best valid MCRMSE updated to 0.22401833534240723\n",
            "Epoch 10\n"
          ],
          "name": "stdout"
        },
        {
          "output_type": "stream",
          "text": [
            "100%|██████████| 243/243 [00:29<00:00,  8.28it/s]\n",
            "100%|██████████| 20/20 [00:00<00:00, 21.20it/s]\n",
            "  0%|          | 1/243 [00:00<00:29,  8.24it/s]"
          ],
          "name": "stderr"
        },
        {
          "output_type": "stream",
          "text": [
            "T Loss: 0.2194 V Loss: 0.2219 V MCRMSE: 0.2239\n",
            "Best valid MCRMSE updated to 0.2238604724407196\n",
            "Epoch 11\n"
          ],
          "name": "stdout"
        },
        {
          "output_type": "stream",
          "text": [
            "100%|██████████| 243/243 [00:29<00:00,  8.28it/s]\n",
            "100%|██████████| 20/20 [00:00<00:00, 21.19it/s]\n",
            "  0%|          | 1/243 [00:00<00:29,  8.26it/s]"
          ],
          "name": "stderr"
        },
        {
          "output_type": "stream",
          "text": [
            "T Loss: 0.2153 V Loss: 0.2168 V MCRMSE: 0.2186\n",
            "Best valid MCRMSE updated to 0.21863996982574463\n",
            "Epoch 12\n"
          ],
          "name": "stdout"
        },
        {
          "output_type": "stream",
          "text": [
            "100%|██████████| 243/243 [00:29<00:00,  8.28it/s]\n",
            "100%|██████████| 20/20 [00:00<00:00, 21.23it/s]\n",
            "  0%|          | 1/243 [00:00<00:28,  8.40it/s]"
          ],
          "name": "stderr"
        },
        {
          "output_type": "stream",
          "text": [
            "T Loss: 0.2130 V Loss: 0.2141 V MCRMSE: 0.2162\n",
            "Best valid MCRMSE updated to 0.2161523699760437\n",
            "Epoch 13\n"
          ],
          "name": "stdout"
        },
        {
          "output_type": "stream",
          "text": [
            "100%|██████████| 243/243 [00:29<00:00,  8.27it/s]\n",
            "100%|██████████| 20/20 [00:00<00:00, 21.19it/s]\n",
            "  0%|          | 1/243 [00:00<00:29,  8.23it/s]"
          ],
          "name": "stderr"
        },
        {
          "output_type": "stream",
          "text": [
            "T Loss: 0.2087 V Loss: 0.2129 V MCRMSE: 0.2149\n",
            "Best valid MCRMSE updated to 0.2149229496717453\n",
            "Epoch 14\n"
          ],
          "name": "stdout"
        },
        {
          "output_type": "stream",
          "text": [
            "100%|██████████| 243/243 [00:29<00:00,  8.28it/s]\n",
            "100%|██████████| 20/20 [00:00<00:00, 21.23it/s]\n",
            "  0%|          | 1/243 [00:00<00:29,  8.25it/s]"
          ],
          "name": "stderr"
        },
        {
          "output_type": "stream",
          "text": [
            "T Loss: 0.2069 V Loss: 0.2088 V MCRMSE: 0.2108\n",
            "Best valid MCRMSE updated to 0.21083694696426392\n",
            "Epoch 15\n"
          ],
          "name": "stdout"
        },
        {
          "output_type": "stream",
          "text": [
            "100%|██████████| 243/243 [00:29<00:00,  8.27it/s]\n",
            "100%|██████████| 20/20 [00:00<00:00, 21.15it/s]\n",
            "  0%|          | 1/243 [00:00<00:29,  8.25it/s]"
          ],
          "name": "stderr"
        },
        {
          "output_type": "stream",
          "text": [
            "T Loss: 0.2044 V Loss: 0.2088 V MCRMSE: 0.2106\n",
            "Best valid MCRMSE updated to 0.21064993739128113\n",
            "Epoch 16\n"
          ],
          "name": "stdout"
        },
        {
          "output_type": "stream",
          "text": [
            "100%|██████████| 243/243 [00:29<00:00,  8.26it/s]\n",
            "100%|██████████| 20/20 [00:00<00:00, 21.14it/s]\n",
            "  0%|          | 1/243 [00:00<00:29,  8.34it/s]"
          ],
          "name": "stderr"
        },
        {
          "output_type": "stream",
          "text": [
            "T Loss: 0.2019 V Loss: 0.2052 V MCRMSE: 0.2071\n",
            "Best valid MCRMSE updated to 0.2071373462677002\n",
            "Epoch 17\n"
          ],
          "name": "stdout"
        },
        {
          "output_type": "stream",
          "text": [
            "100%|██████████| 243/243 [00:29<00:00,  8.28it/s]\n",
            "100%|██████████| 20/20 [00:00<00:00, 21.24it/s]\n",
            "  0%|          | 1/243 [00:00<00:29,  8.27it/s]"
          ],
          "name": "stderr"
        },
        {
          "output_type": "stream",
          "text": [
            "T Loss: 0.2004 V Loss: 0.2047 V MCRMSE: 0.2066\n",
            "Best valid MCRMSE updated to 0.20662514865398407\n",
            "Epoch 18\n"
          ],
          "name": "stdout"
        },
        {
          "output_type": "stream",
          "text": [
            "100%|██████████| 243/243 [00:29<00:00,  8.27it/s]\n",
            "100%|██████████| 20/20 [00:00<00:00, 21.24it/s]\n",
            "  0%|          | 1/243 [00:00<00:29,  8.19it/s]"
          ],
          "name": "stderr"
        },
        {
          "output_type": "stream",
          "text": [
            "T Loss: 0.1977 V Loss: 0.2084 V MCRMSE: 0.2104\n",
            "Epoch 19\n"
          ],
          "name": "stdout"
        },
        {
          "output_type": "stream",
          "text": [
            "100%|██████████| 243/243 [00:29<00:00,  8.27it/s]\n",
            "100%|██████████| 20/20 [00:00<00:00, 21.23it/s]\n",
            "  0%|          | 1/243 [00:00<00:28,  8.35it/s]"
          ],
          "name": "stderr"
        },
        {
          "output_type": "stream",
          "text": [
            "T Loss: 0.1962 V Loss: 0.2023 V MCRMSE: 0.2043\n",
            "Best valid MCRMSE updated to 0.20426100492477417\n",
            "Epoch 20\n"
          ],
          "name": "stdout"
        },
        {
          "output_type": "stream",
          "text": [
            "100%|██████████| 243/243 [00:29<00:00,  8.26it/s]\n",
            "100%|██████████| 20/20 [00:00<00:00, 21.19it/s]\n",
            "  0%|          | 1/243 [00:00<00:28,  8.41it/s]"
          ],
          "name": "stderr"
        },
        {
          "output_type": "stream",
          "text": [
            "T Loss: 0.1940 V Loss: 0.1976 V MCRMSE: 0.1998\n",
            "Best valid MCRMSE updated to 0.19979768991470337\n",
            "Epoch 21\n"
          ],
          "name": "stdout"
        },
        {
          "output_type": "stream",
          "text": [
            "100%|██████████| 243/243 [00:29<00:00,  8.27it/s]\n",
            "100%|██████████| 20/20 [00:00<00:00, 21.27it/s]\n",
            "  0%|          | 1/243 [00:00<00:29,  8.29it/s]"
          ],
          "name": "stderr"
        },
        {
          "output_type": "stream",
          "text": [
            "T Loss: 0.1923 V Loss: 0.1975 V MCRMSE: 0.1996\n",
            "Best valid MCRMSE updated to 0.1996035873889923\n",
            "Epoch 22\n"
          ],
          "name": "stdout"
        },
        {
          "output_type": "stream",
          "text": [
            "100%|██████████| 243/243 [00:29<00:00,  8.27it/s]\n",
            "100%|██████████| 20/20 [00:00<00:00, 21.21it/s]\n",
            "  0%|          | 1/243 [00:00<00:29,  8.23it/s]"
          ],
          "name": "stderr"
        },
        {
          "output_type": "stream",
          "text": [
            "T Loss: 0.1905 V Loss: 0.1957 V MCRMSE: 0.1984\n",
            "Best valid MCRMSE updated to 0.1984269917011261\n",
            "Epoch 23\n"
          ],
          "name": "stdout"
        },
        {
          "output_type": "stream",
          "text": [
            "100%|██████████| 243/243 [00:29<00:00,  8.28it/s]\n",
            "100%|██████████| 20/20 [00:00<00:00, 21.25it/s]\n",
            "  0%|          | 1/243 [00:00<00:28,  8.35it/s]"
          ],
          "name": "stderr"
        },
        {
          "output_type": "stream",
          "text": [
            "T Loss: 0.1893 V Loss: 0.1947 V MCRMSE: 0.1970\n",
            "Best valid MCRMSE updated to 0.19696293771266937\n",
            "Epoch 24\n"
          ],
          "name": "stdout"
        },
        {
          "output_type": "stream",
          "text": [
            "100%|██████████| 243/243 [00:29<00:00,  8.28it/s]\n",
            "100%|██████████| 20/20 [00:00<00:00, 21.22it/s]\n",
            "  0%|          | 1/243 [00:00<00:28,  8.35it/s]"
          ],
          "name": "stderr"
        },
        {
          "output_type": "stream",
          "text": [
            "T Loss: 0.1877 V Loss: 0.1916 V MCRMSE: 0.1938\n",
            "Best valid MCRMSE updated to 0.19379764795303345\n",
            "Epoch 25\n"
          ],
          "name": "stdout"
        },
        {
          "output_type": "stream",
          "text": [
            "100%|██████████| 243/243 [00:29<00:00,  8.28it/s]\n",
            "100%|██████████| 20/20 [00:00<00:00, 21.26it/s]\n",
            "  0%|          | 1/243 [00:00<00:29,  8.21it/s]"
          ],
          "name": "stderr"
        },
        {
          "output_type": "stream",
          "text": [
            "T Loss: 0.1856 V Loss: 0.1904 V MCRMSE: 0.1926\n",
            "Best valid MCRMSE updated to 0.1926051676273346\n",
            "Epoch 26\n"
          ],
          "name": "stdout"
        },
        {
          "output_type": "stream",
          "text": [
            "100%|██████████| 243/243 [00:29<00:00,  8.26it/s]\n",
            "100%|██████████| 20/20 [00:00<00:00, 21.28it/s]\n",
            "  0%|          | 1/243 [00:00<00:29,  8.28it/s]"
          ],
          "name": "stderr"
        },
        {
          "output_type": "stream",
          "text": [
            "T Loss: 0.1848 V Loss: 0.1901 V MCRMSE: 0.1924\n",
            "Best valid MCRMSE updated to 0.19238588213920593\n",
            "Epoch 27\n"
          ],
          "name": "stdout"
        },
        {
          "output_type": "stream",
          "text": [
            "100%|██████████| 243/243 [00:29<00:00,  8.28it/s]\n",
            "100%|██████████| 20/20 [00:00<00:00, 21.24it/s]\n",
            "  0%|          | 1/243 [00:00<00:29,  8.27it/s]"
          ],
          "name": "stderr"
        },
        {
          "output_type": "stream",
          "text": [
            "T Loss: 0.1838 V Loss: 0.1909 V MCRMSE: 0.1935\n",
            "Epoch 28\n"
          ],
          "name": "stdout"
        },
        {
          "output_type": "stream",
          "text": [
            "100%|██████████| 243/243 [00:29<00:00,  8.29it/s]\n",
            "100%|██████████| 20/20 [00:00<00:00, 21.18it/s]\n",
            "  0%|          | 1/243 [00:00<00:29,  8.31it/s]"
          ],
          "name": "stderr"
        },
        {
          "output_type": "stream",
          "text": [
            "T Loss: 0.1826 V Loss: 0.1886 V MCRMSE: 0.1909\n",
            "Best valid MCRMSE updated to 0.19089148938655853\n",
            "Epoch 29\n"
          ],
          "name": "stdout"
        },
        {
          "output_type": "stream",
          "text": [
            "100%|██████████| 243/243 [00:29<00:00,  8.28it/s]\n",
            "100%|██████████| 20/20 [00:00<00:00, 21.26it/s]\n",
            "  0%|          | 1/243 [00:00<00:29,  8.33it/s]"
          ],
          "name": "stderr"
        },
        {
          "output_type": "stream",
          "text": [
            "T Loss: 0.1811 V Loss: 0.1880 V MCRMSE: 0.1907\n",
            "Best valid MCRMSE updated to 0.1907086819410324\n",
            "Epoch 30\n"
          ],
          "name": "stdout"
        },
        {
          "output_type": "stream",
          "text": [
            "100%|██████████| 243/243 [00:29<00:00,  8.28it/s]\n",
            "100%|██████████| 20/20 [00:00<00:00, 21.24it/s]\n",
            "  0%|          | 1/243 [00:00<00:29,  8.27it/s]"
          ],
          "name": "stderr"
        },
        {
          "output_type": "stream",
          "text": [
            "T Loss: 0.1793 V Loss: 0.1874 V MCRMSE: 0.1899\n",
            "Best valid MCRMSE updated to 0.18993505835533142\n",
            "Epoch 31\n"
          ],
          "name": "stdout"
        },
        {
          "output_type": "stream",
          "text": [
            "100%|██████████| 243/243 [00:29<00:00,  8.29it/s]\n",
            "100%|██████████| 20/20 [00:00<00:00, 21.29it/s]\n",
            "  0%|          | 1/243 [00:00<00:29,  8.25it/s]"
          ],
          "name": "stderr"
        },
        {
          "output_type": "stream",
          "text": [
            "T Loss: 0.1784 V Loss: 0.1894 V MCRMSE: 0.1926\n",
            "Epoch 32\n"
          ],
          "name": "stdout"
        },
        {
          "output_type": "stream",
          "text": [
            "100%|██████████| 243/243 [00:29<00:00,  8.28it/s]\n",
            "100%|██████████| 20/20 [00:00<00:00, 21.07it/s]\n",
            "  0%|          | 1/243 [00:00<00:29,  8.19it/s]"
          ],
          "name": "stderr"
        },
        {
          "output_type": "stream",
          "text": [
            "T Loss: 0.1773 V Loss: 0.1855 V MCRMSE: 0.1882\n",
            "Best valid MCRMSE updated to 0.18818031251430511\n",
            "Epoch 33\n"
          ],
          "name": "stdout"
        },
        {
          "output_type": "stream",
          "text": [
            "100%|██████████| 243/243 [00:29<00:00,  8.27it/s]\n",
            "100%|██████████| 20/20 [00:00<00:00, 21.22it/s]\n",
            "  0%|          | 1/243 [00:00<00:29,  8.26it/s]"
          ],
          "name": "stderr"
        },
        {
          "output_type": "stream",
          "text": [
            "T Loss: 0.1768 V Loss: 0.1854 V MCRMSE: 0.1881\n",
            "Best valid MCRMSE updated to 0.18809619545936584\n",
            "Epoch 34\n"
          ],
          "name": "stdout"
        },
        {
          "output_type": "stream",
          "text": [
            "100%|██████████| 243/243 [00:29<00:00,  8.29it/s]\n",
            "100%|██████████| 20/20 [00:00<00:00, 21.23it/s]\n",
            "  0%|          | 1/243 [00:00<00:29,  8.22it/s]"
          ],
          "name": "stderr"
        },
        {
          "output_type": "stream",
          "text": [
            "T Loss: 0.1761 V Loss: 0.1822 V MCRMSE: 0.1848\n",
            "Best valid MCRMSE updated to 0.18482814729213715\n",
            "Epoch 35\n"
          ],
          "name": "stdout"
        },
        {
          "output_type": "stream",
          "text": [
            "100%|██████████| 243/243 [00:29<00:00,  8.28it/s]\n",
            "100%|██████████| 20/20 [00:00<00:00, 21.22it/s]\n",
            "  0%|          | 1/243 [00:00<00:29,  8.18it/s]"
          ],
          "name": "stderr"
        },
        {
          "output_type": "stream",
          "text": [
            "T Loss: 0.1752 V Loss: 0.1818 V MCRMSE: 0.1847\n",
            "Best valid MCRMSE updated to 0.18472051620483398\n",
            "Epoch 36\n"
          ],
          "name": "stdout"
        },
        {
          "output_type": "stream",
          "text": [
            "100%|██████████| 243/243 [00:29<00:00,  8.25it/s]\n",
            "100%|██████████| 20/20 [00:00<00:00, 21.07it/s]\n",
            "  0%|          | 1/243 [00:00<00:29,  8.20it/s]"
          ],
          "name": "stderr"
        },
        {
          "output_type": "stream",
          "text": [
            "T Loss: 0.1735 V Loss: 0.1817 V MCRMSE: 0.1847\n",
            "Best valid MCRMSE updated to 0.18467605113983154\n",
            "Epoch 37\n"
          ],
          "name": "stdout"
        },
        {
          "output_type": "stream",
          "text": [
            "100%|██████████| 243/243 [00:29<00:00,  8.22it/s]\n",
            "100%|██████████| 20/20 [00:00<00:00, 21.05it/s]\n",
            "  0%|          | 1/243 [00:00<00:29,  8.16it/s]"
          ],
          "name": "stderr"
        },
        {
          "output_type": "stream",
          "text": [
            "T Loss: 0.1728 V Loss: 0.1810 V MCRMSE: 0.1839\n",
            "Best valid MCRMSE updated to 0.18393604457378387\n",
            "Epoch 38\n"
          ],
          "name": "stdout"
        },
        {
          "output_type": "stream",
          "text": [
            "100%|██████████| 243/243 [00:29<00:00,  8.22it/s]\n",
            "100%|██████████| 20/20 [00:00<00:00, 21.14it/s]\n",
            "  0%|          | 1/243 [00:00<00:29,  8.27it/s]"
          ],
          "name": "stderr"
        },
        {
          "output_type": "stream",
          "text": [
            "T Loss: 0.1720 V Loss: 0.1814 V MCRMSE: 0.1842\n",
            "Epoch 39\n"
          ],
          "name": "stdout"
        },
        {
          "output_type": "stream",
          "text": [
            "100%|██████████| 243/243 [00:29<00:00,  8.23it/s]\n",
            "100%|██████████| 20/20 [00:00<00:00, 21.11it/s]\n",
            "  0%|          | 1/243 [00:00<00:29,  8.34it/s]"
          ],
          "name": "stderr"
        },
        {
          "output_type": "stream",
          "text": [
            "T Loss: 0.1711 V Loss: 0.1798 V MCRMSE: 0.1826\n",
            "Best valid MCRMSE updated to 0.18261544406414032\n",
            "Epoch 40\n"
          ],
          "name": "stdout"
        },
        {
          "output_type": "stream",
          "text": [
            "100%|██████████| 243/243 [00:29<00:00,  8.23it/s]\n",
            "100%|██████████| 20/20 [00:00<00:00, 21.05it/s]\n",
            "  0%|          | 1/243 [00:00<00:29,  8.15it/s]"
          ],
          "name": "stderr"
        },
        {
          "output_type": "stream",
          "text": [
            "T Loss: 0.1709 V Loss: 0.1800 V MCRMSE: 0.1830\n",
            "Epoch 41\n"
          ],
          "name": "stdout"
        },
        {
          "output_type": "stream",
          "text": [
            "100%|██████████| 243/243 [00:29<00:00,  8.22it/s]\n",
            "100%|██████████| 20/20 [00:00<00:00, 20.96it/s]\n",
            "  0%|          | 1/243 [00:00<00:29,  8.28it/s]"
          ],
          "name": "stderr"
        },
        {
          "output_type": "stream",
          "text": [
            "T Loss: 0.1699 V Loss: 0.1792 V MCRMSE: 0.1822\n",
            "Best valid MCRMSE updated to 0.18217842280864716\n",
            "Epoch 42\n"
          ],
          "name": "stdout"
        },
        {
          "output_type": "stream",
          "text": [
            "100%|██████████| 243/243 [00:29<00:00,  8.23it/s]\n",
            "100%|██████████| 20/20 [00:00<00:00, 21.02it/s]\n",
            "  0%|          | 1/243 [00:00<00:29,  8.28it/s]"
          ],
          "name": "stderr"
        },
        {
          "output_type": "stream",
          "text": [
            "T Loss: 0.1690 V Loss: 0.1789 V MCRMSE: 0.1819\n",
            "Best valid MCRMSE updated to 0.18193534016609192\n",
            "Epoch 43\n"
          ],
          "name": "stdout"
        },
        {
          "output_type": "stream",
          "text": [
            "100%|██████████| 243/243 [00:29<00:00,  8.21it/s]\n",
            "100%|██████████| 20/20 [00:00<00:00, 21.11it/s]\n",
            "  0%|          | 1/243 [00:00<00:29,  8.23it/s]"
          ],
          "name": "stderr"
        },
        {
          "output_type": "stream",
          "text": [
            "T Loss: 0.1681 V Loss: 0.1789 V MCRMSE: 0.1828\n",
            "Epoch 44\n"
          ],
          "name": "stdout"
        },
        {
          "output_type": "stream",
          "text": [
            "100%|██████████| 243/243 [00:29<00:00,  8.23it/s]\n",
            "100%|██████████| 20/20 [00:00<00:00, 21.09it/s]\n",
            "  0%|          | 1/243 [00:00<00:29,  8.21it/s]"
          ],
          "name": "stderr"
        },
        {
          "output_type": "stream",
          "text": [
            "T Loss: 0.1672 V Loss: 0.1776 V MCRMSE: 0.1808\n",
            "Best valid MCRMSE updated to 0.18078288435935974\n",
            "Epoch 45\n"
          ],
          "name": "stdout"
        },
        {
          "output_type": "stream",
          "text": [
            "100%|██████████| 243/243 [00:29<00:00,  8.22it/s]\n",
            "100%|██████████| 20/20 [00:00<00:00, 21.08it/s]\n",
            "  0%|          | 1/243 [00:00<00:29,  8.18it/s]"
          ],
          "name": "stderr"
        },
        {
          "output_type": "stream",
          "text": [
            "T Loss: 0.1666 V Loss: 0.1754 V MCRMSE: 0.1787\n",
            "Best valid MCRMSE updated to 0.1787106990814209\n",
            "Epoch 46\n"
          ],
          "name": "stdout"
        },
        {
          "output_type": "stream",
          "text": [
            "100%|██████████| 243/243 [00:29<00:00,  8.24it/s]\n",
            "100%|██████████| 20/20 [00:00<00:00, 21.15it/s]\n",
            "  0%|          | 1/243 [00:00<00:29,  8.18it/s]"
          ],
          "name": "stderr"
        },
        {
          "output_type": "stream",
          "text": [
            "T Loss: 0.1660 V Loss: 0.1764 V MCRMSE: 0.1797\n",
            "Epoch 47\n"
          ],
          "name": "stdout"
        },
        {
          "output_type": "stream",
          "text": [
            "100%|██████████| 243/243 [00:29<00:00,  8.22it/s]\n",
            "100%|██████████| 20/20 [00:00<00:00, 21.07it/s]\n",
            "  0%|          | 1/243 [00:00<00:29,  8.32it/s]"
          ],
          "name": "stderr"
        },
        {
          "output_type": "stream",
          "text": [
            "T Loss: 0.1655 V Loss: 0.1744 V MCRMSE: 0.1778\n",
            "Best valid MCRMSE updated to 0.1777832955121994\n",
            "Epoch 48\n"
          ],
          "name": "stdout"
        },
        {
          "output_type": "stream",
          "text": [
            "100%|██████████| 243/243 [00:29<00:00,  8.23it/s]\n",
            "100%|██████████| 20/20 [00:00<00:00, 21.08it/s]\n",
            "  0%|          | 1/243 [00:00<00:29,  8.33it/s]"
          ],
          "name": "stderr"
        },
        {
          "output_type": "stream",
          "text": [
            "T Loss: 0.1648 V Loss: 0.1746 V MCRMSE: 0.1779\n",
            "Epoch 49\n"
          ],
          "name": "stdout"
        },
        {
          "output_type": "stream",
          "text": [
            "100%|██████████| 243/243 [00:29<00:00,  8.24it/s]\n",
            "100%|██████████| 20/20 [00:00<00:00, 21.22it/s]\n",
            "  0%|          | 1/243 [00:00<00:28,  8.37it/s]"
          ],
          "name": "stderr"
        },
        {
          "output_type": "stream",
          "text": [
            "T Loss: 0.1637 V Loss: 0.1760 V MCRMSE: 0.1798\n",
            "Epoch 50\n"
          ],
          "name": "stdout"
        },
        {
          "output_type": "stream",
          "text": [
            "100%|██████████| 243/243 [00:29<00:00,  8.26it/s]\n",
            "100%|██████████| 20/20 [00:00<00:00, 21.26it/s]\n",
            "  0%|          | 1/243 [00:00<00:29,  8.12it/s]"
          ],
          "name": "stderr"
        },
        {
          "output_type": "stream",
          "text": [
            "T Loss: 0.1645 V Loss: 0.1718 V MCRMSE: 0.1752\n",
            "Best valid MCRMSE updated to 0.17515549063682556\n",
            "Epoch 51\n"
          ],
          "name": "stdout"
        },
        {
          "output_type": "stream",
          "text": [
            "100%|██████████| 243/243 [00:29<00:00,  8.26it/s]\n",
            "100%|██████████| 20/20 [00:00<00:00, 21.25it/s]\n",
            "  0%|          | 1/243 [00:00<00:29,  8.32it/s]"
          ],
          "name": "stderr"
        },
        {
          "output_type": "stream",
          "text": [
            "T Loss: 0.1625 V Loss: 0.1732 V MCRMSE: 0.1763\n",
            "Epoch 52\n"
          ],
          "name": "stdout"
        },
        {
          "output_type": "stream",
          "text": [
            "100%|██████████| 243/243 [00:29<00:00,  8.28it/s]\n",
            "100%|██████████| 20/20 [00:00<00:00, 21.23it/s]\n",
            "  0%|          | 1/243 [00:00<00:28,  8.41it/s]"
          ],
          "name": "stderr"
        },
        {
          "output_type": "stream",
          "text": [
            "T Loss: 0.1626 V Loss: 0.1712 V MCRMSE: 0.1745\n",
            "Best valid MCRMSE updated to 0.1745413839817047\n",
            "Epoch 53\n"
          ],
          "name": "stdout"
        },
        {
          "output_type": "stream",
          "text": [
            "100%|██████████| 243/243 [00:29<00:00,  8.27it/s]\n",
            "100%|██████████| 20/20 [00:00<00:00, 21.19it/s]\n",
            "  0%|          | 1/243 [00:00<00:29,  8.32it/s]"
          ],
          "name": "stderr"
        },
        {
          "output_type": "stream",
          "text": [
            "T Loss: 0.1614 V Loss: 0.1715 V MCRMSE: 0.1747\n",
            "Epoch 54\n"
          ],
          "name": "stdout"
        },
        {
          "output_type": "stream",
          "text": [
            "100%|██████████| 243/243 [00:29<00:00,  8.27it/s]\n",
            "100%|██████████| 20/20 [00:00<00:00, 21.24it/s]\n",
            "  0%|          | 1/243 [00:00<00:28,  8.40it/s]"
          ],
          "name": "stderr"
        },
        {
          "output_type": "stream",
          "text": [
            "T Loss: 0.1612 V Loss: 0.1710 V MCRMSE: 0.1750\n",
            "Epoch 55\n"
          ],
          "name": "stdout"
        },
        {
          "output_type": "stream",
          "text": [
            "100%|██████████| 243/243 [00:29<00:00,  8.27it/s]\n",
            "100%|██████████| 20/20 [00:00<00:00, 21.28it/s]\n",
            "  0%|          | 1/243 [00:00<00:29,  8.23it/s]"
          ],
          "name": "stderr"
        },
        {
          "output_type": "stream",
          "text": [
            "T Loss: 0.1612 V Loss: 0.1738 V MCRMSE: 0.1782\n",
            "Epoch 56\n"
          ],
          "name": "stdout"
        },
        {
          "output_type": "stream",
          "text": [
            "100%|██████████| 243/243 [00:29<00:00,  8.26it/s]\n",
            "100%|██████████| 20/20 [00:00<00:00, 21.24it/s]\n",
            "  0%|          | 1/243 [00:00<00:29,  8.27it/s]"
          ],
          "name": "stderr"
        },
        {
          "output_type": "stream",
          "text": [
            "T Loss: 0.1600 V Loss: 0.1708 V MCRMSE: 0.1744\n",
            "Best valid MCRMSE updated to 0.1743743121623993\n",
            "Epoch 57\n"
          ],
          "name": "stdout"
        },
        {
          "output_type": "stream",
          "text": [
            "100%|██████████| 243/243 [00:29<00:00,  8.25it/s]\n",
            "100%|██████████| 20/20 [00:00<00:00, 21.14it/s]\n",
            "  0%|          | 1/243 [00:00<00:29,  8.22it/s]"
          ],
          "name": "stderr"
        },
        {
          "output_type": "stream",
          "text": [
            "T Loss: 0.1600 V Loss: 0.1697 V MCRMSE: 0.1731\n",
            "Best valid MCRMSE updated to 0.17306475341320038\n",
            "Epoch 58\n"
          ],
          "name": "stdout"
        },
        {
          "output_type": "stream",
          "text": [
            "100%|██████████| 243/243 [00:29<00:00,  8.27it/s]\n",
            "100%|██████████| 20/20 [00:00<00:00, 21.14it/s]\n",
            "  0%|          | 1/243 [00:00<00:29,  8.30it/s]"
          ],
          "name": "stderr"
        },
        {
          "output_type": "stream",
          "text": [
            "T Loss: 0.1591 V Loss: 0.1701 V MCRMSE: 0.1736\n",
            "Epoch 59\n"
          ],
          "name": "stdout"
        },
        {
          "output_type": "stream",
          "text": [
            "100%|██████████| 243/243 [00:29<00:00,  8.26it/s]\n",
            "100%|██████████| 20/20 [00:00<00:00, 21.21it/s]\n",
            "  0%|          | 1/243 [00:00<00:29,  8.25it/s]"
          ],
          "name": "stderr"
        },
        {
          "output_type": "stream",
          "text": [
            "T Loss: 0.1588 V Loss: 0.1701 V MCRMSE: 0.1741\n",
            "Epoch 60\n"
          ],
          "name": "stdout"
        },
        {
          "output_type": "stream",
          "text": [
            "100%|██████████| 243/243 [00:29<00:00,  8.27it/s]\n",
            "100%|██████████| 20/20 [00:00<00:00, 21.12it/s]\n",
            "  0%|          | 1/243 [00:00<00:29,  8.26it/s]"
          ],
          "name": "stderr"
        },
        {
          "output_type": "stream",
          "text": [
            "T Loss: 0.1583 V Loss: 0.1704 V MCRMSE: 0.1741\n",
            "Epoch 61\n"
          ],
          "name": "stdout"
        },
        {
          "output_type": "stream",
          "text": [
            "100%|██████████| 243/243 [00:29<00:00,  8.27it/s]\n",
            "100%|██████████| 20/20 [00:00<00:00, 21.10it/s]\n",
            "  0%|          | 1/243 [00:00<00:29,  8.25it/s]"
          ],
          "name": "stderr"
        },
        {
          "output_type": "stream",
          "text": [
            "T Loss: 0.1576 V Loss: 0.1702 V MCRMSE: 0.1739\n",
            "Epoch 62\n"
          ],
          "name": "stdout"
        },
        {
          "output_type": "stream",
          "text": [
            "100%|██████████| 243/243 [00:29<00:00,  8.27it/s]\n",
            "100%|██████████| 20/20 [00:00<00:00, 21.11it/s]\n",
            "  0%|          | 1/243 [00:00<00:29,  8.31it/s]"
          ],
          "name": "stderr"
        },
        {
          "output_type": "stream",
          "text": [
            "T Loss: 0.1571 V Loss: 0.1695 V MCRMSE: 0.1731\n",
            "Epoch 63\n"
          ],
          "name": "stdout"
        },
        {
          "output_type": "stream",
          "text": [
            "100%|██████████| 243/243 [00:29<00:00,  8.27it/s]\n",
            "100%|██████████| 20/20 [00:00<00:00, 21.23it/s]\n",
            "  0%|          | 1/243 [00:00<00:28,  8.38it/s]"
          ],
          "name": "stderr"
        },
        {
          "output_type": "stream",
          "text": [
            "T Loss: 0.1568 V Loss: 0.1669 V MCRMSE: 0.1707\n",
            "Best valid MCRMSE updated to 0.17065559327602386\n",
            "Epoch 64\n"
          ],
          "name": "stdout"
        },
        {
          "output_type": "stream",
          "text": [
            "100%|██████████| 243/243 [00:29<00:00,  8.28it/s]\n",
            "100%|██████████| 20/20 [00:00<00:00, 21.19it/s]\n",
            "  0%|          | 1/243 [00:00<00:28,  8.40it/s]"
          ],
          "name": "stderr"
        },
        {
          "output_type": "stream",
          "text": [
            "T Loss: 0.1567 V Loss: 0.1695 V MCRMSE: 0.1733\n",
            "Epoch 65\n"
          ],
          "name": "stdout"
        },
        {
          "output_type": "stream",
          "text": [
            "100%|██████████| 243/243 [00:29<00:00,  8.26it/s]\n",
            "100%|██████████| 20/20 [00:00<00:00, 21.13it/s]\n",
            "  0%|          | 1/243 [00:00<00:28,  8.38it/s]"
          ],
          "name": "stderr"
        },
        {
          "output_type": "stream",
          "text": [
            "T Loss: 0.1558 V Loss: 0.1675 V MCRMSE: 0.1712\n",
            "Epoch 66\n"
          ],
          "name": "stdout"
        },
        {
          "output_type": "stream",
          "text": [
            "100%|██████████| 243/243 [00:29<00:00,  8.27it/s]\n",
            "100%|██████████| 20/20 [00:00<00:00, 21.25it/s]\n",
            "  0%|          | 1/243 [00:00<00:29,  8.28it/s]"
          ],
          "name": "stderr"
        },
        {
          "output_type": "stream",
          "text": [
            "T Loss: 0.1561 V Loss: 0.1673 V MCRMSE: 0.1714\n",
            "Epoch 67\n"
          ],
          "name": "stdout"
        },
        {
          "output_type": "stream",
          "text": [
            "100%|██████████| 243/243 [00:29<00:00,  8.25it/s]\n",
            "100%|██████████| 20/20 [00:00<00:00, 21.22it/s]\n",
            "  0%|          | 1/243 [00:00<00:29,  8.32it/s]"
          ],
          "name": "stderr"
        },
        {
          "output_type": "stream",
          "text": [
            "T Loss: 0.1550 V Loss: 0.1667 V MCRMSE: 0.1705\n",
            "Best valid MCRMSE updated to 0.17048001289367676\n",
            "Epoch 68\n"
          ],
          "name": "stdout"
        },
        {
          "output_type": "stream",
          "text": [
            "100%|██████████| 243/243 [00:29<00:00,  8.27it/s]\n",
            "100%|██████████| 20/20 [00:00<00:00, 21.21it/s]\n",
            "  0%|          | 1/243 [00:00<00:28,  8.37it/s]"
          ],
          "name": "stderr"
        },
        {
          "output_type": "stream",
          "text": [
            "T Loss: 0.1548 V Loss: 0.1669 V MCRMSE: 0.1709\n",
            "Epoch 69\n"
          ],
          "name": "stdout"
        },
        {
          "output_type": "stream",
          "text": [
            "100%|██████████| 243/243 [00:29<00:00,  8.27it/s]\n",
            "100%|██████████| 20/20 [00:00<00:00, 21.14it/s]\n",
            "  0%|          | 1/243 [00:00<00:29,  8.14it/s]"
          ],
          "name": "stderr"
        },
        {
          "output_type": "stream",
          "text": [
            "T Loss: 0.1545 V Loss: 0.1679 V MCRMSE: 0.1719\n",
            "Epoch 70\n"
          ],
          "name": "stdout"
        },
        {
          "output_type": "stream",
          "text": [
            "100%|██████████| 243/243 [00:29<00:00,  8.28it/s]\n",
            "100%|██████████| 20/20 [00:00<00:00, 21.16it/s]\n",
            "  0%|          | 1/243 [00:00<00:29,  8.26it/s]"
          ],
          "name": "stderr"
        },
        {
          "output_type": "stream",
          "text": [
            "T Loss: 0.1538 V Loss: 0.1681 V MCRMSE: 0.1727\n",
            "Epoch 71\n"
          ],
          "name": "stdout"
        },
        {
          "output_type": "stream",
          "text": [
            "100%|██████████| 243/243 [00:29<00:00,  8.29it/s]\n",
            "100%|██████████| 20/20 [00:00<00:00, 21.18it/s]\n",
            "  0%|          | 1/243 [00:00<00:29,  8.25it/s]"
          ],
          "name": "stderr"
        },
        {
          "output_type": "stream",
          "text": [
            "T Loss: 0.1536 V Loss: 0.1665 V MCRMSE: 0.1705\n",
            "Epoch 72\n"
          ],
          "name": "stdout"
        },
        {
          "output_type": "stream",
          "text": [
            "100%|██████████| 243/243 [00:29<00:00,  8.27it/s]\n",
            "100%|██████████| 20/20 [00:00<00:00, 21.21it/s]\n",
            "  0%|          | 1/243 [00:00<00:29,  8.13it/s]"
          ],
          "name": "stderr"
        },
        {
          "output_type": "stream",
          "text": [
            "T Loss: 0.1538 V Loss: 0.1649 V MCRMSE: 0.1689\n",
            "Best valid MCRMSE updated to 0.16894452273845673\n",
            "Epoch 73\n"
          ],
          "name": "stdout"
        },
        {
          "output_type": "stream",
          "text": [
            "100%|██████████| 243/243 [00:29<00:00,  8.28it/s]\n",
            "100%|██████████| 20/20 [00:00<00:00, 21.26it/s]\n",
            "  0%|          | 1/243 [00:00<00:29,  8.27it/s]"
          ],
          "name": "stderr"
        },
        {
          "output_type": "stream",
          "text": [
            "T Loss: 0.1529 V Loss: 0.1647 V MCRMSE: 0.1697\n",
            "Epoch 74\n"
          ],
          "name": "stdout"
        },
        {
          "output_type": "stream",
          "text": [
            "100%|██████████| 243/243 [00:29<00:00,  8.30it/s]\n",
            "100%|██████████| 20/20 [00:00<00:00, 21.30it/s]\n",
            "  0%|          | 1/243 [00:00<00:29,  8.22it/s]"
          ],
          "name": "stderr"
        },
        {
          "output_type": "stream",
          "text": [
            "T Loss: 0.1523 V Loss: 0.1639 V MCRMSE: 0.1679\n",
            "Best valid MCRMSE updated to 0.1679026335477829\n",
            "Epoch 75\n"
          ],
          "name": "stdout"
        },
        {
          "output_type": "stream",
          "text": [
            "100%|██████████| 243/243 [00:29<00:00,  8.29it/s]\n",
            "100%|██████████| 20/20 [00:00<00:00, 21.31it/s]\n",
            "  0%|          | 1/243 [00:00<00:28,  8.39it/s]"
          ],
          "name": "stderr"
        },
        {
          "output_type": "stream",
          "text": [
            "T Loss: 0.1521 V Loss: 0.1650 V MCRMSE: 0.1691\n",
            "Epoch 76\n"
          ],
          "name": "stdout"
        },
        {
          "output_type": "stream",
          "text": [
            "100%|██████████| 243/243 [00:29<00:00,  8.29it/s]\n",
            "100%|██████████| 20/20 [00:00<00:00, 21.02it/s]\n",
            "  0%|          | 1/243 [00:00<00:30,  8.03it/s]"
          ],
          "name": "stderr"
        },
        {
          "output_type": "stream",
          "text": [
            "T Loss: 0.1517 V Loss: 0.1642 V MCRMSE: 0.1685\n",
            "Epoch 77\n"
          ],
          "name": "stdout"
        },
        {
          "output_type": "stream",
          "text": [
            "100%|██████████| 243/243 [00:29<00:00,  8.24it/s]\n",
            "100%|██████████| 20/20 [00:00<00:00, 20.99it/s]\n",
            "  0%|          | 1/243 [00:00<00:29,  8.18it/s]"
          ],
          "name": "stderr"
        },
        {
          "output_type": "stream",
          "text": [
            "T Loss: 0.1513 V Loss: 0.1664 V MCRMSE: 0.1703\n",
            "Epoch 78\n"
          ],
          "name": "stdout"
        },
        {
          "output_type": "stream",
          "text": [
            "100%|██████████| 243/243 [00:29<00:00,  8.25it/s]\n",
            "100%|██████████| 20/20 [00:00<00:00, 21.26it/s]\n",
            "  0%|          | 1/243 [00:00<00:29,  8.34it/s]"
          ],
          "name": "stderr"
        },
        {
          "output_type": "stream",
          "text": [
            "T Loss: 0.1514 V Loss: 0.1621 V MCRMSE: 0.1664\n",
            "Best valid MCRMSE updated to 0.16637590527534485\n",
            "Epoch 79\n"
          ],
          "name": "stdout"
        },
        {
          "output_type": "stream",
          "text": [
            "100%|██████████| 243/243 [00:29<00:00,  8.28it/s]\n",
            "100%|██████████| 20/20 [00:00<00:00, 21.22it/s]\n",
            "  0%|          | 1/243 [00:00<00:29,  8.32it/s]"
          ],
          "name": "stderr"
        },
        {
          "output_type": "stream",
          "text": [
            "T Loss: 0.1510 V Loss: 0.1631 V MCRMSE: 0.1675\n",
            "Epoch 80\n"
          ],
          "name": "stdout"
        },
        {
          "output_type": "stream",
          "text": [
            "100%|██████████| 243/243 [00:29<00:00,  8.29it/s]\n",
            "100%|██████████| 20/20 [00:00<00:00, 21.19it/s]\n",
            "  0%|          | 1/243 [00:00<00:29,  8.23it/s]"
          ],
          "name": "stderr"
        },
        {
          "output_type": "stream",
          "text": [
            "T Loss: 0.1502 V Loss: 0.1640 V MCRMSE: 0.1684\n",
            "Epoch 81\n"
          ],
          "name": "stdout"
        },
        {
          "output_type": "stream",
          "text": [
            "100%|██████████| 243/243 [00:29<00:00,  8.29it/s]\n",
            "100%|██████████| 20/20 [00:00<00:00, 21.10it/s]\n",
            "  0%|          | 1/243 [00:00<00:29,  8.21it/s]"
          ],
          "name": "stderr"
        },
        {
          "output_type": "stream",
          "text": [
            "T Loss: 0.1505 V Loss: 0.1626 V MCRMSE: 0.1670\n",
            "Epoch 82\n"
          ],
          "name": "stdout"
        },
        {
          "output_type": "stream",
          "text": [
            "100%|██████████| 243/243 [00:29<00:00,  8.24it/s]\n",
            "100%|██████████| 20/20 [00:00<00:00, 20.85it/s]\n",
            "  0%|          | 1/243 [00:00<00:29,  8.25it/s]"
          ],
          "name": "stderr"
        },
        {
          "output_type": "stream",
          "text": [
            "T Loss: 0.1496 V Loss: 0.1638 V MCRMSE: 0.1683\n",
            "Epoch 83\n"
          ],
          "name": "stdout"
        },
        {
          "output_type": "stream",
          "text": [
            "100%|██████████| 243/243 [00:29<00:00,  8.23it/s]\n",
            "100%|██████████| 20/20 [00:00<00:00, 21.06it/s]\n",
            "  0%|          | 1/243 [00:00<00:28,  8.39it/s]"
          ],
          "name": "stderr"
        },
        {
          "output_type": "stream",
          "text": [
            "T Loss: 0.1499 V Loss: 0.1642 V MCRMSE: 0.1690\n",
            "Epoch 84\n"
          ],
          "name": "stdout"
        },
        {
          "output_type": "stream",
          "text": [
            "100%|██████████| 243/243 [00:29<00:00,  8.23it/s]\n",
            "100%|██████████| 20/20 [00:00<00:00, 21.20it/s]\n",
            "  0%|          | 1/243 [00:00<00:29,  8.18it/s]"
          ],
          "name": "stderr"
        },
        {
          "output_type": "stream",
          "text": [
            "T Loss: 0.1497 V Loss: 0.1626 V MCRMSE: 0.1668\n",
            "Epoch 85\n"
          ],
          "name": "stdout"
        },
        {
          "output_type": "stream",
          "text": [
            "100%|██████████| 243/243 [00:29<00:00,  8.27it/s]\n",
            "100%|██████████| 20/20 [00:00<00:00, 21.23it/s]\n",
            "  0%|          | 1/243 [00:00<00:29,  8.25it/s]"
          ],
          "name": "stderr"
        },
        {
          "output_type": "stream",
          "text": [
            "T Loss: 0.1487 V Loss: 0.1622 V MCRMSE: 0.1665\n",
            "Epoch 86\n"
          ],
          "name": "stdout"
        },
        {
          "output_type": "stream",
          "text": [
            "100%|██████████| 243/243 [00:29<00:00,  8.29it/s]\n",
            "100%|██████████| 20/20 [00:00<00:00, 21.24it/s]\n",
            "  0%|          | 1/243 [00:00<00:28,  8.37it/s]"
          ],
          "name": "stderr"
        },
        {
          "output_type": "stream",
          "text": [
            "T Loss: 0.1490 V Loss: 0.1615 V MCRMSE: 0.1660\n",
            "Best valid MCRMSE updated to 0.1660481095314026\n",
            "Epoch 87\n"
          ],
          "name": "stdout"
        },
        {
          "output_type": "stream",
          "text": [
            "100%|██████████| 243/243 [00:29<00:00,  8.28it/s]\n",
            "100%|██████████| 20/20 [00:00<00:00, 21.04it/s]\n",
            "  0%|          | 1/243 [00:00<00:29,  8.25it/s]"
          ],
          "name": "stderr"
        },
        {
          "output_type": "stream",
          "text": [
            "T Loss: 0.1482 V Loss: 0.1612 V MCRMSE: 0.1659\n",
            "Best valid MCRMSE updated to 0.16594776511192322\n",
            "Epoch 88\n"
          ],
          "name": "stdout"
        },
        {
          "output_type": "stream",
          "text": [
            "100%|██████████| 243/243 [00:29<00:00,  8.27it/s]\n",
            "100%|██████████| 20/20 [00:00<00:00, 21.24it/s]\n",
            "  0%|          | 1/243 [00:00<00:28,  8.35it/s]"
          ],
          "name": "stderr"
        },
        {
          "output_type": "stream",
          "text": [
            "T Loss: 0.1473 V Loss: 0.1610 V MCRMSE: 0.1655\n",
            "Best valid MCRMSE updated to 0.16545169055461884\n",
            "Epoch 89\n"
          ],
          "name": "stdout"
        },
        {
          "output_type": "stream",
          "text": [
            "100%|██████████| 243/243 [00:29<00:00,  8.27it/s]\n",
            "100%|██████████| 20/20 [00:00<00:00, 21.13it/s]\n",
            "  0%|          | 1/243 [00:00<00:29,  8.25it/s]"
          ],
          "name": "stderr"
        },
        {
          "output_type": "stream",
          "text": [
            "T Loss: 0.1474 V Loss: 0.1610 V MCRMSE: 0.1655\n",
            "Epoch 90\n"
          ],
          "name": "stdout"
        },
        {
          "output_type": "stream",
          "text": [
            "100%|██████████| 243/243 [00:29<00:00,  8.28it/s]\n",
            "100%|██████████| 20/20 [00:00<00:00, 21.20it/s]\n",
            "  0%|          | 1/243 [00:00<00:29,  8.25it/s]"
          ],
          "name": "stderr"
        },
        {
          "output_type": "stream",
          "text": [
            "T Loss: 0.1480 V Loss: 0.1601 V MCRMSE: 0.1646\n",
            "Best valid MCRMSE updated to 0.1646462380886078\n",
            "Epoch 91\n"
          ],
          "name": "stdout"
        },
        {
          "output_type": "stream",
          "text": [
            "100%|██████████| 243/243 [00:29<00:00,  8.28it/s]\n",
            "100%|██████████| 20/20 [00:00<00:00, 21.18it/s]\n",
            "  0%|          | 1/243 [00:00<00:28,  8.35it/s]"
          ],
          "name": "stderr"
        },
        {
          "output_type": "stream",
          "text": [
            "T Loss: 0.1473 V Loss: 0.1601 V MCRMSE: 0.1647\n",
            "Epoch 92\n"
          ],
          "name": "stdout"
        },
        {
          "output_type": "stream",
          "text": [
            "100%|██████████| 243/243 [00:29<00:00,  8.28it/s]\n",
            "100%|██████████| 20/20 [00:00<00:00, 21.19it/s]\n",
            "  0%|          | 1/243 [00:00<00:29,  8.28it/s]"
          ],
          "name": "stderr"
        },
        {
          "output_type": "stream",
          "text": [
            "T Loss: 0.1470 V Loss: 0.1602 V MCRMSE: 0.1648\n",
            "Epoch 93\n"
          ],
          "name": "stdout"
        },
        {
          "output_type": "stream",
          "text": [
            "100%|██████████| 243/243 [00:29<00:00,  8.27it/s]\n",
            "100%|██████████| 20/20 [00:00<00:00, 21.19it/s]\n",
            "  0%|          | 1/243 [00:00<00:28,  8.44it/s]"
          ],
          "name": "stderr"
        },
        {
          "output_type": "stream",
          "text": [
            "T Loss: 0.1466 V Loss: 0.1613 V MCRMSE: 0.1664\n",
            "Epoch 94\n"
          ],
          "name": "stdout"
        },
        {
          "output_type": "stream",
          "text": [
            "100%|██████████| 243/243 [00:29<00:00,  8.28it/s]\n",
            "100%|██████████| 20/20 [00:00<00:00, 21.20it/s]\n",
            "  0%|          | 1/243 [00:00<00:29,  8.25it/s]"
          ],
          "name": "stderr"
        },
        {
          "output_type": "stream",
          "text": [
            "T Loss: 0.1462 V Loss: 0.1588 V MCRMSE: 0.1633\n",
            "Best valid MCRMSE updated to 0.16334281861782074\n",
            "Epoch 95\n"
          ],
          "name": "stdout"
        },
        {
          "output_type": "stream",
          "text": [
            "100%|██████████| 243/243 [00:29<00:00,  8.27it/s]\n",
            "100%|██████████| 20/20 [00:00<00:00, 21.22it/s]\n",
            "  0%|          | 1/243 [00:00<00:29,  8.28it/s]"
          ],
          "name": "stderr"
        },
        {
          "output_type": "stream",
          "text": [
            "T Loss: 0.1458 V Loss: 0.1592 V MCRMSE: 0.1639\n",
            "Epoch 96\n"
          ],
          "name": "stdout"
        },
        {
          "output_type": "stream",
          "text": [
            "100%|██████████| 243/243 [00:29<00:00,  8.28it/s]\n",
            "100%|██████████| 20/20 [00:00<00:00, 21.15it/s]\n",
            "  0%|          | 1/243 [00:00<00:28,  8.36it/s]"
          ],
          "name": "stderr"
        },
        {
          "output_type": "stream",
          "text": [
            "T Loss: 0.1459 V Loss: 0.1599 V MCRMSE: 0.1647\n",
            "Epoch 97\n"
          ],
          "name": "stdout"
        },
        {
          "output_type": "stream",
          "text": [
            "100%|██████████| 243/243 [00:29<00:00,  8.27it/s]\n",
            "100%|██████████| 20/20 [00:00<00:00, 21.25it/s]\n",
            "  0%|          | 1/243 [00:00<00:29,  8.20it/s]"
          ],
          "name": "stderr"
        },
        {
          "output_type": "stream",
          "text": [
            "T Loss: 0.1454 V Loss: 0.1596 V MCRMSE: 0.1645\n",
            "Epoch 98\n"
          ],
          "name": "stdout"
        },
        {
          "output_type": "stream",
          "text": [
            "100%|██████████| 243/243 [00:29<00:00,  8.27it/s]\n",
            "100%|██████████| 20/20 [00:00<00:00, 21.24it/s]\n",
            "  0%|          | 1/243 [00:00<00:29,  8.16it/s]"
          ],
          "name": "stderr"
        },
        {
          "output_type": "stream",
          "text": [
            "T Loss: 0.1456 V Loss: 0.1606 V MCRMSE: 0.1653\n",
            "Epoch 99\n"
          ],
          "name": "stdout"
        },
        {
          "output_type": "stream",
          "text": [
            "100%|██████████| 243/243 [00:29<00:00,  8.27it/s]\n",
            "100%|██████████| 20/20 [00:00<00:00, 21.19it/s]\n",
            " 15%|█▌        | 3/20 [00:00<00:00, 21.47it/s]"
          ],
          "name": "stderr"
        },
        {
          "output_type": "stream",
          "text": [
            "T Loss: 0.1448 V Loss: 0.1614 V MCRMSE: 0.1661\n"
          ],
          "name": "stdout"
        },
        {
          "output_type": "stream",
          "text": [
            "100%|██████████| 20/20 [00:00<00:00, 21.44it/s]\n"
          ],
          "name": "stderr"
        },
        {
          "output_type": "stream",
          "text": [
            "CV MCRMSE  0.15893882513046265\n",
            "Predicting test data\n",
            "Reading test.json\n"
          ],
          "name": "stdout"
        },
        {
          "output_type": "stream",
          "text": [
            "100%|██████████| 228/228 [00:12<00:00, 18.28it/s]\n",
            "100%|██████████| 228/228 [00:12<00:00, 18.27it/s]\n",
            "100%|██████████| 228/228 [00:12<00:00, 18.22it/s]\n",
            "100%|██████████| 228/228 [00:12<00:00, 18.25it/s]\n",
            "100%|██████████| 228/228 [00:12<00:00, 18.25it/s]\n",
            "100%|██████████| 228/228 [00:12<00:00, 18.27it/s]\n",
            "100%|██████████| 228/228 [00:12<00:00, 18.27it/s]\n",
            "100%|██████████| 228/228 [00:12<00:00, 18.23it/s]\n",
            "100%|██████████| 228/228 [00:12<00:00, 18.32it/s]\n",
            "100%|██████████| 228/228 [00:12<00:00, 18.29it/s]\n"
          ],
          "name": "stderr"
        },
        {
          "output_type": "stream",
          "text": [
            "Writing submission.csv\n"
          ],
          "name": "stdout"
        }
      ]
    }
  ]
}
