{
  "nbformat": 4,
  "nbformat_minor": 0,
  "metadata": {
    "colab": {
      "name": "ASHRAE - Great Energy Predictor III.ipynb",
      "provenance": [],
      "collapsed_sections": [],
      "machine_shape": "hm",
      "include_colab_link": true
    },
    "kernelspec": {
      "name": "python3",
      "display_name": "Python 3"
    }
  },
  "cells": [
    {
      "cell_type": "markdown",
      "metadata": {
        "id": "view-in-github",
        "colab_type": "text"
      },
      "source": [
        "<a href=\"https://colab.research.google.com/github/pea-sys/Kaggle_Public/blob/master/ASHRAE_Great_Energy_Predictor_III.ipynb\" target=\"_parent\"><img src=\"https://colab.research.google.com/assets/colab-badge.svg\" alt=\"Open In Colab\"/></a>"
      ]
    },
    {
      "cell_type": "markdown",
      "metadata": {
        "id": "I98UzJLzJcJ7",
        "colab_type": "text"
      },
      "source": [
        "# ***ASHRAE - Great Energy Predictor III Competition NoteBook***\n",
        "\n",
        "## 【概要】(※Official和訳)\n",
        "建物の効率を改善してコストと排出量を削減するために、多大な投資が行われています。では、改善は機能していますか？それがあなたの出番です。  \n",
        "現在の推定方法は断片化されており、うまくスケールしません。特定のメータータイプを想定している場合や、異なる建物タイプでは機能しない場合もあります。  \n",
        "\n",
        "省エネの開発には2つの重要な要素があります：改善なしで将来のエネルギー使用量を予測することと、特定の改善セットが実装された後のエネルギー使用量を予測します。  \n",
        "エネルギー市場のより積極的な成長を妨げる1つの問題は、エネルギー使用量を予測するための費用効果が高く、正確で、スケーラブルな手順がないことです。   \n",
        "\n",
        "このコンペティションでは、冷水、電気、天然ガス、温水、蒸気メーターなどの分野で、建物のエネルギー使用量を正確に予測します。データは、3年間で1,000を超える建物から取得されます。 これらの省エネ投資のより良い推定により、大規模な投資家や金融機関は、効率性の構築の進展を可能にするために、この分野に投資する傾向が強くなります。  \n",
        "\n",
        "主催：ASHRAE社\n",
        "\n",
        "## 【評価指標】\n",
        "二乗平均平方根誤差(RMSLE)です\n",
        "目的変数が裾の重い分布を持ち、変換しないままだと大きな値の影響が強い場合や、真の値と予測値の比率に着目したい場合に用いられる。  \n",
        "対数をとるにあたっては、真の値が0のときに値が負に発散するのを避けるため、通常は1を加えてから対数をとる。numpyのlog1p関数が使用できる。\n",
        "\n",
        "\n",
        "\n",
        "---\n",
        "\n",
        "\n",
        "### 〇データセット\n",
        "■train.csv -- shape(20125605, 16)\n",
        "* building_id - 建物のメタデータの外部キー\n",
        "* meter - メーターIDコード。 {0：電気、1：冷水、2：蒸気、3：温水}と読みます。 すべての建物にすべてのメータータイプがあるわけではありません。\n",
        "* timestamp - 測定が行われたとき\n",
        "* meter_reading - ターゲット変数。 kWh（または同等の）単位のエネルギー消費。これは、測定誤差のある実際のデータであり、モデリング誤差のベースラインレベルを課すと予想されることに注意してください。\n",
        "\n",
        "■test.csv --- shape(41697600, 16)\n",
        "\n",
        "■building_meta.csv\n",
        "* site_id - wether.csvの外部キー。場所を表している。\n",
        "* building_id - training.csvの外部キー。\n",
        "* primary_use - [EnergyStarプロパティタイプの定義に基づいた、建物の主要な活動カテゴリのインジケータ](https://www.energystar.gov/buildings/facility-owners-and-managers/existing-buildings/use-portfolio-manager/identify-your-property-type)\n",
        "* square_feet - 建物の総床面積\n",
        "* year_built - 建物がオープンした年\n",
        "* floor_count - 建物の階数  \n",
        "\n",
        "■weather_[train/test].csv\n",
        "* site_id - wether.csvの外部キー。場所を表している。\n",
        "* air_temperature - 大気温　摂氏\n",
        "* cloud_coverage -オクタの雲に覆われた空の部分。気象学では、オクタは、気象観測所などの特定の場所での雲量を表すために使用される測定単位です。\n",
        "* dew_temperature - 露温度　摂氏\n",
        "* precip_depth_1_hr - 降水量(ミリ)\n",
        "* sea_level_pressure - 海水圧\n",
        "* wind_direction - 風向き\n",
        "* wind_speed - 風速(メートル毎秒)\n",
        "\n",
        "\n",
        "---\n",
        "\n",
        "\n",
        "###〇スケジュール\n",
        "* 2019年12月12日-チーム合併の締め切り。 これは、参加者がチームに参加またはマージできる最後の日です。\n",
        "* 2019年12月12日-応募締切。 競争するには、この日付の前に競争規則に同意する必要があります。\n",
        "* 2019年12月19日-最終提出期限\n",
        "\n",
        "\n",
        "---\n",
        "## ★活動記録\n",
        "- 10/16 コンペティション参加\n",
        "- 10/17 実験を回すためにデータのpickle化\n",
        "- 10/19～10/24 LGBMベースラインサブミット(Score 1.28)  。特徴生成するも効かず。たいして特徴追加していないが、早い段階でメモリ不足に悩まされる(Google Colab使用)。\n",
        "- 10/25 メモリ不足に対応するため、訓練データと評価データをsite_id毎に分割し、site_id毎に予測モデルを作った。ディスカッションにsite_id毎に時刻がずれているという書き込みあり。\n",
        "- 10/28 site_id=0の初月2か月分のメーター値が0だったので、ノイズデータとしてドロップ\n",
        "- 10/29～11/2 特徴量を色々こねくり回したがスコア上がらず\n",
        "- 11/3  [公開カーネル](https://www.kaggle.com/corochann/ashrae-training-lgbm-by-meter-type)を参考にメーターの種別毎にモデルを用意するように方針変更  \n",
        " 　　 前処理し銀メダル圏に入る(Score 1.1)  \n",
        " 　　ドロップ対象はイレギュラー的にメーター読み取り値が0になっていそうな箇所。これらのデータが含まれるビルの予測値がかなり低く見えたため削除した。\n",
        "- 11/5 サブミッションファイルの0.1以下クリッピング\n",
        "- 11/6～11/8 サブミッションファイルと訓練データの目視比較。特徴量設計しても相変わらず効かない。  \n",
        "- 11/10 メーター読み取り値0のデータを更に削除(Score 1.08)  \n",
        "- 11/13 訓練データの外れ値をクリッピング(Score1.07)  \n",
        "- 11/15一部のビルの予測値がリークしていることが発覚  \n",
        "こちらの[カーネル](https://www.kaggle.com/yamsam/ashrae-leak-data-station)が公平性を期するために逐次リークデータを提供してくれていた。リークデータは他にもあるとのことだったが、そこに力を入れるのはコンペの本筋ではないので定期的に上記カーネルの監視する程度で自分から探すことはしなかった。公開してくれる人には感謝。\n",
        "- 11/16 各ビル毎に時刻別にメーター値平均を算出。ビルでの活動が非アクティブな場合は、メーター値が分散していないはずと考え、そこだけ切り出して線形回帰で予測。(Score 1.04)\n",
        "- 11/17-11/19 ノートブック整理。最高スコアの再現性確認。\n",
        "- 11/20 評価関数のカスタム。rmsleの+1を0.01とかに変えてみたら精度上がるかと思ったけど、そんなことはなかった。  \n",
        "- 11/21 11/3にベースとして採用したカーネルはハイパーパラメータを1つのメーター種別で最適化していたので、各メーター毎に最適化するように修正。スコア変化なし。\n",
        "- 11/22 更新されていた公開リークデータ使用(Score 0.99)\n",
        "- 11/24 Score1.0の[公開カーネル](https://www.kaggle.com/huanglinyan/ashrae-may-make-it-up-to-1-0)とアンサンブル（Manual Weight)(Score 0.97)  \n",
        "- 11/25 Score0.99の[公開カーネル](https://www.kaggle.com/yamsam/ashrae-leak-validation-and-more)とアンサンブル（Manual Weight)(Score 0.96)\n",
        "- 11/26 最新リークデータ適用(Score 0.96) ※多分プライベートセット部分が更新\n",
        "- 11/27-11/30 11/16の延長で低分散区間を週毎、月毎、曜日毎に線形回帰して、ベースモデルの予測値に上書き。初の金メダル圏6位に到達(Score 0.95) \n",
        "- 12/1-12/13 停滞期。スコアは全く伸びず。ランクはみるみる低下。測定データが部分的に欠損しているデータに対して線形補完後に、年間でメーター値推移を見た時に7月～8月を境にほとんど左右対称になっているビルのメーターに関しては、ピークを境に日付を畳み込みするとバリデーションスコアは劇的に伸びたが、提出スコアは凄い下がった。例えば、8月1日にピークがあるメーターに関しては、8月2日のデータを7月31日に置き換える。このようにすることで、過学習できないデータセットに対して、問題を簡単化できるのでは？と考えた。対応する月との相関が高い月のみ畳み込みした。スコアがあがるものと思い込んでいたががっかり。\n",
        "- 12/16 しばらく予測値と訓練データをプロットして比較していた。線形回帰で変な値になってる箇所があったので、そこだけアンサンブルで上書きした。リーダーボードのスコアが小数点第3位まで表示されるようになっていた（Score 0.955)\n",
        "- 12/17-12/18 怪しげなアカウントが大量にジャンプアップし始めて、みるみる順位が下がる。訓練データと予測データのアンサンブル。2016年と2017年の予測値で差異が見られる箇所を2016年のデータで上書き。スコア変動はなし。\n",
        "- 12/19 コンペ最終日。一部の異常なメーター値を持つビルに関して、メーターの変化量を観察するとメーター値の変化量がある時を境に正常値に戻っていることに気付いたため、正常値とみられる訓練データのみ使用するように修正(Score 0.954)  \n",
        "Public LeaderBoardは最終的に164位前後/3700チーム前後  \n",
        "Private Scoreは457位と大幅にシェイクダウン。  \n",
        "\n",
        "---\n",
        "## ★反省点\n",
        "今回はフルで参加した2回目のコンペティションということで、1回目より大分色々な手段が思いつくようになった。公開カーネルやディスカッションも前回ほどは使っていないので、自分で考えてアプローチできるようになってきたと思う。そのアプローチ方法が良いか悪いかは置いておくとして。\n",
        "今回はメモリの問題で特徴量はせいぜい10個程度しか試しておらず、前処理に注力した。前処理はモデルに学習しやすいように問題を整形する過程であることがコンペの経験を通して実感できた。  \n",
        "仕事でデータ分析をやる機会はほとんどないが、良い経験になった。\n",
        "- 予測値検証を効率的にやる仕組みを用意するべきだった\n",
        "- ノートブックをもっと細分化するべきだった。後半めちゃくちゃ重くてスクロールも一苦労していた。\n",
        "- 前処理をほとんど人間系でやっていて、ほとんど泥臭い作業になっていたので便利なツールを探すのも一考  \n",
        "- 一回のサブミッションに複数の試みを入れることがあったので、何が効いて何が効いていないか分かっていない箇所がある\n",
        "- 色々試したけど、その過程でバグがいっぱい入っていると思う。やりたいことを優先して検証にはあまり時間をさけなかった。\n",
        "\n",
        "今回のコンペティションは正直なところ運営のお粗末さにガッカリした。  \n",
        "リークデータが2割程発見されたものの、そのリークデータの取り扱いがあいまいだったこと。最終順位の結果発表が2週間以上延期されたこと。不正者を駆逐すると公言したが実施しなかったこと。  などが挙げられる。\n",
        "\n",
        "\n",
        "PublicBoard1位の人は,privateBoardで500位以上シェイクダウン、金メダル圏の人は全員金メダル圏から落ちて波乱のコンペであった。  \n",
        "\n",
        "機械学習を学び始めてから丁度1年がたった。　\n",
        "これに懲りずにKaggleに取り組んでいきたい。\n",
        "\n",
        "\n",
        "---\n",
        "\n",
        "\n",
        "※尚、今回は7個程度ノートブックを作成して、それぞれを組み合わせてサブミットファイルを作成しています。Githubにあげるにあたり、１つのノートブックに要点だけ集約しています。このノートブック単体では再現性もないし実行エラーが出ると思います。\n",
        "\n"
      ]
    },
    {
      "cell_type": "code",
      "metadata": {
        "id": "xXWCPjhZM4IX",
        "colab_type": "code",
        "colab": {}
      },
      "source": [
        "import google.colab\n",
        "import googleapiclient.discovery\n",
        "import googleapiclient.http\n",
        "google.colab.auth.authenticate_user()\n",
        "drive_service = googleapiclient.discovery.build('drive', 'v3')\n",
        "\n",
        "def gdrive_dl(filename):\n",
        "  upload_filename = filename\n",
        "\n",
        "  file_list = drive_service.files().list(q=\"name='\" + upload_filename + \"'\").execute().get('files')\n",
        "\n",
        "  # ファイル ID を取得します。\n",
        "  file_id = None\n",
        "  for file in file_list:\n",
        "    if file.get('name') == upload_filename:\n",
        "      file_id = file.get('id')\n",
        "      break\n",
        "\n",
        "  if file_id is None:\n",
        "    # ファイル ID を取得できなかった場合はエラーメッセージを出力します。\n",
        "    print(upload_filename + ' が見つかりません.')\n",
        "  else:\n",
        "    # colab 環境へファイルをアップロードします。\n",
        "    with open(upload_filename, 'wb') as f:\n",
        "      request = drive_service.files().get_media(fileId=file_id)\n",
        "      media = googleapiclient.http.MediaIoBaseDownload(f, request)\n",
        "\n",
        "      done = False\n",
        "      while not done:\n",
        "        progress_status, done = media.next_chunk()\n",
        "        #print(100*progress_status.progress(), end=\"\")\n",
        "        #print(\"%完了\")\n",
        "\n",
        "    print('GoogleドライブからColab環境への[' + filename +']ファイル取り込みが完了しました.')\n",
        "\n",
        "def gdrive_up(filename):\n",
        "\n",
        "  file_metadata = {'name': filename,'mimeType': 'application/octet-stream'}\n",
        "  media = googleapiclient.http.MediaFileUpload(filename,mimetype='application/octet-stream',resumable=True)\n",
        "  created = drive_service.files().create(body=file_metadata,media_body=media, fields='id').execute()"
      ],
      "execution_count": 0,
      "outputs": []
    },
    {
      "cell_type": "code",
      "metadata": {
        "id": "hDoUlAc1PJoJ",
        "colab_type": "code",
        "outputId": "5977e15b-0367-4c2f-8729-52d30fb68cd2",
        "colab": {
          "base_uri": "https://localhost:8080/",
          "height": 35
        }
      },
      "source": [
        "gdrive_dl(\"kaggle.json\")\n",
        "!mkdir -p ~/.kaggle\n",
        "!cp kaggle.json ~/.kaggle/\n",
        "!chmod 600 /root/.kaggle/kaggle.json"
      ],
      "execution_count": 0,
      "outputs": [
        {
          "output_type": "stream",
          "text": [
            "GoogleドライブからColab環境への[kaggle.json]ファイル取り込みが完了しました.\n"
          ],
          "name": "stdout"
        }
      ]
    },
    {
      "cell_type": "code",
      "metadata": {
        "id": "QL0mKDtJPR7J",
        "colab_type": "code",
        "colab": {}
      },
      "source": [
        "!pip install git+git://github.com/pfnet/optuna.git@50759344231194046fc8f7968ce906428f36bee1"
      ],
      "execution_count": 0,
      "outputs": []
    },
    {
      "cell_type": "code",
      "metadata": {
        "id": "9mgu7aZ2PXwe",
        "colab_type": "code",
        "outputId": "78590bcb-2ce5-4d23-e733-4b7e510f5149",
        "colab": {
          "base_uri": "https://localhost:8080/",
          "height": 17
        }
      },
      "source": [
        "import gc\n",
        "import os\n",
        "from pathlib import Path\n",
        "import sys\n",
        "\n",
        "from tqdm import tqdm_notebook as tqdm\n",
        "import numpy as np # linear algebra\n",
        "import pandas as pd # data processing, CSV file I/O (e.g. pd.read_csv)\n",
        "import datetime\n",
        "import matplotlib.pyplot as plt\n",
        "import seaborn as sns\n",
        "\n",
        "from IPython.core.display import display, HTML\n",
        "\n",
        "# --- plotly ---\n",
        "from plotly import tools, subplots\n",
        "import plotly.offline as py\n",
        "py.init_notebook_mode(connected=True)\n",
        "import plotly.graph_objs as go\n",
        "import plotly.express as px\n",
        "import plotly.figure_factory as ff\n",
        "\n",
        "# --- models ---\n",
        "from sklearn import preprocessing\n",
        "from sklearn.model_selection import KFold\n",
        "import lightgbm as lgb\n"
      ],
      "execution_count": 0,
      "outputs": [
        {
          "output_type": "display_data",
          "data": {
            "text/html": [
              "        <script type=\"text/javascript\">\n",
              "        window.PlotlyConfig = {MathJaxConfig: 'local'};\n",
              "        if (window.MathJax) {MathJax.Hub.Config({SVG: {font: \"STIX-Web\"}});}\n",
              "        if (typeof require !== 'undefined') {\n",
              "        require.undef(\"plotly\");\n",
              "        requirejs.config({\n",
              "            paths: {\n",
              "                'plotly': ['https://cdn.plot.ly/plotly-latest.min']\n",
              "            }\n",
              "        });\n",
              "        require(['plotly'], function(Plotly) {\n",
              "            window._Plotly = Plotly;\n",
              "        });\n",
              "        }\n",
              "        </script>\n",
              "        "
            ]
          },
          "metadata": {
            "tags": []
          }
        }
      ]
    },
    {
      "cell_type": "code",
      "metadata": {
        "id": "sH5VPiVxPbrR",
        "colab_type": "code",
        "colab": {}
      },
      "source": [
        "# Original code from https://www.kaggle.com/gemartin/load-data-reduce-memory-usage by @gemartin\n",
        "# Modified to support timestamp type, categorical type\n",
        "# Modified to add option to use float16 or not. feather format does not support float16.\n",
        "from pandas.api.types import is_datetime64_any_dtype as is_datetime\n",
        "from pandas.api.types import is_categorical_dtype\n",
        "\n",
        "def reduce_mem_usage(df, use_float16=False):\n",
        "    \"\"\" iterate through all the columns of a dataframe and modify the data type\n",
        "        to reduce memory usage.        \n",
        "    \"\"\"\n",
        "    start_mem = df.memory_usage().sum() / 1024**2\n",
        "    print('Memory usage of dataframe is {:.2f} MB'.format(start_mem))\n",
        "    \n",
        "    for col in df.columns:\n",
        "        if is_datetime(df[col]) or is_categorical_dtype(df[col]):\n",
        "            # skip datetime type or categorical type\n",
        "            continue\n",
        "        col_type = df[col].dtype\n",
        "        \n",
        "        if col_type != object:\n",
        "            c_min = df[col].min()\n",
        "            c_max = df[col].max()\n",
        "            if str(col_type)[:3] == 'int':\n",
        "                if c_min > np.iinfo(np.int8).min and c_max < np.iinfo(np.int8).max:\n",
        "                    df[col] = df[col].astype(np.int8)\n",
        "                elif c_min > np.iinfo(np.int16).min and c_max < np.iinfo(np.int16).max:\n",
        "                    df[col] = df[col].astype(np.int16)\n",
        "                elif c_min > np.iinfo(np.int32).min and c_max < np.iinfo(np.int32).max:\n",
        "                    df[col] = df[col].astype(np.int32)\n",
        "                elif c_min > np.iinfo(np.int64).min and c_max < np.iinfo(np.int64).max:\n",
        "                    df[col] = df[col].astype(np.int64)  \n",
        "            else:\n",
        "                if use_float16 and c_min > np.finfo(np.float16).min and c_max < np.finfo(np.float16).max:\n",
        "                    df[col] = df[col].astype(np.float16)\n",
        "                elif c_min > np.finfo(np.float32).min and c_max < np.finfo(np.float32).max:\n",
        "                    df[col] = df[col].astype(np.float32)\n",
        "                else:\n",
        "                    df[col] = df[col].astype(np.float64)\n",
        "        else:\n",
        "            df[col] = df[col].astype('category')\n",
        "\n",
        "    end_mem = df.memory_usage().sum() / 1024**2\n",
        "    print('Memory usage after optimization is: {:.2f} MB'.format(end_mem))\n",
        "    print('Decreased by {:.1f}%'.format(100 * (start_mem - end_mem) / start_mem))\n",
        "    \n",
        "    return df\n",
        "\n",
        "def preprocess(df):\n",
        "    df[\"hour\"] = df[\"timestamp\"].dt.hour\n",
        "    df[\"month\"] = df[\"timestamp\"].dt.month\n",
        "    df[\"dayofweek\"] = df[\"timestamp\"].dt.dayofweek\n",
        "    df[\"weekend\"] = df[\"dayofweek\"] >= 5\n",
        "\n",
        "def preprocess_ex(df):\n",
        "    df[\"hour\"] = df[\"timestamp\"].dt.hour\n",
        "    df[\"day\"] = df[\"timestamp\"].dt.day\n",
        "    df[\"month\"] = df[\"timestamp\"].dt.month\n",
        "    df[\"dayofweek\"] = df[\"timestamp\"].dt.dayofweek\n",
        "    df[\"weekend\"] = df[\"dayofweek\"] >= 5\n",
        "\n",
        "def add_lag_feature(weather_df, window=3):\n",
        "    group_df = weather_df.groupby('site_id')\n",
        "    cols = ['air_temperature', 'cloud_coverage', 'dew_temperature', 'precip_depth_1_hr', 'sea_level_pressure', 'wind_direction', 'wind_speed']\n",
        "    rolled = group_df[cols].rolling(window=window, min_periods=0)\n",
        "    lag_mean = rolled.mean().reset_index().astype(np.float16)\n",
        "    lag_max = rolled.max().reset_index().astype(np.float16)\n",
        "    lag_min = rolled.min().reset_index().astype(np.float16)\n",
        "    lag_std = rolled.std().reset_index().astype(np.float16)\n",
        "    for col in cols:\n",
        "        weather_df[f'{col}_mean_lag{window}'] = lag_mean[col]\n",
        "        weather_df[f'{col}_max_lag{window}'] = lag_max[col]\n",
        "        weather_df[f'{col}_min_lag{window}'] = lag_min[col]\n",
        "        weather_df[f'{col}_std_lag{window}'] = lag_std[col]\n",
        "\n",
        "\n",
        "def timestamp_align(df):\n",
        "    df['offset'] = df.site_id.map(site_ids_offsets)\n",
        "    df['timestamp_aligned'] = (df.timestamp - pd.to_timedelta(df.offset, unit='H'))\n",
        "    df['timestamp'] = df['timestamp_aligned']\n",
        "    del df['timestamp_aligned']\n",
        "    return df"
      ],
      "execution_count": 0,
      "outputs": []
    },
    {
      "cell_type": "code",
      "metadata": {
        "id": "fDorHmmDPj-d",
        "colab_type": "code",
        "outputId": "6c671695-053b-417d-e0ea-825da99f5221",
        "colab": {
          "base_uri": "https://localhost:8080/",
          "height": 124
        }
      },
      "source": [
        "gdrive_dl(\"sample_submission.pickle\")\n",
        "gdrive_dl(\"building_metadata.csv\")\n",
        "gdrive_dl(\"train.csv\")\n",
        "gdrive_dl(\"weather_train.csv\")\n",
        "gdrive_dl(\"test.csv\")\n",
        "gdrive_dl(\"weather_test.csv\")"
      ],
      "execution_count": 0,
      "outputs": [
        {
          "output_type": "stream",
          "text": [
            "GoogleドライブからColab環境への[sample_submission.pickle]ファイル取り込みが完了しました.\n",
            "GoogleドライブからColab環境への[building_metadata.csv]ファイル取り込みが完了しました.\n",
            "GoogleドライブからColab環境への[train.csv]ファイル取り込みが完了しました.\n",
            "GoogleドライブからColab環境への[weather_train.csv]ファイル取り込みが完了しました.\n",
            "GoogleドライブからColab環境への[test.csv]ファイル取り込みが完了しました.\n",
            "GoogleドライブからColab環境への[weather_test.csv]ファイル取り込みが完了しました.\n"
          ],
          "name": "stdout"
        }
      ]
    },
    {
      "cell_type": "code",
      "metadata": {
        "id": "Xf209x5yQJMG",
        "colab_type": "code",
        "outputId": "4d27e397-7676-4e35-afcd-17cefadf743b",
        "colab": {
          "base_uri": "https://localhost:8080/",
          "height": 177
        }
      },
      "source": [
        "train_df = reduce_mem_usage(pd.read_csv('train.csv', parse_dates=['timestamp']))\n",
        "train_df['timestamp'] = pd.to_datetime(train_df['timestamp'])\n",
        "preprocess(train_df)\n",
        "weather_train_df = reduce_mem_usage(pd.read_csv('weather_train.csv', parse_dates=['timestamp']))\n",
        "building_meta_df = reduce_mem_usage(pd.read_csv('building_metadata.csv'))"
      ],
      "execution_count": 0,
      "outputs": [
        {
          "output_type": "stream",
          "text": [
            "Memory usage of dataframe is 616.95 MB\n",
            "Memory usage after optimization is: 289.19 MB\n",
            "Decreased by 53.1%\n",
            "Memory usage of dataframe is 9.60 MB\n",
            "Memory usage after optimization is: 4.93 MB\n",
            "Decreased by 48.6%\n",
            "Memory usage of dataframe is 0.07 MB\n",
            "Memory usage after optimization is: 0.02 MB\n",
            "Decreased by 65.4%\n"
          ],
          "name": "stdout"
        }
      ]
    },
    {
      "cell_type": "markdown",
      "metadata": {
        "id": "Kxl7_2qMuXtV",
        "colab_type": "text"
      },
      "source": [
        "#前処理  "
      ]
    },
    {
      "cell_type": "code",
      "metadata": {
        "id": "sQS3zUpVdSc2",
        "colab_type": "code",
        "colab": {}
      },
      "source": [
        "train_df = train_df.query('not (building_id <= 104 & meter == 0 & timestamp <= \"2016-05-21\")')\n",
        "train_df = train_df.query('not (building_id == 1099 & meter == 2)')#1106極大はずれ値\n",
        "train_df = train_df.query('not (building_id == 29 & meter == 0 & timestamp <= \"2016-08-10\")')#11/4 ADD\n",
        "train_df = train_df.query('not (building_id == 954 & month <= 9)')  #1110 ADD\n",
        "\n",
        "train_df.loc[(train_df['building_id'] == 163) & (train_df['meter'] == 3),'meter_reading'] = 0\n",
        "train_df.loc[(train_df['building_id'] == 176) & (train_df['meter'] == 3),'meter_reading'] = 0\n",
        "train_df.loc[(train_df['building_id'] == 195) & (train_df['meter'] == 3),'meter_reading'] = 0\n",
        "train_df.loc[(train_df['building_id'] == 200) & (train_df['meter'] == 3),'meter_reading'] = 0\n",
        "train_df.loc[(train_df['building_id'] == 244) & (train_df['meter'] == 3),'meter_reading'] = 0\n",
        "train_df.loc[(train_df['building_id'] == 252) & (train_df['meter'] == 1),'meter_reading'] = 0\n",
        "train_df.loc[(train_df['building_id'] == 263) & (train_df['meter'] == 3),'meter_reading'] = 0\n",
        "train_df.loc[(train_df['building_id'] == 279) & (train_df['meter'] == 3),'meter_reading'] = 0\n",
        "train_df.loc[(train_df['building_id'] == 287) & (train_df['meter'] == 3),'meter_reading'] = 0\n",
        "train_df.loc[(train_df['building_id'] == 762) & (train_df['meter'] == 2),'meter_reading'] = 0\n",
        "train_df.loc[(train_df['building_id'] == 1003) & (train_df['meter'] == 3),'meter_reading'] = 0\n",
        "train_df.loc[(train_df['building_id'] == 1013) & (train_df['meter'] == 1),'meter_reading'] = 0\n",
        "train_df.loc[(train_df['building_id'] == 1018) & (train_df['meter'] == 1),'meter_reading'] = 0\n",
        "train_df.loc[(train_df['building_id'] == 1022) & (train_df['meter'] == 1),'meter_reading'] = 0\n",
        "train_df.loc[(train_df['building_id'] == 1345) & (train_df['meter'] == 0),'meter_reading'] = 0\n",
        "\n",
        "train_df = train_df.query('not (building_id == 29 & meter == 0 & timestamp <= \"2016-08-10\")')#11/4 ADD\n",
        "train_df = train_df.query('not (building_id == 40 & meter == 0 & timestamp <= \"2016-06-04\")')#11/4 ADD\n",
        "train_df = train_df.query('not (building_id == 43 & meter == 1 & timestamp <= \"2016-06-17\")')#11/4 ADD\n",
        "train_df = train_df.query('not (building_id == 45 & meter == 0 & timestamp <= \"2016-07-01\")')#11/4 ADD\n",
        "train_df =train_df.query('not (building_id == 53 & meter == 0 & hour == 23)') #1110 ADD Office\t87742\t1971.0\t\n",
        "train_df =train_df.query('not (building_id == 53 & meter == 0 & hour <= 4)') #1110 ADD \n",
        "\n",
        "train_df = train_df.query('not (building_id == 55 & meter == 0 & meter_reading == 0 & timestamp <= \"2016-04-01\")')#11/4 ADD\n",
        "\n",
        "train_df = train_df.query('not (building_id == 60 & meter == 1 & timestamp <= \"2016-05-21\")')#11/4 ADD\n",
        "train_df = train_df.query('not (building_id == 98 & meter == 1 & timestamp <= \"2016-06-16\")')#11/4 ADD\n",
        "train_df = train_df.query('not (building_id <= 104 & meter == 0 & timestamp <= \"2016-05-21\")')\n",
        "train_df = train_df.query('not (building_id == 258 & meter == 1 & \"2016-10-01\" <= timestamp <= \"2016-12-01\")')  #1110 ADD \n",
        "train_df = train_df.query('not (building_id == 260 & meter == 1 & \"2016-06-01\" <= timestamp < \"2016-09-01\")')  #1110 ADD \n",
        "train_df = train_df.query('not (building_id == 260 & meter == 1 & \"2016-09-01\" <= timestamp < \"2016-12-01\")')  #1110 ADD \n",
        "train_df = train_df.query('not (building_id == 331 & meter == 0 & \"2016-10-01\" <= timestamp < \"2016-12-01\" & 0 <= hour <= 16)')  #1110 ADD \n",
        "train_df = train_df.query('not (building_id == 419 & meter == 0 & month == 4 & hour != 19)')  #1110 ADD \n",
        "train_df = train_df.query('not (building_id == 499 & meter == 0 & 3 <= month < 6)')  #1110 ADD \n",
        "train_df = train_df.query('not (building_id == 499 & meter == 0 & 11 <= month)')  #1110 ADD\n",
        "\n",
        "train_df = train_df.query('not (building_id == 604)')  #1110 ADD\n",
        "train_df = train_df.query('not (building_id == 681 & meter == 0 & timestamp <= \"2016-05-01\")')  #1206 ADD\n",
        "train_df = train_df.query('not (building_id == 799 & meter == 0 & month < 7)')  #1110 ADD\n",
        "train_df = train_df.query('not (building_id == 802 & meter == 0 & month <= 9)')  #1110 ADD\n",
        "train_df = train_df.query('not (building_id == 803 & meter == 0 & 10 <= month )')  #1110 ADD\n",
        "train_df = train_df.query('not (building_id == 886 & meter == 0 & 6 <= month < 10 )')  #1110 ADD\n",
        "train_df = train_df.query('not (building_id == 904 & meter == 0 & month <= 2)')  #1110 ADD\n",
        "train_df = train_df.query('not (building_id == 909 & meter == 0 & month == 1)')  #1110 ADD\n",
        "\n",
        "train_df = train_df.query('not (building_id == 986 & meter == 0 & month == 1)')  #1110 ADD\n",
        "train_df = train_df.query('not (building_id == 997 & meter == 0 & month <= 6)')  #1110 ADD\n",
        "train_df = train_df.query('not (building_id == 1094 & meter == 0 & timestamp < \"2016-09-01\")')  #1110 ADD \n",
        "train_df = train_df.query('not (building_id == 1099 & meter == 2)')#1106極大はずれ値\n",
        "train_df = train_df.query('not (building_id == 1169 & meter == 0 & month <= 7)')  #1110 ADD\n",
        "train_df = train_df.query('not (building_id == 1195 & meter == 0 & month <= 3)')  #1110 ADD\n",
        "train_df = train_df.query('not (building_id == 1195 & meter == 0 & month == 12)')  #1110 ADD\n",
        "train_df = train_df.query('not (building_id == 1221 & meter == 0 & timestamp <= \"2016-11-04\")')\n",
        "train_df = train_df.query('not (building_id == 1241 & meter == 0 & 7 < month < 11)')#1110 ADD\n",
        "train_df = train_df.query('not (building_id == 1250 & meter == 2 & timestamp <= \"2016-12-21\")')\n",
        "\n",
        "train_df = train_df.query('not (building_id == 1264 & meter == 0 & \"2016-09-01\" < timestamp )') #1111 ADD\n",
        "train_df = train_df.query('not (building_id == 1303 & meter == 0 & 2 == month )') #1111 ADD\n",
        "train_df = train_df.query('not (building_id == 1359 & meter == 0 & 5 <= month <= 6 )') #1111 ADD\n",
        "## meter1\n",
        "train_df = train_df.query('not (building_id == 207 & meter == 1 &  month == 1 )') #1111 ADD\n",
        "train_df = train_df.query('not (building_id == 207 & meter == 1 &  month == 7 )') #1111 ADD\n",
        "train_df = train_df.query('not (building_id == 257 & meter == 1 &  11 <= month  )') #1111 ADD 4,5は保留\n",
        "train_df = train_df.query('not (building_id == 258 & meter == 1 &  9 < month < 12  )') #1111 ADD\n",
        "train_df = train_df.query('not (building_id == 259 & meter == 1 &  month < 4 )') #1111 ADD\n",
        "train_df = train_df.query('not (building_id == 260 & meter == 1 &  month < 5 )') #1111 ADD\n",
        "train_df = train_df.query('not (building_id == 751 & meter == 2 &   timestamp == \"2016-06-02\" )')\n",
        "train_df = train_df.query('not (building_id == 769 & meter == 1 &  month < 4 )') #1111 ADD\n",
        "train_df = train_df.query('not (building_id == 780 & meter == 1 &  10 < month )') #1111 ADD\n",
        "train_df = train_df.query('not (building_id == 787 & meter == 1 &  month < 3)') #1111 ADD\n",
        "train_df = train_df.query('not (building_id == 793 & meter == 1 &  month < 5)') #1111 ADD\n",
        "train_df = train_df.query('not (building_id == 963 & meter == 1 &  10 < month)') #1111 ADD\n",
        "train_df = train_df.query('not (building_id == 978 & meter == 1 &  month == 8)') #1111 ADD\n",
        "train_df = train_df.query('not (building_id == 978 & meter == 1 &  month == 11)') #1111 ADD\n",
        "train_df = train_df.query('not (building_id == 998 & meter == 1 &  month <= 2)') #1111 ADD\n",
        "train_df = train_df.query('not (building_id == 1001 & meter == 1 &  month <= 3)') #1111 ADD\n",
        "train_df = train_df.query('not (building_id == 1003 & meter == 1 &  month == 1)') #1111 ADD\n",
        "train_df = train_df.query('not (building_id == 1015 & meter == 1 &  month <= 2)') #1111 ADD\n",
        "train_df = train_df.query('not (building_id == 1028 & meter == 1 &  month <= 4)') #1111 ADD\n",
        "train_df = train_df.query('not (building_id == 1028 & meter == 1 &  11 <= month)') #1111 ADD\n",
        "train_df = train_df.query('not (building_id == 1088 & meter == 1 &  month <= 3)') #1111 ADD\n",
        "train_df = train_df.query('not (building_id == 1130 & meter == 1 &  month <= 8)') #1111 ADD\n",
        "train_df = train_df.query('not (building_id == 1219 & meter == 1 &  month <= 3)') #1111 ADD\n",
        "train_df = train_df.query('not (building_id == 1290 & meter == 1 &  month == 2)') #1111 ADD\n",
        "\n",
        "#meter 2\n",
        "train_df = train_df.query('not (building_id == 751 & meter == 2 &   timestamp <\"2016-02-04\" )') #1207 ADD   3日に数時間欠損値あり。その間修理していたかも\n",
        "train_df = train_df.query('not (building_id == 766 & meter == 2 &  month == 1 )') #1112 ADD\n",
        "train_df = train_df.query('not (building_id == 774 & meter == 2 &  month == 1 )') #1112 ADD\n",
        "train_df = train_df.query('not (building_id == 783 & meter == 2 &  month <= 11 )') #1112 ADD\n",
        "train_df = train_df.query('not (building_id == 798 & meter == 2 &  6 <= month <= 9 )') #1112 ADD\n",
        "train_df = train_df.query('not (building_id == 799 & meter == 2 &  6 <= month <= 9 )') #1112 ADD\n",
        "train_df = train_df.query('not (building_id == 802 & meter == 2 &  6 <= month <= 9 )') #1112 ADD\n",
        "train_df = train_df.query('not (building_id == 1072 & meter == 2 &  month <= 6 )') #1112 ADD #1073と形が似ている。データ補完したい\n",
        "train_df = train_df.query('not (building_id == 1149 & meter == 2 &  5 <= month <= 9 )') #1112 ADD\n",
        "train_df = train_df.query('not (building_id == 1189 & meter == 2 &  month == 1 )') #1112 ADD\n",
        "train_df = train_df.query('not (building_id == 1218 & meter == 2 &  5 <= month <= 8 )') #1112 ADD\n",
        "train_df = train_df.query('not (building_id == 1303 & meter == 2 &  2 <= month <= 5 )') #1112 ADD\n",
        "train_df = train_df.query('not (building_id == 1305 & meter == 2 &  5 <= month <= 9 )') #1112 ADD\n",
        "train_df = train_df.query('not (building_id == 1307 & meter == 2 &  6 <= month <= 8 )') #1112 ADD\n",
        "\n",
        "#meter3\n",
        "train_df = train_df.query('not (building_id == 109 & meter == 3 &  7 <= month <= 9 )') #1112 ADD\n",
        "train_df = train_df.query('not (building_id == 112 & meter == 3 &  7 <= month <= 9 )') #1112 ADD\n",
        "train_df = train_df.query('not (building_id == 114 & meter == 3 &  8 <= month <= 9 )') #1112 ADD\n",
        "train_df = train_df.query('not (building_id == 163 & meter == 3 &  month == 1 )') #1112 ADD\n",
        "train_df = train_df.query('not (building_id == 1011 & meter == 3 &  month == 6 )') #1112 ADD\n",
        "train_df = train_df.query('not (building_id == 1011 & meter == 3 &  month == 9 )') #1112 ADD\n",
        "train_df = train_df.query('not (building_id == 1017 & meter == 3 & 5 <= month <= 10 )') #1112 ADD\n",
        "train_df = train_df.query('not (building_id == 1021 & meter == 3 & 5 <= month <= 6 )') #1112 ADD\n",
        "train_df = train_df.query('not (building_id == 1302 & meter == 3 & 5 <= month <= 9 )') #1112 ADD\n",
        "\n",
        "train_df = train_df.query('not (building_id == 1232 & meter == 1 & 7 <= month <= 9 )') #1215 ADD\n",
        "train_df = train_df.query('not (building_id == 1238 & meter == 2 & 2 <= month <= 5 )') #1215 ADD\n",
        "\n",
        "#時間別1115\n",
        "train_df = train_df.query('not (building_id == 162 & meter == 1 & 0 <= hour <= 4 )') \n",
        "train_df = train_df.query('not (building_id == 171 & meter == 1 & 0 <= hour <= 4 )') \n",
        "train_df = train_df.query('not (building_id == 171 & meter == 1 & 22 <= hour)') \n",
        "train_df = train_df.query('not (building_id == 176 & meter == 1 & 22 <= hour)') \n",
        "train_df = train_df.query('not (building_id == 176 & meter == 1 & 0 <= hour <= 3 )')\n",
        "train_df = train_df.query('not (building_id == 282 & meter == 1 & 0 <= hour <= 5 )')\n",
        "train_df = train_df.query('not (building_id == 282 & meter == 1 & 21 <= hour)')\n",
        "train_df = train_df.query('not (building_id == 287 & meter == 3)')\n",
        "train_df = train_df.query('not (building_id == 290 & meter == 1 & 22 <= hour)')\n",
        "#train_df = train_df.query('not (building_id == 304 & meter == 0)')\n",
        "#train_df = train_df.query('not (building_id == 345 & meter == 0)')　\n",
        "train_df = train_df.query('not (building_id == 356 & meter == 0)')\n",
        "train_df = train_df.query('not (building_id == 357 & meter == 0)')\n",
        "train_df = train_df.query('not (building_id == 402 & meter == 0)')\n",
        "train_df = train_df.query('not (building_id == 408 & meter == 0)')\n",
        "train_df = train_df.query('not (building_id == 413 & meter == 0)')\n",
        "train_df = train_df.query('not (building_id == 416 & meter == 0)')\n",
        "train_df = train_df.query('not (building_id == 740 & meter == 0)')\n",
        "train_df = train_df.query('not (building_id == 770 & meter == 1 & 0 <= hour <= 3)')\n",
        "train_df = train_df.query('not (building_id == 804 & meter == 0)')\n",
        "train_df = train_df.query('not (building_id == 805 & meter == 0)')\n",
        "train_df = train_df.query('not (building_id == 808 & meter == 0)')\n",
        "train_df = train_df.query('not (building_id == 810 & meter == 0)')\n",
        "train_df = train_df.query('not (building_id == 811 & meter == 0)')\n",
        "train_df = train_df.query('not (building_id == 812 & meter == 0)')\n",
        "train_df = train_df.query('not (building_id == 813 & meter == 0)')\n",
        "train_df = train_df.query('not (building_id == 815 & meter == 0)')\n",
        "train_df = train_df.query('not (building_id == 817 & meter == 0)')\n",
        "train_df = train_df.query('not (building_id == 820 & meter == 0)')\n",
        "train_df = train_df.query('not (building_id == 824 & meter == 0)')\n",
        "train_df = train_df.query('not (building_id == 833 & meter == 0)')\n",
        "train_df = train_df.query('not (building_id == 845 & meter == 0 & month <= 9)')\n",
        "train_df = train_df.query('not (building_id == 846 & meter == 0)')\n",
        "train_df = train_df.query('not (building_id == 849 & meter == 0)')\n",
        "train_df = train_df.query('not (building_id == 857 & meter == 0)')\n",
        "train_df = train_df.query('not (building_id == 859 & meter == 0)')\n",
        "train_df = train_df.query('not (building_id == 860 & meter == 0)')\n",
        "train_df = train_df.query('not (building_id == 861 & meter == 0)')\n",
        "train_df = train_df.query('not (building_id == 870 & meter == 0)')\n",
        "train_df = train_df.query('not (building_id == 870 & meter == 0)')\n",
        "train_df = train_df.query('not (building_id == 873 & meter == 0)')\n",
        "train_df = train_df.query('not (building_id == 1101 & meter == 1 & 1 <= hour <= 5)')\n",
        "train_df = train_df.query('not (building_id == 1101 & meter == 1 & 23 <= hour)')\n",
        "train_df = train_df.query('not (building_id == 1207 & meter == 2 & 20 <= hour)')\n",
        "train_df = train_df.query('not (building_id == 1207 & meter == 2 &  hour <= 2)')\n",
        "train_df = train_df.query('not (building_id == 1211 & meter == 1 & 23 <= hour)')\n",
        "train_df = train_df.query('not (building_id == 1211 & meter == 1 & hour <= 6)')\n",
        "train_df = train_df.query('not (building_id == 1213 & meter == 0 & 9 <= hour <= 17)')\n",
        "train_df = train_df.query('not (building_id == 1216 & meter == 1 & hour <= 5)')\n",
        "train_df = train_df.query('not (building_id == 1217 & meter == 1 & hour <= 5)')\n",
        "train_df = train_df.query('not (building_id == 1217 & meter == 1 & 23 <= hour )')\n",
        "train_df = train_df.query('not (building_id == 1219 & meter == 1 & 21 <= hour )')\n",
        "train_df = train_df.query('not (building_id == 1219 & meter == 1 & hour <= 5 )')\n",
        "train_df = train_df.query('not (building_id == 1245 & meter == 1 & 5 <= hour <= 9)')\n",
        "train_df = train_df.query('not (building_id == 1259 & meter == 2)')\n",
        "train_df = train_df.query('not (building_id == 1262 & meter == 3 & 3 <= hour <= 8)')\n",
        "train_df = train_df.query('not (building_id == 1270 & meter == 0 & 3 <= hour <= 11)')\n",
        "train_df = train_df.query('not (building_id == 1273 & meter == 0 & 5 <= hour <= 10)')\n",
        "train_df = train_df.query('not (building_id == 1273 & meter == 1 & 5 <= hour <= 10)')\n",
        "train_df = train_df.query('not (building_id == 1274 & meter == 1 & 4 <= hour <= 10)')\n",
        "train_df = train_df.query('not (building_id == 1336 & meter == 1)')\n",
        "train_df = train_df.query('not (building_id == 1375 & meter == 1 & 3 <= hour <= 5)')\n",
        "train_df = train_df.query('not (building_id == 1391 & meter == 1 & 0 <= hour <= 4)')\n",
        "train_df = train_df.query('not (building_id == 1398 & meter == 1 & 1 <= hour <= 4)')\n",
        "train_df = train_df.query('not (building_id == 1425 & meter == 0 & 22 <= hour)')\n",
        "train_df = train_df.query('not (building_id == 1425 & meter == 0 & hour <= 4)')\n",
        "train_df = train_df.query('not (building_id == 1446 & meter == 0 & 0 <= hour <= 5)')\n",
        "train_df = train_df.query('not (building_id == 1446 & meter == 0 & 20 <= hour <= 22)')"
      ],
      "execution_count": 0,
      "outputs": []
    },
    {
      "cell_type": "code",
      "metadata": {
        "id": "STg9pG8NeDAI",
        "colab_type": "code",
        "colab": {}
      },
      "source": [
        "#外れ値除外\n",
        "for id in train_df['building_id'].unique():\n",
        "  df = train_df[train_df['building_id'] == id]\n",
        "  for m in df['meter'].unique():\n",
        "    df = df[df['meter'] == m]\n",
        "\n",
        "    if (abs(df.sort_values('meter_reading', ascending=False)['meter_reading_log1p'][0:2].diff()) > 0.3).sum() > 0:\n",
        "      train_df = train_df.drop(df['meter_reading'].idxmax())\n",
        "    if (abs(df.sort_values('meter_reading', ascending=True)['meter_reading_log1p'][0:2].diff()) > 0.3).sum() > 0:\n",
        "      train_df = train_df.drop(df['meter_reading'].idxmin())\n",
        "\n",
        "del df"
      ],
      "execution_count": 0,
      "outputs": []
    },
    {
      "cell_type": "markdown",
      "metadata": {
        "id": "mo-0gGCyWarU",
        "colab_type": "text"
      },
      "source": [
        "#線形補完ノートブック（抜粋)　始点"
      ]
    },
    {
      "cell_type": "code",
      "metadata": {
        "id": "UB-reGwMWjoZ",
        "colab_type": "code",
        "colab": {}
      },
      "source": [
        "\n",
        "spline = pd.DataFrame([], columns=train_df.columns)\n",
        "temp = train_df.groupby(['building_id','meter','month']).count().reset_index()\n",
        "#補完可能な欠損割合を決定(年間データが6割から9.5割のみ存在するビルの測定データを追加)\n",
        "#あまりに多くの測定データを欠損しているビルは本質的なデータが捉えられないので無視する\n",
        "temp = temp[(temp['meter_reading'] <= 24 * 29 * 0.95) & (temp['meter_reading'] >= 24 * 29 * 0.6)]\n",
        "temp['building_id'].unique()"
      ],
      "execution_count": 0,
      "outputs": []
    },
    {
      "cell_type": "code",
      "metadata": {
        "id": "_Pr0yqF3X6BA",
        "colab_type": "code",
        "colab": {}
      },
      "source": [
        "train_df = train_df[train_df['building_id'].isin(temp['building_id'].unique())]\n",
        "del temp\n",
        "train_df['building_id'].unique()"
      ],
      "execution_count": 0,
      "outputs": []
    },
    {
      "cell_type": "code",
      "metadata": {
        "id": "T39DuTFWYRor",
        "colab_type": "code",
        "colab": {}
      },
      "source": [
        "add_df = train_df.copy()\n",
        "add_df =add_df['timestamp'].reset_index()\n",
        "add_df = add_df.drop_duplicates(subset='timestamp')\n",
        "del add_df['index']"
      ],
      "execution_count": 0,
      "outputs": []
    },
    {
      "cell_type": "code",
      "metadata": {
        "id": "BD5UahPvYjLo",
        "colab_type": "code",
        "colab": {}
      },
      "source": [
        "#補完対象のプロット目視選別(meter * 10) + building_id)\n",
        "spline_building = [10050,10097,10098,30192,30202,296,298,299,300,376,483,500,522,544,10745,20745,10789,20789,10790,20790,10791,20791,10792,20792,805,\n",
        "806,807,808,809,810,811,815,816,818,819,820,821,822,823,824,825,826,827,830,831,832,833,834,835,836,837,838,839,840,841,842,843,845,846,847,848,849,850,851,852,853,\n",
        "854,855,856,858,859,860,861,862,863,864,865,866,867,868,869,870,871,872,873,20878,10928,998,999,1002,31003,1004,1005,1006,1007,1014,1018,1021,1022,1148,1222,\n",
        "11239,31258,11267,31269,11273,21285,21288,11291,11293,11300,21306,21315,1318,1326,11326,21326,1327,1328,11328,1329,11329,21329,21330,1331,11331,21331,31331,1332,11332,21332,1333,11333,1334,11334,1335,1336,11336,21336,1337,11337,21337,\n",
        "1338,21338,1339,11339,21339,1341,11341,21341,1342,11342,21342,1343,11343,21343,1344,11344,21344,1345,11345,21345,\n",
        "11347,21347,1348,11348,21348,11349,1350,11350,1352,11352,1353,11354,21354,1356,1357,1358,21358,1359,11359,1360,21360,11362,1363,11363,\n",
        "21363,1364,21364,1365,1366,11366,21366,1367,11367,21367,1368,11368,1369,21369,1370,1371,11372,11375,1376,11376,1377,11377,\n",
        "21377,1378,21378,11379,21379,1380,11380,1381,21381,1382,11382,21382,1386,21387,11388,1389,11389,1390,21390,1391,1393,1394,11394,1395,11395,1396,21396,1398,1399]\n",
        "#10184,#492,#545,#20762,#767,#804,#812,#813,#814,#817,#829,#983,#21077,#11225,#11226,#1325,#31325,#21327,#1340,\n",
        "#1346,#21346,1347,\n"
      ],
      "execution_count": 0,
      "outputs": []
    },
    {
      "cell_type": "code",
      "metadata": {
        "id": "y7LOobvmiMBb",
        "colab_type": "code",
        "colab": {}
      },
      "source": [
        "from scipy import signal, interpolate\n",
        "from matplotlib import pylab as plt\n",
        "#spl_df = pd.DataFrame(data=None, index=None, columns=None, dtype=None, copy=False)\n",
        "for item in spline_building:\n",
        "  bid = item % 10000\n",
        "  m = item // 10000\n",
        "  spl_df = train_df.loc[(train_df.building_id == bid) & (train_df.meter == m)] \n",
        "  print(str(bid) + str(m))\n",
        "  spl_df = add_df.merge(spl_df,on='timestamp',how='left')\n",
        "  prelineCnt = len(spl_df[spl_df['meter_reading'].isnull()])\n",
        "  spl_df = spl_df.interpolate(limit_direction='both')\n",
        "  aftlineCnt = len(spl_df[spl_df['meter_reading'].isnull()])\n",
        "\n",
        "  if prelineCnt != aftlineCnt:\n",
        "    print('origin train_df',train_df.shape)\n",
        "    train_df = train_df.loc[~((train_df.building_id == bid) & (train_df.meter == m))]\n",
        "    print('drop train_df',train_df.shape)\n",
        "    train_df = pd.concat([train_df, spl_df])\n",
        "    print('train_df',train_df.shape)\n",
        "    print('building_id=',str(bid),'meter',str(m))\n",
        "\n",
        "train_df = train_df[~train_df['meter_reading'].isnull()]\n",
        "train_df = train_df[['building_id', 'meter', 'meter_reading', 'timestamp']]\n",
        "#train_df.to_csv('lineComplement.csv')\n",
        "#gdrive_up('lineComplement.csv')"
      ],
      "execution_count": 0,
      "outputs": []
    },
    {
      "cell_type": "markdown",
      "metadata": {
        "id": "yVsxtlGSjK_I",
        "colab_type": "text"
      },
      "source": [
        "#畳み込み"
      ]
    },
    {
      "cell_type": "code",
      "metadata": {
        "id": "SHvLRR1HjIkI",
        "colab_type": "code",
        "colab": {}
      },
      "source": [
        "gdrive_dl('lineComplement.csv')\n",
        "train_org = reduce_mem_usage(pd.read_csv('lineComplement.csv',parse_dates=['timestamp']))\n",
        "del train_org['Unnamed: 0']\n",
        "preprocess(train_org)"
      ],
      "execution_count": 0,
      "outputs": []
    },
    {
      "cell_type": "code",
      "metadata": {
        "id": "3Kdt_A3TkWFx",
        "colab_type": "code",
        "colab": {}
      },
      "source": [
        "#畳み込み対象調査\n",
        "df = train_org\n",
        "\n",
        "for id in train_org['building_id'].unique():\n",
        "  for m in train_org[train_org['building_id'] == id]['meter'].unique():\n",
        "    df2 = (train_org[(train_org['building_id'] == id) & (train_org['meter'] == m)])\n",
        "    if len(df2) != 0:\n",
        "      print('building_id=',str(id),'meter=',str(m))\n",
        "      df2['9-7'] = np.log1p(df2[df2['month'] == 9]['meter_reading'].mean()) -np.log1p(df2[df2['month'] == 7]['meter_reading'].mean())\n",
        "      df2['10-6'] = np.log1p(df2[df2['month'] == 10]['meter_reading'].mean()) - np.log1p(df2[df2['month'] == 6]['meter_reading'].mean())\n",
        "      df2['11-5'] = np.log1p(df2[df2['month'] == 11]['meter_reading'].mean()) - np.log1p(df2[df2['month'] == 5]['meter_reading'].mean())\n",
        "      df2['12-4'] = np.log1p(df2[df2['month'] == 12]['meter_reading'].mean()) - np.log1p(df2[df2['month'] == 4]['meter_reading'].mean())\n",
        "      df = df.append(df2)"
      ],
      "execution_count": 0,
      "outputs": []
    },
    {
      "cell_type": "markdown",
      "metadata": {
        "id": "9ZB0S9P0jYzb",
        "colab_type": "text"
      },
      "source": [
        "#線形補完ノートブック（抜粋)　終点"
      ]
    },
    {
      "cell_type": "code",
      "metadata": {
        "id": "zoD_oMO4etpC",
        "colab_type": "code",
        "outputId": "0db95f61-b353-45a4-e328-7dee5585598d",
        "colab": {
          "base_uri": "https://localhost:8080/",
          "height": 35
        }
      },
      "source": [
        "gdrive_dl('lineComplement.csv')\n",
        "train_df = pd.read_csv('lineComplement.csv',parse_dates=['timestamp'])\n",
        "del train_df['Unnamed: 0']"
      ],
      "execution_count": 0,
      "outputs": [
        {
          "output_type": "stream",
          "text": [
            "GoogleドライブからColab環境への[lineComplement.csv]ファイル取り込みが完了しました.\n"
          ],
          "name": "stdout"
        }
      ]
    },
    {
      "cell_type": "code",
      "metadata": {
        "id": "hruRkyUoTenu",
        "colab_type": "code",
        "colab": {}
      },
      "source": [
        "train_df['date'] = train_df['timestamp'].dt.date\n",
        "train_df['meter_reading_log1p'] = np.log1p(train_df['meter_reading'])"
      ],
      "execution_count": 0,
      "outputs": []
    },
    {
      "cell_type": "code",
      "metadata": {
        "id": "zQiNigbwwrna",
        "colab_type": "code",
        "colab": {}
      },
      "source": [
        "#低分散の線形回帰対象を訓練データから削除\n",
        "drop_lst = ['20191130_OutlierAll.csv','20191130_OutlierWeek.csv','20191130_OutlierHour.csv']\n",
        "drop_df = pd.DataFrame()\n",
        "for s in drop_lst:\n",
        "  gdrive_dl(s)\n",
        "  drop_df = drop_df.append(reduce_mem_usage(pd.read_csv(s)))\n",
        "  print(drop_df.shape)\n",
        "\n",
        "drop_df = drop_df.query('not (building_id == 279)') '精度が低いため\n",
        "drop_df =drop_df.drop('Unnamed: 0',axis=1)\n",
        "drop_df['timestamp'] = pd.to_datetime(drop_df['timestamp'])\n",
        "drop_df = drop_df.drop_duplicates()\n",
        "drop_df.shape"
      ],
      "execution_count": 0,
      "outputs": []
    },
    {
      "cell_type": "code",
      "metadata": {
        "id": "2bvJ60yOQyq2",
        "colab_type": "code",
        "colab": {}
      },
      "source": [
        "train_df['merge'] = (train_df['building_id'] * 10000000) + (train_df['meter'] * 1000000) + (train_df['timestamp'].dt.month * 10000) + (train_df['timestamp'].dt.day * 100) + train_df['timestamp'].dt.hour\n",
        "drop_df['merge'] =  (drop_df['building_id']  * 10000000) + (drop_df['meter']  * 1000000) + (drop_df['timestamp'].dt.month  * 10000) + (drop_df['timestamp'].dt.day  * 100) + drop_df['timestamp'].dt.hour\n",
        "train_df = train_df[~train_df['merge'].isin(drop_df['merge'].unique())]\n",
        "del train_df['merge'] ,drop_df"
      ],
      "execution_count": 0,
      "outputs": []
    },
    {
      "cell_type": "code",
      "metadata": {
        "id": "qm6KGAZBQ1EA",
        "colab_type": "code",
        "colab": {}
      },
      "source": [
        "debug = False"
      ],
      "execution_count": 0,
      "outputs": []
    },
    {
      "cell_type": "code",
      "metadata": {
        "id": "8ldJIMjXQ_8u",
        "colab_type": "code",
        "colab": {}
      },
      "source": [
        "df_group = train_df.groupby(['building_id', 'meter'])['meter_reading_log1p']\n",
        "building_mean = df_group.mean().astype(np.float16)\n",
        "building_median = df_group.median().astype(np.float16)\n",
        "building_min = df_group.min().astype(np.float16)\n",
        "building_max = df_group.max().astype(np.float16)\n",
        "building_std = df_group.std().astype(np.float16)"
      ],
      "execution_count": 0,
      "outputs": []
    },
    {
      "cell_type": "code",
      "metadata": {
        "id": "E-qiQGP5RC4G",
        "colab_type": "code",
        "outputId": "654173e3-bfff-4766-97b4-a2341df77a56",
        "colab": {
          "base_uri": "https://localhost:8080/",
          "height": 124
        }
      },
      "source": [
        "building_stats_df = reduce_mem_usage(pd.concat([building_mean, building_median, building_min, building_max, building_std], axis=1,\n",
        "                              keys=['building_mean', 'building_median', 'building_min', 'building_max', 'building_std']).reset_index())\n",
        "train_df = reduce_mem_usage(pd.merge(train_df, building_stats_df, on=['building_id', 'meter'], how='left', copy=False))"
      ],
      "execution_count": 0,
      "outputs": [
        {
          "output_type": "stream",
          "text": [
            "Memory usage of dataframe is 0.06 MB\n",
            "Memory usage after optimization is: 0.06 MB\n",
            "Decreased by -7.7%\n",
            "Memory usage of dataframe is 2241.22 MB\n",
            "Memory usage after optimization is: 1353.62 MB\n",
            "Decreased by 39.6%\n"
          ],
          "name": "stdout"
        }
      ]
    },
    {
      "cell_type": "code",
      "metadata": {
        "id": "cRjJQz1fP0tT",
        "colab_type": "code",
        "outputId": "0b787020-5b8b-4ec6-e757-b848cd065eec",
        "colab": {
          "base_uri": "https://localhost:8080/",
          "height": 55
        }
      },
      "source": [
        "#1106 メーター別　当該月のの平均　当該月の週毎の平均　当該月の時間毎の平均\n",
        "#未実施メモリ不足\n",
        "'''\n",
        "#月平均\n",
        "temp = train_df[['building_id','meter','month','meter_reading','dayofweek','hour']]\n",
        "temp = reduce_mem_usage(temp.groupby(['building_id','meter','month'])['meter_reading'].mean().reset_index())\n",
        "temp = temp.rename(columns={'meter_reading': 'meter_monthmean'}) \n",
        "#df = pd.merge(df,temp, on=['building_id', 'meter','month'],how='left',copy=False)\n",
        "#週平均\n",
        "temp2 = train_df[['building_id','meter','month','meter_reading','dayofweek','hour']]\n",
        "temp2 = reduce_mem_usage(temp2.groupby(['building_id','month','dayofweek','meter'])['meter_reading'].mean().reset_index())\n",
        "temp2 = temp2.rename(columns={'meter_reading': 'meter_weekmean'}) \n",
        "#df = pd.merge(df,temp, on=['building_id', 'meter','month','dayofweek'],how='left',copy=False)\n",
        "\n",
        "#train_df = meteraverage(train_df)\n",
        "#train_df.head()\n",
        "df = pd.merge(temp2,temp, on=['building_id','meter','month'],how='left',copy=False)\n",
        "del temp, temp2\n",
        "\n",
        "#時間平均\n",
        "temp3 = train_df[['building_id','meter','month','meter_reading','dayofweek','hour']]\n",
        "temp3 = reduce_mem_usage(temp3.groupby(['building_id','month','hour','meter'])['meter_reading'].mean().reset_index())\n",
        "temp3 = temp3.rename(columns={'meter_reading': 'meter_hourmean'}) \n",
        "#df = pd.merge(df,temp, on=['building_id', 'meter','month','hour'],how='left',copy=False)\n",
        "\n",
        "df = reduce_mem_usage(pd.merge(df,temp3, on=['building_id','meter','month'],how='left',copy=False))\n",
        "del temp3\n",
        "train_df = pd.merge(train_df,df, on=['building_id','meter','month'],how='left',copy=False)\n",
        "train_df.head()\n",
        "'''"
      ],
      "execution_count": 0,
      "outputs": [
        {
          "output_type": "execute_result",
          "data": {
            "text/plain": [
              "\"\\n#月平均\\ntemp = train_df[['building_id','meter','month','meter_reading','dayofweek','hour']]\\ntemp = reduce_mem_usage(temp.groupby(['building_id','meter','month'])['meter_reading'].mean().reset_index())\\ntemp = temp.rename(columns={'meter_reading': 'meter_monthmean'}) \\n#df = pd.merge(df,temp, on=['building_id', 'meter','month'],how='left',copy=False)\\n#週平均\\ntemp2 = train_df[['building_id','meter','month','meter_reading','dayofweek','hour']]\\ntemp2 = reduce_mem_usage(temp2.groupby(['building_id','month','dayofweek','meter'])['meter_reading'].mean().reset_index())\\ntemp2 = temp2.rename(columns={'meter_reading': 'meter_weekmean'}) \\n#df = pd.merge(df,temp, on=['building_id', 'meter','month','dayofweek'],how='left',copy=False)\\n\\n#train_df = meteraverage(train_df)\\n#train_df.head()\\ndf = pd.merge(temp2,temp, on=['building_id','meter','month'],how='left',copy=False)\\ndel temp, temp2\\n\\n#時間平均\\ntemp3 = train_df[['building_id','meter','month','meter_reading','dayofweek','hour']]\\ntemp3 = reduce_mem_usage(temp3.groupby(['building_id','month','hour','meter'])['meter_reading'].mean().reset_index())\\ntemp3 = temp3.rename(columns={'meter_reading': 'meter_hourmean'}) \\n#df = pd.merge(df,temp, on=['building_id', 'meter','month','hour'],how='left',copy=False)\\n\\ndf = reduce_mem_usage(pd.merge(df,temp3, on=['building_id','meter','month'],how='left',copy=False))\\ndel temp3\\ntrain_df = pd.merge(train_df,df, on=['building_id','meter','month'],how='left',copy=False)\\ntrain_df.head()\\n\""
            ]
          },
          "metadata": {
            "tags": []
          },
          "execution_count": 95
        }
      ]
    },
    {
      "cell_type": "code",
      "metadata": {
        "id": "hiCaE-kpRLq9",
        "colab_type": "code",
        "outputId": "16dc8e79-b572-4a09-b66a-49f2bfef173b",
        "colab": {
          "base_uri": "https://localhost:8080/",
          "height": 70
        }
      },
      "source": [
        "weather_test_df = reduce_mem_usage(pd.read_csv('weather_test.csv', parse_dates=['timestamp']))\n",
        "weather = pd.concat([weather_train_df, weather_test_df],ignore_index=True)\n",
        "del weather_test_df\n",
        "weather_key = ['site_id', 'timestamp']"
      ],
      "execution_count": 0,
      "outputs": [
        {
          "output_type": "stream",
          "text": [
            "Memory usage of dataframe is 19.04 MB\n",
            "Memory usage after optimization is: 9.78 MB\n",
            "Decreased by 48.6%\n"
          ],
          "name": "stdout"
        }
      ]
    },
    {
      "cell_type": "code",
      "metadata": {
        "id": "aNl0HjgqRlL2",
        "colab_type": "code",
        "outputId": "83045cdb-45f3-4b3c-f5c4-c2cc9a185384",
        "colab": {
          "base_uri": "https://localhost:8080/",
          "height": 35
        }
      },
      "source": [
        "#時間補正\n",
        "# https://www.kaggle.com/nz0722/aligned-timestamp-lgbm-by-meter-type\n",
        "\n",
        "temp_skeleton = weather[weather_key + ['air_temperature']].drop_duplicates(subset=weather_key).sort_values(by=weather_key).copy()\n",
        "\n",
        "# calculate ranks of hourly temperatures within date/site_id chunks\n",
        "temp_skeleton['temp_rank'] = temp_skeleton.groupby(['site_id', temp_skeleton.timestamp.dt.date])['air_temperature'].rank('average')\n",
        "\n",
        "# create a dataframe of site_ids (0-16) x mean hour rank of temperature within day (0-23)\n",
        "df_2d = temp_skeleton.groupby(['site_id', temp_skeleton.timestamp.dt.hour])['temp_rank'].mean().unstack(level=1)\n",
        "\n",
        "# Subtract the columnID of temperature peak by 14, getting the timestamp alignment gap.\n",
        "site_ids_offsets = pd.Series(df_2d.values.argmax(axis=1) - 14)\n",
        "site_ids_offsets.index.name = 'site_id'\n",
        "\n",
        "del weather\n",
        "del temp_skeleton\n",
        "gc.collect()"
      ],
      "execution_count": 0,
      "outputs": [
        {
          "output_type": "execute_result",
          "data": {
            "text/plain": [
              "626"
            ]
          },
          "metadata": {
            "tags": []
          },
          "execution_count": 98
        }
      ]
    },
    {
      "cell_type": "code",
      "metadata": {
        "id": "UbU3n2pr9Fco",
        "colab_type": "code",
        "outputId": "3ea12e88-9ab7-413f-e5ee-fe31181140c5",
        "colab": {
          "base_uri": "https://localhost:8080/",
          "height": 55
        }
      },
      "source": [
        "# 畳み込み\n",
        "# スコアとても下がる\n",
        "'''\n",
        "conv = [300\t,303\t,304\t,305\t,306\t,307\t,308\t,310\t,311\t,321\t,322\t,328\t,329\t,332\t,333\t,\n",
        "334\t,336\t,342\t,343\t,348\t,349\t,353\t,354\t,355\t,357\t,358\t,359\t,361\t,366\t,369\t,370\t,\n",
        "373\t,374\t,376\t,377\t,378\t,380\t,381\t,384\t,386\t,388\t,391\t,393\t,395\t,397\t,398\t,399\t,\n",
        "400\t,406\t,410\t,412\t,414\t,415\t,416\t,419\t,422\t,423\t,424\t,425\t,427\t,428\t,429\t,430\t,\n",
        "431\t,433\t,436\t,438\t,439\t,442\t,445\t,446\t,450\t,452\t,453\t,456\t,458\t,459\t,460\t,462\t,\n",
        "464\t,465\t,467\t,468\t,470\t,472\t,473\t,474\t,476\t,477\t,478\t,480\t,481\t,490\t,493\t,497\t,498\t,502\t,504\t,511\t,\n",
        "515\t,519\t,520\t,521\t,527\t,529\t,533\t,535\t,541\t,544\t,546\t,547\t,552\t,554\t,557\t,558\t,561\t,563\t,564\t,605\t,\n",
        "623\t,625\t,676\t,682\t,686\t,693\t,694\t,695\t,746\t,20747,10748,10752,20754,10755,20757,20759,\n",
        "10763,10765,20765,20769,10770,20770,771\t,10771\t,20771,20774,10777\t,10780\t,20784\t,10786\t,\n",
        "10787\t,20787\t,10789\t,20789\t,10790\t,20790\t,10791\t,20791\t,\n",
        "10792\t,20792\t,10794\t,20794\t,10795\t,20795\t,10796\t,20796\t,10797\t,20797\t,\n",
        "10798\t,20798\t,10799\t,20799\t,858\t,859\t,862\t,869\t,871\t,10874\t,\n",
        "20875\t,10878\t,10879\t,10883\t,10885\t,20885\t,10886\t,20886\t,\n",
        "10887\t,20887\t,20888\t,10889\t,10890\t,10890\t,10893\t,10894\t,\n",
        "20894\t,10895\t,10896\t,10898\t,20898\t,10899\t,20899\t,10900\t,\n",
        "10905\t,10906\t,10908\t,20908\t,10910\t,20910\t,10911\t,\n",
        "20911\t,10912\t,20912\t,10914\t,20914\t,10917\t,20917\t,10918\t,\n",
        "20918\t,10920\t,20920\t,10921\t,20921\t,10922\t,20922\t,10924\t,\n",
        "20924\t,10925\t,20925\t,10926\t,20926\t,10928\t,\n",
        "20928\t,10929\t,20929\t,10931\t,20931\t,10932\t,10935\t,\n",
        "939\t,10948\t,20948\t,10949,20949\t,10951\t,20951\t,10956\t,20956\t,10964\t,\n",
        "20964\t,10965\t,10966\t,20966\t,10968\t,20968\t,10969\t,20969\t,\n",
        "20971\t,10972\t,10973\t,20973\t,10974\t,\n",
        "20974\t,20978\t,10979\t,20979\t,10980\t,10987\t,20987\t,10991\t,\n",
        "20991\t,10992\t,20992\t,10993\t,10995\t,20995\t,20998\t,30998]\n",
        "turn_start = datetime.date(2016, 8, 1)\n",
        "turn_end = datetime.date(2016, 11, 1)\n",
        "cnv_df = train_df.query('(\"2016-08-01\" < timestamp &  timestamp < \"2016-11-01\" )')\n",
        "train_df = train_df.query('not (\"2016-08-01\" < timestamp &  timestamp < \"2016-11-01\" )')\n",
        "for item in conv:\n",
        "  bid = item % 10000\n",
        "  m = item // 10000\n",
        "  tmp = cnv_df.loc[(cnv_df['building_id'] == bid) & (cnv_df['meter'] == m)]\n",
        "  if len(tmp) > 0 :\n",
        "    cnv_df.loc[(cnv_df['building_id'] == bid) & (cnv_df['meter'] == m),'timestamp'] = cnv_df[(cnv_df['building_id'] == bid) & (cnv_df['meter'] == m)]['timestamp'] - ((cnv_df[(cnv_df['building_id'] == bid) & (cnv_df['meter'] == m)]['timestamp'].dt.date  - turn_start) * 2)\n",
        "  \n",
        "preprocess(cnv_df)\n",
        "print(train_df.shape,cnv_df.shape)\n",
        "train_df =pd.concat([train_df,cnv_df])\n",
        "print(train_df.shape)\n",
        "del cnv_df\n",
        "'''"
      ],
      "execution_count": 0,
      "outputs": [
        {
          "output_type": "execute_result",
          "data": {
            "text/plain": [
              "'\\nconv = [300\\t,303\\t,304\\t,305\\t,306\\t,307\\t,308\\t,310\\t,311\\t,321\\t,322\\t,328\\t,329\\t,332\\t,333\\t,\\n334\\t,336\\t,342\\t,343\\t,348\\t,349\\t,353\\t,354\\t,355\\t,357\\t,358\\t,359\\t,361\\t,366\\t,369\\t,370\\t,\\n373\\t,374\\t,376\\t,377\\t,378\\t,380\\t,381\\t,384\\t,386\\t,388\\t,391\\t,393\\t,395\\t,397\\t,398\\t,399\\t,\\n400\\t,406\\t,410\\t,412\\t,414\\t,415\\t,416\\t,419\\t,422\\t,423\\t,424\\t,425\\t,427\\t,428\\t,429\\t,430\\t,\\n431\\t,433\\t,436\\t,438\\t,439\\t,442\\t,445\\t,446\\t,450\\t,452\\t,453\\t,456\\t,458\\t,459\\t,460\\t,462\\t,\\n464\\t,465\\t,467\\t,468\\t,470\\t,472\\t,473\\t,474\\t,476\\t,477\\t,478\\t,480\\t,481\\t,490\\t,493\\t,497\\t,498\\t,502\\t,504\\t,511\\t,\\n515\\t,519\\t,520\\t,521\\t,527\\t,529\\t,533\\t,535\\t,541\\t,544\\t,546\\t,547\\t,552\\t,554\\t,557\\t,558\\t,561\\t,563\\t,564\\t,605\\t,\\n623\\t,625\\t,676\\t,682\\t,686\\t,693\\t,694\\t,695\\t,746\\t,20747,10748,10752,20754,10755,20757,20759,\\n10763,10765,20765,20769,10770,20770,771\\t,10771\\t,20771,20774,10777\\t,10780\\t,20784\\t,10786\\t,\\n10787\\t,20787\\t,10789\\t,20789\\t,10790\\t,20790\\t,10791\\t,20791\\t,\\n10792\\t,20792\\t,10794\\t,20794\\t,10795\\t,20795\\t,10796\\t,20796\\t,10797\\t,20797\\t,\\n10798\\t,20798\\t,10799\\t,20799\\t,858\\t,859\\t,862\\t,869\\t,871\\t,10874\\t,\\n20875\\t,10878\\t,10879\\t,10883\\t,10885\\t,20885\\t,10886\\t,20886\\t,\\n10887\\t,20887\\t,20888\\t,10889\\t,10890\\t,10890\\t,10893\\t,10894\\t,\\n20894\\t,10895\\t,10896\\t,10898\\t,20898\\t,10899\\t,20899\\t,10900\\t,\\n10905\\t,10906\\t,10908\\t,20908\\t,10910\\t,20910\\t,10911\\t,\\n20911\\t,10912\\t,20912\\t,10914\\t,20914\\t,10917\\t,20917\\t,10918\\t,\\n20918\\t,10920\\t,20920\\t,10921\\t,20921\\t,10922\\t,20922\\t,10924\\t,\\n20924\\t,10925\\t,20925\\t,10926\\t,20926\\t,10928\\t,\\n20928\\t,10929\\t,20929\\t,10931\\t,20931\\t,10932\\t,10935\\t,\\n939\\t,10948\\t,20948\\t,10949,20949\\t,10951\\t,20951\\t,10956\\t,20956\\t,10964\\t,\\n20964\\t,10965\\t,10966\\t,20966\\t,10968\\t,20968\\t,10969\\t,20969\\t,\\n20971\\t,10972\\t,10973\\t,20973\\t,10974\\t,\\n20974\\t,20978\\t,10979\\t,20979\\t,10980\\t,10987\\t,20987\\t,10991\\t,\\n20991\\t,10992\\t,20992\\t,10993\\t,10995\\t,20995\\t,20998\\t,30998]\\nturn_start = datetime.date(2016, 8, 1)\\nturn_end = datetime.date(2016, 11, 1)\\ncnv_df = train_df.query(\\'(\"2016-08-01\" < timestamp &  timestamp < \"2016-11-01\" )\\')\\ntrain_df = train_df.query(\\'not (\"2016-08-01\" < timestamp &  timestamp < \"2016-11-01\" )\\')\\nfor item in conv:\\n  bid = item % 10000\\n  m = item // 10000\\n  tmp = cnv_df.loc[(cnv_df[\\'building_id\\'] == bid) & (cnv_df[\\'meter\\'] == m)]\\n  if len(tmp) > 0 :\\n    cnv_df.loc[(cnv_df[\\'building_id\\'] == bid) & (cnv_df[\\'meter\\'] == m),\\'timestamp\\'] = cnv_df[(cnv_df[\\'building_id\\'] == bid) & (cnv_df[\\'meter\\'] == m)][\\'timestamp\\'] - ((cnv_df[(cnv_df[\\'building_id\\'] == bid) & (cnv_df[\\'meter\\'] == m)][\\'timestamp\\'].dt.date  - turn_start) * 2)\\n  \\npreprocess(cnv_df)\\nprint(train_df.shape,cnv_df.shape)\\ntrain_df =pd.concat([train_df,cnv_df])\\nprint(train_df.shape)\\ndel cnv_df\\n'"
            ]
          },
          "metadata": {
            "tags": []
          },
          "execution_count": 99
        }
      ]
    },
    {
      "cell_type": "code",
      "metadata": {
        "id": "EkNlIzHURo_l",
        "colab_type": "code",
        "colab": {}
      },
      "source": [
        "weather_train_df = timestamp_align(weather_train_df)\n",
        "weather_train_df = weather_train_df.groupby('site_id').apply(lambda group: group.interpolate(limit_direction='both'))"
      ],
      "execution_count": 0,
      "outputs": []
    },
    {
      "cell_type": "code",
      "metadata": {
        "id": "sk0wOMKCwlmh",
        "colab_type": "code",
        "colab": {}
      },
      "source": [
        "#1109 祝日データ\n",
        "import holidays\n",
        "\n",
        "def add_holiday(df_weather):\n",
        "  en_holidays = holidays.England()\n",
        "  ir_holidays = holidays.Ireland()\n",
        "  ca_holidays = holidays.Canada()\n",
        "  us_holidays = holidays.UnitedStates()\n",
        "\n",
        "  en_idx = df_weather.query('site_id == 1 or site_id == 5').index\n",
        "  ir_idx = df_weather.query('site_id == 12').index\n",
        "  ca_idx = df_weather.query('site_id == 7 or site_id == 11').index\n",
        "  us_idx = df_weather.query('site_id == 0 or site_id == 2 or site_id == 3 or site_id == 4 or site_id == 6 or site_id == 8 or site_id == 9 or site_id == 10 or site_id == 13 or site_id == 14 or site_id == 15').index\n",
        "\n",
        "  df_weather['IsHoliday'] = 0\n",
        "  df_weather.loc[en_idx, 'IsHoliday'] = df_weather.loc[en_idx, 'timestamp'].apply(lambda x: en_holidays.get(x, default=0))\n",
        "  df_weather.loc[ir_idx, 'IsHoliday'] = df_weather.loc[ir_idx, 'timestamp'].apply(lambda x: ir_holidays.get(x, default=0))\n",
        "  df_weather.loc[ca_idx, 'IsHoliday'] = df_weather.loc[ca_idx, 'timestamp'].apply(lambda x: ca_holidays.get(x, default=0))\n",
        "  df_weather.loc[us_idx, 'IsHoliday'] = df_weather.loc[us_idx, 'timestamp'].apply(lambda x: us_holidays.get(x, default=0))\n",
        "\n",
        "  holiday_idx = df_weather['IsHoliday'] != 0\n",
        "  df_weather.loc[holiday_idx, 'IsHoliday'] = 1\n",
        "  df_weather['IsHoliday'] = df_weather['IsHoliday'].astype(np.uint8)\n",
        "\n",
        "add_holiday(weather_train_df)"
      ],
      "execution_count": 0,
      "outputs": []
    },
    {
      "cell_type": "code",
      "metadata": {
        "id": "BpJBqabkRwbW",
        "colab_type": "code",
        "colab": {}
      },
      "source": [
        "add_lag_feature(weather_train_df, window=3)\n",
        "#add_lag_feature(weather_train_df, window=24)下がる\n",
        "add_lag_feature(weather_train_df, window=72)"
      ],
      "execution_count": 0,
      "outputs": []
    },
    {
      "cell_type": "code",
      "metadata": {
        "id": "LNGnBX-dR1kq",
        "colab_type": "code",
        "outputId": "e0d0b18d-d702-4c04-9f5a-6b034d9b2b08",
        "colab": {
          "base_uri": "https://localhost:8080/",
          "height": 72
        }
      },
      "source": [
        "# categorize primary_use column to reduce memory on merge...\n",
        "\n",
        "primary_use_list = building_meta_df['primary_use'].unique()\n",
        "primary_use_dict = {key: value for value, key in enumerate(primary_use_list)} \n",
        "print('primary_use_dict: ', primary_use_dict)\n",
        "building_meta_df['primary_use'] = building_meta_df['primary_use'].map(primary_use_dict)\n",
        "\n",
        "gc.collect()"
      ],
      "execution_count": 0,
      "outputs": [
        {
          "output_type": "stream",
          "text": [
            "primary_use_dict:  {'Education': 0, 'Lodging/residential': 1, 'Office': 2, 'Entertainment/public assembly': 3, 'Other': 4, 'Retail': 5, 'Parking': 6, 'Public services': 7, 'Warehouse/storage': 8, 'Food sales and service': 9, 'Religious worship': 10, 'Healthcare': 11, 'Utility': 12, 'Technology/science': 13, 'Manufacturing/industrial': 14, 'Services': 15}\n"
          ],
          "name": "stdout"
        },
        {
          "output_type": "execute_result",
          "data": {
            "text/plain": [
              "0"
            ]
          },
          "metadata": {
            "tags": []
          },
          "execution_count": 103
        }
      ]
    },
    {
      "cell_type": "code",
      "metadata": {
        "id": "uUp_XI4XR2MW",
        "colab_type": "code",
        "outputId": "fdffb328-1c15-4e6e-9707-da685d3d0abd",
        "colab": {
          "base_uri": "https://localhost:8080/",
          "height": 177
        }
      },
      "source": [
        "train_df = reduce_mem_usage(train_df, use_float16=True)\n",
        "building_meta_df = reduce_mem_usage(building_meta_df, use_float16=True)\n",
        "weather_train_df =reduce_mem_usage(weather_train_df, use_float16=True)"
      ],
      "execution_count": 0,
      "outputs": [
        {
          "output_type": "stream",
          "text": [
            "Memory usage of dataframe is 1353.62 MB\n",
            "Memory usage after optimization is: 954.19 MB\n",
            "Decreased by 29.5%\n",
            "Memory usage of dataframe is 0.02 MB\n",
            "Memory usage after optimization is: 0.02 MB\n",
            "Decreased by 24.1%\n",
            "Memory usage of dataframe is 21.06 MB\n",
            "Memory usage after optimization is: 18.40 MB\n",
            "Decreased by 12.7%\n"
          ],
          "name": "stdout"
        }
      ]
    },
    {
      "cell_type": "code",
      "metadata": {
        "id": "YnF1dDYjR8vC",
        "colab_type": "code",
        "colab": {}
      },
      "source": [
        "\n",
        "category_cols = ['building_id', 'site_id', 'primary_use', 'meter','dayofweek','building_median']\n",
        "weather_cols = [\n",
        "    'air_temperature', 'cloud_coverage',\n",
        "    'dew_temperature', 'precip_depth_1_hr', 'sea_level_pressure',\n",
        "    'wind_direction', 'wind_speed', 'air_temperature_mean_lag72',\n",
        "    'air_temperature_max_lag72', 'air_temperature_min_lag72',\n",
        "    'air_temperature_std_lag72', 'cloud_coverage_mean_lag72',\n",
        "    'dew_temperature_mean_lag72', 'precip_depth_1_hr_mean_lag72',\n",
        "    'sea_level_pressure_mean_lag72', 'wind_direction_mean_lag72',\n",
        "    'wind_speed_mean_lag72', 'air_temperature_mean_lag3',\n",
        "    'air_temperature_max_lag3',\n",
        "    'air_temperature_min_lag3', 'cloud_coverage_mean_lag3',\n",
        "    'dew_temperature_mean_lag3',\n",
        "    'precip_depth_1_hr_mean_lag3', 'sea_level_pressure_mean_lag3',\n",
        "    'wind_direction_mean_lag3', 'wind_speed_mean_lag3']\n",
        "custom_feature = ['offset','IsHoliday']#'meter_month_zero','meter_month_zerosum'\n",
        "feature_cols = ['square_feet', 'year_built'] + [\n",
        "    'hour', 'weekend' # 'month' 'dayofweek''building_median'\n",
        "    ] + weather_cols + custom_feature"
      ],
      "execution_count": 0,
      "outputs": []
    },
    {
      "cell_type": "code",
      "metadata": {
        "id": "quWXr4vZS7Pc",
        "colab_type": "code",
        "colab": {}
      },
      "source": [
        "def create_X_y(train_df, target_meter):\n",
        "    \n",
        "    target_train_df = train_df[train_df['meter'] == target_meter]\n",
        "    target_train_df = target_train_df.merge(building_meta_df, on='building_id', how='left')\n",
        "    target_train_df = target_train_df.merge(weather_train_df, on=['site_id', 'timestamp'], how='left')\n",
        "    #https://www.kaggle.com/c/ashrae-energy-prediction/discussion/119261#latest-693904\n",
        "    target_train_df.loc[(target_train_df['site_id'] == 0) & (target_train_df['meter'] == 0), 'meter_reading'] = target_train_df[(target_train_df['site_id'] == 0) & (target_train_df['meter'] == 0)]['meter_reading'] * 0.2931\n",
        "    \n",
        "    X_train = target_train_df[feature_cols + category_cols]\n",
        "    y_train = target_train_df['meter_reading_log1p'].values\n",
        "\n",
        "    del target_train_df\n",
        "    return X_train, y_train"
      ],
      "execution_count": 0,
      "outputs": []
    },
    {
      "cell_type": "code",
      "metadata": {
        "id": "0kWtR8oCS-3O",
        "colab_type": "code",
        "outputId": "549763c3-ee36-446e-9410-d5642328481e",
        "colab": {
          "base_uri": "https://localhost:8080/",
          "height": 35
        }
      },
      "source": [
        "import optuna\n",
        "from optuna import Trial\n",
        "\n",
        "optuna.__version__"
      ],
      "execution_count": 0,
      "outputs": [
        {
          "output_type": "execute_result",
          "data": {
            "text/plain": [
              "'0.17.1'"
            ]
          },
          "metadata": {
            "tags": []
          },
          "execution_count": 107
        }
      ]
    },
    {
      "cell_type": "code",
      "metadata": {
        "id": "ZuR5snvuTA6I",
        "colab_type": "code",
        "colab": {}
      },
      "source": [
        "debug = False\n",
        "\n",
        "train_df_original = train_df\n",
        "# Only use 10000 data,,, for fast computation for debugging.\n",
        "train_df = train_df.sample(10000)"
      ],
      "execution_count": 0,
      "outputs": []
    },
    {
      "cell_type": "code",
      "metadata": {
        "id": "ZUGodHKrTEBg",
        "colab_type": "code",
        "colab": {}
      },
      "source": [
        "def objective(trial: Trial, fast_check=True, target_meter=0, return_info=False):\n",
        "    folds = 5\n",
        "    seed = 666\n",
        "    shuffle = False\n",
        "    kf = KFold(n_splits=folds, shuffle=shuffle, random_state=seed)\n",
        "\n",
        "    X_train, y_train = create_X_y(train_df, target_meter=target_meter)\n",
        "    y_valid_pred_total = np.zeros(X_train.shape[0])\n",
        "    gc.collect()\n",
        "    print('target_meter', target_meter, X_train.shape)\n",
        "\n",
        "    cat_features = [X_train.columns.get_loc(cat_col) for cat_col in category_cols]\n",
        "    print('cat_features', cat_features)\n",
        "\n",
        "    models = []\n",
        "    valid_score = 0\n",
        "    for train_idx, valid_idx in kf.split(X_train, y_train):\n",
        "        train_data = X_train.iloc[train_idx,:], y_train[train_idx]\n",
        "        valid_data = X_train.iloc[valid_idx,:], y_train[valid_idx]\n",
        "\n",
        "        print('train', len(train_idx), 'valid', len(valid_idx))\n",
        "    #     model, y_pred_valid, log = fit_cb(train_data, valid_data, cat_features=cat_features, devices=[0,])\n",
        "        model, y_pred_valid, log = fit_lgbm(trial, train_data, valid_data, cat_features=category_cols,\n",
        "                                            num_rounds=1000)\n",
        "        y_valid_pred_total[valid_idx] = y_pred_valid\n",
        "        models.append(model)\n",
        "        gc.collect()\n",
        "        valid_score += log[\"valid/l2\"]\n",
        "        if fast_check:\n",
        "            break\n",
        "    valid_score /= len(models)\n",
        "    if return_info:\n",
        "        return valid_score, models, y_pred_valid, y_train\n",
        "    else:\n",
        "        return valid_score"
      ],
      "execution_count": 0,
      "outputs": []
    },
    {
      "cell_type": "code",
      "metadata": {
        "id": "G5Lo9CcITIEt",
        "colab_type": "code",
        "colab": {}
      },
      "source": [
        "# Referred https://github.com/pfnet/optuna/blob/master/examples/lightgbm_simple.py\n",
        "\n",
        "def fit_lgbm(trial, train, val, devices=(-1,), seed=None, cat_features=None, num_rounds=1500):\n",
        "    \"\"\"Train Light GBM model\"\"\"\n",
        "    X_train, y_train = train\n",
        "    X_valid, y_valid = val\n",
        "    metric = 'l2'\n",
        "    params = {\n",
        "        'num_leaves': trial.suggest_int('num_leaves', 2, 256),\n",
        "        'objective': 'regression',\n",
        "#               'max_depth': -1,\n",
        "        'learning_rate': 0.1,\n",
        "        \"boosting\": \"gbdt\",\n",
        "        'lambda_l1': trial.suggest_loguniform('lambda_l1', 1e-8, 10.0),\n",
        "        'lambda_l2': trial.suggest_loguniform('lambda_l2', 1e-8, 10.0),\n",
        "        \"bagging_freq\": 5,\n",
        "        \"bagging_fraction\": trial.suggest_uniform('bagging_fraction', 0.1, 1.0),\n",
        "        \"feature_fraction\": trial.suggest_uniform('feature_fraction', 0.4, 1.0),\n",
        "        \"metric\": metric,\n",
        "        \"verbosity\": -1,\n",
        "    }\n",
        "    device = devices[0]\n",
        "    if device == -1:\n",
        "        # use cpu\n",
        "        pass\n",
        "    else:\n",
        "        # use gpu\n",
        "        print(f'using gpu device_id {device}...')\n",
        "        params.update({'device': 'gpu', 'gpu_device_id': device})\n",
        "\n",
        "    params['seed'] = seed\n",
        "\n",
        "    early_stop = 20\n",
        "    verbose_eval = 20\n",
        "\n",
        "    d_train = lgb.Dataset(X_train, label=y_train, categorical_feature=cat_features)\n",
        "    d_valid = lgb.Dataset(X_valid, label=y_valid, categorical_feature=cat_features)\n",
        "    watchlist = [d_train, d_valid]\n",
        "\n",
        "    print('training LGB:')\n",
        "    model = lgb.train(params,\n",
        "                      train_set=d_train,\n",
        "                      num_boost_round=num_rounds,\n",
        "                      valid_sets=watchlist,\n",
        "                      verbose_eval=verbose_eval,\n",
        "                      early_stopping_rounds=early_stop)\n",
        "\n",
        "    # predictions\n",
        "    y_pred_valid = model.predict(X_valid, num_iteration=model.best_iteration)\n",
        "    \n",
        "    print('best_score', model.best_score)\n",
        "    log = {'train/l2': model.best_score['training']['l2'],\n",
        "           'valid/l2': model.best_score['valid_1']['l2']}\n",
        "    return model, y_pred_valid, log"
      ],
      "execution_count": 0,
      "outputs": []
    },
    {
      "cell_type": "code",
      "metadata": {
        "id": "0F_HYbGiTORA",
        "colab_type": "code",
        "colab": {}
      },
      "source": [
        "\n",
        "\n",
        "def fit_lgbm_with_pruning(trial, train, val, devices=(-1,), seed=None, cat_features=None, num_rounds=1500):\n",
        "    \"\"\"Train Light GBM model\"\"\"\n",
        "    X_train, y_train = train\n",
        "    X_valid, y_valid = val\n",
        "    metric = 'l2'\n",
        "    params = {\n",
        "        'num_leaves': trial.suggest_int('num_leaves', 10, 256),\n",
        "        'objective': 'regression',\n",
        "#               'max_depth': -1,\n",
        "        'learning_rate': 0.1,\n",
        "        \"boosting\": \"gbdt\",\n",
        "        'lambda_l1': trial.suggest_loguniform('lambda_l1', 1e-8, 10.0),\n",
        "        'lambda_l2': trial.suggest_loguniform('lambda_l2', 1e-8, 10.0),\n",
        "        \"bagging_freq\": 5,\n",
        "        \"bagging_fraction\": trial.suggest_uniform('bagging_fraction', 0.1, 1.0),\n",
        "        \"feature_fraction\": trial.suggest_uniform('feature_fraction', 0.4, 1.0),\n",
        "        \"metric\": metric,\n",
        "        \"verbosity\": -1,\n",
        "    }\n",
        "    device = devices[0]\n",
        "    if device == -1:\n",
        "        # use cpu\n",
        "        pass\n",
        "    else:\n",
        "        # use gpu\n",
        "        print(f'using gpu device_id {device}...')\n",
        "        params.update({'device': 'gpu', 'gpu_device_id': device})\n",
        "\n",
        "    params['seed'] = seed\n",
        "\n",
        "    early_stop = 20\n",
        "    verbose_eval = 20\n",
        "\n",
        "    d_train = lgb.Dataset(X_train, label=y_train, categorical_feature=cat_features)\n",
        "    d_valid = lgb.Dataset(X_valid, label=y_valid, categorical_feature=cat_features)\n",
        "    watchlist = [d_train, d_valid]\n",
        "\n",
        "    # Add a callback for pruning.\n",
        "    pruning_callback = optuna.integration.LightGBMPruningCallback(trial, 'l2', valid_name='valid_1')    \n",
        "    print('training LGB:')\n",
        "    model = lgb.train(params,\n",
        "                      train_set=d_train,\n",
        "                      num_boost_round=num_rounds,\n",
        "                      valid_sets=watchlist,\n",
        "                      verbose_eval=verbose_eval,\n",
        "                      early_stopping_rounds=early_stop,\n",
        "                      callbacks=[pruning_callback])\n",
        "\n",
        "    # predictions\n",
        "    y_pred_valid = model.predict(X_valid, num_iteration=model.best_iteration)\n",
        "    \n",
        "    print('best_score', model.best_score)\n",
        "    log = {'train/l2': model.best_score['training']['l2'],\n",
        "           'valid/l2': model.best_score['valid_1']['l2']}\n",
        "    return model, y_pred_valid, log"
      ],
      "execution_count": 0,
      "outputs": []
    },
    {
      "cell_type": "code",
      "metadata": {
        "id": "aGC1bGJ1VRVl",
        "colab_type": "code",
        "colab": {}
      },
      "source": [
        "def objective_with_prune(trial: Trial, fast_check=True, target_meter=0):\n",
        "    \"\"\"This method is completely same with previous `objective` method except calling `fit_lgbm_with_pruning`\"\"\"\n",
        "    folds = 5\n",
        "    seed = 666\n",
        "    shuffle = False\n",
        "    kf = KFold(n_splits=folds, shuffle=shuffle, random_state=seed)\n",
        "\n",
        "    X_train, y_train = create_X_y(train_df, target_meter=target_meter)\n",
        "    y_valid_pred_total = np.zeros(X_train.shape[0])\n",
        "    gc.collect()\n",
        "    print('target_meter', target_meter, X_train.shape)\n",
        "\n",
        "    cat_features = [X_train.columns.get_loc(cat_col) for cat_col in category_cols]\n",
        "    print('cat_features', cat_features)\n",
        "\n",
        "    models0 = []\n",
        "    valid_score = 0\n",
        "    for train_idx, valid_idx in kf.split(X_train, y_train):\n",
        "        train_data = X_train.iloc[train_idx,:], y_train[train_idx]\n",
        "        valid_data = X_train.iloc[valid_idx,:], y_train[valid_idx]\n",
        "\n",
        "        print('train', len(train_idx), 'valid', len(valid_idx))\n",
        "        model, y_pred_valid, log = fit_lgbm_with_pruning(trial, train_data, valid_data, cat_features=category_cols,\n",
        "                                                         num_rounds=1000)\n",
        "        y_valid_pred_total[valid_idx] = y_pred_valid\n",
        "        models0.append(model)\n",
        "        gc.collect()\n",
        "        valid_score += log[\"valid/l2\"]\n",
        "        if fast_check:\n",
        "            break\n",
        "    valid_score /= len(models0)\n",
        "    return valid_score"
      ],
      "execution_count": 0,
      "outputs": []
    },
    {
      "cell_type": "markdown",
      "metadata": {
        "id": "O0QzqWCGx7Pe",
        "colab_type": "text"
      },
      "source": [
        "# パラメータサーチ開始"
      ]
    },
    {
      "cell_type": "code",
      "metadata": {
        "id": "HkfaJ2YtVrC2",
        "colab_type": "code",
        "outputId": "23f4f1d3-2cf5-462e-e44b-ac33be46b8ee",
        "colab": {
          "base_uri": "https://localhost:8080/",
          "height": 52
        }
      },
      "source": [
        "if not debug:\n",
        "    # Restore to original data size for actual computation\n",
        "    train_df = train_df_original\n",
        "    timeout = 60 * 60 * 2  # For 2 hours...\n",
        "else:\n",
        "    timeout = 60 * 1       # Debug mode, only for 1 mins\n",
        "\n",
        "print('train_df.shape', train_df.shape)\n",
        "print(f'timeout {timeout /60} min')"
      ],
      "execution_count": 0,
      "outputs": [
        {
          "output_type": "stream",
          "text": [
            "train_df.shape (23268185, 15)\n",
            "timeout 120.0 min\n"
          ],
          "name": "stdout"
        }
      ]
    },
    {
      "cell_type": "code",
      "metadata": {
        "id": "KkrpUQbOVuZA",
        "colab_type": "code",
        "colab": {}
      },
      "source": [
        "study = optuna.create_study(pruner=optuna.pruners.SuccessiveHalvingPruner(min_resource=2, reduction_factor=4, min_early_stopping_rate=0))\n",
        "study.optimize(objective_with_prune, timeout=timeout)\n"
      ],
      "execution_count": 0,
      "outputs": []
    },
    {
      "cell_type": "code",
      "metadata": {
        "id": "8UCO_zETVyGJ",
        "colab_type": "code",
        "colab": {}
      },
      "source": [
        "print(f'Executed {len(study.trials)} trials, best score {study.best_value} with best_params {study.best_params}')"
      ],
      "execution_count": 0,
      "outputs": []
    },
    {
      "cell_type": "code",
      "metadata": {
        "id": "JvLQRBa3V1-y",
        "colab_type": "code",
        "colab": {}
      },
      "source": [
        "trials_df = study.trials_dataframe()\n",
        "trials_df.to_csv('trials_history.csv')"
      ],
      "execution_count": 0,
      "outputs": []
    },
    {
      "cell_type": "code",
      "metadata": {
        "id": "dQtTKsdjWAqn",
        "colab_type": "code",
        "colab": {}
      },
      "source": [
        "print(\"Training model with best_params {}\".format(study.best_params))"
      ],
      "execution_count": 0,
      "outputs": []
    },
    {
      "cell_type": "markdown",
      "metadata": {
        "id": "GNL_ArHXyETT",
        "colab_type": "text"
      },
      "source": [
        "#パラメータサーチ終了"
      ]
    },
    {
      "cell_type": "code",
      "metadata": {
        "id": "CWDEI_IeEL9u",
        "colab_type": "code",
        "colab": {}
      },
      "source": [
        "#1105\n",
        "params =  {'num_leaves': 251, 'lambda_l1': 4.042850956704914e-08, 'lambda_l2': 9.960105113132773, 'bagging_fraction': 0.90520386079324, 'feature_fraction': 0.8842112658876237}"
      ],
      "execution_count": 0,
      "outputs": []
    },
    {
      "cell_type": "code",
      "metadata": {
        "id": "HAjEpwVaWCdZ",
        "colab_type": "code",
        "colab": {}
      },
      "source": [
        "# For meter 0\n",
        "#1105\n",
        "valid_score, models0, y_pred_valid, y_train = objective(optuna.trial.FixedTrial(study.best_params), fast_check=False, target_meter=0, return_info=True)\n",
        "#valid_score, models0, y_pred_valid, y_train = objective(optuna.trial.FixedTrial(params), fast_check=False, target_meter=0, return_info=True)\n",
        "sns.distplot(y_pred_valid, label='pred')\n",
        "sns.distplot(y_train, label='ground truth')\n",
        "plt.legend()\n",
        "plt.show()\n",
        "\n",
        "del y_pred_valid, y_train"
      ],
      "execution_count": 0,
      "outputs": []
    },
    {
      "cell_type": "code",
      "metadata": {
        "id": "zyLAF_R4WENH",
        "colab_type": "code",
        "colab": {}
      },
      "source": [
        "# For meter 1\n",
        "#1105\n",
        "valid_score, models1, y_pred_valid, y_train = objective(optuna.trial.FixedTrial(study.best_params), fast_check=False, target_meter=1, return_info=True)\n",
        "#valid_score, models1, y_pred_valid, y_train = objective(optuna.trial.FixedTrial(params), fast_check=False, target_meter=1, return_info=True)\n",
        "sns.distplot(y_pred_valid, label='pred')\n",
        "sns.distplot(y_train, label='ground truth')\n",
        "plt.legend()\n",
        "plt.show()\n",
        "\n",
        "del y_pred_valid, y_train"
      ],
      "execution_count": 0,
      "outputs": []
    },
    {
      "cell_type": "code",
      "metadata": {
        "id": "paJWT9OaWGDd",
        "colab_type": "code",
        "colab": {}
      },
      "source": [
        "# For meter 2\n",
        "#1105\n",
        "valid_score, models2, y_pred_valid, y_train = objective(optuna.trial.FixedTrial(study.best_params), fast_check=False, target_meter=2, return_info=True)\n",
        "#valid_score, models2, y_pred_valid, y_train = objective(optuna.trial.FixedTrial(params), fast_check=False, target_meter=2, return_info=True)\n",
        "sns.distplot(y_pred_valid, label='pred')\n",
        "sns.distplot(y_train, label='ground truth')\n",
        "plt.legend()\n",
        "plt.show()\n",
        "\n",
        "del y_pred_valid, y_train"
      ],
      "execution_count": 0,
      "outputs": []
    },
    {
      "cell_type": "code",
      "metadata": {
        "id": "hn81lxNzWINL",
        "colab_type": "code",
        "colab": {}
      },
      "source": [
        "# For meter 3\n",
        "#1105\n",
        "valid_score, models3, y_pred_valid, y_train = objective(optuna.trial.FixedTrial(study.best_params), fast_check=False, target_meter=3, return_info=True)\n",
        "#valid_score, models3, y_pred_valid, y_train = objective(optuna.trial.FixedTrial(params), fast_check=False, target_meter=3, return_info=True)\n",
        "\n",
        "sns.distplot(y_pred_valid, label='pred')\n",
        "sns.distplot(y_train, label='ground truth')\n",
        "plt.legend()\n",
        "plt.show()\n",
        "\n",
        "del y_pred_valid, y_train"
      ],
      "execution_count": 0,
      "outputs": []
    },
    {
      "cell_type": "code",
      "metadata": {
        "id": "3AhTvHQ9WJ3Q",
        "colab_type": "code",
        "outputId": "235aa989-ba28-4376-c9c5-8481ad464beb",
        "colab": {
          "base_uri": "https://localhost:8080/",
          "height": 35
        }
      },
      "source": [
        "try:\n",
        "    del train_df\n",
        "    del train_df_original\n",
        "    del weather_train_df\n",
        "except:\n",
        "    pass\n",
        "gc.collect()"
      ],
      "execution_count": 0,
      "outputs": [
        {
          "output_type": "execute_result",
          "data": {
            "text/plain": [
              "9646"
            ]
          },
          "metadata": {
            "tags": []
          },
          "execution_count": 60
        }
      ]
    },
    {
      "cell_type": "code",
      "metadata": {
        "id": "1BmuYDBNWLXw",
        "colab_type": "code",
        "colab": {}
      },
      "source": [
        "print('loading...')\n",
        "test_df = reduce_mem_usage(pd.read_csv('test.csv', parse_dates=['timestamp']))\n",
        "weather_test_df = reduce_mem_usage(pd.read_csv('weather_test.csv', parse_dates=['timestamp']))\n",
        "\n",
        "print('preprocessing building...')\n",
        "test_df['date'] = test_df['timestamp'].dt.date\n",
        "preprocess(test_df)\n",
        "\n",
        "print('preprocessing weather...')\n",
        "weather_test_d = fill_weather_dataset(weather_test_d)\n",
        "weather_test_df = timestamp_align(weather_test_df)\n",
        "weather_test_df = weather_test_df.groupby('site_id').apply(lambda group: group.interpolate(limit_direction='both'))\n",
        "weather_test_df.groupby('site_id').apply(lambda group: group.isna().sum())\n",
        "add_holiday(weather_test_df)\n",
        "add_lag_feature(weather_test_df, window=3)\n",
        "#add_lag_feature(weather_test_df, window=24)\n",
        "add_lag_feature(weather_test_df, window=72)\n",
        "\n",
        "print('reduce mem usage...')\n",
        "weather_test_df = weather_test_df[['site_id', 'timestamp'] + weather_cols + ['offset', 'IsHoliday']]\n",
        "reduce_mem_usage(test_df, use_float16=True)\n",
        "reduce_mem_usage(weather_test_df, use_float16=False)\n",
        "\n",
        "gc.collect()"
      ],
      "execution_count": 0,
      "outputs": []
    },
    {
      "cell_type": "code",
      "metadata": {
        "id": "HGOYvgbRVX2Z",
        "colab_type": "code",
        "outputId": "5d4a0dea-e082-44e2-b6ac-c646b136af25",
        "colab": {
          "base_uri": "https://localhost:8080/",
          "height": 52
        }
      },
      "source": [
        "'''\n",
        "#テストデータ畳み込み\n",
        "#スコア下がるため未使用\n",
        "\n",
        "turn_start = datetime.date(2017, 8, 1)\n",
        "turn_end = datetime.date(2017, 11, 1)\n",
        "cnv_df = test_df.query('(\"2017-08-01\" < timestamp &  timestamp < \"2017-11-01\" )')\n",
        "test_df = test_df.query('not (\"2017-08-01\" < timestamp &  timestamp < \"2017-11-01\" )')\n",
        "for item in conv:\n",
        "  bid = item % 10000\n",
        "  m = item // 10000\n",
        "  tmp = cnv_df.loc[(cnv_df['building_id'] == bid) & (cnv_df['meter'] == m)]\n",
        "  if len(tmp) > 0 :\n",
        "    cnv_df.loc[(cnv_df['building_id'] == bid) & (cnv_df['meter'] == m),'timestamp'] = cnv_df[(cnv_df['building_id'] == bid) & (cnv_df['meter'] == m)]['timestamp'] - ((cnv_df[(cnv_df['building_id'] == bid) & (cnv_df['meter'] == m)]['timestamp'].dt.date  - turn_start) * 2)\n",
        "  \n",
        "preprocess(cnv_df)\n",
        "print(test_df.shape,cnv_df.shape)\n",
        "test_df =pd.concat([test_df,cnv_df])\n",
        "print(test_df.shape)\n",
        "del cnv_df\n",
        "\n",
        "turn_start = datetime.date(2018, 8, 1)\n",
        "turn_end = datetime.date(2018, 11, 1)\n",
        "cnv_df = test_df.query('(\"2018-08-01\" < timestamp &  timestamp < \"2018-11-01\" )')\n",
        "test_df = test_df.query('not (\"2018-08-01\" < timestamp &  timestamp < \"2018-11-01\" )')\n",
        "for item in conv:\n",
        "  bid = item % 10000\n",
        "  m = item // 10000\n",
        "  tmp = cnv_df.loc[(cnv_df['building_id'] == bid) & (cnv_df['meter'] == m)]\n",
        "  if len(tmp) > 0 :\n",
        "    cnv_df.loc[(cnv_df['building_id'] == bid) & (cnv_df['meter'] == m),'timestamp'] = cnv_df[(cnv_df['building_id'] == bid) & (cnv_df['meter'] == m)]['timestamp'] - ((cnv_df[(cnv_df['building_id'] == bid) & (cnv_df['meter'] == m)]['timestamp'].dt.date  - turn_start) * 2)\n",
        "  \n",
        "preprocess(cnv_df)\n",
        "print(test_df.shape,cnv_df.shape)\n",
        "test_df =pd.concat([test_df,cnv_df])\n",
        "print(test_df.shape)\n",
        "del cnv_df\n",
        "'''"
      ],
      "execution_count": 0,
      "outputs": [
        {
          "output_type": "stream",
          "text": [
            "(36444940, 9) (5252660, 9)\n",
            "(41697600, 9)\n"
          ],
          "name": "stdout"
        }
      ]
    },
    {
      "cell_type": "code",
      "metadata": {
        "id": "6nR8j9leWt9J",
        "colab_type": "code",
        "outputId": "857443d9-195c-4a32-bd21-80fe95d9a002",
        "colab": {
          "base_uri": "https://localhost:8080/",
          "height": 35
        }
      },
      "source": [
        "del df_2d\n",
        "del site_ids_offsets\n",
        "gc.collect()"
      ],
      "execution_count": 0,
      "outputs": [
        {
          "output_type": "execute_result",
          "data": {
            "text/plain": [
              "503"
            ]
          },
          "metadata": {
            "tags": []
          },
          "execution_count": 64
        }
      ]
    },
    {
      "cell_type": "code",
      "metadata": {
        "id": "8OLrB8z2WwJ-",
        "colab_type": "code",
        "colab": {}
      },
      "source": [
        "def create_X(test_df, target_meter):\n",
        "    target_test_df = test_df[test_df['meter'] == target_meter]\n",
        "    target_test_df = target_test_df.merge(building_meta_df, on='building_id', how='left', copy=False)\n",
        "    target_test_df = pd.merge(target_test_df, building_stats_df, on=['building_id', 'meter'], how='left', copy=False)\n",
        "    target_test_df = target_test_df.merge(weather_test_df, on=['site_id', 'timestamp'], how='left', copy=False)\n",
        "    X_test = target_test_df[feature_cols + category_cols]\n",
        "    return X_test\n",
        "\n",
        "def pred(X_test, models, batch_size=1000000):\n",
        "    iterations = (X_test.shape[0] + batch_size -1) // batch_size\n",
        "    print('iterations', iterations)\n",
        "\n",
        "    y_test_pred_total = np.zeros(X_test.shape[0])\n",
        "    for i, model in enumerate(models):\n",
        "        print(f'predicting {i}-th model')\n",
        "        for k in tqdm(range(iterations)):\n",
        "            y_pred_test = model.predict(X_test[k*batch_size:(k+1)*batch_size], num_iteration=model.best_iteration)\n",
        "            y_test_pred_total[k*batch_size:(k+1)*batch_size] += y_pred_test\n",
        "\n",
        "    y_test_pred_total /= len(models)\n",
        "    return y_test_pred_total"
      ],
      "execution_count": 0,
      "outputs": []
    },
    {
      "cell_type": "code",
      "metadata": {
        "id": "azXya30EWy2o",
        "colab_type": "code",
        "colab": {}
      },
      "source": [
        "%%time\n",
        "X_test = create_X(test_df, target_meter=0)\n",
        "gc.collect()\n",
        "\n",
        "y_test0 = pred(X_test, models0)\n",
        "\n",
        "del X_test\n",
        "gc.collect()"
      ],
      "execution_count": 0,
      "outputs": []
    },
    {
      "cell_type": "code",
      "metadata": {
        "id": "B74z01oSW1Ev",
        "colab_type": "code",
        "colab": {}
      },
      "source": [
        "%%time\n",
        "X_test = create_X(test_df, target_meter=1)\n",
        "gc.collect()\n",
        "y_test1 = pred(X_test, models1)\n",
        "\n",
        "del X_test\n",
        "gc.collect()"
      ],
      "execution_count": 0,
      "outputs": []
    },
    {
      "cell_type": "code",
      "metadata": {
        "id": "HjXeRiOCW3K_",
        "colab_type": "code",
        "colab": {}
      },
      "source": [
        "%%time\n",
        "X_test = create_X(test_df, target_meter=2)\n",
        "gc.collect()\n",
        "y_test2 = pred(X_test, models2)\n",
        "\n",
        "del X_test\n",
        "gc.collect()"
      ],
      "execution_count": 0,
      "outputs": []
    },
    {
      "cell_type": "code",
      "metadata": {
        "id": "TCdS_qJoW5N_",
        "colab_type": "code",
        "colab": {}
      },
      "source": [
        "%%time\n",
        "X_test = create_X(test_df, target_meter=3)\n",
        "gc.collect()\n",
        "y_test3 = pred(X_test, models3)\n",
        "\n",
        "del X_test\n",
        "gc.collect()"
      ],
      "execution_count": 0,
      "outputs": []
    },
    {
      "cell_type": "code",
      "metadata": {
        "id": "kb9HX2gVXCMP",
        "colab_type": "code",
        "outputId": "d2fbac61-a7e5-451c-d4ef-72867940e84b",
        "colab": {
          "base_uri": "https://localhost:8080/",
          "height": 482
        }
      },
      "source": [
        "gdrive_dl('sample_submission.csv')\n",
        "sample_submission = pd.read_csv('sample_submission.csv')\n",
        "reduce_mem_usage(sample_submission)"
      ],
      "execution_count": 0,
      "outputs": [
        {
          "output_type": "stream",
          "text": [
            "GoogleドライブからColab環境への[sample_submission.csv]ファイル取り込みが完了しました.\n",
            "Memory usage of dataframe is 636.26 MB\n",
            "Memory usage after optimization is: 198.83 MB\n",
            "Decreased by 68.7%\n"
          ],
          "name": "stdout"
        },
        {
          "output_type": "execute_result",
          "data": {
            "text/html": [
              "<div>\n",
              "<style scoped>\n",
              "    .dataframe tbody tr th:only-of-type {\n",
              "        vertical-align: middle;\n",
              "    }\n",
              "\n",
              "    .dataframe tbody tr th {\n",
              "        vertical-align: top;\n",
              "    }\n",
              "\n",
              "    .dataframe thead th {\n",
              "        text-align: right;\n",
              "    }\n",
              "</style>\n",
              "<table border=\"1\" class=\"dataframe\">\n",
              "  <thead>\n",
              "    <tr style=\"text-align: right;\">\n",
              "      <th></th>\n",
              "      <th>row_id</th>\n",
              "      <th>meter_reading</th>\n",
              "    </tr>\n",
              "  </thead>\n",
              "  <tbody>\n",
              "    <tr>\n",
              "      <th>0</th>\n",
              "      <td>0</td>\n",
              "      <td>0</td>\n",
              "    </tr>\n",
              "    <tr>\n",
              "      <th>1</th>\n",
              "      <td>1</td>\n",
              "      <td>0</td>\n",
              "    </tr>\n",
              "    <tr>\n",
              "      <th>2</th>\n",
              "      <td>2</td>\n",
              "      <td>0</td>\n",
              "    </tr>\n",
              "    <tr>\n",
              "      <th>3</th>\n",
              "      <td>3</td>\n",
              "      <td>0</td>\n",
              "    </tr>\n",
              "    <tr>\n",
              "      <th>4</th>\n",
              "      <td>4</td>\n",
              "      <td>0</td>\n",
              "    </tr>\n",
              "    <tr>\n",
              "      <th>...</th>\n",
              "      <td>...</td>\n",
              "      <td>...</td>\n",
              "    </tr>\n",
              "    <tr>\n",
              "      <th>41697595</th>\n",
              "      <td>41697595</td>\n",
              "      <td>0</td>\n",
              "    </tr>\n",
              "    <tr>\n",
              "      <th>41697596</th>\n",
              "      <td>41697596</td>\n",
              "      <td>0</td>\n",
              "    </tr>\n",
              "    <tr>\n",
              "      <th>41697597</th>\n",
              "      <td>41697597</td>\n",
              "      <td>0</td>\n",
              "    </tr>\n",
              "    <tr>\n",
              "      <th>41697598</th>\n",
              "      <td>41697598</td>\n",
              "      <td>0</td>\n",
              "    </tr>\n",
              "    <tr>\n",
              "      <th>41697599</th>\n",
              "      <td>41697599</td>\n",
              "      <td>0</td>\n",
              "    </tr>\n",
              "  </tbody>\n",
              "</table>\n",
              "<p>41697600 rows × 2 columns</p>\n",
              "</div>"
            ],
            "text/plain": [
              "            row_id  meter_reading\n",
              "0                0              0\n",
              "1                1              0\n",
              "2                2              0\n",
              "3                3              0\n",
              "4                4              0\n",
              "...            ...            ...\n",
              "41697595  41697595              0\n",
              "41697596  41697596              0\n",
              "41697597  41697597              0\n",
              "41697598  41697598              0\n",
              "41697599  41697599              0\n",
              "\n",
              "[41697600 rows x 2 columns]"
            ]
          },
          "metadata": {
            "tags": []
          },
          "execution_count": 8
        }
      ]
    },
    {
      "cell_type": "markdown",
      "metadata": {
        "id": "7FGnneFFoA5q",
        "colab_type": "text"
      },
      "source": [
        "#予測結果検証開始"
      ]
    },
    {
      "cell_type": "code",
      "metadata": {
        "id": "MJhBOVWNh-yI",
        "colab_type": "code",
        "colab": {}
      },
      "source": [
        "\n",
        "gdrive_dl('0.956BestSubmission.csv')\n",
        "sample_submission2 = pd.read_csv('0.956BestSubmission.csv') \n",
        "test_df = reduce_mem_usage(pd.read_csv('test.csv', parse_dates=['timestamp']))\n",
        "test_df = test_df.loc[test_df['timestamp'] <\"2018-01-01\"]\n",
        "test_df = pd.merge(test_df,sample_submission2, on=['row_id'],how='left')\n",
        "test_df = test_df[test_df['building_id'] > 290]\n",
        "test_df = test_df[test_df['building_id'] < 1324]\n",
        "test_df = test_df[~((test_df['building_id'] < 655) & (test_df['building_id'] > 564) & (test_df['meter'] == 0))]\n",
        "preprocess_ex(test_df)\n",
        "del test_df['dayofweek'],test_df['weekend'],test_df['row_id'],test_df['timestamp']\n",
        "test_df = reduce_mem_usage(test_df)\n",
        "test_df = test_df.rename(columns={'meter_reading': 'test1'})\n",
        "\n",
        "gdrive_dl('halfhalf.csv')\n",
        "sample_submission2 = pd.read_csv('halfhalf.csv') \n",
        "test2_df = reduce_mem_usage(pd.read_csv('test.csv', parse_dates=['timestamp']))\n",
        "test2_df = test2_df.loc[test2_df['timestamp'] <\"2018-01-01\"]\n",
        "test2_df = pd.merge(test2_df,sample_submission2, on=['row_id'],how='left')\n",
        "test2_df = test2_df[test2_df['building_id'] > 290]\n",
        "test2_df = test2_df[test2_df['building_id'] < 1324]\n",
        "test2_df = test2_df[~((test2_df['building_id'] < 655) & (test2_df['building_id'] > 564) & (test2_df['meter'] == 0))]\n",
        "preprocess_ex(test2_df)\n",
        "del test2_df['dayofweek'],test2_df['weekend'],test2_df['row_id'],test2_df['timestamp']\n",
        "test2_df = reduce_mem_usage(test2_df)\n",
        "test2_df = test2_df.rename(columns={'meter_reading': 'test2'})\n",
        "\n",
        "gdrive_dl('1.08aitude.csv')\n",
        "sample_submission3 = pd.read_csv('1.08aitude.csv') \n",
        "test3_df = reduce_mem_usage(pd.read_csv('test.csv', parse_dates=['timestamp']))\n",
        "test3_df = test3_df.loc[test3_df['timestamp'] <\"2018-01-01\"]\n",
        "test3_df = pd.merge(test3_df,sample_submission3, on=['row_id'],how='left')\n",
        "test3_df = test3_df[test3_df['building_id'] > 290]\n",
        "test3_df = test3_df[test3_df['building_id'] < 1324]\n",
        "test3_df = test3_df[~((test3_df['building_id'] < 655) & (test3_df['building_id'] > 564) & (test3_df['meter'] == 0))]\n",
        "preprocess_ex(test3_df)\n",
        "del test3_df['dayofweek'],test3_df['weekend'],test3_df['row_id'],test3_df['timestamp']\n",
        "test3_df = reduce_mem_usage(test3_df)\n",
        "test3_df = test3_df.rename(columns={'meter_reading': 'test3'})\n"
      ],
      "execution_count": 0,
      "outputs": []
    },
    {
      "cell_type": "code",
      "metadata": {
        "id": "UYbDe8PNSOfE",
        "colab_type": "code",
        "outputId": "f8d8c97a-7b81-45cd-f4fd-912f23962e59",
        "colab": {
          "base_uri": "https://localhost:8080/",
          "height": 200
        }
      },
      "source": [
        "train_df.head()"
      ],
      "execution_count": 0,
      "outputs": [
        {
          "output_type": "execute_result",
          "data": {
            "text/html": [
              "<div>\n",
              "<style scoped>\n",
              "    .dataframe tbody tr th:only-of-type {\n",
              "        vertical-align: middle;\n",
              "    }\n",
              "\n",
              "    .dataframe tbody tr th {\n",
              "        vertical-align: top;\n",
              "    }\n",
              "\n",
              "    .dataframe thead th {\n",
              "        text-align: right;\n",
              "    }\n",
              "</style>\n",
              "<table border=\"1\" class=\"dataframe\">\n",
              "  <thead>\n",
              "    <tr style=\"text-align: right;\">\n",
              "      <th></th>\n",
              "      <th>building_id</th>\n",
              "      <th>meter</th>\n",
              "      <th>base</th>\n",
              "      <th>hour</th>\n",
              "      <th>month</th>\n",
              "      <th>day</th>\n",
              "      <th>timestamp</th>\n",
              "    </tr>\n",
              "  </thead>\n",
              "  <tbody>\n",
              "    <tr>\n",
              "      <th>453</th>\n",
              "      <td>291</td>\n",
              "      <td>0</td>\n",
              "      <td>125.879997</td>\n",
              "      <td>0</td>\n",
              "      <td>1</td>\n",
              "      <td>1</td>\n",
              "      <td>2016-01-01</td>\n",
              "    </tr>\n",
              "    <tr>\n",
              "      <th>454</th>\n",
              "      <td>292</td>\n",
              "      <td>0</td>\n",
              "      <td>136.800003</td>\n",
              "      <td>0</td>\n",
              "      <td>1</td>\n",
              "      <td>1</td>\n",
              "      <td>2016-01-01</td>\n",
              "    </tr>\n",
              "    <tr>\n",
              "      <th>455</th>\n",
              "      <td>293</td>\n",
              "      <td>0</td>\n",
              "      <td>624.619995</td>\n",
              "      <td>0</td>\n",
              "      <td>1</td>\n",
              "      <td>1</td>\n",
              "      <td>2016-01-01</td>\n",
              "    </tr>\n",
              "    <tr>\n",
              "      <th>456</th>\n",
              "      <td>294</td>\n",
              "      <td>0</td>\n",
              "      <td>59.290001</td>\n",
              "      <td>0</td>\n",
              "      <td>1</td>\n",
              "      <td>1</td>\n",
              "      <td>2016-01-01</td>\n",
              "    </tr>\n",
              "    <tr>\n",
              "      <th>457</th>\n",
              "      <td>295</td>\n",
              "      <td>0</td>\n",
              "      <td>27.700001</td>\n",
              "      <td>0</td>\n",
              "      <td>1</td>\n",
              "      <td>1</td>\n",
              "      <td>2016-01-01</td>\n",
              "    </tr>\n",
              "  </tbody>\n",
              "</table>\n",
              "</div>"
            ],
            "text/plain": [
              "     building_id  meter        base  hour  month  day  timestamp\n",
              "453          291      0  125.879997     0      1    1 2016-01-01\n",
              "454          292      0  136.800003     0      1    1 2016-01-01\n",
              "455          293      0  624.619995     0      1    1 2016-01-01\n",
              "456          294      0   59.290001     0      1    1 2016-01-01\n",
              "457          295      0   27.700001     0      1    1 2016-01-01"
            ]
          },
          "metadata": {
            "tags": []
          },
          "execution_count": 41
        }
      ]
    },
    {
      "cell_type": "code",
      "metadata": {
        "id": "7qV1ERe9kDNu",
        "colab_type": "code",
        "outputId": "73985afa-4761-4298-97f1-cd45ca7837c9",
        "colab": {
          "base_uri": "https://localhost:8080/",
          "height": 70
        }
      },
      "source": [
        "#前処理まで\n",
        "preprocess_ex(train_df)\n",
        "train_df = train_df[train_df['building_id'] > 290]\n",
        "train_df = train_df[train_df['building_id'] < 1324]\n",
        "train_df = train_df[~((train_df['building_id'] < 655) & (train_df['building_id'] > 564) & (train_df['meter'] == 0))]\n",
        "train_df = train_df[['building_id','meter','base','hour','month','day','timestamp']]#meter_reading\n",
        "train_df['building_id'] = train_df['building_id'].astype(np.int64)\n",
        "train_df['meter'] = train_df['meter'].astype(np.int64)\n",
        "train_df = train_df.rename(columns={'meter_reading': 'base'})\n",
        "train_df = reduce_mem_usage(train_df)"
      ],
      "execution_count": 0,
      "outputs": [
        {
          "output_type": "stream",
          "text": [
            "Memory usage of dataframe is 840.74 MB\n",
            "Memory usage after optimization is: 364.32 MB\n",
            "Decreased by 56.7%\n"
          ],
          "name": "stdout"
        }
      ]
    },
    {
      "cell_type": "code",
      "metadata": {
        "id": "VWQ792BDyR17",
        "colab_type": "code",
        "colab": {}
      },
      "source": [
        "import numpy as np\n",
        "from sklearn.metrics import mean_squared_error\n",
        "def rmsle(y_true: np.ndarray, y_pred: np.ndarray) -> np.float64:\n",
        "    rmsle = mean_squared_error(np.log1p(y_true), np.log1p(y_pred))\n",
        "    return np.sqrt(rmsle)"
      ],
      "execution_count": 0,
      "outputs": []
    },
    {
      "cell_type": "code",
      "metadata": {
        "id": "arLpmPp1ytp4",
        "colab_type": "code",
        "outputId": "5b4d3abb-100d-4f77-a830-28926a662930",
        "colab": {
          "base_uri": "https://localhost:8080/",
          "height": 411
        }
      },
      "source": [
        "merge = pd.merge(train_df,test_df, on=['building_id','meter','month','day','hour'],how='left')\n",
        "del test_df\n",
        "merge = pd.merge(merge,test2_df, on=['building_id','meter','month','day','hour'],how='left')\n",
        "del test2_df\n",
        "merge = pd.merge(merge,test3_df, on=['building_id','meter','month','day','hour'],how='left')\n",
        "del test3_df\n",
        "merge"
      ],
      "execution_count": 0,
      "outputs": [
        {
          "output_type": "execute_result",
          "data": {
            "text/html": [
              "<div>\n",
              "<style scoped>\n",
              "    .dataframe tbody tr th:only-of-type {\n",
              "        vertical-align: middle;\n",
              "    }\n",
              "\n",
              "    .dataframe tbody tr th {\n",
              "        vertical-align: top;\n",
              "    }\n",
              "\n",
              "    .dataframe thead th {\n",
              "        text-align: right;\n",
              "    }\n",
              "</style>\n",
              "<table border=\"1\" class=\"dataframe\">\n",
              "  <thead>\n",
              "    <tr style=\"text-align: right;\">\n",
              "      <th></th>\n",
              "      <th>building_id</th>\n",
              "      <th>meter</th>\n",
              "      <th>base</th>\n",
              "      <th>hour</th>\n",
              "      <th>month</th>\n",
              "      <th>day</th>\n",
              "      <th>timestamp</th>\n",
              "      <th>test1</th>\n",
              "      <th>test2</th>\n",
              "      <th>test3</th>\n",
              "    </tr>\n",
              "  </thead>\n",
              "  <tbody>\n",
              "    <tr>\n",
              "      <th>0</th>\n",
              "      <td>291</td>\n",
              "      <td>0</td>\n",
              "      <td>125.879997</td>\n",
              "      <td>0</td>\n",
              "      <td>1</td>\n",
              "      <td>1</td>\n",
              "      <td>2016-01-01 00:00:00</td>\n",
              "      <td>143.130905</td>\n",
              "      <td>139.748825</td>\n",
              "      <td>149.116562</td>\n",
              "    </tr>\n",
              "    <tr>\n",
              "      <th>1</th>\n",
              "      <td>292</td>\n",
              "      <td>0</td>\n",
              "      <td>136.800003</td>\n",
              "      <td>0</td>\n",
              "      <td>1</td>\n",
              "      <td>1</td>\n",
              "      <td>2016-01-01 00:00:00</td>\n",
              "      <td>86.293098</td>\n",
              "      <td>72.515732</td>\n",
              "      <td>85.429840</td>\n",
              "    </tr>\n",
              "    <tr>\n",
              "      <th>2</th>\n",
              "      <td>293</td>\n",
              "      <td>0</td>\n",
              "      <td>624.619995</td>\n",
              "      <td>0</td>\n",
              "      <td>1</td>\n",
              "      <td>1</td>\n",
              "      <td>2016-01-01 00:00:00</td>\n",
              "      <td>547.333130</td>\n",
              "      <td>523.676025</td>\n",
              "      <td>563.438538</td>\n",
              "    </tr>\n",
              "    <tr>\n",
              "      <th>3</th>\n",
              "      <td>294</td>\n",
              "      <td>0</td>\n",
              "      <td>59.290001</td>\n",
              "      <td>0</td>\n",
              "      <td>1</td>\n",
              "      <td>1</td>\n",
              "      <td>2016-01-01 00:00:00</td>\n",
              "      <td>35.359699</td>\n",
              "      <td>32.227516</td>\n",
              "      <td>35.671875</td>\n",
              "    </tr>\n",
              "    <tr>\n",
              "      <th>4</th>\n",
              "      <td>295</td>\n",
              "      <td>0</td>\n",
              "      <td>27.700001</td>\n",
              "      <td>0</td>\n",
              "      <td>1</td>\n",
              "      <td>1</td>\n",
              "      <td>2016-01-01 00:00:00</td>\n",
              "      <td>33.631199</td>\n",
              "      <td>30.534683</td>\n",
              "      <td>35.792892</td>\n",
              "    </tr>\n",
              "    <tr>\n",
              "      <th>...</th>\n",
              "      <td>...</td>\n",
              "      <td>...</td>\n",
              "      <td>...</td>\n",
              "      <td>...</td>\n",
              "      <td>...</td>\n",
              "      <td>...</td>\n",
              "      <td>...</td>\n",
              "      <td>...</td>\n",
              "      <td>...</td>\n",
              "      <td>...</td>\n",
              "    </tr>\n",
              "    <tr>\n",
              "      <th>14692912</th>\n",
              "      <td>1318</td>\n",
              "      <td>0</td>\n",
              "      <td>184.091003</td>\n",
              "      <td>19</td>\n",
              "      <td>12</td>\n",
              "      <td>31</td>\n",
              "      <td>2016-12-31 19:00:00</td>\n",
              "      <td>119.167099</td>\n",
              "      <td>179.859482</td>\n",
              "      <td>112.608665</td>\n",
              "    </tr>\n",
              "    <tr>\n",
              "      <th>14692913</th>\n",
              "      <td>1318</td>\n",
              "      <td>0</td>\n",
              "      <td>181.565994</td>\n",
              "      <td>20</td>\n",
              "      <td>12</td>\n",
              "      <td>31</td>\n",
              "      <td>2016-12-31 20:00:00</td>\n",
              "      <td>120.220200</td>\n",
              "      <td>180.512207</td>\n",
              "      <td>112.451782</td>\n",
              "    </tr>\n",
              "    <tr>\n",
              "      <th>14692914</th>\n",
              "      <td>1318</td>\n",
              "      <td>0</td>\n",
              "      <td>184.675995</td>\n",
              "      <td>21</td>\n",
              "      <td>12</td>\n",
              "      <td>31</td>\n",
              "      <td>2016-12-31 21:00:00</td>\n",
              "      <td>118.963699</td>\n",
              "      <td>177.309570</td>\n",
              "      <td>114.328522</td>\n",
              "    </tr>\n",
              "    <tr>\n",
              "      <th>14692915</th>\n",
              "      <td>1318</td>\n",
              "      <td>0</td>\n",
              "      <td>197.557007</td>\n",
              "      <td>22</td>\n",
              "      <td>12</td>\n",
              "      <td>31</td>\n",
              "      <td>2016-12-31 22:00:00</td>\n",
              "      <td>117.115501</td>\n",
              "      <td>158.396469</td>\n",
              "      <td>111.900917</td>\n",
              "    </tr>\n",
              "    <tr>\n",
              "      <th>14692916</th>\n",
              "      <td>1318</td>\n",
              "      <td>0</td>\n",
              "      <td>202.893005</td>\n",
              "      <td>23</td>\n",
              "      <td>12</td>\n",
              "      <td>31</td>\n",
              "      <td>2016-12-31 23:00:00</td>\n",
              "      <td>113.309898</td>\n",
              "      <td>150.741409</td>\n",
              "      <td>110.022758</td>\n",
              "    </tr>\n",
              "  </tbody>\n",
              "</table>\n",
              "<p>14692917 rows × 10 columns</p>\n",
              "</div>"
            ],
            "text/plain": [
              "          building_id  meter        base  ...       test1       test2       test3\n",
              "0                 291      0  125.879997  ...  143.130905  139.748825  149.116562\n",
              "1                 292      0  136.800003  ...   86.293098   72.515732   85.429840\n",
              "2                 293      0  624.619995  ...  547.333130  523.676025  563.438538\n",
              "3                 294      0   59.290001  ...   35.359699   32.227516   35.671875\n",
              "4                 295      0   27.700001  ...   33.631199   30.534683   35.792892\n",
              "...               ...    ...         ...  ...         ...         ...         ...\n",
              "14692912         1318      0  184.091003  ...  119.167099  179.859482  112.608665\n",
              "14692913         1318      0  181.565994  ...  120.220200  180.512207  112.451782\n",
              "14692914         1318      0  184.675995  ...  118.963699  177.309570  114.328522\n",
              "14692915         1318      0  197.557007  ...  117.115501  158.396469  111.900917\n",
              "14692916         1318      0  202.893005  ...  113.309898  150.741409  110.022758\n",
              "\n",
              "[14692917 rows x 10 columns]"
            ]
          },
          "metadata": {
            "tags": []
          },
          "execution_count": 43
        }
      ]
    },
    {
      "cell_type": "code",
      "metadata": {
        "id": "Rt8EsOeg6ol4",
        "colab_type": "code",
        "outputId": "8bef0a6e-220e-438e-fadd-aad2b989c519",
        "colab": {
          "base_uri": "https://localhost:8080/",
          "height": 35
        }
      },
      "source": [
        "\n",
        "merge = merge[~merge.duplicated(['building_id', 'meter','month','day','hour'])]\n",
        "merge = merge.dropna(how='any')\n",
        "len(merge['base'].isnull())\n"
      ],
      "execution_count": 0,
      "outputs": [
        {
          "output_type": "execute_result",
          "data": {
            "text/plain": [
              "13071948"
            ]
          },
          "metadata": {
            "tags": []
          },
          "execution_count": 44
        }
      ]
    },
    {
      "cell_type": "code",
      "metadata": {
        "id": "Fmuh-QU-kW4g",
        "colab_type": "code",
        "colab": {}
      },
      "source": [
        "\n",
        "pair = merge[~merge.duplicated(['building_id', 'meter','month','day','hour'])]\n",
        "for bid in pair['building_id'].unique():\n",
        "  for mid in pair[pair['building_id'] == bid]['meter'].unique():\n",
        "    tmp = merge[(merge['building_id'] == bid) & (merge['meter'] == mid)]\n",
        "\n",
        "    result = rmsle(tmp['base'],tmp['test1'])\n",
        "    result2 = rmsle(tmp['base'],tmp['test2'])\n",
        "    result3 = rmsle(tmp['base'],tmp['test3'])\n",
        "    if (result > 2) & (result < 2.5):\n",
        "      print ('building_id=',bid,',meter=',mid,',score=',result,',score2=',result2,',score3=',result3)\n"
      ],
      "execution_count": 0,
      "outputs": []
    },
    {
      "cell_type": "code",
      "metadata": {
        "id": "LIryuQkwbFdK",
        "colab_type": "code",
        "outputId": "77804c3f-640d-4950-fa9f-3b8f643a2d69",
        "colab": {
          "base_uri": "https://localhost:8080/",
          "height": 357
        }
      },
      "source": [
        "bid = 1221\n",
        "m = 0\n",
        "import seaborn as sns\n",
        "import matplotlib.pyplot as plt\n",
        "sns.set()\n",
        "sns.set_context(\"notebook\")\n",
        "plt.figure(figsize=(10, 5))\n",
        "\n",
        "sns.lineplot(x=\"timestamp\", y=\"test1\",data= merge[(merge['building_id'] == bid) & (merge['meter'] == m)])\n"
      ],
      "execution_count": 0,
      "outputs": [
        {
          "output_type": "execute_result",
          "data": {
            "text/plain": [
              "<matplotlib.axes._subplots.AxesSubplot at 0x7f8a2e37aa90>"
            ]
          },
          "metadata": {
            "tags": []
          },
          "execution_count": 242
        },
        {
          "output_type": "display_data",
          "data": {
            "image/png": "[encoded data removed]",
            "text/plain": [
              "<Figure size 720x360 with 1 Axes>"
            ]
          },
          "metadata": {
            "tags": []
          }
        }
      ]
    },
    {
      "cell_type": "code",
      "metadata": {
        "id": "qAF1qb0lcGOR",
        "colab_type": "code",
        "outputId": "04ef8665-005d-4b9d-8c54-714118f80149",
        "colab": {
          "base_uri": "https://localhost:8080/",
          "height": 357
        }
      },
      "source": [
        "plt.figure(figsize=(10, 5))\n",
        "sns.lineplot(x=\"timestamp\", y=\"base\",data=merge[(merge['building_id'] == bid) & (merge['meter'] == m)])"
      ],
      "execution_count": 0,
      "outputs": [
        {
          "output_type": "execute_result",
          "data": {
            "text/plain": [
              "<matplotlib.axes._subplots.AxesSubplot at 0x7f8a2e2fbe48>"
            ]
          },
          "metadata": {
            "tags": []
          },
          "execution_count": 243
        },
        {
          "output_type": "display_data",
          "data": {
            "image/png": "[encoded data removed]",
            "text/plain": [
              "<Figure size 720x360 with 1 Axes>"
            ]
          },
          "metadata": {
            "tags": []
          }
        }
      ]
    },
    {
      "cell_type": "markdown",
      "metadata": {
        "id": "w7OUbaVteCZT",
        "colab_type": "text"
      },
      "source": [
        "#結果検証終了"
      ]
    },
    {
      "cell_type": "code",
      "metadata": {
        "id": "bCibsNemXF9_",
        "colab_type": "code",
        "colab": {}
      },
      "source": [
        "sample_submission.loc[test_df['meter'] == 0, 'meter_reading'] = np.expm1(y_test0)\n",
        "sample_submission.loc[test_df['meter'] == 1, 'meter_reading'] = np.expm1(y_test1)\n",
        "sample_submission.loc[test_df['meter'] == 2, 'meter_reading'] = np.expm1(y_test2)\n",
        "sample_submission.loc[test_df['meter'] == 3, 'meter_reading'] = np.expm1(y_test3)\n",
        "sample_submission['meter_reading'] = sample_submission['meter_reading'].clip(lower=0)#1105ADD"
      ],
      "execution_count": 0,
      "outputs": []
    },
    {
      "cell_type": "code",
      "metadata": {
        "id": "23qOeYosQgA4",
        "colab_type": "code",
        "colab": {}
      },
      "source": [
        "sample_submission.to_csv('1215_sample_submission_org.csv')\n",
        "gdrive_up('1215_sample_submission_org.csv')"
      ],
      "execution_count": 0,
      "outputs": []
    },
    {
      "cell_type": "code",
      "metadata": {
        "colab_type": "code",
        "id": "fJqtb6bWeQGt",
        "outputId": "26fa92a3-ac40-448b-952f-63502b1ccc71",
        "colab": {
          "base_uri": "https://localhost:8080/",
          "height": 307
        }
      },
      "source": [
        "'''#トレーニングデータアンサンブル\n",
        "import pandas.tseries.offsets as offsets\n",
        "train_df = reduce_mem_usage(pd.read_csv('train.csv', parse_dates=['timestamp']))\n",
        "off = reduce_mem_usage(train_df)\n",
        "off2 = off\n",
        "off['timestamp'] = off['timestamp'] + offsets.MonthOffset(12)\n",
        "off2['timestamp'] = off2['timestamp'] + offsets.MonthOffset(24)\n",
        "off = pd.concat([off,off2])\n",
        "del off2\n",
        "off.timestamp = pd.to_datetime(off.timestamp)\n",
        "off.head()\n",
        "'''"
      ],
      "execution_count": 0,
      "outputs": [
        {
          "output_type": "stream",
          "text": [
            "Memory usage of dataframe is 616.95 MB\n",
            "Memory usage after optimization is: 289.19 MB\n",
            "Decreased by 53.1%\n",
            "Memory usage of dataframe is 289.19 MB\n",
            "Memory usage after optimization is: 289.19 MB\n",
            "Decreased by 0.0%\n"
          ],
          "name": "stdout"
        },
        {
          "output_type": "execute_result",
          "data": {
            "text/html": [
              "<div>\n",
              "<style scoped>\n",
              "    .dataframe tbody tr th:only-of-type {\n",
              "        vertical-align: middle;\n",
              "    }\n",
              "\n",
              "    .dataframe tbody tr th {\n",
              "        vertical-align: top;\n",
              "    }\n",
              "\n",
              "    .dataframe thead th {\n",
              "        text-align: right;\n",
              "    }\n",
              "</style>\n",
              "<table border=\"1\" class=\"dataframe\">\n",
              "  <thead>\n",
              "    <tr style=\"text-align: right;\">\n",
              "      <th></th>\n",
              "      <th>building_id</th>\n",
              "      <th>meter</th>\n",
              "      <th>timestamp</th>\n",
              "      <th>meter_reading</th>\n",
              "    </tr>\n",
              "  </thead>\n",
              "  <tbody>\n",
              "    <tr>\n",
              "      <th>0</th>\n",
              "      <td>0</td>\n",
              "      <td>0</td>\n",
              "      <td>2019-01-01</td>\n",
              "      <td>0.0</td>\n",
              "    </tr>\n",
              "    <tr>\n",
              "      <th>1</th>\n",
              "      <td>1</td>\n",
              "      <td>0</td>\n",
              "      <td>2019-01-01</td>\n",
              "      <td>0.0</td>\n",
              "    </tr>\n",
              "    <tr>\n",
              "      <th>2</th>\n",
              "      <td>2</td>\n",
              "      <td>0</td>\n",
              "      <td>2019-01-01</td>\n",
              "      <td>0.0</td>\n",
              "    </tr>\n",
              "    <tr>\n",
              "      <th>3</th>\n",
              "      <td>3</td>\n",
              "      <td>0</td>\n",
              "      <td>2019-01-01</td>\n",
              "      <td>0.0</td>\n",
              "    </tr>\n",
              "    <tr>\n",
              "      <th>4</th>\n",
              "      <td>4</td>\n",
              "      <td>0</td>\n",
              "      <td>2019-01-01</td>\n",
              "      <td>0.0</td>\n",
              "    </tr>\n",
              "  </tbody>\n",
              "</table>\n",
              "</div>"
            ],
            "text/plain": [
              "   building_id  meter  timestamp  meter_reading\n",
              "0            0      0 2019-01-01            0.0\n",
              "1            1      0 2019-01-01            0.0\n",
              "2            2      0 2019-01-01            0.0\n",
              "3            3      0 2019-01-01            0.0\n",
              "4            4      0 2019-01-01            0.0"
            ]
          },
          "metadata": {
            "tags": []
          },
          "execution_count": 29
        }
      ]
    },
    {
      "cell_type": "markdown",
      "metadata": {
        "id": "h_yB35spE2ce",
        "colab_type": "text"
      },
      "source": [
        "#Min-Max Round"
      ]
    },
    {
      "cell_type": "code",
      "metadata": {
        "id": "CjioNhijNoBL",
        "colab_type": "code",
        "outputId": "e1e8d5d2-7c5b-4018-bdfa-f6d9d851b1c6",
        "colab": {
          "base_uri": "https://localhost:8080/",
          "height": 159
        }
      },
      "source": [
        "'''\n",
        "#Month Round　効果なし\n",
        "gdrive_dl('1210_Bestsubmission.csv')\n",
        "sample_submission = pd.read_csv('1210_Bestsubmission.csv') \n",
        "test_df = reduce_mem_usage(pd.read_csv('test.csv', parse_dates=['timestamp']))\n",
        "preprocess(test_df)\n",
        "test_df = pd.merge(test_df,sample_submission, on=['row_id'],how='left')\n",
        "test_df = test_df[['row_id','building_id','month','meter','meter_reading']]\n",
        "max = train_df.groupby(['building_id','meter','month']).max().reset_index()[['building_id','meter','month', 'meter_reading']]\n",
        "max = max.rename(columns={'meter_reading': 'meter_reading_max'})\n",
        "min = train_df.groupby(['building_id','meter','month']).min().reset_index()[['building_id','meter','month', 'meter_reading']]\n",
        "min = min.rename(columns={'meter_reading': 'meter_reading_min'})\n",
        "maxmin = pd.merge(max,min,how='inner',on=['building_id','meter','month'])\n",
        "del max ,min\n",
        "print(test_df.shape)\n",
        "test_df = pd.merge(test_df,maxmin,how='left',on=['building_id','meter','month'])\n",
        "print(test_df.shape)\n",
        "test_df.loc[test_df['meter_reading_max'].isnull(),'meter_reading_max'] = test_df['meter_reading']\n",
        "test_df.loc[test_df['meter_reading_min'].isnull(),'meter_reading_min'] = test_df['meter_reading']\n",
        "print(len(test_df[test_df['meter_reading_max'] < test_df['meter_reading']]))\n",
        "print(len(test_df[test_df['meter_reading'] < test_df['meter_reading_min']]))\n",
        "test_df.loc[test_df['meter_reading_max'] < test_df['meter_reading'], 'meter_reading'] = test_df['meter_reading_max']\n",
        "test_df.loc[test_df['meter_reading'] < test_df['meter_reading_min'], 'meter_reading'] = test_df['meter_reading_min']\n",
        "test_df = test_df[['row_id','meter_reading']]\n",
        "sample_submission = sample_submission.merge(test_df,how='inner',on='row_id')\n",
        "sample_submission = sample_submission.rename(columns={'meter_reading_x': 'meter_reading'})\n",
        "sample_submission = sample_submission[['row_id','meter_reading']]\n",
        "'''"
      ],
      "execution_count": 0,
      "outputs": [
        {
          "output_type": "stream",
          "text": [
            "GoogleドライブからColab環境への[1210_Bestsubmission.csv]ファイル取り込みが完了しました.\n",
            "Memory usage of dataframe is 1272.51 MB\n",
            "Memory usage after optimization is: 596.49 MB\n",
            "Decreased by 53.1%\n",
            "(41697600, 5)\n",
            "(41697600, 7)\n",
            "1449368\n",
            "1681806\n"
          ],
          "name": "stdout"
        }
      ]
    },
    {
      "cell_type": "code",
      "metadata": {
        "id": "720af5UPAc-o",
        "colab_type": "code",
        "outputId": "fae7c120-d330-4330-eac4-493cc518b947",
        "colab": {
          "base_uri": "https://localhost:8080/",
          "height": 141
        }
      },
      "source": [
        "'''\n",
        "#Dayofweek Round 1212　効果なし\n",
        "test_df = reduce_mem_usage(pd.read_csv('test.csv', parse_dates=['timestamp']))\n",
        "preprocess(test_df)\n",
        "test_df = pd.merge(test_df,sample_submission, on=['row_id'],how='left')\n",
        "test_df = test_df[['row_id','building_id','month','dayofweek','meter','meter_reading']]\n",
        "max = train_df.groupby(['building_id','meter','month','dayofweek']).max().reset_index()[['building_id','meter','month','dayofweek', 'meter_reading']]\n",
        "max = max.rename(columns={'meter_reading': 'meter_reading_max'})\n",
        "min = train_df.groupby(['building_id','meter','month','dayofweek']).min().reset_index()[['building_id','meter','month','dayofweek', 'meter_reading']]\n",
        "min = min.rename(columns={'meter_reading': 'meter_reading_min'})\n",
        "maxmin = pd.merge(max,min,how='inner',on=['building_id','meter','month','dayofweek'])\n",
        "del max ,min\n",
        "print(test_df.shape)\n",
        "test_df = pd.merge(test_df,maxmin,how='left',on=['building_id','meter','month','dayofweek'])\n",
        "print(test_df.shape)\n",
        "test_df.loc[test_df['meter_reading_max'].isnull(),'meter_reading_max'] = test_df['meter_reading']\n",
        "test_df.loc[test_df['meter_reading_min'].isnull(),'meter_reading_min'] = test_df['meter_reading']\n",
        "print(len(test_df[test_df['meter_reading_max'] < test_df['meter_reading']]))\n",
        "print(len(test_df[test_df['meter_reading'] < test_df['meter_reading_min']]))\n",
        "test_df.loc[test_df['meter_reading_max'] < test_df['meter_reading'], 'meter_reading'] = test_df['meter_reading_max']\n",
        "test_df.loc[test_df['meter_reading'] < test_df['meter_reading_min'], 'meter_reading'] = test_df['meter_reading_min']\n",
        "test_df = test_df[['row_id','meter_reading']]\n",
        "sample_submission = sample_submission.merge(test_df,how='inner',on='row_id')\n",
        "sample_submission = sample_submission.rename(columns={'meter_reading_x': 'meter_reading'})\n",
        "sample_submission = sample_submission[['row_id','meter_reading']]\n",
        "'''"
      ],
      "execution_count": 0,
      "outputs": [
        {
          "output_type": "stream",
          "text": [
            "Memory usage of dataframe is 1272.51 MB\n",
            "Memory usage after optimization is: 596.49 MB\n",
            "Decreased by 53.1%\n",
            "(41697600, 6)\n",
            "(41697600, 8)\n",
            "2662576\n",
            "4211225\n"
          ],
          "name": "stdout"
        }
      ]
    },
    {
      "cell_type": "markdown",
      "metadata": {
        "id": "2o7wyQWD2sYq",
        "colab_type": "text"
      },
      "source": [
        "#Training Validation"
      ]
    },
    {
      "cell_type": "code",
      "metadata": {
        "id": "cQH7efKEBrmL",
        "colab_type": "code",
        "outputId": "2cfdb0aa-1bb3-410d-d228-da3986529035",
        "colab": {
          "base_uri": "https://localhost:8080/",
          "height": 342
        }
      },
      "source": [
        "'''660 662 666 667 669　677 トレーニングアンサンブルと一部の予測値を別のサブミッションファイルで上書き\n",
        "gdrive_dl('1210_Bestsubmission.csv')\n",
        "sample_submission = pd.read_csv('1210_Bestsubmission.csv') \n",
        "test_df = reduce_mem_usage(pd.read_csv('test.csv', parse_dates=['timestamp']))\n",
        "test_df['date'] = test_df['timestamp'].dt.date\n",
        "preprocess_ex(test_df)\n",
        "\n",
        "test_df = pd.merge(sample_submission,test_df,how ='left',on='row_id')\n",
        "test_df = test_df[['row_id','building_id','meter','meter_reading','hour','month','day']]\n",
        "\n",
        "gdrive_dl('halfhalf.csv')\n",
        "sample_submission = pd.read_csv('halfhalf.csv') \n",
        "test_df = pd.merge(sample_submission,test_df,how ='left',on='row_id')\n",
        "test_df = reduce_mem_usage(test_df)\n",
        "test_df.head()\n",
        "'''"
      ],
      "execution_count": 0,
      "outputs": [
        {
          "output_type": "stream",
          "text": [
            "GoogleドライブからColab環境への[1210_Bestsubmission.csv]ファイル取り込みが完了しました.\n",
            "Memory usage of dataframe is 1272.51 MB\n",
            "Memory usage after optimization is: 596.49 MB\n",
            "Decreased by 53.1%\n",
            "GoogleドライブからColab環境への[halfhalf.csv]ファイル取り込みが完了しました.\n",
            "Memory usage of dataframe is 2346.19 MB\n",
            "Memory usage after optimization is: 1033.91 MB\n",
            "Decreased by 55.9%\n"
          ],
          "name": "stdout"
        },
        {
          "output_type": "execute_result",
          "data": {
            "text/html": [
              "<div>\n",
              "<style scoped>\n",
              "    .dataframe tbody tr th:only-of-type {\n",
              "        vertical-align: middle;\n",
              "    }\n",
              "\n",
              "    .dataframe tbody tr th {\n",
              "        vertical-align: top;\n",
              "    }\n",
              "\n",
              "    .dataframe thead th {\n",
              "        text-align: right;\n",
              "    }\n",
              "</style>\n",
              "<table border=\"1\" class=\"dataframe\">\n",
              "  <thead>\n",
              "    <tr style=\"text-align: right;\">\n",
              "      <th></th>\n",
              "      <th>row_id</th>\n",
              "      <th>meter_reading_x</th>\n",
              "      <th>building_id</th>\n",
              "      <th>meter</th>\n",
              "      <th>meter_reading_y</th>\n",
              "      <th>hour</th>\n",
              "      <th>month</th>\n",
              "      <th>day</th>\n",
              "    </tr>\n",
              "  </thead>\n",
              "  <tbody>\n",
              "    <tr>\n",
              "      <th>0</th>\n",
              "      <td>0</td>\n",
              "      <td>92.729485</td>\n",
              "      <td>0</td>\n",
              "      <td>0</td>\n",
              "      <td>173.370300</td>\n",
              "      <td>0</td>\n",
              "      <td>1</td>\n",
              "      <td>1</td>\n",
              "    </tr>\n",
              "    <tr>\n",
              "      <th>1</th>\n",
              "      <td>1</td>\n",
              "      <td>41.220722</td>\n",
              "      <td>1</td>\n",
              "      <td>0</td>\n",
              "      <td>53.512699</td>\n",
              "      <td>0</td>\n",
              "      <td>1</td>\n",
              "      <td>1</td>\n",
              "    </tr>\n",
              "    <tr>\n",
              "      <th>2</th>\n",
              "      <td>2</td>\n",
              "      <td>2.686540</td>\n",
              "      <td>2</td>\n",
              "      <td>0</td>\n",
              "      <td>6.143000</td>\n",
              "      <td>0</td>\n",
              "      <td>1</td>\n",
              "      <td>1</td>\n",
              "    </tr>\n",
              "    <tr>\n",
              "      <th>3</th>\n",
              "      <td>3</td>\n",
              "      <td>139.413605</td>\n",
              "      <td>3</td>\n",
              "      <td>0</td>\n",
              "      <td>101.701500</td>\n",
              "      <td>0</td>\n",
              "      <td>1</td>\n",
              "      <td>1</td>\n",
              "    </tr>\n",
              "    <tr>\n",
              "      <th>4</th>\n",
              "      <td>4</td>\n",
              "      <td>620.063782</td>\n",
              "      <td>4</td>\n",
              "      <td>0</td>\n",
              "      <td>1141.240723</td>\n",
              "      <td>0</td>\n",
              "      <td>1</td>\n",
              "      <td>1</td>\n",
              "    </tr>\n",
              "  </tbody>\n",
              "</table>\n",
              "</div>"
            ],
            "text/plain": [
              "   row_id  meter_reading_x  building_id  ...  hour  month  day\n",
              "0       0        92.729485            0  ...     0      1    1\n",
              "1       1        41.220722            1  ...     0      1    1\n",
              "2       2         2.686540            2  ...     0      1    1\n",
              "3       3       139.413605            3  ...     0      1    1\n",
              "4       4       620.063782            4  ...     0      1    1\n",
              "\n",
              "[5 rows x 8 columns]"
            ]
          },
          "metadata": {
            "tags": []
          },
          "execution_count": 58
        }
      ]
    },
    {
      "cell_type": "code",
      "metadata": {
        "id": "1A5utiXP6aJ0",
        "colab_type": "code",
        "outputId": "afa0c334-df38-4287-abc1-f42d24ab8740",
        "colab": {
          "base_uri": "https://localhost:8080/",
          "height": 253
        }
      },
      "source": [
        "'''\n",
        "#外れ値の除外終了まで\n",
        "preprocess_ex(train_df)\n",
        "train_df = train_df[['building_id','meter','meter_reading','hour','month','day']]\n",
        "train_df['building_id'] = train_df['building_id'].astype(np.int64)\n",
        "train_df['meter'] = train_df['meter'].astype(np.int64)\n",
        "train_df = train_df.rename(columns={'meter_reading': 'base'})\n",
        "train_df = reduce_mem_usage(train_df)\n",
        "test_df = pd.merge(test_df,train_df,how ='left',on=['building_id','meter','hour','day','month'])\n",
        "test_df.loc[test_df['base'] < 0,'base'] = test_df['meter_reading_x']\n",
        "#print(len(test_df.loc[abs(test_df['base'] - test_df['meter_reading_x']) > abs(test_df['base'] - test_df['meter_reading_y'])))\n",
        "test_df.loc[abs(test_df['base'] - test_df['meter_reading_x']) > abs(test_df['base'] - test_df['meter_reading_y']),'meter_reading_x'] =  test_df['meter_reading_y']\n",
        "test_df = test_df[['row_id','meter_reading_x']]\n",
        "test_df = test_df.rename(columns={'meter_reading_x': 'meter_reading'})\n",
        "test_df.tail()\n",
        "test_df = test_df.drop_duplicates(subset='row_id',keep='last')\n",
        "sample_submission = test_df\n",
        "'''"
      ],
      "execution_count": 0,
      "outputs": [
        {
          "output_type": "stream",
          "text": [
            "Memory usage of dataframe is 1246.35 MB\n",
            "Memory usage after optimization is: 400.61 MB\n",
            "Decreased by 67.9%\n"
          ],
          "name": "stdout"
        },
        {
          "output_type": "execute_result",
          "data": {
            "text/html": [
              "<div>\n",
              "<style scoped>\n",
              "    .dataframe tbody tr th:only-of-type {\n",
              "        vertical-align: middle;\n",
              "    }\n",
              "\n",
              "    .dataframe tbody tr th {\n",
              "        vertical-align: top;\n",
              "    }\n",
              "\n",
              "    .dataframe thead th {\n",
              "        text-align: right;\n",
              "    }\n",
              "</style>\n",
              "<table border=\"1\" class=\"dataframe\">\n",
              "  <thead>\n",
              "    <tr style=\"text-align: right;\">\n",
              "      <th></th>\n",
              "      <th>row_id</th>\n",
              "      <th>meter_reading_x</th>\n",
              "      <th>building_id</th>\n",
              "      <th>meter</th>\n",
              "      <th>meter_reading_y</th>\n",
              "      <th>hour</th>\n",
              "      <th>month</th>\n",
              "      <th>day</th>\n",
              "      <th>base</th>\n",
              "    </tr>\n",
              "  </thead>\n",
              "  <tbody>\n",
              "    <tr>\n",
              "      <th>0</th>\n",
              "      <td>0</td>\n",
              "      <td>92.729485</td>\n",
              "      <td>0</td>\n",
              "      <td>0</td>\n",
              "      <td>173.370300</td>\n",
              "      <td>0</td>\n",
              "      <td>1</td>\n",
              "      <td>1</td>\n",
              "      <td>NaN</td>\n",
              "    </tr>\n",
              "    <tr>\n",
              "      <th>1</th>\n",
              "      <td>1</td>\n",
              "      <td>41.220722</td>\n",
              "      <td>1</td>\n",
              "      <td>0</td>\n",
              "      <td>53.512699</td>\n",
              "      <td>0</td>\n",
              "      <td>1</td>\n",
              "      <td>1</td>\n",
              "      <td>NaN</td>\n",
              "    </tr>\n",
              "    <tr>\n",
              "      <th>2</th>\n",
              "      <td>2</td>\n",
              "      <td>2.686540</td>\n",
              "      <td>2</td>\n",
              "      <td>0</td>\n",
              "      <td>6.143000</td>\n",
              "      <td>0</td>\n",
              "      <td>1</td>\n",
              "      <td>1</td>\n",
              "      <td>NaN</td>\n",
              "    </tr>\n",
              "    <tr>\n",
              "      <th>3</th>\n",
              "      <td>3</td>\n",
              "      <td>139.413605</td>\n",
              "      <td>3</td>\n",
              "      <td>0</td>\n",
              "      <td>101.701500</td>\n",
              "      <td>0</td>\n",
              "      <td>1</td>\n",
              "      <td>1</td>\n",
              "      <td>NaN</td>\n",
              "    </tr>\n",
              "    <tr>\n",
              "      <th>4</th>\n",
              "      <td>4</td>\n",
              "      <td>620.063782</td>\n",
              "      <td>4</td>\n",
              "      <td>0</td>\n",
              "      <td>1141.240723</td>\n",
              "      <td>0</td>\n",
              "      <td>1</td>\n",
              "      <td>1</td>\n",
              "      <td>NaN</td>\n",
              "    </tr>\n",
              "  </tbody>\n",
              "</table>\n",
              "</div>"
            ],
            "text/plain": [
              "   row_id  meter_reading_x  building_id  meter  ...  hour  month  day  base\n",
              "0       0        92.729485            0      0  ...     0      1    1   NaN\n",
              "1       1        41.220722            1      0  ...     0      1    1   NaN\n",
              "2       2         2.686540            2      0  ...     0      1    1   NaN\n",
              "3       3       139.413605            3      0  ...     0      1    1   NaN\n",
              "4       4       620.063782            4      0  ...     0      1    1   NaN\n",
              "\n",
              "[5 rows x 9 columns]"
            ]
          },
          "metadata": {
            "tags": []
          },
          "execution_count": 60
        }
      ]
    },
    {
      "cell_type": "markdown",
      "metadata": {
        "id": "D2-gPSGaDvFt",
        "colab_type": "text"
      },
      "source": [
        "#予測が大外れの値を別のサブミッションファイルで上書き\n",
        "\n"
      ]
    },
    {
      "cell_type": "code",
      "metadata": {
        "id": "PjZzb3bJFhMG",
        "colab_type": "code",
        "outputId": "d770492a-a9f1-4f2f-f177-c396b9ccdd87",
        "colab": {
          "base_uri": "https://localhost:8080/",
          "height": 159
        }
      },
      "source": [
        "#線形回帰が大外れの箇所の置換 1072\n",
        "test_df = reduce_mem_usage(pd.read_csv('test.csv', parse_dates=['timestamp']))\n",
        "test_df['date'] = test_df['timestamp'].dt.date\n",
        "preprocess_ex(test_df)\n",
        "gdrive_dl('halfhalf.csv')\n",
        "sample_submission = pd.read_csv('halfhalf.csv') \n",
        "test_df = pd.merge(sample_submission,test_df,how ='left',on='row_id')\n",
        "test_df = reduce_mem_usage(test_df)\n",
        "test_df = test_df.loc[((test_df['building_id'].isin([1072,1079,1098,1305]) & (test_df['meter'] == 2)) | (test_df['building_id'].isin([1219]) & (test_df['meter'] == 1)) | ((test_df['building_id'].isin([1099]) & (test_df['meter'] == 0))))]\n",
        "test_df = test_df[['row_id','meter_reading']]\n",
        "gdrive_dl('0.956BestSubmission.csv')\n",
        "sample_submission = pd.read_csv('0.956BestSubmission.csv') \n",
        "sample_submission = pd.merge(sample_submission,test_df,how ='left',on='row_id')\n",
        "sample_submission.loc[~sample_submission['meter_reading_y'].isnull(),'meter_reading_x'] = sample_submission[~sample_submission['meter_reading_y'].isnull()]['meter_reading_y']\n",
        "sample_submission = sample_submission.rename(columns={'meter_reading_x': 'meter_reading'})\n",
        "del sample_submission['meter_reading_y']"
      ],
      "execution_count": 0,
      "outputs": [
        {
          "output_type": "stream",
          "text": [
            "Memory usage of dataframe is 1272.51 MB\n",
            "Memory usage after optimization is: 596.49 MB\n",
            "Decreased by 53.1%\n",
            "GoogleドライブからColab環境への[halfhalf.csv]ファイル取り込みが完了しました.\n",
            "Memory usage of dataframe is 3022.21 MB\n",
            "Memory usage after optimization is: 1471.36 MB\n",
            "Decreased by 51.3%\n",
            "GoogleドライブからColab環境への[0.957BestSubmission.csv]ファイル取り込みが完了しました.\n"
          ],
          "name": "stdout"
        }
      ]
    },
    {
      "cell_type": "code",
      "metadata": {
        "id": "_mZplFhlkTEU",
        "colab_type": "code",
        "outputId": "54fc6c22-5e15-410f-94b8-a7a0296701fb",
        "colab": {
          "base_uri": "https://localhost:8080/",
          "height": 159
        }
      },
      "source": [
        "#Half Half\n",
        "'''\n",
        "test_df = reduce_mem_usage(pd.read_csv('test.csv', parse_dates=['timestamp']))\n",
        "test_df['date'] = test_df['timestamp'].dt.date\n",
        "preprocess_ex(test_df)\n",
        "gdrive_dl('halfhalf.csv')\n",
        "sample_submission = pd.read_csv('halfhalf.csv') \n",
        "test_df = pd.merge(sample_submission,test_df,how ='left',on='row_id')\n",
        "test_df = reduce_mem_usage(test_df)\n",
        "test_df = test_df.loc[(test_df['building_id'].isin([660,662,660,662,666,667,669,677,683,686,688,690,696,697,698,700,703,704,705,706,709,710,711,712,713,715,716,717,718,719,720,722,725,728,729,731,734,737,747,748])) & (test_df['meter'] == 0)]\n",
        "test_df = test_df[['row_id','meter_reading']]\n",
        "gdrive_dl('1210_Bestsubmission.csv')\n",
        "sample_submission = pd.read_csv('1210_Bestsubmission.csv') \n",
        "sample_submission = pd.merge(sample_submission,test_df,how ='left',on='row_id')\n",
        "sample_submission.loc[~sample_submission['meter_reading_y'].isnull(),'meter_reading_x'] = sample_submission[~sample_submission['meter_reading_y'].isnull()]['meter_reading_y']\n",
        "sample_submission = sample_submission.rename(columns={'meter_reading_x': 'meter_reading'})\n",
        "del sample_submission['meter_reading_y']\n",
        "'''"
      ],
      "execution_count": 0,
      "outputs": [
        {
          "output_type": "stream",
          "text": [
            "Memory usage of dataframe is 1272.51 MB\n",
            "Memory usage after optimization is: 596.49 MB\n",
            "Decreased by 53.1%\n",
            "GoogleドライブからColab環境への[halfhalf.csv]ファイル取り込みが完了しました.\n",
            "Memory usage of dataframe is 3022.21 MB\n",
            "Memory usage after optimization is: 1471.36 MB\n",
            "Decreased by 51.3%\n",
            "GoogleドライブからColab環境への[1210_Bestsubmission.csv]ファイル取り込みが完了しました.\n"
          ],
          "name": "stdout"
        }
      ]
    },
    {
      "cell_type": "code",
      "metadata": {
        "id": "OBX7-OEhjWsU",
        "colab_type": "code",
        "outputId": "05d7c215-5801-49c9-9c2d-24179cef02d2",
        "colab": {
          "base_uri": "https://localhost:8080/",
          "height": 411
        }
      },
      "source": [
        "sample_submission"
      ],
      "execution_count": 0,
      "outputs": [
        {
          "output_type": "execute_result",
          "data": {
            "text/html": [
              "<div>\n",
              "<style scoped>\n",
              "    .dataframe tbody tr th:only-of-type {\n",
              "        vertical-align: middle;\n",
              "    }\n",
              "\n",
              "    .dataframe tbody tr th {\n",
              "        vertical-align: top;\n",
              "    }\n",
              "\n",
              "    .dataframe thead th {\n",
              "        text-align: right;\n",
              "    }\n",
              "</style>\n",
              "<table border=\"1\" class=\"dataframe\">\n",
              "  <thead>\n",
              "    <tr style=\"text-align: right;\">\n",
              "      <th></th>\n",
              "      <th>row_id</th>\n",
              "      <th>meter_reading</th>\n",
              "    </tr>\n",
              "  </thead>\n",
              "  <tbody>\n",
              "    <tr>\n",
              "      <th>0</th>\n",
              "      <td>0</td>\n",
              "      <td>173.3703</td>\n",
              "    </tr>\n",
              "    <tr>\n",
              "      <th>1</th>\n",
              "      <td>1</td>\n",
              "      <td>53.5127</td>\n",
              "    </tr>\n",
              "    <tr>\n",
              "      <th>2</th>\n",
              "      <td>2</td>\n",
              "      <td>6.1430</td>\n",
              "    </tr>\n",
              "    <tr>\n",
              "      <th>3</th>\n",
              "      <td>3</td>\n",
              "      <td>101.7015</td>\n",
              "    </tr>\n",
              "    <tr>\n",
              "      <th>4</th>\n",
              "      <td>4</td>\n",
              "      <td>1141.2407</td>\n",
              "    </tr>\n",
              "    <tr>\n",
              "      <th>...</th>\n",
              "      <td>...</td>\n",
              "      <td>...</td>\n",
              "    </tr>\n",
              "    <tr>\n",
              "      <th>41697595</th>\n",
              "      <td>41697595</td>\n",
              "      <td>6.5129</td>\n",
              "    </tr>\n",
              "    <tr>\n",
              "      <th>41697596</th>\n",
              "      <td>41697596</td>\n",
              "      <td>5.1714</td>\n",
              "    </tr>\n",
              "    <tr>\n",
              "      <th>41697597</th>\n",
              "      <td>41697597</td>\n",
              "      <td>0.3910</td>\n",
              "    </tr>\n",
              "    <tr>\n",
              "      <th>41697598</th>\n",
              "      <td>41697598</td>\n",
              "      <td>174.7597</td>\n",
              "    </tr>\n",
              "    <tr>\n",
              "      <th>41697599</th>\n",
              "      <td>41697599</td>\n",
              "      <td>3.7278</td>\n",
              "    </tr>\n",
              "  </tbody>\n",
              "</table>\n",
              "<p>41697600 rows × 2 columns</p>\n",
              "</div>"
            ],
            "text/plain": [
              "            row_id  meter_reading\n",
              "0                0       173.3703\n",
              "1                1        53.5127\n",
              "2                2         6.1430\n",
              "3                3       101.7015\n",
              "4                4      1141.2407\n",
              "...            ...            ...\n",
              "41697595  41697595         6.5129\n",
              "41697596  41697596         5.1714\n",
              "41697597  41697597         0.3910\n",
              "41697598  41697598       174.7597\n",
              "41697599  41697599         3.7278\n",
              "\n",
              "[41697600 rows x 2 columns]"
            ]
          },
          "metadata": {
            "tags": []
          },
          "execution_count": 246
        }
      ]
    },
    {
      "cell_type": "markdown",
      "metadata": {
        "id": "tmjBQap9LVSE",
        "colab_type": "text"
      },
      "source": [
        "#公開リークデータ上書き　\n",
        "site0 1 2 4 15"
      ]
    },
    {
      "cell_type": "code",
      "metadata": {
        "id": "YlITGKR0DxQA",
        "colab_type": "code",
        "outputId": "36b985a1-0b33-4fa7-f9bf-dceed8b7616b",
        "colab": {
          "base_uri": "https://localhost:8080/",
          "height": 88
        }
      },
      "source": [
        "import feather\n",
        "gdrive_dl('leak.feather')\n",
        "test_df = reduce_mem_usage(pd.read_csv('test.csv', parse_dates=['timestamp']))\n",
        "#データフレームの読み込み\n",
        "leak_df = feather.read_dataframe('leak.feather')\n",
        "leak_df.head()\n",
        "\n",
        "leak_df = pd.merge(leak_df,test_df, on = ['building_id', 'meter', 'timestamp'], how = \"inner\")\n",
        "leak_df = leak_df[['row_id','meter_reading']]\n",
        "\n",
        "sample_submission = pd.merge(sample_submission,leak_df, on ='row_id',how='left')\n",
        "sample_submission = sample_submission.rename(columns={'meter_reading_x': 'meter_reading'})\n",
        "sample_submission.loc[sample_submission['meter_reading_y'] >= -1,'meter_reading'] =sample_submission['meter_reading_y']\n",
        "sample_submission = sample_submission[['row_id','meter_reading']]"
      ],
      "execution_count": 0,
      "outputs": [
        {
          "output_type": "stream",
          "text": [
            "GoogleドライブからColab環境への[leak.feather]ファイル取り込みが完了しました.\n",
            "Memory usage of dataframe is 1272.51 MB\n",
            "Memory usage after optimization is: 596.49 MB\n",
            "Decreased by 53.1%\n"
          ],
          "name": "stdout"
        }
      ]
    },
    {
      "cell_type": "code",
      "metadata": {
        "id": "b-VnM303XI5N",
        "colab_type": "code",
        "colab": {}
      },
      "source": [
        "sample_submission.to_csv('1214_2submission.csv', index=False, float_format='%.4f')"
      ],
      "execution_count": 0,
      "outputs": []
    },
    {
      "cell_type": "code",
      "metadata": {
        "id": "B8GwiXCF0tBB",
        "colab_type": "code",
        "colab": {}
      },
      "source": [
        "gdrive_up('1214_2submission.csv')"
      ],
      "execution_count": 0,
      "outputs": []
    },
    {
      "cell_type": "code",
      "metadata": {
        "id": "gzAU6k5I914k",
        "colab_type": "code",
        "outputId": "f92ed769-3722-49aa-aabd-7fd04dafda17",
        "colab": {
          "base_uri": "https://localhost:8080/",
          "height": 70
        }
      },
      "source": [
        "!kaggle competitions submit -c ashrae-energy-prediction -f 1214_2submission.csv -m \"liner re bug fix\""
      ],
      "execution_count": 0,
      "outputs": [
        {
          "output_type": "stream",
          "text": [
            "Warning: Looks like you're using an outdated API Version, please consider updating (server 1.5.6 / client 1.5.4)\n",
            "100% 679M/679M [00:33<00:00, 21.5MB/s]\n",
            "Successfully submitted to ASHRAE - Great Energy Predictor III"
          ],
          "name": "stdout"
        }
      ]
    },
    {
      "cell_type": "code",
      "metadata": {
        "id": "2abxkO-zUgjL",
        "colab_type": "code",
        "outputId": "9d9c311b-4f90-48fb-fe2c-30dad1b0a737",
        "colab": {
          "base_uri": "https://localhost:8080/",
          "height": 426
        }
      },
      "source": [
        "!kaggle competitions submissions -c ashrae-energy-prediction"
      ],
      "execution_count": 0,
      "outputs": [
        {
          "output_type": "stream",
          "text": [
            "Warning: Looks like you're using an outdated API Version, please consider updating (server 1.5.6 / client 1.5.4)\n",
            "fileName                     date                 description                  status    publicScore  privateScore  \n",
            "---------------------------  -------------------  ---------------------------  --------  -----------  ------------  \n",
            "1214_2submission.csv         2019-12-14 11:37:15  liner re bug fix             complete  0.956        None          \n",
            "1214_submission.csv          2019-12-14 05:17:23  training val                 complete  0.999        None          \n",
            "1213_2submission.csv         2019-12-13 14:44:34  half                         complete  0.961        None          \n",
            "1213_submission.csv          2019-12-13 14:06:18  shuffle                      complete  0.961        None          \n",
            "1212_submission.csv          2019-12-12 12:00:19  dayofweek round              complete  0.958        None          \n",
            "1211_2submission.csv         2019-12-11 14:26:05  training unsamble            complete  0.977        None          \n",
            "1211_submission.csv          2019-12-11 13:28:25  leak_feather replace         complete  0.957        None          \n",
            "1210_2submission.csv         2019-12-10 14:07:14  leak_feather replace         complete  0.957        None          \n",
            "1210submission.csv           2019-12-10 13:25:27  min max round                complete  0.957        None          \n",
            "12092sample_submission.csv   2019-12-09 22:36:52  site4 leak                   complete  0.967        None          \n",
            "1209sample_submission.csv    2019-12-09 12:37:12  site4 leak                   complete  0.957        None          \n",
            "1208_2sample_submission.csv  2019-12-08 14:01:00  unsamble                     complete  0.957        None          \n",
            "1207_2sample_submission.csv  2019-12-08 13:50:17  unsamble                     complete  2.147        None          \n",
            "1207_2sample_submission.csv  2019-12-07 12:43:36  unsamble                     complete  0.959        None          \n",
            "1207sample_submission.csv    2019-12-07 12:19:44  auto outer drop              complete  0.986        None          \n",
            "1203_2sample_submission.csv  2019-12-06 12:33:47  0.97 unsamble                complete  0.961        None          \n",
            "1206_sample_submission.csv   2019-12-06 11:35:27  Another 1.08 LB no leakBase  complete  0.985        None          \n",
            "1206_sample_submission.csv   2019-12-06 11:12:01  Another 1.08 LB no leakBase  error     None         None          \n",
            "1206_sample_submission.csv   2019-12-06 10:44:36  Another 1.08 LB no leakBase  error     None         None          \n",
            "1203_2sample_submission.csv  2019-12-03 13:22:27  0.97 unsamble                complete  0.960        None          \n"
          ],
          "name": "stdout"
        }
      ]
    }
  ]
}